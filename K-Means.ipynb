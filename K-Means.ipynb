{
 "cells": [
  {
   "cell_type": "code",
   "execution_count": 6,
   "metadata": {},
   "outputs": [],
   "source": [
    "import numpy as np\n",
    "import pandas as pd \n",
    "from sklearn.model_selection import train_test_split, GridSearchCV,cross_val_score\n",
    "from sklearn.metrics import mean_squared_error, r2_score\n",
    "import matplotlib.pyplot as plt\n",
    "from sklearn.preprocessing import scale \n",
    "from sklearn import model_selection\n",
    "from sklearn.tree import DecisionTreeRegressor, DecisionTreeClassifier\n",
    "from sklearn.neighbors import KNeighborsRegressor\n",
    "from sklearn.ensemble import BaggingRegressor\n",
    "from warnings import filterwarnings\n",
    "filterwarnings('ignore')\n",
    "from sklearn.svm import SVR\n",
    "from sklearn.decomposition import PCA"
   ]
  },
  {
   "cell_type": "code",
   "execution_count": 7,
   "metadata": {},
   "outputs": [
    {
     "data": {
      "text/plain": [
       "(   ind_5  ind_6  ind_8      ind_9     ind_10     ind_12     ind_13  ind_14  \\\n",
       " 0   19.0   17.0  100.0  85.714286  14.285714  72.363515  60.808814   23.80   \n",
       " 1   24.0   19.0  100.0  78.571429  21.428571  74.275883  64.366798   11.45   \n",
       " 2   30.0   24.0  100.0  71.428571  28.571429  75.140402  65.915803    8.75   \n",
       " 3   37.0   30.0  100.0  64.285714  35.714286  76.677846  68.584234    7.80   \n",
       " 4   41.0   37.0  100.0  57.142857  42.857143  81.603007  76.455495   14.90   \n",
       " \n",
       "    ind_15  ind_16  ...  ind_407  ind_410   ind_412  ind_414  ind_416  ind_418  \\\n",
       " 0   17.62   11.73  ...    -23.0    -27.0  0.002371      2.0    -49.6    -54.0   \n",
       " 1   18.16   12.22  ...    -16.0    -31.0  0.003074      0.8    -55.6    -60.0   \n",
       " 2   17.86   12.28  ...    -10.0    -30.0  0.003561      2.7    -58.4    -60.0   \n",
       " 3   14.76   12.61  ...    -10.0    -30.0  0.004366      0.9    -61.8    -65.0   \n",
       " 4   11.92   14.25  ...    -24.0    -45.0  0.004198      0.1    -79.8    -86.0   \n",
       " \n",
       "    ind_424   ind_426   ind_428  ind_109_GREEN  \n",
       " 0      1.0  0.498547  0.701906              1  \n",
       " 1      1.0  0.537088  0.690833              1  \n",
       " 2      1.0  0.615169  0.693040              1  \n",
       " 3      1.0  0.661517  0.673418              1  \n",
       " 4      1.0  0.747204  0.700522              1  \n",
       " \n",
       " [5 rows x 131 columns],)"
      ]
     },
     "execution_count": 7,
     "metadata": {},
     "output_type": "execute_result"
    }
   ],
   "source": [
    "data1= pd.read_excel(\"HW_Data_Set.xlsx\")\n",
    "data = data1.copy()\n",
    "data = data.replace('?',np.nan)\n",
    "data = data.dropna()\n",
    "dummy = pd.get_dummies(data[[\"ind_109\"]])\n",
    "y = data[\"90_target\"]\n",
    "X_= data.drop([\"ind_109\",\"50_target\",\"90_target\",\"20_target\", \"ind_420\", \"ind_422\"],axis=1).astype('float64')\n",
    "X = pd.concat([X_,dummy[[\"ind_109_GREEN\"]]],axis=1)\n",
    "X.head(),"
   ]
  },
  {
   "cell_type": "code",
   "execution_count": 8,
   "metadata": {},
   "outputs": [],
   "source": [
    "X_train, X_test, y_train, y_test = train_test_split(X, y, \n",
    "                                                    test_size=0.25, \n",
    "                                                    random_state=42)"
   ]
  },
  {
   "cell_type": "code",
   "execution_count": 9,
   "metadata": {},
   "outputs": [],
   "source": [
    "pca =PCA()\n",
    "X_reduced= pca.fit_transform(scale(X))"
   ]
  },
  {
   "cell_type": "code",
   "execution_count": 10,
   "metadata": {},
   "outputs": [
    {
     "data": {
      "text/plain": [
       "KMeans(algorithm='auto', copy_x=True, init='k-means++', max_iter=300,\n",
       "       n_clusters=4, n_init=10, n_jobs=None, precompute_distances='auto',\n",
       "       random_state=None, tol=0.0001, verbose=0)"
      ]
     },
     "execution_count": 10,
     "metadata": {},
     "output_type": "execute_result"
    }
   ],
   "source": [
    "from sklearn.cluster import KMeans\n",
    "kmeans = KMeans(n_clusters = 4)\n",
    "kmeans"
   ]
  },
  {
   "cell_type": "code",
   "execution_count": 11,
   "metadata": {},
   "outputs": [],
   "source": [
    "k_fit = kmeans.fit(X_reduced)"
   ]
  },
  {
   "cell_type": "code",
   "execution_count": 12,
   "metadata": {},
   "outputs": [
    {
     "data": {
      "text/plain": [
       "4"
      ]
     },
     "execution_count": 12,
     "metadata": {},
     "output_type": "execute_result"
    }
   ],
   "source": [
    "k_fit.n_clusters"
   ]
  },
  {
   "cell_type": "code",
   "execution_count": 13,
   "metadata": {},
   "outputs": [
    {
     "data": {
      "text/plain": [
       "array([[ 1.97721238e+00, -3.11428818e+00, -8.29250822e-01,\n",
       "        -4.74509235e-01,  3.76226690e-01,  2.10527970e-01,\n",
       "        -1.37336256e-01, -1.79060245e-01, -8.25952127e-02,\n",
       "        -3.17470395e-01,  4.96950576e-02, -7.98963101e-02,\n",
       "        -1.02999300e-01, -2.88518504e-02,  2.05177682e-01,\n",
       "        -2.37679134e-01, -2.92481874e-01, -1.14000705e-01,\n",
       "         5.83929441e-02,  4.10736674e-02,  2.87416777e-02,\n",
       "        -5.12672630e-02,  1.02124494e-01, -1.02871779e-01,\n",
       "        -1.02789042e-01,  1.97411993e-01,  2.37666426e-01,\n",
       "        -7.37476322e-03, -5.74235420e-02, -1.02726308e-01,\n",
       "        -1.22642404e-01, -6.18646565e-02,  3.30989834e-03,\n",
       "         3.07853085e-02, -2.49240664e-02, -4.02123974e-03,\n",
       "        -3.86786283e-02, -1.23237065e-02, -6.69584512e-03,\n",
       "        -3.23723564e-03,  3.13711044e-02,  4.43472409e-02,\n",
       "        -4.53421043e-02, -1.62290649e-02, -2.26398414e-02,\n",
       "        -3.19189907e-04, -2.33503784e-02,  1.39560283e-02,\n",
       "        -2.32025695e-03,  5.17527825e-04,  2.36201374e-02,\n",
       "         4.45422763e-02, -1.26622293e-02,  1.16911449e-02,\n",
       "         1.39001899e-02,  2.35937911e-02,  1.31807076e-02,\n",
       "         6.37767898e-03,  3.31963761e-02, -1.96353854e-02,\n",
       "         2.80032882e-02,  9.72821461e-03,  4.50716950e-03,\n",
       "         8.82874521e-03,  9.41190465e-03, -5.03757070e-03,\n",
       "         8.25924112e-03, -1.98368567e-03,  2.98845895e-02,\n",
       "        -1.11419964e-02, -6.21328477e-04,  1.62525673e-02,\n",
       "        -2.26322557e-04, -3.54766801e-03,  3.69765888e-02,\n",
       "        -9.33852310e-04, -5.92897128e-04,  1.55704966e-03,\n",
       "        -1.65975351e-02,  1.29260058e-02,  2.15665792e-03,\n",
       "        -8.00639109e-03,  4.65065771e-03,  9.20934550e-03,\n",
       "         3.47827354e-03, -1.17034629e-03,  5.48607916e-03,\n",
       "         1.16911825e-02,  3.43215603e-03,  1.01739875e-02,\n",
       "        -1.32182459e-03,  8.37154973e-04, -2.60657567e-05,\n",
       "         1.98076365e-03,  1.71749693e-03, -3.45307822e-03,\n",
       "         5.44505502e-04, -2.17816402e-03,  1.06251225e-03,\n",
       "        -4.18467347e-03,  4.53814972e-03, -3.52297951e-03,\n",
       "        -1.29343321e-03, -4.25395690e-04,  7.68597724e-04,\n",
       "        -1.65118964e-04, -4.04528763e-04, -1.58956567e-03,\n",
       "         1.79234110e-03,  8.84485124e-04,  2.86058183e-03,\n",
       "        -4.69789039e-04, -1.15115682e-03,  2.24354830e-04,\n",
       "        -1.10929792e-03, -4.75066297e-04, -1.16054347e-03,\n",
       "         2.28016308e-04,  1.02212554e-04,  1.19444363e-04,\n",
       "         2.87682578e-05,  4.69106316e-04, -2.59927190e-04,\n",
       "        -5.15046725e-04,  5.26642883e-04, -1.68794428e-04,\n",
       "         2.41818617e-05,  5.45013944e-06, -1.59158921e-06,\n",
       "        -6.01380281e-08, -2.60132559e-13],\n",
       "       [-1.55811558e+00,  3.32461481e+00, -2.21169275e-01,\n",
       "        -1.00908828e+00, -1.38539524e-01, -3.00058814e-01,\n",
       "         1.41834570e-01,  1.71341364e-02, -3.71039916e-02,\n",
       "         1.25428036e-02,  2.07831521e-01,  3.51618644e-01,\n",
       "        -5.46464870e-02, -2.00131982e-01, -2.43457046e-01,\n",
       "         2.53692803e-01,  3.13413540e-01,  9.83717155e-02,\n",
       "        -7.93480204e-02, -2.69656461e-03, -4.87555490e-02,\n",
       "        -7.23828539e-03, -1.88731074e-01, -3.57576880e-02,\n",
       "        -6.95716044e-02,  1.71841288e-03, -2.46285912e-01,\n",
       "        -8.31880878e-02,  8.33873821e-02,  9.99838066e-02,\n",
       "         1.00904796e-01, -5.01259358e-02,  1.07705061e-01,\n",
       "        -2.16826684e-02,  4.69473085e-03, -2.83318715e-02,\n",
       "        -5.61148100e-02,  2.70640483e-02,  1.29893885e-02,\n",
       "         9.39516108e-03,  1.56698229e-02, -6.13046447e-02,\n",
       "         5.51420639e-02, -2.59401588e-02,  3.02105786e-02,\n",
       "         7.14760104e-02, -4.89227340e-02,  1.39552920e-02,\n",
       "        -3.44297534e-02, -1.90755757e-02, -5.12943130e-02,\n",
       "        -5.64893917e-02,  1.78312030e-02, -1.50580803e-02,\n",
       "         4.85131862e-02, -2.47464348e-02,  2.01034867e-02,\n",
       "        -2.24931720e-04, -4.23438189e-02,  4.30788899e-02,\n",
       "        -5.64328506e-03,  9.72047426e-03, -2.63418063e-02,\n",
       "         5.48210035e-03,  1.73901747e-02, -3.69131174e-02,\n",
       "         2.26056487e-02, -9.90032503e-03, -1.18085517e-02,\n",
       "         2.76977442e-02,  1.96679794e-02, -5.95413133e-03,\n",
       "        -1.31079027e-02, -9.07443754e-03,  2.38703116e-02,\n",
       "        -3.84649585e-03,  5.86373551e-03,  5.70558665e-03,\n",
       "        -2.86981822e-03, -1.14767167e-03, -5.29338792e-03,\n",
       "        -2.43970361e-04,  1.34240491e-03,  9.49111401e-03,\n",
       "         1.05151773e-02, -1.81846115e-03, -2.72898934e-04,\n",
       "        -2.03162470e-04, -1.10369365e-03, -9.33206052e-04,\n",
       "         2.67622529e-03, -1.56544314e-03, -2.97680201e-03,\n",
       "         1.51120288e-03,  9.45406052e-04,  1.64537441e-03,\n",
       "        -4.89865343e-04,  2.29596987e-03,  1.32258734e-03,\n",
       "        -2.67524749e-04, -8.00581436e-04, -1.45346162e-03,\n",
       "        -1.83151099e-03, -1.94591120e-03,  1.48195410e-03,\n",
       "         1.52830991e-04,  5.63097053e-04, -3.41790290e-03,\n",
       "        -2.65036762e-03, -1.11282852e-03,  1.09427523e-03,\n",
       "        -2.29140482e-05, -1.47927110e-03,  1.41355335e-05,\n",
       "         9.64066983e-05,  2.13952272e-04, -8.82036916e-04,\n",
       "         9.94056864e-05,  4.47073035e-05,  1.82632346e-04,\n",
       "         4.28209309e-05,  6.55057966e-04,  1.44136695e-04,\n",
       "        -5.46837136e-05,  5.15115568e-04, -2.59714166e-06,\n",
       "        -1.16297104e-04, -2.47303839e-07,  2.55868898e-06,\n",
       "         1.45182251e-07,  2.44593346e-13],\n",
       "       [-8.49161730e+00, -4.80671240e-01,  5.96903151e-01,\n",
       "         8.86329577e-01, -6.21671791e-02, -9.46931609e-03,\n",
       "        -3.13705614e-02,  1.10285027e-01,  4.40465634e-02,\n",
       "         3.40475049e-01, -1.19741584e-01, -1.51096866e-01,\n",
       "         9.95485893e-02,  1.06225812e-01, -2.76149363e-02,\n",
       "        -1.71963987e-02, -6.47958514e-02,  6.04136199e-02,\n",
       "        -5.78435693e-02,  1.01974260e-02,  3.21827563e-02,\n",
       "         5.02708504e-02,  3.58298042e-02,  9.65792483e-02,\n",
       "         1.17696841e-01, -1.56426078e-01, -5.85638888e-02,\n",
       "         5.13404047e-02, -1.73971490e-04,  1.85435677e-02,\n",
       "         4.66525438e-02,  6.58679838e-02, -7.61545524e-02,\n",
       "        -1.14624365e-02,  3.59964258e-03,  2.06810535e-02,\n",
       "         5.51108222e-02,  2.44790613e-03,  1.87840336e-03,\n",
       "        -3.08475180e-02, -2.36794830e-02, -3.16010268e-03,\n",
       "        -1.92175410e-03,  2.36375870e-02, -7.76069407e-04,\n",
       "        -4.18911825e-02,  3.83927311e-02, -7.89227330e-03,\n",
       "         2.54352075e-02,  1.42845291e-02,  4.30852048e-03,\n",
       "        -3.80961668e-03,  2.60221520e-03,  1.79572076e-02,\n",
       "        -4.20432081e-02,  1.12160491e-02, -3.10437580e-02,\n",
       "         6.33716713e-03,  7.31495220e-03, -1.48586723e-02,\n",
       "        -2.80507076e-02, -4.91146593e-03,  6.02345342e-03,\n",
       "        -1.02428445e-02, -1.05719783e-02,  3.03004332e-02,\n",
       "        -2.61889982e-02,  1.15639631e-02,  2.65208273e-03,\n",
       "        -2.07720300e-03, -1.23173468e-02, -1.66405072e-02,\n",
       "         1.44028945e-02,  2.93704200e-03, -3.56265536e-02,\n",
       "         6.71189931e-03, -1.70900520e-03, -7.37266375e-03,\n",
       "         9.37394906e-03, -2.82558158e-03,  4.19263937e-03,\n",
       "         7.70683031e-03, -1.72387259e-03, -1.41497542e-02,\n",
       "        -3.72866911e-03,  1.47549568e-03, -3.13720518e-03,\n",
       "        -9.43324925e-03, -2.98209209e-03, -7.15849755e-03,\n",
       "         1.65185263e-03, -2.61771584e-04,  2.57499174e-03,\n",
       "        -2.45004178e-03, -3.12663896e-03,  3.12539153e-03,\n",
       "        -2.34046445e-03, -9.39666327e-04, -3.77823248e-04,\n",
       "         1.70752600e-03, -8.28172531e-04,  3.20474642e-03,\n",
       "         1.71792604e-03,  1.54335407e-03, -1.40511306e-03,\n",
       "         3.71422789e-04, -4.93099681e-04,  4.17015346e-03,\n",
       "         7.33738005e-04,  1.30691342e-03, -3.69532310e-03,\n",
       "        -3.72922386e-04,  2.35033343e-03,  5.89342614e-04,\n",
       "         3.14406806e-04,  6.24930427e-04,  9.75983885e-04,\n",
       "         1.47558900e-04, -2.37048508e-04, -2.49345489e-04,\n",
       "        -3.84099744e-04, -6.81668401e-04, -3.09368393e-05,\n",
       "         4.66325757e-04, -5.30162109e-04,  2.05172872e-04,\n",
       "         4.90365892e-05, -3.94040585e-06, -1.72510500e-06,\n",
       "        -3.66722156e-08,  2.31371844e-14],\n",
       "       [ 9.93460323e+00,  1.12666602e+00,  8.08811481e-01,\n",
       "         9.11883766e-01, -3.24498240e-01,  7.65062101e-02,\n",
       "         6.90790644e-02,  1.13895128e-01,  1.20176701e-01,\n",
       "         3.78678388e-02, -1.94198350e-01, -1.39752171e-01,\n",
       "         1.03127531e-01,  1.69148834e-01,  3.43268052e-02,\n",
       "         6.08427773e-02,  1.29678493e-01, -2.91179764e-02,\n",
       "         8.75349976e-02, -7.36246399e-02, -2.26493971e-02,\n",
       "         2.43120856e-02,  4.12793250e-02,  8.20829134e-02,\n",
       "         9.88435722e-02, -1.07463253e-01,  2.74369907e-02,\n",
       "         5.38280074e-02, -1.93209387e-02,  5.34494516e-03,\n",
       "        -1.18049036e-03,  7.66999192e-02, -4.74587492e-02,\n",
       "        -4.78937665e-03,  2.80266185e-02,  1.65521392e-02,\n",
       "         6.23241935e-02, -1.93407046e-02, -8.97564959e-03,\n",
       "         3.26418382e-02, -3.87217644e-02,  1.51367571e-02,\n",
       "         1.03570463e-03,  2.86162569e-02, -3.21913272e-03,\n",
       "        -3.87555957e-02,  5.06663559e-02, -2.97688983e-02,\n",
       "         1.57261225e-02,  5.65635796e-03,  2.46789649e-02,\n",
       "         9.37991293e-03, -6.94713112e-03, -2.17429153e-02,\n",
       "        -3.06947691e-02, -1.89036145e-02, -6.66693712e-03,\n",
       "        -1.78307047e-02, -5.81799089e-03, -6.50956475e-03,\n",
       "         2.68574580e-05, -2.15039623e-02,  1.96184813e-02,\n",
       "        -7.67212345e-03, -2.37167739e-02,  1.69137246e-02,\n",
       "        -8.54847103e-03,  1.07804330e-03, -3.45371853e-02,\n",
       "        -1.61593094e-02, -8.81196998e-03,  3.98238854e-03,\n",
       "        -1.13702871e-03,  1.35869069e-02, -4.27235138e-02,\n",
       "        -2.19576372e-03, -4.53029779e-03, -3.50097591e-04,\n",
       "         1.74802350e-02, -1.49776248e-02, -1.86110376e-03,\n",
       "         2.82448084e-03, -6.76843646e-03, -8.45330967e-03,\n",
       "        -1.43382726e-02,  2.29161483e-03, -4.13143477e-03,\n",
       "        -5.74679794e-03, -4.75766025e-05, -5.37065254e-03,\n",
       "        -3.57430867e-03,  1.08045396e-03,  6.01962994e-04,\n",
       "        -1.89232494e-03,  1.31753877e-04, -8.12982276e-04,\n",
       "         2.81784445e-03,  1.60644293e-03, -2.89467509e-03,\n",
       "         4.65917332e-03, -4.95060239e-03,  3.24297766e-03,\n",
       "         2.18695415e-03,  1.21030301e-03, -1.31718046e-03,\n",
       "        -4.22738014e-04,  5.31569963e-04,  1.55116332e-03,\n",
       "        -2.76227179e-04, -1.61267854e-03, -1.10780082e-03,\n",
       "         1.24366604e-03,  6.87510522e-04, -1.12974708e-03,\n",
       "         1.19511885e-03, -3.47642829e-04,  1.69833798e-03,\n",
       "        -6.75765007e-04,  8.88405553e-05, -1.02344404e-04,\n",
       "         3.95785230e-04, -7.05385291e-04,  2.56426119e-04,\n",
       "         2.70722209e-04, -8.07967801e-04,  1.02647970e-06,\n",
       "         5.09299788e-05, -3.07057007e-06,  1.36499300e-06,\n",
       "        -4.86662771e-08,  5.55416212e-14]])"
      ]
     },
     "execution_count": 13,
     "metadata": {},
     "output_type": "execute_result"
    }
   ],
   "source": [
    "k_fit.cluster_centers_"
   ]
  },
  {
   "cell_type": "code",
   "execution_count": 14,
   "metadata": {},
   "outputs": [
    {
     "data": {
      "text/plain": [
       "array([2, 2, 2, ..., 2, 2, 2])"
      ]
     },
     "execution_count": 14,
     "metadata": {},
     "output_type": "execute_result"
    }
   ],
   "source": [
    "k_fit.labels_"
   ]
  },
  {
   "cell_type": "code",
   "execution_count": 15,
   "metadata": {},
   "outputs": [],
   "source": [
    "kmeans = KMeans(n_clusters = 2)\n",
    "k_fit = kmeans.fit(X_reduced)"
   ]
  },
  {
   "cell_type": "code",
   "execution_count": 16,
   "metadata": {},
   "outputs": [],
   "source": [
    "kumeler = k_fit.labels_"
   ]
  },
  {
   "cell_type": "code",
   "execution_count": 17,
   "metadata": {},
   "outputs": [
    {
     "data": {
      "text/plain": [
       "<matplotlib.collections.PathCollection at 0x2cc2c25a588>"
      ]
     },
     "execution_count": 17,
     "metadata": {},
     "output_type": "execute_result"
    },
    {
     "data": {
      "image/png": "[encoded data removed]",
      "text/plain": [
       "<Figure size 432x288 with 1 Axes>"
      ]
     },
     "metadata": {
      "needs_background": "light"
     },
     "output_type": "display_data"
    }
   ],
   "source": [
    "plt.scatter(X.iloc[:,0],X.iloc[:,1],c=kumeler,s=50,cmap=\"viridis\")\n",
    "merkezler=k_fit.cluster_centers_\n",
    "plt.scatter(merkezler[:,0],merkezler[:,1],c=\"black\",s=200,alpha=0.5)"
   ]
  },
  {
   "cell_type": "code",
   "execution_count": 18,
   "metadata": {},
   "outputs": [],
   "source": [
    "from mpl_toolkits.mplot3d import Axes3D"
   ]
  },
  {
   "cell_type": "code",
   "execution_count": 19,
   "metadata": {},
   "outputs": [
    {
     "name": "stdout",
     "output_type": "stream",
     "text": [
      "Collecting matplotlib\n",
      "  Downloading matplotlib-3.3.1-cp37-cp37m-win_amd64.whl (8.5 MB)\n",
      "Requirement already satisfied, skipping upgrade: pyparsing!=2.0.4,!=2.1.2,!=2.1.6,>=2.0.3 in c:\\users\\msaka\\anaconda3\\lib\\site-packages (from matplotlib) (2.4.6)\n",
      "Requirement already satisfied, skipping upgrade: python-dateutil>=2.1 in c:\\users\\msaka\\anaconda3\\lib\\site-packages (from matplotlib) (2.8.1)\n",
      "Requirement already satisfied, skipping upgrade: cycler>=0.10 in c:\\users\\msaka\\anaconda3\\lib\\site-packages (from matplotlib) (0.10.0)\n",
      "Requirement already satisfied, skipping upgrade: numpy>=1.15 in c:\\users\\msaka\\anaconda3\\lib\\site-packages (from matplotlib) (1.18.1)\n",
      "Requirement already satisfied, skipping upgrade: pillow>=6.2.0 in c:\\users\\msaka\\anaconda3\\lib\\site-packages (from matplotlib) (7.0.0)\n",
      "Requirement already satisfied, skipping upgrade: kiwisolver>=1.0.1 in c:\\users\\msaka\\anaconda3\\lib\\site-packages (from matplotlib) (1.1.0)\n",
      "Collecting certifi>=2020.06.20\n",
      "  Downloading certifi-2020.6.20-py2.py3-none-any.whl (156 kB)\n",
      "Requirement already satisfied, skipping upgrade: six>=1.5 in c:\\users\\msaka\\anaconda3\\lib\\site-packages (from python-dateutil>=2.1->matplotlib) (1.14.0)\n",
      "Requirement already satisfied, skipping upgrade: setuptools in c:\\users\\msaka\\anaconda3\\lib\\site-packages (from kiwisolver>=1.0.1->matplotlib) (45.2.0.post20200210)\n",
      "Installing collected packages: certifi, matplotlib\n",
      "  Attempting uninstall: certifi\n",
      "    Found existing installation: certifi 2019.11.28\n",
      "    Uninstalling certifi-2019.11.28:\n",
      "      Successfully uninstalled certifi-2019.11.28\n",
      "  Attempting uninstall: matplotlib\n",
      "    Found existing installation: matplotlib 3.1.3\n",
      "    Uninstalling matplotlib-3.1.3:\n"
     ]
    },
    {
     "name": "stderr",
     "output_type": "stream",
     "text": [
      "ERROR: Could not install packages due to an EnvironmentError: [WinError 5] Erişim engellendi: 'c:\\\\users\\\\msaka\\\\anaconda3\\\\lib\\\\site-packages\\\\matplotlib\\\\backends\\\\_backend_agg.cp37-win_amd64.pyd'\n",
      "Consider using the `--user` option or check the permissions.\n",
      "\n"
     ]
    }
   ],
   "source": [
    "!pip install --upgrade matplotlib"
   ]
  },
  {
   "cell_type": "code",
   "execution_count": 20,
   "metadata": {},
   "outputs": [],
   "source": [
    "import mpl_toolkits"
   ]
  }
 ],
 "metadata": {
  "kernelspec": {
   "display_name": "Python 3",
   "language": "python",
   "name": "python3"
  },
  "language_info": {
   "codemirror_mode": {
    "name": "ipython",
    "version": 3
   },
   "file_extension": ".py",
   "mimetype": "text/x-python",
   "name": "python",
   "nbconvert_exporter": "python",
   "pygments_lexer": "ipython3",
   "version": "3.7.6"
  }
 },
 "nbformat": 4,
 "nbformat_minor": 4
}
