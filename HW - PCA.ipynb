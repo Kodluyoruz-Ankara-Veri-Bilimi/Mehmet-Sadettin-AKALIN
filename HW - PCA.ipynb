{
 "cells": [
  {
   "cell_type": "code",
   "execution_count": 1,
   "metadata": {},
   "outputs": [],
   "source": [
    "import numpy as np\n",
    "import pandas as pd \n",
    "import statsmodels.api as sm\n",
    "import statsmodels.formula.api as smf\n",
    "import seaborn as sns\n",
    "from sklearn.preprocessing import scale \n",
    "from sklearn.model_selection import train_test_split, GridSearchCV, cross_val_score\n",
    "from sklearn.metrics import confusion_matrix, accuracy_score, classification_report\n",
    "from sklearn.metrics import roc_auc_score,roc_curve\n",
    "import statsmodels.formula.api as smf\n",
    "import matplotlib.pyplot as plt\n",
    "from sklearn.neighbors import KNeighborsClassifier\n",
    "from sklearn.discriminant_analysis import LinearDiscriminantAnalysis\n",
    "from sklearn.linear_model import LogisticRegression\n",
    "from sklearn.svm import SVC\n",
    "from sklearn.naive_bayes import GaussianNB\n",
    "from sklearn import tree\n",
    "from sklearn.ensemble import RandomForestClassifier\n",
    "from sklearn.ensemble import GradientBoostingClassifier\n",
    "from matplotlib import pyplot as plt\n",
    "from sklearn import preprocessing\n",
    "import pylab\n",
    "import scipy.stats as stats\n",
    "from scipy.stats import shapiro\n",
    "import scipy.stats as stats \n",
    "import statsmodels.stats.api as sms\n",
    "import numpy as np \n",
    "from scipy.stats import levene\n",
    "from scipy.stats import f_oneway\n",
    "from scipy.stats import pearsonr\n",
    "import statsmodels.formula.api as smf\n",
    "\n",
    "\n",
    "from warnings import filterwarnings\n",
    "filterwarnings('ignore')"
   ]
  },
  {
   "cell_type": "code",
   "execution_count": 2,
   "metadata": {},
   "outputs": [],
   "source": [
    "class Information():\n",
    "    \n",
    "    def __init__(self,data):\n",
    "        data = pd.read_excel(\"data.xlsx\")\n",
    "        print(data.head())\n",
    "        print(data.tail())\n",
    "        \n",
    "    def describe(self):\n",
    "        print(data.describe().T)\n",
    "       \n",
    "    def info():\n",
    "        print(data.info())\n",
    "        print(data.len())\n",
    "   \n",
    "    def columns(self):\n",
    "        print(data.columns)\n",
    "        \n",
    "    def num_data(self):\n",
    "        print(self.data.select_dtypes(include=['float64','int64']))        \n",
    "        \n",
    "    def columnTypes():\n",
    "        print(data.dtypes())\n",
    "             \n",
    "    def shape(self):\n",
    "        print(data.shape)        \n",
    "        \n",
    "    def nullValues(self):\n",
    "        print(self.data.isnull().values.any())\n",
    "        print(self.data.isnull().sum())\n",
    "        \n",
    "    def count(self):\n",
    "        print(self.data.count())\n",
    "        \n",
    "    \n",
    "    def cat_data(self):\n",
    "        print(self.data.select_dtypes(include=[\"object\"]))"
   ]
  },
  {
   "cell_type": "code",
   "execution_count": 3,
   "metadata": {},
   "outputs": [],
   "source": [
    "data= pd.read_excel(\"data.xlsx\")"
   ]
  },
  {
   "cell_type": "code",
   "execution_count": 4,
   "metadata": {},
   "outputs": [
    {
     "data": {
      "text/html": [
       "<div>\n",
       "<style scoped>\n",
       "    .dataframe tbody tr th:only-of-type {\n",
       "        vertical-align: middle;\n",
       "    }\n",
       "\n",
       "    .dataframe tbody tr th {\n",
       "        vertical-align: top;\n",
       "    }\n",
       "\n",
       "    .dataframe thead th {\n",
       "        text-align: right;\n",
       "    }\n",
       "</style>\n",
       "<table border=\"1\" class=\"dataframe\">\n",
       "  <thead>\n",
       "    <tr style=\"text-align: right;\">\n",
       "      <th></th>\n",
       "      <th>ind_5</th>\n",
       "      <th>ind_6</th>\n",
       "      <th>ind_8</th>\n",
       "      <th>ind_9</th>\n",
       "      <th>ind_10</th>\n",
       "      <th>ind_12</th>\n",
       "      <th>ind_13</th>\n",
       "      <th>ind_14</th>\n",
       "      <th>ind_15</th>\n",
       "      <th>ind_16</th>\n",
       "      <th>...</th>\n",
       "      <th>ind_416</th>\n",
       "      <th>ind_418</th>\n",
       "      <th>ind_420</th>\n",
       "      <th>ind_422</th>\n",
       "      <th>ind_424</th>\n",
       "      <th>ind_426</th>\n",
       "      <th>ind_428</th>\n",
       "      <th>20_target</th>\n",
       "      <th>50_target</th>\n",
       "      <th>90_target</th>\n",
       "    </tr>\n",
       "  </thead>\n",
       "  <tbody>\n",
       "    <tr>\n",
       "      <th>0</th>\n",
       "      <td>19</td>\n",
       "      <td>17</td>\n",
       "      <td>100.0</td>\n",
       "      <td>85.714286</td>\n",
       "      <td>14.285714</td>\n",
       "      <td>72.363515</td>\n",
       "      <td>60.808814</td>\n",
       "      <td>23.80</td>\n",
       "      <td>17.62</td>\n",
       "      <td>11.73</td>\n",
       "      <td>...</td>\n",
       "      <td>-49.6</td>\n",
       "      <td>-54</td>\n",
       "      <td>-152</td>\n",
       "      <td>-353</td>\n",
       "      <td>1.0</td>\n",
       "      <td>0.498547</td>\n",
       "      <td>0.701906</td>\n",
       "      <td>15.135802</td>\n",
       "      <td>35.625252</td>\n",
       "      <td>36.997753</td>\n",
       "    </tr>\n",
       "    <tr>\n",
       "      <th>1</th>\n",
       "      <td>24</td>\n",
       "      <td>19</td>\n",
       "      <td>100.0</td>\n",
       "      <td>78.571429</td>\n",
       "      <td>21.428571</td>\n",
       "      <td>74.275883</td>\n",
       "      <td>64.366798</td>\n",
       "      <td>11.45</td>\n",
       "      <td>18.16</td>\n",
       "      <td>12.22</td>\n",
       "      <td>...</td>\n",
       "      <td>-55.6</td>\n",
       "      <td>-60</td>\n",
       "      <td>-158</td>\n",
       "      <td>-359</td>\n",
       "      <td>1.0</td>\n",
       "      <td>0.537088</td>\n",
       "      <td>0.690833</td>\n",
       "      <td>15.143348</td>\n",
       "      <td>35.643013</td>\n",
       "      <td>37.016198</td>\n",
       "    </tr>\n",
       "    <tr>\n",
       "      <th>2</th>\n",
       "      <td>30</td>\n",
       "      <td>24</td>\n",
       "      <td>100.0</td>\n",
       "      <td>71.428571</td>\n",
       "      <td>28.571429</td>\n",
       "      <td>75.140402</td>\n",
       "      <td>65.915803</td>\n",
       "      <td>8.75</td>\n",
       "      <td>17.86</td>\n",
       "      <td>12.28</td>\n",
       "      <td>...</td>\n",
       "      <td>-58.4</td>\n",
       "      <td>-60</td>\n",
       "      <td>-160</td>\n",
       "      <td>-362</td>\n",
       "      <td>1.0</td>\n",
       "      <td>0.615169</td>\n",
       "      <td>0.693040</td>\n",
       "      <td>15.146870</td>\n",
       "      <td>35.651301</td>\n",
       "      <td>-37.024805</td>\n",
       "    </tr>\n",
       "    <tr>\n",
       "      <th>3</th>\n",
       "      <td>37</td>\n",
       "      <td>30</td>\n",
       "      <td>100.0</td>\n",
       "      <td>64.285714</td>\n",
       "      <td>35.714286</td>\n",
       "      <td>76.677846</td>\n",
       "      <td>68.584234</td>\n",
       "      <td>7.80</td>\n",
       "      <td>14.76</td>\n",
       "      <td>12.61</td>\n",
       "      <td>...</td>\n",
       "      <td>-61.8</td>\n",
       "      <td>-65</td>\n",
       "      <td>-166</td>\n",
       "      <td>-367</td>\n",
       "      <td>1.0</td>\n",
       "      <td>0.661517</td>\n",
       "      <td>0.673418</td>\n",
       "      <td>15.153283</td>\n",
       "      <td>0.000000</td>\n",
       "      <td>-37.040483</td>\n",
       "    </tr>\n",
       "    <tr>\n",
       "      <th>4</th>\n",
       "      <td>41</td>\n",
       "      <td>37</td>\n",
       "      <td>100.0</td>\n",
       "      <td>57.142857</td>\n",
       "      <td>42.857143</td>\n",
       "      <td>81.603007</td>\n",
       "      <td>76.455495</td>\n",
       "      <td>14.90</td>\n",
       "      <td>11.92</td>\n",
       "      <td>14.25</td>\n",
       "      <td>...</td>\n",
       "      <td>-79.8</td>\n",
       "      <td>-86</td>\n",
       "      <td>-186</td>\n",
       "      <td>-388</td>\n",
       "      <td>1.0</td>\n",
       "      <td>0.747204</td>\n",
       "      <td>0.700522</td>\n",
       "      <td>-15.179065</td>\n",
       "      <td>-35.727079</td>\n",
       "      <td>-37.103503</td>\n",
       "    </tr>\n",
       "  </tbody>\n",
       "</table>\n",
       "<p>5 rows × 136 columns</p>\n",
       "</div>"
      ],
      "text/plain": [
       "   ind_5  ind_6  ind_8      ind_9     ind_10     ind_12     ind_13  ind_14  \\\n",
       "0     19     17  100.0  85.714286  14.285714  72.363515  60.808814   23.80   \n",
       "1     24     19  100.0  78.571429  21.428571  74.275883  64.366798   11.45   \n",
       "2     30     24  100.0  71.428571  28.571429  75.140402  65.915803    8.75   \n",
       "3     37     30  100.0  64.285714  35.714286  76.677846  68.584234    7.80   \n",
       "4     41     37  100.0  57.142857  42.857143  81.603007  76.455495   14.90   \n",
       "\n",
       "   ind_15  ind_16  ...  ind_416  ind_418  ind_420  ind_422  ind_424   ind_426  \\\n",
       "0   17.62   11.73  ...    -49.6      -54     -152     -353      1.0  0.498547   \n",
       "1   18.16   12.22  ...    -55.6      -60     -158     -359      1.0  0.537088   \n",
       "2   17.86   12.28  ...    -58.4      -60     -160     -362      1.0  0.615169   \n",
       "3   14.76   12.61  ...    -61.8      -65     -166     -367      1.0  0.661517   \n",
       "4   11.92   14.25  ...    -79.8      -86     -186     -388      1.0  0.747204   \n",
       "\n",
       "    ind_428  20_target  50_target  90_target  \n",
       "0  0.701906  15.135802  35.625252  36.997753  \n",
       "1  0.690833  15.143348  35.643013  37.016198  \n",
       "2  0.693040  15.146870  35.651301 -37.024805  \n",
       "3  0.673418  15.153283   0.000000 -37.040483  \n",
       "4  0.700522 -15.179065 -35.727079 -37.103503  \n",
       "\n",
       "[5 rows x 136 columns]"
      ]
     },
     "execution_count": 4,
     "metadata": {},
     "output_type": "execute_result"
    }
   ],
   "source": [
    "data.head()"
   ]
  },
  {
   "cell_type": "code",
   "execution_count": 6,
   "metadata": {},
   "outputs": [
    {
     "name": "stdout",
     "output_type": "stream",
     "text": [
      "   ind_5  ind_6  ind_8      ind_9     ind_10     ind_12     ind_13  ind_14  \\\n",
      "0     19     17  100.0  85.714286  14.285714  72.363515  60.808814   23.80   \n",
      "1     24     19  100.0  78.571429  21.428571  74.275883  64.366798   11.45   \n",
      "2     30     24  100.0  71.428571  28.571429  75.140402  65.915803    8.75   \n",
      "3     37     30  100.0  64.285714  35.714286  76.677846  68.584234    7.80   \n",
      "4     41     37  100.0  57.142857  42.857143  81.603007  76.455495   14.90   \n",
      "\n",
      "   ind_15  ind_16  ...  ind_416  ind_418  ind_420  ind_422  ind_424   ind_426  \\\n",
      "0   17.62   11.73  ...    -49.6      -54     -152     -353      1.0  0.498547   \n",
      "1   18.16   12.22  ...    -55.6      -60     -158     -359      1.0  0.537088   \n",
      "2   17.86   12.28  ...    -58.4      -60     -160     -362      1.0  0.615169   \n",
      "3   14.76   12.61  ...    -61.8      -65     -166     -367      1.0  0.661517   \n",
      "4   11.92   14.25  ...    -79.8      -86     -186     -388      1.0  0.747204   \n",
      "\n",
      "    ind_428  20_target  50_target  90_target  \n",
      "0  0.701906  15.135802  35.625252  36.997753  \n",
      "1  0.690833  15.143348  35.643013  37.016198  \n",
      "2  0.693040  15.146870  35.651301 -37.024805  \n",
      "3  0.673418  15.153283   0.000000 -37.040483  \n",
      "4  0.700522 -15.179065 -35.727079 -37.103503  \n",
      "\n",
      "[5 rows x 136 columns]\n",
      "      ind_5  ind_6       ind_8      ind_9     ind_10     ind_12     ind_13  \\\n",
      "6162     27     31   57.142857  28.571429  28.571429  60.010531  32.362582   \n",
      "6163     22     27   50.000000  21.428571  28.571429  60.209998  32.914628   \n",
      "6164     19     22   42.857143  14.285714  28.571429  64.329611  43.550592   \n",
      "6165     19     19  100.000000   7.142857  92.857143  69.027764  54.130755   \n",
      "6166     19     19   92.857143   0.000000  92.857143  65.157180  45.524973   \n",
      "\n",
      "      ind_14  ind_15  ind_16  ...  ind_416  ind_418  ind_420  ind_422  \\\n",
      "6162    9.70    9.38   13.66  ...    -28.2      -40      -11     -270   \n",
      "6163    7.65    8.84   11.79  ...    -28.6      -41      -12     -271   \n",
      "6164    8.95    9.06   10.30  ...    -37.2      -49      -21     -280   \n",
      "6165   13.55   10.36   10.55  ...    -48.9      -61      -33     -292   \n",
      "6166   11.45   10.16    9.68  ...    -44.0      -56      -28     -288   \n",
      "\n",
      "       ind_424   ind_426   ind_428  20_target  50_target  90_target  \n",
      "6162  0.270270  0.840000  0.600846  14.673247 -34.536532 -35.867088  \n",
      "6163  0.000000  0.737470  0.527673  14.673750 -34.537716 -35.868318  \n",
      "6164  0.769231  0.632107  0.551759 -14.684566 -34.563173 -35.894755  \n",
      "6165  1.000000  0.733010  0.591584 -14.699280 -34.597806 -35.930723  \n",
      "6166  1.000000  0.687500  0.593936 -14.693117 -34.583301 -35.915659  \n",
      "\n",
      "[5 rows x 136 columns]\n"
     ]
    },
    {
     "data": {
      "text/plain": [
       "<__main__.Information at 0x2a783df7d88>"
      ]
     },
     "execution_count": 6,
     "metadata": {},
     "output_type": "execute_result"
    }
   ],
   "source": [
    "Information(data)"
   ]
  },
  {
   "cell_type": "code",
   "execution_count": 7,
   "metadata": {},
   "outputs": [
    {
     "data": {
      "text/html": [
       "<div>\n",
       "<style scoped>\n",
       "    .dataframe tbody tr th:only-of-type {\n",
       "        vertical-align: middle;\n",
       "    }\n",
       "\n",
       "    .dataframe tbody tr th {\n",
       "        vertical-align: top;\n",
       "    }\n",
       "\n",
       "    .dataframe thead th {\n",
       "        text-align: right;\n",
       "    }\n",
       "</style>\n",
       "<table border=\"1\" class=\"dataframe\">\n",
       "  <thead>\n",
       "    <tr style=\"text-align: right;\">\n",
       "      <th></th>\n",
       "      <th>count</th>\n",
       "      <th>mean</th>\n",
       "      <th>std</th>\n",
       "      <th>min</th>\n",
       "      <th>25%</th>\n",
       "      <th>50%</th>\n",
       "      <th>75%</th>\n",
       "      <th>max</th>\n",
       "    </tr>\n",
       "  </thead>\n",
       "  <tbody>\n",
       "    <tr>\n",
       "      <th>ind_5</th>\n",
       "      <td>6167.0</td>\n",
       "      <td>-0.803146</td>\n",
       "      <td>23.624403</td>\n",
       "      <td>-131.000000</td>\n",
       "      <td>-14.000000</td>\n",
       "      <td>0.000000</td>\n",
       "      <td>13.000000</td>\n",
       "      <td>76.000000</td>\n",
       "    </tr>\n",
       "    <tr>\n",
       "      <th>ind_6</th>\n",
       "      <td>6167.0</td>\n",
       "      <td>-0.803470</td>\n",
       "      <td>23.624144</td>\n",
       "      <td>-131.000000</td>\n",
       "      <td>-14.000000</td>\n",
       "      <td>0.000000</td>\n",
       "      <td>13.000000</td>\n",
       "      <td>76.000000</td>\n",
       "    </tr>\n",
       "    <tr>\n",
       "      <th>ind_8</th>\n",
       "      <td>6167.0</td>\n",
       "      <td>48.388890</td>\n",
       "      <td>36.388526</td>\n",
       "      <td>0.000000</td>\n",
       "      <td>14.285714</td>\n",
       "      <td>50.000000</td>\n",
       "      <td>85.714286</td>\n",
       "      <td>100.000000</td>\n",
       "    </tr>\n",
       "    <tr>\n",
       "      <th>ind_9</th>\n",
       "      <td>6167.0</td>\n",
       "      <td>48.289282</td>\n",
       "      <td>36.478009</td>\n",
       "      <td>0.000000</td>\n",
       "      <td>14.285714</td>\n",
       "      <td>50.000000</td>\n",
       "      <td>85.714286</td>\n",
       "      <td>100.000000</td>\n",
       "    </tr>\n",
       "    <tr>\n",
       "      <th>ind_10</th>\n",
       "      <td>6167.0</td>\n",
       "      <td>0.099609</td>\n",
       "      <td>60.414625</td>\n",
       "      <td>-100.000000</td>\n",
       "      <td>-50.000000</td>\n",
       "      <td>0.000000</td>\n",
       "      <td>57.142857</td>\n",
       "      <td>100.000000</td>\n",
       "    </tr>\n",
       "    <tr>\n",
       "      <th>...</th>\n",
       "      <td>...</td>\n",
       "      <td>...</td>\n",
       "      <td>...</td>\n",
       "      <td>...</td>\n",
       "      <td>...</td>\n",
       "      <td>...</td>\n",
       "      <td>...</td>\n",
       "      <td>...</td>\n",
       "    </tr>\n",
       "    <tr>\n",
       "      <th>ind_426</th>\n",
       "      <td>6167.0</td>\n",
       "      <td>0.498188</td>\n",
       "      <td>0.228547</td>\n",
       "      <td>0.000000</td>\n",
       "      <td>0.323783</td>\n",
       "      <td>0.495192</td>\n",
       "      <td>0.675730</td>\n",
       "      <td>1.000000</td>\n",
       "    </tr>\n",
       "    <tr>\n",
       "      <th>ind_428</th>\n",
       "      <td>6167.0</td>\n",
       "      <td>0.490174</td>\n",
       "      <td>0.150483</td>\n",
       "      <td>0.083530</td>\n",
       "      <td>0.379894</td>\n",
       "      <td>0.487078</td>\n",
       "      <td>0.601508</td>\n",
       "      <td>0.868534</td>\n",
       "    </tr>\n",
       "    <tr>\n",
       "      <th>20_target</th>\n",
       "      <td>6167.0</td>\n",
       "      <td>-0.057102</td>\n",
       "      <td>14.834497</td>\n",
       "      <td>-15.780588</td>\n",
       "      <td>-15.350354</td>\n",
       "      <td>0.000000</td>\n",
       "      <td>15.385945</td>\n",
       "      <td>15.768767</td>\n",
       "    </tr>\n",
       "    <tr>\n",
       "      <th>50_target</th>\n",
       "      <td>6167.0</td>\n",
       "      <td>-2.906358</td>\n",
       "      <td>34.559778</td>\n",
       "      <td>-37.142889</td>\n",
       "      <td>-36.208094</td>\n",
       "      <td>-34.267756</td>\n",
       "      <td>35.879524</td>\n",
       "      <td>37.038694</td>\n",
       "    </tr>\n",
       "    <tr>\n",
       "      <th>90_target</th>\n",
       "      <td>6167.0</td>\n",
       "      <td>-3.315072</td>\n",
       "      <td>36.841541</td>\n",
       "      <td>-38.573858</td>\n",
       "      <td>-37.695273</td>\n",
       "      <td>-35.788391</td>\n",
       "      <td>37.521892</td>\n",
       "      <td>38.465649</td>\n",
       "    </tr>\n",
       "  </tbody>\n",
       "</table>\n",
       "<p>133 rows × 8 columns</p>\n",
       "</div>"
      ],
      "text/plain": [
       "            count       mean        std         min        25%        50%  \\\n",
       "ind_5      6167.0  -0.803146  23.624403 -131.000000 -14.000000   0.000000   \n",
       "ind_6      6167.0  -0.803470  23.624144 -131.000000 -14.000000   0.000000   \n",
       "ind_8      6167.0  48.388890  36.388526    0.000000  14.285714  50.000000   \n",
       "ind_9      6167.0  48.289282  36.478009    0.000000  14.285714  50.000000   \n",
       "ind_10     6167.0   0.099609  60.414625 -100.000000 -50.000000   0.000000   \n",
       "...           ...        ...        ...         ...        ...        ...   \n",
       "ind_426    6167.0   0.498188   0.228547    0.000000   0.323783   0.495192   \n",
       "ind_428    6167.0   0.490174   0.150483    0.083530   0.379894   0.487078   \n",
       "20_target  6167.0  -0.057102  14.834497  -15.780588 -15.350354   0.000000   \n",
       "50_target  6167.0  -2.906358  34.559778  -37.142889 -36.208094 -34.267756   \n",
       "90_target  6167.0  -3.315072  36.841541  -38.573858 -37.695273 -35.788391   \n",
       "\n",
       "                 75%         max  \n",
       "ind_5      13.000000   76.000000  \n",
       "ind_6      13.000000   76.000000  \n",
       "ind_8      85.714286  100.000000  \n",
       "ind_9      85.714286  100.000000  \n",
       "ind_10     57.142857  100.000000  \n",
       "...              ...         ...  \n",
       "ind_426     0.675730    1.000000  \n",
       "ind_428     0.601508    0.868534  \n",
       "20_target  15.385945   15.768767  \n",
       "50_target  35.879524   37.038694  \n",
       "90_target  37.521892   38.465649  \n",
       "\n",
       "[133 rows x 8 columns]"
      ]
     },
     "execution_count": 7,
     "metadata": {},
     "output_type": "execute_result"
    }
   ],
   "source": [
    "data.describe().T"
   ]
  },
  {
   "cell_type": "code",
   "execution_count": 8,
   "metadata": {},
   "outputs": [],
   "source": [
    "class Visualization():\n",
    "    def __init__(self,data):\n",
    "        self.data = data\n",
    "        \n",
    "    def barplot(self,x,y,z = None):\n",
    "        bar = sns.barplot(x = x, y = y, hue = z, data = self.data);\n",
    "        return bar\n",
    "    \n",
    "    def catplot(self, x, y, z = None):\n",
    "        cat = sns.catplot(x = x, y = y, hue = z, data = self.data);\n",
    "        return cat\n",
    "    \n",
    "    def histogram(self,x, y = None):\n",
    "        hist = sns.FacetGrid(self.data, hue = y, height = 5, xlim = (0, 10000)).map(sns.kdeplot, x, shade= True).add_legend();\n",
    "        return hist\n",
    "    \n",
    "    def boxplot(self,x, y = None, z = None):\n",
    "        box = sns.boxplot(x = x, y = y, hue = z, data=self.data);\n",
    "        return box\n",
    "    \n",
    "    def jointplot(self,x,y):\n",
    "        joint = sns.jointplot(x = x, y = y ,data = self.data, kind = \"reg\");\n",
    "        return joint\n",
    "    \n",
    "    def scatter(self, x, y, z = None, s = None):\n",
    "        sca = sns.scatterplot(x = x, y = y, hue=z, size = s, data = self.data);\n",
    "        return sca\n",
    "    \n",
    "    def lmplot(self, x, y, z = None, c = None, r = None):\n",
    "        lm = sns.lmplot(x = x, y = y, hue = z, col = c, row = r, data = self.data);\n",
    "        return lm\n",
    "    \n",
    "    def pairplot(self, x = None):\n",
    "        pair = sns.pairplot(self.data, kind = \"reg\", hue = x);\n",
    "        return pair\n",
    "    \n",
    "    def heatmap(self):\n",
    "        heat = sns.heatmap(self.data, annot = True, fmt = \"d\");\n",
    "        return heat \n",
    "    \n",
    "    def lineplot(self, x, y, z = None, s = None):\n",
    "        lin = sns.lineplot(x = x, y = y, hue = z, style = s, markers = True,  dashes = False, data = self.data);\n",
    "        return lin\n",
    "    \n",
    "    def countplot(self, column):\n",
    "        count = sns.countplot(self.data.iloc[:,column], data = self.data, palette = \"Set3\");\n",
    "        return count\n",
    "    \n",
    "    def cross_tab(self,x,y):\n",
    "        cross = pd.crosstab(x, y)\n",
    "        return cross\n",
    "\n",
    "    def PieChart(self):\n",
    "        pie = plt.pie(self.data, labels = self.data.index, counterclock = False, shadow = True)\n",
    "        return pie\n",
    "    \n",
    "    def violin(self, x = None, y = None, z = None):\n",
    "        vio = sns.catplot(x = x, y = y, hue = z, kind = \"violin\", data = self.data);\n",
    "        return vio"
   ]
  },
  {
   "cell_type": "code",
   "execution_count": 10,
   "metadata": {},
   "outputs": [
    {
     "data": {
      "text/html": [
       "<div>\n",
       "<style scoped>\n",
       "    .dataframe tbody tr th:only-of-type {\n",
       "        vertical-align: middle;\n",
       "    }\n",
       "\n",
       "    .dataframe tbody tr th {\n",
       "        vertical-align: top;\n",
       "    }\n",
       "\n",
       "    .dataframe thead th {\n",
       "        text-align: right;\n",
       "    }\n",
       "</style>\n",
       "<table border=\"1\" class=\"dataframe\">\n",
       "  <thead>\n",
       "    <tr style=\"text-align: right;\">\n",
       "      <th></th>\n",
       "      <th>ind_5</th>\n",
       "      <th>ind_6</th>\n",
       "      <th>ind_8</th>\n",
       "      <th>ind_9</th>\n",
       "      <th>ind_10</th>\n",
       "      <th>ind_12</th>\n",
       "      <th>ind_13</th>\n",
       "      <th>ind_14</th>\n",
       "      <th>ind_15</th>\n",
       "      <th>ind_16</th>\n",
       "      <th>...</th>\n",
       "      <th>ind_412</th>\n",
       "      <th>ind_414</th>\n",
       "      <th>ind_416</th>\n",
       "      <th>ind_418</th>\n",
       "      <th>ind_424</th>\n",
       "      <th>ind_426</th>\n",
       "      <th>ind_428</th>\n",
       "      <th>20_target</th>\n",
       "      <th>50_target</th>\n",
       "      <th>90_target</th>\n",
       "    </tr>\n",
       "  </thead>\n",
       "  <tbody>\n",
       "    <tr>\n",
       "      <th>ind_5</th>\n",
       "      <td>1.000000</td>\n",
       "      <td>0.989945</td>\n",
       "      <td>0.543246</td>\n",
       "      <td>-0.533328</td>\n",
       "      <td>0.649225</td>\n",
       "      <td>0.822255</td>\n",
       "      <td>0.768234</td>\n",
       "      <td>-0.014502</td>\n",
       "      <td>-0.026336</td>\n",
       "      <td>-0.041130</td>\n",
       "      <td>...</td>\n",
       "      <td>0.620106</td>\n",
       "      <td>-0.694619</td>\n",
       "      <td>-0.304134</td>\n",
       "      <td>-0.620099</td>\n",
       "      <td>0.076169</td>\n",
       "      <td>0.626439</td>\n",
       "      <td>0.817302</td>\n",
       "      <td>0.060969</td>\n",
       "      <td>0.068989</td>\n",
       "      <td>0.060428</td>\n",
       "    </tr>\n",
       "    <tr>\n",
       "      <th>ind_6</th>\n",
       "      <td>0.989945</td>\n",
       "      <td>1.000000</td>\n",
       "      <td>0.514222</td>\n",
       "      <td>-0.495572</td>\n",
       "      <td>0.608947</td>\n",
       "      <td>0.768551</td>\n",
       "      <td>0.713870</td>\n",
       "      <td>-0.006066</td>\n",
       "      <td>-0.019393</td>\n",
       "      <td>-0.035795</td>\n",
       "      <td>...</td>\n",
       "      <td>0.634679</td>\n",
       "      <td>-0.646983</td>\n",
       "      <td>-0.279922</td>\n",
       "      <td>-0.569657</td>\n",
       "      <td>0.021220</td>\n",
       "      <td>0.567359</td>\n",
       "      <td>0.810371</td>\n",
       "      <td>0.062101</td>\n",
       "      <td>0.069652</td>\n",
       "      <td>0.061560</td>\n",
       "    </tr>\n",
       "    <tr>\n",
       "      <th>ind_8</th>\n",
       "      <td>0.543246</td>\n",
       "      <td>0.514222</td>\n",
       "      <td>1.000000</td>\n",
       "      <td>-0.374857</td>\n",
       "      <td>0.828650</td>\n",
       "      <td>0.583623</td>\n",
       "      <td>0.482220</td>\n",
       "      <td>0.162635</td>\n",
       "      <td>0.139612</td>\n",
       "      <td>0.038862</td>\n",
       "      <td>...</td>\n",
       "      <td>0.275687</td>\n",
       "      <td>-0.489596</td>\n",
       "      <td>-0.277258</td>\n",
       "      <td>-0.432579</td>\n",
       "      <td>0.144795</td>\n",
       "      <td>0.593799</td>\n",
       "      <td>0.445427</td>\n",
       "      <td>-0.004126</td>\n",
       "      <td>0.006984</td>\n",
       "      <td>-0.006650</td>\n",
       "    </tr>\n",
       "    <tr>\n",
       "      <th>ind_9</th>\n",
       "      <td>-0.533328</td>\n",
       "      <td>-0.495572</td>\n",
       "      <td>-0.374857</td>\n",
       "      <td>1.000000</td>\n",
       "      <td>-0.829576</td>\n",
       "      <td>-0.609288</td>\n",
       "      <td>-0.568581</td>\n",
       "      <td>0.238938</td>\n",
       "      <td>0.240048</td>\n",
       "      <td>0.152133</td>\n",
       "      <td>...</td>\n",
       "      <td>-0.276882</td>\n",
       "      <td>0.436275</td>\n",
       "      <td>0.349318</td>\n",
       "      <td>0.505772</td>\n",
       "      <td>-0.173139</td>\n",
       "      <td>-0.631961</td>\n",
       "      <td>-0.450719</td>\n",
       "      <td>-0.031316</td>\n",
       "      <td>-0.004053</td>\n",
       "      <td>0.012093</td>\n",
       "    </tr>\n",
       "    <tr>\n",
       "      <th>ind_10</th>\n",
       "      <td>0.649225</td>\n",
       "      <td>0.608947</td>\n",
       "      <td>0.828650</td>\n",
       "      <td>-0.829576</td>\n",
       "      <td>1.000000</td>\n",
       "      <td>0.719409</td>\n",
       "      <td>0.633753</td>\n",
       "      <td>-0.046312</td>\n",
       "      <td>-0.060849</td>\n",
       "      <td>-0.068450</td>\n",
       "      <td>...</td>\n",
       "      <td>0.333229</td>\n",
       "      <td>-0.558311</td>\n",
       "      <td>-0.377913</td>\n",
       "      <td>-0.565931</td>\n",
       "      <td>0.191752</td>\n",
       "      <td>0.739227</td>\n",
       "      <td>0.540428</td>\n",
       "      <td>0.016423</td>\n",
       "      <td>0.006654</td>\n",
       "      <td>-0.011307</td>\n",
       "    </tr>\n",
       "    <tr>\n",
       "      <th>...</th>\n",
       "      <td>...</td>\n",
       "      <td>...</td>\n",
       "      <td>...</td>\n",
       "      <td>...</td>\n",
       "      <td>...</td>\n",
       "      <td>...</td>\n",
       "      <td>...</td>\n",
       "      <td>...</td>\n",
       "      <td>...</td>\n",
       "      <td>...</td>\n",
       "      <td>...</td>\n",
       "      <td>...</td>\n",
       "      <td>...</td>\n",
       "      <td>...</td>\n",
       "      <td>...</td>\n",
       "      <td>...</td>\n",
       "      <td>...</td>\n",
       "      <td>...</td>\n",
       "      <td>...</td>\n",
       "      <td>...</td>\n",
       "      <td>...</td>\n",
       "    </tr>\n",
       "    <tr>\n",
       "      <th>ind_426</th>\n",
       "      <td>0.626439</td>\n",
       "      <td>0.567359</td>\n",
       "      <td>0.593799</td>\n",
       "      <td>-0.631961</td>\n",
       "      <td>0.739227</td>\n",
       "      <td>0.776076</td>\n",
       "      <td>0.700736</td>\n",
       "      <td>-0.066201</td>\n",
       "      <td>-0.066437</td>\n",
       "      <td>-0.051049</td>\n",
       "      <td>...</td>\n",
       "      <td>0.293592</td>\n",
       "      <td>-0.571432</td>\n",
       "      <td>-0.356302</td>\n",
       "      <td>-0.594243</td>\n",
       "      <td>0.341017</td>\n",
       "      <td>1.000000</td>\n",
       "      <td>0.584754</td>\n",
       "      <td>0.019599</td>\n",
       "      <td>0.009063</td>\n",
       "      <td>-0.002519</td>\n",
       "    </tr>\n",
       "    <tr>\n",
       "      <th>ind_428</th>\n",
       "      <td>0.817302</td>\n",
       "      <td>0.810371</td>\n",
       "      <td>0.445427</td>\n",
       "      <td>-0.450719</td>\n",
       "      <td>0.540428</td>\n",
       "      <td>0.807595</td>\n",
       "      <td>0.727899</td>\n",
       "      <td>0.021970</td>\n",
       "      <td>0.016318</td>\n",
       "      <td>0.010361</td>\n",
       "      <td>...</td>\n",
       "      <td>0.574646</td>\n",
       "      <td>-0.499656</td>\n",
       "      <td>-0.260048</td>\n",
       "      <td>-0.487564</td>\n",
       "      <td>0.188853</td>\n",
       "      <td>0.584754</td>\n",
       "      <td>1.000000</td>\n",
       "      <td>0.047041</td>\n",
       "      <td>0.052418</td>\n",
       "      <td>0.043563</td>\n",
       "    </tr>\n",
       "    <tr>\n",
       "      <th>20_target</th>\n",
       "      <td>0.060969</td>\n",
       "      <td>0.062101</td>\n",
       "      <td>-0.004126</td>\n",
       "      <td>-0.031316</td>\n",
       "      <td>0.016423</td>\n",
       "      <td>0.042550</td>\n",
       "      <td>0.041289</td>\n",
       "      <td>0.015320</td>\n",
       "      <td>0.012012</td>\n",
       "      <td>0.026881</td>\n",
       "      <td>...</td>\n",
       "      <td>0.066637</td>\n",
       "      <td>-0.029005</td>\n",
       "      <td>-0.009829</td>\n",
       "      <td>-0.045656</td>\n",
       "      <td>-0.008799</td>\n",
       "      <td>0.019599</td>\n",
       "      <td>0.047041</td>\n",
       "      <td>1.000000</td>\n",
       "      <td>0.384076</td>\n",
       "      <td>0.355950</td>\n",
       "    </tr>\n",
       "    <tr>\n",
       "      <th>50_target</th>\n",
       "      <td>0.068989</td>\n",
       "      <td>0.069652</td>\n",
       "      <td>0.006984</td>\n",
       "      <td>-0.004053</td>\n",
       "      <td>0.006654</td>\n",
       "      <td>0.055045</td>\n",
       "      <td>0.048302</td>\n",
       "      <td>0.072728</td>\n",
       "      <td>0.084561</td>\n",
       "      <td>0.101774</td>\n",
       "      <td>...</td>\n",
       "      <td>0.127234</td>\n",
       "      <td>0.008239</td>\n",
       "      <td>0.047728</td>\n",
       "      <td>-0.101488</td>\n",
       "      <td>-0.003372</td>\n",
       "      <td>0.009063</td>\n",
       "      <td>0.052418</td>\n",
       "      <td>0.384076</td>\n",
       "      <td>1.000000</td>\n",
       "      <td>0.940916</td>\n",
       "    </tr>\n",
       "    <tr>\n",
       "      <th>90_target</th>\n",
       "      <td>0.060428</td>\n",
       "      <td>0.061560</td>\n",
       "      <td>-0.006650</td>\n",
       "      <td>0.012093</td>\n",
       "      <td>-0.011307</td>\n",
       "      <td>0.043786</td>\n",
       "      <td>0.043491</td>\n",
       "      <td>0.077710</td>\n",
       "      <td>0.088271</td>\n",
       "      <td>0.108077</td>\n",
       "      <td>...</td>\n",
       "      <td>0.124265</td>\n",
       "      <td>0.018379</td>\n",
       "      <td>0.049615</td>\n",
       "      <td>-0.096903</td>\n",
       "      <td>-0.007689</td>\n",
       "      <td>-0.002519</td>\n",
       "      <td>0.043563</td>\n",
       "      <td>0.355950</td>\n",
       "      <td>0.940916</td>\n",
       "      <td>1.000000</td>\n",
       "    </tr>\n",
       "  </tbody>\n",
       "</table>\n",
       "<p>133 rows × 133 columns</p>\n",
       "</div>"
      ],
      "text/plain": [
       "              ind_5     ind_6     ind_8     ind_9    ind_10    ind_12  \\\n",
       "ind_5      1.000000  0.989945  0.543246 -0.533328  0.649225  0.822255   \n",
       "ind_6      0.989945  1.000000  0.514222 -0.495572  0.608947  0.768551   \n",
       "ind_8      0.543246  0.514222  1.000000 -0.374857  0.828650  0.583623   \n",
       "ind_9     -0.533328 -0.495572 -0.374857  1.000000 -0.829576 -0.609288   \n",
       "ind_10     0.649225  0.608947  0.828650 -0.829576  1.000000  0.719409   \n",
       "...             ...       ...       ...       ...       ...       ...   \n",
       "ind_426    0.626439  0.567359  0.593799 -0.631961  0.739227  0.776076   \n",
       "ind_428    0.817302  0.810371  0.445427 -0.450719  0.540428  0.807595   \n",
       "20_target  0.060969  0.062101 -0.004126 -0.031316  0.016423  0.042550   \n",
       "50_target  0.068989  0.069652  0.006984 -0.004053  0.006654  0.055045   \n",
       "90_target  0.060428  0.061560 -0.006650  0.012093 -0.011307  0.043786   \n",
       "\n",
       "             ind_13    ind_14    ind_15    ind_16  ...   ind_412   ind_414  \\\n",
       "ind_5      0.768234 -0.014502 -0.026336 -0.041130  ...  0.620106 -0.694619   \n",
       "ind_6      0.713870 -0.006066 -0.019393 -0.035795  ...  0.634679 -0.646983   \n",
       "ind_8      0.482220  0.162635  0.139612  0.038862  ...  0.275687 -0.489596   \n",
       "ind_9     -0.568581  0.238938  0.240048  0.152133  ... -0.276882  0.436275   \n",
       "ind_10     0.633753 -0.046312 -0.060849 -0.068450  ...  0.333229 -0.558311   \n",
       "...             ...       ...       ...       ...  ...       ...       ...   \n",
       "ind_426    0.700736 -0.066201 -0.066437 -0.051049  ...  0.293592 -0.571432   \n",
       "ind_428    0.727899  0.021970  0.016318  0.010361  ...  0.574646 -0.499656   \n",
       "20_target  0.041289  0.015320  0.012012  0.026881  ...  0.066637 -0.029005   \n",
       "50_target  0.048302  0.072728  0.084561  0.101774  ...  0.127234  0.008239   \n",
       "90_target  0.043491  0.077710  0.088271  0.108077  ...  0.124265  0.018379   \n",
       "\n",
       "            ind_416   ind_418   ind_424   ind_426   ind_428  20_target  \\\n",
       "ind_5     -0.304134 -0.620099  0.076169  0.626439  0.817302   0.060969   \n",
       "ind_6     -0.279922 -0.569657  0.021220  0.567359  0.810371   0.062101   \n",
       "ind_8     -0.277258 -0.432579  0.144795  0.593799  0.445427  -0.004126   \n",
       "ind_9      0.349318  0.505772 -0.173139 -0.631961 -0.450719  -0.031316   \n",
       "ind_10    -0.377913 -0.565931  0.191752  0.739227  0.540428   0.016423   \n",
       "...             ...       ...       ...       ...       ...        ...   \n",
       "ind_426   -0.356302 -0.594243  0.341017  1.000000  0.584754   0.019599   \n",
       "ind_428   -0.260048 -0.487564  0.188853  0.584754  1.000000   0.047041   \n",
       "20_target -0.009829 -0.045656 -0.008799  0.019599  0.047041   1.000000   \n",
       "50_target  0.047728 -0.101488 -0.003372  0.009063  0.052418   0.384076   \n",
       "90_target  0.049615 -0.096903 -0.007689 -0.002519  0.043563   0.355950   \n",
       "\n",
       "           50_target  90_target  \n",
       "ind_5       0.068989   0.060428  \n",
       "ind_6       0.069652   0.061560  \n",
       "ind_8       0.006984  -0.006650  \n",
       "ind_9      -0.004053   0.012093  \n",
       "ind_10      0.006654  -0.011307  \n",
       "...              ...        ...  \n",
       "ind_426     0.009063  -0.002519  \n",
       "ind_428     0.052418   0.043563  \n",
       "20_target   0.384076   0.355950  \n",
       "50_target   1.000000   0.940916  \n",
       "90_target   0.940916   1.000000  \n",
       "\n",
       "[133 rows x 133 columns]"
      ]
     },
     "execution_count": 10,
     "metadata": {},
     "output_type": "execute_result"
    }
   ],
   "source": [
    "data.corr()"
   ]
  },
  {
   "cell_type": "code",
   "execution_count": 11,
   "metadata": {},
   "outputs": [
    {
     "data": {
      "text/html": [
       "<div>\n",
       "<style scoped>\n",
       "    .dataframe tbody tr th:only-of-type {\n",
       "        vertical-align: middle;\n",
       "    }\n",
       "\n",
       "    .dataframe tbody tr th {\n",
       "        vertical-align: top;\n",
       "    }\n",
       "\n",
       "    .dataframe thead th {\n",
       "        text-align: right;\n",
       "    }\n",
       "</style>\n",
       "<table border=\"1\" class=\"dataframe\">\n",
       "  <thead>\n",
       "    <tr style=\"text-align: right;\">\n",
       "      <th></th>\n",
       "      <th>count</th>\n",
       "      <th>mean</th>\n",
       "      <th>std</th>\n",
       "      <th>min</th>\n",
       "      <th>25%</th>\n",
       "      <th>50%</th>\n",
       "      <th>75%</th>\n",
       "      <th>max</th>\n",
       "    </tr>\n",
       "  </thead>\n",
       "  <tbody>\n",
       "    <tr>\n",
       "      <th>20_target</th>\n",
       "      <td>6167.0</td>\n",
       "      <td>-0.057102</td>\n",
       "      <td>14.834497</td>\n",
       "      <td>-15.780588</td>\n",
       "      <td>-15.350354</td>\n",
       "      <td>0.000000</td>\n",
       "      <td>15.385945</td>\n",
       "      <td>15.768767</td>\n",
       "    </tr>\n",
       "    <tr>\n",
       "      <th>50_target</th>\n",
       "      <td>6167.0</td>\n",
       "      <td>-2.906358</td>\n",
       "      <td>34.559778</td>\n",
       "      <td>-37.142889</td>\n",
       "      <td>-36.208094</td>\n",
       "      <td>-34.267756</td>\n",
       "      <td>35.879524</td>\n",
       "      <td>37.038694</td>\n",
       "    </tr>\n",
       "    <tr>\n",
       "      <th>90_target</th>\n",
       "      <td>6167.0</td>\n",
       "      <td>-3.315072</td>\n",
       "      <td>36.841541</td>\n",
       "      <td>-38.573858</td>\n",
       "      <td>-37.695273</td>\n",
       "      <td>-35.788391</td>\n",
       "      <td>37.521892</td>\n",
       "      <td>38.465649</td>\n",
       "    </tr>\n",
       "  </tbody>\n",
       "</table>\n",
       "</div>"
      ],
      "text/plain": [
       "            count      mean        std        min        25%        50%  \\\n",
       "20_target  6167.0 -0.057102  14.834497 -15.780588 -15.350354   0.000000   \n",
       "50_target  6167.0 -2.906358  34.559778 -37.142889 -36.208094 -34.267756   \n",
       "90_target  6167.0 -3.315072  36.841541 -38.573858 -37.695273 -35.788391   \n",
       "\n",
       "                 75%        max  \n",
       "20_target  15.385945  15.768767  \n",
       "50_target  35.879524  37.038694  \n",
       "90_target  37.521892  38.465649  "
      ]
     },
     "execution_count": 11,
     "metadata": {},
     "output_type": "execute_result"
    }
   ],
   "source": [
    "data[['20_target','50_target','90_target']].describe().T"
   ]
  },
  {
   "cell_type": "code",
   "execution_count": 12,
   "metadata": {},
   "outputs": [
    {
     "data": {
      "text/plain": [
       "ind_5        0.068989\n",
       "ind_6        0.069652\n",
       "ind_8        0.006984\n",
       "ind_9        0.004053\n",
       "ind_10       0.006654\n",
       "               ...   \n",
       "ind_426      0.009063\n",
       "ind_428      0.052418\n",
       "20_target    0.384076\n",
       "50_target    1.000000\n",
       "90_target    0.940916\n",
       "Name: 50_target, Length: 133, dtype: float64"
      ]
     },
     "execution_count": 12,
     "metadata": {},
     "output_type": "execute_result"
    }
   ],
   "source": [
    "cor = data.corr()[\"50_target\"].abs()\n",
    "cor"
   ]
  },
  {
   "cell_type": "code",
   "execution_count": 13,
   "metadata": {},
   "outputs": [
    {
     "data": {
      "text/plain": [
       "Index(['50_target', '90_target', '20_target', 'ind_412', 'ind_18', 'ind_17',\n",
       "       'ind_324', 'ind_332', 'ind_16', 'ind_418'],\n",
       "      dtype='object')"
      ]
     },
     "execution_count": 13,
     "metadata": {},
     "output_type": "execute_result"
    }
   ],
   "source": [
    "corr = cor.nlargest(10).index\n",
    "corr"
   ]
  },
  {
   "cell_type": "code",
   "execution_count": 24,
   "metadata": {},
   "outputs": [
    {
     "data": {
      "image/png": "[encoded data removed]",
      "text/plain": [
       "<Figure size 432x288 with 1 Axes>"
      ]
     },
     "metadata": {
      "needs_background": "light"
     },
     "output_type": "display_data"
    }
   ],
   "source": [
    "plt.hist(data.ind_18,bins=12,\n",
    "         histtype=\"bar\")\n",
    "\n",
    "plt.xlabel(\"ind_18\")\n",
    "plt.ylabel(\"50_target\")\n",
    "\n",
    "plt.show()"
   ]
  },
  {
   "cell_type": "code",
   "execution_count": 26,
   "metadata": {},
   "outputs": [
    {
     "data": {
      "image/png": "[encoded data removed]",
      "text/plain": [
       "<Figure size 432x288 with 1 Axes>"
      ]
     },
     "metadata": {
      "needs_background": "light"
     },
     "output_type": "display_data"
    }
   ],
   "source": [
    "plt.hist(data.ind_17,bins=12,\n",
    "         histtype=\"bar\")\n",
    "\n",
    "plt.xlabel(\"ind_17\")\n",
    "plt.ylabel(\"50_target\")\n",
    "\n",
    "plt.show()"
   ]
  },
  {
   "cell_type": "code",
   "execution_count": 28,
   "metadata": {},
   "outputs": [
    {
     "data": {
      "image/png": "[encoded data removed]",
      "text/plain": [
       "<Figure size 432x288 with 1 Axes>"
      ]
     },
     "metadata": {
      "needs_background": "light"
     },
     "output_type": "display_data"
    }
   ],
   "source": [
    "plt.hist(data.ind_324,bins=12,\n",
    "         histtype=\"bar\")\n",
    "\n",
    "plt.xlabel(\"ind_324\")\n",
    "plt.ylabel(\"50_target\")\n",
    "\n",
    "plt.show()"
   ]
  },
  {
   "cell_type": "code",
   "execution_count": 29,
   "metadata": {},
   "outputs": [
    {
     "data": {
      "image/png": "[encoded data removed]",
      "text/plain": [
       "<Figure size 720x576 with 1 Axes>"
      ]
     },
     "metadata": {
      "needs_background": "light"
     },
     "output_type": "display_data"
    }
   ],
   "source": [
    "plt.figure(figsize=(10,8))\n",
    "boxplot_data = data[[\"ind_18\", \"ind_324\" , \"ind_332\",\"ind_17\" , \"ind_412\" ,\"50_target\",\"ind_418\",\"ind_16\"]]\n",
    "boxplot_data.boxplot()\n",
    "plt.show()"
   ]
  },
  {
   "cell_type": "code",
   "execution_count": 30,
   "metadata": {},
   "outputs": [
    {
     "data": {
      "text/html": [
       "<div>\n",
       "<style scoped>\n",
       "    .dataframe tbody tr th:only-of-type {\n",
       "        vertical-align: middle;\n",
       "    }\n",
       "\n",
       "    .dataframe tbody tr th {\n",
       "        vertical-align: top;\n",
       "    }\n",
       "\n",
       "    .dataframe thead th {\n",
       "        text-align: right;\n",
       "    }\n",
       "</style>\n",
       "<table border=\"1\" class=\"dataframe\">\n",
       "  <thead>\n",
       "    <tr style=\"text-align: right;\">\n",
       "      <th></th>\n",
       "      <th>50_target</th>\n",
       "      <th>ind_412</th>\n",
       "      <th>ind_18</th>\n",
       "      <th>ind_17</th>\n",
       "      <th>ind_324</th>\n",
       "      <th>ind_332</th>\n",
       "      <th>ind_418</th>\n",
       "      <th>ind_16</th>\n",
       "    </tr>\n",
       "  </thead>\n",
       "  <tbody>\n",
       "    <tr>\n",
       "      <th>50_target</th>\n",
       "      <td>1.000000</td>\n",
       "      <td>0.127234</td>\n",
       "      <td>0.127057</td>\n",
       "      <td>0.121097</td>\n",
       "      <td>-0.110802</td>\n",
       "      <td>0.104057</td>\n",
       "      <td>-0.101488</td>\n",
       "      <td>0.101774</td>\n",
       "    </tr>\n",
       "    <tr>\n",
       "      <th>ind_412</th>\n",
       "      <td>0.127234</td>\n",
       "      <td>1.000000</td>\n",
       "      <td>-0.018460</td>\n",
       "      <td>-0.036754</td>\n",
       "      <td>-0.263317</td>\n",
       "      <td>0.077782</td>\n",
       "      <td>-0.337149</td>\n",
       "      <td>-0.025170</td>\n",
       "    </tr>\n",
       "    <tr>\n",
       "      <th>ind_18</th>\n",
       "      <td>0.127057</td>\n",
       "      <td>-0.018460</td>\n",
       "      <td>1.000000</td>\n",
       "      <td>0.545873</td>\n",
       "      <td>-0.257567</td>\n",
       "      <td>0.160939</td>\n",
       "      <td>-0.359179</td>\n",
       "      <td>0.429029</td>\n",
       "    </tr>\n",
       "    <tr>\n",
       "      <th>ind_17</th>\n",
       "      <td>0.121097</td>\n",
       "      <td>-0.036754</td>\n",
       "      <td>0.545873</td>\n",
       "      <td>1.000000</td>\n",
       "      <td>-0.158633</td>\n",
       "      <td>0.064045</td>\n",
       "      <td>-0.416837</td>\n",
       "      <td>0.921295</td>\n",
       "    </tr>\n",
       "    <tr>\n",
       "      <th>ind_324</th>\n",
       "      <td>-0.110802</td>\n",
       "      <td>-0.263317</td>\n",
       "      <td>-0.257567</td>\n",
       "      <td>-0.158633</td>\n",
       "      <td>1.000000</td>\n",
       "      <td>-0.137205</td>\n",
       "      <td>0.400903</td>\n",
       "      <td>-0.093773</td>\n",
       "    </tr>\n",
       "    <tr>\n",
       "      <th>ind_332</th>\n",
       "      <td>0.104057</td>\n",
       "      <td>0.077782</td>\n",
       "      <td>0.160939</td>\n",
       "      <td>0.064045</td>\n",
       "      <td>-0.137205</td>\n",
       "      <td>1.000000</td>\n",
       "      <td>-0.152129</td>\n",
       "      <td>0.039247</td>\n",
       "    </tr>\n",
       "    <tr>\n",
       "      <th>ind_418</th>\n",
       "      <td>-0.101488</td>\n",
       "      <td>-0.337149</td>\n",
       "      <td>-0.359179</td>\n",
       "      <td>-0.416837</td>\n",
       "      <td>0.400903</td>\n",
       "      <td>-0.152129</td>\n",
       "      <td>1.000000</td>\n",
       "      <td>-0.362005</td>\n",
       "    </tr>\n",
       "    <tr>\n",
       "      <th>ind_16</th>\n",
       "      <td>0.101774</td>\n",
       "      <td>-0.025170</td>\n",
       "      <td>0.429029</td>\n",
       "      <td>0.921295</td>\n",
       "      <td>-0.093773</td>\n",
       "      <td>0.039247</td>\n",
       "      <td>-0.362005</td>\n",
       "      <td>1.000000</td>\n",
       "    </tr>\n",
       "  </tbody>\n",
       "</table>\n",
       "</div>"
      ],
      "text/plain": [
       "           50_target   ind_412    ind_18    ind_17   ind_324   ind_332  \\\n",
       "50_target   1.000000  0.127234  0.127057  0.121097 -0.110802  0.104057   \n",
       "ind_412     0.127234  1.000000 -0.018460 -0.036754 -0.263317  0.077782   \n",
       "ind_18      0.127057 -0.018460  1.000000  0.545873 -0.257567  0.160939   \n",
       "ind_17      0.121097 -0.036754  0.545873  1.000000 -0.158633  0.064045   \n",
       "ind_324    -0.110802 -0.263317 -0.257567 -0.158633  1.000000 -0.137205   \n",
       "ind_332     0.104057  0.077782  0.160939  0.064045 -0.137205  1.000000   \n",
       "ind_418    -0.101488 -0.337149 -0.359179 -0.416837  0.400903 -0.152129   \n",
       "ind_16      0.101774 -0.025170  0.429029  0.921295 -0.093773  0.039247   \n",
       "\n",
       "            ind_418    ind_16  \n",
       "50_target -0.101488  0.101774  \n",
       "ind_412   -0.337149 -0.025170  \n",
       "ind_18    -0.359179  0.429029  \n",
       "ind_17    -0.416837  0.921295  \n",
       "ind_324    0.400903 -0.093773  \n",
       "ind_332   -0.152129  0.039247  \n",
       "ind_418    1.000000 -0.362005  \n",
       "ind_16    -0.362005  1.000000  "
      ]
     },
     "execution_count": 30,
     "metadata": {},
     "output_type": "execute_result"
    }
   ],
   "source": [
    "new_data = data[['50_target', 'ind_412', 'ind_18', 'ind_17', 'ind_324', 'ind_332','ind_418','ind_16']]\n",
    "new_data.corr()"
   ]
  },
  {
   "cell_type": "code",
   "execution_count": 32,
   "metadata": {},
   "outputs": [
    {
     "data": {
      "image/png": "[encoded data removed]",
      "text/plain": [
       "<Figure size 1872x1296 with 9 Axes>"
      ]
     },
     "metadata": {
      "needs_background": "light"
     },
     "output_type": "display_data"
    }
   ],
   "source": [
    "new_data.hist(figsize=(26,18), bins=40, xlabelsize=6, ylabelsize=6)\n",
    "plt.show()"
   ]
  },
  {
   "cell_type": "code",
   "execution_count": 31,
   "metadata": {},
   "outputs": [
    {
     "data": {
      "image/png": "[encoded data removed]",
      "text/plain": [
       "<Figure size 720x576 with 2 Axes>"
      ]
     },
     "metadata": {
      "needs_background": "light"
     },
     "output_type": "display_data"
    }
   ],
   "source": [
    "import matplotlib.pyplot as plt\n",
    "import seaborn as sns\n",
    "corr = new_data.corr()\n",
    "fig, ax = plt.subplots(figsize=(10,8))\n",
    "colormap = sns.diverging_palette(220, 10, as_cmap=True)\n",
    "sns.heatmap(corr, cmap=colormap, annot=True, fmt=\".2f\")\n",
    "plt.xticks(range(len(corr.columns)), corr.columns);\n",
    "plt.yticks(range(len(corr.columns)), corr.columns)\n",
    "plt.show()"
   ]
  },
  {
   "cell_type": "code",
   "execution_count": 34,
   "metadata": {},
   "outputs": [],
   "source": [
    "class Statistic():  \n",
    "    def __init__(self,data):\n",
    "        data = pd.read_excel(\"data.xlsx\")\n",
    "        \n",
    "    def shapiro(self, columnName):\n",
    "        \n",
    "        stats, p = shapiro(columnName)\n",
    "        if p > alpha:\n",
    "            print('Örneklem Normal (Gaussian) Dağılımdan gelmektedir (Fail to Reject H0)')\n",
    "        else:\n",
    "            print('Örneklem Normal (Gaussian) Dağılımdan gelmemektedir (reject H0)')\n",
    "            \n",
    "    def spearmanr(self, col_1, col_2):\n",
    "        stats.spearmanr(self.data[col_1],self.data[col_2])\n",
    "        alpha=0.05\n",
    "        if(p>alpha):\n",
    "            print('Statistics=%.3f, p=%.3f' % (stat,p), 'aralarındaki bu ilişki anlamsızdır') \n",
    "        else:\n",
    "            print('Statistics=%.3f, p=%.3f' % (stat,p), 'aralarında bir ilişki vardır ve bu ilişki anlamlıdır')\n",
    "    \n",
    "    def levene(self, columnName1, columnName2):\n",
    "        levene, p = levene(columnName1, columnName2)\n",
    "        print('Statistics=%.3f, p=%.3f' % (levene,p))\n",
    "        if p > alpha:\n",
    "            print('Varyanslar homojendir')\n",
    "        else:\n",
    "            print('Varyanslar homojen değildir')\n",
    "            \n",
    "    def wilcoxon(self, columnName1, columnName2):\n",
    "        stat, p = stats.wilcoxon(columnName1, columnName2)\n",
    "        print('Statistics=%.3f, p=%.3f' % (stat,p))"
   ]
  },
  {
   "cell_type": "code",
   "execution_count": 35,
   "metadata": {},
   "outputs": [
    {
     "name": "stdout",
     "output_type": "stream",
     "text": [
      "Statistics:0.985, p=0.000 \n",
      "örneklem normal dağılımdan gelmemektedir. (reject H0)\n"
     ]
    }
   ],
   "source": [
    "stat, p = stats.shapiro(data[\"ind_412\"])\n",
    "\n",
    "print(\"Statistics:%3.3f, p=%.3f \" % (stat,p))\n",
    "\n",
    "alpha = 0.05 \n",
    "if p>alpha:\n",
    "  print(\"örneklem normal dağılımdan gelmektedir. (Fail to Reject H0)\")\n",
    "else:\n",
    "  print(\"örneklem normal dağılımdan gelmemektedir. (reject H0)\")"
   ]
  },
  {
   "cell_type": "code",
   "execution_count": 36,
   "metadata": {},
   "outputs": [
    {
     "name": "stdout",
     "output_type": "stream",
     "text": [
      "Statistics:0.692, p=0.000 \n",
      "örneklem normal dağılımdan gelmemektedir. (reject H0)\n"
     ]
    }
   ],
   "source": [
    "stat, p = stats.shapiro(data[\"50_target\"])\n",
    "\n",
    "print(\"Statistics:%3.3f, p=%.3f \" % (stat,p))\n",
    "\n",
    "alpha = 0.05 \n",
    "if p>alpha:\n",
    "  print(\"örneklem normal dağılımdan gelmektedir. (Fail to Reject H0)\")\n",
    "else:\n",
    "  print(\"örneklem normal dağılımdan gelmemektedir. (reject H0)\")"
   ]
  },
  {
   "cell_type": "code",
   "execution_count": 39,
   "metadata": {},
   "outputs": [],
   "source": [
    "#Varyansların eşit olup olmadığını anlamak için aşağıdaki yöntem kullanılır"
   ]
  },
  {
   "cell_type": "code",
   "execution_count": 40,
   "metadata": {},
   "outputs": [
    {
     "name": "stdout",
     "output_type": "stream",
     "text": [
      "Statistics:0.692, p=0.000 \n",
      "İki değişkenin varyansı birbirine eşit değildir. (reject H0)\n"
     ]
    }
   ],
   "source": [
    "stats.levene(data[\"50_target\"], data[\"ind_412\"])  #Varyansların eşit olup olmadığını anlamak için.\n",
    "\n",
    "print(\"Statistics:%3.3f, p=%.3f \" % (stat,p))\n",
    "\n",
    "alpha = 0.05 \n",
    "if p>alpha:\n",
    "  print(\"İki değişkenin varyansı birbirine eşittir.(Fail to Reject H0)\")\n",
    "else:\n",
    "  print(\"İki değişkenin varyansı birbirine eşit değildir. (reject H0)\")\n"
   ]
  },
  {
   "cell_type": "code",
   "execution_count": 42,
   "metadata": {},
   "outputs": [
    {
     "data": {
      "text/plain": [
       "Ttest_indResult(statistic=-6.604632042359823, pvalue=4.148655478019836e-11)"
      ]
     },
     "execution_count": 42,
     "metadata": {},
     "output_type": "execute_result"
    }
   ],
   "source": [
    "stats.ttest_ind(data['50_target'],data['ind_412'],equal_var=True) \n",
    "\n",
    "#H0 : İki değişkenin ortalamaları arasında anlamlı bir fark vardır.(Fail to reject)\n",
    "#H1 : İki değişkenin ortalamaları arasında anlamlı bir fark yoktur.(Reject)"
   ]
  },
  {
   "cell_type": "code",
   "execution_count": 49,
   "metadata": {},
   "outputs": [
    {
     "name": "stdout",
     "output_type": "stream",
     "text": [
      "Shapiro Statistics=0.985, p=0.000\n",
      "\u001b[1mind_412:\u001b[0m Örneklem Normal (Gaussian) dağılımdan gelmemektedir (Reject H0)\n",
      "\n",
      "Shapiro Statistics=0.952, p=0.000\n",
      "\u001b[1mind_18:\u001b[0m Örneklem Normal (Gaussian) dağılımdan gelmemektedir (Reject H0)\n",
      "\n",
      "Shapiro Statistics=0.962, p=0.000\n",
      "\u001b[1mind_17:\u001b[0m Örneklem Normal (Gaussian) dağılımdan gelmemektedir (Reject H0)\n",
      "\n",
      "Shapiro Statistics=0.600, p=0.000\n",
      "\u001b[1mind_324:\u001b[0m Örneklem Normal (Gaussian) dağılımdan gelmemektedir (Reject H0)\n",
      "\n",
      "Shapiro Statistics=0.537, p=0.000\n",
      "\u001b[1mind_332:\u001b[0m Örneklem Normal (Gaussian) dağılımdan gelmemektedir (Reject H0)\n",
      "\n",
      "Shapiro Statistics=0.869, p=0.000\n",
      "\u001b[1mind_418:\u001b[0m Örneklem Normal (Gaussian) dağılımdan gelmemektedir (Reject H0)\n",
      "\n",
      "Shapiro Statistics=0.954, p=0.000\n",
      "\u001b[1mind_16:\u001b[0m Örneklem Normal (Gaussian) dağılımdan gelmemektedir (Reject H0)\n",
      "\n"
     ]
    }
   ],
   "source": [
    "for col in new_data.columns[1:]:\n",
    "    if new_data[col].dtypes != object:\n",
    "        \n",
    "        stat, p = shapiro(new_data[col])\n",
    "\n",
    "        print('Shapiro Statistics=%.3f, p=%.3f' % (stat, p))\n",
    "\n",
    "        alpha = 0.05\n",
    "        if p > alpha:\n",
    "            print(col)\n",
    "            print('\\033[1m'+ col + '\\033[0m','Örneklem Normal (Gaussian) dağılımdan gelmektedir (fail to Reject) \\n')\n",
    "        else:\n",
    "            print('\\033[1m'+ col + \":\"+'\\033[0m','Örneklem Normal (Gaussian) dağılımdan gelmemektedir (Reject H0)\\n')"
   ]
  },
  {
   "cell_type": "code",
   "execution_count": 43,
   "metadata": {},
   "outputs": [
    {
     "data": {
      "image/png": "[encoded data removed]",
      "text/plain": [
       "<Figure size 432x288 with 1 Axes>"
      ]
     },
     "metadata": {
      "needs_background": "light"
     },
     "output_type": "display_data"
    }
   ],
   "source": [
    "stats.probplot(new_data[\"ind_412\"], dist = \"norm\", plot=pylab)\n",
    "pylab.show()"
   ]
  },
  {
   "cell_type": "code",
   "execution_count": 44,
   "metadata": {},
   "outputs": [
    {
     "data": {
      "image/png": "[encoded data removed]",
      "text/plain": [
       "<Figure size 432x288 with 1 Axes>"
      ]
     },
     "metadata": {
      "needs_background": "light"
     },
     "output_type": "display_data"
    }
   ],
   "source": [
    "stats.probplot(new_data[\"ind_17\"], dist = \"norm\", plot=pylab)\n",
    "pylab.show()"
   ]
  },
  {
   "cell_type": "code",
   "execution_count": 45,
   "metadata": {},
   "outputs": [
    {
     "data": {
      "image/png": "[encoded data removed]",
      "text/plain": [
       "<Figure size 432x288 with 1 Axes>"
      ]
     },
     "metadata": {
      "needs_background": "light"
     },
     "output_type": "display_data"
    }
   ],
   "source": [
    "stats.probplot(new_data[\"ind_18\"], dist = \"norm\", plot=pylab)\n",
    "pylab.show()"
   ]
  },
  {
   "cell_type": "code",
   "execution_count": 46,
   "metadata": {},
   "outputs": [
    {
     "data": {
      "image/png": "[encoded data removed]",
      "text/plain": [
       "<Figure size 432x288 with 1 Axes>"
      ]
     },
     "metadata": {
      "needs_background": "light"
     },
     "output_type": "display_data"
    }
   ],
   "source": [
    "stats.probplot(new_data[\"ind_332\"], dist = \"norm\", plot=pylab)\n",
    "pylab.show()"
   ]
  },
  {
   "cell_type": "code",
   "execution_count": 47,
   "metadata": {},
   "outputs": [
    {
     "data": {
      "image/png": "[encoded data removed]",
      "text/plain": [
       "<Figure size 432x288 with 1 Axes>"
      ]
     },
     "metadata": {
      "needs_background": "light"
     },
     "output_type": "display_data"
    }
   ],
   "source": [
    "stats.probplot(new_data[\"ind_324\"], dist = \"norm\", plot=pylab)\n",
    "pylab.show()"
   ]
  },
  {
   "cell_type": "code",
   "execution_count": null,
   "metadata": {},
   "outputs": [],
   "source": [
    "### Linear Regression"
   ]
  },
  {
   "cell_type": "code",
   "execution_count": 50,
   "metadata": {},
   "outputs": [],
   "source": [
    "data= pd.read_excel(\"data.xlsx\")"
   ]
  },
  {
   "cell_type": "code",
   "execution_count": 51,
   "metadata": {},
   "outputs": [
    {
     "data": {
      "text/html": [
       "<div>\n",
       "<style scoped>\n",
       "    .dataframe tbody tr th:only-of-type {\n",
       "        vertical-align: middle;\n",
       "    }\n",
       "\n",
       "    .dataframe tbody tr th {\n",
       "        vertical-align: top;\n",
       "    }\n",
       "\n",
       "    .dataframe thead th {\n",
       "        text-align: right;\n",
       "    }\n",
       "</style>\n",
       "<table border=\"1\" class=\"dataframe\">\n",
       "  <thead>\n",
       "    <tr style=\"text-align: right;\">\n",
       "      <th></th>\n",
       "      <th>ind_412</th>\n",
       "      <th>ind_18</th>\n",
       "      <th>ind_17</th>\n",
       "      <th>ind_324</th>\n",
       "      <th>ind_332</th>\n",
       "      <th>ind_418</th>\n",
       "      <th>ind_16</th>\n",
       "    </tr>\n",
       "  </thead>\n",
       "  <tbody>\n",
       "    <tr>\n",
       "      <th>0</th>\n",
       "      <td>0.002371</td>\n",
       "      <td>9.1100</td>\n",
       "      <td>12.060000</td>\n",
       "      <td>-0.000062</td>\n",
       "      <td>20.967742</td>\n",
       "      <td>-54</td>\n",
       "      <td>11.73</td>\n",
       "    </tr>\n",
       "    <tr>\n",
       "      <th>1</th>\n",
       "      <td>0.003074</td>\n",
       "      <td>9.2225</td>\n",
       "      <td>11.326667</td>\n",
       "      <td>-0.000062</td>\n",
       "      <td>20.800000</td>\n",
       "      <td>-60</td>\n",
       "      <td>12.22</td>\n",
       "    </tr>\n",
       "    <tr>\n",
       "      <th>2</th>\n",
       "      <td>0.003561</td>\n",
       "      <td>9.3125</td>\n",
       "      <td>10.973333</td>\n",
       "      <td>-0.000062</td>\n",
       "      <td>20.634921</td>\n",
       "      <td>-60</td>\n",
       "      <td>12.28</td>\n",
       "    </tr>\n",
       "    <tr>\n",
       "      <th>3</th>\n",
       "      <td>0.004366</td>\n",
       "      <td>9.4150</td>\n",
       "      <td>10.426667</td>\n",
       "      <td>-0.000062</td>\n",
       "      <td>20.472441</td>\n",
       "      <td>-65</td>\n",
       "      <td>12.61</td>\n",
       "    </tr>\n",
       "    <tr>\n",
       "      <th>4</th>\n",
       "      <td>0.004198</td>\n",
       "      <td>9.8925</td>\n",
       "      <td>11.406667</td>\n",
       "      <td>-0.000062</td>\n",
       "      <td>20.312500</td>\n",
       "      <td>-86</td>\n",
       "      <td>14.25</td>\n",
       "    </tr>\n",
       "  </tbody>\n",
       "</table>\n",
       "</div>"
      ],
      "text/plain": [
       "    ind_412  ind_18     ind_17   ind_324    ind_332  ind_418  ind_16\n",
       "0  0.002371  9.1100  12.060000 -0.000062  20.967742      -54   11.73\n",
       "1  0.003074  9.2225  11.326667 -0.000062  20.800000      -60   12.22\n",
       "2  0.003561  9.3125  10.973333 -0.000062  20.634921      -60   12.28\n",
       "3  0.004366  9.4150  10.426667 -0.000062  20.472441      -65   12.61\n",
       "4  0.004198  9.8925  11.406667 -0.000062  20.312500      -86   14.25"
      ]
     },
     "execution_count": 51,
     "metadata": {},
     "output_type": "execute_result"
    }
   ],
   "source": [
    "X= data[[\"ind_412\",\"ind_18\",\"ind_17\",\"ind_324\",\"ind_332\",\"ind_418\",\"ind_16\"]]    # bağımlı değişken\n",
    "X[0:5]"
   ]
  },
  {
   "cell_type": "code",
   "execution_count": 52,
   "metadata": {},
   "outputs": [],
   "source": [
    "X=sm.add_constant(X)"
   ]
  },
  {
   "cell_type": "code",
   "execution_count": 54,
   "metadata": {},
   "outputs": [
    {
     "data": {
      "text/html": [
       "<div>\n",
       "<style scoped>\n",
       "    .dataframe tbody tr th:only-of-type {\n",
       "        vertical-align: middle;\n",
       "    }\n",
       "\n",
       "    .dataframe tbody tr th {\n",
       "        vertical-align: top;\n",
       "    }\n",
       "\n",
       "    .dataframe thead th {\n",
       "        text-align: right;\n",
       "    }\n",
       "</style>\n",
       "<table border=\"1\" class=\"dataframe\">\n",
       "  <thead>\n",
       "    <tr style=\"text-align: right;\">\n",
       "      <th></th>\n",
       "      <th>50_target</th>\n",
       "    </tr>\n",
       "  </thead>\n",
       "  <tbody>\n",
       "    <tr>\n",
       "      <th>0</th>\n",
       "      <td>35.625252</td>\n",
       "    </tr>\n",
       "    <tr>\n",
       "      <th>1</th>\n",
       "      <td>35.643013</td>\n",
       "    </tr>\n",
       "    <tr>\n",
       "      <th>2</th>\n",
       "      <td>35.651301</td>\n",
       "    </tr>\n",
       "    <tr>\n",
       "      <th>3</th>\n",
       "      <td>0.000000</td>\n",
       "    </tr>\n",
       "    <tr>\n",
       "      <th>4</th>\n",
       "      <td>-35.727079</td>\n",
       "    </tr>\n",
       "  </tbody>\n",
       "</table>\n",
       "</div>"
      ],
      "text/plain": [
       "   50_target\n",
       "0  35.625252\n",
       "1  35.643013\n",
       "2  35.651301\n",
       "3   0.000000\n",
       "4 -35.727079"
      ]
     },
     "execution_count": 54,
     "metadata": {},
     "output_type": "execute_result"
    }
   ],
   "source": [
    "y=data[[\"50_target\"]] \n",
    "y[0:5]"
   ]
  },
  {
   "cell_type": "code",
   "execution_count": 55,
   "metadata": {},
   "outputs": [
    {
     "data": {
      "text/html": [
       "<table class=\"simpletable\">\n",
       "<caption>OLS Regression Results</caption>\n",
       "<tr>\n",
       "  <th>Dep. Variable:</th>        <td>50_target</td>    <th>  R-squared:         </th> <td>   0.045</td> \n",
       "</tr>\n",
       "<tr>\n",
       "  <th>Model:</th>                   <td>OLS</td>       <th>  Adj. R-squared:    </th> <td>   0.044</td> \n",
       "</tr>\n",
       "<tr>\n",
       "  <th>Method:</th>             <td>Least Squares</td>  <th>  F-statistic:       </th> <td>   41.75</td> \n",
       "</tr>\n",
       "<tr>\n",
       "  <th>Date:</th>             <td>Thu, 06 Aug 2020</td> <th>  Prob (F-statistic):</th> <td>6.97e-58</td> \n",
       "</tr>\n",
       "<tr>\n",
       "  <th>Time:</th>                 <td>18:11:26</td>     <th>  Log-Likelihood:    </th> <td> -30455.</td> \n",
       "</tr>\n",
       "<tr>\n",
       "  <th>No. Observations:</th>      <td>  6167</td>      <th>  AIC:               </th> <td>6.093e+04</td>\n",
       "</tr>\n",
       "<tr>\n",
       "  <th>Df Residuals:</th>          <td>  6159</td>      <th>  BIC:               </th> <td>6.098e+04</td>\n",
       "</tr>\n",
       "<tr>\n",
       "  <th>Df Model:</th>              <td>     7</td>      <th>                     </th>     <td> </td>    \n",
       "</tr>\n",
       "<tr>\n",
       "  <th>Covariance Type:</th>      <td>nonrobust</td>    <th>                     </th>     <td> </td>    \n",
       "</tr>\n",
       "</table>\n",
       "<table class=\"simpletable\">\n",
       "<tr>\n",
       "     <td></td>        <th>coef</th>     <th>std err</th>      <th>t</th>      <th>P>|t|</th>  <th>[0.025</th>    <th>0.975]</th>  \n",
       "</tr>\n",
       "<tr>\n",
       "  <th>const</th>   <td>  -22.0384</td> <td>    1.969</td> <td>  -11.192</td> <td> 0.000</td> <td>  -25.899</td> <td>  -18.178</td>\n",
       "</tr>\n",
       "<tr>\n",
       "  <th>ind_412</th> <td>  760.3794</td> <td>   84.029</td> <td>    9.049</td> <td> 0.000</td> <td>  595.653</td> <td>  925.106</td>\n",
       "</tr>\n",
       "<tr>\n",
       "  <th>ind_18</th>  <td>    0.8350</td> <td>    0.201</td> <td>    4.149</td> <td> 0.000</td> <td>    0.441</td> <td>    1.230</td>\n",
       "</tr>\n",
       "<tr>\n",
       "  <th>ind_17</th>  <td>    0.8312</td> <td>    0.278</td> <td>    2.994</td> <td> 0.003</td> <td>    0.287</td> <td>    1.376</td>\n",
       "</tr>\n",
       "<tr>\n",
       "  <th>ind_324</th> <td>-1.265e+04</td> <td> 3643.516</td> <td>   -3.473</td> <td> 0.001</td> <td>-1.98e+04</td> <td>-5512.106</td>\n",
       "</tr>\n",
       "<tr>\n",
       "  <th>ind_332</th> <td>    0.0827</td> <td>    0.014</td> <td>    5.971</td> <td> 0.000</td> <td>    0.056</td> <td>    0.110</td>\n",
       "</tr>\n",
       "<tr>\n",
       "  <th>ind_418</th> <td>    0.0499</td> <td>    0.023</td> <td>    2.131</td> <td> 0.033</td> <td>    0.004</td> <td>    0.096</td>\n",
       "</tr>\n",
       "<tr>\n",
       "  <th>ind_16</th>  <td>   -0.1253</td> <td>    0.230</td> <td>   -0.545</td> <td> 0.586</td> <td>   -0.576</td> <td>    0.325</td>\n",
       "</tr>\n",
       "</table>\n",
       "<table class=\"simpletable\">\n",
       "<tr>\n",
       "  <th>Omnibus:</th>       <td>26083.064</td> <th>  Durbin-Watson:     </th> <td>   0.308</td> \n",
       "</tr>\n",
       "<tr>\n",
       "  <th>Prob(Omnibus):</th>  <td> 0.000</td>   <th>  Jarque-Bera (JB):  </th> <td> 789.561</td> \n",
       "</tr>\n",
       "<tr>\n",
       "  <th>Skew:</th>           <td> 0.131</td>   <th>  Prob(JB):          </th> <td>3.54e-172</td>\n",
       "</tr>\n",
       "<tr>\n",
       "  <th>Kurtosis:</th>       <td> 1.267</td>   <th>  Cond. No.          </th> <td>3.92e+05</td> \n",
       "</tr>\n",
       "</table><br/><br/>Warnings:<br/>[1] Standard Errors assume that the covariance matrix of the errors is correctly specified.<br/>[2] The condition number is large, 3.92e+05. This might indicate that there are<br/>strong multicollinearity or other numerical problems."
      ],
      "text/plain": [
       "<class 'statsmodels.iolib.summary.Summary'>\n",
       "\"\"\"\n",
       "                            OLS Regression Results                            \n",
       "==============================================================================\n",
       "Dep. Variable:              50_target   R-squared:                       0.045\n",
       "Model:                            OLS   Adj. R-squared:                  0.044\n",
       "Method:                 Least Squares   F-statistic:                     41.75\n",
       "Date:                Thu, 06 Aug 2020   Prob (F-statistic):           6.97e-58\n",
       "Time:                        18:11:26   Log-Likelihood:                -30455.\n",
       "No. Observations:                6167   AIC:                         6.093e+04\n",
       "Df Residuals:                    6159   BIC:                         6.098e+04\n",
       "Df Model:                           7                                         \n",
       "Covariance Type:            nonrobust                                         \n",
       "==============================================================================\n",
       "                 coef    std err          t      P>|t|      [0.025      0.975]\n",
       "------------------------------------------------------------------------------\n",
       "const        -22.0384      1.969    -11.192      0.000     -25.899     -18.178\n",
       "ind_412      760.3794     84.029      9.049      0.000     595.653     925.106\n",
       "ind_18         0.8350      0.201      4.149      0.000       0.441       1.230\n",
       "ind_17         0.8312      0.278      2.994      0.003       0.287       1.376\n",
       "ind_324    -1.265e+04   3643.516     -3.473      0.001   -1.98e+04   -5512.106\n",
       "ind_332        0.0827      0.014      5.971      0.000       0.056       0.110\n",
       "ind_418        0.0499      0.023      2.131      0.033       0.004       0.096\n",
       "ind_16        -0.1253      0.230     -0.545      0.586      -0.576       0.325\n",
       "==============================================================================\n",
       "Omnibus:                    26083.064   Durbin-Watson:                   0.308\n",
       "Prob(Omnibus):                  0.000   Jarque-Bera (JB):              789.561\n",
       "Skew:                           0.131   Prob(JB):                    3.54e-172\n",
       "Kurtosis:                       1.267   Cond. No.                     3.92e+05\n",
       "==============================================================================\n",
       "\n",
       "Warnings:\n",
       "[1] Standard Errors assume that the covariance matrix of the errors is correctly specified.\n",
       "[2] The condition number is large, 3.92e+05. This might indicate that there are\n",
       "strong multicollinearity or other numerical problems.\n",
       "\"\"\""
      ]
     },
     "execution_count": 55,
     "metadata": {},
     "output_type": "execute_result"
    }
   ],
   "source": [
    "lm=sm.OLS(y,X)    \n",
    "model=lm.fit()\n",
    "model.summary()"
   ]
  },
  {
   "cell_type": "code",
   "execution_count": 56,
   "metadata": {},
   "outputs": [
    {
     "data": {
      "text/html": [
       "<table class=\"simpletable\">\n",
       "<tr>\n",
       "     <td></td>        <th>coef</th>     <th>std err</th>      <th>t</th>      <th>P>|t|</th>  <th>[0.025</th>    <th>0.975]</th>  \n",
       "</tr>\n",
       "<tr>\n",
       "  <th>const</th>   <td>  -22.0384</td> <td>    1.969</td> <td>  -11.192</td> <td> 0.000</td> <td>  -25.899</td> <td>  -18.178</td>\n",
       "</tr>\n",
       "<tr>\n",
       "  <th>ind_412</th> <td>  760.3794</td> <td>   84.029</td> <td>    9.049</td> <td> 0.000</td> <td>  595.653</td> <td>  925.106</td>\n",
       "</tr>\n",
       "<tr>\n",
       "  <th>ind_18</th>  <td>    0.8350</td> <td>    0.201</td> <td>    4.149</td> <td> 0.000</td> <td>    0.441</td> <td>    1.230</td>\n",
       "</tr>\n",
       "<tr>\n",
       "  <th>ind_17</th>  <td>    0.8312</td> <td>    0.278</td> <td>    2.994</td> <td> 0.003</td> <td>    0.287</td> <td>    1.376</td>\n",
       "</tr>\n",
       "<tr>\n",
       "  <th>ind_324</th> <td>-1.265e+04</td> <td> 3643.516</td> <td>   -3.473</td> <td> 0.001</td> <td>-1.98e+04</td> <td>-5512.106</td>\n",
       "</tr>\n",
       "<tr>\n",
       "  <th>ind_332</th> <td>    0.0827</td> <td>    0.014</td> <td>    5.971</td> <td> 0.000</td> <td>    0.056</td> <td>    0.110</td>\n",
       "</tr>\n",
       "<tr>\n",
       "  <th>ind_418</th> <td>    0.0499</td> <td>    0.023</td> <td>    2.131</td> <td> 0.033</td> <td>    0.004</td> <td>    0.096</td>\n",
       "</tr>\n",
       "<tr>\n",
       "  <th>ind_16</th>  <td>   -0.1253</td> <td>    0.230</td> <td>   -0.545</td> <td> 0.586</td> <td>   -0.576</td> <td>    0.325</td>\n",
       "</tr>\n",
       "</table>"
      ],
      "text/plain": [
       "<class 'statsmodels.iolib.table.SimpleTable'>"
      ]
     },
     "execution_count": 56,
     "metadata": {},
     "output_type": "execute_result"
    }
   ],
   "source": [
    "model.summary().tables[1]"
   ]
  },
  {
   "cell_type": "code",
   "execution_count": 57,
   "metadata": {},
   "outputs": [
    {
     "data": {
      "text/plain": [
       "6.970686972837003e-58"
      ]
     },
     "execution_count": 57,
     "metadata": {},
     "output_type": "execute_result"
    }
   ],
   "source": [
    "model.f_pvalue"
   ]
  },
  {
   "cell_type": "code",
   "execution_count": 58,
   "metadata": {},
   "outputs": [
    {
     "data": {
      "text/html": [
       "<div>\n",
       "<style scoped>\n",
       "    .dataframe tbody tr th:only-of-type {\n",
       "        vertical-align: middle;\n",
       "    }\n",
       "\n",
       "    .dataframe tbody tr th {\n",
       "        vertical-align: top;\n",
       "    }\n",
       "\n",
       "    .dataframe thead th {\n",
       "        text-align: right;\n",
       "    }\n",
       "</style>\n",
       "<table border=\"1\" class=\"dataframe\">\n",
       "  <thead>\n",
       "    <tr style=\"text-align: right;\">\n",
       "      <th></th>\n",
       "      <th>0</th>\n",
       "      <th>1</th>\n",
       "    </tr>\n",
       "  </thead>\n",
       "  <tbody>\n",
       "    <tr>\n",
       "      <th>const</th>\n",
       "      <td>-25.898562</td>\n",
       "      <td>-18.178221</td>\n",
       "    </tr>\n",
       "    <tr>\n",
       "      <th>ind_412</th>\n",
       "      <td>595.653007</td>\n",
       "      <td>925.105854</td>\n",
       "    </tr>\n",
       "    <tr>\n",
       "      <th>ind_18</th>\n",
       "      <td>0.440511</td>\n",
       "      <td>1.229546</td>\n",
       "    </tr>\n",
       "    <tr>\n",
       "      <th>ind_17</th>\n",
       "      <td>0.286876</td>\n",
       "      <td>1.375514</td>\n",
       "    </tr>\n",
       "    <tr>\n",
       "      <th>ind_324</th>\n",
       "      <td>-19797.234248</td>\n",
       "      <td>-5512.105891</td>\n",
       "    </tr>\n",
       "    <tr>\n",
       "      <th>ind_332</th>\n",
       "      <td>0.055555</td>\n",
       "      <td>0.109866</td>\n",
       "    </tr>\n",
       "    <tr>\n",
       "      <th>ind_418</th>\n",
       "      <td>0.003994</td>\n",
       "      <td>0.095771</td>\n",
       "    </tr>\n",
       "    <tr>\n",
       "      <th>ind_16</th>\n",
       "      <td>-0.575981</td>\n",
       "      <td>0.325433</td>\n",
       "    </tr>\n",
       "  </tbody>\n",
       "</table>\n",
       "</div>"
      ],
      "text/plain": [
       "                    0            1\n",
       "const      -25.898562   -18.178221\n",
       "ind_412    595.653007   925.105854\n",
       "ind_18       0.440511     1.229546\n",
       "ind_17       0.286876     1.375514\n",
       "ind_324 -19797.234248 -5512.105891\n",
       "ind_332      0.055555     0.109866\n",
       "ind_418      0.003994     0.095771\n",
       "ind_16      -0.575981     0.325433"
      ]
     },
     "execution_count": 58,
     "metadata": {},
     "output_type": "execute_result"
    }
   ],
   "source": [
    "model.conf_int()"
   ]
  },
  {
   "cell_type": "code",
   "execution_count": 59,
   "metadata": {},
   "outputs": [
    {
     "data": {
      "text/plain": [
       "0   -4.250667\n",
       "1   -4.606307\n",
       "2   -4.475751\n",
       "3   -4.536794\n",
       "4   -4.717559\n",
       "dtype: float64"
      ]
     },
     "execution_count": 59,
     "metadata": {},
     "output_type": "execute_result"
    }
   ],
   "source": [
    "model.fittedvalues[0:5]"
   ]
  },
  {
   "cell_type": "code",
   "execution_count": 60,
   "metadata": {},
   "outputs": [
    {
     "data": {
      "text/html": [
       "<div>\n",
       "<style scoped>\n",
       "    .dataframe tbody tr th:only-of-type {\n",
       "        vertical-align: middle;\n",
       "    }\n",
       "\n",
       "    .dataframe tbody tr th {\n",
       "        vertical-align: top;\n",
       "    }\n",
       "\n",
       "    .dataframe thead th {\n",
       "        text-align: right;\n",
       "    }\n",
       "</style>\n",
       "<table border=\"1\" class=\"dataframe\">\n",
       "  <thead>\n",
       "    <tr style=\"text-align: right;\">\n",
       "      <th></th>\n",
       "      <th>50_target</th>\n",
       "    </tr>\n",
       "  </thead>\n",
       "  <tbody>\n",
       "    <tr>\n",
       "      <th>0</th>\n",
       "      <td>35.625252</td>\n",
       "    </tr>\n",
       "    <tr>\n",
       "      <th>1</th>\n",
       "      <td>35.643013</td>\n",
       "    </tr>\n",
       "    <tr>\n",
       "      <th>2</th>\n",
       "      <td>35.651301</td>\n",
       "    </tr>\n",
       "    <tr>\n",
       "      <th>3</th>\n",
       "      <td>0.000000</td>\n",
       "    </tr>\n",
       "    <tr>\n",
       "      <th>4</th>\n",
       "      <td>-35.727079</td>\n",
       "    </tr>\n",
       "  </tbody>\n",
       "</table>\n",
       "</div>"
      ],
      "text/plain": [
       "   50_target\n",
       "0  35.625252\n",
       "1  35.643013\n",
       "2  35.651301\n",
       "3   0.000000\n",
       "4 -35.727079"
      ]
     },
     "execution_count": 60,
     "metadata": {},
     "output_type": "execute_result"
    }
   ],
   "source": [
    "y[0:5]"
   ]
  },
  {
   "cell_type": "code",
   "execution_count": 61,
   "metadata": {},
   "outputs": [
    {
     "data": {
      "text/plain": [
       "0    0.002371\n",
       "1    0.003074\n",
       "2    0.003561\n",
       "3    0.004366\n",
       "4    0.004198\n",
       "Name: ind_412, dtype: float64"
      ]
     },
     "execution_count": 61,
     "metadata": {},
     "output_type": "execute_result"
    }
   ],
   "source": [
    "X['ind_412'][0:5]"
   ]
  },
  {
   "cell_type": "code",
   "execution_count": 62,
   "metadata": {},
   "outputs": [],
   "source": [
    "y_predicted=[]\n",
    "for i in range(len(y)):\n",
    "    y_predicted.append(X['ind_412'][i]*float(model.params[1])+float(model.params[0]))"
   ]
  },
  {
   "cell_type": "code",
   "execution_count": 63,
   "metadata": {},
   "outputs": [
    {
     "data": {
      "text/plain": [
       "[-20.23519358806225,\n",
       " -19.7006795446113,\n",
       " -19.330416582739918,\n",
       " -18.718473101863054,\n",
       " -18.846327861613798]"
      ]
     },
     "execution_count": 63,
     "metadata": {},
     "output_type": "execute_result"
    }
   ],
   "source": [
    "y_predicted[0:5]"
   ]
  },
  {
   "cell_type": "code",
   "execution_count": 69,
   "metadata": {},
   "outputs": [
    {
     "data": {
      "image/png": "[encoded data removed]",
      "text/plain": [
       "<Figure size 432x288 with 1 Axes>"
      ]
     },
     "metadata": {
      "needs_background": "light"
     },
     "output_type": "display_data"
    }
   ],
   "source": [
    "g = sns.regplot(data['ind_412'],data['50_target'], ci=None, scatter_kws={'s':9})\n",
    "g.set_ylabel('50_target')\n",
    "g.set_xlabel('ind_412')\n",
    "fig = g.get_figure()\n",
    "fig.savefig(\"output.png\")"
   ]
  },
  {
   "cell_type": "code",
   "execution_count": 70,
   "metadata": {},
   "outputs": [],
   "source": [
    "from sklearn.linear_model import LinearRegression"
   ]
  },
  {
   "cell_type": "code",
   "execution_count": 72,
   "metadata": {},
   "outputs": [],
   "source": [
    "X = data[['ind_412']]\n",
    "y= data['50_target']"
   ]
  },
  {
   "cell_type": "code",
   "execution_count": 73,
   "metadata": {},
   "outputs": [],
   "source": [
    "reg = LinearRegression()\n",
    "model= reg.fit(X,y)"
   ]
  },
  {
   "cell_type": "code",
   "execution_count": 74,
   "metadata": {},
   "outputs": [
    {
     "data": {
      "text/plain": [
       "-3.0802611305832257"
      ]
     },
     "execution_count": 74,
     "metadata": {},
     "output_type": "execute_result"
    }
   ],
   "source": [
    "model.intercept_"
   ]
  },
  {
   "cell_type": "code",
   "execution_count": 75,
   "metadata": {},
   "outputs": [
    {
     "data": {
      "text/plain": [
       "776.9121351827604"
      ]
     },
     "execution_count": 75,
     "metadata": {},
     "output_type": "execute_result"
    }
   ],
   "source": [
    "model.coef_[0]"
   ]
  },
  {
   "cell_type": "code",
   "execution_count": 76,
   "metadata": {},
   "outputs": [
    {
     "data": {
      "text/plain": [
       "0.016188589237305262"
      ]
     },
     "execution_count": 76,
     "metadata": {},
     "output_type": "execute_result"
    }
   ],
   "source": [
    "model.score(X,y)"
   ]
  },
  {
   "cell_type": "code",
   "execution_count": 77,
   "metadata": {},
   "outputs": [
    {
     "data": {
      "text/plain": [
       "array([-1.23785673, -0.69172091, -0.31340743,  0.31184136,  0.18120669,\n",
       "        1.11100659,  1.38596356,  0.8907419 ,  0.13230473,  0.10143568])"
      ]
     },
     "execution_count": 77,
     "metadata": {},
     "output_type": "execute_result"
    }
   ],
   "source": [
    "prediction=model.predict(X)\n",
    "prediction[0:10]"
   ]
  },
  {
   "cell_type": "code",
   "execution_count": 78,
   "metadata": {},
   "outputs": [],
   "source": [
    "error_df=prediction-y"
   ]
  },
  {
   "cell_type": "code",
   "execution_count": 79,
   "metadata": {},
   "outputs": [],
   "source": [
    "error_arr=error_df.values"
   ]
  },
  {
   "cell_type": "code",
   "execution_count": 80,
   "metadata": {},
   "outputs": [
    {
     "data": {
      "text/plain": [
       "1175.0429350508957"
      ]
     },
     "execution_count": 80,
     "metadata": {},
     "output_type": "execute_result"
    }
   ],
   "source": [
    "error_df.var()"
   ]
  },
  {
   "cell_type": "code",
   "execution_count": 81,
   "metadata": {},
   "outputs": [
    {
     "data": {
      "text/plain": [
       "33.103797261077915"
      ]
     },
     "execution_count": 81,
     "metadata": {},
     "output_type": "execute_result"
    }
   ],
   "source": [
    "error_df.abs().mean()"
   ]
  },
  {
   "cell_type": "code",
   "execution_count": null,
   "metadata": {},
   "outputs": [],
   "source": []
  },
  {
   "cell_type": "code",
   "execution_count": null,
   "metadata": {},
   "outputs": [],
   "source": []
  },
  {
   "cell_type": "code",
   "execution_count": null,
   "metadata": {},
   "outputs": [],
   "source": []
  },
  {
   "cell_type": "code",
   "execution_count": null,
   "metadata": {},
   "outputs": [],
   "source": []
  },
  {
   "cell_type": "markdown",
   "metadata": {},
   "source": [
    "# PCA"
   ]
  },
  {
   "cell_type": "code",
   "execution_count": 85,
   "metadata": {},
   "outputs": [
    {
     "data": {
      "text/plain": [
       "{'ind_109', 'ind_420', 'ind_422'}"
      ]
     },
     "execution_count": 85,
     "metadata": {},
     "output_type": "execute_result"
    }
   ],
   "source": [
    "col=data.columns\n",
    "\n",
    "num_cols=data._get_numeric_data().columns\n",
    "cat=set(col)-set(num_cols)\n",
    "cat"
   ]
  },
  {
   "cell_type": "code",
   "execution_count": 87,
   "metadata": {},
   "outputs": [
    {
     "data": {
      "text/plain": [
       "array(['GREEN', 'RED'], dtype=object)"
      ]
     },
     "execution_count": 87,
     "metadata": {},
     "output_type": "execute_result"
    }
   ],
   "source": [
    "data['ind_109'].unique()"
   ]
  },
  {
   "cell_type": "code",
   "execution_count": 88,
   "metadata": {},
   "outputs": [
    {
     "data": {
      "text/plain": [
       "GREEN    3132\n",
       "RED      3035\n",
       "Name: ind_109, dtype: int64"
      ]
     },
     "execution_count": 88,
     "metadata": {},
     "output_type": "execute_result"
    }
   ],
   "source": [
    "data[\"ind_109\"].value_counts()"
   ]
  },
  {
   "cell_type": "code",
   "execution_count": 90,
   "metadata": {},
   "outputs": [
    {
     "data": {
      "text/html": [
       "<div>\n",
       "<style scoped>\n",
       "    .dataframe tbody tr th:only-of-type {\n",
       "        vertical-align: middle;\n",
       "    }\n",
       "\n",
       "    .dataframe tbody tr th {\n",
       "        vertical-align: top;\n",
       "    }\n",
       "\n",
       "    .dataframe thead th {\n",
       "        text-align: right;\n",
       "    }\n",
       "</style>\n",
       "<table border=\"1\" class=\"dataframe\">\n",
       "  <thead>\n",
       "    <tr style=\"text-align: right;\">\n",
       "      <th></th>\n",
       "      <th>ind_109</th>\n",
       "      <th>ind_420</th>\n",
       "      <th>ind_422</th>\n",
       "    </tr>\n",
       "  </thead>\n",
       "  <tbody>\n",
       "    <tr>\n",
       "      <th>0</th>\n",
       "      <td>GREEN</td>\n",
       "      <td>-152</td>\n",
       "      <td>-353</td>\n",
       "    </tr>\n",
       "    <tr>\n",
       "      <th>1</th>\n",
       "      <td>GREEN</td>\n",
       "      <td>-158</td>\n",
       "      <td>-359</td>\n",
       "    </tr>\n",
       "    <tr>\n",
       "      <th>2</th>\n",
       "      <td>GREEN</td>\n",
       "      <td>-160</td>\n",
       "      <td>-362</td>\n",
       "    </tr>\n",
       "    <tr>\n",
       "      <th>3</th>\n",
       "      <td>GREEN</td>\n",
       "      <td>-166</td>\n",
       "      <td>-367</td>\n",
       "    </tr>\n",
       "    <tr>\n",
       "      <th>4</th>\n",
       "      <td>GREEN</td>\n",
       "      <td>-186</td>\n",
       "      <td>-388</td>\n",
       "    </tr>\n",
       "    <tr>\n",
       "      <th>...</th>\n",
       "      <td>...</td>\n",
       "      <td>...</td>\n",
       "      <td>...</td>\n",
       "    </tr>\n",
       "    <tr>\n",
       "      <th>6162</th>\n",
       "      <td>RED</td>\n",
       "      <td>-11</td>\n",
       "      <td>-270</td>\n",
       "    </tr>\n",
       "    <tr>\n",
       "      <th>6163</th>\n",
       "      <td>RED</td>\n",
       "      <td>-12</td>\n",
       "      <td>-271</td>\n",
       "    </tr>\n",
       "    <tr>\n",
       "      <th>6164</th>\n",
       "      <td>GREEN</td>\n",
       "      <td>-21</td>\n",
       "      <td>-280</td>\n",
       "    </tr>\n",
       "    <tr>\n",
       "      <th>6165</th>\n",
       "      <td>GREEN</td>\n",
       "      <td>-33</td>\n",
       "      <td>-292</td>\n",
       "    </tr>\n",
       "    <tr>\n",
       "      <th>6166</th>\n",
       "      <td>GREEN</td>\n",
       "      <td>-28</td>\n",
       "      <td>-288</td>\n",
       "    </tr>\n",
       "  </tbody>\n",
       "</table>\n",
       "<p>6167 rows × 3 columns</p>\n",
       "</div>"
      ],
      "text/plain": [
       "     ind_109 ind_420 ind_422\n",
       "0      GREEN    -152    -353\n",
       "1      GREEN    -158    -359\n",
       "2      GREEN    -160    -362\n",
       "3      GREEN    -166    -367\n",
       "4      GREEN    -186    -388\n",
       "...      ...     ...     ...\n",
       "6162     RED     -11    -270\n",
       "6163     RED     -12    -271\n",
       "6164   GREEN     -21    -280\n",
       "6165   GREEN     -33    -292\n",
       "6166   GREEN     -28    -288\n",
       "\n",
       "[6167 rows x 3 columns]"
      ]
     },
     "execution_count": 90,
     "metadata": {},
     "output_type": "execute_result"
    }
   ],
   "source": [
    "cat = data.select_dtypes(include='object')\n",
    "cat "
   ]
  },
  {
   "cell_type": "code",
   "execution_count": 91,
   "metadata": {},
   "outputs": [
    {
     "data": {
      "text/html": [
       "<div>\n",
       "<style scoped>\n",
       "    .dataframe tbody tr th:only-of-type {\n",
       "        vertical-align: middle;\n",
       "    }\n",
       "\n",
       "    .dataframe tbody tr th {\n",
       "        vertical-align: top;\n",
       "    }\n",
       "\n",
       "    .dataframe thead th {\n",
       "        text-align: right;\n",
       "    }\n",
       "</style>\n",
       "<table border=\"1\" class=\"dataframe\">\n",
       "  <thead>\n",
       "    <tr style=\"text-align: right;\">\n",
       "      <th></th>\n",
       "      <th>ind_5</th>\n",
       "      <th>ind_6</th>\n",
       "      <th>ind_8</th>\n",
       "      <th>ind_9</th>\n",
       "      <th>ind_10</th>\n",
       "      <th>ind_12</th>\n",
       "      <th>ind_13</th>\n",
       "      <th>ind_14</th>\n",
       "      <th>ind_15</th>\n",
       "      <th>ind_16</th>\n",
       "      <th>...</th>\n",
       "      <th>ind_410</th>\n",
       "      <th>ind_412</th>\n",
       "      <th>ind_414</th>\n",
       "      <th>ind_416</th>\n",
       "      <th>ind_418</th>\n",
       "      <th>ind_424</th>\n",
       "      <th>ind_426</th>\n",
       "      <th>ind_428</th>\n",
       "      <th>20_target</th>\n",
       "      <th>90_target</th>\n",
       "    </tr>\n",
       "  </thead>\n",
       "  <tbody>\n",
       "    <tr>\n",
       "      <th>0</th>\n",
       "      <td>19.0</td>\n",
       "      <td>17.0</td>\n",
       "      <td>100.0</td>\n",
       "      <td>85.714286</td>\n",
       "      <td>14.285714</td>\n",
       "      <td>72.363515</td>\n",
       "      <td>60.808814</td>\n",
       "      <td>23.80</td>\n",
       "      <td>17.62</td>\n",
       "      <td>11.73</td>\n",
       "      <td>...</td>\n",
       "      <td>-27.0</td>\n",
       "      <td>0.002371</td>\n",
       "      <td>2.0</td>\n",
       "      <td>-49.6</td>\n",
       "      <td>-54.0</td>\n",
       "      <td>1.0</td>\n",
       "      <td>0.498547</td>\n",
       "      <td>0.701906</td>\n",
       "      <td>15.135802</td>\n",
       "      <td>36.997753</td>\n",
       "    </tr>\n",
       "    <tr>\n",
       "      <th>1</th>\n",
       "      <td>24.0</td>\n",
       "      <td>19.0</td>\n",
       "      <td>100.0</td>\n",
       "      <td>78.571429</td>\n",
       "      <td>21.428571</td>\n",
       "      <td>74.275883</td>\n",
       "      <td>64.366798</td>\n",
       "      <td>11.45</td>\n",
       "      <td>18.16</td>\n",
       "      <td>12.22</td>\n",
       "      <td>...</td>\n",
       "      <td>-31.0</td>\n",
       "      <td>0.003074</td>\n",
       "      <td>0.8</td>\n",
       "      <td>-55.6</td>\n",
       "      <td>-60.0</td>\n",
       "      <td>1.0</td>\n",
       "      <td>0.537088</td>\n",
       "      <td>0.690833</td>\n",
       "      <td>15.143348</td>\n",
       "      <td>37.016198</td>\n",
       "    </tr>\n",
       "    <tr>\n",
       "      <th>2</th>\n",
       "      <td>30.0</td>\n",
       "      <td>24.0</td>\n",
       "      <td>100.0</td>\n",
       "      <td>71.428571</td>\n",
       "      <td>28.571429</td>\n",
       "      <td>75.140402</td>\n",
       "      <td>65.915803</td>\n",
       "      <td>8.75</td>\n",
       "      <td>17.86</td>\n",
       "      <td>12.28</td>\n",
       "      <td>...</td>\n",
       "      <td>-30.0</td>\n",
       "      <td>0.003561</td>\n",
       "      <td>2.7</td>\n",
       "      <td>-58.4</td>\n",
       "      <td>-60.0</td>\n",
       "      <td>1.0</td>\n",
       "      <td>0.615169</td>\n",
       "      <td>0.693040</td>\n",
       "      <td>15.146870</td>\n",
       "      <td>-37.024805</td>\n",
       "    </tr>\n",
       "    <tr>\n",
       "      <th>3</th>\n",
       "      <td>37.0</td>\n",
       "      <td>30.0</td>\n",
       "      <td>100.0</td>\n",
       "      <td>64.285714</td>\n",
       "      <td>35.714286</td>\n",
       "      <td>76.677846</td>\n",
       "      <td>68.584234</td>\n",
       "      <td>7.80</td>\n",
       "      <td>14.76</td>\n",
       "      <td>12.61</td>\n",
       "      <td>...</td>\n",
       "      <td>-30.0</td>\n",
       "      <td>0.004366</td>\n",
       "      <td>0.9</td>\n",
       "      <td>-61.8</td>\n",
       "      <td>-65.0</td>\n",
       "      <td>1.0</td>\n",
       "      <td>0.661517</td>\n",
       "      <td>0.673418</td>\n",
       "      <td>15.153283</td>\n",
       "      <td>-37.040483</td>\n",
       "    </tr>\n",
       "    <tr>\n",
       "      <th>4</th>\n",
       "      <td>41.0</td>\n",
       "      <td>37.0</td>\n",
       "      <td>100.0</td>\n",
       "      <td>57.142857</td>\n",
       "      <td>42.857143</td>\n",
       "      <td>81.603007</td>\n",
       "      <td>76.455495</td>\n",
       "      <td>14.90</td>\n",
       "      <td>11.92</td>\n",
       "      <td>14.25</td>\n",
       "      <td>...</td>\n",
       "      <td>-45.0</td>\n",
       "      <td>0.004198</td>\n",
       "      <td>0.1</td>\n",
       "      <td>-79.8</td>\n",
       "      <td>-86.0</td>\n",
       "      <td>1.0</td>\n",
       "      <td>0.747204</td>\n",
       "      <td>0.700522</td>\n",
       "      <td>-15.179065</td>\n",
       "      <td>-37.103503</td>\n",
       "    </tr>\n",
       "  </tbody>\n",
       "</table>\n",
       "<p>5 rows × 132 columns</p>\n",
       "</div>"
      ],
      "text/plain": [
       "   ind_5  ind_6  ind_8      ind_9     ind_10     ind_12     ind_13  ind_14  \\\n",
       "0   19.0   17.0  100.0  85.714286  14.285714  72.363515  60.808814   23.80   \n",
       "1   24.0   19.0  100.0  78.571429  21.428571  74.275883  64.366798   11.45   \n",
       "2   30.0   24.0  100.0  71.428571  28.571429  75.140402  65.915803    8.75   \n",
       "3   37.0   30.0  100.0  64.285714  35.714286  76.677846  68.584234    7.80   \n",
       "4   41.0   37.0  100.0  57.142857  42.857143  81.603007  76.455495   14.90   \n",
       "\n",
       "   ind_15  ind_16  ...  ind_410   ind_412  ind_414  ind_416  ind_418  ind_424  \\\n",
       "0   17.62   11.73  ...    -27.0  0.002371      2.0    -49.6    -54.0      1.0   \n",
       "1   18.16   12.22  ...    -31.0  0.003074      0.8    -55.6    -60.0      1.0   \n",
       "2   17.86   12.28  ...    -30.0  0.003561      2.7    -58.4    -60.0      1.0   \n",
       "3   14.76   12.61  ...    -30.0  0.004366      0.9    -61.8    -65.0      1.0   \n",
       "4   11.92   14.25  ...    -45.0  0.004198      0.1    -79.8    -86.0      1.0   \n",
       "\n",
       "    ind_426   ind_428  20_target  90_target  \n",
       "0  0.498547  0.701906  15.135802  36.997753  \n",
       "1  0.537088  0.690833  15.143348  37.016198  \n",
       "2  0.615169  0.693040  15.146870 -37.024805  \n",
       "3  0.661517  0.673418  15.153283 -37.040483  \n",
       "4  0.747204  0.700522 -15.179065 -37.103503  \n",
       "\n",
       "[5 rows x 132 columns]"
      ]
     },
     "execution_count": 91,
     "metadata": {},
     "output_type": "execute_result"
    }
   ],
   "source": [
    "dms = pd.get_dummies(data[[\"ind_109\", \"ind_420\", \"ind_422\"]])\n",
    "dms.head()\n",
    "y=data[\"50_target\"]\n",
    "X=data.drop([\"50_target\",\"ind_109\",\"ind_420\",\"ind_422\"], axis=1 ).astype(\"float64\")\n",
    "X.head()"
   ]
  },
  {
   "cell_type": "code",
   "execution_count": 93,
   "metadata": {},
   "outputs": [
    {
     "name": "stdout",
     "output_type": "stream",
     "text": [
      "X_train (4625, 132)\n",
      "X_test (1542, 132)\n",
      "y_train (4625,)\n",
      "y_test (1542,)\n",
      "training (6167, 136)\n"
     ]
    }
   ],
   "source": [
    "X_train, X_test, y_train, y_test =train_test_split(X,y,test_size=0.25, random_state=42)\n",
    "print(\"X_train\", X_train.shape)\n",
    "print(\"X_test\", X_test.shape)\n",
    "print(\"y_train\", y_train.shape)\n",
    "print(\"y_test\", y_test.shape)\n",
    "training = data.copy()\n",
    "print(\"training\", training.shape)"
   ]
  },
  {
   "cell_type": "code",
   "execution_count": 98,
   "metadata": {},
   "outputs": [],
   "source": [
    "import statsmodels.formula.api as smf\n",
    "from statsmodels.stats.outliers_influence import variance_inflation_factor\n",
    "from scipy.stats import shapiro\n",
    "from patsy import dmatrices\n",
    "\n",
    "from sklearn.linear_model import LinearRegression\n",
    "from sklearn.metrics import mean_squared_error,r2_score\n",
    "from sklearn.decomposition import PCA\n",
    "from sklearn.preprocessing import scale\n",
    "from sklearn.model_selection import train_test_split, cross_val_score, cross_val_predict\n",
    "import numpy as np\n",
    "import pandas as pd"
   ]
  },
  {
   "cell_type": "code",
   "execution_count": 99,
   "metadata": {},
   "outputs": [],
   "source": [
    "pca=PCA()"
   ]
  },
  {
   "cell_type": "code",
   "execution_count": 100,
   "metadata": {},
   "outputs": [],
   "source": [
    "X_reduced_train= pca.fit_transform(scale(X_train))"
   ]
  },
  {
   "cell_type": "code",
   "execution_count": 101,
   "metadata": {},
   "outputs": [
    {
     "data": {
      "text/plain": [
       "array([[ 8.79626641e+00, -4.62676518e+00,  1.91708278e+00,\n",
       "         1.76389744e+00, -2.02407919e+00,  1.48552538e+00,\n",
       "        -1.10521199e+00, -2.92624800e-01, -1.85347061e+00,\n",
       "        -6.52226813e-01,  3.94248103e-01, -8.29372773e-02,\n",
       "         1.08132641e+00, -5.90856600e-01, -1.21767775e+00,\n",
       "        -5.15590053e-01,  4.74364167e-01,  1.42239938e+00,\n",
       "         1.84514920e+00,  2.73418206e-02, -9.91145659e-01,\n",
       "        -3.31269000e-01,  1.50996100e+00, -3.54308803e-01,\n",
       "        -2.88083979e-01,  1.55322754e+00, -1.25646993e-01,\n",
       "         5.85675498e-01, -5.75690235e-01, -1.12161958e+00,\n",
       "        -4.00016140e-01, -8.51981918e-01,  1.09466688e-01,\n",
       "        -4.14899781e-01,  1.83723497e-01, -7.96668355e-01,\n",
       "         4.56531509e-01, -4.09048716e-01,  1.04056432e+00,\n",
       "        -1.13685484e+00, -5.08330549e-02, -2.37693338e-01,\n",
       "         1.04073833e+00,  3.31588736e-01,  1.28599489e-01,\n",
       "         5.88746162e-01, -3.81382403e-01, -3.25292607e-02,\n",
       "         1.01160811e+00, -2.19836382e-01, -6.14058886e-01,\n",
       "         2.37197181e-01,  9.66374102e-02, -3.47300157e-01,\n",
       "        -3.36560448e-02, -4.40799615e-01, -1.82887202e-01,\n",
       "         4.58441053e-02,  2.07344671e-01, -1.82217047e-01,\n",
       "         1.46061857e-01,  1.41957015e-01,  2.07936330e-02,\n",
       "         2.17691443e-02,  2.93245482e-02,  7.22332914e-02,\n",
       "         2.19101679e-01,  3.26867378e-01,  4.03977933e-01,\n",
       "         1.08279218e-01, -9.42789450e-02,  2.70479028e-01,\n",
       "         9.14658187e-02, -2.41389725e-02,  2.19641378e-02,\n",
       "        -2.53341159e-01,  4.88104514e-01, -2.92799232e-01,\n",
       "        -2.57191812e-02,  2.27173140e-01, -6.40096408e-02,\n",
       "         4.46422293e-02,  3.77240930e-01,  1.79925024e-01,\n",
       "        -2.38235459e-01, -2.18088564e-01, -1.41965899e-01,\n",
       "        -6.66319544e-02,  3.25252595e-01,  4.12613543e-01,\n",
       "         1.11505760e-01, -2.63073391e-01,  8.13573207e-03,\n",
       "         2.88737280e-01,  2.94921919e-02,  7.53258902e-02,\n",
       "        -1.89162478e-02, -4.11122860e-02, -1.46099544e-01,\n",
       "        -9.74067242e-02,  1.25599057e-01, -1.38302913e-01,\n",
       "         3.72553544e-02, -2.19535128e-01,  1.69293074e-01,\n",
       "        -8.84212116e-02, -2.31601568e-03,  7.28995351e-03,\n",
       "        -5.69157272e-02, -4.57790939e-02, -6.45995896e-02,\n",
       "        -2.30295024e-02,  7.80736025e-02, -7.91393146e-02,\n",
       "        -2.70188274e-02, -1.24587669e-01,  1.13065027e-02,\n",
       "        -3.76921207e-02,  1.13292634e-02, -2.70809910e-02,\n",
       "        -9.49596233e-04, -1.20431838e-02, -3.64806545e-02,\n",
       "         3.62618276e-02,  4.37866430e-02, -8.09645059e-03,\n",
       "        -1.79181149e-02,  1.45056791e-02, -1.59471027e-03,\n",
       "         2.82328754e-04, -2.79386961e-07, -8.40593632e-12]])"
      ]
     },
     "execution_count": 101,
     "metadata": {},
     "output_type": "execute_result"
    }
   ],
   "source": [
    "X_reduced_train[0:1,:]"
   ]
  },
  {
   "cell_type": "code",
   "execution_count": 102,
   "metadata": {},
   "outputs": [
    {
     "data": {
      "text/plain": [
       "array([36.6 , 48.64, 54.73, 59.14, 62.26, 65.24, 67.92, 69.94, 71.65,\n",
       "       73.3 , 74.84, 76.24, 77.61, 78.87, 80.04, 81.17, 82.17, 83.14,\n",
       "       84.05, 84.89, 85.67, 86.43, 87.12, 87.8 , 88.42, 89.03, 89.6 ,\n",
       "       90.15, 90.68, 91.14, 91.59, 92.04, 92.46, 92.85, 93.22, 93.58,\n",
       "       93.91, 94.23, 94.53, 94.82, 95.1 , 95.37, 95.61, 95.84, 96.06,\n",
       "       96.28, 96.49, 96.68, 96.87, 97.04, 97.2 , 97.35, 97.49, 97.63,\n",
       "       97.76, 97.89, 98.01, 98.12, 98.22, 98.31, 98.4 , 98.49, 98.58,\n",
       "       98.66, 98.74, 98.82, 98.89, 98.96, 99.02, 99.08, 99.14, 99.19,\n",
       "       99.24, 99.29, 99.34, 99.38, 99.42, 99.46, 99.5 , 99.53, 99.56,\n",
       "       99.59, 99.62, 99.65, 99.68, 99.71, 99.73, 99.75, 99.77, 99.79,\n",
       "       99.81, 99.83, 99.85, 99.86, 99.87, 99.88, 99.89, 99.9 , 99.91,\n",
       "       99.92, 99.93, 99.94, 99.95, 99.96, 99.97, 99.98, 99.98, 99.98,\n",
       "       99.98, 99.98, 99.98, 99.98, 99.98, 99.98, 99.98, 99.98, 99.98,\n",
       "       99.98, 99.98, 99.98, 99.98, 99.98, 99.98, 99.98, 99.98, 99.98,\n",
       "       99.98, 99.98, 99.98, 99.98, 99.98, 99.98])"
      ]
     },
     "execution_count": 102,
     "metadata": {},
     "output_type": "execute_result"
    }
   ],
   "source": [
    "np.cumsum(np.round(pca.explained_variance_ratio_,decimals=4)*100)"
   ]
  },
  {
   "cell_type": "code",
   "execution_count": 103,
   "metadata": {},
   "outputs": [
    {
     "data": {
      "text/plain": [
       "array([36.6 , 48.64, 54.73, 59.14, 62.26])"
      ]
     },
     "execution_count": 103,
     "metadata": {},
     "output_type": "execute_result"
    }
   ],
   "source": [
    "np.cumsum(np.round(pca.explained_variance_ratio_, decimals = 4)*100)[0:5]"
   ]
  },
  {
   "cell_type": "code",
   "execution_count": 104,
   "metadata": {},
   "outputs": [
    {
     "data": {
      "text/plain": [
       "array([99.98, 99.98, 99.98, 99.98, 99.98, 99.98, 99.98, 99.98, 99.98,\n",
       "       99.98, 99.98, 99.98])"
      ]
     },
     "execution_count": 104,
     "metadata": {},
     "output_type": "execute_result"
    }
   ],
   "source": [
    "np.cumsum(np.round(pca.explained_variance_ratio_, decimals = 4)*100)[120:]"
   ]
  },
  {
   "cell_type": "code",
   "execution_count": 112,
   "metadata": {},
   "outputs": [],
   "source": [
    "pca = PCA(n_components = 5)\n",
    "X_reduced_train = pca.fit_transform(scale(X_train))\n",
    "from sklearn.linear_model import LinearRegression\n",
    "lm = LinearRegression()\n",
    "pcr_model = lm.fit(X_reduced_train,y_train)"
   ]
  },
  {
   "cell_type": "code",
   "execution_count": 113,
   "metadata": {},
   "outputs": [
    {
     "data": {
      "text/plain": [
       "-2.9118414689189187"
      ]
     },
     "execution_count": 113,
     "metadata": {},
     "output_type": "execute_result"
    }
   ],
   "source": [
    "pcr_model.intercept_"
   ]
  },
  {
   "cell_type": "code",
   "execution_count": 114,
   "metadata": {},
   "outputs": [
    {
     "data": {
      "text/plain": [
       "array([-0.34324984,  0.45037773,  1.01401875,  1.33118816, -0.82340316])"
      ]
     },
     "execution_count": 114,
     "metadata": {},
     "output_type": "execute_result"
    }
   ],
   "source": [
    "pcr_model.coef_ "
   ]
  },
  {
   "cell_type": "code",
   "execution_count": 115,
   "metadata": {},
   "outputs": [
    {
     "data": {
      "text/plain": [
       "array([-2.05695989, -5.92143168, -9.08939466, -8.14841836, -8.01419549])"
      ]
     },
     "execution_count": 115,
     "metadata": {},
     "output_type": "execute_result"
    }
   ],
   "source": [
    "y_pred = pcr_model.predict(X_reduced_train) \n",
    "y_pred[0:5]"
   ]
  },
  {
   "cell_type": "code",
   "execution_count": 116,
   "metadata": {},
   "outputs": [
    {
     "data": {
      "text/plain": [
       "34.12659867068147"
      ]
     },
     "execution_count": 116,
     "metadata": {},
     "output_type": "execute_result"
    }
   ],
   "source": [
    "from sklearn.metrics import mean_squared_error,r2_score\n",
    "np.sqrt(mean_squared_error(y_train,y_pred))"
   ]
  },
  {
   "cell_type": "code",
   "execution_count": 118,
   "metadata": {},
   "outputs": [
    {
     "data": {
      "text/plain": [
       "0.0253408650251854"
      ]
     },
     "execution_count": 118,
     "metadata": {},
     "output_type": "execute_result"
    }
   ],
   "source": [
    "r2_score(y_train,y_pred)"
   ]
  },
  {
   "cell_type": "code",
   "execution_count": 119,
   "metadata": {},
   "outputs": [
    {
     "data": {
      "text/plain": [
       "-2.9063582899740608"
      ]
     },
     "execution_count": 119,
     "metadata": {},
     "output_type": "execute_result"
    }
   ],
   "source": [
    "data[\"50_target\"].mean()"
   ]
  },
  {
   "cell_type": "code",
   "execution_count": 120,
   "metadata": {},
   "outputs": [
    {
     "data": {
      "text/plain": [
       "34.145848123702386"
      ]
     },
     "execution_count": 120,
     "metadata": {},
     "output_type": "execute_result"
    }
   ],
   "source": [
    "pca2 = PCA(n_components=5)\n",
    "\n",
    "X_reduced_test = pca2.fit_transform(scale(X_test))\n",
    "y_pred = pcr_model.predict(X_reduced_test)\n",
    "\n",
    "np.sqrt(mean_squared_error(y_test,y_pred))"
   ]
  },
  {
   "cell_type": "code",
   "execution_count": 121,
   "metadata": {},
   "outputs": [
    {
     "data": {
      "text/plain": [
       "array([-0.34324984,  0.45037773,  1.01401875,  1.33118816, -0.82340316])"
      ]
     },
     "execution_count": 121,
     "metadata": {},
     "output_type": "execute_result"
    }
   ],
   "source": [
    "lm = LinearRegression()\n",
    "pcr_model = lm.fit(X_reduced_train[:,0:120] ,y_train)\n",
    "pcr_model.intercept_\n",
    "pcr_model.coef_"
   ]
  },
  {
   "cell_type": "code",
   "execution_count": 122,
   "metadata": {},
   "outputs": [
    {
     "name": "stdout",
     "output_type": "stream",
     "text": [
      "34.12659867068147\n"
     ]
    }
   ],
   "source": [
    "y_pred = pcr_model.predict(X_reduced_train[:,0:120])\n",
    "print(np.sqrt(mean_squared_error(y_train,y_pred)))"
   ]
  },
  {
   "cell_type": "code",
   "execution_count": null,
   "metadata": {},
   "outputs": [],
   "source": []
  },
  {
   "cell_type": "markdown",
   "metadata": {},
   "source": [
    "## Model Tuning"
   ]
  },
  {
   "cell_type": "code",
   "execution_count": 123,
   "metadata": {},
   "outputs": [
    {
     "name": "stdout",
     "output_type": "stream",
     "text": [
      "34.145848123702386\n"
     ]
    }
   ],
   "source": [
    "lm = LinearRegression()\n",
    "pcr_model = lm.fit(X_reduced_train[:,0:10], y_train)\n",
    "\n",
    "y_pred = pcr_model.predict(X_reduced_test[:,0:10])\n",
    "print(np.sqrt(mean_squared_error(y_test, y_pred)))"
   ]
  },
  {
   "cell_type": "code",
   "execution_count": 124,
   "metadata": {},
   "outputs": [],
   "source": [
    "from sklearn import model_selection"
   ]
  },
  {
   "cell_type": "code",
   "execution_count": 125,
   "metadata": {},
   "outputs": [],
   "source": [
    "cv_10 = model_selection.KFold(n_splits = 10,\n",
    "                             shuffle = True,\n",
    "                             random_state = 1)"
   ]
  },
  {
   "cell_type": "code",
   "execution_count": 126,
   "metadata": {},
   "outputs": [],
   "source": [
    "RMSE = []"
   ]
  },
  {
   "cell_type": "code",
   "execution_count": 127,
   "metadata": {},
   "outputs": [],
   "source": [
    "for i in np.arange(1, X_reduced_train.shape[1] + 1):\n",
    "    \n",
    "    score = np.sqrt(-1*model_selection.cross_val_score(lm, \n",
    "                                                       X_reduced_train[:,:i], \n",
    "                                                       y_train.ravel(), \n",
    "                                                       cv=cv_10, \n",
    "                                                       scoring='neg_mean_squared_error').mean())\n",
    "    RMSE.append(score)"
   ]
  },
  {
   "cell_type": "code",
   "execution_count": 128,
   "metadata": {},
   "outputs": [
    {
     "data": {
      "image/png": "[encoded data removed]",
      "text/plain": [
       "<Figure size 432x288 with 1 Axes>"
      ]
     },
     "metadata": {
      "needs_background": "light"
     },
     "output_type": "display_data"
    }
   ],
   "source": [
    "plt.plot(RMSE, '-v')\n",
    "plt.xlabel('Bileşen Sayısı')\n",
    "plt.ylabel('RMSE')\n",
    "plt.title('PCR Model Tuning');"
   ]
  },
  {
   "cell_type": "code",
   "execution_count": 129,
   "metadata": {},
   "outputs": [],
   "source": [
    "lm = LinearRegression()"
   ]
  },
  {
   "cell_type": "code",
   "execution_count": 130,
   "metadata": {},
   "outputs": [],
   "source": [
    "pcr_model = lm.fit(X_reduced_train[:,0:3], y_train)"
   ]
  },
  {
   "cell_type": "code",
   "execution_count": 131,
   "metadata": {},
   "outputs": [],
   "source": [
    "y_pred = pcr_model.predict(X_reduced_train[:,0:3])"
   ]
  },
  {
   "cell_type": "code",
   "execution_count": 132,
   "metadata": {},
   "outputs": [
    {
     "name": "stdout",
     "output_type": "stream",
     "text": [
      "34.317961229029216\n"
     ]
    }
   ],
   "source": [
    "print(np.sqrt(mean_squared_error(y_train, y_pred)))"
   ]
  }
 ],
 "metadata": {
  "kernelspec": {
   "display_name": "Python 3",
   "language": "python",
   "name": "python3"
  },
  "language_info": {
   "codemirror_mode": {
    "name": "ipython",
    "version": 3
   },
   "file_extension": ".py",
   "mimetype": "text/x-python",
   "name": "python",
   "nbconvert_exporter": "python",
   "pygments_lexer": "ipython3",
   "version": "3.7.6"
  }
 },
 "nbformat": 4,
 "nbformat_minor": 4
}
