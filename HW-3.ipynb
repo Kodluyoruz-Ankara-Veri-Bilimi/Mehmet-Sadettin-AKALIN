{
 "cells": [
  {
   "cell_type": "code",
   "execution_count": 260,
   "metadata": {},
   "outputs": [
    {
     "data": {
      "text/plain": [
       "'C:\\\\Users\\\\msaka\\\\OneDrive\\\\Masaüstü\\\\denemeler\\\\HW'"
      ]
     },
     "execution_count": 260,
     "metadata": {},
     "output_type": "execute_result"
    }
   ],
   "source": [
    "import os\n",
    "os.getcwd()"
   ]
  },
  {
   "cell_type": "code",
   "execution_count": 261,
   "metadata": {},
   "outputs": [],
   "source": [
    "import statsmodels.stats.api as sms \n",
    "import os \n",
    "import pandas as pd \n",
    "import seaborn as sns\n",
    "from sklearn import datasets \n",
    "import matplotlib.pyplot as plt \n",
    "import numpy as np\n",
    "from sklearn.preprocessing import LabelEncoder"
   ]
  },
  {
   "cell_type": "code",
   "execution_count": 262,
   "metadata": {},
   "outputs": [],
   "source": [
    "class Info(): \n",
    "    def __init__(self,df):\n",
    "        self.df = df\n",
    "        df = pd.read_excel(\"HW_Data_Set.xlsx\")\n",
    "        print(df.head())\n",
    "        print(df.tail())\n",
    "        print(df.describe())\n",
    "        print(df.tail())\n",
    "        print(df.dtypes)\n",
    "        print(df.columns)  \n",
    "        print(df.axes)\n",
    "        print(df.shape)\n",
    "        print(df.info())\n",
    "        print (df.describe())\n",
    "        print (df.describe().T)"
   ]
  },
  {
   "cell_type": "code",
   "execution_count": 263,
   "metadata": {},
   "outputs": [
    {
     "name": "stdout",
     "output_type": "stream",
     "text": [
      "   ind_5  ind_6  ind_8      ind_9     ind_10     ind_12     ind_13  ind_14  \\\n",
      "0     19     17  100.0  85.714286  14.285714  72.363515  60.808814   23.80   \n",
      "1     24     19  100.0  78.571429  21.428571  74.275883  64.366798   11.45   \n",
      "2     30     24  100.0  71.428571  28.571429  75.140402  65.915803    8.75   \n",
      "3     37     30  100.0  64.285714  35.714286  76.677846  68.584234    7.80   \n",
      "4     41     37  100.0  57.142857  42.857143  81.603007  76.455495   14.90   \n",
      "\n",
      "   ind_15  ind_16  ...  ind_416  ind_418  ind_420  ind_422  ind_424   ind_426  \\\n",
      "0   17.62   11.73  ...    -49.6      -54     -152     -353      1.0  0.498547   \n",
      "1   18.16   12.22  ...    -55.6      -60     -158     -359      1.0  0.537088   \n",
      "2   17.86   12.28  ...    -58.4      -60     -160     -362      1.0  0.615169   \n",
      "3   14.76   12.61  ...    -61.8      -65     -166     -367      1.0  0.661517   \n",
      "4   11.92   14.25  ...    -79.8      -86     -186     -388      1.0  0.747204   \n",
      "\n",
      "    ind_428  20_target  50_target  90_target  \n",
      "0  0.701906  15.135802  35.625252  36.997753  \n",
      "1  0.690833  15.143348  35.643013  37.016198  \n",
      "2  0.693040  15.146870  35.651301 -37.024805  \n",
      "3  0.673418  15.153283   0.000000 -37.040483  \n",
      "4  0.700522 -15.179065 -35.727079 -37.103503  \n",
      "\n",
      "[5 rows x 136 columns]\n",
      "      ind_5  ind_6       ind_8      ind_9     ind_10     ind_12     ind_13  \\\n",
      "6162     27     31   57.142857  28.571429  28.571429  60.010531  32.362582   \n",
      "6163     22     27   50.000000  21.428571  28.571429  60.209998  32.914628   \n",
      "6164     19     22   42.857143  14.285714  28.571429  64.329611  43.550592   \n",
      "6165     19     19  100.000000   7.142857  92.857143  69.027764  54.130755   \n",
      "6166     19     19   92.857143   0.000000  92.857143  65.157180  45.524973   \n",
      "\n",
      "      ind_14  ind_15  ind_16  ...  ind_416  ind_418  ind_420  ind_422  \\\n",
      "6162    9.70    9.38   13.66  ...    -28.2      -40      -11     -270   \n",
      "6163    7.65    8.84   11.79  ...    -28.6      -41      -12     -271   \n",
      "6164    8.95    9.06   10.30  ...    -37.2      -49      -21     -280   \n",
      "6165   13.55   10.36   10.55  ...    -48.9      -61      -33     -292   \n",
      "6166   11.45   10.16    9.68  ...    -44.0      -56      -28     -288   \n",
      "\n",
      "       ind_424   ind_426   ind_428  20_target  50_target  90_target  \n",
      "6162  0.270270  0.840000  0.600846  14.673247 -34.536532 -35.867088  \n",
      "6163  0.000000  0.737470  0.527673  14.673750 -34.537716 -35.868318  \n",
      "6164  0.769231  0.632107  0.551759 -14.684566 -34.563173 -35.894755  \n",
      "6165  1.000000  0.733010  0.591584 -14.699280 -34.597806 -35.930723  \n",
      "6166  1.000000  0.687500  0.593936 -14.693117 -34.583301 -35.915659  \n",
      "\n",
      "[5 rows x 136 columns]\n",
      "             ind_5        ind_6        ind_8        ind_9       ind_10  \\\n",
      "count  6167.000000  6167.000000  6167.000000  6167.000000  6167.000000   \n",
      "mean     -0.803146    -0.803470    48.388890    48.289282     0.099609   \n",
      "std      23.624403    23.624144    36.388526    36.478009    60.414625   \n",
      "min    -131.000000  -131.000000     0.000000     0.000000  -100.000000   \n",
      "25%     -14.000000   -14.000000    14.285714    14.285714   -50.000000   \n",
      "50%       0.000000     0.000000    50.000000    50.000000     0.000000   \n",
      "75%      13.000000    13.000000    85.714286    85.714286    57.142857   \n",
      "max      76.000000    76.000000   100.000000   100.000000   100.000000   \n",
      "\n",
      "            ind_12       ind_13       ind_14       ind_15       ind_16  ...  \\\n",
      "count  6167.000000  6167.000000  6167.000000  6167.000000  6167.000000  ...   \n",
      "mean     49.488867   -18.497518    11.771485    11.773550    11.773392  ...   \n",
      "std      12.198722    68.281120     6.803997     5.786089     4.970499  ...   \n",
      "min      12.134540  -625.093855     1.050000     1.660000     2.580000  ...   \n",
      "25%      40.868503   -45.687212     6.850000     7.260000     7.635000  ...   \n",
      "50%      49.549766    -2.817298    10.550000    11.040000    11.270000  ...   \n",
      "75%      58.504375    28.072613    14.950000    15.040000    14.960000  ...   \n",
      "max      84.821848    81.105847    82.900000    54.240000    37.050000  ...   \n",
      "\n",
      "           ind_412      ind_414      ind_416      ind_418      ind_424  \\\n",
      "count  6167.000000  6167.000000  6167.000000  6167.000000  6167.000000   \n",
      "mean      0.000224    28.529204    -8.554792   -28.166694     0.490297   \n",
      "std       0.005660    26.316896    16.100087    23.271524     0.425376   \n",
      "min      -0.023790     0.000000  -103.800000  -188.000000     0.000000   \n",
      "25%      -0.003230    10.700000   -11.700000   -39.000000     0.000000   \n",
      "50%      -0.000053    21.300000     0.000000   -22.000000     0.473684   \n",
      "75%       0.003414    38.400000     0.000000   -11.000000     1.000000   \n",
      "max       0.023340   281.800000     0.000000     0.000000     1.000000   \n",
      "\n",
      "           ind_426      ind_428    20_target    50_target    90_target  \n",
      "count  6167.000000  6167.000000  6167.000000  6167.000000  6167.000000  \n",
      "mean      0.498188     0.490174    -0.057102    -2.906358    -3.315072  \n",
      "std       0.228547     0.150483    14.834497    34.559778    36.841541  \n",
      "min       0.000000     0.083530   -15.780588   -37.142889   -38.573858  \n",
      "25%       0.323783     0.379894   -15.350354   -36.208094   -37.695273  \n",
      "50%       0.495192     0.487078     0.000000   -34.267756   -35.788391  \n",
      "75%       0.675730     0.601508    15.385945    35.879524    37.521892  \n",
      "max       1.000000     0.868534    15.768767    37.038694    38.465649  \n",
      "\n",
      "[8 rows x 133 columns]\n",
      "      ind_5  ind_6       ind_8      ind_9     ind_10     ind_12     ind_13  \\\n",
      "6162     27     31   57.142857  28.571429  28.571429  60.010531  32.362582   \n",
      "6163     22     27   50.000000  21.428571  28.571429  60.209998  32.914628   \n",
      "6164     19     22   42.857143  14.285714  28.571429  64.329611  43.550592   \n",
      "6165     19     19  100.000000   7.142857  92.857143  69.027764  54.130755   \n",
      "6166     19     19   92.857143   0.000000  92.857143  65.157180  45.524973   \n",
      "\n",
      "      ind_14  ind_15  ind_16  ...  ind_416  ind_418  ind_420  ind_422  \\\n",
      "6162    9.70    9.38   13.66  ...    -28.2      -40      -11     -270   \n",
      "6163    7.65    8.84   11.79  ...    -28.6      -41      -12     -271   \n",
      "6164    8.95    9.06   10.30  ...    -37.2      -49      -21     -280   \n",
      "6165   13.55   10.36   10.55  ...    -48.9      -61      -33     -292   \n",
      "6166   11.45   10.16    9.68  ...    -44.0      -56      -28     -288   \n",
      "\n",
      "       ind_424   ind_426   ind_428  20_target  50_target  90_target  \n",
      "6162  0.270270  0.840000  0.600846  14.673247 -34.536532 -35.867088  \n",
      "6163  0.000000  0.737470  0.527673  14.673750 -34.537716 -35.868318  \n",
      "6164  0.769231  0.632107  0.551759 -14.684566 -34.563173 -35.894755  \n",
      "6165  1.000000  0.733010  0.591584 -14.699280 -34.597806 -35.930723  \n",
      "6166  1.000000  0.687500  0.593936 -14.693117 -34.583301 -35.915659  \n",
      "\n",
      "[5 rows x 136 columns]\n",
      "ind_5          int64\n",
      "ind_6          int64\n",
      "ind_8        float64\n",
      "ind_9        float64\n",
      "ind_10       float64\n",
      "              ...   \n",
      "ind_426      float64\n",
      "ind_428      float64\n",
      "20_target    float64\n",
      "50_target    float64\n",
      "90_target    float64\n",
      "Length: 136, dtype: object\n",
      "Index(['ind_5', 'ind_6', 'ind_8', 'ind_9', 'ind_10', 'ind_12', 'ind_13',\n",
      "       'ind_14', 'ind_15', 'ind_16',\n",
      "       ...\n",
      "       'ind_416', 'ind_418', 'ind_420', 'ind_422', 'ind_424', 'ind_426',\n",
      "       'ind_428', '20_target', '50_target', '90_target'],\n",
      "      dtype='object', length=136)\n",
      "[RangeIndex(start=0, stop=6167, step=1), Index(['ind_5', 'ind_6', 'ind_8', 'ind_9', 'ind_10', 'ind_12', 'ind_13',\n",
      "       'ind_14', 'ind_15', 'ind_16',\n",
      "       ...\n",
      "       'ind_416', 'ind_418', 'ind_420', 'ind_422', 'ind_424', 'ind_426',\n",
      "       'ind_428', '20_target', '50_target', '90_target'],\n",
      "      dtype='object', length=136)]\n",
      "(6167, 136)\n",
      "<class 'pandas.core.frame.DataFrame'>\n",
      "RangeIndex: 6167 entries, 0 to 6166\n",
      "Columns: 136 entries, ind_5 to 90_target\n",
      "dtypes: float64(88), int64(45), object(3)\n",
      "memory usage: 6.4+ MB\n",
      "None\n",
      "             ind_5        ind_6        ind_8        ind_9       ind_10  \\\n",
      "count  6167.000000  6167.000000  6167.000000  6167.000000  6167.000000   \n",
      "mean     -0.803146    -0.803470    48.388890    48.289282     0.099609   \n",
      "std      23.624403    23.624144    36.388526    36.478009    60.414625   \n",
      "min    -131.000000  -131.000000     0.000000     0.000000  -100.000000   \n",
      "25%     -14.000000   -14.000000    14.285714    14.285714   -50.000000   \n",
      "50%       0.000000     0.000000    50.000000    50.000000     0.000000   \n",
      "75%      13.000000    13.000000    85.714286    85.714286    57.142857   \n",
      "max      76.000000    76.000000   100.000000   100.000000   100.000000   \n",
      "\n",
      "            ind_12       ind_13       ind_14       ind_15       ind_16  ...  \\\n",
      "count  6167.000000  6167.000000  6167.000000  6167.000000  6167.000000  ...   \n",
      "mean     49.488867   -18.497518    11.771485    11.773550    11.773392  ...   \n",
      "std      12.198722    68.281120     6.803997     5.786089     4.970499  ...   \n",
      "min      12.134540  -625.093855     1.050000     1.660000     2.580000  ...   \n",
      "25%      40.868503   -45.687212     6.850000     7.260000     7.635000  ...   \n",
      "50%      49.549766    -2.817298    10.550000    11.040000    11.270000  ...   \n",
      "75%      58.504375    28.072613    14.950000    15.040000    14.960000  ...   \n",
      "max      84.821848    81.105847    82.900000    54.240000    37.050000  ...   \n",
      "\n",
      "           ind_412      ind_414      ind_416      ind_418      ind_424  \\\n",
      "count  6167.000000  6167.000000  6167.000000  6167.000000  6167.000000   \n",
      "mean      0.000224    28.529204    -8.554792   -28.166694     0.490297   \n",
      "std       0.005660    26.316896    16.100087    23.271524     0.425376   \n",
      "min      -0.023790     0.000000  -103.800000  -188.000000     0.000000   \n",
      "25%      -0.003230    10.700000   -11.700000   -39.000000     0.000000   \n",
      "50%      -0.000053    21.300000     0.000000   -22.000000     0.473684   \n",
      "75%       0.003414    38.400000     0.000000   -11.000000     1.000000   \n",
      "max       0.023340   281.800000     0.000000     0.000000     1.000000   \n",
      "\n",
      "           ind_426      ind_428    20_target    50_target    90_target  \n",
      "count  6167.000000  6167.000000  6167.000000  6167.000000  6167.000000  \n",
      "mean      0.498188     0.490174    -0.057102    -2.906358    -3.315072  \n",
      "std       0.228547     0.150483    14.834497    34.559778    36.841541  \n",
      "min       0.000000     0.083530   -15.780588   -37.142889   -38.573858  \n",
      "25%       0.323783     0.379894   -15.350354   -36.208094   -37.695273  \n",
      "50%       0.495192     0.487078     0.000000   -34.267756   -35.788391  \n",
      "75%       0.675730     0.601508    15.385945    35.879524    37.521892  \n",
      "max       1.000000     0.868534    15.768767    37.038694    38.465649  \n",
      "\n",
      "[8 rows x 133 columns]\n"
     ]
    },
    {
     "name": "stdout",
     "output_type": "stream",
     "text": [
      "            count       mean        std         min        25%        50%  \\\n",
      "ind_5      6167.0  -0.803146  23.624403 -131.000000 -14.000000   0.000000   \n",
      "ind_6      6167.0  -0.803470  23.624144 -131.000000 -14.000000   0.000000   \n",
      "ind_8      6167.0  48.388890  36.388526    0.000000  14.285714  50.000000   \n",
      "ind_9      6167.0  48.289282  36.478009    0.000000  14.285714  50.000000   \n",
      "ind_10     6167.0   0.099609  60.414625 -100.000000 -50.000000   0.000000   \n",
      "...           ...        ...        ...         ...        ...        ...   \n",
      "ind_426    6167.0   0.498188   0.228547    0.000000   0.323783   0.495192   \n",
      "ind_428    6167.0   0.490174   0.150483    0.083530   0.379894   0.487078   \n",
      "20_target  6167.0  -0.057102  14.834497  -15.780588 -15.350354   0.000000   \n",
      "50_target  6167.0  -2.906358  34.559778  -37.142889 -36.208094 -34.267756   \n",
      "90_target  6167.0  -3.315072  36.841541  -38.573858 -37.695273 -35.788391   \n",
      "\n",
      "                 75%         max  \n",
      "ind_5      13.000000   76.000000  \n",
      "ind_6      13.000000   76.000000  \n",
      "ind_8      85.714286  100.000000  \n",
      "ind_9      85.714286  100.000000  \n",
      "ind_10     57.142857  100.000000  \n",
      "...              ...         ...  \n",
      "ind_426     0.675730    1.000000  \n",
      "ind_428     0.601508    0.868534  \n",
      "20_target  15.385945   15.768767  \n",
      "50_target  35.879524   37.038694  \n",
      "90_target  37.521892   38.465649  \n",
      "\n",
      "[133 rows x 8 columns]\n"
     ]
    },
    {
     "data": {
      "text/plain": [
       "<__main__.Info at 0x259480b7988>"
      ]
     },
     "execution_count": 263,
     "metadata": {},
     "output_type": "execute_result"
    }
   ],
   "source": [
    "Info(\"df\")"
   ]
  },
  {
   "cell_type": "code",
   "execution_count": 264,
   "metadata": {},
   "outputs": [],
   "source": [
    "class Visualization:\n",
    "    import seaborn as sns\n",
    "    import matplotlib.pyplot as plt\n",
    "    import pandas as pd\n",
    "    def _init_(self, df):\n",
    "        self.dataframe = df\n",
    "    \n",
    "        \n",
    "    def scatterplot(self, df1, df2, xlabel=None, ylabel=None):\n",
    "        plt.figure(figsize=(10,6))\n",
    "        plt.scatter(df1, df2)\n",
    "        plt.xlabel(xlabel)\n",
    "        plt.ylabel(ylabel)\n",
    "        plt.show()\n",
    "\n",
    "    def histogram(self, df):\n",
    "        sns.distplot(df)\n",
    "        plt.show()"
   ]
  },
  {
   "cell_type": "code",
   "execution_count": 265,
   "metadata": {},
   "outputs": [],
   "source": [
    "df = pd.read_excel(\"HW_Data_Set.xlsx\")"
   ]
  },
  {
   "cell_type": "code",
   "execution_count": 266,
   "metadata": {},
   "outputs": [
    {
     "data": {
      "image/png": "[encoded data removed]",
      "text/plain": [
       "<Figure size 1080x540 with 144 Axes>"
      ]
     },
     "metadata": {
      "needs_background": "light"
     },
     "output_type": "display_data"
    }
   ],
   "source": [
    "df_hist=df\n",
    "df_hist.hist(bins=10,figsize=(15,7.5))\n",
    "plt.show()"
   ]
  },
  {
   "cell_type": "code",
   "execution_count": 267,
   "metadata": {},
   "outputs": [
    {
     "data": {
      "image/png": "[encoded data removed]",
      "text/plain": [
       "<Figure size 1440x432 with 1 Axes>"
      ]
     },
     "metadata": {
      "needs_background": "light"
     },
     "output_type": "display_data"
    }
   ],
   "source": [
    "plt.figure(figsize=(20,6))\n",
    "df.boxplot()\n",
    "plt.show()"
   ]
  },
  {
   "cell_type": "code",
   "execution_count": 268,
   "metadata": {},
   "outputs": [
    {
     "data": {
      "image/png": "[encoded data removed]",
      "text/plain": [
       "<Figure size 720x576 with 1 Axes>"
      ]
     },
     "metadata": {
      "needs_background": "light"
     },
     "output_type": "display_data"
    }
   ],
   "source": [
    "df = pd.read_excel(\"HW_Data_Set.xlsx\")\n",
    "plt.figure(figsize=(10,8))\n",
    "boxplot_df = df[[\"50_target\", \"90_target\", \"20_target\"]]\n",
    "boxplot_df.boxplot()\n",
    "plt.show()"
   ]
  },
  {
   "cell_type": "code",
   "execution_count": 232,
   "metadata": {},
   "outputs": [
    {
     "data": {
      "text/html": [
       "<div>\n",
       "<style scoped>\n",
       "    .dataframe tbody tr th:only-of-type {\n",
       "        vertical-align: middle;\n",
       "    }\n",
       "\n",
       "    .dataframe tbody tr th {\n",
       "        vertical-align: top;\n",
       "    }\n",
       "\n",
       "    .dataframe thead th {\n",
       "        text-align: right;\n",
       "    }\n",
       "</style>\n",
       "<table border=\"1\" class=\"dataframe\">\n",
       "  <thead>\n",
       "    <tr style=\"text-align: right;\">\n",
       "      <th></th>\n",
       "      <th>ind_5</th>\n",
       "      <th>ind_6</th>\n",
       "      <th>ind_8</th>\n",
       "      <th>ind_9</th>\n",
       "      <th>ind_10</th>\n",
       "      <th>ind_12</th>\n",
       "      <th>ind_13</th>\n",
       "      <th>ind_14</th>\n",
       "      <th>ind_15</th>\n",
       "      <th>ind_16</th>\n",
       "      <th>...</th>\n",
       "      <th>ind_412</th>\n",
       "      <th>ind_414</th>\n",
       "      <th>ind_416</th>\n",
       "      <th>ind_418</th>\n",
       "      <th>ind_424</th>\n",
       "      <th>ind_426</th>\n",
       "      <th>ind_428</th>\n",
       "      <th>20_target</th>\n",
       "      <th>50_target</th>\n",
       "      <th>90_target</th>\n",
       "    </tr>\n",
       "  </thead>\n",
       "  <tbody>\n",
       "    <tr>\n",
       "      <th>ind_5</th>\n",
       "      <td>1.000000</td>\n",
       "      <td>0.989945</td>\n",
       "      <td>0.543246</td>\n",
       "      <td>-0.533328</td>\n",
       "      <td>0.649225</td>\n",
       "      <td>0.822255</td>\n",
       "      <td>0.768234</td>\n",
       "      <td>-0.014502</td>\n",
       "      <td>-0.026336</td>\n",
       "      <td>-0.041130</td>\n",
       "      <td>...</td>\n",
       "      <td>0.620106</td>\n",
       "      <td>-0.694619</td>\n",
       "      <td>-0.304134</td>\n",
       "      <td>-0.620099</td>\n",
       "      <td>0.076169</td>\n",
       "      <td>0.626439</td>\n",
       "      <td>0.817302</td>\n",
       "      <td>0.060969</td>\n",
       "      <td>0.068989</td>\n",
       "      <td>0.060428</td>\n",
       "    </tr>\n",
       "    <tr>\n",
       "      <th>ind_6</th>\n",
       "      <td>0.989945</td>\n",
       "      <td>1.000000</td>\n",
       "      <td>0.514222</td>\n",
       "      <td>-0.495572</td>\n",
       "      <td>0.608947</td>\n",
       "      <td>0.768551</td>\n",
       "      <td>0.713870</td>\n",
       "      <td>-0.006066</td>\n",
       "      <td>-0.019393</td>\n",
       "      <td>-0.035795</td>\n",
       "      <td>...</td>\n",
       "      <td>0.634679</td>\n",
       "      <td>-0.646983</td>\n",
       "      <td>-0.279922</td>\n",
       "      <td>-0.569657</td>\n",
       "      <td>0.021220</td>\n",
       "      <td>0.567359</td>\n",
       "      <td>0.810371</td>\n",
       "      <td>0.062101</td>\n",
       "      <td>0.069652</td>\n",
       "      <td>0.061560</td>\n",
       "    </tr>\n",
       "    <tr>\n",
       "      <th>ind_8</th>\n",
       "      <td>0.543246</td>\n",
       "      <td>0.514222</td>\n",
       "      <td>1.000000</td>\n",
       "      <td>-0.374857</td>\n",
       "      <td>0.828650</td>\n",
       "      <td>0.583623</td>\n",
       "      <td>0.482220</td>\n",
       "      <td>0.162635</td>\n",
       "      <td>0.139612</td>\n",
       "      <td>0.038862</td>\n",
       "      <td>...</td>\n",
       "      <td>0.275687</td>\n",
       "      <td>-0.489596</td>\n",
       "      <td>-0.277258</td>\n",
       "      <td>-0.432579</td>\n",
       "      <td>0.144795</td>\n",
       "      <td>0.593799</td>\n",
       "      <td>0.445427</td>\n",
       "      <td>-0.004126</td>\n",
       "      <td>0.006984</td>\n",
       "      <td>-0.006650</td>\n",
       "    </tr>\n",
       "    <tr>\n",
       "      <th>ind_9</th>\n",
       "      <td>-0.533328</td>\n",
       "      <td>-0.495572</td>\n",
       "      <td>-0.374857</td>\n",
       "      <td>1.000000</td>\n",
       "      <td>-0.829576</td>\n",
       "      <td>-0.609288</td>\n",
       "      <td>-0.568581</td>\n",
       "      <td>0.238938</td>\n",
       "      <td>0.240048</td>\n",
       "      <td>0.152133</td>\n",
       "      <td>...</td>\n",
       "      <td>-0.276882</td>\n",
       "      <td>0.436275</td>\n",
       "      <td>0.349318</td>\n",
       "      <td>0.505772</td>\n",
       "      <td>-0.173139</td>\n",
       "      <td>-0.631961</td>\n",
       "      <td>-0.450719</td>\n",
       "      <td>-0.031316</td>\n",
       "      <td>-0.004053</td>\n",
       "      <td>0.012093</td>\n",
       "    </tr>\n",
       "    <tr>\n",
       "      <th>ind_10</th>\n",
       "      <td>0.649225</td>\n",
       "      <td>0.608947</td>\n",
       "      <td>0.828650</td>\n",
       "      <td>-0.829576</td>\n",
       "      <td>1.000000</td>\n",
       "      <td>0.719409</td>\n",
       "      <td>0.633753</td>\n",
       "      <td>-0.046312</td>\n",
       "      <td>-0.060849</td>\n",
       "      <td>-0.068450</td>\n",
       "      <td>...</td>\n",
       "      <td>0.333229</td>\n",
       "      <td>-0.558311</td>\n",
       "      <td>-0.377913</td>\n",
       "      <td>-0.565931</td>\n",
       "      <td>0.191752</td>\n",
       "      <td>0.739227</td>\n",
       "      <td>0.540428</td>\n",
       "      <td>0.016423</td>\n",
       "      <td>0.006654</td>\n",
       "      <td>-0.011307</td>\n",
       "    </tr>\n",
       "    <tr>\n",
       "      <th>...</th>\n",
       "      <td>...</td>\n",
       "      <td>...</td>\n",
       "      <td>...</td>\n",
       "      <td>...</td>\n",
       "      <td>...</td>\n",
       "      <td>...</td>\n",
       "      <td>...</td>\n",
       "      <td>...</td>\n",
       "      <td>...</td>\n",
       "      <td>...</td>\n",
       "      <td>...</td>\n",
       "      <td>...</td>\n",
       "      <td>...</td>\n",
       "      <td>...</td>\n",
       "      <td>...</td>\n",
       "      <td>...</td>\n",
       "      <td>...</td>\n",
       "      <td>...</td>\n",
       "      <td>...</td>\n",
       "      <td>...</td>\n",
       "      <td>...</td>\n",
       "    </tr>\n",
       "    <tr>\n",
       "      <th>ind_426</th>\n",
       "      <td>0.626439</td>\n",
       "      <td>0.567359</td>\n",
       "      <td>0.593799</td>\n",
       "      <td>-0.631961</td>\n",
       "      <td>0.739227</td>\n",
       "      <td>0.776076</td>\n",
       "      <td>0.700736</td>\n",
       "      <td>-0.066201</td>\n",
       "      <td>-0.066437</td>\n",
       "      <td>-0.051049</td>\n",
       "      <td>...</td>\n",
       "      <td>0.293592</td>\n",
       "      <td>-0.571432</td>\n",
       "      <td>-0.356302</td>\n",
       "      <td>-0.594243</td>\n",
       "      <td>0.341017</td>\n",
       "      <td>1.000000</td>\n",
       "      <td>0.584754</td>\n",
       "      <td>0.019599</td>\n",
       "      <td>0.009063</td>\n",
       "      <td>-0.002519</td>\n",
       "    </tr>\n",
       "    <tr>\n",
       "      <th>ind_428</th>\n",
       "      <td>0.817302</td>\n",
       "      <td>0.810371</td>\n",
       "      <td>0.445427</td>\n",
       "      <td>-0.450719</td>\n",
       "      <td>0.540428</td>\n",
       "      <td>0.807595</td>\n",
       "      <td>0.727899</td>\n",
       "      <td>0.021970</td>\n",
       "      <td>0.016318</td>\n",
       "      <td>0.010361</td>\n",
       "      <td>...</td>\n",
       "      <td>0.574646</td>\n",
       "      <td>-0.499656</td>\n",
       "      <td>-0.260048</td>\n",
       "      <td>-0.487564</td>\n",
       "      <td>0.188853</td>\n",
       "      <td>0.584754</td>\n",
       "      <td>1.000000</td>\n",
       "      <td>0.047041</td>\n",
       "      <td>0.052418</td>\n",
       "      <td>0.043563</td>\n",
       "    </tr>\n",
       "    <tr>\n",
       "      <th>20_target</th>\n",
       "      <td>0.060969</td>\n",
       "      <td>0.062101</td>\n",
       "      <td>-0.004126</td>\n",
       "      <td>-0.031316</td>\n",
       "      <td>0.016423</td>\n",
       "      <td>0.042550</td>\n",
       "      <td>0.041289</td>\n",
       "      <td>0.015320</td>\n",
       "      <td>0.012012</td>\n",
       "      <td>0.026881</td>\n",
       "      <td>...</td>\n",
       "      <td>0.066637</td>\n",
       "      <td>-0.029005</td>\n",
       "      <td>-0.009829</td>\n",
       "      <td>-0.045656</td>\n",
       "      <td>-0.008799</td>\n",
       "      <td>0.019599</td>\n",
       "      <td>0.047041</td>\n",
       "      <td>1.000000</td>\n",
       "      <td>0.384076</td>\n",
       "      <td>0.355950</td>\n",
       "    </tr>\n",
       "    <tr>\n",
       "      <th>50_target</th>\n",
       "      <td>0.068989</td>\n",
       "      <td>0.069652</td>\n",
       "      <td>0.006984</td>\n",
       "      <td>-0.004053</td>\n",
       "      <td>0.006654</td>\n",
       "      <td>0.055045</td>\n",
       "      <td>0.048302</td>\n",
       "      <td>0.072728</td>\n",
       "      <td>0.084561</td>\n",
       "      <td>0.101774</td>\n",
       "      <td>...</td>\n",
       "      <td>0.127234</td>\n",
       "      <td>0.008239</td>\n",
       "      <td>0.047728</td>\n",
       "      <td>-0.101488</td>\n",
       "      <td>-0.003372</td>\n",
       "      <td>0.009063</td>\n",
       "      <td>0.052418</td>\n",
       "      <td>0.384076</td>\n",
       "      <td>1.000000</td>\n",
       "      <td>0.940916</td>\n",
       "    </tr>\n",
       "    <tr>\n",
       "      <th>90_target</th>\n",
       "      <td>0.060428</td>\n",
       "      <td>0.061560</td>\n",
       "      <td>-0.006650</td>\n",
       "      <td>0.012093</td>\n",
       "      <td>-0.011307</td>\n",
       "      <td>0.043786</td>\n",
       "      <td>0.043491</td>\n",
       "      <td>0.077710</td>\n",
       "      <td>0.088271</td>\n",
       "      <td>0.108077</td>\n",
       "      <td>...</td>\n",
       "      <td>0.124265</td>\n",
       "      <td>0.018379</td>\n",
       "      <td>0.049615</td>\n",
       "      <td>-0.096903</td>\n",
       "      <td>-0.007689</td>\n",
       "      <td>-0.002519</td>\n",
       "      <td>0.043563</td>\n",
       "      <td>0.355950</td>\n",
       "      <td>0.940916</td>\n",
       "      <td>1.000000</td>\n",
       "    </tr>\n",
       "  </tbody>\n",
       "</table>\n",
       "<p>133 rows × 133 columns</p>\n",
       "</div>"
      ],
      "text/plain": [
       "              ind_5     ind_6     ind_8     ind_9    ind_10    ind_12  \\\n",
       "ind_5      1.000000  0.989945  0.543246 -0.533328  0.649225  0.822255   \n",
       "ind_6      0.989945  1.000000  0.514222 -0.495572  0.608947  0.768551   \n",
       "ind_8      0.543246  0.514222  1.000000 -0.374857  0.828650  0.583623   \n",
       "ind_9     -0.533328 -0.495572 -0.374857  1.000000 -0.829576 -0.609288   \n",
       "ind_10     0.649225  0.608947  0.828650 -0.829576  1.000000  0.719409   \n",
       "...             ...       ...       ...       ...       ...       ...   \n",
       "ind_426    0.626439  0.567359  0.593799 -0.631961  0.739227  0.776076   \n",
       "ind_428    0.817302  0.810371  0.445427 -0.450719  0.540428  0.807595   \n",
       "20_target  0.060969  0.062101 -0.004126 -0.031316  0.016423  0.042550   \n",
       "50_target  0.068989  0.069652  0.006984 -0.004053  0.006654  0.055045   \n",
       "90_target  0.060428  0.061560 -0.006650  0.012093 -0.011307  0.043786   \n",
       "\n",
       "             ind_13    ind_14    ind_15    ind_16  ...   ind_412   ind_414  \\\n",
       "ind_5      0.768234 -0.014502 -0.026336 -0.041130  ...  0.620106 -0.694619   \n",
       "ind_6      0.713870 -0.006066 -0.019393 -0.035795  ...  0.634679 -0.646983   \n",
       "ind_8      0.482220  0.162635  0.139612  0.038862  ...  0.275687 -0.489596   \n",
       "ind_9     -0.568581  0.238938  0.240048  0.152133  ... -0.276882  0.436275   \n",
       "ind_10     0.633753 -0.046312 -0.060849 -0.068450  ...  0.333229 -0.558311   \n",
       "...             ...       ...       ...       ...  ...       ...       ...   \n",
       "ind_426    0.700736 -0.066201 -0.066437 -0.051049  ...  0.293592 -0.571432   \n",
       "ind_428    0.727899  0.021970  0.016318  0.010361  ...  0.574646 -0.499656   \n",
       "20_target  0.041289  0.015320  0.012012  0.026881  ...  0.066637 -0.029005   \n",
       "50_target  0.048302  0.072728  0.084561  0.101774  ...  0.127234  0.008239   \n",
       "90_target  0.043491  0.077710  0.088271  0.108077  ...  0.124265  0.018379   \n",
       "\n",
       "            ind_416   ind_418   ind_424   ind_426   ind_428  20_target  \\\n",
       "ind_5     -0.304134 -0.620099  0.076169  0.626439  0.817302   0.060969   \n",
       "ind_6     -0.279922 -0.569657  0.021220  0.567359  0.810371   0.062101   \n",
       "ind_8     -0.277258 -0.432579  0.144795  0.593799  0.445427  -0.004126   \n",
       "ind_9      0.349318  0.505772 -0.173139 -0.631961 -0.450719  -0.031316   \n",
       "ind_10    -0.377913 -0.565931  0.191752  0.739227  0.540428   0.016423   \n",
       "...             ...       ...       ...       ...       ...        ...   \n",
       "ind_426   -0.356302 -0.594243  0.341017  1.000000  0.584754   0.019599   \n",
       "ind_428   -0.260048 -0.487564  0.188853  0.584754  1.000000   0.047041   \n",
       "20_target -0.009829 -0.045656 -0.008799  0.019599  0.047041   1.000000   \n",
       "50_target  0.047728 -0.101488 -0.003372  0.009063  0.052418   0.384076   \n",
       "90_target  0.049615 -0.096903 -0.007689 -0.002519  0.043563   0.355950   \n",
       "\n",
       "           50_target  90_target  \n",
       "ind_5       0.068989   0.060428  \n",
       "ind_6       0.069652   0.061560  \n",
       "ind_8       0.006984  -0.006650  \n",
       "ind_9      -0.004053   0.012093  \n",
       "ind_10      0.006654  -0.011307  \n",
       "...              ...        ...  \n",
       "ind_426     0.009063  -0.002519  \n",
       "ind_428     0.052418   0.043563  \n",
       "20_target   0.384076   0.355950  \n",
       "50_target   1.000000   0.940916  \n",
       "90_target   0.940916   1.000000  \n",
       "\n",
       "[133 rows x 133 columns]"
      ]
     },
     "execution_count": 232,
     "metadata": {},
     "output_type": "execute_result"
    }
   ],
   "source": [
    "df.corr()"
   ]
  },
  {
   "cell_type": "code",
   "execution_count": 233,
   "metadata": {},
   "outputs": [
    {
     "data": {
      "text/html": [
       "<div>\n",
       "<style scoped>\n",
       "    .dataframe tbody tr th:only-of-type {\n",
       "        vertical-align: middle;\n",
       "    }\n",
       "\n",
       "    .dataframe tbody tr th {\n",
       "        vertical-align: top;\n",
       "    }\n",
       "\n",
       "    .dataframe thead th {\n",
       "        text-align: right;\n",
       "    }\n",
       "</style>\n",
       "<table border=\"1\" class=\"dataframe\">\n",
       "  <thead>\n",
       "    <tr style=\"text-align: right;\">\n",
       "      <th></th>\n",
       "      <th>ind_109</th>\n",
       "      <th>ind_420</th>\n",
       "      <th>ind_422</th>\n",
       "    </tr>\n",
       "  </thead>\n",
       "  <tbody>\n",
       "    <tr>\n",
       "      <th>0</th>\n",
       "      <td>GREEN</td>\n",
       "      <td>-152</td>\n",
       "      <td>-353</td>\n",
       "    </tr>\n",
       "    <tr>\n",
       "      <th>1</th>\n",
       "      <td>GREEN</td>\n",
       "      <td>-158</td>\n",
       "      <td>-359</td>\n",
       "    </tr>\n",
       "    <tr>\n",
       "      <th>2</th>\n",
       "      <td>GREEN</td>\n",
       "      <td>-160</td>\n",
       "      <td>-362</td>\n",
       "    </tr>\n",
       "    <tr>\n",
       "      <th>3</th>\n",
       "      <td>GREEN</td>\n",
       "      <td>-166</td>\n",
       "      <td>-367</td>\n",
       "    </tr>\n",
       "    <tr>\n",
       "      <th>4</th>\n",
       "      <td>GREEN</td>\n",
       "      <td>-186</td>\n",
       "      <td>-388</td>\n",
       "    </tr>\n",
       "    <tr>\n",
       "      <th>...</th>\n",
       "      <td>...</td>\n",
       "      <td>...</td>\n",
       "      <td>...</td>\n",
       "    </tr>\n",
       "    <tr>\n",
       "      <th>6162</th>\n",
       "      <td>RED</td>\n",
       "      <td>-11</td>\n",
       "      <td>-270</td>\n",
       "    </tr>\n",
       "    <tr>\n",
       "      <th>6163</th>\n",
       "      <td>RED</td>\n",
       "      <td>-12</td>\n",
       "      <td>-271</td>\n",
       "    </tr>\n",
       "    <tr>\n",
       "      <th>6164</th>\n",
       "      <td>GREEN</td>\n",
       "      <td>-21</td>\n",
       "      <td>-280</td>\n",
       "    </tr>\n",
       "    <tr>\n",
       "      <th>6165</th>\n",
       "      <td>GREEN</td>\n",
       "      <td>-33</td>\n",
       "      <td>-292</td>\n",
       "    </tr>\n",
       "    <tr>\n",
       "      <th>6166</th>\n",
       "      <td>GREEN</td>\n",
       "      <td>-28</td>\n",
       "      <td>-288</td>\n",
       "    </tr>\n",
       "  </tbody>\n",
       "</table>\n",
       "<p>6167 rows × 3 columns</p>\n",
       "</div>"
      ],
      "text/plain": [
       "     ind_109 ind_420 ind_422\n",
       "0      GREEN    -152    -353\n",
       "1      GREEN    -158    -359\n",
       "2      GREEN    -160    -362\n",
       "3      GREEN    -166    -367\n",
       "4      GREEN    -186    -388\n",
       "...      ...     ...     ...\n",
       "6162     RED     -11    -270\n",
       "6163     RED     -12    -271\n",
       "6164   GREEN     -21    -280\n",
       "6165   GREEN     -33    -292\n",
       "6166   GREEN     -28    -288\n",
       "\n",
       "[6167 rows x 3 columns]"
      ]
     },
     "execution_count": 233,
     "metadata": {},
     "output_type": "execute_result"
    }
   ],
   "source": [
    "df_cat = df.select_dtypes(include='object')\n",
    "df_cat"
   ]
  },
  {
   "cell_type": "code",
   "execution_count": 234,
   "metadata": {},
   "outputs": [
    {
     "data": {
      "text/plain": [
       "False"
      ]
     },
     "execution_count": 234,
     "metadata": {},
     "output_type": "execute_result"
    }
   ],
   "source": [
    "df.isnull().values.any()"
   ]
  },
  {
   "cell_type": "code",
   "execution_count": 235,
   "metadata": {},
   "outputs": [],
   "source": [
    "df=df.replace('?',np.nan)"
   ]
  },
  {
   "cell_type": "code",
   "execution_count": 236,
   "metadata": {},
   "outputs": [],
   "source": [
    "df = df.dropna(axis=0, subset=['ind_422'])\n",
    "df = df.dropna(axis=0, subset=['ind_420'])"
   ]
  },
  {
   "cell_type": "code",
   "execution_count": 237,
   "metadata": {},
   "outputs": [
    {
     "data": {
      "text/html": [
       "<div>\n",
       "<style scoped>\n",
       "    .dataframe tbody tr th:only-of-type {\n",
       "        vertical-align: middle;\n",
       "    }\n",
       "\n",
       "    .dataframe tbody tr th {\n",
       "        vertical-align: top;\n",
       "    }\n",
       "\n",
       "    .dataframe thead th {\n",
       "        text-align: right;\n",
       "    }\n",
       "</style>\n",
       "<table border=\"1\" class=\"dataframe\">\n",
       "  <thead>\n",
       "    <tr style=\"text-align: right;\">\n",
       "      <th></th>\n",
       "      <th>ind_5</th>\n",
       "      <th>ind_6</th>\n",
       "      <th>ind_8</th>\n",
       "      <th>ind_9</th>\n",
       "      <th>ind_10</th>\n",
       "      <th>ind_12</th>\n",
       "      <th>ind_13</th>\n",
       "      <th>ind_14</th>\n",
       "      <th>ind_15</th>\n",
       "      <th>ind_16</th>\n",
       "      <th>...</th>\n",
       "      <th>ind_420</th>\n",
       "      <th>ind_422</th>\n",
       "      <th>ind_424</th>\n",
       "      <th>ind_426</th>\n",
       "      <th>ind_428</th>\n",
       "      <th>20_target</th>\n",
       "      <th>50_target</th>\n",
       "      <th>90_target</th>\n",
       "      <th>ind_109_GREEN</th>\n",
       "      <th>ind_109_RED</th>\n",
       "    </tr>\n",
       "  </thead>\n",
       "  <tbody>\n",
       "    <tr>\n",
       "      <th>0</th>\n",
       "      <td>19</td>\n",
       "      <td>17</td>\n",
       "      <td>100.000000</td>\n",
       "      <td>85.714286</td>\n",
       "      <td>14.285714</td>\n",
       "      <td>72.363515</td>\n",
       "      <td>60.808814</td>\n",
       "      <td>23.80</td>\n",
       "      <td>17.62</td>\n",
       "      <td>11.73</td>\n",
       "      <td>...</td>\n",
       "      <td>-152.0</td>\n",
       "      <td>-353.0</td>\n",
       "      <td>1.000000</td>\n",
       "      <td>0.498547</td>\n",
       "      <td>0.701906</td>\n",
       "      <td>15.135802</td>\n",
       "      <td>35.625252</td>\n",
       "      <td>36.997753</td>\n",
       "      <td>1</td>\n",
       "      <td>0</td>\n",
       "    </tr>\n",
       "    <tr>\n",
       "      <th>1</th>\n",
       "      <td>24</td>\n",
       "      <td>19</td>\n",
       "      <td>100.000000</td>\n",
       "      <td>78.571429</td>\n",
       "      <td>21.428571</td>\n",
       "      <td>74.275883</td>\n",
       "      <td>64.366798</td>\n",
       "      <td>11.45</td>\n",
       "      <td>18.16</td>\n",
       "      <td>12.22</td>\n",
       "      <td>...</td>\n",
       "      <td>-158.0</td>\n",
       "      <td>-359.0</td>\n",
       "      <td>1.000000</td>\n",
       "      <td>0.537088</td>\n",
       "      <td>0.690833</td>\n",
       "      <td>15.143348</td>\n",
       "      <td>35.643013</td>\n",
       "      <td>37.016198</td>\n",
       "      <td>1</td>\n",
       "      <td>0</td>\n",
       "    </tr>\n",
       "    <tr>\n",
       "      <th>2</th>\n",
       "      <td>30</td>\n",
       "      <td>24</td>\n",
       "      <td>100.000000</td>\n",
       "      <td>71.428571</td>\n",
       "      <td>28.571429</td>\n",
       "      <td>75.140402</td>\n",
       "      <td>65.915803</td>\n",
       "      <td>8.75</td>\n",
       "      <td>17.86</td>\n",
       "      <td>12.28</td>\n",
       "      <td>...</td>\n",
       "      <td>-160.0</td>\n",
       "      <td>-362.0</td>\n",
       "      <td>1.000000</td>\n",
       "      <td>0.615169</td>\n",
       "      <td>0.693040</td>\n",
       "      <td>15.146870</td>\n",
       "      <td>35.651301</td>\n",
       "      <td>-37.024805</td>\n",
       "      <td>1</td>\n",
       "      <td>0</td>\n",
       "    </tr>\n",
       "    <tr>\n",
       "      <th>3</th>\n",
       "      <td>37</td>\n",
       "      <td>30</td>\n",
       "      <td>100.000000</td>\n",
       "      <td>64.285714</td>\n",
       "      <td>35.714286</td>\n",
       "      <td>76.677846</td>\n",
       "      <td>68.584234</td>\n",
       "      <td>7.80</td>\n",
       "      <td>14.76</td>\n",
       "      <td>12.61</td>\n",
       "      <td>...</td>\n",
       "      <td>-166.0</td>\n",
       "      <td>-367.0</td>\n",
       "      <td>1.000000</td>\n",
       "      <td>0.661517</td>\n",
       "      <td>0.673418</td>\n",
       "      <td>15.153283</td>\n",
       "      <td>0.000000</td>\n",
       "      <td>-37.040483</td>\n",
       "      <td>1</td>\n",
       "      <td>0</td>\n",
       "    </tr>\n",
       "    <tr>\n",
       "      <th>4</th>\n",
       "      <td>41</td>\n",
       "      <td>37</td>\n",
       "      <td>100.000000</td>\n",
       "      <td>57.142857</td>\n",
       "      <td>42.857143</td>\n",
       "      <td>81.603007</td>\n",
       "      <td>76.455495</td>\n",
       "      <td>14.90</td>\n",
       "      <td>11.92</td>\n",
       "      <td>14.25</td>\n",
       "      <td>...</td>\n",
       "      <td>-186.0</td>\n",
       "      <td>-388.0</td>\n",
       "      <td>1.000000</td>\n",
       "      <td>0.747204</td>\n",
       "      <td>0.700522</td>\n",
       "      <td>-15.179065</td>\n",
       "      <td>-35.727079</td>\n",
       "      <td>-37.103503</td>\n",
       "      <td>1</td>\n",
       "      <td>0</td>\n",
       "    </tr>\n",
       "    <tr>\n",
       "      <th>...</th>\n",
       "      <td>...</td>\n",
       "      <td>...</td>\n",
       "      <td>...</td>\n",
       "      <td>...</td>\n",
       "      <td>...</td>\n",
       "      <td>...</td>\n",
       "      <td>...</td>\n",
       "      <td>...</td>\n",
       "      <td>...</td>\n",
       "      <td>...</td>\n",
       "      <td>...</td>\n",
       "      <td>...</td>\n",
       "      <td>...</td>\n",
       "      <td>...</td>\n",
       "      <td>...</td>\n",
       "      <td>...</td>\n",
       "      <td>...</td>\n",
       "      <td>...</td>\n",
       "      <td>...</td>\n",
       "      <td>...</td>\n",
       "      <td>...</td>\n",
       "    </tr>\n",
       "    <tr>\n",
       "      <th>6162</th>\n",
       "      <td>27</td>\n",
       "      <td>31</td>\n",
       "      <td>57.142857</td>\n",
       "      <td>28.571429</td>\n",
       "      <td>28.571429</td>\n",
       "      <td>60.010531</td>\n",
       "      <td>32.362582</td>\n",
       "      <td>9.70</td>\n",
       "      <td>9.38</td>\n",
       "      <td>13.66</td>\n",
       "      <td>...</td>\n",
       "      <td>-11.0</td>\n",
       "      <td>-270.0</td>\n",
       "      <td>0.270270</td>\n",
       "      <td>0.840000</td>\n",
       "      <td>0.600846</td>\n",
       "      <td>14.673247</td>\n",
       "      <td>-34.536532</td>\n",
       "      <td>-35.867088</td>\n",
       "      <td>0</td>\n",
       "      <td>1</td>\n",
       "    </tr>\n",
       "    <tr>\n",
       "      <th>6163</th>\n",
       "      <td>22</td>\n",
       "      <td>27</td>\n",
       "      <td>50.000000</td>\n",
       "      <td>21.428571</td>\n",
       "      <td>28.571429</td>\n",
       "      <td>60.209998</td>\n",
       "      <td>32.914628</td>\n",
       "      <td>7.65</td>\n",
       "      <td>8.84</td>\n",
       "      <td>11.79</td>\n",
       "      <td>...</td>\n",
       "      <td>-12.0</td>\n",
       "      <td>-271.0</td>\n",
       "      <td>0.000000</td>\n",
       "      <td>0.737470</td>\n",
       "      <td>0.527673</td>\n",
       "      <td>14.673750</td>\n",
       "      <td>-34.537716</td>\n",
       "      <td>-35.868318</td>\n",
       "      <td>0</td>\n",
       "      <td>1</td>\n",
       "    </tr>\n",
       "    <tr>\n",
       "      <th>6164</th>\n",
       "      <td>19</td>\n",
       "      <td>22</td>\n",
       "      <td>42.857143</td>\n",
       "      <td>14.285714</td>\n",
       "      <td>28.571429</td>\n",
       "      <td>64.329611</td>\n",
       "      <td>43.550592</td>\n",
       "      <td>8.95</td>\n",
       "      <td>9.06</td>\n",
       "      <td>10.30</td>\n",
       "      <td>...</td>\n",
       "      <td>-21.0</td>\n",
       "      <td>-280.0</td>\n",
       "      <td>0.769231</td>\n",
       "      <td>0.632107</td>\n",
       "      <td>0.551759</td>\n",
       "      <td>-14.684566</td>\n",
       "      <td>-34.563173</td>\n",
       "      <td>-35.894755</td>\n",
       "      <td>1</td>\n",
       "      <td>0</td>\n",
       "    </tr>\n",
       "    <tr>\n",
       "      <th>6165</th>\n",
       "      <td>19</td>\n",
       "      <td>19</td>\n",
       "      <td>100.000000</td>\n",
       "      <td>7.142857</td>\n",
       "      <td>92.857143</td>\n",
       "      <td>69.027764</td>\n",
       "      <td>54.130755</td>\n",
       "      <td>13.55</td>\n",
       "      <td>10.36</td>\n",
       "      <td>10.55</td>\n",
       "      <td>...</td>\n",
       "      <td>-33.0</td>\n",
       "      <td>-292.0</td>\n",
       "      <td>1.000000</td>\n",
       "      <td>0.733010</td>\n",
       "      <td>0.591584</td>\n",
       "      <td>-14.699280</td>\n",
       "      <td>-34.597806</td>\n",
       "      <td>-35.930723</td>\n",
       "      <td>1</td>\n",
       "      <td>0</td>\n",
       "    </tr>\n",
       "    <tr>\n",
       "      <th>6166</th>\n",
       "      <td>19</td>\n",
       "      <td>19</td>\n",
       "      <td>92.857143</td>\n",
       "      <td>0.000000</td>\n",
       "      <td>92.857143</td>\n",
       "      <td>65.157180</td>\n",
       "      <td>45.524973</td>\n",
       "      <td>11.45</td>\n",
       "      <td>10.16</td>\n",
       "      <td>9.68</td>\n",
       "      <td>...</td>\n",
       "      <td>-28.0</td>\n",
       "      <td>-288.0</td>\n",
       "      <td>1.000000</td>\n",
       "      <td>0.687500</td>\n",
       "      <td>0.593936</td>\n",
       "      <td>-14.693117</td>\n",
       "      <td>-34.583301</td>\n",
       "      <td>-35.915659</td>\n",
       "      <td>1</td>\n",
       "      <td>0</td>\n",
       "    </tr>\n",
       "  </tbody>\n",
       "</table>\n",
       "<p>5126 rows × 137 columns</p>\n",
       "</div>"
      ],
      "text/plain": [
       "      ind_5  ind_6       ind_8      ind_9     ind_10     ind_12     ind_13  \\\n",
       "0        19     17  100.000000  85.714286  14.285714  72.363515  60.808814   \n",
       "1        24     19  100.000000  78.571429  21.428571  74.275883  64.366798   \n",
       "2        30     24  100.000000  71.428571  28.571429  75.140402  65.915803   \n",
       "3        37     30  100.000000  64.285714  35.714286  76.677846  68.584234   \n",
       "4        41     37  100.000000  57.142857  42.857143  81.603007  76.455495   \n",
       "...     ...    ...         ...        ...        ...        ...        ...   \n",
       "6162     27     31   57.142857  28.571429  28.571429  60.010531  32.362582   \n",
       "6163     22     27   50.000000  21.428571  28.571429  60.209998  32.914628   \n",
       "6164     19     22   42.857143  14.285714  28.571429  64.329611  43.550592   \n",
       "6165     19     19  100.000000   7.142857  92.857143  69.027764  54.130755   \n",
       "6166     19     19   92.857143   0.000000  92.857143  65.157180  45.524973   \n",
       "\n",
       "      ind_14  ind_15  ind_16  ...  ind_420  ind_422   ind_424   ind_426  \\\n",
       "0      23.80   17.62   11.73  ...   -152.0   -353.0  1.000000  0.498547   \n",
       "1      11.45   18.16   12.22  ...   -158.0   -359.0  1.000000  0.537088   \n",
       "2       8.75   17.86   12.28  ...   -160.0   -362.0  1.000000  0.615169   \n",
       "3       7.80   14.76   12.61  ...   -166.0   -367.0  1.000000  0.661517   \n",
       "4      14.90   11.92   14.25  ...   -186.0   -388.0  1.000000  0.747204   \n",
       "...      ...     ...     ...  ...      ...      ...       ...       ...   \n",
       "6162    9.70    9.38   13.66  ...    -11.0   -270.0  0.270270  0.840000   \n",
       "6163    7.65    8.84   11.79  ...    -12.0   -271.0  0.000000  0.737470   \n",
       "6164    8.95    9.06   10.30  ...    -21.0   -280.0  0.769231  0.632107   \n",
       "6165   13.55   10.36   10.55  ...    -33.0   -292.0  1.000000  0.733010   \n",
       "6166   11.45   10.16    9.68  ...    -28.0   -288.0  1.000000  0.687500   \n",
       "\n",
       "       ind_428  20_target  50_target  90_target  ind_109_GREEN  ind_109_RED  \n",
       "0     0.701906  15.135802  35.625252  36.997753              1            0  \n",
       "1     0.690833  15.143348  35.643013  37.016198              1            0  \n",
       "2     0.693040  15.146870  35.651301 -37.024805              1            0  \n",
       "3     0.673418  15.153283   0.000000 -37.040483              1            0  \n",
       "4     0.700522 -15.179065 -35.727079 -37.103503              1            0  \n",
       "...        ...        ...        ...        ...            ...          ...  \n",
       "6162  0.600846  14.673247 -34.536532 -35.867088              0            1  \n",
       "6163  0.527673  14.673750 -34.537716 -35.868318              0            1  \n",
       "6164  0.551759 -14.684566 -34.563173 -35.894755              1            0  \n",
       "6165  0.591584 -14.699280 -34.597806 -35.930723              1            0  \n",
       "6166  0.593936 -14.693117 -34.583301 -35.915659              1            0  \n",
       "\n",
       "[5126 rows x 137 columns]"
      ]
     },
     "execution_count": 237,
     "metadata": {},
     "output_type": "execute_result"
    }
   ],
   "source": [
    "dummy_df = pd.get_dummies(df)\n",
    "df = dummy_df\n",
    "df"
   ]
  },
  {
   "cell_type": "code",
   "execution_count": 238,
   "metadata": {},
   "outputs": [],
   "source": [
    "df = df.drop(columns=['20_target', '50_target'])"
   ]
  },
  {
   "cell_type": "code",
   "execution_count": 274,
   "metadata": {},
   "outputs": [
    {
     "data": {
      "image/png": "[encoded data removed]",
      "text/plain": [
       "<Figure size 432x288 with 1 Axes>"
      ]
     },
     "metadata": {
      "needs_background": "light"
     },
     "output_type": "display_data"
    }
   ],
   "source": [
    "sns.distplot(df[\"90_target\"])\n",
    "plt.show()"
   ]
  },
  {
   "cell_type": "code",
   "execution_count": 239,
   "metadata": {},
   "outputs": [
    {
     "data": {
      "text/plain": [
       "<matplotlib.axes._subplots.AxesSubplot at 0x259491e6848>"
      ]
     },
     "execution_count": 239,
     "metadata": {},
     "output_type": "execute_result"
    },
    {
     "data": {
      "image/png": "[encoded data removed]",
      "text/plain": [
       "<Figure size 432x288 with 1 Axes>"
      ]
     },
     "metadata": {
      "needs_background": "light"
     },
     "output_type": "display_data"
    }
   ],
   "source": [
    "sns.kdeplot(df[\"90_target\"])"
   ]
  },
  {
   "cell_type": "code",
   "execution_count": 240,
   "metadata": {},
   "outputs": [
    {
     "data": {
      "text/plain": [
       "ind_5            0.073107\n",
       "ind_6            0.073585\n",
       "ind_8            0.011621\n",
       "ind_9            0.013177\n",
       "ind_10           0.014987\n",
       "                   ...   \n",
       "ind_426          0.003437\n",
       "ind_428          0.058844\n",
       "90_target        1.000000\n",
       "ind_109_GREEN    0.026945\n",
       "ind_109_RED      0.026945\n",
       "Name: 90_target, Length: 135, dtype: float64"
      ]
     },
     "execution_count": 240,
     "metadata": {},
     "output_type": "execute_result"
    }
   ],
   "source": [
    "cor = df.corr()[\"90_target\"].abs()\n",
    "cor"
   ]
  },
  {
   "cell_type": "code",
   "execution_count": 254,
   "metadata": {},
   "outputs": [
    {
     "data": {
      "text/plain": [
       "Index(['90_target', 'ind_18', 'ind_324', 'ind_412', 'ind_17', 'ind_315',\n",
       "       'ind_16', 'ind_418', 'ind_77', 'ind_332'],\n",
       "      dtype='object')"
      ]
     },
     "execution_count": 254,
     "metadata": {},
     "output_type": "execute_result"
    }
   ],
   "source": [
    "corr = cor.nlargest(10).index\n",
    "corr"
   ]
  },
  {
   "cell_type": "code",
   "execution_count": null,
   "metadata": {},
   "outputs": [],
   "source": [
    "sns.jointplot(x=\"ind_17\",y=\"90_target\",df=df, kind=\"reg\");"
   ]
  },
  {
   "cell_type": "code",
   "execution_count": 208,
   "metadata": {},
   "outputs": [
    {
     "data": {
      "text/html": [
       "<div>\n",
       "<style scoped>\n",
       "    .dataframe tbody tr th:only-of-type {\n",
       "        vertical-align: middle;\n",
       "    }\n",
       "\n",
       "    .dataframe tbody tr th {\n",
       "        vertical-align: top;\n",
       "    }\n",
       "\n",
       "    .dataframe thead th {\n",
       "        text-align: right;\n",
       "    }\n",
       "</style>\n",
       "<table border=\"1\" class=\"dataframe\">\n",
       "  <thead>\n",
       "    <tr style=\"text-align: right;\">\n",
       "      <th></th>\n",
       "      <th>ind_18</th>\n",
       "      <th>ind_324</th>\n",
       "      <th>ind_412</th>\n",
       "      <th>ind_17</th>\n",
       "      <th>ind_315</th>\n",
       "      <th>ind_16</th>\n",
       "      <th>ind_418</th>\n",
       "      <th>ind_77</th>\n",
       "      <th>ind_332</th>\n",
       "    </tr>\n",
       "  </thead>\n",
       "  <tbody>\n",
       "    <tr>\n",
       "      <th>ind_18</th>\n",
       "      <td>1.000000</td>\n",
       "      <td>-0.247839</td>\n",
       "      <td>-0.037236</td>\n",
       "      <td>0.519406</td>\n",
       "      <td>-0.308114</td>\n",
       "      <td>0.397056</td>\n",
       "      <td>-0.364201</td>\n",
       "      <td>0.087033</td>\n",
       "      <td>0.081775</td>\n",
       "    </tr>\n",
       "    <tr>\n",
       "      <th>ind_324</th>\n",
       "      <td>-0.247839</td>\n",
       "      <td>1.000000</td>\n",
       "      <td>-0.271897</td>\n",
       "      <td>-0.129447</td>\n",
       "      <td>0.339597</td>\n",
       "      <td>-0.064688</td>\n",
       "      <td>0.412388</td>\n",
       "      <td>-0.396448</td>\n",
       "      <td>-0.180743</td>\n",
       "    </tr>\n",
       "    <tr>\n",
       "      <th>ind_412</th>\n",
       "      <td>-0.037236</td>\n",
       "      <td>-0.271897</td>\n",
       "      <td>1.000000</td>\n",
       "      <td>-0.047126</td>\n",
       "      <td>-0.028020</td>\n",
       "      <td>-0.031548</td>\n",
       "      <td>-0.317183</td>\n",
       "      <td>0.422127</td>\n",
       "      <td>0.116092</td>\n",
       "    </tr>\n",
       "    <tr>\n",
       "      <th>ind_17</th>\n",
       "      <td>0.519406</td>\n",
       "      <td>-0.129447</td>\n",
       "      <td>-0.047126</td>\n",
       "      <td>1.000000</td>\n",
       "      <td>-0.161937</td>\n",
       "      <td>0.921632</td>\n",
       "      <td>-0.403946</td>\n",
       "      <td>-0.004318</td>\n",
       "      <td>0.022079</td>\n",
       "    </tr>\n",
       "    <tr>\n",
       "      <th>ind_315</th>\n",
       "      <td>-0.308114</td>\n",
       "      <td>0.339597</td>\n",
       "      <td>-0.028020</td>\n",
       "      <td>-0.161937</td>\n",
       "      <td>1.000000</td>\n",
       "      <td>-0.145599</td>\n",
       "      <td>0.162454</td>\n",
       "      <td>-0.246071</td>\n",
       "      <td>-0.057487</td>\n",
       "    </tr>\n",
       "    <tr>\n",
       "      <th>ind_16</th>\n",
       "      <td>0.397056</td>\n",
       "      <td>-0.064688</td>\n",
       "      <td>-0.031548</td>\n",
       "      <td>0.921632</td>\n",
       "      <td>-0.145599</td>\n",
       "      <td>1.000000</td>\n",
       "      <td>-0.339586</td>\n",
       "      <td>-0.006383</td>\n",
       "      <td>0.001329</td>\n",
       "    </tr>\n",
       "    <tr>\n",
       "      <th>ind_418</th>\n",
       "      <td>-0.364201</td>\n",
       "      <td>0.412388</td>\n",
       "      <td>-0.317183</td>\n",
       "      <td>-0.403946</td>\n",
       "      <td>0.162454</td>\n",
       "      <td>-0.339586</td>\n",
       "      <td>1.000000</td>\n",
       "      <td>-0.393054</td>\n",
       "      <td>-0.170422</td>\n",
       "    </tr>\n",
       "    <tr>\n",
       "      <th>ind_77</th>\n",
       "      <td>0.087033</td>\n",
       "      <td>-0.396448</td>\n",
       "      <td>0.422127</td>\n",
       "      <td>-0.004318</td>\n",
       "      <td>-0.246071</td>\n",
       "      <td>-0.006383</td>\n",
       "      <td>-0.393054</td>\n",
       "      <td>1.000000</td>\n",
       "      <td>0.316005</td>\n",
       "    </tr>\n",
       "    <tr>\n",
       "      <th>ind_332</th>\n",
       "      <td>0.081775</td>\n",
       "      <td>-0.180743</td>\n",
       "      <td>0.116092</td>\n",
       "      <td>0.022079</td>\n",
       "      <td>-0.057487</td>\n",
       "      <td>0.001329</td>\n",
       "      <td>-0.170422</td>\n",
       "      <td>0.316005</td>\n",
       "      <td>1.000000</td>\n",
       "    </tr>\n",
       "  </tbody>\n",
       "</table>\n",
       "</div>"
      ],
      "text/plain": [
       "           ind_18   ind_324   ind_412    ind_17   ind_315    ind_16   ind_418  \\\n",
       "ind_18   1.000000 -0.247839 -0.037236  0.519406 -0.308114  0.397056 -0.364201   \n",
       "ind_324 -0.247839  1.000000 -0.271897 -0.129447  0.339597 -0.064688  0.412388   \n",
       "ind_412 -0.037236 -0.271897  1.000000 -0.047126 -0.028020 -0.031548 -0.317183   \n",
       "ind_17   0.519406 -0.129447 -0.047126  1.000000 -0.161937  0.921632 -0.403946   \n",
       "ind_315 -0.308114  0.339597 -0.028020 -0.161937  1.000000 -0.145599  0.162454   \n",
       "ind_16   0.397056 -0.064688 -0.031548  0.921632 -0.145599  1.000000 -0.339586   \n",
       "ind_418 -0.364201  0.412388 -0.317183 -0.403946  0.162454 -0.339586  1.000000   \n",
       "ind_77   0.087033 -0.396448  0.422127 -0.004318 -0.246071 -0.006383 -0.393054   \n",
       "ind_332  0.081775 -0.180743  0.116092  0.022079 -0.057487  0.001329 -0.170422   \n",
       "\n",
       "           ind_77   ind_332  \n",
       "ind_18   0.087033  0.081775  \n",
       "ind_324 -0.396448 -0.180743  \n",
       "ind_412  0.422127  0.116092  \n",
       "ind_17  -0.004318  0.022079  \n",
       "ind_315 -0.246071 -0.057487  \n",
       "ind_16  -0.006383  0.001329  \n",
       "ind_418 -0.393054 -0.170422  \n",
       "ind_77   1.000000  0.316005  \n",
       "ind_332  0.316005  1.000000  "
      ]
     },
     "execution_count": 208,
     "metadata": {},
     "output_type": "execute_result"
    }
   ],
   "source": [
    "new_df = df[['ind_18', 'ind_324', 'ind_412', 'ind_17', 'ind_315','ind_16', 'ind_418', 'ind_77', 'ind_332']]\n",
    "new_df.corr()"
   ]
  },
  {
   "cell_type": "code",
   "execution_count": 251,
   "metadata": {},
   "outputs": [
    {
     "data": {
      "text/html": [
       "<div>\n",
       "<style scoped>\n",
       "    .dataframe tbody tr th:only-of-type {\n",
       "        vertical-align: middle;\n",
       "    }\n",
       "\n",
       "    .dataframe tbody tr th {\n",
       "        vertical-align: top;\n",
       "    }\n",
       "\n",
       "    .dataframe thead th {\n",
       "        text-align: right;\n",
       "    }\n",
       "</style>\n",
       "<table border=\"1\" class=\"dataframe\">\n",
       "  <thead>\n",
       "    <tr style=\"text-align: right;\">\n",
       "      <th></th>\n",
       "      <th>variables</th>\n",
       "      <th>VIF</th>\n",
       "    </tr>\n",
       "  </thead>\n",
       "  <tbody>\n",
       "    <tr>\n",
       "      <th>0</th>\n",
       "      <td>ind_18</td>\n",
       "      <td>12.090389</td>\n",
       "    </tr>\n",
       "    <tr>\n",
       "      <th>1</th>\n",
       "      <td>ind_324</td>\n",
       "      <td>1.853754</td>\n",
       "    </tr>\n",
       "    <tr>\n",
       "      <th>2</th>\n",
       "      <td>ind_412</td>\n",
       "      <td>1.313576</td>\n",
       "    </tr>\n",
       "    <tr>\n",
       "      <th>3</th>\n",
       "      <td>ind_17</td>\n",
       "      <td>63.631047</td>\n",
       "    </tr>\n",
       "    <tr>\n",
       "      <th>4</th>\n",
       "      <td>ind_315</td>\n",
       "      <td>2.090997</td>\n",
       "    </tr>\n",
       "    <tr>\n",
       "      <th>5</th>\n",
       "      <td>ind_16</td>\n",
       "      <td>44.373140</td>\n",
       "    </tr>\n",
       "    <tr>\n",
       "      <th>6</th>\n",
       "      <td>ind_418</td>\n",
       "      <td>4.210635</td>\n",
       "    </tr>\n",
       "    <tr>\n",
       "      <th>7</th>\n",
       "      <td>ind_77</td>\n",
       "      <td>1.614390</td>\n",
       "    </tr>\n",
       "    <tr>\n",
       "      <th>8</th>\n",
       "      <td>ind_332</td>\n",
       "      <td>1.304471</td>\n",
       "    </tr>\n",
       "  </tbody>\n",
       "</table>\n",
       "</div>"
      ],
      "text/plain": [
       "  variables        VIF\n",
       "0    ind_18  12.090389\n",
       "1   ind_324   1.853754\n",
       "2   ind_412   1.313576\n",
       "3    ind_17  63.631047\n",
       "4   ind_315   2.090997\n",
       "5    ind_16  44.373140\n",
       "6   ind_418   4.210635\n",
       "7    ind_77   1.614390\n",
       "8   ind_332   1.304471"
      ]
     },
     "execution_count": 251,
     "metadata": {},
     "output_type": "execute_result"
    }
   ],
   "source": [
    "from statsmodels.stats.outliers_influence import variance_inflation_factor\n",
    "\n",
    "vif = pd.DataFrame()\n",
    "vif[\"variables\"] = new_df.columns\n",
    "vif[\"VIF\"] = [variance_inflation_factor(new_df.values, i) for i in range(new_df.shape[1])]\n",
    "vif"
   ]
  },
  {
   "cell_type": "code",
   "execution_count": 278,
   "metadata": {},
   "outputs": [
    {
     "data": {
      "text/plain": [
       "variables     object\n",
       "VIF          float64\n",
       "dtype: object"
      ]
     },
     "execution_count": 278,
     "metadata": {},
     "output_type": "execute_result"
    }
   ],
   "source": [
    "vif.dtypes"
   ]
  },
  {
   "cell_type": "code",
   "execution_count": 185,
   "metadata": {},
   "outputs": [],
   "source": [
    "new_df2 = new_df[['ind_324', 'ind_412', 'ind_315', 'ind_418', 'ind_77', 'ind_332']]"
   ]
  },
  {
   "cell_type": "code",
   "execution_count": 286,
   "metadata": {},
   "outputs": [
    {
     "data": {
      "image/png": "[encoded data removed]",
      "text/plain": [
       "<Figure size 720x720 with 2 Axes>"
      ]
     },
     "metadata": {
      "needs_background": "light"
     },
     "output_type": "display_data"
    }
   ],
   "source": [
    "plt.figure(figsize=(10,10))\n",
    "sns.heatmap(new_df.corr().abs(), annot=True);"
   ]
  },
  {
   "cell_type": "code",
   "execution_count": 186,
   "metadata": {},
   "outputs": [
    {
     "data": {
      "image/png": "[encoded data removed]",
      "text/plain": [
       "<Figure size 1872x720 with 1 Axes>"
      ]
     },
     "metadata": {
      "needs_background": "light"
     },
     "output_type": "display_data"
    }
   ],
   "source": [
    "plt.figure(figsize=(26,10))\n",
    "new_df2.boxplot()\n",
    "plt.show()"
   ]
  },
  {
   "cell_type": "code",
   "execution_count": 187,
   "metadata": {},
   "outputs": [
    {
     "data": {
      "image/png": "[encoded data removed]",
      "text/plain": [
       "<Figure size 1872x1296 with 6 Axes>"
      ]
     },
     "metadata": {
      "needs_background": "light"
     },
     "output_type": "display_data"
    }
   ],
   "source": [
    "new_df2.hist(figsize=(26,18), bins=40, xlabelsize=6, ylabelsize=6)\n",
    "plt.show()"
   ]
  },
  {
   "cell_type": "code",
   "execution_count": 188,
   "metadata": {},
   "outputs": [],
   "source": [
    "import scipy.stats as stats\n",
    "import pylab"
   ]
  },
  {
   "cell_type": "code",
   "execution_count": 189,
   "metadata": {},
   "outputs": [
    {
     "data": {
      "image/png": "[encoded data removed]",
      "text/plain": [
       "<Figure size 432x288 with 1 Axes>"
      ]
     },
     "metadata": {
      "needs_background": "light"
     },
     "output_type": "display_data"
    }
   ],
   "source": [
    "stats.probplot(new_df2[\"ind_412\"], dist = \"norm\", plot=pylab)\n",
    "pylab.show()"
   ]
  },
  {
   "cell_type": "code",
   "execution_count": 190,
   "metadata": {},
   "outputs": [
    {
     "data": {
      "image/png": "[encoded data removed]",
      "text/plain": [
       "<Figure size 432x288 with 1 Axes>"
      ]
     },
     "metadata": {
      "needs_background": "light"
     },
     "output_type": "display_data"
    }
   ],
   "source": [
    "stats.probplot(new_df2[\"ind_418\"], dist = \"norm\", plot=pylab)\n",
    "pylab.show()"
   ]
  },
  {
   "cell_type": "code",
   "execution_count": 191,
   "metadata": {},
   "outputs": [
    {
     "data": {
      "image/png": "[encoded data removed]",
      "text/plain": [
       "<Figure size 432x288 with 1 Axes>"
      ]
     },
     "metadata": {
      "needs_background": "light"
     },
     "output_type": "display_data"
    }
   ],
   "source": [
    "stats.probplot(new_df2[\"ind_77\"], dist = \"norm\", plot=pylab)\n",
    "pylab.show()"
   ]
  },
  {
   "cell_type": "code",
   "execution_count": 192,
   "metadata": {},
   "outputs": [],
   "source": [
    "import scipy.stats as stats\n",
    "import pylab\n",
    "import scipy.stats as stats \n",
    "from scipy.stats import shapiro\n",
    "from scipy.stats import f_oneway\n",
    "from scipy.stats import levene \n",
    "import statsmodels.api as sm\n",
    "\n",
    "import numpy as np\n",
    "import math\n",
    "import matplotlib.pyplot as plt\n",
    "\n",
    "import pandas as pd\n",
    "import numpy as np\n",
    "import seaborn as sns\n",
    "import pylab\n",
    "import statsmodels.formula.api as smf\n",
    "\n",
    "from statsmodels.stats.outliers_influence import variance_inflation_factor\n",
    "from scipy.stats import shapiro\n",
    "from patsy import dmatrices\n",
    "from sklearn.linear_model import LinearRegression\n",
    "from sklearn.metrics import mean_squared_error,r2_score\n",
    "from sklearn.decomposition import PCA\n",
    "from sklearn.preprocessing import scale\n",
    "from sklearn.model_selection import train_test_split, cross_val_score, cross_val_predict"
   ]
  },
  {
   "cell_type": "code",
   "execution_count": 193,
   "metadata": {},
   "outputs": [
    {
     "name": "stdout",
     "output_type": "stream",
     "text": [
      "Shapiro Statistics=0.983, p=0.000\n",
      "\u001b[1mind_412:\u001b[0m Örneklem Normal (Gaussian) dağılımdan gelmemektedir (Reject H0)\n",
      "\n",
      "Shapiro Statistics=0.779, p=0.000\n",
      "\u001b[1mind_315:\u001b[0m Örneklem Normal (Gaussian) dağılımdan gelmemektedir (Reject H0)\n",
      "\n",
      "Shapiro Statistics=0.867, p=0.000\n",
      "\u001b[1mind_418:\u001b[0m Örneklem Normal (Gaussian) dağılımdan gelmemektedir (Reject H0)\n",
      "\n",
      "Shapiro Statistics=0.797, p=0.000\n",
      "\u001b[1mind_77:\u001b[0m Örneklem Normal (Gaussian) dağılımdan gelmemektedir (Reject H0)\n",
      "\n",
      "Shapiro Statistics=0.454, p=0.000\n",
      "\u001b[1mind_332:\u001b[0m Örneklem Normal (Gaussian) dağılımdan gelmemektedir (Reject H0)\n",
      "\n"
     ]
    },
    {
     "name": "stderr",
     "output_type": "stream",
     "text": [
      "C:\\Users\\msaka\\Anaconda3\\lib\\site-packages\\scipy\\stats\\morestats.py:1676: UserWarning: p-value may not be accurate for N > 5000.\n",
      "  warnings.warn(\"p-value may not be accurate for N > 5000.\")\n"
     ]
    }
   ],
   "source": [
    "for col in new_df2.columns[1:]:\n",
    "    if new_df2[col].dtypes != object:\n",
    "        \n",
    "        stat, p = shapiro(new_df[col])\n",
    "\n",
    "        print('Shapiro Statistics=%.3f, p=%.3f' % (stat, p))\n",
    "\n",
    "        alpha = 0.05\n",
    "        if p > alpha:\n",
    "            print(col)\n",
    "            print('\\033[1m'+ col + '\\033[0m','Örneklem Normal (Gaussian) dağılımdan gelmektedir (fail to Reject) \\n')\n",
    "        else:\n",
    "            print('\\033[1m'+ col + \":\"+'\\033[0m','Örneklem Normal (Gaussian) dağılımdan gelmemektedir (Reject H0)\\n')"
   ]
  },
  {
   "cell_type": "code",
   "execution_count": 194,
   "metadata": {},
   "outputs": [
    {
     "data": {
      "text/html": [
       "<div>\n",
       "<style scoped>\n",
       "    .dataframe tbody tr th:only-of-type {\n",
       "        vertical-align: middle;\n",
       "    }\n",
       "\n",
       "    .dataframe tbody tr th {\n",
       "        vertical-align: top;\n",
       "    }\n",
       "\n",
       "    .dataframe thead th {\n",
       "        text-align: right;\n",
       "    }\n",
       "</style>\n",
       "<table border=\"1\" class=\"dataframe\">\n",
       "  <thead>\n",
       "    <tr style=\"text-align: right;\">\n",
       "      <th></th>\n",
       "      <th>const</th>\n",
       "      <th>ind_324</th>\n",
       "      <th>ind_412</th>\n",
       "      <th>ind_315</th>\n",
       "      <th>ind_418</th>\n",
       "      <th>ind_77</th>\n",
       "      <th>ind_332</th>\n",
       "    </tr>\n",
       "  </thead>\n",
       "  <tbody>\n",
       "    <tr>\n",
       "      <th>0</th>\n",
       "      <td>1.0</td>\n",
       "      <td>-0.000062</td>\n",
       "      <td>0.002371</td>\n",
       "      <td>-0.756946</td>\n",
       "      <td>-54</td>\n",
       "      <td>8</td>\n",
       "      <td>20.967742</td>\n",
       "    </tr>\n",
       "    <tr>\n",
       "      <th>1</th>\n",
       "      <td>1.0</td>\n",
       "      <td>-0.000062</td>\n",
       "      <td>0.003074</td>\n",
       "      <td>-0.756569</td>\n",
       "      <td>-60</td>\n",
       "      <td>8</td>\n",
       "      <td>20.800000</td>\n",
       "    </tr>\n",
       "    <tr>\n",
       "      <th>2</th>\n",
       "      <td>1.0</td>\n",
       "      <td>-0.000062</td>\n",
       "      <td>0.003561</td>\n",
       "      <td>-0.756393</td>\n",
       "      <td>-60</td>\n",
       "      <td>8</td>\n",
       "      <td>20.634921</td>\n",
       "    </tr>\n",
       "    <tr>\n",
       "      <th>3</th>\n",
       "      <td>1.0</td>\n",
       "      <td>-0.000062</td>\n",
       "      <td>0.004366</td>\n",
       "      <td>-0.756073</td>\n",
       "      <td>-65</td>\n",
       "      <td>8</td>\n",
       "      <td>20.472441</td>\n",
       "    </tr>\n",
       "    <tr>\n",
       "      <th>4</th>\n",
       "      <td>1.0</td>\n",
       "      <td>-0.000062</td>\n",
       "      <td>0.004198</td>\n",
       "      <td>-0.754789</td>\n",
       "      <td>-86</td>\n",
       "      <td>8</td>\n",
       "      <td>20.312500</td>\n",
       "    </tr>\n",
       "    <tr>\n",
       "      <th>...</th>\n",
       "      <td>...</td>\n",
       "      <td>...</td>\n",
       "      <td>...</td>\n",
       "      <td>...</td>\n",
       "      <td>...</td>\n",
       "      <td>...</td>\n",
       "      <td>...</td>\n",
       "    </tr>\n",
       "    <tr>\n",
       "      <th>6162</th>\n",
       "      <td>1.0</td>\n",
       "      <td>-0.000104</td>\n",
       "      <td>0.004633</td>\n",
       "      <td>-0.003428</td>\n",
       "      <td>-40</td>\n",
       "      <td>15</td>\n",
       "      <td>14.634146</td>\n",
       "    </tr>\n",
       "    <tr>\n",
       "      <th>6163</th>\n",
       "      <td>1.0</td>\n",
       "      <td>-0.000104</td>\n",
       "      <td>0.008511</td>\n",
       "      <td>-0.003428</td>\n",
       "      <td>-41</td>\n",
       "      <td>14</td>\n",
       "      <td>14.285714</td>\n",
       "    </tr>\n",
       "    <tr>\n",
       "      <th>6164</th>\n",
       "      <td>1.0</td>\n",
       "      <td>-0.000104</td>\n",
       "      <td>0.008848</td>\n",
       "      <td>-0.003426</td>\n",
       "      <td>-49</td>\n",
       "      <td>14</td>\n",
       "      <td>13.953488</td>\n",
       "    </tr>\n",
       "    <tr>\n",
       "      <th>6165</th>\n",
       "      <td>1.0</td>\n",
       "      <td>-0.000104</td>\n",
       "      <td>0.008940</td>\n",
       "      <td>-0.003422</td>\n",
       "      <td>-61</td>\n",
       "      <td>14</td>\n",
       "      <td>13.636364</td>\n",
       "    </tr>\n",
       "    <tr>\n",
       "      <th>6166</th>\n",
       "      <td>1.0</td>\n",
       "      <td>-0.000104</td>\n",
       "      <td>0.008685</td>\n",
       "      <td>-0.003424</td>\n",
       "      <td>-56</td>\n",
       "      <td>14</td>\n",
       "      <td>13.333333</td>\n",
       "    </tr>\n",
       "  </tbody>\n",
       "</table>\n",
       "<p>5126 rows × 7 columns</p>\n",
       "</div>"
      ],
      "text/plain": [
       "      const   ind_324   ind_412   ind_315  ind_418  ind_77    ind_332\n",
       "0       1.0 -0.000062  0.002371 -0.756946      -54       8  20.967742\n",
       "1       1.0 -0.000062  0.003074 -0.756569      -60       8  20.800000\n",
       "2       1.0 -0.000062  0.003561 -0.756393      -60       8  20.634921\n",
       "3       1.0 -0.000062  0.004366 -0.756073      -65       8  20.472441\n",
       "4       1.0 -0.000062  0.004198 -0.754789      -86       8  20.312500\n",
       "...     ...       ...       ...       ...      ...     ...        ...\n",
       "6162    1.0 -0.000104  0.004633 -0.003428      -40      15  14.634146\n",
       "6163    1.0 -0.000104  0.008511 -0.003428      -41      14  14.285714\n",
       "6164    1.0 -0.000104  0.008848 -0.003426      -49      14  13.953488\n",
       "6165    1.0 -0.000104  0.008940 -0.003422      -61      14  13.636364\n",
       "6166    1.0 -0.000104  0.008685 -0.003424      -56      14  13.333333\n",
       "\n",
       "[5126 rows x 7 columns]"
      ]
     },
     "execution_count": 194,
     "metadata": {},
     "output_type": "execute_result"
    }
   ],
   "source": [
    "x_df = new_df2\n",
    "x_df = sm.add_constant(x_df)\n",
    "x_df"
   ]
  },
  {
   "cell_type": "code",
   "execution_count": 195,
   "metadata": {},
   "outputs": [],
   "source": [
    "y_df  = df[\"90_target\"]\n",
    "\n",
    "x_train, x_test, y_train, y_test = train_test_split(x_df,y_df, test_size=0.2, random_state=10)"
   ]
  },
  {
   "cell_type": "code",
   "execution_count": 196,
   "metadata": {},
   "outputs": [
    {
     "name": "stdout",
     "output_type": "stream",
     "text": [
      "(4100, 7)\n",
      "(1026, 7)\n",
      "(4100,)\n",
      "(1026,)\n"
     ]
    }
   ],
   "source": [
    "print(x_train.shape)\n",
    "print(x_test.shape)\n",
    "print(y_train.shape)\n",
    "print(y_test.shape)"
   ]
  },
  {
   "cell_type": "code",
   "execution_count": 197,
   "metadata": {},
   "outputs": [
    {
     "data": {
      "text/html": [
       "<table class=\"simpletable\">\n",
       "<caption>OLS Regression Results</caption>\n",
       "<tr>\n",
       "  <th>Dep. Variable:</th>        <td>90_target</td>    <th>  R-squared:         </th> <td>   0.045</td> \n",
       "</tr>\n",
       "<tr>\n",
       "  <th>Model:</th>                   <td>OLS</td>       <th>  Adj. R-squared:    </th> <td>   0.043</td> \n",
       "</tr>\n",
       "<tr>\n",
       "  <th>Method:</th>             <td>Least Squares</td>  <th>  F-statistic:       </th> <td>   31.95</td> \n",
       "</tr>\n",
       "<tr>\n",
       "  <th>Date:</th>             <td>Sat, 25 Jul 2020</td> <th>  Prob (F-statistic):</th> <td>9.01e-38</td> \n",
       "</tr>\n",
       "<tr>\n",
       "  <th>Time:</th>                 <td>04:10:37</td>     <th>  Log-Likelihood:    </th> <td> -20489.</td> \n",
       "</tr>\n",
       "<tr>\n",
       "  <th>No. Observations:</th>      <td>  4100</td>      <th>  AIC:               </th> <td>4.099e+04</td>\n",
       "</tr>\n",
       "<tr>\n",
       "  <th>Df Residuals:</th>          <td>  4093</td>      <th>  BIC:               </th> <td>4.104e+04</td>\n",
       "</tr>\n",
       "<tr>\n",
       "  <th>Df Model:</th>              <td>     6</td>      <th>                     </th>     <td> </td>    \n",
       "</tr>\n",
       "<tr>\n",
       "  <th>Covariance Type:</th>      <td>nonrobust</td>    <th>                     </th>     <td> </td>    \n",
       "</tr>\n",
       "</table>\n",
       "<table class=\"simpletable\">\n",
       "<tr>\n",
       "     <td></td>        <th>coef</th>     <th>std err</th>      <th>t</th>      <th>P>|t|</th>  <th>[0.025</th>    <th>0.975]</th>  \n",
       "</tr>\n",
       "<tr>\n",
       "  <th>const</th>   <td>  -10.8677</td> <td>    1.077</td> <td>  -10.087</td> <td> 0.000</td> <td>  -12.980</td> <td>   -8.755</td>\n",
       "</tr>\n",
       "<tr>\n",
       "  <th>ind_324</th> <td>-1.885e+04</td> <td> 4944.348</td> <td>   -3.813</td> <td> 0.000</td> <td>-2.85e+04</td> <td>-9158.909</td>\n",
       "</tr>\n",
       "<tr>\n",
       "  <th>ind_412</th> <td>  682.5023</td> <td>  109.405</td> <td>    6.238</td> <td> 0.000</td> <td>  468.008</td> <td>  896.996</td>\n",
       "</tr>\n",
       "<tr>\n",
       "  <th>ind_315</th> <td>   -4.1958</td> <td>    0.808</td> <td>   -5.193</td> <td> 0.000</td> <td>   -5.780</td> <td>   -2.612</td>\n",
       "</tr>\n",
       "<tr>\n",
       "  <th>ind_418</th> <td>   -0.0491</td> <td>    0.029</td> <td>   -1.703</td> <td> 0.089</td> <td>   -0.106</td> <td>    0.007</td>\n",
       "</tr>\n",
       "<tr>\n",
       "  <th>ind_77</th>  <td>   -0.0609</td> <td>    0.061</td> <td>   -0.991</td> <td> 0.322</td> <td>   -0.181</td> <td>    0.060</td>\n",
       "</tr>\n",
       "<tr>\n",
       "  <th>ind_332</th> <td>    0.1078</td> <td>    0.023</td> <td>    4.745</td> <td> 0.000</td> <td>    0.063</td> <td>    0.152</td>\n",
       "</tr>\n",
       "</table>\n",
       "<table class=\"simpletable\">\n",
       "<tr>\n",
       "  <th>Omnibus:</th>       <td>16958.581</td> <th>  Durbin-Watson:     </th> <td>   1.956</td> \n",
       "</tr>\n",
       "<tr>\n",
       "  <th>Prob(Omnibus):</th>  <td> 0.000</td>   <th>  Jarque-Bera (JB):  </th> <td> 566.306</td> \n",
       "</tr>\n",
       "<tr>\n",
       "  <th>Skew:</th>           <td> 0.219</td>   <th>  Prob(JB):          </th> <td>1.07e-123</td>\n",
       "</tr>\n",
       "<tr>\n",
       "  <th>Kurtosis:</th>       <td> 1.233</td>   <th>  Cond. No.          </th> <td>3.39e+05</td> \n",
       "</tr>\n",
       "</table><br/><br/>Warnings:<br/>[1] Standard Errors assume that the covariance matrix of the errors is correctly specified.<br/>[2] The condition number is large, 3.39e+05. This might indicate that there are<br/>strong multicollinearity or other numerical problems."
      ],
      "text/plain": [
       "<class 'statsmodels.iolib.summary.Summary'>\n",
       "\"\"\"\n",
       "                            OLS Regression Results                            \n",
       "==============================================================================\n",
       "Dep. Variable:              90_target   R-squared:                       0.045\n",
       "Model:                            OLS   Adj. R-squared:                  0.043\n",
       "Method:                 Least Squares   F-statistic:                     31.95\n",
       "Date:                Sat, 25 Jul 2020   Prob (F-statistic):           9.01e-38\n",
       "Time:                        04:10:37   Log-Likelihood:                -20489.\n",
       "No. Observations:                4100   AIC:                         4.099e+04\n",
       "Df Residuals:                    4093   BIC:                         4.104e+04\n",
       "Df Model:                           6                                         \n",
       "Covariance Type:            nonrobust                                         \n",
       "==============================================================================\n",
       "                 coef    std err          t      P>|t|      [0.025      0.975]\n",
       "------------------------------------------------------------------------------\n",
       "const        -10.8677      1.077    -10.087      0.000     -12.980      -8.755\n",
       "ind_324    -1.885e+04   4944.348     -3.813      0.000   -2.85e+04   -9158.909\n",
       "ind_412      682.5023    109.405      6.238      0.000     468.008     896.996\n",
       "ind_315       -4.1958      0.808     -5.193      0.000      -5.780      -2.612\n",
       "ind_418       -0.0491      0.029     -1.703      0.089      -0.106       0.007\n",
       "ind_77        -0.0609      0.061     -0.991      0.322      -0.181       0.060\n",
       "ind_332        0.1078      0.023      4.745      0.000       0.063       0.152\n",
       "==============================================================================\n",
       "Omnibus:                    16958.581   Durbin-Watson:                   1.956\n",
       "Prob(Omnibus):                  0.000   Jarque-Bera (JB):              566.306\n",
       "Skew:                           0.219   Prob(JB):                    1.07e-123\n",
       "Kurtosis:                       1.233   Cond. No.                     3.39e+05\n",
       "==============================================================================\n",
       "\n",
       "Warnings:\n",
       "[1] Standard Errors assume that the covariance matrix of the errors is correctly specified.\n",
       "[2] The condition number is large, 3.39e+05. This might indicate that there are\n",
       "strong multicollinearity or other numerical problems.\n",
       "\"\"\""
      ]
     },
     "execution_count": 197,
     "metadata": {},
     "output_type": "execute_result"
    }
   ],
   "source": [
    "lm = sm.OLS(y_train, np.asarray(x_train))\n",
    "model = lm.fit()\n",
    "model.summary(xname=['const','ind_324', 'ind_412', 'ind_315', 'ind_418', 'ind_77', 'ind_332'])"
   ]
  },
  {
   "cell_type": "code",
   "execution_count": 198,
   "metadata": {},
   "outputs": [
    {
     "data": {
      "text/plain": [
       "const      -10.867708\n",
       "x1      -18852.519514\n",
       "x2         682.502306\n",
       "x3          -4.195799\n",
       "x4          -0.049113\n",
       "x5          -0.060878\n",
       "x6           0.107839\n",
       "dtype: float64"
      ]
     },
     "execution_count": 198,
     "metadata": {},
     "output_type": "execute_result"
    }
   ],
   "source": [
    "model.params"
   ]
  },
  {
   "cell_type": "code",
   "execution_count": 199,
   "metadata": {},
   "outputs": [
    {
     "data": {
      "text/html": [
       "<table class=\"simpletable\">\n",
       "<tr>\n",
       "    <td></td>       <th>coef</th>     <th>std err</th>      <th>t</th>      <th>P>|t|</th>  <th>[0.025</th>    <th>0.975]</th>  \n",
       "</tr>\n",
       "<tr>\n",
       "  <th>const</th> <td>  -10.8677</td> <td>    1.077</td> <td>  -10.087</td> <td> 0.000</td> <td>  -12.980</td> <td>   -8.755</td>\n",
       "</tr>\n",
       "<tr>\n",
       "  <th>x1</th>    <td>-1.885e+04</td> <td> 4944.348</td> <td>   -3.813</td> <td> 0.000</td> <td>-2.85e+04</td> <td>-9158.909</td>\n",
       "</tr>\n",
       "<tr>\n",
       "  <th>x2</th>    <td>  682.5023</td> <td>  109.405</td> <td>    6.238</td> <td> 0.000</td> <td>  468.008</td> <td>  896.996</td>\n",
       "</tr>\n",
       "<tr>\n",
       "  <th>x3</th>    <td>   -4.1958</td> <td>    0.808</td> <td>   -5.193</td> <td> 0.000</td> <td>   -5.780</td> <td>   -2.612</td>\n",
       "</tr>\n",
       "<tr>\n",
       "  <th>x4</th>    <td>   -0.0491</td> <td>    0.029</td> <td>   -1.703</td> <td> 0.089</td> <td>   -0.106</td> <td>    0.007</td>\n",
       "</tr>\n",
       "<tr>\n",
       "  <th>x5</th>    <td>   -0.0609</td> <td>    0.061</td> <td>   -0.991</td> <td> 0.322</td> <td>   -0.181</td> <td>    0.060</td>\n",
       "</tr>\n",
       "<tr>\n",
       "  <th>x6</th>    <td>    0.1078</td> <td>    0.023</td> <td>    4.745</td> <td> 0.000</td> <td>    0.063</td> <td>    0.152</td>\n",
       "</tr>\n",
       "</table>"
      ],
      "text/plain": [
       "<class 'statsmodels.iolib.table.SimpleTable'>"
      ]
     },
     "execution_count": 199,
     "metadata": {},
     "output_type": "execute_result"
    }
   ],
   "source": [
    "model.summary().tables[1]"
   ]
  },
  {
   "cell_type": "code",
   "execution_count": 200,
   "metadata": {},
   "outputs": [
    {
     "data": {
      "text/plain": [
       "9.012398795612719e-38"
      ]
     },
     "execution_count": 200,
     "metadata": {},
     "output_type": "execute_result"
    }
   ],
   "source": [
    "model.f_pvalue"
   ]
  },
  {
   "cell_type": "code",
   "execution_count": 201,
   "metadata": {},
   "outputs": [
    {
     "data": {
      "text/plain": [
       "0.04473569574046499"
      ]
     },
     "execution_count": 201,
     "metadata": {},
     "output_type": "execute_result"
    }
   ],
   "source": [
    "model.rsquared"
   ]
  },
  {
   "cell_type": "code",
   "execution_count": 202,
   "metadata": {},
   "outputs": [
    {
     "data": {
      "text/plain": [
       "0.04333535715616077"
      ]
     },
     "execution_count": 202,
     "metadata": {},
     "output_type": "execute_result"
    }
   ],
   "source": [
    "model.rsquared_adj"
   ]
  },
  {
   "cell_type": "code",
   "execution_count": 203,
   "metadata": {},
   "outputs": [],
   "source": [
    "reg = LinearRegression()\n",
    "model= reg.fit(x_train,y_train)"
   ]
  },
  {
   "cell_type": "code",
   "execution_count": 204,
   "metadata": {},
   "outputs": [
    {
     "data": {
      "text/plain": [
       "0.041528292566522566"
      ]
     },
     "execution_count": 204,
     "metadata": {},
     "output_type": "execute_result"
    }
   ],
   "source": [
    "model.score(x_df, y_df)"
   ]
  },
  {
   "cell_type": "code",
   "execution_count": 205,
   "metadata": {},
   "outputs": [
    {
     "data": {
      "text/plain": [
       "35.81602298211374"
      ]
     },
     "execution_count": 205,
     "metadata": {},
     "output_type": "execute_result"
    }
   ],
   "source": [
    "mse = np.sqrt(mean_squared_error(y_train, model.predict(x_train)))\n",
    "mse"
   ]
  },
  {
   "cell_type": "code",
   "execution_count": 206,
   "metadata": {},
   "outputs": [
    {
     "data": {
      "text/plain": [
       "36.14452886870478"
      ]
     },
     "execution_count": 206,
     "metadata": {},
     "output_type": "execute_result"
    }
   ],
   "source": [
    "mse = np.sqrt(mean_squared_error(y_test, model.predict(x_test)))\n",
    "mse"
   ]
  },
  {
   "cell_type": "code",
   "execution_count": null,
   "metadata": {},
   "outputs": [],
   "source": []
  }
 ],
 "metadata": {
  "kernelspec": {
   "display_name": "Python 3",
   "language": "python",
   "name": "python3"
  },
  "language_info": {
   "codemirror_mode": {
    "name": "ipython",
    "version": 3
   },
   "file_extension": ".py",
   "mimetype": "text/x-python",
   "name": "python",
   "nbconvert_exporter": "python",
   "pygments_lexer": "ipython3",
   "version": "3.7.6"
  }
 },
 "nbformat": 4,
 "nbformat_minor": 4
}
