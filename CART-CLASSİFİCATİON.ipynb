{
 "cells": [
  {
   "cell_type": "code",
   "execution_count": 71,
   "metadata": {},
   "outputs": [],
   "source": [
    "import pandas as pd \n",
    "import numpy as np \n",
    "import matplotlib.pyplot as plt \n",
    "import seaborn as sns \n",
    "import statsmodels.api as sm \n",
    "import statsmodels.formula.api as smf \n",
    "from sklearn.preprocessing import scale, MinMaxScaler\n",
    "from sklearn.model_selection import train_test_split, GridSearchCV, cross_val_score\n",
    "from sklearn.metrics import confusion_matrix, precision_score, recall_score, accuracy_score, classification_report\n",
    "from sklearn.metrics import roc_auc_score, roc_curve, mean_squared_error\n",
    "from sklearn import tree \n",
    "from sklearn.tree import DecisionTreeClassifier\n",
    "from sklearn.tree import DecisionTreeRegressor\n",
    "from sklearn.ensemble import RandomForestClassifier\n",
    "from sklearn.ensemble import RandomForestRegressor\n",
    "from sklearn.neighbors import KNeighborsClassifier\n",
    "from sklearn.discriminant_analysis import LinearDiscriminantAnalysis\n",
    "from sklearn.linear_model import LogisticRegression\n",
    "from sklearn.linear_model import LinearRegression\n",
    "from sklearn.svm import SVC\n",
    "from sklearn.naive_bayes import GaussianNB\n",
    "from sklearn import tree\n",
    "from sklearn.ensemble import RandomForestClassifier\n",
    "from sklearn.ensemble import GradientBoostingClassifier\n",
    "from warnings import filterwarnings\n",
    "filterwarnings('ignore')"
   ]
  },
  {
   "cell_type": "code",
   "execution_count": 72,
   "metadata": {},
   "outputs": [
    {
     "data": {
      "text/html": [
       "<div>\n",
       "<style scoped>\n",
       "    .dataframe tbody tr th:only-of-type {\n",
       "        vertical-align: middle;\n",
       "    }\n",
       "\n",
       "    .dataframe tbody tr th {\n",
       "        vertical-align: top;\n",
       "    }\n",
       "\n",
       "    .dataframe thead th {\n",
       "        text-align: right;\n",
       "    }\n",
       "</style>\n",
       "<table border=\"1\" class=\"dataframe\">\n",
       "  <thead>\n",
       "    <tr style=\"text-align: right;\">\n",
       "      <th></th>\n",
       "      <th>bad</th>\n",
       "      <th>loan</th>\n",
       "      <th>mortdue</th>\n",
       "      <th>value</th>\n",
       "      <th>reason</th>\n",
       "      <th>job</th>\n",
       "      <th>yoj</th>\n",
       "      <th>derog</th>\n",
       "      <th>delinq</th>\n",
       "      <th>clage</th>\n",
       "      <th>ninq</th>\n",
       "      <th>clno</th>\n",
       "      <th>debtinc</th>\n",
       "    </tr>\n",
       "  </thead>\n",
       "  <tbody>\n",
       "    <tr>\n",
       "      <th>153</th>\n",
       "      <td>0</td>\n",
       "      <td>18200</td>\n",
       "      <td>94727.0</td>\n",
       "      <td>136877.0</td>\n",
       "      <td>DebtCon</td>\n",
       "      <td>Mgr</td>\n",
       "      <td>15.0</td>\n",
       "      <td>0.0</td>\n",
       "      <td>0.0</td>\n",
       "      <td>168.96</td>\n",
       "      <td>2.0</td>\n",
       "      <td>26.0</td>\n",
       "      <td>36.056</td>\n",
       "    </tr>\n",
       "    <tr>\n",
       "      <th>154</th>\n",
       "      <td>0</td>\n",
       "      <td>21700</td>\n",
       "      <td>79240.0</td>\n",
       "      <td>96784.0</td>\n",
       "      <td>DebtCon</td>\n",
       "      <td>Mgr</td>\n",
       "      <td>5.0</td>\n",
       "      <td>0.0</td>\n",
       "      <td>0.0</td>\n",
       "      <td>64.51</td>\n",
       "      <td>6.0</td>\n",
       "      <td>24.0</td>\n",
       "      <td>38.079</td>\n",
       "    </tr>\n",
       "    <tr>\n",
       "      <th>155</th>\n",
       "      <td>0</td>\n",
       "      <td>34100</td>\n",
       "      <td>241931.0</td>\n",
       "      <td>36486.0</td>\n",
       "      <td>DebtCon</td>\n",
       "      <td>Mgr</td>\n",
       "      <td>1.0</td>\n",
       "      <td>0.0</td>\n",
       "      <td>2.0</td>\n",
       "      <td>196.01</td>\n",
       "      <td>3.0</td>\n",
       "      <td>50.0</td>\n",
       "      <td>42.459</td>\n",
       "    </tr>\n",
       "    <tr>\n",
       "      <th>156</th>\n",
       "      <td>0</td>\n",
       "      <td>8400</td>\n",
       "      <td>62989.0</td>\n",
       "      <td>76718.0</td>\n",
       "      <td>HomeImp</td>\n",
       "      <td>Mgr</td>\n",
       "      <td>3.0</td>\n",
       "      <td>0.0</td>\n",
       "      <td>2.0</td>\n",
       "      <td>131.47</td>\n",
       "      <td>0.0</td>\n",
       "      <td>22.0</td>\n",
       "      <td>29.200</td>\n",
       "    </tr>\n",
       "    <tr>\n",
       "      <th>157</th>\n",
       "      <td>0</td>\n",
       "      <td>17400</td>\n",
       "      <td>25859.0</td>\n",
       "      <td>43684.0</td>\n",
       "      <td>DebtCon</td>\n",
       "      <td>Mgr</td>\n",
       "      <td>16.0</td>\n",
       "      <td>1.0</td>\n",
       "      <td>0.0</td>\n",
       "      <td>95.36</td>\n",
       "      <td>1.0</td>\n",
       "      <td>17.0</td>\n",
       "      <td>27.108</td>\n",
       "    </tr>\n",
       "  </tbody>\n",
       "</table>\n",
       "</div>"
      ],
      "text/plain": [
       "     bad   loan   mortdue     value   reason  job   yoj  derog  delinq  \\\n",
       "153    0  18200   94727.0  136877.0  DebtCon  Mgr  15.0    0.0     0.0   \n",
       "154    0  21700   79240.0   96784.0  DebtCon  Mgr   5.0    0.0     0.0   \n",
       "155    0  34100  241931.0   36486.0  DebtCon  Mgr   1.0    0.0     2.0   \n",
       "156    0   8400   62989.0   76718.0  HomeImp  Mgr   3.0    0.0     2.0   \n",
       "157    0  17400   25859.0   43684.0  DebtCon  Mgr  16.0    1.0     0.0   \n",
       "\n",
       "      clage  ninq  clno  debtinc  \n",
       "153  168.96   2.0  26.0   36.056  \n",
       "154   64.51   6.0  24.0   38.079  \n",
       "155  196.01   3.0  50.0   42.459  \n",
       "156  131.47   0.0  22.0   29.200  \n",
       "157   95.36   1.0  17.0   27.108  "
      ]
     },
     "execution_count": 72,
     "metadata": {},
     "output_type": "execute_result"
    }
   ],
   "source": [
    "data = pd.read_csv(\"bankdata.csv\")\n",
    "df = data.copy()\n",
    "df = df.dropna()\n",
    "df.head()"
   ]
  },
  {
   "cell_type": "code",
   "execution_count": 73,
   "metadata": {},
   "outputs": [
    {
     "name": "stdout",
     "output_type": "stream",
     "text": [
      "<class 'pandas.core.frame.DataFrame'>\n",
      "Int64Index: 2018 entries, 153 to 3549\n",
      "Data columns (total 13 columns):\n",
      " #   Column   Non-Null Count  Dtype  \n",
      "---  ------   --------------  -----  \n",
      " 0   bad      2018 non-null   int64  \n",
      " 1   loan     2018 non-null   int64  \n",
      " 2   mortdue  2018 non-null   float64\n",
      " 3   value    2018 non-null   float64\n",
      " 4   reason   2018 non-null   object \n",
      " 5   job      2018 non-null   object \n",
      " 6   yoj      2018 non-null   float64\n",
      " 7   derog    2018 non-null   float64\n",
      " 8   delinq   2018 non-null   float64\n",
      " 9   clage    2018 non-null   float64\n",
      " 10  ninq     2018 non-null   float64\n",
      " 11  clno     2018 non-null   float64\n",
      " 12  debtinc  2018 non-null   float64\n",
      "dtypes: float64(9), int64(2), object(2)\n",
      "memory usage: 220.7+ KB\n"
     ]
    }
   ],
   "source": [
    "df.info()"
   ]
  },
  {
   "cell_type": "code",
   "execution_count": 74,
   "metadata": {},
   "outputs": [
    {
     "data": {
      "text/plain": [
       "0    1840\n",
       "1     178\n",
       "Name: bad, dtype: int64"
      ]
     },
     "execution_count": 74,
     "metadata": {},
     "output_type": "execute_result"
    }
   ],
   "source": [
    "df[\"bad\"].value_counts()"
   ]
  },
  {
   "cell_type": "code",
   "execution_count": 75,
   "metadata": {},
   "outputs": [
    {
     "data": {
      "image/png": "[encoded data removed]",
      "text/plain": [
       "<Figure size 432x288 with 1 Axes>"
      ]
     },
     "metadata": {
      "needs_background": "light"
     },
     "output_type": "display_data"
    }
   ],
   "source": [
    "df[\"bad\"].value_counts().plot.barh();"
   ]
  },
  {
   "cell_type": "code",
   "execution_count": 76,
   "metadata": {},
   "outputs": [
    {
     "data": {
      "text/html": [
       "<div>\n",
       "<style scoped>\n",
       "    .dataframe tbody tr th:only-of-type {\n",
       "        vertical-align: middle;\n",
       "    }\n",
       "\n",
       "    .dataframe tbody tr th {\n",
       "        vertical-align: top;\n",
       "    }\n",
       "\n",
       "    .dataframe thead th {\n",
       "        text-align: right;\n",
       "    }\n",
       "</style>\n",
       "<table border=\"1\" class=\"dataframe\">\n",
       "  <thead>\n",
       "    <tr style=\"text-align: right;\">\n",
       "      <th></th>\n",
       "      <th>count</th>\n",
       "      <th>mean</th>\n",
       "      <th>std</th>\n",
       "      <th>min</th>\n",
       "      <th>25%</th>\n",
       "      <th>50%</th>\n",
       "      <th>75%</th>\n",
       "      <th>max</th>\n",
       "    </tr>\n",
       "  </thead>\n",
       "  <tbody>\n",
       "    <tr>\n",
       "      <th>bad</th>\n",
       "      <td>2018.0</td>\n",
       "      <td>0.088206</td>\n",
       "      <td>0.283665</td>\n",
       "      <td>0.00</td>\n",
       "      <td>0.0000</td>\n",
       "      <td>0.000</td>\n",
       "      <td>0.0000</td>\n",
       "      <td>1.000</td>\n",
       "    </tr>\n",
       "    <tr>\n",
       "      <th>loan</th>\n",
       "      <td>2018.0</td>\n",
       "      <td>19010.257681</td>\n",
       "      <td>10768.607345</td>\n",
       "      <td>1700.00</td>\n",
       "      <td>12000.0000</td>\n",
       "      <td>16900.000</td>\n",
       "      <td>23600.0000</td>\n",
       "      <td>89900.000</td>\n",
       "    </tr>\n",
       "    <tr>\n",
       "      <th>mortdue</th>\n",
       "      <td>2018.0</td>\n",
       "      <td>76337.035183</td>\n",
       "      <td>44476.368189</td>\n",
       "      <td>5076.00</td>\n",
       "      <td>49577.2500</td>\n",
       "      <td>67595.000</td>\n",
       "      <td>92922.7500</td>\n",
       "      <td>399412.000</td>\n",
       "    </tr>\n",
       "    <tr>\n",
       "      <th>value</th>\n",
       "      <td>2018.0</td>\n",
       "      <td>106899.244797</td>\n",
       "      <td>54026.707096</td>\n",
       "      <td>23031.00</td>\n",
       "      <td>71287.2500</td>\n",
       "      <td>94514.000</td>\n",
       "      <td>121220.7500</td>\n",
       "      <td>512650.000</td>\n",
       "    </tr>\n",
       "    <tr>\n",
       "      <th>yoj</th>\n",
       "      <td>2018.0</td>\n",
       "      <td>9.003964</td>\n",
       "      <td>7.573012</td>\n",
       "      <td>0.00</td>\n",
       "      <td>3.0000</td>\n",
       "      <td>7.000</td>\n",
       "      <td>13.0000</td>\n",
       "      <td>41.000</td>\n",
       "    </tr>\n",
       "    <tr>\n",
       "      <th>derog</th>\n",
       "      <td>2018.0</td>\n",
       "      <td>0.150149</td>\n",
       "      <td>0.580421</td>\n",
       "      <td>0.00</td>\n",
       "      <td>0.0000</td>\n",
       "      <td>0.000</td>\n",
       "      <td>0.0000</td>\n",
       "      <td>10.000</td>\n",
       "    </tr>\n",
       "    <tr>\n",
       "      <th>delinq</th>\n",
       "      <td>2018.0</td>\n",
       "      <td>0.264123</td>\n",
       "      <td>0.789816</td>\n",
       "      <td>0.00</td>\n",
       "      <td>0.0000</td>\n",
       "      <td>0.000</td>\n",
       "      <td>0.0000</td>\n",
       "      <td>10.000</td>\n",
       "    </tr>\n",
       "    <tr>\n",
       "      <th>clage</th>\n",
       "      <td>2018.0</td>\n",
       "      <td>180.645020</td>\n",
       "      <td>84.420116</td>\n",
       "      <td>0.49</td>\n",
       "      <td>118.2050</td>\n",
       "      <td>176.670</td>\n",
       "      <td>229.6925</td>\n",
       "      <td>1168.230</td>\n",
       "    </tr>\n",
       "    <tr>\n",
       "      <th>ninq</th>\n",
       "      <td>2018.0</td>\n",
       "      <td>1.037661</td>\n",
       "      <td>1.578414</td>\n",
       "      <td>0.00</td>\n",
       "      <td>0.0000</td>\n",
       "      <td>0.000</td>\n",
       "      <td>2.0000</td>\n",
       "      <td>13.000</td>\n",
       "    </tr>\n",
       "    <tr>\n",
       "      <th>clno</th>\n",
       "      <td>2018.0</td>\n",
       "      <td>22.265114</td>\n",
       "      <td>9.457238</td>\n",
       "      <td>0.00</td>\n",
       "      <td>16.0000</td>\n",
       "      <td>21.000</td>\n",
       "      <td>27.0000</td>\n",
       "      <td>64.000</td>\n",
       "    </tr>\n",
       "    <tr>\n",
       "      <th>debtinc</th>\n",
       "      <td>2018.0</td>\n",
       "      <td>34.105829</td>\n",
       "      <td>8.438411</td>\n",
       "      <td>4.03</td>\n",
       "      <td>29.2955</td>\n",
       "      <td>34.949</td>\n",
       "      <td>38.9520</td>\n",
       "      <td>144.189</td>\n",
       "    </tr>\n",
       "  </tbody>\n",
       "</table>\n",
       "</div>"
      ],
      "text/plain": [
       "          count           mean           std       min         25%        50%  \\\n",
       "bad      2018.0       0.088206      0.283665      0.00      0.0000      0.000   \n",
       "loan     2018.0   19010.257681  10768.607345   1700.00  12000.0000  16900.000   \n",
       "mortdue  2018.0   76337.035183  44476.368189   5076.00  49577.2500  67595.000   \n",
       "value    2018.0  106899.244797  54026.707096  23031.00  71287.2500  94514.000   \n",
       "yoj      2018.0       9.003964      7.573012      0.00      3.0000      7.000   \n",
       "derog    2018.0       0.150149      0.580421      0.00      0.0000      0.000   \n",
       "delinq   2018.0       0.264123      0.789816      0.00      0.0000      0.000   \n",
       "clage    2018.0     180.645020     84.420116      0.49    118.2050    176.670   \n",
       "ninq     2018.0       1.037661      1.578414      0.00      0.0000      0.000   \n",
       "clno     2018.0      22.265114      9.457238      0.00     16.0000     21.000   \n",
       "debtinc  2018.0      34.105829      8.438411      4.03     29.2955     34.949   \n",
       "\n",
       "                 75%         max  \n",
       "bad           0.0000       1.000  \n",
       "loan      23600.0000   89900.000  \n",
       "mortdue   92922.7500  399412.000  \n",
       "value    121220.7500  512650.000  \n",
       "yoj          13.0000      41.000  \n",
       "derog         0.0000      10.000  \n",
       "delinq        0.0000      10.000  \n",
       "clage       229.6925    1168.230  \n",
       "ninq          2.0000      13.000  \n",
       "clno         27.0000      64.000  \n",
       "debtinc      38.9520     144.189  "
      ]
     },
     "execution_count": 76,
     "metadata": {},
     "output_type": "execute_result"
    }
   ],
   "source": [
    "df.describe().T"
   ]
  },
  {
   "cell_type": "code",
   "execution_count": 77,
   "metadata": {},
   "outputs": [],
   "source": [
    "y = df[\"bad\"]\n",
    "X = df.drop([\"bad\"], axis=1)"
   ]
  },
  {
   "cell_type": "markdown",
   "metadata": {},
   "source": [
    " "
   ]
  },
  {
   "cell_type": "code",
   "execution_count": 78,
   "metadata": {},
   "outputs": [],
   "source": [
    "dummy_data = pd.get_dummies(data[[\"job\",\"reason\"]])"
   ]
  },
  {
   "cell_type": "code",
   "execution_count": 79,
   "metadata": {},
   "outputs": [],
   "source": [
    "y = df[\"bad\"]\n",
    "X =df.drop([\"job\",\"reason\",\"bad\"],axis=1)"
   ]
  },
  {
   "cell_type": "code",
   "execution_count": 80,
   "metadata": {},
   "outputs": [],
   "source": [
    "import statsmodels.api as sm\n",
    "from sklearn.linear_model import LogisticRegression"
   ]
  },
  {
   "cell_type": "code",
   "execution_count": 81,
   "metadata": {},
   "outputs": [
    {
     "name": "stdout",
     "output_type": "stream",
     "text": [
      "Optimization terminated successfully.\n",
      "         Current function value: 0.261768\n",
      "         Iterations 7\n"
     ]
    },
    {
     "data": {
      "text/html": [
       "<table class=\"simpletable\">\n",
       "<caption>Logit Regression Results</caption>\n",
       "<tr>\n",
       "  <th>Dep. Variable:</th>          <td>bad</td>       <th>  No. Observations:  </th>  <td>  2018</td>  \n",
       "</tr>\n",
       "<tr>\n",
       "  <th>Model:</th>                 <td>Logit</td>      <th>  Df Residuals:      </th>  <td>  2008</td>  \n",
       "</tr>\n",
       "<tr>\n",
       "  <th>Method:</th>                 <td>MLE</td>       <th>  Df Model:          </th>  <td>     9</td>  \n",
       "</tr>\n",
       "<tr>\n",
       "  <th>Date:</th>            <td>Fri, 14 Aug 2020</td> <th>  Pseudo R-squ.:     </th>  <td>0.1227</td>  \n",
       "</tr>\n",
       "<tr>\n",
       "  <th>Time:</th>                <td>08:45:20</td>     <th>  Log-Likelihood:    </th> <td> -528.25</td> \n",
       "</tr>\n",
       "<tr>\n",
       "  <th>converged:</th>             <td>True</td>       <th>  LL-Null:           </th> <td> -602.11</td> \n",
       "</tr>\n",
       "<tr>\n",
       "  <th>Covariance Type:</th>     <td>nonrobust</td>    <th>  LLR p-value:       </th> <td>2.621e-27</td>\n",
       "</tr>\n",
       "</table>\n",
       "<table class=\"simpletable\">\n",
       "<tr>\n",
       "     <td></td>        <th>coef</th>     <th>std err</th>      <th>z</th>      <th>P>|z|</th>  <th>[0.025</th>    <th>0.975]</th>  \n",
       "</tr>\n",
       "<tr>\n",
       "  <th>loan</th>    <td>-2.706e-05</td> <td> 1.04e-05</td> <td>   -2.600</td> <td> 0.009</td> <td>-4.74e-05</td> <td>-6.66e-06</td>\n",
       "</tr>\n",
       "<tr>\n",
       "  <th>mortdue</th> <td>-3.409e-07</td> <td> 5.22e-06</td> <td>   -0.065</td> <td> 0.948</td> <td>-1.06e-05</td> <td>  9.9e-06</td>\n",
       "</tr>\n",
       "<tr>\n",
       "  <th>value</th>   <td>-3.173e-06</td> <td> 4.29e-06</td> <td>   -0.739</td> <td> 0.460</td> <td>-1.16e-05</td> <td> 5.24e-06</td>\n",
       "</tr>\n",
       "<tr>\n",
       "  <th>yoj</th>     <td>   -0.0342</td> <td>    0.013</td> <td>   -2.727</td> <td> 0.006</td> <td>   -0.059</td> <td>   -0.010</td>\n",
       "</tr>\n",
       "<tr>\n",
       "  <th>derog</th>   <td>    0.5800</td> <td>    0.122</td> <td>    4.758</td> <td> 0.000</td> <td>    0.341</td> <td>    0.819</td>\n",
       "</tr>\n",
       "<tr>\n",
       "  <th>delinq</th>  <td>    0.7398</td> <td>    0.086</td> <td>    8.610</td> <td> 0.000</td> <td>    0.571</td> <td>    0.908</td>\n",
       "</tr>\n",
       "<tr>\n",
       "  <th>clage</th>   <td>   -0.0084</td> <td>    0.001</td> <td>   -6.358</td> <td> 0.000</td> <td>   -0.011</td> <td>   -0.006</td>\n",
       "</tr>\n",
       "<tr>\n",
       "  <th>ninq</th>    <td>    0.0266</td> <td>    0.047</td> <td>    0.571</td> <td> 0.568</td> <td>   -0.065</td> <td>    0.118</td>\n",
       "</tr>\n",
       "<tr>\n",
       "  <th>clno</th>    <td>   -0.0505</td> <td>    0.011</td> <td>   -4.635</td> <td> 0.000</td> <td>   -0.072</td> <td>   -0.029</td>\n",
       "</tr>\n",
       "<tr>\n",
       "  <th>debtinc</th> <td>    0.0222</td> <td>    0.007</td> <td>    3.126</td> <td> 0.002</td> <td>    0.008</td> <td>    0.036</td>\n",
       "</tr>\n",
       "</table>"
      ],
      "text/plain": [
       "<class 'statsmodels.iolib.summary.Summary'>\n",
       "\"\"\"\n",
       "                           Logit Regression Results                           \n",
       "==============================================================================\n",
       "Dep. Variable:                    bad   No. Observations:                 2018\n",
       "Model:                          Logit   Df Residuals:                     2008\n",
       "Method:                           MLE   Df Model:                            9\n",
       "Date:                Fri, 14 Aug 2020   Pseudo R-squ.:                  0.1227\n",
       "Time:                        08:45:20   Log-Likelihood:                -528.25\n",
       "converged:                       True   LL-Null:                       -602.11\n",
       "Covariance Type:            nonrobust   LLR p-value:                 2.621e-27\n",
       "==============================================================================\n",
       "                 coef    std err          z      P>|z|      [0.025      0.975]\n",
       "------------------------------------------------------------------------------\n",
       "loan       -2.706e-05   1.04e-05     -2.600      0.009   -4.74e-05   -6.66e-06\n",
       "mortdue    -3.409e-07   5.22e-06     -0.065      0.948   -1.06e-05     9.9e-06\n",
       "value      -3.173e-06   4.29e-06     -0.739      0.460   -1.16e-05    5.24e-06\n",
       "yoj           -0.0342      0.013     -2.727      0.006      -0.059      -0.010\n",
       "derog          0.5800      0.122      4.758      0.000       0.341       0.819\n",
       "delinq         0.7398      0.086      8.610      0.000       0.571       0.908\n",
       "clage         -0.0084      0.001     -6.358      0.000      -0.011      -0.006\n",
       "ninq           0.0266      0.047      0.571      0.568      -0.065       0.118\n",
       "clno          -0.0505      0.011     -4.635      0.000      -0.072      -0.029\n",
       "debtinc        0.0222      0.007      3.126      0.002       0.008       0.036\n",
       "==============================================================================\n",
       "\"\"\""
      ]
     },
     "execution_count": 81,
     "metadata": {},
     "output_type": "execute_result"
    }
   ],
   "source": [
    "loj = sm.Logit(y, X)\n",
    "loj_model= loj.fit()\n",
    "loj_model.summary()"
   ]
  },
  {
   "cell_type": "markdown",
   "metadata": {},
   "source": [
    "\n",
    "# scikit-learn"
   ]
  },
  {
   "cell_type": "code",
   "execution_count": 82,
   "metadata": {},
   "outputs": [
    {
     "data": {
      "text/plain": [
       "LogisticRegression(C=1.0, class_weight=None, dual=False, fit_intercept=True,\n",
       "                   intercept_scaling=1, l1_ratio=None, max_iter=100,\n",
       "                   multi_class='auto', n_jobs=None, penalty='l2',\n",
       "                   random_state=None, solver='liblinear', tol=0.0001, verbose=0,\n",
       "                   warm_start=False)"
      ]
     },
     "execution_count": 82,
     "metadata": {},
     "output_type": "execute_result"
    }
   ],
   "source": [
    "from sklearn.linear_model import LogisticRegression\n",
    "loj = LogisticRegression(solver = \"liblinear\")\n",
    "loj_model = loj.fit(X,y)\n",
    "loj_model"
   ]
  },
  {
   "cell_type": "code",
   "execution_count": 83,
   "metadata": {},
   "outputs": [
    {
     "data": {
      "text/plain": [
       "array([-0.00256361])"
      ]
     },
     "execution_count": 83,
     "metadata": {},
     "output_type": "execute_result"
    }
   ],
   "source": [
    "loj_model.intercept_"
   ]
  },
  {
   "cell_type": "code",
   "execution_count": 84,
   "metadata": {},
   "outputs": [
    {
     "data": {
      "text/plain": [
       "array([[-3.45744369e-05, -6.99561375e-06, -1.60344396e-06,\n",
       "        -1.76926822e-02,  6.56856812e-03,  1.17615246e-02,\n",
       "        -8.77179764e-03,  4.17663965e-03, -1.69201255e-02,\n",
       "         2.71202775e-02]])"
      ]
     },
     "execution_count": 84,
     "metadata": {},
     "output_type": "execute_result"
    }
   ],
   "source": [
    "loj_model.coef_"
   ]
  },
  {
   "cell_type": "markdown",
   "metadata": {},
   "source": [
    "### Tahmin & Model Tuning"
   ]
  },
  {
   "cell_type": "code",
   "execution_count": 85,
   "metadata": {},
   "outputs": [],
   "source": [
    "y_pred = loj_model.predict(X)"
   ]
  },
  {
   "cell_type": "code",
   "execution_count": 86,
   "metadata": {},
   "outputs": [
    {
     "data": {
      "text/plain": [
       "array([[1835,    5],\n",
       "       [ 178,    0]], dtype=int64)"
      ]
     },
     "execution_count": 86,
     "metadata": {},
     "output_type": "execute_result"
    }
   ],
   "source": [
    "confusion_matrix(y, y_pred)"
   ]
  },
  {
   "cell_type": "code",
   "execution_count": 87,
   "metadata": {},
   "outputs": [
    {
     "data": {
      "text/plain": [
       "0.9093161546085233"
      ]
     },
     "execution_count": 87,
     "metadata": {},
     "output_type": "execute_result"
    }
   ],
   "source": [
    "accuracy_score(y, y_pred)"
   ]
  },
  {
   "cell_type": "code",
   "execution_count": 88,
   "metadata": {},
   "outputs": [
    {
     "name": "stdout",
     "output_type": "stream",
     "text": [
      "              precision    recall  f1-score   support\n",
      "\n",
      "           0       0.91      1.00      0.95      1840\n",
      "           1       0.00      0.00      0.00       178\n",
      "\n",
      "    accuracy                           0.91      2018\n",
      "   macro avg       0.46      0.50      0.48      2018\n",
      "weighted avg       0.83      0.91      0.87      2018\n",
      "\n"
     ]
    }
   ],
   "source": [
    "print(classification_report(y, y_pred))"
   ]
  },
  {
   "cell_type": "code",
   "execution_count": null,
   "metadata": {},
   "outputs": [],
   "source": []
  },
  {
   "cell_type": "code",
   "execution_count": null,
   "metadata": {},
   "outputs": [],
   "source": []
  },
  {
   "cell_type": "code",
   "execution_count": 89,
   "metadata": {},
   "outputs": [
    {
     "data": {
      "text/plain": [
       "array([0, 0, 0, 0, 0, 0, 0, 0, 0, 0], dtype=int64)"
      ]
     },
     "execution_count": 89,
     "metadata": {},
     "output_type": "execute_result"
    }
   ],
   "source": [
    "loj_model.predict(X)[0:10]"
   ]
  },
  {
   "cell_type": "code",
   "execution_count": 90,
   "metadata": {},
   "outputs": [
    {
     "data": {
      "text/plain": [
       "array([[0.93791535, 0.06208465],\n",
       "       [0.81229489, 0.18770511],\n",
       "       [0.98697812, 0.01302188],\n",
       "       [0.83476237, 0.16523763],\n",
       "       [0.82000557, 0.17999443],\n",
       "       [0.98423197, 0.01576803],\n",
       "       [0.85334995, 0.14665005],\n",
       "       [0.96480699, 0.03519301],\n",
       "       [0.75102422, 0.24897578],\n",
       "       [0.96060046, 0.03939954]])"
      ]
     },
     "execution_count": 90,
     "metadata": {},
     "output_type": "execute_result"
    }
   ],
   "source": [
    "loj_model.predict_proba(X)[0:10][:,0:2]"
   ]
  },
  {
   "cell_type": "code",
   "execution_count": 91,
   "metadata": {},
   "outputs": [
    {
     "data": {
      "text/plain": [
       "153    0\n",
       "154    0\n",
       "155    0\n",
       "156    0\n",
       "157    0\n",
       "158    0\n",
       "159    0\n",
       "160    0\n",
       "161    0\n",
       "162    0\n",
       "Name: bad, dtype: int64"
      ]
     },
     "execution_count": 91,
     "metadata": {},
     "output_type": "execute_result"
    }
   ],
   "source": [
    "y[0:10]"
   ]
  },
  {
   "cell_type": "code",
   "execution_count": 92,
   "metadata": {},
   "outputs": [],
   "source": [
    "y_probs = loj_model.predict_proba(X)\n",
    "y_probs = y_probs[:,1]"
   ]
  },
  {
   "cell_type": "code",
   "execution_count": 93,
   "metadata": {},
   "outputs": [
    {
     "data": {
      "text/plain": [
       "array([0.06208465, 0.18770511, 0.01302188, 0.16523763, 0.17999443,\n",
       "       0.01576803, 0.14665005, 0.03519301, 0.24897578, 0.03939954])"
      ]
     },
     "execution_count": 93,
     "metadata": {},
     "output_type": "execute_result"
    }
   ],
   "source": [
    "y_probs[0:10]"
   ]
  },
  {
   "cell_type": "code",
   "execution_count": 94,
   "metadata": {},
   "outputs": [],
   "source": [
    "y_pred = [1 if i > 0.16 else 0 for i in y_probs]"
   ]
  },
  {
   "cell_type": "code",
   "execution_count": 95,
   "metadata": {},
   "outputs": [
    {
     "data": {
      "text/plain": [
       "[0, 1, 0, 1, 1, 0, 0, 0, 1, 0]"
      ]
     },
     "execution_count": 95,
     "metadata": {},
     "output_type": "execute_result"
    }
   ],
   "source": [
    "y_pred[0:10]"
   ]
  },
  {
   "cell_type": "code",
   "execution_count": 96,
   "metadata": {},
   "outputs": [
    {
     "data": {
      "text/plain": [
       "array([[1494,  346],\n",
       "       [  94,   84]], dtype=int64)"
      ]
     },
     "execution_count": 96,
     "metadata": {},
     "output_type": "execute_result"
    }
   ],
   "source": [
    "confusion_matrix(y, y_pred)"
   ]
  },
  {
   "cell_type": "code",
   "execution_count": 97,
   "metadata": {},
   "outputs": [
    {
     "data": {
      "text/plain": [
       "0.7819623389494549"
      ]
     },
     "execution_count": 97,
     "metadata": {},
     "output_type": "execute_result"
    }
   ],
   "source": [
    "accuracy_score(y, y_pred)"
   ]
  },
  {
   "cell_type": "code",
   "execution_count": 98,
   "metadata": {},
   "outputs": [
    {
     "name": "stdout",
     "output_type": "stream",
     "text": [
      "              precision    recall  f1-score   support\n",
      "\n",
      "           0       0.94      0.81      0.87      1840\n",
      "           1       0.20      0.47      0.28       178\n",
      "\n",
      "    accuracy                           0.78      2018\n",
      "   macro avg       0.57      0.64      0.57      2018\n",
      "weighted avg       0.88      0.78      0.82      2018\n",
      "\n"
     ]
    }
   ],
   "source": [
    "print(classification_report(y, y_pred))"
   ]
  },
  {
   "cell_type": "code",
   "execution_count": 99,
   "metadata": {},
   "outputs": [
    {
     "data": {
      "text/plain": [
       "array([0.06208465, 0.18770511, 0.01302188, 0.16523763, 0.17999443])"
      ]
     },
     "execution_count": 99,
     "metadata": {},
     "output_type": "execute_result"
    }
   ],
   "source": [
    "loj_model.predict_proba(X)[:,1][0:5]"
   ]
  },
  {
   "cell_type": "code",
   "execution_count": 100,
   "metadata": {},
   "outputs": [
    {
     "data": {
      "image/png": "[encoded data removed]",
      "text/plain": [
       "<Figure size 432x288 with 1 Axes>"
      ]
     },
     "metadata": {
      "needs_background": "light"
     },
     "output_type": "display_data"
    }
   ],
   "source": [
    "logit_roc_auc = roc_auc_score(y, loj_model.predict(X))\n",
    "\n",
    "fpr, tpr, thresholds = roc_curve(y, loj_model.predict_proba(X)[:,1])\n",
    "plt.figure()\n",
    "plt.plot(fpr, tpr, label='AUC (area = %0.2f)' % logit_roc_auc)\n",
    "plt.plot([0, 1], [0, 1],'r--')\n",
    "plt.xlim([0.0, 1.0])\n",
    "plt.ylim([0.0, 1.05])\n",
    "plt.xlabel('False Positive Oranı')\n",
    "plt.ylabel('True Positive Oranı')\n",
    "plt.title('ROC')\n",
    "plt.show()"
   ]
  },
  {
   "cell_type": "code",
   "execution_count": 101,
   "metadata": {},
   "outputs": [
    {
     "data": {
      "text/plain": [
       "0.4986413043478261"
      ]
     },
     "execution_count": 101,
     "metadata": {},
     "output_type": "execute_result"
    }
   ],
   "source": [
    "logit_roc_auc"
   ]
  },
  {
   "cell_type": "code",
   "execution_count": null,
   "metadata": {},
   "outputs": [],
   "source": []
  },
  {
   "cell_type": "code",
   "execution_count": null,
   "metadata": {},
   "outputs": [],
   "source": []
  },
  {
   "cell_type": "code",
   "execution_count": 102,
   "metadata": {},
   "outputs": [],
   "source": [
    "X_train, X_test, y_train, y_test = train_test_split(X, y, \n",
    "                                                    test_size = 0.20, \n",
    "                                                    random_state = 42)\n"
   ]
  },
  {
   "cell_type": "code",
   "execution_count": 103,
   "metadata": {},
   "outputs": [
    {
     "data": {
      "text/plain": [
       "LogisticRegression(C=1.0, class_weight=None, dual=False, fit_intercept=True,\n",
       "                   intercept_scaling=1, l1_ratio=None, max_iter=100,\n",
       "                   multi_class='auto', n_jobs=None, penalty='l2',\n",
       "                   random_state=None, solver='liblinear', tol=0.0001, verbose=0,\n",
       "                   warm_start=False)"
      ]
     },
     "execution_count": 103,
     "metadata": {},
     "output_type": "execute_result"
    }
   ],
   "source": [
    "loj = LogisticRegression(solver = \"liblinear\")\n",
    "loj_model = loj.fit(X_train,y_train)\n",
    "loj_model"
   ]
  },
  {
   "cell_type": "code",
   "execution_count": 104,
   "metadata": {},
   "outputs": [
    {
     "data": {
      "text/plain": [
       "0.9133663366336634"
      ]
     },
     "execution_count": 104,
     "metadata": {},
     "output_type": "execute_result"
    }
   ],
   "source": [
    "accuracy_score(y_test, loj_model.predict(X_test))"
   ]
  },
  {
   "cell_type": "code",
   "execution_count": 105,
   "metadata": {},
   "outputs": [
    {
     "data": {
      "text/plain": [
       "0.9158536585365855"
      ]
     },
     "execution_count": 105,
     "metadata": {},
     "output_type": "execute_result"
    }
   ],
   "source": [
    "cross_val_score(loj_model, X_test, y_test, cv = 10).mean()"
   ]
  },
  {
   "cell_type": "code",
   "execution_count": null,
   "metadata": {},
   "outputs": [],
   "source": []
  },
  {
   "cell_type": "markdown",
   "metadata": {},
   "source": [
    "## Gaussian Naive Bayes"
   ]
  },
  {
   "cell_type": "code",
   "execution_count": 106,
   "metadata": {},
   "outputs": [],
   "source": [
    "data = pd.read_csv(\"bankdata.csv\")\n",
    "df = data.copy()\n",
    "df = df.dropna()\n",
    "\n",
    "\n",
    "dummy_data = pd.get_dummies(data[[\"job\",\"reason\"]])\n",
    "y = df[\"bad\"]\n",
    "X =df.drop([\"job\",\"reason\",\"bad\"],axis=1)\n",
    "\n",
    "X_train, X_test, y_train, y_test = train_test_split(X, y, \n",
    "                                                    test_size=0.20, \n",
    "                                                    random_state=42)"
   ]
  },
  {
   "cell_type": "code",
   "execution_count": 107,
   "metadata": {},
   "outputs": [],
   "source": [
    "from sklearn.naive_bayes import GaussianNB"
   ]
  },
  {
   "cell_type": "code",
   "execution_count": 108,
   "metadata": {},
   "outputs": [
    {
     "data": {
      "text/plain": [
       "GaussianNB(priors=None, var_smoothing=1e-09)"
      ]
     },
     "execution_count": 108,
     "metadata": {},
     "output_type": "execute_result"
    }
   ],
   "source": [
    "nb = GaussianNB()\n",
    "nb_model = nb.fit(X_train, y_train)\n",
    "nb_model"
   ]
  },
  {
   "cell_type": "code",
   "execution_count": 109,
   "metadata": {},
   "outputs": [
    {
     "data": {
      "text/plain": [
       "array([0, 0, 0, 0, 0, 0, 0, 0, 1, 0], dtype=int64)"
      ]
     },
     "execution_count": 109,
     "metadata": {},
     "output_type": "execute_result"
    }
   ],
   "source": [
    "nb_model.predict(X_test)[0:10]"
   ]
  },
  {
   "cell_type": "code",
   "execution_count": 110,
   "metadata": {},
   "outputs": [
    {
     "data": {
      "text/plain": [
       "array([[0.98928136, 0.01071864],\n",
       "       [0.9597811 , 0.0402189 ],\n",
       "       [0.98780831, 0.01219169],\n",
       "       [0.98648937, 0.01351063],\n",
       "       [0.99486944, 0.00513056],\n",
       "       [0.97528611, 0.02471389],\n",
       "       [0.98631831, 0.01368169],\n",
       "       [0.97593666, 0.02406334],\n",
       "       [0.4379753 , 0.5620247 ],\n",
       "       [0.99478556, 0.00521444]])"
      ]
     },
     "execution_count": 110,
     "metadata": {},
     "output_type": "execute_result"
    }
   ],
   "source": [
    "nb_model.predict_proba(X_test)[0:10]"
   ]
  },
  {
   "cell_type": "code",
   "execution_count": 111,
   "metadata": {},
   "outputs": [],
   "source": [
    "y_pred = nb_model.predict(X_test)"
   ]
  },
  {
   "cell_type": "code",
   "execution_count": 112,
   "metadata": {},
   "outputs": [
    {
     "data": {
      "text/plain": [
       "0.8960396039603961"
      ]
     },
     "execution_count": 112,
     "metadata": {},
     "output_type": "execute_result"
    }
   ],
   "source": [
    "accuracy_score(y_test, y_pred)"
   ]
  },
  {
   "cell_type": "code",
   "execution_count": 113,
   "metadata": {},
   "outputs": [
    {
     "data": {
      "text/plain": [
       "0.9232926829268292"
      ]
     },
     "execution_count": 113,
     "metadata": {},
     "output_type": "execute_result"
    }
   ],
   "source": [
    "cross_val_score(nb_model, X_test, y_test, cv = 10).mean()"
   ]
  },
  {
   "cell_type": "code",
   "execution_count": null,
   "metadata": {},
   "outputs": [],
   "source": []
  },
  {
   "cell_type": "markdown",
   "metadata": {},
   "source": [
    "## KNN"
   ]
  },
  {
   "cell_type": "markdown",
   "metadata": {},
   "source": [
    "### Model & Tahmin"
   ]
  },
  {
   "cell_type": "code",
   "execution_count": 114,
   "metadata": {},
   "outputs": [],
   "source": [
    "data = pd.read_csv(\"bankdata.csv\")\n",
    "df = data.copy()\n",
    "df = df.dropna()\n",
    "\n",
    "\n",
    "dummy_data = pd.get_dummies(data[[\"job\",\"reason\"]])\n",
    "y = df[\"bad\"]\n",
    "X =df.drop([\"job\",\"reason\",\"bad\"],axis=1)\n",
    "\n",
    "X_train, X_test, y_train, y_test = train_test_split(X, y, \n",
    "                                                    test_size=0.20, \n",
    "                                                    random_state=42)"
   ]
  },
  {
   "cell_type": "code",
   "execution_count": 115,
   "metadata": {},
   "outputs": [
    {
     "data": {
      "text/plain": [
       "KNeighborsClassifier(algorithm='auto', leaf_size=30, metric='minkowski',\n",
       "                     metric_params=None, n_jobs=None, n_neighbors=5, p=2,\n",
       "                     weights='uniform')"
      ]
     },
     "execution_count": 115,
     "metadata": {},
     "output_type": "execute_result"
    }
   ],
   "source": [
    "knn = KNeighborsClassifier()\n",
    "knn_model = knn.fit(X_train, y_train)\n",
    "knn_model"
   ]
  },
  {
   "cell_type": "code",
   "execution_count": 116,
   "metadata": {},
   "outputs": [],
   "source": [
    "y_pred = knn_model.predict(X_test)"
   ]
  },
  {
   "cell_type": "code",
   "execution_count": 117,
   "metadata": {},
   "outputs": [
    {
     "data": {
      "text/plain": [
       "0.9158415841584159"
      ]
     },
     "execution_count": 117,
     "metadata": {},
     "output_type": "execute_result"
    }
   ],
   "source": [
    "accuracy_score(y_test, y_pred)"
   ]
  },
  {
   "cell_type": "code",
   "execution_count": 118,
   "metadata": {},
   "outputs": [
    {
     "name": "stdout",
     "output_type": "stream",
     "text": [
      "              precision    recall  f1-score   support\n",
      "\n",
      "           0       0.92      0.99      0.96       369\n",
      "           1       0.57      0.11      0.19        35\n",
      "\n",
      "    accuracy                           0.92       404\n",
      "   macro avg       0.75      0.55      0.57       404\n",
      "weighted avg       0.89      0.92      0.89       404\n",
      "\n"
     ]
    }
   ],
   "source": [
    "print(classification_report(y_test, y_pred))"
   ]
  },
  {
   "cell_type": "markdown",
   "metadata": {},
   "source": [
    "## MODEL TUNING"
   ]
  },
  {
   "cell_type": "code",
   "execution_count": 119,
   "metadata": {},
   "outputs": [],
   "source": [
    "knn_params = {\"n_neighbors\": np.arange(1,50)}"
   ]
  },
  {
   "cell_type": "code",
   "execution_count": 120,
   "metadata": {},
   "outputs": [
    {
     "data": {
      "text/plain": [
       "GridSearchCV(cv=10, error_score=nan,\n",
       "             estimator=KNeighborsClassifier(algorithm='auto', leaf_size=30,\n",
       "                                            metric='minkowski',\n",
       "                                            metric_params=None, n_jobs=None,\n",
       "                                            n_neighbors=5, p=2,\n",
       "                                            weights='uniform'),\n",
       "             iid='deprecated', n_jobs=None,\n",
       "             param_grid={'n_neighbors': array([ 1,  2,  3,  4,  5,  6,  7,  8,  9, 10, 11, 12, 13, 14, 15, 16, 17,\n",
       "       18, 19, 20, 21, 22, 23, 24, 25, 26, 27, 28, 29, 30, 31, 32, 33, 34,\n",
       "       35, 36, 37, 38, 39, 40, 41, 42, 43, 44, 45, 46, 47, 48, 49])},\n",
       "             pre_dispatch='2*n_jobs', refit=True, return_train_score=False,\n",
       "             scoring=None, verbose=0)"
      ]
     },
     "execution_count": 120,
     "metadata": {},
     "output_type": "execute_result"
    }
   ],
   "source": [
    "knn = KNeighborsClassifier()\n",
    "knn_cv = GridSearchCV(knn, knn_params, cv=10)\n",
    "knn_cv.fit(X_train, y_train)"
   ]
  },
  {
   "cell_type": "code",
   "execution_count": 121,
   "metadata": {},
   "outputs": [
    {
     "name": "stdout",
     "output_type": "stream",
     "text": [
      "En iyi skor:0.9132620197837589\n",
      "En iyi parametreler: {'n_neighbors': 17}\n"
     ]
    }
   ],
   "source": [
    "\n",
    "print(\"En iyi skor:\" + str(knn_cv.best_score_))\n",
    "print(\"En iyi parametreler: \" + str(knn_cv.best_params_))"
   ]
  },
  {
   "cell_type": "code",
   "execution_count": 122,
   "metadata": {},
   "outputs": [],
   "source": [
    "knn = KNeighborsClassifier(17)\n",
    "knn_tuned = knn.fit(X_train, y_train)"
   ]
  },
  {
   "cell_type": "code",
   "execution_count": 123,
   "metadata": {},
   "outputs": [
    {
     "data": {
      "text/plain": [
       "0.9183168316831684"
      ]
     },
     "execution_count": 123,
     "metadata": {},
     "output_type": "execute_result"
    }
   ],
   "source": [
    "knn_tuned.score(X_test, y_test)"
   ]
  },
  {
   "cell_type": "code",
   "execution_count": 124,
   "metadata": {},
   "outputs": [],
   "source": [
    "y_pred = knn_tuned.predict(X_test)"
   ]
  },
  {
   "cell_type": "code",
   "execution_count": 125,
   "metadata": {},
   "outputs": [
    {
     "data": {
      "text/plain": [
       "0.9183168316831684"
      ]
     },
     "execution_count": 125,
     "metadata": {},
     "output_type": "execute_result"
    }
   ],
   "source": [
    "accuracy_score(y_test, y_pred)"
   ]
  },
  {
   "cell_type": "code",
   "execution_count": 126,
   "metadata": {},
   "outputs": [
    {
     "name": "stdout",
     "output_type": "stream",
     "text": [
      "              precision    recall  f1-score   support\n",
      "\n",
      "           0       0.92      1.00      0.96       369\n",
      "           1       1.00      0.06      0.11        35\n",
      "\n",
      "    accuracy                           0.92       404\n",
      "   macro avg       0.96      0.53      0.53       404\n",
      "weighted avg       0.93      0.92      0.88       404\n",
      "\n"
     ]
    }
   ],
   "source": [
    "print(classification_report(y_test, y_pred))"
   ]
  },
  {
   "cell_type": "code",
   "execution_count": null,
   "metadata": {},
   "outputs": [],
   "source": []
  },
  {
   "cell_type": "markdown",
   "metadata": {},
   "source": [
    "# Yapay Sinir Ağları"
   ]
  },
  {
   "cell_type": "markdown",
   "metadata": {},
   "source": [
    "### Model & Tahmin"
   ]
  },
  {
   "cell_type": "code",
   "execution_count": 127,
   "metadata": {},
   "outputs": [],
   "source": [
    "data = pd.read_csv(\"bankdata.csv\")\n",
    "df = data.copy()\n",
    "df = df.dropna()\n",
    "\n",
    "\n",
    "dummy_data = pd.get_dummies(data[[\"job\",\"reason\"]])\n",
    "y = df[\"bad\"]\n",
    "X =df.drop([\"job\",\"reason\",\"bad\"],axis=1)\n",
    "\n",
    "X_train, X_test, y_train, y_test = train_test_split(X, y, \n",
    "                                                    test_size=0.20, \n",
    "                                                    random_state=42)\n"
   ]
  },
  {
   "cell_type": "code",
   "execution_count": 128,
   "metadata": {},
   "outputs": [],
   "source": [
    "from sklearn.preprocessing import StandardScaler"
   ]
  },
  {
   "cell_type": "code",
   "execution_count": 129,
   "metadata": {},
   "outputs": [],
   "source": [
    "scaler = StandardScaler()"
   ]
  },
  {
   "cell_type": "code",
   "execution_count": 130,
   "metadata": {},
   "outputs": [],
   "source": [
    "scaler.fit(X_train)\n",
    "X_train_scaled = scaler.transform(X_train)\n",
    "X_test_scaled = scaler.transform(X_test)"
   ]
  },
  {
   "cell_type": "code",
   "execution_count": 131,
   "metadata": {},
   "outputs": [
    {
     "data": {
      "text/plain": [
       "array([[ 0.68941255,  0.43085191,  0.47278238, -1.19625189,  1.56477931,\n",
       "        -0.33077825,  0.08497539,  0.54812556,  1.54776915,  0.12368953],\n",
       "       [ 0.22402982,  0.78514133,  1.32140428, -0.40593238, -0.27466265,\n",
       "        -0.33077825,  0.38291777,  1.7509463 ,  0.1817688 ,  1.05157074],\n",
       "       [-0.17747685,  1.07182394,  0.99841583, -0.66937222, -0.27466265,\n",
       "        -0.33077825, -0.28762812, -0.65469518, -0.13346205, -0.98016717],\n",
       "       [-0.25047806, -1.2014695 ,  1.08722937, -0.01077263, -0.27466265,\n",
       "        -0.33077825,  1.45637631, -0.65469518,  0.49699965, -0.76576556],\n",
       "       [-1.08086685,  0.51487143,  0.17545567,  1.70158629, -0.27466265,\n",
       "        -0.33077825, -0.72412658, -0.65469518, -1.18423155,  0.40640423]])"
      ]
     },
     "execution_count": 131,
     "metadata": {},
     "output_type": "execute_result"
    }
   ],
   "source": [
    "X_test_scaled[0:5]"
   ]
  },
  {
   "cell_type": "code",
   "execution_count": 132,
   "metadata": {},
   "outputs": [],
   "source": [
    "from sklearn.neural_network import MLPClassifier"
   ]
  },
  {
   "cell_type": "code",
   "execution_count": 133,
   "metadata": {},
   "outputs": [],
   "source": [
    "mlpc = MLPClassifier().fit(X_train_scaled, y_train)"
   ]
  },
  {
   "cell_type": "code",
   "execution_count": 134,
   "metadata": {},
   "outputs": [
    {
     "data": {
      "text/plain": [
       "0.9455445544554455"
      ]
     },
     "execution_count": 134,
     "metadata": {},
     "output_type": "execute_result"
    }
   ],
   "source": [
    "y_pred = mlpc.predict(X_test_scaled)\n",
    "accuracy_score(y_test, y_pred)"
   ]
  },
  {
   "cell_type": "markdown",
   "metadata": {},
   "source": [
    "\n",
    "# Model Tuning"
   ]
  },
  {
   "cell_type": "code",
   "execution_count": 135,
   "metadata": {},
   "outputs": [
    {
     "data": {
      "text/plain": [
       "MLPClassifier(activation='relu', alpha=0.0001, batch_size='auto', beta_1=0.9,\n",
       "              beta_2=0.999, early_stopping=False, epsilon=1e-08,\n",
       "              hidden_layer_sizes=(100,), learning_rate='constant',\n",
       "              learning_rate_init=0.001, max_fun=15000, max_iter=200,\n",
       "              momentum=0.9, n_iter_no_change=10, nesterovs_momentum=True,\n",
       "              power_t=0.5, random_state=None, shuffle=True, solver='adam',\n",
       "              tol=0.0001, validation_fraction=0.1, verbose=False,\n",
       "              warm_start=False)"
      ]
     },
     "execution_count": 135,
     "metadata": {},
     "output_type": "execute_result"
    }
   ],
   "source": [
    "mlpc"
   ]
  },
  {
   "cell_type": "code",
   "execution_count": 137,
   "metadata": {},
   "outputs": [],
   "source": [
    "mlpc_params = {\"alpha\": [0.1, 0.01, 0.02, 0.005, 0.0001,0.00001],\n",
    "              \"hidden_layer_sizes\": [(10,10,10),\n",
    "                                     (100,100,100),\n",
    "                                     (100,100),\n",
    "                                     (3,5), \n",
    "                                     (5, 3)],\n",
    "              \"solver\" : [\"lbfgs\",\"adam\",\"sgd\"],\n",
    "              \"activation\": [\"relu\",\"logistic\"]}"
   ]
  },
  {
   "cell_type": "code",
   "execution_count": 138,
   "metadata": {},
   "outputs": [
    {
     "name": "stdout",
     "output_type": "stream",
     "text": [
      "Fitting 10 folds for each of 180 candidates, totalling 1800 fits\n"
     ]
    },
    {
     "name": "stderr",
     "output_type": "stream",
     "text": [
      "[Parallel(n_jobs=-1)]: Using backend LokyBackend with 8 concurrent workers.\n",
      "[Parallel(n_jobs=-1)]: Done  25 tasks      | elapsed:   31.4s\n",
      "[Parallel(n_jobs=-1)]: Done 146 tasks      | elapsed:  1.5min\n",
      "[Parallel(n_jobs=-1)]: Done 349 tasks      | elapsed:  3.0min\n",
      "[Parallel(n_jobs=-1)]: Done 632 tasks      | elapsed:  4.6min\n",
      "[Parallel(n_jobs=-1)]: Done 997 tasks      | elapsed:  7.0min\n",
      "[Parallel(n_jobs=-1)]: Done 1442 tasks      | elapsed:  9.2min\n",
      "[Parallel(n_jobs=-1)]: Done 1800 out of 1800 | elapsed: 10.6min finished\n"
     ]
    },
    {
     "data": {
      "text/plain": [
       "GridSearchCV(cv=10, error_score=nan,\n",
       "             estimator=MLPClassifier(activation='relu', alpha=0.0001,\n",
       "                                     batch_size='auto', beta_1=0.9,\n",
       "                                     beta_2=0.999, early_stopping=False,\n",
       "                                     epsilon=1e-08, hidden_layer_sizes=(100,),\n",
       "                                     learning_rate='constant',\n",
       "                                     learning_rate_init=0.001, max_fun=15000,\n",
       "                                     max_iter=200, momentum=0.9,\n",
       "                                     n_iter_no_change=10,\n",
       "                                     nesterovs_momentum=True, power_t=0.5,\n",
       "                                     random_stat...\n",
       "                                     validation_fraction=0.1, verbose=False,\n",
       "                                     warm_start=False),\n",
       "             iid='deprecated', n_jobs=-1,\n",
       "             param_grid={'activation': ['relu', 'logistic'],\n",
       "                         'alpha': [0.1, 0.01, 0.02, 0.005, 0.0001, 1e-05],\n",
       "                         'hidden_layer_sizes': [(10, 10, 10), (100, 100, 100),\n",
       "                                                (100, 100), (3, 5), (5, 3)],\n",
       "                         'solver': ['lbfgs', 'adam', 'sgd']},\n",
       "             pre_dispatch='2*n_jobs', refit=True, return_train_score=False,\n",
       "             scoring=None, verbose=2)"
      ]
     },
     "execution_count": 138,
     "metadata": {},
     "output_type": "execute_result"
    }
   ],
   "source": [
    "mlpc = MLPClassifier()\n",
    "mlpc_cv_model = GridSearchCV(mlpc, mlpc_params, \n",
    "                         cv = 10, \n",
    "                         n_jobs = -1,\n",
    "                         verbose = 2)\n",
    "\n",
    "mlpc_cv_model.fit(X_train_scaled, y_train)"
   ]
  },
  {
   "cell_type": "code",
   "execution_count": 139,
   "metadata": {},
   "outputs": [
    {
     "name": "stdout",
     "output_type": "stream",
     "text": [
      "En iyi parametreler: {'activation': 'relu', 'alpha': 0.02, 'hidden_layer_sizes': (100, 100, 100), 'solver': 'lbfgs'}\n"
     ]
    }
   ],
   "source": [
    "print(\"En iyi parametreler: \" + str(mlpc_cv_model.best_params_))"
   ]
  },
  {
   "cell_type": "code",
   "execution_count": 140,
   "metadata": {},
   "outputs": [],
   "source": [
    "mlpc_tuned = MLPClassifier(activation = \"relu\", \n",
    "                           alpha = 0.0001, \n",
    "                           hidden_layer_sizes = (100, 100, 100),\n",
    "                          solver = \"adam\")"
   ]
  },
  {
   "cell_type": "code",
   "execution_count": 141,
   "metadata": {},
   "outputs": [
    {
     "data": {
      "text/plain": [
       "MLPClassifier(activation='relu', alpha=0.0001, batch_size='auto', beta_1=0.9,\n",
       "              beta_2=0.999, early_stopping=False, epsilon=1e-08,\n",
       "              hidden_layer_sizes=(100, 100, 100), learning_rate='constant',\n",
       "              learning_rate_init=0.001, max_fun=15000, max_iter=200,\n",
       "              momentum=0.9, n_iter_no_change=10, nesterovs_momentum=True,\n",
       "              power_t=0.5, random_state=None, shuffle=True, solver='adam',\n",
       "              tol=0.0001, validation_fraction=0.1, verbose=False,\n",
       "              warm_start=False)"
      ]
     },
     "execution_count": 141,
     "metadata": {},
     "output_type": "execute_result"
    }
   ],
   "source": [
    "mlpc_tuned.fit(X_train_scaled, y_train)"
   ]
  },
  {
   "cell_type": "code",
   "execution_count": 142,
   "metadata": {},
   "outputs": [
    {
     "data": {
      "text/plain": [
       "0.9554455445544554"
      ]
     },
     "execution_count": 142,
     "metadata": {},
     "output_type": "execute_result"
    }
   ],
   "source": [
    "y_pred = mlpc_tuned.predict(X_test_scaled)\n",
    "accuracy_score(y_test, y_pred)"
   ]
  },
  {
   "cell_type": "code",
   "execution_count": null,
   "metadata": {},
   "outputs": [],
   "source": []
  },
  {
   "cell_type": "markdown",
   "metadata": {},
   "source": [
    "# CART"
   ]
  },
  {
   "cell_type": "markdown",
   "metadata": {},
   "source": [
    "### Model & Tahmin"
   ]
  },
  {
   "cell_type": "code",
   "execution_count": 143,
   "metadata": {},
   "outputs": [],
   "source": [
    "data = pd.read_csv(\"bankdata.csv\")\n",
    "df = data.copy()\n",
    "df = df.dropna()\n",
    "\n",
    "\n",
    "dummy_data = pd.get_dummies(data[[\"job\",\"reason\"]])\n",
    "y = df[\"bad\"]\n",
    "X =df.drop([\"job\",\"reason\",\"bad\"],axis=1)\n",
    "\n",
    "X_train, X_test, y_train, y_test = train_test_split(X, y, \n",
    "                                                    test_size=0.20, \n",
    "                                                    random_state=42)"
   ]
  },
  {
   "cell_type": "code",
   "execution_count": 144,
   "metadata": {},
   "outputs": [],
   "source": [
    "from sklearn.tree import DecisionTreeClassifier"
   ]
  },
  {
   "cell_type": "code",
   "execution_count": 145,
   "metadata": {},
   "outputs": [],
   "source": [
    "cart = DecisionTreeClassifier()\n",
    "cart_model = cart.fit(X_train, y_train)"
   ]
  },
  {
   "cell_type": "code",
   "execution_count": 146,
   "metadata": {},
   "outputs": [
    {
     "data": {
      "text/plain": [
       "DecisionTreeClassifier(ccp_alpha=0.0, class_weight=None, criterion='gini',\n",
       "                       max_depth=None, max_features=None, max_leaf_nodes=None,\n",
       "                       min_impurity_decrease=0.0, min_impurity_split=None,\n",
       "                       min_samples_leaf=1, min_samples_split=2,\n",
       "                       min_weight_fraction_leaf=0.0, presort='deprecated',\n",
       "                       random_state=None, splitter='best')"
      ]
     },
     "execution_count": 146,
     "metadata": {},
     "output_type": "execute_result"
    }
   ],
   "source": [
    "cart_model"
   ]
  },
  {
   "cell_type": "code",
   "execution_count": 147,
   "metadata": {},
   "outputs": [
    {
     "name": "stdout",
     "output_type": "stream",
     "text": [
      "Requirement already satisfied: skompiler in c:\\users\\msaka\\anaconda3\\lib\\site-packages (0.5.5)\n",
      "Requirement already satisfied: scikit-learn in c:\\users\\msaka\\anaconda3\\lib\\site-packages (from skompiler) (0.22.1)\n",
      "Requirement already satisfied: joblib>=0.11 in c:\\users\\msaka\\anaconda3\\lib\\site-packages (from scikit-learn->skompiler) (0.14.1)\n",
      "Requirement already satisfied: numpy>=1.11.0 in c:\\users\\msaka\\anaconda3\\lib\\site-packages (from scikit-learn->skompiler) (1.18.1)\n",
      "Requirement already satisfied: scipy>=0.17.0 in c:\\users\\msaka\\anaconda3\\lib\\site-packages (from scikit-learn->skompiler) (1.4.1)\n"
     ]
    }
   ],
   "source": [
    "!pip install skompiler"
   ]
  },
  {
   "cell_type": "code",
   "execution_count": 148,
   "metadata": {},
   "outputs": [],
   "source": [
    "from skompiler import skompile"
   ]
  },
  {
   "cell_type": "code",
   "execution_count": 149,
   "metadata": {},
   "outputs": [
    {
     "name": "stdout",
     "output_type": "stream",
     "text": [
      "((((((0 if x[2] <= 36633.0 else 1 if x[3] <= 6.5 else 0) if x[9] <= \n",
      "    32.76449966430664 else 0 if x[3] <= 1.5 else 1) if x[0] <= 9050.0 else \n",
      "    ((((0 if x[4] <= 0.5 else 0 if x[2] <= 32716.5 else 1) if x[2] <= \n",
      "    45602.0 else 0 if x[6] <= 81.6150016784668 else 1) if x[0] <= 12750.0 else\n",
      "    0) if x[6] <= 324.5449981689453 else 1) if x[4] <= 3.5 else 1) if x[2] <=\n",
      "    48600.0 else (1 if x[9] <= 37.44599914550781 else 0) if x[6] <= \n",
      "    43.650001525878906 else ((1 if x[8] <= 1.5 else (((1 if x[3] <= 4.0 else\n",
      "    (0 if x[9] <= 36.76350021362305 else 1) if x[1] <= 45320.5 else 0) if x\n",
      "    [6] <= 60.404998779296875 else ((((1 if x[1] <= 65688.0 else 0) if x[3] <=\n",
      "    2.5 else 0) if x[2] <= 121579.0 else 1 if x[3] <= 7.0 else 0) if x[4] <=\n",
      "    0.5 else 1 if x[6] <= 160.40499877929688 else 0) if x[0] <= 6950.0 else\n",
      "    ((((1 if x[2] <= 51370.5 else ((1 if x[3] <= 14.5 else 0) if x[9] <= \n",
      "    33.51150035858154 else 0) if x[1] <= 38380.5 else 0 if x[3] <= 8.5 else\n",
      "    (0 if x[1] <= 54188.0 else 1 if x[1] <= 55237.5 else 0) if x[5] <= 0.5 else\n",
      "    0 if x[2] <= 64748.0 else 1) if x[2] <= 83763.0 else 1 if x[8] <= 8.5 else\n",
      "    0) if x[1] <= 61462.5 else 1 if x[0] <= 10200.0 else 1 if x[1] <= \n",
      "    63021.5 else 0) if x[2] <= 86023.5 else 0) if x[6] <= 95.79000091552734\n",
      "     else ((((((1 if x[1] <= 34899.0 else 0) if x[0] <= 10150.0 else 0) if \n",
      "    x[2] <= 58548.0 else 1) if x[2] <= 58853.5 else 0 if x[9] <= \n",
      "    34.61300086975098 else 1 if x[9] <= 34.65450096130371 else ((0 if x[0] <=\n",
      "    18550.0 else (0 if x[6] <= 164.06999969482422 else 1) if x[0] <= \n",
      "    18700.0 else 0) if x[4] <= 0.5 else 0 if x[2] <= 105665.0 else 1) if x[\n",
      "    1] <= 116175.5 else 1 if x[6] <= 173.09500122070312 else 0) if x[1] <= \n",
      "    143085.0 else 1 if x[2] <= 170475.5 else 0) if x[0] <= 22550.0 else ((0 if\n",
      "    x[1] <= 71817.0 else 1) if x[8] <= 21.0 else 0) if x[0] <= 22850.0 else\n",
      "    ((((0 if x[8] <= 19.5 else 1) if x[2] <= 64560.5 else 0) if x[6] <= \n",
      "    322.1650085449219 else 1) if x[3] <= 0.5 else (0 if x[7] <= 2.5 else 1 if\n",
      "    x[8] <= 23.0 else 0) if x[1] <= 197678.5 else 0 if x[0] <= 44550.0 else\n",
      "    1) if x[8] <= 34.5 else 1 if x[9] <= 33.54199981689453 else 1 if x[6] <=\n",
      "    113.18000030517578 else 0 if x[6] <= 286.7749938964844 else 1 if x[9] <=\n",
      "    37.281999588012695 else 0) if x[9] <= 43.70450019836426 else 1 if x[9] <=\n",
      "    43.756500244140625 else 0 if x[3] <= 22.0 else 1) if x[5] <= 1.5 else (\n",
      "    1 if x[0] <= 5400.0 else 0) if x[1] <= 73471.0 else 1 if x[9] <= \n",
      "    31.463000297546387 else 1 if x[1] <= 80500.5 else (1 if x[2] <= 90925.5\n",
      "     else 0) if x[6] <= 265.2699966430664 else 1) if x[8] <= 60.0 else 1) if\n",
      "    x[7] <= 3.5 else (1 if x[2] <= 69583.0 else (0 if x[3] <= 18.5 else 1 if\n",
      "    x[8] <= 22.0 else 0) if x[1] <= 107767.0 else (1 if x[9] <= \n",
      "    35.70800018310547 else 0) if x[7] <= 6.0 else 1) if x[5] <= 0.5 else 1 if\n",
      "    x[0] <= 23500.0 else 0) if x[1] <= 383586.5 else 1) if x[5] <= 3.5 else\n",
      "    1 if x[8] <= 33.0 else 0 if x[1] <= 62489.5 else 1) if x[9] <= \n",
      "    45.48349952697754 else 1)\n",
      "\n"
     ]
    }
   ],
   "source": [
    "print(skompile(cart_model.predict).to(\"python/code\"))"
   ]
  },
  {
   "cell_type": "code",
   "execution_count": 150,
   "metadata": {},
   "outputs": [],
   "source": [
    "x = [9]"
   ]
  },
  {
   "cell_type": "code",
   "execution_count": 151,
   "metadata": {},
   "outputs": [
    {
     "data": {
      "text/plain": [
       "1"
      ]
     },
     "execution_count": 151,
     "metadata": {},
     "output_type": "execute_result"
    }
   ],
   "source": [
    "((0 if x[0] <= 2.5 else 0) if x[0] <= 6.5 else 1 if x[0] <= 13.5 else 1)"
   ]
  },
  {
   "cell_type": "code",
   "execution_count": 152,
   "metadata": {},
   "outputs": [
    {
     "data": {
      "text/plain": [
       "0.943069306930693"
      ]
     },
     "execution_count": 152,
     "metadata": {},
     "output_type": "execute_result"
    }
   ],
   "source": [
    "y_pred = cart_model.predict(X_test)\n",
    "accuracy_score(y_test, y_pred)"
   ]
  },
  {
   "cell_type": "markdown",
   "metadata": {},
   "source": [
    "## Model Tuning"
   ]
  },
  {
   "cell_type": "code",
   "execution_count": 153,
   "metadata": {},
   "outputs": [
    {
     "data": {
      "text/plain": [
       "DecisionTreeClassifier(ccp_alpha=0.0, class_weight=None, criterion='gini',\n",
       "                       max_depth=None, max_features=None, max_leaf_nodes=None,\n",
       "                       min_impurity_decrease=0.0, min_impurity_split=None,\n",
       "                       min_samples_leaf=1, min_samples_split=2,\n",
       "                       min_weight_fraction_leaf=0.0, presort='deprecated',\n",
       "                       random_state=None, splitter='best')"
      ]
     },
     "execution_count": 153,
     "metadata": {},
     "output_type": "execute_result"
    }
   ],
   "source": [
    "cart_model"
   ]
  },
  {
   "cell_type": "code",
   "execution_count": 154,
   "metadata": {},
   "outputs": [],
   "source": [
    "cart_grid = {\"max_depth\": range(1,10),\n",
    "            \"min_samples_split\" : list(range(2,50)) }"
   ]
  },
  {
   "cell_type": "code",
   "execution_count": 155,
   "metadata": {},
   "outputs": [
    {
     "name": "stdout",
     "output_type": "stream",
     "text": [
      "Fitting 10 folds for each of 432 candidates, totalling 4320 fits\n"
     ]
    },
    {
     "name": "stderr",
     "output_type": "stream",
     "text": [
      "[Parallel(n_jobs=-1)]: Using backend LokyBackend with 8 concurrent workers.\n",
      "[Parallel(n_jobs=-1)]: Done  25 tasks      | elapsed:    1.4s\n",
      "[Parallel(n_jobs=-1)]: Done 1616 tasks      | elapsed:    3.7s\n",
      "[Parallel(n_jobs=-1)]: Done 4320 out of 4320 | elapsed:    8.5s finished\n"
     ]
    }
   ],
   "source": [
    "cart = tree.DecisionTreeClassifier()\n",
    "cart_cv = GridSearchCV(cart, cart_grid, cv = 10, n_jobs = -1, verbose = 2)\n",
    "cart_cv_model = cart_cv.fit(X_train, y_train)"
   ]
  },
  {
   "cell_type": "code",
   "execution_count": 156,
   "metadata": {},
   "outputs": [
    {
     "name": "stdout",
     "output_type": "stream",
     "text": [
      "En iyi parametreler: {'max_depth': 9, 'min_samples_split': 2}\n"
     ]
    }
   ],
   "source": [
    "print(\"En iyi parametreler: \" + str(cart_cv_model.best_params_))"
   ]
  },
  {
   "cell_type": "markdown",
   "metadata": {},
   "source": [
    "## final"
   ]
  },
  {
   "cell_type": "code",
   "execution_count": 157,
   "metadata": {},
   "outputs": [],
   "source": [
    "cart = tree.DecisionTreeClassifier(max_depth = 7, min_samples_split = 22)\n",
    "cart_tuned = cart.fit(X_train, y_train)"
   ]
  },
  {
   "cell_type": "code",
   "execution_count": 158,
   "metadata": {},
   "outputs": [
    {
     "data": {
      "text/plain": [
       "0.9381188118811881"
      ]
     },
     "execution_count": 158,
     "metadata": {},
     "output_type": "execute_result"
    }
   ],
   "source": [
    "y_pred = cart_tuned.predict(X_test)\n",
    "accuracy_score(y_test, y_pred)"
   ]
  },
  {
   "cell_type": "code",
   "execution_count": null,
   "metadata": {},
   "outputs": [],
   "source": []
  },
  {
   "cell_type": "markdown",
   "metadata": {},
   "source": [
    "# Random Forests"
   ]
  },
  {
   "cell_type": "code",
   "execution_count": 159,
   "metadata": {},
   "outputs": [],
   "source": [
    "data = pd.read_csv(\"bankdata.csv\")\n",
    "df = data.copy()\n",
    "df = df.dropna()\n",
    "\n",
    "\n",
    "dummy_data = pd.get_dummies(data[[\"job\",\"reason\"]])\n",
    "y = df[\"bad\"]\n",
    "X =df.drop([\"job\",\"reason\",\"bad\"],axis=1)\n",
    "\n",
    "X_train, X_test, y_train, y_test = train_test_split(X, y, \n",
    "                                                    test_size=0.20, \n",
    "                                                    random_state=42)"
   ]
  },
  {
   "cell_type": "code",
   "execution_count": 160,
   "metadata": {},
   "outputs": [],
   "source": [
    "from sklearn.ensemble import RandomForestClassifier"
   ]
  },
  {
   "cell_type": "code",
   "execution_count": 161,
   "metadata": {},
   "outputs": [],
   "source": [
    "rf_model = RandomForestClassifier().fit(X_train, y_train)"
   ]
  },
  {
   "cell_type": "code",
   "execution_count": 162,
   "metadata": {},
   "outputs": [
    {
     "data": {
      "text/plain": [
       "RandomForestClassifier(bootstrap=True, ccp_alpha=0.0, class_weight=None,\n",
       "                       criterion='gini', max_depth=None, max_features='auto',\n",
       "                       max_leaf_nodes=None, max_samples=None,\n",
       "                       min_impurity_decrease=0.0, min_impurity_split=None,\n",
       "                       min_samples_leaf=1, min_samples_split=2,\n",
       "                       min_weight_fraction_leaf=0.0, n_estimators=100,\n",
       "                       n_jobs=None, oob_score=False, random_state=None,\n",
       "                       verbose=0, warm_start=False)"
      ]
     },
     "execution_count": 162,
     "metadata": {},
     "output_type": "execute_result"
    }
   ],
   "source": [
    "rf_model"
   ]
  },
  {
   "cell_type": "code",
   "execution_count": 163,
   "metadata": {},
   "outputs": [
    {
     "data": {
      "text/plain": [
       "0.9529702970297029"
      ]
     },
     "execution_count": 163,
     "metadata": {},
     "output_type": "execute_result"
    }
   ],
   "source": [
    "y_pred = rf_model.predict(X_test)\n",
    "accuracy_score(y_test, y_pred)"
   ]
  },
  {
   "cell_type": "markdown",
   "metadata": {},
   "source": [
    "### Model Tuning"
   ]
  },
  {
   "cell_type": "code",
   "execution_count": 164,
   "metadata": {},
   "outputs": [
    {
     "data": {
      "text/plain": [
       "RandomForestClassifier(bootstrap=True, ccp_alpha=0.0, class_weight=None,\n",
       "                       criterion='gini', max_depth=None, max_features='auto',\n",
       "                       max_leaf_nodes=None, max_samples=None,\n",
       "                       min_impurity_decrease=0.0, min_impurity_split=None,\n",
       "                       min_samples_leaf=1, min_samples_split=2,\n",
       "                       min_weight_fraction_leaf=0.0, n_estimators=100,\n",
       "                       n_jobs=None, oob_score=False, random_state=None,\n",
       "                       verbose=0, warm_start=False)"
      ]
     },
     "execution_count": 164,
     "metadata": {},
     "output_type": "execute_result"
    }
   ],
   "source": [
    "rf_model"
   ]
  },
  {
   "cell_type": "code",
   "execution_count": 165,
   "metadata": {},
   "outputs": [],
   "source": [
    "rf_params = {\"max_depth\": [2,5,8,10],\n",
    "            \"max_features\": [2,5,8],\n",
    "            \"n_estimators\": [10,500,1000],\n",
    "            \"min_samples_split\": [2,5,10]}"
   ]
  },
  {
   "cell_type": "code",
   "execution_count": 166,
   "metadata": {},
   "outputs": [],
   "source": [
    "rf_model = RandomForestClassifier()\n",
    "\n",
    "rf_cv_model = GridSearchCV(rf_model, \n",
    "                           rf_params, \n",
    "                           cv = 10, \n",
    "                           n_jobs = -1, \n",
    "                           verbose = 2)"
   ]
  },
  {
   "cell_type": "code",
   "execution_count": 167,
   "metadata": {},
   "outputs": [
    {
     "name": "stdout",
     "output_type": "stream",
     "text": [
      "Fitting 10 folds for each of 108 candidates, totalling 1080 fits\n"
     ]
    },
    {
     "name": "stderr",
     "output_type": "stream",
     "text": [
      "[Parallel(n_jobs=-1)]: Using backend LokyBackend with 8 concurrent workers.\n",
      "[Parallel(n_jobs=-1)]: Done  25 tasks      | elapsed:    5.1s\n",
      "[Parallel(n_jobs=-1)]: Done 146 tasks      | elapsed:   30.7s\n",
      "[Parallel(n_jobs=-1)]: Done 349 tasks      | elapsed:  1.3min\n",
      "[Parallel(n_jobs=-1)]: Done 632 tasks      | elapsed:  2.8min\n",
      "[Parallel(n_jobs=-1)]: Done 997 tasks      | elapsed:  5.2min\n",
      "[Parallel(n_jobs=-1)]: Done 1080 out of 1080 | elapsed:  6.1min finished\n"
     ]
    },
    {
     "data": {
      "text/plain": [
       "GridSearchCV(cv=10, error_score=nan,\n",
       "             estimator=RandomForestClassifier(bootstrap=True, ccp_alpha=0.0,\n",
       "                                              class_weight=None,\n",
       "                                              criterion='gini', max_depth=None,\n",
       "                                              max_features='auto',\n",
       "                                              max_leaf_nodes=None,\n",
       "                                              max_samples=None,\n",
       "                                              min_impurity_decrease=0.0,\n",
       "                                              min_impurity_split=None,\n",
       "                                              min_samples_leaf=1,\n",
       "                                              min_samples_split=2,\n",
       "                                              min_weight_fraction_leaf=0.0,\n",
       "                                              n_estimators=100, n_jobs=None,\n",
       "                                              oob_score=False,\n",
       "                                              random_state=None, verbose=0,\n",
       "                                              warm_start=False),\n",
       "             iid='deprecated', n_jobs=-1,\n",
       "             param_grid={'max_depth': [2, 5, 8, 10], 'max_features': [2, 5, 8],\n",
       "                         'min_samples_split': [2, 5, 10],\n",
       "                         'n_estimators': [10, 500, 1000]},\n",
       "             pre_dispatch='2*n_jobs', refit=True, return_train_score=False,\n",
       "             scoring=None, verbose=2)"
      ]
     },
     "execution_count": 167,
     "metadata": {},
     "output_type": "execute_result"
    }
   ],
   "source": [
    "rf_cv_model.fit(X_train, y_train)"
   ]
  },
  {
   "cell_type": "code",
   "execution_count": 168,
   "metadata": {},
   "outputs": [
    {
     "name": "stdout",
     "output_type": "stream",
     "text": [
      "En iyi parametreler: {'max_depth': 10, 'max_features': 8, 'min_samples_split': 2, 'n_estimators': 10}\n"
     ]
    }
   ],
   "source": [
    "print(\"En iyi parametreler: \" + str(rf_cv_model.best_params_))"
   ]
  },
  {
   "cell_type": "markdown",
   "metadata": {},
   "source": [
    "## final"
   ]
  },
  {
   "cell_type": "code",
   "execution_count": 169,
   "metadata": {},
   "outputs": [
    {
     "data": {
      "text/plain": [
       "RandomForestClassifier(bootstrap=True, ccp_alpha=0.0, class_weight=None,\n",
       "                       criterion='gini', max_depth=10, max_features=5,\n",
       "                       max_leaf_nodes=None, max_samples=None,\n",
       "                       min_impurity_decrease=0.0, min_impurity_split=None,\n",
       "                       min_samples_leaf=1, min_samples_split=2,\n",
       "                       min_weight_fraction_leaf=0.0, n_estimators=1000,\n",
       "                       n_jobs=None, oob_score=False, random_state=None,\n",
       "                       verbose=0, warm_start=False)"
      ]
     },
     "execution_count": 169,
     "metadata": {},
     "output_type": "execute_result"
    }
   ],
   "source": [
    "rf_tuned = RandomForestClassifier(max_depth = 10, \n",
    "                                  max_features = 5, \n",
    "                                  min_samples_split = 2,\n",
    "                                  n_estimators = 1000)\n",
    "\n",
    "rf_tuned.fit(X_train, y_train)"
   ]
  },
  {
   "cell_type": "code",
   "execution_count": 170,
   "metadata": {},
   "outputs": [
    {
     "data": {
      "text/plain": [
       "0.948019801980198"
      ]
     },
     "execution_count": 170,
     "metadata": {},
     "output_type": "execute_result"
    }
   ],
   "source": [
    "y_pred = rf_tuned.predict(X_test)\n",
    "accuracy_score(y_test, y_pred)"
   ]
  },
  {
   "cell_type": "code",
   "execution_count": 171,
   "metadata": {},
   "outputs": [],
   "source": [
    "Importance = pd.DataFrame({\"Importance\": rf_tuned.feature_importances_*100},\n",
    "                         index = X_train.columns)"
   ]
  },
  {
   "cell_type": "code",
   "execution_count": 172,
   "metadata": {},
   "outputs": [
    {
     "data": {
      "text/plain": [
       "Text(0.5, 0, 'Değişken Önem Düzeyleri')"
      ]
     },
     "execution_count": 172,
     "metadata": {},
     "output_type": "execute_result"
    },
    {
     "data": {
      "image/png": "[encoded data removed]",
      "text/plain": [
       "<Figure size 432x288 with 1 Axes>"
      ]
     },
     "metadata": {
      "needs_background": "light"
     },
     "output_type": "display_data"
    }
   ],
   "source": [
    "Importance.sort_values(by = \"Importance\", \n",
    "                       axis = 0, \n",
    "                       ascending = True).plot(kind =\"barh\", color = \"r\")\n",
    "\n",
    "plt.xlabel(\"Değişken Önem Düzeyleri\")"
   ]
  },
  {
   "cell_type": "code",
   "execution_count": null,
   "metadata": {},
   "outputs": [],
   "source": []
  },
  {
   "cell_type": "markdown",
   "metadata": {},
   "source": [
    "# GBM"
   ]
  },
  {
   "cell_type": "code",
   "execution_count": 173,
   "metadata": {},
   "outputs": [],
   "source": [
    "data = pd.read_csv(\"bankdata.csv\")\n",
    "df = data.copy()\n",
    "df = df.dropna()\n",
    "\n",
    "\n",
    "dummy_data = pd.get_dummies(data[[\"job\",\"reason\"]])\n",
    "y = df[\"bad\"]\n",
    "X =df.drop([\"job\",\"reason\",\"bad\"],axis=1)\n",
    "\n",
    "X_train, X_test, y_train, y_test = train_test_split(X, y, \n",
    "                                                    test_size=0.20, \n",
    "                                                    random_state=42)"
   ]
  },
  {
   "cell_type": "code",
   "execution_count": 174,
   "metadata": {},
   "outputs": [],
   "source": [
    "from sklearn.ensemble import GradientBoostingClassifier"
   ]
  },
  {
   "cell_type": "code",
   "execution_count": 175,
   "metadata": {},
   "outputs": [],
   "source": [
    "gbm_model = GradientBoostingClassifier().fit(X_train, y_train)"
   ]
  },
  {
   "cell_type": "code",
   "execution_count": 176,
   "metadata": {},
   "outputs": [
    {
     "data": {
      "text/plain": [
       "0.9529702970297029"
      ]
     },
     "execution_count": 176,
     "metadata": {},
     "output_type": "execute_result"
    }
   ],
   "source": [
    "y_pred = gbm_model.predict(X_test)\n",
    "accuracy_score(y_test, y_pred)"
   ]
  },
  {
   "cell_type": "markdown",
   "metadata": {},
   "source": [
    "## MODEL TUNING"
   ]
  },
  {
   "cell_type": "code",
   "execution_count": 177,
   "metadata": {},
   "outputs": [
    {
     "data": {
      "text/plain": [
       "GradientBoostingClassifier(ccp_alpha=0.0, criterion='friedman_mse', init=None,\n",
       "                           learning_rate=0.1, loss='deviance', max_depth=3,\n",
       "                           max_features=None, max_leaf_nodes=None,\n",
       "                           min_impurity_decrease=0.0, min_impurity_split=None,\n",
       "                           min_samples_leaf=1, min_samples_split=2,\n",
       "                           min_weight_fraction_leaf=0.0, n_estimators=100,\n",
       "                           n_iter_no_change=None, presort='deprecated',\n",
       "                           random_state=None, subsample=1.0, tol=0.0001,\n",
       "                           validation_fraction=0.1, verbose=0,\n",
       "                           warm_start=False)"
      ]
     },
     "execution_count": 177,
     "metadata": {},
     "output_type": "execute_result"
    }
   ],
   "source": [
    "gbm_model"
   ]
  },
  {
   "cell_type": "code",
   "execution_count": 178,
   "metadata": {},
   "outputs": [],
   "source": [
    "gbm_params = {\"learning_rate\" : [0.001, 0.01, 0.1, 0.05],\n",
    "             \"n_estimators\": [100,500,100],\n",
    "             \"max_depth\": [3,5,10],\n",
    "             \"min_samples_split\": [2,5,10]}"
   ]
  },
  {
   "cell_type": "code",
   "execution_count": 179,
   "metadata": {},
   "outputs": [],
   "source": [
    "gbm = GradientBoostingClassifier()\n",
    "\n",
    "gbm_cv = GridSearchCV(gbm, gbm_params, cv = 10, n_jobs = -1, verbose = 2)"
   ]
  },
  {
   "cell_type": "code",
   "execution_count": 180,
   "metadata": {},
   "outputs": [
    {
     "name": "stdout",
     "output_type": "stream",
     "text": [
      "Fitting 10 folds for each of 108 candidates, totalling 1080 fits\n"
     ]
    },
    {
     "name": "stderr",
     "output_type": "stream",
     "text": [
      "[Parallel(n_jobs=-1)]: Using backend LokyBackend with 8 concurrent workers.\n",
      "[Parallel(n_jobs=-1)]: Done  25 tasks      | elapsed:    3.7s\n",
      "[Parallel(n_jobs=-1)]: Done 146 tasks      | elapsed:   24.2s\n",
      "[Parallel(n_jobs=-1)]: Done 349 tasks      | elapsed:  1.3min\n",
      "[Parallel(n_jobs=-1)]: Done 632 tasks      | elapsed:  2.5min\n",
      "[Parallel(n_jobs=-1)]: Done 997 tasks      | elapsed:  3.8min\n",
      "[Parallel(n_jobs=-1)]: Done 1080 out of 1080 | elapsed:  4.2min finished\n"
     ]
    },
    {
     "data": {
      "text/plain": [
       "GridSearchCV(cv=10, error_score=nan,\n",
       "             estimator=GradientBoostingClassifier(ccp_alpha=0.0,\n",
       "                                                  criterion='friedman_mse',\n",
       "                                                  init=None, learning_rate=0.1,\n",
       "                                                  loss='deviance', max_depth=3,\n",
       "                                                  max_features=None,\n",
       "                                                  max_leaf_nodes=None,\n",
       "                                                  min_impurity_decrease=0.0,\n",
       "                                                  min_impurity_split=None,\n",
       "                                                  min_samples_leaf=1,\n",
       "                                                  min_samples_split=2,\n",
       "                                                  min_weight_fraction_leaf=0.0,\n",
       "                                                  n_estimators=100,\n",
       "                                                  n_iter_no_...\n",
       "                                                  presort='deprecated',\n",
       "                                                  random_state=None,\n",
       "                                                  subsample=1.0, tol=0.0001,\n",
       "                                                  validation_fraction=0.1,\n",
       "                                                  verbose=0, warm_start=False),\n",
       "             iid='deprecated', n_jobs=-1,\n",
       "             param_grid={'learning_rate': [0.001, 0.01, 0.1, 0.05],\n",
       "                         'max_depth': [3, 5, 10],\n",
       "                         'min_samples_split': [2, 5, 10],\n",
       "                         'n_estimators': [100, 500, 100]},\n",
       "             pre_dispatch='2*n_jobs', refit=True, return_train_score=False,\n",
       "             scoring=None, verbose=2)"
      ]
     },
     "execution_count": 180,
     "metadata": {},
     "output_type": "execute_result"
    }
   ],
   "source": [
    "gbm_cv.fit(X_train, y_train)"
   ]
  },
  {
   "cell_type": "code",
   "execution_count": 181,
   "metadata": {},
   "outputs": [
    {
     "name": "stdout",
     "output_type": "stream",
     "text": [
      "En iyi parametreler: {'learning_rate': 0.1, 'max_depth': 10, 'min_samples_split': 10, 'n_estimators': 100}\n"
     ]
    }
   ],
   "source": [
    "print(\"En iyi parametreler: \" + str(gbm_cv.best_params_))"
   ]
  },
  {
   "cell_type": "code",
   "execution_count": 182,
   "metadata": {},
   "outputs": [],
   "source": [
    "gbm = GradientBoostingClassifier(learning_rate = 0.01, \n",
    "                                 max_depth = 10,\n",
    "                                min_samples_split = 10,\n",
    "                                n_estimators = 100)"
   ]
  },
  {
   "cell_type": "code",
   "execution_count": 183,
   "metadata": {},
   "outputs": [],
   "source": [
    "gbm_tuned =  gbm.fit(X_train,y_train)"
   ]
  },
  {
   "cell_type": "code",
   "execution_count": 184,
   "metadata": {},
   "outputs": [
    {
     "data": {
      "text/plain": [
       "0.9455445544554455"
      ]
     },
     "execution_count": 184,
     "metadata": {},
     "output_type": "execute_result"
    }
   ],
   "source": [
    "y_pred = gbm_tuned.predict(X_test)\n",
    "accuracy_score(y_test, y_pred)"
   ]
  },
  {
   "cell_type": "code",
   "execution_count": null,
   "metadata": {},
   "outputs": [],
   "source": []
  },
  {
   "cell_type": "markdown",
   "metadata": {},
   "source": [
    "# XGBoost"
   ]
  },
  {
   "cell_type": "code",
   "execution_count": 185,
   "metadata": {},
   "outputs": [],
   "source": [
    "data = pd.read_csv(\"bankdata.csv\")\n",
    "df = data.copy()\n",
    "df = df.dropna()\n",
    "\n",
    "\n",
    "dummy_data = pd.get_dummies(data[[\"job\",\"reason\"]])\n",
    "y = df[\"bad\"]\n",
    "X =df.drop([\"job\",\"reason\",\"bad\"],axis=1)\n",
    "\n",
    "X_train, X_test, y_train, y_test = train_test_split(X, y, \n",
    "                                                    test_size=0.20, \n",
    "                                                    random_state=42)"
   ]
  },
  {
   "cell_type": "code",
   "execution_count": 186,
   "metadata": {},
   "outputs": [
    {
     "name": "stdout",
     "output_type": "stream",
     "text": [
      "Requirement already satisfied: xgboost in c:\\users\\msaka\\anaconda3\\lib\\site-packages (1.1.1)\n",
      "Requirement already satisfied: numpy in c:\\users\\msaka\\anaconda3\\lib\\site-packages (from xgboost) (1.18.1)\n",
      "Requirement already satisfied: scipy in c:\\users\\msaka\\anaconda3\\lib\\site-packages (from xgboost) (1.4.1)\n"
     ]
    }
   ],
   "source": [
    "!pip install xgboost"
   ]
  },
  {
   "cell_type": "code",
   "execution_count": 187,
   "metadata": {},
   "outputs": [],
   "source": [
    "from xgboost import XGBClassifier"
   ]
  },
  {
   "cell_type": "code",
   "execution_count": 188,
   "metadata": {},
   "outputs": [],
   "source": [
    "xgb_model = XGBClassifier().fit(X_train, y_train)"
   ]
  },
  {
   "cell_type": "code",
   "execution_count": 189,
   "metadata": {},
   "outputs": [
    {
     "data": {
      "text/plain": [
       "XGBClassifier(base_score=0.5, booster='gbtree', colsample_bylevel=1,\n",
       "              colsample_bynode=1, colsample_bytree=1, gamma=0, gpu_id=-1,\n",
       "              importance_type='gain', interaction_constraints='',\n",
       "              learning_rate=0.300000012, max_delta_step=0, max_depth=6,\n",
       "              min_child_weight=1, missing=nan, monotone_constraints='()',\n",
       "              n_estimators=100, n_jobs=0, num_parallel_tree=1,\n",
       "              objective='binary:logistic', random_state=0, reg_alpha=0,\n",
       "              reg_lambda=1, scale_pos_weight=1, subsample=1,\n",
       "              tree_method='exact', validate_parameters=1, verbosity=None)"
      ]
     },
     "execution_count": 189,
     "metadata": {},
     "output_type": "execute_result"
    }
   ],
   "source": [
    "xgb_model"
   ]
  },
  {
   "cell_type": "code",
   "execution_count": 190,
   "metadata": {},
   "outputs": [
    {
     "data": {
      "text/plain": [
       "0.9603960396039604"
      ]
     },
     "execution_count": 190,
     "metadata": {},
     "output_type": "execute_result"
    }
   ],
   "source": [
    "y_pred = xgb_model.predict(X_test)\n",
    "accuracy_score(y_test, y_pred)"
   ]
  },
  {
   "cell_type": "markdown",
   "metadata": {},
   "source": [
    "## Model Tuning"
   ]
  },
  {
   "cell_type": "code",
   "execution_count": 191,
   "metadata": {},
   "outputs": [
    {
     "data": {
      "text/plain": [
       "XGBClassifier(base_score=0.5, booster='gbtree', colsample_bylevel=1,\n",
       "              colsample_bynode=1, colsample_bytree=1, gamma=0, gpu_id=-1,\n",
       "              importance_type='gain', interaction_constraints='',\n",
       "              learning_rate=0.300000012, max_delta_step=0, max_depth=6,\n",
       "              min_child_weight=1, missing=nan, monotone_constraints='()',\n",
       "              n_estimators=100, n_jobs=0, num_parallel_tree=1,\n",
       "              objective='binary:logistic', random_state=0, reg_alpha=0,\n",
       "              reg_lambda=1, scale_pos_weight=1, subsample=1,\n",
       "              tree_method='exact', validate_parameters=1, verbosity=None)"
      ]
     },
     "execution_count": 191,
     "metadata": {},
     "output_type": "execute_result"
    }
   ],
   "source": [
    "xgb_model"
   ]
  },
  {
   "cell_type": "code",
   "execution_count": 192,
   "metadata": {},
   "outputs": [],
   "source": [
    "xgb_params = {\n",
    "        'n_estimators': [100, 500, 1000, 2000],\n",
    "        'subsample': [0.6, 0.8, 1.0],\n",
    "        'max_depth': [3, 4, 5,6],\n",
    "        'learning_rate': [0.1,0.01,0.02,0.05],\n",
    "        \"min_samples_split\": [2,5,10]}"
   ]
  },
  {
   "cell_type": "code",
   "execution_count": 193,
   "metadata": {},
   "outputs": [],
   "source": [
    "xgb = XGBClassifier()\n",
    "\n",
    "xgb_cv_model = GridSearchCV(xgb, xgb_params, cv = 10, n_jobs = -1, verbose = 2)"
   ]
  },
  {
   "cell_type": "code",
   "execution_count": 194,
   "metadata": {},
   "outputs": [
    {
     "name": "stdout",
     "output_type": "stream",
     "text": [
      "Fitting 10 folds for each of 576 candidates, totalling 5760 fits\n"
     ]
    },
    {
     "name": "stderr",
     "output_type": "stream",
     "text": [
      "[Parallel(n_jobs=-1)]: Using backend LokyBackend with 8 concurrent workers.\n",
      "[Parallel(n_jobs=-1)]: Done  25 tasks      | elapsed:    2.4s\n",
      "[Parallel(n_jobs=-1)]: Done 146 tasks      | elapsed:   28.5s\n",
      "[Parallel(n_jobs=-1)]: Done 349 tasks      | elapsed:  1.3min\n",
      "[Parallel(n_jobs=-1)]: Done 632 tasks      | elapsed:  2.4min\n",
      "[Parallel(n_jobs=-1)]: Done 997 tasks      | elapsed:  4.0min\n",
      "[Parallel(n_jobs=-1)]: Done 1442 tasks      | elapsed:  6.0min\n",
      "[Parallel(n_jobs=-1)]: Done 1969 tasks      | elapsed:  7.9min\n",
      "[Parallel(n_jobs=-1)]: Done 2576 tasks      | elapsed: 11.0min\n",
      "[Parallel(n_jobs=-1)]: Done 3265 tasks      | elapsed: 14.5min\n",
      "[Parallel(n_jobs=-1)]: Done 4034 tasks      | elapsed: 18.6min\n",
      "[Parallel(n_jobs=-1)]: Done 4885 tasks      | elapsed: 23.0min\n",
      "[Parallel(n_jobs=-1)]: Done 5760 out of 5760 | elapsed: 27.3min finished\n"
     ]
    },
    {
     "name": "stdout",
     "output_type": "stream",
     "text": [
      "[09:36:06] WARNING: C:\\Users\\Administrator\\workspace\\xgboost-win64_release_1.1.0\\src\\learner.cc:480: \n",
      "Parameters: { min_samples_split } might not be used.\n",
      "\n",
      "  This may not be accurate due to some parameters are only used in language bindings but\n",
      "  passed down to XGBoost core.  Or some parameters are not used but slip through this\n",
      "  verification. Please open an issue if you find above cases.\n",
      "\n",
      "\n"
     ]
    },
    {
     "data": {
      "text/plain": [
       "GridSearchCV(cv=10, error_score=nan,\n",
       "             estimator=XGBClassifier(base_score=None, booster=None,\n",
       "                                     colsample_bylevel=None,\n",
       "                                     colsample_bynode=None,\n",
       "                                     colsample_bytree=None, gamma=None,\n",
       "                                     gpu_id=None, importance_type='gain',\n",
       "                                     interaction_constraints=None,\n",
       "                                     learning_rate=None, max_delta_step=None,\n",
       "                                     max_depth=None, min_child_weight=None,\n",
       "                                     missing=nan, monotone_constraints=None,\n",
       "                                     n_esti...\n",
       "                                     reg_lambda=None, scale_pos_weight=None,\n",
       "                                     subsample=None, tree_method=None,\n",
       "                                     validate_parameters=None, verbosity=None),\n",
       "             iid='deprecated', n_jobs=-1,\n",
       "             param_grid={'learning_rate': [0.1, 0.01, 0.02, 0.05],\n",
       "                         'max_depth': [3, 4, 5, 6],\n",
       "                         'min_samples_split': [2, 5, 10],\n",
       "                         'n_estimators': [100, 500, 1000, 2000],\n",
       "                         'subsample': [0.6, 0.8, 1.0]},\n",
       "             pre_dispatch='2*n_jobs', refit=True, return_train_score=False,\n",
       "             scoring=None, verbose=2)"
      ]
     },
     "execution_count": 194,
     "metadata": {},
     "output_type": "execute_result"
    }
   ],
   "source": [
    "xgb_cv_model.fit(X_train, y_train)"
   ]
  },
  {
   "cell_type": "code",
   "execution_count": 195,
   "metadata": {},
   "outputs": [
    {
     "data": {
      "text/plain": [
       "{'learning_rate': 0.05,\n",
       " 'max_depth': 6,\n",
       " 'min_samples_split': 2,\n",
       " 'n_estimators': 1000,\n",
       " 'subsample': 0.8}"
      ]
     },
     "execution_count": 195,
     "metadata": {},
     "output_type": "execute_result"
    }
   ],
   "source": [
    "xgb_cv_model.best_params_"
   ]
  },
  {
   "cell_type": "code",
   "execution_count": 196,
   "metadata": {},
   "outputs": [],
   "source": [
    "xgb = XGBClassifier(learning_rate = 0.05, \n",
    "                    max_depth = 6,\n",
    "                    min_samples_split = 2,\n",
    "                    n_estimators = 1000,\n",
    "                    subsample = 0.8)"
   ]
  },
  {
   "cell_type": "code",
   "execution_count": 197,
   "metadata": {},
   "outputs": [
    {
     "name": "stdout",
     "output_type": "stream",
     "text": [
      "[09:36:08] WARNING: C:\\Users\\Administrator\\workspace\\xgboost-win64_release_1.1.0\\src\\learner.cc:480: \n",
      "Parameters: { min_samples_split } might not be used.\n",
      "\n",
      "  This may not be accurate due to some parameters are only used in language bindings but\n",
      "  passed down to XGBoost core.  Or some parameters are not used but slip through this\n",
      "  verification. Please open an issue if you find above cases.\n",
      "\n",
      "\n"
     ]
    }
   ],
   "source": [
    "xgb_tuned =  xgb.fit(X_train,y_train)"
   ]
  },
  {
   "cell_type": "code",
   "execution_count": 198,
   "metadata": {},
   "outputs": [
    {
     "data": {
      "text/plain": [
       "0.9579207920792079"
      ]
     },
     "execution_count": 198,
     "metadata": {},
     "output_type": "execute_result"
    }
   ],
   "source": [
    "y_pred = xgb_tuned.predict(X_test)\n",
    "accuracy_score(y_test, y_pred)"
   ]
  },
  {
   "cell_type": "markdown",
   "metadata": {},
   "source": [
    "## LightGBM"
   ]
  },
  {
   "cell_type": "code",
   "execution_count": 199,
   "metadata": {},
   "outputs": [],
   "source": [
    "data = pd.read_csv(\"bankdata.csv\")\n",
    "df = data.copy()\n",
    "df = df.dropna()\n",
    "\n",
    "\n",
    "dummy_data = pd.get_dummies(data[[\"job\",\"reason\"]])\n",
    "y = df[\"bad\"]\n",
    "X =df.drop([\"job\",\"reason\",\"bad\"],axis=1)\n",
    "\n",
    "X_train, X_test, y_train, y_test = train_test_split(X, y, \n",
    "                                                    test_size=0.20, \n",
    "                                                    random_state=42)"
   ]
  },
  {
   "cell_type": "code",
   "execution_count": 200,
   "metadata": {},
   "outputs": [],
   "source": [
    "from lightgbm import LGBMClassifier"
   ]
  },
  {
   "cell_type": "code",
   "execution_count": 201,
   "metadata": {},
   "outputs": [],
   "source": [
    "lgbm_model = LGBMClassifier().fit(X_train, y_train)"
   ]
  },
  {
   "cell_type": "code",
   "execution_count": 202,
   "metadata": {},
   "outputs": [
    {
     "data": {
      "text/plain": [
       "0.9603960396039604"
      ]
     },
     "execution_count": 202,
     "metadata": {},
     "output_type": "execute_result"
    }
   ],
   "source": [
    "y_pred = lgbm_model.predict(X_test)\n",
    "accuracy_score(y_test, y_pred)"
   ]
  },
  {
   "cell_type": "markdown",
   "metadata": {},
   "source": [
    "### Model Tuning"
   ]
  },
  {
   "cell_type": "code",
   "execution_count": 203,
   "metadata": {},
   "outputs": [
    {
     "data": {
      "text/plain": [
       "LGBMClassifier(boosting_type='gbdt', class_weight=None, colsample_bytree=1.0,\n",
       "               importance_type='split', learning_rate=0.1, max_depth=-1,\n",
       "               min_child_samples=20, min_child_weight=0.001, min_split_gain=0.0,\n",
       "               n_estimators=100, n_jobs=-1, num_leaves=31, objective=None,\n",
       "               random_state=None, reg_alpha=0.0, reg_lambda=0.0, silent=True,\n",
       "               subsample=1.0, subsample_for_bin=200000, subsample_freq=0)"
      ]
     },
     "execution_count": 203,
     "metadata": {},
     "output_type": "execute_result"
    }
   ],
   "source": [
    "lgbm_model"
   ]
  },
  {
   "cell_type": "code",
   "execution_count": 204,
   "metadata": {},
   "outputs": [],
   "source": [
    "lgbm_params = {\n",
    "        'n_estimators': [100, 500, 1000, 2000],\n",
    "        'subsample': [0.6, 0.8, 1.0],\n",
    "        'max_depth': [3, 4, 5,6],\n",
    "        'learning_rate': [0.1,0.01,0.02,0.05],\n",
    "        \"min_child_samples\": [5,10,20]}"
   ]
  },
  {
   "cell_type": "code",
   "execution_count": 205,
   "metadata": {},
   "outputs": [],
   "source": [
    "lgbm = LGBMClassifier()\n",
    "\n",
    "lgbm_cv_model = GridSearchCV(lgbm, lgbm_params, \n",
    "                             cv = 10, \n",
    "                             n_jobs = -1, \n",
    "                             verbose = 2)"
   ]
  },
  {
   "cell_type": "code",
   "execution_count": 206,
   "metadata": {},
   "outputs": [
    {
     "name": "stdout",
     "output_type": "stream",
     "text": [
      "Fitting 10 folds for each of 576 candidates, totalling 5760 fits\n"
     ]
    },
    {
     "name": "stderr",
     "output_type": "stream",
     "text": [
      "[Parallel(n_jobs=-1)]: Using backend LokyBackend with 8 concurrent workers.\n",
      "[Parallel(n_jobs=-1)]: Done  25 tasks      | elapsed:    0.7s\n",
      "[Parallel(n_jobs=-1)]: Done 178 tasks      | elapsed:   11.0s\n",
      "[Parallel(n_jobs=-1)]: Done 381 tasks      | elapsed:   26.9s\n",
      "[Parallel(n_jobs=-1)]: Done 664 tasks      | elapsed:   52.1s\n",
      "[Parallel(n_jobs=-1)]: Done 1029 tasks      | elapsed:  1.5min\n",
      "[Parallel(n_jobs=-1)]: Done 1474 tasks      | elapsed:  2.3min\n",
      "[Parallel(n_jobs=-1)]: Done 2001 tasks      | elapsed:  3.1min\n",
      "[Parallel(n_jobs=-1)]: Done 2608 tasks      | elapsed:  4.6min\n",
      "[Parallel(n_jobs=-1)]: Done 3297 tasks      | elapsed:  6.1min\n",
      "[Parallel(n_jobs=-1)]: Done 4066 tasks      | elapsed:  8.0min\n",
      "[Parallel(n_jobs=-1)]: Done 4917 tasks      | elapsed:  9.7min\n",
      "[Parallel(n_jobs=-1)]: Done 5760 out of 5760 | elapsed: 11.8min finished\n"
     ]
    },
    {
     "data": {
      "text/plain": [
       "GridSearchCV(cv=10, error_score=nan,\n",
       "             estimator=LGBMClassifier(boosting_type='gbdt', class_weight=None,\n",
       "                                      colsample_bytree=1.0,\n",
       "                                      importance_type='split',\n",
       "                                      learning_rate=0.1, max_depth=-1,\n",
       "                                      min_child_samples=20,\n",
       "                                      min_child_weight=0.001,\n",
       "                                      min_split_gain=0.0, n_estimators=100,\n",
       "                                      n_jobs=-1, num_leaves=31, objective=None,\n",
       "                                      random_state=None, reg_alpha=0.0,\n",
       "                                      reg_lambda=0.0, silent=True,\n",
       "                                      subsample=1.0, subsample_for_bin=200000,\n",
       "                                      subsample_freq=0),\n",
       "             iid='deprecated', n_jobs=-1,\n",
       "             param_grid={'learning_rate': [0.1, 0.01, 0.02, 0.05],\n",
       "                         'max_depth': [3, 4, 5, 6],\n",
       "                         'min_child_samples': [5, 10, 20],\n",
       "                         'n_estimators': [100, 500, 1000, 2000],\n",
       "                         'subsample': [0.6, 0.8, 1.0]},\n",
       "             pre_dispatch='2*n_jobs', refit=True, return_train_score=False,\n",
       "             scoring=None, verbose=2)"
      ]
     },
     "execution_count": 206,
     "metadata": {},
     "output_type": "execute_result"
    }
   ],
   "source": [
    "lgbm_cv_model.fit(X_train, y_train)"
   ]
  },
  {
   "cell_type": "code",
   "execution_count": 207,
   "metadata": {},
   "outputs": [
    {
     "data": {
      "text/plain": [
       "{'learning_rate': 0.1,\n",
       " 'max_depth': 4,\n",
       " 'min_child_samples': 10,\n",
       " 'n_estimators': 2000,\n",
       " 'subsample': 0.6}"
      ]
     },
     "execution_count": 207,
     "metadata": {},
     "output_type": "execute_result"
    }
   ],
   "source": [
    "lgbm_cv_model.best_params_"
   ]
  },
  {
   "cell_type": "code",
   "execution_count": 208,
   "metadata": {},
   "outputs": [],
   "source": [
    "lgbm = LGBMClassifier(learning_rate = 0.1, \n",
    "                       max_depth = 4,\n",
    "                       subsample = 0.6,\n",
    "                       n_estimators = 2000,\n",
    "                       min_child_samples = 10)"
   ]
  },
  {
   "cell_type": "code",
   "execution_count": 209,
   "metadata": {},
   "outputs": [],
   "source": [
    "lgbm_tuned = lgbm.fit(X_train,y_train)"
   ]
  },
  {
   "cell_type": "code",
   "execution_count": 210,
   "metadata": {},
   "outputs": [
    {
     "data": {
      "text/plain": [
       "0.9529702970297029"
      ]
     },
     "execution_count": 210,
     "metadata": {},
     "output_type": "execute_result"
    }
   ],
   "source": [
    "y_pred = lgbm_tuned.predict(X_test)\n",
    "accuracy_score(y_test, y_pred)"
   ]
  },
  {
   "cell_type": "markdown",
   "metadata": {},
   "source": [
    "## CatBoost"
   ]
  },
  {
   "cell_type": "markdown",
   "metadata": {},
   "source": [
    "## Model & Tahmin"
   ]
  },
  {
   "cell_type": "code",
   "execution_count": 211,
   "metadata": {},
   "outputs": [],
   "source": [
    "data = pd.read_csv(\"bankdata.csv\")\n",
    "df = data.copy()\n",
    "df = df.dropna()\n",
    "\n",
    "\n",
    "dummy_data = pd.get_dummies(data[[\"job\",\"reason\"]])\n",
    "y = df[\"bad\"]\n",
    "X =df.drop([\"job\",\"reason\",\"bad\"],axis=1)\n",
    "\n",
    "X_train, X_test, y_train, y_test = train_test_split(X, y, \n",
    "                                                    test_size=0.20, \n",
    "                                                    random_state=42)"
   ]
  },
  {
   "cell_type": "code",
   "execution_count": 212,
   "metadata": {},
   "outputs": [],
   "source": [
    "from catboost import CatBoostClassifier"
   ]
  },
  {
   "cell_type": "code",
   "execution_count": 213,
   "metadata": {},
   "outputs": [
    {
     "name": "stdout",
     "output_type": "stream",
     "text": [
      "Learning rate set to 0.012639\n",
      "0:\tlearn: 0.6783924\ttotal: 551ms\tremaining: 9m 10s\n",
      "1:\tlearn: 0.6637349\ttotal: 557ms\tremaining: 4m 38s\n",
      "2:\tlearn: 0.6493370\ttotal: 560ms\tremaining: 3m 5s\n",
      "3:\tlearn: 0.6364432\ttotal: 562ms\tremaining: 2m 19s\n",
      "4:\tlearn: 0.6229083\ttotal: 565ms\tremaining: 1m 52s\n",
      "5:\tlearn: 0.6101687\ttotal: 568ms\tremaining: 1m 34s\n",
      "6:\tlearn: 0.5980989\ttotal: 570ms\tremaining: 1m 20s\n",
      "7:\tlearn: 0.5860459\ttotal: 573ms\tremaining: 1m 11s\n",
      "8:\tlearn: 0.5744877\ttotal: 576ms\tremaining: 1m 3s\n",
      "9:\tlearn: 0.5634189\ttotal: 579ms\tremaining: 57.3s\n",
      "10:\tlearn: 0.5524676\ttotal: 581ms\tremaining: 52.3s\n",
      "11:\tlearn: 0.5418449\ttotal: 584ms\tremaining: 48.1s\n",
      "12:\tlearn: 0.5311100\ttotal: 586ms\tremaining: 44.5s\n",
      "13:\tlearn: 0.5216870\ttotal: 589ms\tremaining: 41.4s\n",
      "14:\tlearn: 0.5137869\ttotal: 591ms\tremaining: 38.8s\n",
      "15:\tlearn: 0.5043756\ttotal: 593ms\tremaining: 36.5s\n",
      "16:\tlearn: 0.4964503\ttotal: 595ms\tremaining: 34.4s\n",
      "17:\tlearn: 0.4875034\ttotal: 598ms\tremaining: 32.6s\n",
      "18:\tlearn: 0.4779101\ttotal: 601ms\tremaining: 31s\n",
      "19:\tlearn: 0.4690491\ttotal: 603ms\tremaining: 29.5s\n",
      "20:\tlearn: 0.4610724\ttotal: 605ms\tremaining: 28.2s\n",
      "21:\tlearn: 0.4530468\ttotal: 608ms\tremaining: 27s\n",
      "22:\tlearn: 0.4457997\ttotal: 610ms\tremaining: 25.9s\n",
      "23:\tlearn: 0.4381321\ttotal: 612ms\tremaining: 24.9s\n",
      "24:\tlearn: 0.4306360\ttotal: 615ms\tremaining: 24s\n",
      "25:\tlearn: 0.4243945\ttotal: 617ms\tremaining: 23.1s\n",
      "26:\tlearn: 0.4171903\ttotal: 619ms\tremaining: 22.3s\n",
      "27:\tlearn: 0.4103180\ttotal: 622ms\tremaining: 21.6s\n",
      "28:\tlearn: 0.4048006\ttotal: 624ms\tremaining: 20.9s\n",
      "29:\tlearn: 0.3987859\ttotal: 626ms\tremaining: 20.2s\n",
      "30:\tlearn: 0.3929911\ttotal: 628ms\tremaining: 19.6s\n",
      "31:\tlearn: 0.3870771\ttotal: 631ms\tremaining: 19.1s\n",
      "32:\tlearn: 0.3820033\ttotal: 633ms\tremaining: 18.6s\n",
      "33:\tlearn: 0.3767563\ttotal: 635ms\tremaining: 18s\n",
      "34:\tlearn: 0.3714458\ttotal: 637ms\tremaining: 17.6s\n",
      "35:\tlearn: 0.3663411\ttotal: 640ms\tremaining: 17.1s\n",
      "36:\tlearn: 0.3616727\ttotal: 642ms\tremaining: 16.7s\n",
      "37:\tlearn: 0.3563737\ttotal: 645ms\tremaining: 16.3s\n",
      "38:\tlearn: 0.3517152\ttotal: 648ms\tremaining: 16s\n",
      "39:\tlearn: 0.3477325\ttotal: 650ms\tremaining: 15.6s\n",
      "40:\tlearn: 0.3441832\ttotal: 653ms\tremaining: 15.3s\n",
      "41:\tlearn: 0.3403280\ttotal: 656ms\tremaining: 15s\n",
      "42:\tlearn: 0.3364158\ttotal: 658ms\tremaining: 14.7s\n",
      "43:\tlearn: 0.3324138\ttotal: 661ms\tremaining: 14.4s\n",
      "44:\tlearn: 0.3283731\ttotal: 664ms\tremaining: 14.1s\n",
      "45:\tlearn: 0.3246677\ttotal: 666ms\tremaining: 13.8s\n",
      "46:\tlearn: 0.3206065\ttotal: 669ms\tremaining: 13.6s\n",
      "47:\tlearn: 0.3169854\ttotal: 672ms\tremaining: 13.3s\n",
      "48:\tlearn: 0.3135029\ttotal: 675ms\tremaining: 13.1s\n",
      "49:\tlearn: 0.3106526\ttotal: 678ms\tremaining: 12.9s\n",
      "50:\tlearn: 0.3074122\ttotal: 681ms\tremaining: 12.7s\n",
      "51:\tlearn: 0.3035366\ttotal: 684ms\tremaining: 12.5s\n",
      "52:\tlearn: 0.3007675\ttotal: 687ms\tremaining: 12.3s\n",
      "53:\tlearn: 0.2976591\ttotal: 689ms\tremaining: 12.1s\n",
      "54:\tlearn: 0.2947596\ttotal: 691ms\tremaining: 11.9s\n",
      "55:\tlearn: 0.2921356\ttotal: 694ms\tremaining: 11.7s\n",
      "56:\tlearn: 0.2895216\ttotal: 696ms\tremaining: 11.5s\n",
      "57:\tlearn: 0.2871343\ttotal: 699ms\tremaining: 11.3s\n",
      "58:\tlearn: 0.2842665\ttotal: 701ms\tremaining: 11.2s\n",
      "59:\tlearn: 0.2820027\ttotal: 703ms\tremaining: 11s\n",
      "60:\tlearn: 0.2801304\ttotal: 706ms\tremaining: 10.9s\n",
      "61:\tlearn: 0.2777070\ttotal: 708ms\tremaining: 10.7s\n",
      "62:\tlearn: 0.2751253\ttotal: 710ms\tremaining: 10.6s\n",
      "63:\tlearn: 0.2726917\ttotal: 713ms\tremaining: 10.4s\n",
      "64:\tlearn: 0.2706126\ttotal: 716ms\tremaining: 10.3s\n",
      "65:\tlearn: 0.2688883\ttotal: 718ms\tremaining: 10.2s\n",
      "66:\tlearn: 0.2670147\ttotal: 721ms\tremaining: 10s\n",
      "67:\tlearn: 0.2644371\ttotal: 723ms\tremaining: 9.91s\n",
      "68:\tlearn: 0.2624535\ttotal: 725ms\tremaining: 9.79s\n",
      "69:\tlearn: 0.2601450\ttotal: 728ms\tremaining: 9.67s\n",
      "70:\tlearn: 0.2585848\ttotal: 730ms\tremaining: 9.55s\n",
      "71:\tlearn: 0.2566623\ttotal: 733ms\tremaining: 9.44s\n",
      "72:\tlearn: 0.2544559\ttotal: 735ms\tremaining: 9.34s\n",
      "73:\tlearn: 0.2524390\ttotal: 738ms\tremaining: 9.23s\n",
      "74:\tlearn: 0.2511906\ttotal: 740ms\tremaining: 9.13s\n",
      "75:\tlearn: 0.2494448\ttotal: 743ms\tremaining: 9.03s\n",
      "76:\tlearn: 0.2480977\ttotal: 745ms\tremaining: 8.93s\n",
      "77:\tlearn: 0.2466523\ttotal: 748ms\tremaining: 8.84s\n",
      "78:\tlearn: 0.2450214\ttotal: 750ms\tremaining: 8.74s\n",
      "79:\tlearn: 0.2438095\ttotal: 753ms\tremaining: 8.65s\n",
      "80:\tlearn: 0.2422669\ttotal: 755ms\tremaining: 8.56s\n",
      "81:\tlearn: 0.2407037\ttotal: 757ms\tremaining: 8.47s\n",
      "82:\tlearn: 0.2388249\ttotal: 759ms\tremaining: 8.39s\n",
      "83:\tlearn: 0.2374271\ttotal: 762ms\tremaining: 8.31s\n",
      "84:\tlearn: 0.2359492\ttotal: 764ms\tremaining: 8.23s\n",
      "85:\tlearn: 0.2347707\ttotal: 767ms\tremaining: 8.15s\n",
      "86:\tlearn: 0.2335956\ttotal: 769ms\tremaining: 8.07s\n",
      "87:\tlearn: 0.2325399\ttotal: 771ms\tremaining: 8s\n",
      "88:\tlearn: 0.2314647\ttotal: 774ms\tremaining: 7.92s\n",
      "89:\tlearn: 0.2304517\ttotal: 776ms\tremaining: 7.85s\n",
      "90:\tlearn: 0.2295370\ttotal: 779ms\tremaining: 7.78s\n",
      "91:\tlearn: 0.2284065\ttotal: 781ms\tremaining: 7.71s\n",
      "92:\tlearn: 0.2273650\ttotal: 783ms\tremaining: 7.64s\n",
      "93:\tlearn: 0.2260108\ttotal: 786ms\tremaining: 7.57s\n",
      "94:\tlearn: 0.2247949\ttotal: 788ms\tremaining: 7.51s\n",
      "95:\tlearn: 0.2236113\ttotal: 790ms\tremaining: 7.44s\n",
      "96:\tlearn: 0.2227299\ttotal: 793ms\tremaining: 7.38s\n",
      "97:\tlearn: 0.2217283\ttotal: 795ms\tremaining: 7.32s\n",
      "98:\tlearn: 0.2204356\ttotal: 798ms\tremaining: 7.26s\n",
      "99:\tlearn: 0.2195299\ttotal: 800ms\tremaining: 7.2s\n",
      "100:\tlearn: 0.2184261\ttotal: 802ms\tremaining: 7.14s\n",
      "101:\tlearn: 0.2174084\ttotal: 804ms\tremaining: 7.08s\n",
      "102:\tlearn: 0.2164425\ttotal: 807ms\tremaining: 7.02s\n",
      "103:\tlearn: 0.2156971\ttotal: 809ms\tremaining: 6.97s\n",
      "104:\tlearn: 0.2147829\ttotal: 811ms\tremaining: 6.91s\n",
      "105:\tlearn: 0.2138295\ttotal: 814ms\tremaining: 6.86s\n",
      "106:\tlearn: 0.2130278\ttotal: 816ms\tremaining: 6.81s\n",
      "107:\tlearn: 0.2120087\ttotal: 819ms\tremaining: 6.76s\n",
      "108:\tlearn: 0.2107601\ttotal: 822ms\tremaining: 6.72s\n",
      "109:\tlearn: 0.2095125\ttotal: 824ms\tremaining: 6.67s\n",
      "110:\tlearn: 0.2085482\ttotal: 827ms\tremaining: 6.62s\n",
      "111:\tlearn: 0.2078082\ttotal: 829ms\tremaining: 6.57s\n",
      "112:\tlearn: 0.2068577\ttotal: 831ms\tremaining: 6.53s\n",
      "113:\tlearn: 0.2060767\ttotal: 834ms\tremaining: 6.48s\n",
      "114:\tlearn: 0.2055906\ttotal: 836ms\tremaining: 6.43s\n",
      "115:\tlearn: 0.2045957\ttotal: 838ms\tremaining: 6.39s\n",
      "116:\tlearn: 0.2040398\ttotal: 841ms\tremaining: 6.34s\n",
      "117:\tlearn: 0.2029690\ttotal: 843ms\tremaining: 6.3s\n",
      "118:\tlearn: 0.2022895\ttotal: 846ms\tremaining: 6.26s\n",
      "119:\tlearn: 0.2014338\ttotal: 849ms\tremaining: 6.22s\n",
      "120:\tlearn: 0.2006149\ttotal: 851ms\tremaining: 6.18s\n",
      "121:\tlearn: 0.2001450\ttotal: 854ms\tremaining: 6.15s\n",
      "122:\tlearn: 0.1994533\ttotal: 857ms\tremaining: 6.11s\n",
      "123:\tlearn: 0.1985630\ttotal: 860ms\tremaining: 6.07s\n",
      "124:\tlearn: 0.1978181\ttotal: 862ms\tremaining: 6.03s\n",
      "125:\tlearn: 0.1971378\ttotal: 865ms\tremaining: 6s\n",
      "126:\tlearn: 0.1966356\ttotal: 867ms\tremaining: 5.96s\n",
      "127:\tlearn: 0.1958491\ttotal: 870ms\tremaining: 5.93s\n",
      "128:\tlearn: 0.1951827\ttotal: 873ms\tremaining: 5.89s\n",
      "129:\tlearn: 0.1945372\ttotal: 875ms\tremaining: 5.86s\n",
      "130:\tlearn: 0.1937530\ttotal: 878ms\tremaining: 5.82s\n",
      "131:\tlearn: 0.1931308\ttotal: 880ms\tremaining: 5.79s\n",
      "132:\tlearn: 0.1925943\ttotal: 884ms\tremaining: 5.76s\n",
      "133:\tlearn: 0.1919563\ttotal: 886ms\tremaining: 5.73s\n",
      "134:\tlearn: 0.1914163\ttotal: 889ms\tremaining: 5.7s\n",
      "135:\tlearn: 0.1907688\ttotal: 892ms\tremaining: 5.66s\n",
      "136:\tlearn: 0.1899202\ttotal: 894ms\tremaining: 5.63s\n",
      "137:\tlearn: 0.1895012\ttotal: 897ms\tremaining: 5.6s\n",
      "138:\tlearn: 0.1889962\ttotal: 899ms\tremaining: 5.57s\n",
      "139:\tlearn: 0.1883525\ttotal: 902ms\tremaining: 5.54s\n",
      "140:\tlearn: 0.1878824\ttotal: 905ms\tremaining: 5.51s\n",
      "141:\tlearn: 0.1872746\ttotal: 907ms\tremaining: 5.48s\n",
      "142:\tlearn: 0.1867879\ttotal: 909ms\tremaining: 5.45s\n",
      "143:\tlearn: 0.1862078\ttotal: 912ms\tremaining: 5.42s\n",
      "144:\tlearn: 0.1855438\ttotal: 914ms\tremaining: 5.39s\n",
      "145:\tlearn: 0.1850304\ttotal: 916ms\tremaining: 5.36s\n",
      "146:\tlearn: 0.1842987\ttotal: 918ms\tremaining: 5.33s\n",
      "147:\tlearn: 0.1838089\ttotal: 921ms\tremaining: 5.3s\n",
      "148:\tlearn: 0.1832855\ttotal: 923ms\tremaining: 5.27s\n",
      "149:\tlearn: 0.1825274\ttotal: 925ms\tremaining: 5.24s\n",
      "150:\tlearn: 0.1817742\ttotal: 928ms\tremaining: 5.22s\n",
      "151:\tlearn: 0.1810353\ttotal: 930ms\tremaining: 5.19s\n",
      "152:\tlearn: 0.1805532\ttotal: 932ms\tremaining: 5.16s\n",
      "153:\tlearn: 0.1800413\ttotal: 935ms\tremaining: 5.13s\n",
      "154:\tlearn: 0.1795671\ttotal: 937ms\tremaining: 5.11s\n",
      "155:\tlearn: 0.1791042\ttotal: 939ms\tremaining: 5.08s\n",
      "156:\tlearn: 0.1785651\ttotal: 941ms\tremaining: 5.05s\n",
      "157:\tlearn: 0.1779282\ttotal: 943ms\tremaining: 5.03s\n",
      "158:\tlearn: 0.1776010\ttotal: 946ms\tremaining: 5s\n",
      "159:\tlearn: 0.1770476\ttotal: 948ms\tremaining: 4.98s\n",
      "160:\tlearn: 0.1765526\ttotal: 950ms\tremaining: 4.95s\n",
      "161:\tlearn: 0.1761632\ttotal: 953ms\tremaining: 4.93s\n",
      "162:\tlearn: 0.1757495\ttotal: 955ms\tremaining: 4.9s\n",
      "163:\tlearn: 0.1753216\ttotal: 957ms\tremaining: 4.88s\n",
      "164:\tlearn: 0.1748058\ttotal: 959ms\tremaining: 4.86s\n",
      "165:\tlearn: 0.1743404\ttotal: 962ms\tremaining: 4.83s\n",
      "166:\tlearn: 0.1738831\ttotal: 964ms\tremaining: 4.81s\n",
      "167:\tlearn: 0.1734093\ttotal: 967ms\tremaining: 4.79s\n",
      "168:\tlearn: 0.1731261\ttotal: 969ms\tremaining: 4.76s\n",
      "169:\tlearn: 0.1726738\ttotal: 971ms\tremaining: 4.74s\n",
      "170:\tlearn: 0.1723998\ttotal: 973ms\tremaining: 4.72s\n",
      "171:\tlearn: 0.1721658\ttotal: 976ms\tremaining: 4.7s\n",
      "172:\tlearn: 0.1719376\ttotal: 978ms\tremaining: 4.67s\n",
      "173:\tlearn: 0.1716612\ttotal: 980ms\tremaining: 4.65s\n",
      "174:\tlearn: 0.1710197\ttotal: 983ms\tremaining: 4.63s\n",
      "175:\tlearn: 0.1706479\ttotal: 985ms\tremaining: 4.61s\n"
     ]
    },
    {
     "name": "stdout",
     "output_type": "stream",
     "text": [
      "176:\tlearn: 0.1701394\ttotal: 988ms\tremaining: 4.59s\n",
      "177:\tlearn: 0.1697857\ttotal: 990ms\tremaining: 4.57s\n",
      "178:\tlearn: 0.1694117\ttotal: 993ms\tremaining: 4.55s\n",
      "179:\tlearn: 0.1689634\ttotal: 995ms\tremaining: 4.53s\n",
      "180:\tlearn: 0.1684034\ttotal: 997ms\tremaining: 4.51s\n",
      "181:\tlearn: 0.1681081\ttotal: 1s\tremaining: 4.5s\n",
      "182:\tlearn: 0.1676114\ttotal: 1s\tremaining: 4.48s\n",
      "183:\tlearn: 0.1671490\ttotal: 1s\tremaining: 4.46s\n",
      "184:\tlearn: 0.1668260\ttotal: 1.01s\tremaining: 4.44s\n",
      "185:\tlearn: 0.1663317\ttotal: 1.01s\tremaining: 4.42s\n",
      "186:\tlearn: 0.1659519\ttotal: 1.01s\tremaining: 4.4s\n",
      "187:\tlearn: 0.1655450\ttotal: 1.01s\tremaining: 4.38s\n",
      "188:\tlearn: 0.1652396\ttotal: 1.02s\tremaining: 4.36s\n",
      "189:\tlearn: 0.1649421\ttotal: 1.02s\tremaining: 4.34s\n",
      "190:\tlearn: 0.1646333\ttotal: 1.02s\tremaining: 4.33s\n",
      "191:\tlearn: 0.1642375\ttotal: 1.02s\tremaining: 4.31s\n",
      "192:\tlearn: 0.1637450\ttotal: 1.03s\tremaining: 4.29s\n",
      "193:\tlearn: 0.1633821\ttotal: 1.03s\tremaining: 4.27s\n",
      "194:\tlearn: 0.1632687\ttotal: 1.03s\tremaining: 4.25s\n",
      "195:\tlearn: 0.1630063\ttotal: 1.03s\tremaining: 4.23s\n",
      "196:\tlearn: 0.1628182\ttotal: 1.03s\tremaining: 4.21s\n",
      "197:\tlearn: 0.1625148\ttotal: 1.04s\tremaining: 4.2s\n",
      "198:\tlearn: 0.1621025\ttotal: 1.04s\tremaining: 4.18s\n",
      "199:\tlearn: 0.1616534\ttotal: 1.04s\tremaining: 4.16s\n",
      "200:\tlearn: 0.1612241\ttotal: 1.04s\tremaining: 4.15s\n",
      "201:\tlearn: 0.1610068\ttotal: 1.04s\tremaining: 4.13s\n",
      "202:\tlearn: 0.1606538\ttotal: 1.05s\tremaining: 4.11s\n",
      "203:\tlearn: 0.1603814\ttotal: 1.05s\tremaining: 4.1s\n",
      "204:\tlearn: 0.1599860\ttotal: 1.05s\tremaining: 4.08s\n",
      "205:\tlearn: 0.1596383\ttotal: 1.05s\tremaining: 4.07s\n",
      "206:\tlearn: 0.1594447\ttotal: 1.06s\tremaining: 4.05s\n",
      "207:\tlearn: 0.1592167\ttotal: 1.06s\tremaining: 4.04s\n",
      "208:\tlearn: 0.1591021\ttotal: 1.06s\tremaining: 4.02s\n",
      "209:\tlearn: 0.1587316\ttotal: 1.06s\tremaining: 4s\n",
      "210:\tlearn: 0.1585453\ttotal: 1.07s\tremaining: 3.99s\n",
      "211:\tlearn: 0.1582921\ttotal: 1.07s\tremaining: 3.97s\n",
      "212:\tlearn: 0.1579978\ttotal: 1.07s\tremaining: 3.96s\n",
      "213:\tlearn: 0.1576116\ttotal: 1.07s\tremaining: 3.94s\n",
      "214:\tlearn: 0.1572941\ttotal: 1.08s\tremaining: 3.93s\n",
      "215:\tlearn: 0.1570711\ttotal: 1.08s\tremaining: 3.92s\n",
      "216:\tlearn: 0.1568960\ttotal: 1.08s\tremaining: 3.9s\n",
      "217:\tlearn: 0.1566823\ttotal: 1.08s\tremaining: 3.89s\n",
      "218:\tlearn: 0.1564037\ttotal: 1.09s\tremaining: 3.87s\n",
      "219:\tlearn: 0.1562386\ttotal: 1.09s\tremaining: 3.86s\n",
      "220:\tlearn: 0.1558578\ttotal: 1.09s\tremaining: 3.85s\n",
      "221:\tlearn: 0.1556442\ttotal: 1.09s\tremaining: 3.83s\n",
      "222:\tlearn: 0.1552907\ttotal: 1.09s\tremaining: 3.82s\n",
      "223:\tlearn: 0.1549348\ttotal: 1.1s\tremaining: 3.8s\n",
      "224:\tlearn: 0.1547524\ttotal: 1.1s\tremaining: 3.79s\n",
      "225:\tlearn: 0.1543415\ttotal: 1.1s\tremaining: 3.78s\n",
      "226:\tlearn: 0.1538972\ttotal: 1.1s\tremaining: 3.76s\n",
      "227:\tlearn: 0.1536116\ttotal: 1.11s\tremaining: 3.75s\n",
      "228:\tlearn: 0.1532522\ttotal: 1.11s\tremaining: 3.74s\n",
      "229:\tlearn: 0.1531013\ttotal: 1.11s\tremaining: 3.72s\n",
      "230:\tlearn: 0.1527384\ttotal: 1.11s\tremaining: 3.71s\n",
      "231:\tlearn: 0.1525754\ttotal: 1.12s\tremaining: 3.7s\n",
      "232:\tlearn: 0.1522640\ttotal: 1.12s\tremaining: 3.69s\n",
      "233:\tlearn: 0.1520768\ttotal: 1.12s\tremaining: 3.67s\n",
      "234:\tlearn: 0.1517728\ttotal: 1.13s\tremaining: 3.66s\n",
      "235:\tlearn: 0.1514953\ttotal: 1.13s\tremaining: 3.65s\n",
      "236:\tlearn: 0.1513882\ttotal: 1.13s\tremaining: 3.64s\n",
      "237:\tlearn: 0.1510389\ttotal: 1.13s\tremaining: 3.63s\n",
      "238:\tlearn: 0.1507111\ttotal: 1.14s\tremaining: 3.62s\n",
      "239:\tlearn: 0.1504368\ttotal: 1.14s\tremaining: 3.6s\n",
      "240:\tlearn: 0.1500593\ttotal: 1.14s\tremaining: 3.59s\n",
      "241:\tlearn: 0.1498790\ttotal: 1.14s\tremaining: 3.58s\n",
      "242:\tlearn: 0.1497899\ttotal: 1.14s\tremaining: 3.57s\n",
      "243:\tlearn: 0.1493992\ttotal: 1.15s\tremaining: 3.56s\n",
      "244:\tlearn: 0.1490858\ttotal: 1.15s\tremaining: 3.54s\n",
      "245:\tlearn: 0.1488424\ttotal: 1.15s\tremaining: 3.53s\n",
      "246:\tlearn: 0.1486176\ttotal: 1.15s\tremaining: 3.52s\n",
      "247:\tlearn: 0.1485198\ttotal: 1.16s\tremaining: 3.51s\n",
      "248:\tlearn: 0.1483441\ttotal: 1.16s\tremaining: 3.5s\n",
      "249:\tlearn: 0.1482681\ttotal: 1.16s\tremaining: 3.49s\n",
      "250:\tlearn: 0.1480951\ttotal: 1.16s\tremaining: 3.48s\n",
      "251:\tlearn: 0.1478234\ttotal: 1.17s\tremaining: 3.46s\n",
      "252:\tlearn: 0.1476235\ttotal: 1.17s\tremaining: 3.46s\n",
      "253:\tlearn: 0.1475131\ttotal: 1.17s\tremaining: 3.44s\n",
      "254:\tlearn: 0.1472130\ttotal: 1.18s\tremaining: 3.43s\n",
      "255:\tlearn: 0.1469520\ttotal: 1.18s\tremaining: 3.42s\n",
      "256:\tlearn: 0.1466038\ttotal: 1.18s\tremaining: 3.41s\n",
      "257:\tlearn: 0.1462044\ttotal: 1.18s\tremaining: 3.4s\n",
      "258:\tlearn: 0.1460409\ttotal: 1.18s\tremaining: 3.39s\n",
      "259:\tlearn: 0.1458524\ttotal: 1.19s\tremaining: 3.38s\n",
      "260:\tlearn: 0.1456523\ttotal: 1.19s\tremaining: 3.37s\n",
      "261:\tlearn: 0.1453992\ttotal: 1.19s\tremaining: 3.35s\n",
      "262:\tlearn: 0.1451192\ttotal: 1.19s\tremaining: 3.35s\n",
      "263:\tlearn: 0.1449998\ttotal: 1.2s\tremaining: 3.33s\n",
      "264:\tlearn: 0.1449764\ttotal: 1.2s\tremaining: 3.32s\n",
      "265:\tlearn: 0.1448915\ttotal: 1.2s\tremaining: 3.31s\n",
      "266:\tlearn: 0.1447397\ttotal: 1.2s\tremaining: 3.3s\n",
      "267:\tlearn: 0.1445896\ttotal: 1.21s\tremaining: 3.29s\n",
      "268:\tlearn: 0.1443296\ttotal: 1.21s\tremaining: 3.28s\n",
      "269:\tlearn: 0.1440035\ttotal: 1.21s\tremaining: 3.27s\n",
      "270:\tlearn: 0.1438787\ttotal: 1.21s\tremaining: 3.26s\n",
      "271:\tlearn: 0.1437995\ttotal: 1.21s\tremaining: 3.25s\n",
      "272:\tlearn: 0.1436425\ttotal: 1.22s\tremaining: 3.24s\n",
      "273:\tlearn: 0.1433055\ttotal: 1.22s\tremaining: 3.23s\n",
      "274:\tlearn: 0.1430151\ttotal: 1.22s\tremaining: 3.22s\n",
      "275:\tlearn: 0.1429442\ttotal: 1.22s\tremaining: 3.21s\n",
      "276:\tlearn: 0.1427061\ttotal: 1.23s\tremaining: 3.2s\n",
      "277:\tlearn: 0.1424352\ttotal: 1.23s\tremaining: 3.19s\n",
      "278:\tlearn: 0.1422019\ttotal: 1.23s\tremaining: 3.18s\n",
      "279:\tlearn: 0.1420801\ttotal: 1.23s\tremaining: 3.17s\n",
      "280:\tlearn: 0.1418205\ttotal: 1.24s\tremaining: 3.16s\n",
      "281:\tlearn: 0.1416851\ttotal: 1.24s\tremaining: 3.15s\n",
      "282:\tlearn: 0.1416720\ttotal: 1.24s\tremaining: 3.14s\n",
      "283:\tlearn: 0.1416344\ttotal: 1.24s\tremaining: 3.13s\n",
      "284:\tlearn: 0.1414120\ttotal: 1.24s\tremaining: 3.12s\n",
      "285:\tlearn: 0.1412346\ttotal: 1.25s\tremaining: 3.11s\n",
      "286:\tlearn: 0.1410620\ttotal: 1.25s\tremaining: 3.1s\n",
      "287:\tlearn: 0.1409006\ttotal: 1.25s\tremaining: 3.09s\n",
      "288:\tlearn: 0.1406961\ttotal: 1.25s\tremaining: 3.08s\n",
      "289:\tlearn: 0.1405383\ttotal: 1.25s\tremaining: 3.07s\n",
      "290:\tlearn: 0.1401051\ttotal: 1.26s\tremaining: 3.06s\n",
      "291:\tlearn: 0.1398694\ttotal: 1.26s\tremaining: 3.05s\n",
      "292:\tlearn: 0.1397357\ttotal: 1.26s\tremaining: 3.04s\n",
      "293:\tlearn: 0.1394720\ttotal: 1.26s\tremaining: 3.04s\n",
      "294:\tlearn: 0.1391003\ttotal: 1.27s\tremaining: 3.03s\n",
      "295:\tlearn: 0.1389222\ttotal: 1.27s\tremaining: 3.02s\n",
      "296:\tlearn: 0.1387073\ttotal: 1.27s\tremaining: 3.01s\n",
      "297:\tlearn: 0.1385776\ttotal: 1.27s\tremaining: 3s\n",
      "298:\tlearn: 0.1383655\ttotal: 1.27s\tremaining: 2.99s\n",
      "299:\tlearn: 0.1381702\ttotal: 1.28s\tremaining: 2.98s\n",
      "300:\tlearn: 0.1380393\ttotal: 1.28s\tremaining: 2.97s\n",
      "301:\tlearn: 0.1379320\ttotal: 1.28s\tremaining: 2.96s\n",
      "302:\tlearn: 0.1378847\ttotal: 1.28s\tremaining: 2.95s\n",
      "303:\tlearn: 0.1376934\ttotal: 1.29s\tremaining: 2.94s\n",
      "304:\tlearn: 0.1374128\ttotal: 1.29s\tremaining: 2.94s\n",
      "305:\tlearn: 0.1372259\ttotal: 1.29s\tremaining: 2.93s\n",
      "306:\tlearn: 0.1368544\ttotal: 1.29s\tremaining: 2.92s\n",
      "307:\tlearn: 0.1366451\ttotal: 1.29s\tremaining: 2.91s\n",
      "308:\tlearn: 0.1363936\ttotal: 1.3s\tremaining: 2.9s\n",
      "309:\tlearn: 0.1363268\ttotal: 1.3s\tremaining: 2.89s\n",
      "310:\tlearn: 0.1360698\ttotal: 1.3s\tremaining: 2.88s\n",
      "311:\tlearn: 0.1358257\ttotal: 1.3s\tremaining: 2.88s\n",
      "312:\tlearn: 0.1355280\ttotal: 1.31s\tremaining: 2.87s\n",
      "313:\tlearn: 0.1352816\ttotal: 1.31s\tremaining: 2.86s\n",
      "314:\tlearn: 0.1348832\ttotal: 1.31s\tremaining: 2.85s\n",
      "315:\tlearn: 0.1347601\ttotal: 1.31s\tremaining: 2.84s\n",
      "316:\tlearn: 0.1345762\ttotal: 1.31s\tremaining: 2.83s\n",
      "317:\tlearn: 0.1344336\ttotal: 1.32s\tremaining: 2.83s\n",
      "318:\tlearn: 0.1341148\ttotal: 1.32s\tremaining: 2.82s\n",
      "319:\tlearn: 0.1339651\ttotal: 1.32s\tremaining: 2.81s\n",
      "320:\tlearn: 0.1339525\ttotal: 1.33s\tremaining: 2.81s\n",
      "321:\tlearn: 0.1337562\ttotal: 1.33s\tremaining: 2.8s\n",
      "322:\tlearn: 0.1335140\ttotal: 1.33s\tremaining: 2.79s\n",
      "323:\tlearn: 0.1333714\ttotal: 1.33s\tremaining: 2.78s\n",
      "324:\tlearn: 0.1332117\ttotal: 1.34s\tremaining: 2.77s\n",
      "325:\tlearn: 0.1331225\ttotal: 1.34s\tremaining: 2.77s\n",
      "326:\tlearn: 0.1329361\ttotal: 1.34s\tremaining: 2.76s\n",
      "327:\tlearn: 0.1327026\ttotal: 1.34s\tremaining: 2.75s\n",
      "328:\tlearn: 0.1325031\ttotal: 1.34s\tremaining: 2.74s\n",
      "329:\tlearn: 0.1322655\ttotal: 1.35s\tremaining: 2.74s\n",
      "330:\tlearn: 0.1321341\ttotal: 1.35s\tremaining: 2.73s\n",
      "331:\tlearn: 0.1318874\ttotal: 1.35s\tremaining: 2.72s\n",
      "332:\tlearn: 0.1317827\ttotal: 1.36s\tremaining: 2.72s\n",
      "333:\tlearn: 0.1316152\ttotal: 1.36s\tremaining: 2.71s\n",
      "334:\tlearn: 0.1314891\ttotal: 1.36s\tremaining: 2.7s\n",
      "335:\tlearn: 0.1312920\ttotal: 1.36s\tremaining: 2.7s\n",
      "336:\tlearn: 0.1311043\ttotal: 1.37s\tremaining: 2.69s\n",
      "337:\tlearn: 0.1308060\ttotal: 1.37s\tremaining: 2.68s\n",
      "338:\tlearn: 0.1305994\ttotal: 1.37s\tremaining: 2.67s\n",
      "339:\tlearn: 0.1303846\ttotal: 1.37s\tremaining: 2.67s\n",
      "340:\tlearn: 0.1303516\ttotal: 1.38s\tremaining: 2.66s\n",
      "341:\tlearn: 0.1301354\ttotal: 1.38s\tremaining: 2.66s\n",
      "342:\tlearn: 0.1298683\ttotal: 1.38s\tremaining: 2.65s\n",
      "343:\tlearn: 0.1296807\ttotal: 1.39s\tremaining: 2.64s\n",
      "344:\tlearn: 0.1295834\ttotal: 1.39s\tremaining: 2.64s\n",
      "345:\tlearn: 0.1294418\ttotal: 1.39s\tremaining: 2.63s\n",
      "346:\tlearn: 0.1292465\ttotal: 1.39s\tremaining: 2.62s\n",
      "347:\tlearn: 0.1290455\ttotal: 1.4s\tremaining: 2.62s\n",
      "348:\tlearn: 0.1287573\ttotal: 1.4s\tremaining: 2.61s\n",
      "349:\tlearn: 0.1285370\ttotal: 1.4s\tremaining: 2.6s\n",
      "350:\tlearn: 0.1283483\ttotal: 1.41s\tremaining: 2.6s\n",
      "351:\tlearn: 0.1281422\ttotal: 1.41s\tremaining: 2.59s\n",
      "352:\tlearn: 0.1279960\ttotal: 1.41s\tremaining: 2.58s\n",
      "353:\tlearn: 0.1277836\ttotal: 1.41s\tremaining: 2.58s\n",
      "354:\tlearn: 0.1276108\ttotal: 1.42s\tremaining: 2.57s\n",
      "355:\tlearn: 0.1274575\ttotal: 1.42s\tremaining: 2.56s\n",
      "356:\tlearn: 0.1273651\ttotal: 1.42s\tremaining: 2.56s\n",
      "357:\tlearn: 0.1272447\ttotal: 1.42s\tremaining: 2.55s\n",
      "358:\tlearn: 0.1270319\ttotal: 1.43s\tremaining: 2.55s\n",
      "359:\tlearn: 0.1268065\ttotal: 1.43s\tremaining: 2.54s\n",
      "360:\tlearn: 0.1266001\ttotal: 1.43s\tremaining: 2.53s\n",
      "361:\tlearn: 0.1264172\ttotal: 1.44s\tremaining: 2.53s\n",
      "362:\tlearn: 0.1262253\ttotal: 1.44s\tremaining: 2.52s\n",
      "363:\tlearn: 0.1261805\ttotal: 1.44s\tremaining: 2.52s\n",
      "364:\tlearn: 0.1257134\ttotal: 1.44s\tremaining: 2.51s\n",
      "365:\tlearn: 0.1255601\ttotal: 1.45s\tremaining: 2.5s\n",
      "366:\tlearn: 0.1255314\ttotal: 1.45s\tremaining: 2.5s\n",
      "367:\tlearn: 0.1254268\ttotal: 1.45s\tremaining: 2.49s\n",
      "368:\tlearn: 0.1253053\ttotal: 1.45s\tremaining: 2.48s\n",
      "369:\tlearn: 0.1251059\ttotal: 1.46s\tremaining: 2.48s\n",
      "370:\tlearn: 0.1249525\ttotal: 1.46s\tremaining: 2.47s\n",
      "371:\tlearn: 0.1248895\ttotal: 1.46s\tremaining: 2.47s\n",
      "372:\tlearn: 0.1247730\ttotal: 1.46s\tremaining: 2.46s\n",
      "373:\tlearn: 0.1246495\ttotal: 1.47s\tremaining: 2.46s\n",
      "374:\tlearn: 0.1246294\ttotal: 1.47s\tremaining: 2.45s\n",
      "375:\tlearn: 0.1244816\ttotal: 1.47s\tremaining: 2.44s\n",
      "376:\tlearn: 0.1243764\ttotal: 1.48s\tremaining: 2.44s\n",
      "377:\tlearn: 0.1242863\ttotal: 1.48s\tremaining: 2.43s\n"
     ]
    },
    {
     "name": "stdout",
     "output_type": "stream",
     "text": [
      "378:\tlearn: 0.1241925\ttotal: 1.48s\tremaining: 2.43s\n",
      "379:\tlearn: 0.1239577\ttotal: 1.48s\tremaining: 2.42s\n",
      "380:\tlearn: 0.1237353\ttotal: 1.49s\tremaining: 2.42s\n",
      "381:\tlearn: 0.1236391\ttotal: 1.49s\tremaining: 2.41s\n",
      "382:\tlearn: 0.1234227\ttotal: 1.49s\tremaining: 2.4s\n",
      "383:\tlearn: 0.1231221\ttotal: 1.5s\tremaining: 2.4s\n",
      "384:\tlearn: 0.1229497\ttotal: 1.5s\tremaining: 2.4s\n",
      "385:\tlearn: 0.1227984\ttotal: 1.5s\tremaining: 2.39s\n",
      "386:\tlearn: 0.1227033\ttotal: 1.5s\tremaining: 2.38s\n",
      "387:\tlearn: 0.1225918\ttotal: 1.51s\tremaining: 2.38s\n",
      "388:\tlearn: 0.1223770\ttotal: 1.51s\tremaining: 2.37s\n",
      "389:\tlearn: 0.1221544\ttotal: 1.51s\tremaining: 2.37s\n",
      "390:\tlearn: 0.1219868\ttotal: 1.52s\tremaining: 2.36s\n",
      "391:\tlearn: 0.1217252\ttotal: 1.52s\tremaining: 2.36s\n",
      "392:\tlearn: 0.1215450\ttotal: 1.52s\tremaining: 2.35s\n",
      "393:\tlearn: 0.1213558\ttotal: 1.52s\tremaining: 2.35s\n",
      "394:\tlearn: 0.1212368\ttotal: 1.53s\tremaining: 2.34s\n",
      "395:\tlearn: 0.1211108\ttotal: 1.53s\tremaining: 2.33s\n",
      "396:\tlearn: 0.1208629\ttotal: 1.53s\tremaining: 2.33s\n",
      "397:\tlearn: 0.1207508\ttotal: 1.54s\tremaining: 2.32s\n",
      "398:\tlearn: 0.1206582\ttotal: 1.54s\tremaining: 2.32s\n",
      "399:\tlearn: 0.1204033\ttotal: 1.54s\tremaining: 2.31s\n",
      "400:\tlearn: 0.1203540\ttotal: 1.54s\tremaining: 2.31s\n",
      "401:\tlearn: 0.1202365\ttotal: 1.55s\tremaining: 2.3s\n",
      "402:\tlearn: 0.1200509\ttotal: 1.55s\tremaining: 2.29s\n",
      "403:\tlearn: 0.1199403\ttotal: 1.55s\tremaining: 2.29s\n",
      "404:\tlearn: 0.1196886\ttotal: 1.55s\tremaining: 2.28s\n",
      "405:\tlearn: 0.1195250\ttotal: 1.56s\tremaining: 2.28s\n",
      "406:\tlearn: 0.1194425\ttotal: 1.56s\tremaining: 2.27s\n",
      "407:\tlearn: 0.1192573\ttotal: 1.56s\tremaining: 2.27s\n",
      "408:\tlearn: 0.1189622\ttotal: 1.56s\tremaining: 2.26s\n",
      "409:\tlearn: 0.1188168\ttotal: 1.57s\tremaining: 2.25s\n",
      "410:\tlearn: 0.1187298\ttotal: 1.57s\tremaining: 2.25s\n",
      "411:\tlearn: 0.1185508\ttotal: 1.57s\tremaining: 2.24s\n",
      "412:\tlearn: 0.1183439\ttotal: 1.57s\tremaining: 2.24s\n",
      "413:\tlearn: 0.1182760\ttotal: 1.58s\tremaining: 2.23s\n",
      "414:\tlearn: 0.1180733\ttotal: 1.58s\tremaining: 2.23s\n",
      "415:\tlearn: 0.1179164\ttotal: 1.58s\tremaining: 2.22s\n",
      "416:\tlearn: 0.1178855\ttotal: 1.58s\tremaining: 2.21s\n",
      "417:\tlearn: 0.1177821\ttotal: 1.59s\tremaining: 2.21s\n",
      "418:\tlearn: 0.1177650\ttotal: 1.59s\tremaining: 2.2s\n",
      "419:\tlearn: 0.1174815\ttotal: 1.59s\tremaining: 2.2s\n",
      "420:\tlearn: 0.1173913\ttotal: 1.59s\tremaining: 2.19s\n",
      "421:\tlearn: 0.1172305\ttotal: 1.6s\tremaining: 2.19s\n",
      "422:\tlearn: 0.1171147\ttotal: 1.6s\tremaining: 2.18s\n",
      "423:\tlearn: 0.1169495\ttotal: 1.6s\tremaining: 2.18s\n",
      "424:\tlearn: 0.1168046\ttotal: 1.6s\tremaining: 2.17s\n",
      "425:\tlearn: 0.1166239\ttotal: 1.61s\tremaining: 2.17s\n",
      "426:\tlearn: 0.1164292\ttotal: 1.61s\tremaining: 2.16s\n",
      "427:\tlearn: 0.1162264\ttotal: 1.61s\tremaining: 2.15s\n",
      "428:\tlearn: 0.1160819\ttotal: 1.61s\tremaining: 2.15s\n",
      "429:\tlearn: 0.1159656\ttotal: 1.62s\tremaining: 2.14s\n",
      "430:\tlearn: 0.1157276\ttotal: 1.62s\tremaining: 2.14s\n",
      "431:\tlearn: 0.1155952\ttotal: 1.62s\tremaining: 2.13s\n",
      "432:\tlearn: 0.1154775\ttotal: 1.62s\tremaining: 2.13s\n",
      "433:\tlearn: 0.1153381\ttotal: 1.63s\tremaining: 2.12s\n",
      "434:\tlearn: 0.1151816\ttotal: 1.63s\tremaining: 2.12s\n",
      "435:\tlearn: 0.1149581\ttotal: 1.63s\tremaining: 2.11s\n",
      "436:\tlearn: 0.1148473\ttotal: 1.63s\tremaining: 2.11s\n",
      "437:\tlearn: 0.1145168\ttotal: 1.64s\tremaining: 2.1s\n",
      "438:\tlearn: 0.1144383\ttotal: 1.64s\tremaining: 2.1s\n",
      "439:\tlearn: 0.1142092\ttotal: 1.64s\tremaining: 2.09s\n",
      "440:\tlearn: 0.1139920\ttotal: 1.65s\tremaining: 2.09s\n",
      "441:\tlearn: 0.1138525\ttotal: 1.65s\tremaining: 2.08s\n",
      "442:\tlearn: 0.1136359\ttotal: 1.65s\tremaining: 2.08s\n",
      "443:\tlearn: 0.1134528\ttotal: 1.65s\tremaining: 2.07s\n",
      "444:\tlearn: 0.1133319\ttotal: 1.66s\tremaining: 2.07s\n",
      "445:\tlearn: 0.1131524\ttotal: 1.66s\tremaining: 2.06s\n",
      "446:\tlearn: 0.1130526\ttotal: 1.66s\tremaining: 2.06s\n",
      "447:\tlearn: 0.1128409\ttotal: 1.66s\tremaining: 2.05s\n",
      "448:\tlearn: 0.1127527\ttotal: 1.67s\tremaining: 2.05s\n",
      "449:\tlearn: 0.1126523\ttotal: 1.67s\tremaining: 2.04s\n",
      "450:\tlearn: 0.1125786\ttotal: 1.67s\tremaining: 2.04s\n",
      "451:\tlearn: 0.1123688\ttotal: 1.68s\tremaining: 2.03s\n",
      "452:\tlearn: 0.1122582\ttotal: 1.68s\tremaining: 2.03s\n",
      "453:\tlearn: 0.1121566\ttotal: 1.68s\tremaining: 2.02s\n",
      "454:\tlearn: 0.1119374\ttotal: 1.68s\tremaining: 2.02s\n",
      "455:\tlearn: 0.1117404\ttotal: 1.69s\tremaining: 2.01s\n",
      "456:\tlearn: 0.1116144\ttotal: 1.69s\tremaining: 2.01s\n",
      "457:\tlearn: 0.1114489\ttotal: 1.69s\tremaining: 2s\n",
      "458:\tlearn: 0.1113079\ttotal: 1.69s\tremaining: 2s\n",
      "459:\tlearn: 0.1111687\ttotal: 1.7s\tremaining: 1.99s\n",
      "460:\tlearn: 0.1111536\ttotal: 1.7s\tremaining: 1.99s\n",
      "461:\tlearn: 0.1110253\ttotal: 1.7s\tremaining: 1.98s\n",
      "462:\tlearn: 0.1109363\ttotal: 1.7s\tremaining: 1.98s\n",
      "463:\tlearn: 0.1108372\ttotal: 1.71s\tremaining: 1.97s\n",
      "464:\tlearn: 0.1107728\ttotal: 1.71s\tremaining: 1.97s\n",
      "465:\tlearn: 0.1106645\ttotal: 1.71s\tremaining: 1.96s\n",
      "466:\tlearn: 0.1104515\ttotal: 1.71s\tremaining: 1.95s\n",
      "467:\tlearn: 0.1102993\ttotal: 1.71s\tremaining: 1.95s\n",
      "468:\tlearn: 0.1101022\ttotal: 1.72s\tremaining: 1.94s\n",
      "469:\tlearn: 0.1099029\ttotal: 1.72s\tremaining: 1.94s\n",
      "470:\tlearn: 0.1097688\ttotal: 1.72s\tremaining: 1.93s\n",
      "471:\tlearn: 0.1097224\ttotal: 1.72s\tremaining: 1.93s\n",
      "472:\tlearn: 0.1096095\ttotal: 1.73s\tremaining: 1.92s\n",
      "473:\tlearn: 0.1094145\ttotal: 1.73s\tremaining: 1.92s\n",
      "474:\tlearn: 0.1092682\ttotal: 1.73s\tremaining: 1.91s\n",
      "475:\tlearn: 0.1091133\ttotal: 1.73s\tremaining: 1.91s\n",
      "476:\tlearn: 0.1090503\ttotal: 1.74s\tremaining: 1.9s\n",
      "477:\tlearn: 0.1088666\ttotal: 1.74s\tremaining: 1.9s\n",
      "478:\tlearn: 0.1087789\ttotal: 1.74s\tremaining: 1.89s\n",
      "479:\tlearn: 0.1086454\ttotal: 1.74s\tremaining: 1.89s\n",
      "480:\tlearn: 0.1085426\ttotal: 1.75s\tremaining: 1.88s\n",
      "481:\tlearn: 0.1083515\ttotal: 1.75s\tremaining: 1.88s\n",
      "482:\tlearn: 0.1082791\ttotal: 1.75s\tremaining: 1.87s\n",
      "483:\tlearn: 0.1081283\ttotal: 1.75s\tremaining: 1.87s\n",
      "484:\tlearn: 0.1079673\ttotal: 1.75s\tremaining: 1.86s\n",
      "485:\tlearn: 0.1078349\ttotal: 1.76s\tremaining: 1.86s\n",
      "486:\tlearn: 0.1076939\ttotal: 1.76s\tremaining: 1.85s\n",
      "487:\tlearn: 0.1075642\ttotal: 1.76s\tremaining: 1.85s\n",
      "488:\tlearn: 0.1074019\ttotal: 1.76s\tremaining: 1.84s\n",
      "489:\tlearn: 0.1070791\ttotal: 1.77s\tremaining: 1.84s\n",
      "490:\tlearn: 0.1069832\ttotal: 1.77s\tremaining: 1.83s\n",
      "491:\tlearn: 0.1068322\ttotal: 1.77s\tremaining: 1.83s\n",
      "492:\tlearn: 0.1066597\ttotal: 1.77s\tremaining: 1.82s\n",
      "493:\tlearn: 0.1064973\ttotal: 1.78s\tremaining: 1.82s\n",
      "494:\tlearn: 0.1063733\ttotal: 1.78s\tremaining: 1.82s\n",
      "495:\tlearn: 0.1063303\ttotal: 1.78s\tremaining: 1.81s\n",
      "496:\tlearn: 0.1063183\ttotal: 1.78s\tremaining: 1.8s\n",
      "497:\tlearn: 0.1061883\ttotal: 1.79s\tremaining: 1.8s\n",
      "498:\tlearn: 0.1061602\ttotal: 1.79s\tremaining: 1.8s\n",
      "499:\tlearn: 0.1060918\ttotal: 1.79s\tremaining: 1.79s\n",
      "500:\tlearn: 0.1059028\ttotal: 1.79s\tremaining: 1.79s\n",
      "501:\tlearn: 0.1057929\ttotal: 1.8s\tremaining: 1.78s\n",
      "502:\tlearn: 0.1055410\ttotal: 1.8s\tremaining: 1.78s\n",
      "503:\tlearn: 0.1054691\ttotal: 1.8s\tremaining: 1.77s\n",
      "504:\tlearn: 0.1052957\ttotal: 1.8s\tremaining: 1.77s\n",
      "505:\tlearn: 0.1051567\ttotal: 1.81s\tremaining: 1.76s\n",
      "506:\tlearn: 0.1050228\ttotal: 1.81s\tremaining: 1.76s\n",
      "507:\tlearn: 0.1047365\ttotal: 1.81s\tremaining: 1.76s\n",
      "508:\tlearn: 0.1046312\ttotal: 1.81s\tremaining: 1.75s\n",
      "509:\tlearn: 0.1044937\ttotal: 1.82s\tremaining: 1.75s\n",
      "510:\tlearn: 0.1043961\ttotal: 1.82s\tremaining: 1.74s\n",
      "511:\tlearn: 0.1042736\ttotal: 1.82s\tremaining: 1.74s\n",
      "512:\tlearn: 0.1041174\ttotal: 1.82s\tremaining: 1.73s\n",
      "513:\tlearn: 0.1039359\ttotal: 1.83s\tremaining: 1.73s\n",
      "514:\tlearn: 0.1039088\ttotal: 1.83s\tremaining: 1.72s\n",
      "515:\tlearn: 0.1037917\ttotal: 1.83s\tremaining: 1.72s\n",
      "516:\tlearn: 0.1036306\ttotal: 1.83s\tremaining: 1.71s\n",
      "517:\tlearn: 0.1034820\ttotal: 1.84s\tremaining: 1.71s\n",
      "518:\tlearn: 0.1034570\ttotal: 1.84s\tremaining: 1.7s\n",
      "519:\tlearn: 0.1034069\ttotal: 1.84s\tremaining: 1.7s\n",
      "520:\tlearn: 0.1032917\ttotal: 1.84s\tremaining: 1.7s\n",
      "521:\tlearn: 0.1031519\ttotal: 1.85s\tremaining: 1.69s\n",
      "522:\tlearn: 0.1030686\ttotal: 1.85s\tremaining: 1.69s\n",
      "523:\tlearn: 0.1030322\ttotal: 1.85s\tremaining: 1.68s\n",
      "524:\tlearn: 0.1029043\ttotal: 1.85s\tremaining: 1.68s\n",
      "525:\tlearn: 0.1027113\ttotal: 1.85s\tremaining: 1.67s\n",
      "526:\tlearn: 0.1026467\ttotal: 1.86s\tremaining: 1.67s\n",
      "527:\tlearn: 0.1024706\ttotal: 1.86s\tremaining: 1.66s\n",
      "528:\tlearn: 0.1022290\ttotal: 1.86s\tremaining: 1.66s\n",
      "529:\tlearn: 0.1020935\ttotal: 1.86s\tremaining: 1.65s\n",
      "530:\tlearn: 0.1019596\ttotal: 1.87s\tremaining: 1.65s\n",
      "531:\tlearn: 0.1018524\ttotal: 1.87s\tremaining: 1.64s\n",
      "532:\tlearn: 0.1016782\ttotal: 1.87s\tremaining: 1.64s\n",
      "533:\tlearn: 0.1016030\ttotal: 1.87s\tremaining: 1.64s\n",
      "534:\tlearn: 0.1015075\ttotal: 1.88s\tremaining: 1.63s\n",
      "535:\tlearn: 0.1013436\ttotal: 1.88s\tremaining: 1.63s\n",
      "536:\tlearn: 0.1012946\ttotal: 1.88s\tremaining: 1.62s\n",
      "537:\tlearn: 0.1011555\ttotal: 1.88s\tremaining: 1.62s\n",
      "538:\tlearn: 0.1010260\ttotal: 1.89s\tremaining: 1.61s\n",
      "539:\tlearn: 0.1009373\ttotal: 1.89s\tremaining: 1.61s\n",
      "540:\tlearn: 0.1008064\ttotal: 1.89s\tremaining: 1.6s\n",
      "541:\tlearn: 0.1007256\ttotal: 1.89s\tremaining: 1.6s\n",
      "542:\tlearn: 0.1006064\ttotal: 1.9s\tremaining: 1.59s\n",
      "543:\tlearn: 0.1004302\ttotal: 1.9s\tremaining: 1.59s\n",
      "544:\tlearn: 0.1003538\ttotal: 1.9s\tremaining: 1.58s\n",
      "545:\tlearn: 0.1002412\ttotal: 1.9s\tremaining: 1.58s\n",
      "546:\tlearn: 0.1000830\ttotal: 1.9s\tremaining: 1.58s\n",
      "547:\tlearn: 0.0999419\ttotal: 1.91s\tremaining: 1.57s\n",
      "548:\tlearn: 0.0998081\ttotal: 1.91s\tremaining: 1.57s\n",
      "549:\tlearn: 0.0996070\ttotal: 1.91s\tremaining: 1.56s\n",
      "550:\tlearn: 0.0993954\ttotal: 1.91s\tremaining: 1.56s\n",
      "551:\tlearn: 0.0992577\ttotal: 1.92s\tremaining: 1.55s\n",
      "552:\tlearn: 0.0990015\ttotal: 1.92s\tremaining: 1.55s\n",
      "553:\tlearn: 0.0987845\ttotal: 1.92s\tremaining: 1.54s\n",
      "554:\tlearn: 0.0986985\ttotal: 1.92s\tremaining: 1.54s\n",
      "555:\tlearn: 0.0985584\ttotal: 1.92s\tremaining: 1.54s\n",
      "556:\tlearn: 0.0985433\ttotal: 1.93s\tremaining: 1.53s\n",
      "557:\tlearn: 0.0984445\ttotal: 1.93s\tremaining: 1.53s\n",
      "558:\tlearn: 0.0983951\ttotal: 1.93s\tremaining: 1.52s\n",
      "559:\tlearn: 0.0982770\ttotal: 1.93s\tremaining: 1.52s\n",
      "560:\tlearn: 0.0980340\ttotal: 1.94s\tremaining: 1.51s\n",
      "561:\tlearn: 0.0979428\ttotal: 1.94s\tremaining: 1.51s\n",
      "562:\tlearn: 0.0978264\ttotal: 1.94s\tremaining: 1.51s\n",
      "563:\tlearn: 0.0977595\ttotal: 1.94s\tremaining: 1.5s\n",
      "564:\tlearn: 0.0975397\ttotal: 1.95s\tremaining: 1.5s\n",
      "565:\tlearn: 0.0973852\ttotal: 1.95s\tremaining: 1.49s\n",
      "566:\tlearn: 0.0972788\ttotal: 1.95s\tremaining: 1.49s\n",
      "567:\tlearn: 0.0972268\ttotal: 1.95s\tremaining: 1.48s\n",
      "568:\tlearn: 0.0971653\ttotal: 1.95s\tremaining: 1.48s\n",
      "569:\tlearn: 0.0970530\ttotal: 1.96s\tremaining: 1.48s\n",
      "570:\tlearn: 0.0969023\ttotal: 1.96s\tremaining: 1.47s\n",
      "571:\tlearn: 0.0967987\ttotal: 1.96s\tremaining: 1.47s\n",
      "572:\tlearn: 0.0966075\ttotal: 1.96s\tremaining: 1.46s\n",
      "573:\tlearn: 0.0964602\ttotal: 1.97s\tremaining: 1.46s\n",
      "574:\tlearn: 0.0963594\ttotal: 1.97s\tremaining: 1.45s\n",
      "575:\tlearn: 0.0961013\ttotal: 1.97s\tremaining: 1.45s\n",
      "576:\tlearn: 0.0960219\ttotal: 1.97s\tremaining: 1.45s\n"
     ]
    },
    {
     "name": "stdout",
     "output_type": "stream",
     "text": [
      "577:\tlearn: 0.0959049\ttotal: 1.97s\tremaining: 1.44s\n",
      "578:\tlearn: 0.0958217\ttotal: 1.98s\tremaining: 1.44s\n",
      "579:\tlearn: 0.0957358\ttotal: 1.98s\tremaining: 1.43s\n",
      "580:\tlearn: 0.0956385\ttotal: 1.98s\tremaining: 1.43s\n",
      "581:\tlearn: 0.0954989\ttotal: 1.98s\tremaining: 1.43s\n",
      "582:\tlearn: 0.0952493\ttotal: 1.99s\tremaining: 1.42s\n",
      "583:\tlearn: 0.0951715\ttotal: 1.99s\tremaining: 1.42s\n",
      "584:\tlearn: 0.0951040\ttotal: 1.99s\tremaining: 1.41s\n",
      "585:\tlearn: 0.0949747\ttotal: 1.99s\tremaining: 1.41s\n",
      "586:\tlearn: 0.0948656\ttotal: 2s\tremaining: 1.4s\n",
      "587:\tlearn: 0.0947585\ttotal: 2s\tremaining: 1.4s\n",
      "588:\tlearn: 0.0945822\ttotal: 2s\tremaining: 1.4s\n",
      "589:\tlearn: 0.0945464\ttotal: 2s\tremaining: 1.39s\n",
      "590:\tlearn: 0.0945005\ttotal: 2s\tremaining: 1.39s\n",
      "591:\tlearn: 0.0943301\ttotal: 2.01s\tremaining: 1.38s\n",
      "592:\tlearn: 0.0942652\ttotal: 2.01s\tremaining: 1.38s\n",
      "593:\tlearn: 0.0941896\ttotal: 2.01s\tremaining: 1.37s\n",
      "594:\tlearn: 0.0940753\ttotal: 2.01s\tremaining: 1.37s\n",
      "595:\tlearn: 0.0939822\ttotal: 2.02s\tremaining: 1.37s\n",
      "596:\tlearn: 0.0938889\ttotal: 2.02s\tremaining: 1.36s\n",
      "597:\tlearn: 0.0938047\ttotal: 2.02s\tremaining: 1.36s\n",
      "598:\tlearn: 0.0936940\ttotal: 2.02s\tremaining: 1.35s\n",
      "599:\tlearn: 0.0935882\ttotal: 2.02s\tremaining: 1.35s\n",
      "600:\tlearn: 0.0934250\ttotal: 2.03s\tremaining: 1.34s\n",
      "601:\tlearn: 0.0933347\ttotal: 2.03s\tremaining: 1.34s\n",
      "602:\tlearn: 0.0931972\ttotal: 2.03s\tremaining: 1.34s\n",
      "603:\tlearn: 0.0931085\ttotal: 2.03s\tremaining: 1.33s\n",
      "604:\tlearn: 0.0930574\ttotal: 2.04s\tremaining: 1.33s\n",
      "605:\tlearn: 0.0930064\ttotal: 2.04s\tremaining: 1.32s\n",
      "606:\tlearn: 0.0928816\ttotal: 2.04s\tremaining: 1.32s\n",
      "607:\tlearn: 0.0927557\ttotal: 2.04s\tremaining: 1.32s\n",
      "608:\tlearn: 0.0927241\ttotal: 2.05s\tremaining: 1.31s\n",
      "609:\tlearn: 0.0924973\ttotal: 2.05s\tremaining: 1.31s\n",
      "610:\tlearn: 0.0923157\ttotal: 2.05s\tremaining: 1.3s\n",
      "611:\tlearn: 0.0921775\ttotal: 2.05s\tremaining: 1.3s\n",
      "612:\tlearn: 0.0920296\ttotal: 2.06s\tremaining: 1.3s\n",
      "613:\tlearn: 0.0918243\ttotal: 2.06s\tremaining: 1.29s\n",
      "614:\tlearn: 0.0917256\ttotal: 2.06s\tremaining: 1.29s\n",
      "615:\tlearn: 0.0916570\ttotal: 2.06s\tremaining: 1.28s\n",
      "616:\tlearn: 0.0915534\ttotal: 2.06s\tremaining: 1.28s\n",
      "617:\tlearn: 0.0915304\ttotal: 2.07s\tremaining: 1.28s\n",
      "618:\tlearn: 0.0913448\ttotal: 2.07s\tremaining: 1.27s\n",
      "619:\tlearn: 0.0911505\ttotal: 2.07s\tremaining: 1.27s\n",
      "620:\tlearn: 0.0910350\ttotal: 2.07s\tremaining: 1.27s\n",
      "621:\tlearn: 0.0908256\ttotal: 2.08s\tremaining: 1.26s\n",
      "622:\tlearn: 0.0907549\ttotal: 2.08s\tremaining: 1.26s\n",
      "623:\tlearn: 0.0906442\ttotal: 2.08s\tremaining: 1.25s\n",
      "624:\tlearn: 0.0905771\ttotal: 2.08s\tremaining: 1.25s\n",
      "625:\tlearn: 0.0904683\ttotal: 2.08s\tremaining: 1.25s\n",
      "626:\tlearn: 0.0903949\ttotal: 2.09s\tremaining: 1.24s\n",
      "627:\tlearn: 0.0903849\ttotal: 2.09s\tremaining: 1.24s\n",
      "628:\tlearn: 0.0903160\ttotal: 2.09s\tremaining: 1.23s\n",
      "629:\tlearn: 0.0901907\ttotal: 2.09s\tremaining: 1.23s\n",
      "630:\tlearn: 0.0900531\ttotal: 2.1s\tremaining: 1.23s\n",
      "631:\tlearn: 0.0898676\ttotal: 2.1s\tremaining: 1.22s\n",
      "632:\tlearn: 0.0898070\ttotal: 2.1s\tremaining: 1.22s\n",
      "633:\tlearn: 0.0896957\ttotal: 2.1s\tremaining: 1.21s\n",
      "634:\tlearn: 0.0896424\ttotal: 2.11s\tremaining: 1.21s\n",
      "635:\tlearn: 0.0895971\ttotal: 2.11s\tremaining: 1.21s\n",
      "636:\tlearn: 0.0894981\ttotal: 2.11s\tremaining: 1.2s\n",
      "637:\tlearn: 0.0893953\ttotal: 2.11s\tremaining: 1.2s\n",
      "638:\tlearn: 0.0892331\ttotal: 2.12s\tremaining: 1.19s\n",
      "639:\tlearn: 0.0890967\ttotal: 2.12s\tremaining: 1.19s\n",
      "640:\tlearn: 0.0889224\ttotal: 2.12s\tremaining: 1.19s\n",
      "641:\tlearn: 0.0888770\ttotal: 2.12s\tremaining: 1.18s\n",
      "642:\tlearn: 0.0888035\ttotal: 2.12s\tremaining: 1.18s\n",
      "643:\tlearn: 0.0886809\ttotal: 2.13s\tremaining: 1.18s\n",
      "644:\tlearn: 0.0884902\ttotal: 2.13s\tremaining: 1.17s\n",
      "645:\tlearn: 0.0884087\ttotal: 2.13s\tremaining: 1.17s\n",
      "646:\tlearn: 0.0882181\ttotal: 2.13s\tremaining: 1.16s\n",
      "647:\tlearn: 0.0881302\ttotal: 2.13s\tremaining: 1.16s\n",
      "648:\tlearn: 0.0879515\ttotal: 2.14s\tremaining: 1.16s\n",
      "649:\tlearn: 0.0878485\ttotal: 2.14s\tremaining: 1.15s\n",
      "650:\tlearn: 0.0877132\ttotal: 2.14s\tremaining: 1.15s\n",
      "651:\tlearn: 0.0876681\ttotal: 2.15s\tremaining: 1.15s\n",
      "652:\tlearn: 0.0874873\ttotal: 2.15s\tremaining: 1.14s\n",
      "653:\tlearn: 0.0874083\ttotal: 2.15s\tremaining: 1.14s\n",
      "654:\tlearn: 0.0873052\ttotal: 2.15s\tremaining: 1.13s\n",
      "655:\tlearn: 0.0871240\ttotal: 2.15s\tremaining: 1.13s\n",
      "656:\tlearn: 0.0869853\ttotal: 2.16s\tremaining: 1.13s\n",
      "657:\tlearn: 0.0868860\ttotal: 2.16s\tremaining: 1.12s\n",
      "658:\tlearn: 0.0866838\ttotal: 2.16s\tremaining: 1.12s\n",
      "659:\tlearn: 0.0866556\ttotal: 2.16s\tremaining: 1.11s\n",
      "660:\tlearn: 0.0866033\ttotal: 2.17s\tremaining: 1.11s\n",
      "661:\tlearn: 0.0865187\ttotal: 2.17s\tremaining: 1.11s\n",
      "662:\tlearn: 0.0863634\ttotal: 2.17s\tremaining: 1.1s\n",
      "663:\tlearn: 0.0862363\ttotal: 2.17s\tremaining: 1.1s\n",
      "664:\tlearn: 0.0862216\ttotal: 2.18s\tremaining: 1.1s\n",
      "665:\tlearn: 0.0861306\ttotal: 2.18s\tremaining: 1.09s\n",
      "666:\tlearn: 0.0860533\ttotal: 2.18s\tremaining: 1.09s\n",
      "667:\tlearn: 0.0860213\ttotal: 2.18s\tremaining: 1.08s\n",
      "668:\tlearn: 0.0859451\ttotal: 2.19s\tremaining: 1.08s\n",
      "669:\tlearn: 0.0858670\ttotal: 2.19s\tremaining: 1.08s\n",
      "670:\tlearn: 0.0857763\ttotal: 2.19s\tremaining: 1.07s\n",
      "671:\tlearn: 0.0857233\ttotal: 2.19s\tremaining: 1.07s\n",
      "672:\tlearn: 0.0856444\ttotal: 2.19s\tremaining: 1.07s\n",
      "673:\tlearn: 0.0855403\ttotal: 2.2s\tremaining: 1.06s\n",
      "674:\tlearn: 0.0855259\ttotal: 2.2s\tremaining: 1.06s\n",
      "675:\tlearn: 0.0854190\ttotal: 2.2s\tremaining: 1.05s\n",
      "676:\tlearn: 0.0853351\ttotal: 2.2s\tremaining: 1.05s\n",
      "677:\tlearn: 0.0851797\ttotal: 2.21s\tremaining: 1.05s\n",
      "678:\tlearn: 0.0850525\ttotal: 2.21s\tremaining: 1.04s\n",
      "679:\tlearn: 0.0849480\ttotal: 2.21s\tremaining: 1.04s\n",
      "680:\tlearn: 0.0848463\ttotal: 2.21s\tremaining: 1.04s\n",
      "681:\tlearn: 0.0847530\ttotal: 2.21s\tremaining: 1.03s\n",
      "682:\tlearn: 0.0846306\ttotal: 2.22s\tremaining: 1.03s\n",
      "683:\tlearn: 0.0845583\ttotal: 2.22s\tremaining: 1.02s\n",
      "684:\tlearn: 0.0844181\ttotal: 2.22s\tremaining: 1.02s\n",
      "685:\tlearn: 0.0843723\ttotal: 2.22s\tremaining: 1.02s\n",
      "686:\tlearn: 0.0843165\ttotal: 2.23s\tremaining: 1.01s\n",
      "687:\tlearn: 0.0842859\ttotal: 2.23s\tremaining: 1.01s\n",
      "688:\tlearn: 0.0842392\ttotal: 2.23s\tremaining: 1.01s\n",
      "689:\tlearn: 0.0841184\ttotal: 2.23s\tremaining: 1s\n",
      "690:\tlearn: 0.0840443\ttotal: 2.24s\tremaining: 1000ms\n",
      "691:\tlearn: 0.0839448\ttotal: 2.24s\tremaining: 997ms\n",
      "692:\tlearn: 0.0838917\ttotal: 2.24s\tremaining: 993ms\n",
      "693:\tlearn: 0.0838684\ttotal: 2.24s\tremaining: 989ms\n",
      "694:\tlearn: 0.0836756\ttotal: 2.25s\tremaining: 986ms\n",
      "695:\tlearn: 0.0836113\ttotal: 2.25s\tremaining: 982ms\n",
      "696:\tlearn: 0.0835329\ttotal: 2.25s\tremaining: 978ms\n",
      "697:\tlearn: 0.0834472\ttotal: 2.25s\tremaining: 975ms\n",
      "698:\tlearn: 0.0834059\ttotal: 2.25s\tremaining: 971ms\n",
      "699:\tlearn: 0.0833555\ttotal: 2.26s\tremaining: 967ms\n",
      "700:\tlearn: 0.0832093\ttotal: 2.26s\tremaining: 964ms\n",
      "701:\tlearn: 0.0830968\ttotal: 2.26s\tremaining: 960ms\n",
      "702:\tlearn: 0.0830257\ttotal: 2.26s\tremaining: 956ms\n",
      "703:\tlearn: 0.0830162\ttotal: 2.27s\tremaining: 953ms\n",
      "704:\tlearn: 0.0829151\ttotal: 2.27s\tremaining: 949ms\n",
      "705:\tlearn: 0.0827269\ttotal: 2.27s\tremaining: 946ms\n",
      "706:\tlearn: 0.0825911\ttotal: 2.27s\tremaining: 942ms\n",
      "707:\tlearn: 0.0824260\ttotal: 2.27s\tremaining: 938ms\n",
      "708:\tlearn: 0.0823275\ttotal: 2.28s\tremaining: 935ms\n",
      "709:\tlearn: 0.0823016\ttotal: 2.28s\tremaining: 931ms\n",
      "710:\tlearn: 0.0822216\ttotal: 2.28s\tremaining: 928ms\n",
      "711:\tlearn: 0.0821544\ttotal: 2.28s\tremaining: 924ms\n",
      "712:\tlearn: 0.0820951\ttotal: 2.29s\tremaining: 920ms\n",
      "713:\tlearn: 0.0820113\ttotal: 2.29s\tremaining: 917ms\n",
      "714:\tlearn: 0.0819755\ttotal: 2.29s\tremaining: 913ms\n",
      "715:\tlearn: 0.0818801\ttotal: 2.29s\tremaining: 910ms\n",
      "716:\tlearn: 0.0817963\ttotal: 2.29s\tremaining: 906ms\n",
      "717:\tlearn: 0.0816999\ttotal: 2.3s\tremaining: 903ms\n",
      "718:\tlearn: 0.0816526\ttotal: 2.3s\tremaining: 899ms\n",
      "719:\tlearn: 0.0815104\ttotal: 2.3s\tremaining: 895ms\n",
      "720:\tlearn: 0.0814210\ttotal: 2.3s\tremaining: 892ms\n",
      "721:\tlearn: 0.0813590\ttotal: 2.31s\tremaining: 888ms\n",
      "722:\tlearn: 0.0811888\ttotal: 2.31s\tremaining: 885ms\n",
      "723:\tlearn: 0.0811028\ttotal: 2.31s\tremaining: 882ms\n",
      "724:\tlearn: 0.0810296\ttotal: 2.31s\tremaining: 878ms\n",
      "725:\tlearn: 0.0809345\ttotal: 2.32s\tremaining: 875ms\n",
      "726:\tlearn: 0.0808854\ttotal: 2.32s\tremaining: 871ms\n",
      "727:\tlearn: 0.0808253\ttotal: 2.32s\tremaining: 868ms\n",
      "728:\tlearn: 0.0806299\ttotal: 2.33s\tremaining: 864ms\n",
      "729:\tlearn: 0.0805324\ttotal: 2.33s\tremaining: 861ms\n",
      "730:\tlearn: 0.0805177\ttotal: 2.33s\tremaining: 858ms\n",
      "731:\tlearn: 0.0803705\ttotal: 2.33s\tremaining: 854ms\n",
      "732:\tlearn: 0.0802509\ttotal: 2.33s\tremaining: 851ms\n",
      "733:\tlearn: 0.0802270\ttotal: 2.34s\tremaining: 847ms\n",
      "734:\tlearn: 0.0801177\ttotal: 2.34s\tremaining: 843ms\n",
      "735:\tlearn: 0.0800885\ttotal: 2.34s\tremaining: 840ms\n",
      "736:\tlearn: 0.0800638\ttotal: 2.34s\tremaining: 836ms\n",
      "737:\tlearn: 0.0800548\ttotal: 2.35s\tremaining: 833ms\n",
      "738:\tlearn: 0.0799947\ttotal: 2.35s\tremaining: 830ms\n",
      "739:\tlearn: 0.0799634\ttotal: 2.35s\tremaining: 826ms\n",
      "740:\tlearn: 0.0799398\ttotal: 2.35s\tremaining: 823ms\n",
      "741:\tlearn: 0.0798161\ttotal: 2.35s\tremaining: 819ms\n",
      "742:\tlearn: 0.0796136\ttotal: 2.36s\tremaining: 816ms\n",
      "743:\tlearn: 0.0794276\ttotal: 2.36s\tremaining: 812ms\n",
      "744:\tlearn: 0.0793068\ttotal: 2.36s\tremaining: 809ms\n",
      "745:\tlearn: 0.0791203\ttotal: 2.36s\tremaining: 805ms\n",
      "746:\tlearn: 0.0791043\ttotal: 2.37s\tremaining: 802ms\n",
      "747:\tlearn: 0.0789633\ttotal: 2.37s\tremaining: 798ms\n",
      "748:\tlearn: 0.0787884\ttotal: 2.37s\tremaining: 795ms\n",
      "749:\tlearn: 0.0786486\ttotal: 2.37s\tremaining: 791ms\n",
      "750:\tlearn: 0.0785739\ttotal: 2.38s\tremaining: 788ms\n",
      "751:\tlearn: 0.0784764\ttotal: 2.38s\tremaining: 784ms\n",
      "752:\tlearn: 0.0783812\ttotal: 2.38s\tremaining: 781ms\n",
      "753:\tlearn: 0.0782247\ttotal: 2.38s\tremaining: 778ms\n",
      "754:\tlearn: 0.0781403\ttotal: 2.38s\tremaining: 774ms\n",
      "755:\tlearn: 0.0780543\ttotal: 2.39s\tremaining: 771ms\n",
      "756:\tlearn: 0.0779263\ttotal: 2.39s\tremaining: 767ms\n",
      "757:\tlearn: 0.0778822\ttotal: 2.39s\tremaining: 764ms\n",
      "758:\tlearn: 0.0778427\ttotal: 2.39s\tremaining: 760ms\n",
      "759:\tlearn: 0.0777654\ttotal: 2.4s\tremaining: 757ms\n",
      "760:\tlearn: 0.0776646\ttotal: 2.4s\tremaining: 753ms\n",
      "761:\tlearn: 0.0776392\ttotal: 2.4s\tremaining: 750ms\n",
      "762:\tlearn: 0.0775358\ttotal: 2.4s\tremaining: 747ms\n",
      "763:\tlearn: 0.0775240\ttotal: 2.41s\tremaining: 743ms\n",
      "764:\tlearn: 0.0774939\ttotal: 2.41s\tremaining: 740ms\n",
      "765:\tlearn: 0.0774097\ttotal: 2.41s\tremaining: 736ms\n",
      "766:\tlearn: 0.0773489\ttotal: 2.41s\tremaining: 733ms\n",
      "767:\tlearn: 0.0773384\ttotal: 2.42s\tremaining: 730ms\n",
      "768:\tlearn: 0.0772690\ttotal: 2.42s\tremaining: 726ms\n",
      "769:\tlearn: 0.0772398\ttotal: 2.42s\tremaining: 723ms\n",
      "770:\tlearn: 0.0771678\ttotal: 2.42s\tremaining: 719ms\n",
      "771:\tlearn: 0.0771592\ttotal: 2.42s\tremaining: 716ms\n",
      "772:\tlearn: 0.0770997\ttotal: 2.43s\tremaining: 713ms\n",
      "773:\tlearn: 0.0770566\ttotal: 2.43s\tremaining: 709ms\n",
      "774:\tlearn: 0.0769652\ttotal: 2.43s\tremaining: 706ms\n",
      "775:\tlearn: 0.0769244\ttotal: 2.43s\tremaining: 703ms\n",
      "776:\tlearn: 0.0767936\ttotal: 2.44s\tremaining: 699ms\n",
      "777:\tlearn: 0.0766840\ttotal: 2.44s\tremaining: 696ms\n",
      "778:\tlearn: 0.0765967\ttotal: 2.44s\tremaining: 692ms\n",
      "779:\tlearn: 0.0765752\ttotal: 2.44s\tremaining: 689ms\n",
      "780:\tlearn: 0.0764804\ttotal: 2.44s\tremaining: 686ms\n",
      "781:\tlearn: 0.0764030\ttotal: 2.45s\tremaining: 682ms\n",
      "782:\tlearn: 0.0763693\ttotal: 2.45s\tremaining: 679ms\n",
      "783:\tlearn: 0.0762762\ttotal: 2.45s\tremaining: 676ms\n",
      "784:\tlearn: 0.0762416\ttotal: 2.45s\tremaining: 672ms\n",
      "785:\tlearn: 0.0762060\ttotal: 2.46s\tremaining: 669ms\n",
      "786:\tlearn: 0.0760679\ttotal: 2.46s\tremaining: 665ms\n",
      "787:\tlearn: 0.0759824\ttotal: 2.46s\tremaining: 662ms\n",
      "788:\tlearn: 0.0758696\ttotal: 2.46s\tremaining: 659ms\n",
      "789:\tlearn: 0.0757512\ttotal: 2.46s\tremaining: 655ms\n",
      "790:\tlearn: 0.0757170\ttotal: 2.47s\tremaining: 652ms\n",
      "791:\tlearn: 0.0756247\ttotal: 2.47s\tremaining: 649ms\n",
      "792:\tlearn: 0.0755622\ttotal: 2.47s\tremaining: 645ms\n",
      "793:\tlearn: 0.0754261\ttotal: 2.47s\tremaining: 642ms\n"
     ]
    },
    {
     "name": "stdout",
     "output_type": "stream",
     "text": [
      "794:\tlearn: 0.0753801\ttotal: 2.48s\tremaining: 639ms\n",
      "795:\tlearn: 0.0752550\ttotal: 2.48s\tremaining: 636ms\n",
      "796:\tlearn: 0.0751261\ttotal: 2.48s\tremaining: 632ms\n",
      "797:\tlearn: 0.0750589\ttotal: 2.48s\tremaining: 629ms\n",
      "798:\tlearn: 0.0750023\ttotal: 2.49s\tremaining: 626ms\n",
      "799:\tlearn: 0.0748265\ttotal: 2.49s\tremaining: 622ms\n",
      "800:\tlearn: 0.0747356\ttotal: 2.49s\tremaining: 619ms\n",
      "801:\tlearn: 0.0746002\ttotal: 2.49s\tremaining: 616ms\n",
      "802:\tlearn: 0.0745310\ttotal: 2.5s\tremaining: 612ms\n",
      "803:\tlearn: 0.0744984\ttotal: 2.5s\tremaining: 609ms\n",
      "804:\tlearn: 0.0743941\ttotal: 2.5s\tremaining: 606ms\n",
      "805:\tlearn: 0.0743182\ttotal: 2.5s\tremaining: 603ms\n",
      "806:\tlearn: 0.0743104\ttotal: 2.5s\tremaining: 599ms\n",
      "807:\tlearn: 0.0742657\ttotal: 2.51s\tremaining: 596ms\n",
      "808:\tlearn: 0.0740650\ttotal: 2.51s\tremaining: 593ms\n",
      "809:\tlearn: 0.0740189\ttotal: 2.51s\tremaining: 589ms\n",
      "810:\tlearn: 0.0739615\ttotal: 2.51s\tremaining: 586ms\n",
      "811:\tlearn: 0.0738243\ttotal: 2.52s\tremaining: 583ms\n",
      "812:\tlearn: 0.0737229\ttotal: 2.52s\tremaining: 580ms\n",
      "813:\tlearn: 0.0737017\ttotal: 2.52s\tremaining: 576ms\n",
      "814:\tlearn: 0.0736358\ttotal: 2.52s\tremaining: 573ms\n",
      "815:\tlearn: 0.0735902\ttotal: 2.53s\tremaining: 570ms\n",
      "816:\tlearn: 0.0734629\ttotal: 2.53s\tremaining: 566ms\n",
      "817:\tlearn: 0.0733798\ttotal: 2.53s\tremaining: 563ms\n",
      "818:\tlearn: 0.0733742\ttotal: 2.53s\tremaining: 560ms\n",
      "819:\tlearn: 0.0732607\ttotal: 2.54s\tremaining: 557ms\n",
      "820:\tlearn: 0.0731649\ttotal: 2.54s\tremaining: 553ms\n",
      "821:\tlearn: 0.0731247\ttotal: 2.54s\tremaining: 550ms\n",
      "822:\tlearn: 0.0729988\ttotal: 2.54s\tremaining: 547ms\n",
      "823:\tlearn: 0.0728274\ttotal: 2.54s\tremaining: 544ms\n",
      "824:\tlearn: 0.0728170\ttotal: 2.55s\tremaining: 540ms\n",
      "825:\tlearn: 0.0726934\ttotal: 2.55s\tremaining: 537ms\n",
      "826:\tlearn: 0.0725924\ttotal: 2.55s\tremaining: 534ms\n",
      "827:\tlearn: 0.0724801\ttotal: 2.55s\tremaining: 531ms\n",
      "828:\tlearn: 0.0724237\ttotal: 2.56s\tremaining: 527ms\n",
      "829:\tlearn: 0.0722987\ttotal: 2.56s\tremaining: 524ms\n",
      "830:\tlearn: 0.0721332\ttotal: 2.56s\tremaining: 521ms\n",
      "831:\tlearn: 0.0721231\ttotal: 2.56s\tremaining: 518ms\n",
      "832:\tlearn: 0.0720805\ttotal: 2.57s\tremaining: 515ms\n",
      "833:\tlearn: 0.0719716\ttotal: 2.57s\tremaining: 511ms\n",
      "834:\tlearn: 0.0719057\ttotal: 2.57s\tremaining: 508ms\n",
      "835:\tlearn: 0.0718673\ttotal: 2.57s\tremaining: 505ms\n",
      "836:\tlearn: 0.0717495\ttotal: 2.58s\tremaining: 502ms\n",
      "837:\tlearn: 0.0716175\ttotal: 2.58s\tremaining: 498ms\n",
      "838:\tlearn: 0.0716077\ttotal: 2.58s\tremaining: 495ms\n",
      "839:\tlearn: 0.0715778\ttotal: 2.58s\tremaining: 492ms\n",
      "840:\tlearn: 0.0714981\ttotal: 2.58s\tremaining: 489ms\n",
      "841:\tlearn: 0.0714469\ttotal: 2.59s\tremaining: 486ms\n",
      "842:\tlearn: 0.0713592\ttotal: 2.59s\tremaining: 482ms\n",
      "843:\tlearn: 0.0712590\ttotal: 2.59s\tremaining: 479ms\n",
      "844:\tlearn: 0.0710867\ttotal: 2.6s\tremaining: 476ms\n",
      "845:\tlearn: 0.0710446\ttotal: 2.6s\tremaining: 473ms\n",
      "846:\tlearn: 0.0709678\ttotal: 2.6s\tremaining: 470ms\n",
      "847:\tlearn: 0.0708872\ttotal: 2.6s\tremaining: 466ms\n",
      "848:\tlearn: 0.0707967\ttotal: 2.6s\tremaining: 463ms\n",
      "849:\tlearn: 0.0706999\ttotal: 2.61s\tremaining: 460ms\n",
      "850:\tlearn: 0.0706331\ttotal: 2.61s\tremaining: 457ms\n",
      "851:\tlearn: 0.0706024\ttotal: 2.61s\tremaining: 454ms\n",
      "852:\tlearn: 0.0705882\ttotal: 2.61s\tremaining: 450ms\n",
      "853:\tlearn: 0.0704815\ttotal: 2.62s\tremaining: 447ms\n",
      "854:\tlearn: 0.0704491\ttotal: 2.62s\tremaining: 444ms\n",
      "855:\tlearn: 0.0703042\ttotal: 2.62s\tremaining: 441ms\n",
      "856:\tlearn: 0.0701779\ttotal: 2.62s\tremaining: 438ms\n",
      "857:\tlearn: 0.0701067\ttotal: 2.63s\tremaining: 435ms\n",
      "858:\tlearn: 0.0699809\ttotal: 2.63s\tremaining: 431ms\n",
      "859:\tlearn: 0.0698737\ttotal: 2.63s\tremaining: 428ms\n",
      "860:\tlearn: 0.0697189\ttotal: 2.63s\tremaining: 425ms\n",
      "861:\tlearn: 0.0695974\ttotal: 2.63s\tremaining: 422ms\n",
      "862:\tlearn: 0.0695854\ttotal: 2.64s\tremaining: 419ms\n",
      "863:\tlearn: 0.0694869\ttotal: 2.64s\tremaining: 416ms\n",
      "864:\tlearn: 0.0693751\ttotal: 2.64s\tremaining: 412ms\n",
      "865:\tlearn: 0.0693509\ttotal: 2.65s\tremaining: 409ms\n",
      "866:\tlearn: 0.0692589\ttotal: 2.65s\tremaining: 406ms\n",
      "867:\tlearn: 0.0692509\ttotal: 2.65s\tremaining: 403ms\n",
      "868:\tlearn: 0.0691213\ttotal: 2.65s\tremaining: 400ms\n",
      "869:\tlearn: 0.0690234\ttotal: 2.65s\tremaining: 397ms\n",
      "870:\tlearn: 0.0688738\ttotal: 2.66s\tremaining: 394ms\n",
      "871:\tlearn: 0.0688619\ttotal: 2.66s\tremaining: 391ms\n",
      "872:\tlearn: 0.0687963\ttotal: 2.66s\tremaining: 387ms\n",
      "873:\tlearn: 0.0687852\ttotal: 2.66s\tremaining: 384ms\n",
      "874:\tlearn: 0.0687292\ttotal: 2.67s\tremaining: 381ms\n",
      "875:\tlearn: 0.0686600\ttotal: 2.67s\tremaining: 378ms\n",
      "876:\tlearn: 0.0685830\ttotal: 2.67s\tremaining: 375ms\n",
      "877:\tlearn: 0.0684813\ttotal: 2.67s\tremaining: 372ms\n",
      "878:\tlearn: 0.0683344\ttotal: 2.68s\tremaining: 368ms\n",
      "879:\tlearn: 0.0681700\ttotal: 2.68s\tremaining: 365ms\n",
      "880:\tlearn: 0.0680522\ttotal: 2.68s\tremaining: 362ms\n",
      "881:\tlearn: 0.0680300\ttotal: 2.68s\tremaining: 359ms\n",
      "882:\tlearn: 0.0679917\ttotal: 2.69s\tremaining: 356ms\n",
      "883:\tlearn: 0.0679603\ttotal: 2.69s\tremaining: 353ms\n",
      "884:\tlearn: 0.0678957\ttotal: 2.69s\tremaining: 350ms\n",
      "885:\tlearn: 0.0677601\ttotal: 2.69s\tremaining: 347ms\n",
      "886:\tlearn: 0.0677333\ttotal: 2.69s\tremaining: 343ms\n",
      "887:\tlearn: 0.0676654\ttotal: 2.7s\tremaining: 340ms\n",
      "888:\tlearn: 0.0675908\ttotal: 2.7s\tremaining: 337ms\n",
      "889:\tlearn: 0.0675365\ttotal: 2.7s\tremaining: 334ms\n",
      "890:\tlearn: 0.0674990\ttotal: 2.7s\tremaining: 331ms\n",
      "891:\tlearn: 0.0674097\ttotal: 2.71s\tremaining: 328ms\n",
      "892:\tlearn: 0.0673146\ttotal: 2.71s\tremaining: 325ms\n",
      "893:\tlearn: 0.0672066\ttotal: 2.71s\tremaining: 322ms\n",
      "894:\tlearn: 0.0671424\ttotal: 2.71s\tremaining: 318ms\n",
      "895:\tlearn: 0.0671031\ttotal: 2.72s\tremaining: 315ms\n",
      "896:\tlearn: 0.0670688\ttotal: 2.72s\tremaining: 312ms\n",
      "897:\tlearn: 0.0670425\ttotal: 2.72s\tremaining: 309ms\n",
      "898:\tlearn: 0.0670183\ttotal: 2.72s\tremaining: 306ms\n",
      "899:\tlearn: 0.0669955\ttotal: 2.73s\tremaining: 303ms\n",
      "900:\tlearn: 0.0669863\ttotal: 2.73s\tremaining: 300ms\n",
      "901:\tlearn: 0.0669020\ttotal: 2.73s\tremaining: 297ms\n",
      "902:\tlearn: 0.0668665\ttotal: 2.73s\tremaining: 294ms\n",
      "903:\tlearn: 0.0668083\ttotal: 2.73s\tremaining: 290ms\n",
      "904:\tlearn: 0.0667882\ttotal: 2.74s\tremaining: 287ms\n",
      "905:\tlearn: 0.0667567\ttotal: 2.74s\tremaining: 284ms\n",
      "906:\tlearn: 0.0666339\ttotal: 2.74s\tremaining: 281ms\n",
      "907:\tlearn: 0.0664826\ttotal: 2.75s\tremaining: 278ms\n",
      "908:\tlearn: 0.0664226\ttotal: 2.75s\tremaining: 275ms\n",
      "909:\tlearn: 0.0663759\ttotal: 2.75s\tremaining: 272ms\n",
      "910:\tlearn: 0.0663141\ttotal: 2.75s\tremaining: 269ms\n",
      "911:\tlearn: 0.0662679\ttotal: 2.75s\tremaining: 266ms\n",
      "912:\tlearn: 0.0661340\ttotal: 2.76s\tremaining: 263ms\n",
      "913:\tlearn: 0.0661083\ttotal: 2.76s\tremaining: 260ms\n",
      "914:\tlearn: 0.0660757\ttotal: 2.76s\tremaining: 257ms\n",
      "915:\tlearn: 0.0659772\ttotal: 2.76s\tremaining: 253ms\n",
      "916:\tlearn: 0.0659188\ttotal: 2.77s\tremaining: 250ms\n",
      "917:\tlearn: 0.0658580\ttotal: 2.77s\tremaining: 247ms\n",
      "918:\tlearn: 0.0657920\ttotal: 2.77s\tremaining: 244ms\n",
      "919:\tlearn: 0.0656841\ttotal: 2.77s\tremaining: 241ms\n",
      "920:\tlearn: 0.0655631\ttotal: 2.77s\tremaining: 238ms\n",
      "921:\tlearn: 0.0654684\ttotal: 2.78s\tremaining: 235ms\n",
      "922:\tlearn: 0.0653763\ttotal: 2.78s\tremaining: 232ms\n",
      "923:\tlearn: 0.0653268\ttotal: 2.78s\tremaining: 229ms\n",
      "924:\tlearn: 0.0652891\ttotal: 2.78s\tremaining: 226ms\n",
      "925:\tlearn: 0.0652384\ttotal: 2.79s\tremaining: 223ms\n",
      "926:\tlearn: 0.0651745\ttotal: 2.79s\tremaining: 220ms\n",
      "927:\tlearn: 0.0650816\ttotal: 2.79s\tremaining: 217ms\n",
      "928:\tlearn: 0.0649181\ttotal: 2.79s\tremaining: 213ms\n",
      "929:\tlearn: 0.0649062\ttotal: 2.79s\tremaining: 210ms\n",
      "930:\tlearn: 0.0648300\ttotal: 2.8s\tremaining: 207ms\n",
      "931:\tlearn: 0.0648017\ttotal: 2.8s\tremaining: 204ms\n",
      "932:\tlearn: 0.0647114\ttotal: 2.8s\tremaining: 201ms\n",
      "933:\tlearn: 0.0645718\ttotal: 2.8s\tremaining: 198ms\n",
      "934:\tlearn: 0.0644798\ttotal: 2.81s\tremaining: 195ms\n",
      "935:\tlearn: 0.0643440\ttotal: 2.81s\tremaining: 192ms\n",
      "936:\tlearn: 0.0642678\ttotal: 2.81s\tremaining: 189ms\n",
      "937:\tlearn: 0.0642212\ttotal: 2.81s\tremaining: 186ms\n",
      "938:\tlearn: 0.0641365\ttotal: 2.82s\tremaining: 183ms\n",
      "939:\tlearn: 0.0640783\ttotal: 2.82s\tremaining: 180ms\n",
      "940:\tlearn: 0.0640223\ttotal: 2.82s\tremaining: 177ms\n",
      "941:\tlearn: 0.0639334\ttotal: 2.82s\tremaining: 174ms\n",
      "942:\tlearn: 0.0639019\ttotal: 2.83s\tremaining: 171ms\n",
      "943:\tlearn: 0.0638090\ttotal: 2.83s\tremaining: 168ms\n",
      "944:\tlearn: 0.0636967\ttotal: 2.83s\tremaining: 165ms\n",
      "945:\tlearn: 0.0636531\ttotal: 2.83s\tremaining: 162ms\n",
      "946:\tlearn: 0.0635428\ttotal: 2.83s\tremaining: 159ms\n",
      "947:\tlearn: 0.0634878\ttotal: 2.84s\tremaining: 156ms\n",
      "948:\tlearn: 0.0633494\ttotal: 2.84s\tremaining: 153ms\n",
      "949:\tlearn: 0.0632311\ttotal: 2.84s\tremaining: 150ms\n",
      "950:\tlearn: 0.0631532\ttotal: 2.84s\tremaining: 147ms\n",
      "951:\tlearn: 0.0630534\ttotal: 2.85s\tremaining: 144ms\n",
      "952:\tlearn: 0.0630225\ttotal: 2.85s\tremaining: 141ms\n",
      "953:\tlearn: 0.0629693\ttotal: 2.85s\tremaining: 138ms\n",
      "954:\tlearn: 0.0629021\ttotal: 2.85s\tremaining: 134ms\n",
      "955:\tlearn: 0.0627495\ttotal: 2.86s\tremaining: 131ms\n",
      "956:\tlearn: 0.0625606\ttotal: 2.86s\tremaining: 128ms\n",
      "957:\tlearn: 0.0624514\ttotal: 2.86s\tremaining: 125ms\n",
      "958:\tlearn: 0.0624369\ttotal: 2.86s\tremaining: 122ms\n",
      "959:\tlearn: 0.0624054\ttotal: 2.87s\tremaining: 119ms\n",
      "960:\tlearn: 0.0622821\ttotal: 2.87s\tremaining: 116ms\n",
      "961:\tlearn: 0.0621671\ttotal: 2.87s\tremaining: 113ms\n",
      "962:\tlearn: 0.0621023\ttotal: 2.87s\tremaining: 110ms\n",
      "963:\tlearn: 0.0619992\ttotal: 2.88s\tremaining: 107ms\n",
      "964:\tlearn: 0.0619582\ttotal: 2.88s\tremaining: 104ms\n",
      "965:\tlearn: 0.0618062\ttotal: 2.88s\tremaining: 101ms\n",
      "966:\tlearn: 0.0617013\ttotal: 2.88s\tremaining: 98.4ms\n",
      "967:\tlearn: 0.0615463\ttotal: 2.88s\tremaining: 95.3ms\n",
      "968:\tlearn: 0.0614836\ttotal: 2.89s\tremaining: 92.3ms\n",
      "969:\tlearn: 0.0614767\ttotal: 2.89s\tremaining: 89.3ms\n",
      "970:\tlearn: 0.0613951\ttotal: 2.89s\tremaining: 86.3ms\n",
      "971:\tlearn: 0.0612514\ttotal: 2.89s\tremaining: 83.3ms\n",
      "972:\tlearn: 0.0611372\ttotal: 2.9s\tremaining: 80.4ms\n",
      "973:\tlearn: 0.0610982\ttotal: 2.9s\tremaining: 77.4ms\n",
      "974:\tlearn: 0.0609634\ttotal: 2.9s\tremaining: 74.4ms\n",
      "975:\tlearn: 0.0609247\ttotal: 2.9s\tremaining: 71.4ms\n",
      "976:\tlearn: 0.0608879\ttotal: 2.9s\tremaining: 68.4ms\n",
      "977:\tlearn: 0.0607728\ttotal: 2.91s\tremaining: 65.4ms\n",
      "978:\tlearn: 0.0607468\ttotal: 2.91s\tremaining: 62.4ms\n",
      "979:\tlearn: 0.0606495\ttotal: 2.91s\tremaining: 59.4ms\n",
      "980:\tlearn: 0.0605263\ttotal: 2.91s\tremaining: 56.4ms\n",
      "981:\tlearn: 0.0604810\ttotal: 2.92s\tremaining: 53.5ms\n",
      "982:\tlearn: 0.0603748\ttotal: 2.92s\tremaining: 50.5ms\n",
      "983:\tlearn: 0.0603212\ttotal: 2.92s\tremaining: 47.5ms\n",
      "984:\tlearn: 0.0602934\ttotal: 2.92s\tremaining: 44.5ms\n",
      "985:\tlearn: 0.0602562\ttotal: 2.92s\tremaining: 41.5ms\n",
      "986:\tlearn: 0.0601614\ttotal: 2.93s\tremaining: 38.6ms\n",
      "987:\tlearn: 0.0601363\ttotal: 2.93s\tremaining: 35.6ms\n",
      "988:\tlearn: 0.0600339\ttotal: 2.93s\tremaining: 32.6ms\n",
      "989:\tlearn: 0.0600051\ttotal: 2.93s\tremaining: 29.6ms\n",
      "990:\tlearn: 0.0598889\ttotal: 2.94s\tremaining: 26.7ms\n",
      "991:\tlearn: 0.0598649\ttotal: 2.94s\tremaining: 23.7ms\n",
      "992:\tlearn: 0.0597850\ttotal: 2.94s\tremaining: 20.7ms\n",
      "993:\tlearn: 0.0596404\ttotal: 2.94s\tremaining: 17.8ms\n",
      "994:\tlearn: 0.0595397\ttotal: 2.94s\tremaining: 14.8ms\n",
      "995:\tlearn: 0.0594323\ttotal: 2.95s\tremaining: 11.8ms\n",
      "996:\tlearn: 0.0593815\ttotal: 2.95s\tremaining: 8.88ms\n",
      "997:\tlearn: 0.0592983\ttotal: 2.95s\tremaining: 5.92ms\n",
      "998:\tlearn: 0.0591728\ttotal: 2.95s\tremaining: 2.96ms\n",
      "999:\tlearn: 0.0590565\ttotal: 2.96s\tremaining: 0us\n"
     ]
    }
   ],
   "source": [
    "cat_model = CatBoostClassifier().fit(X_train, y_train)"
   ]
  },
  {
   "cell_type": "code",
   "execution_count": 214,
   "metadata": {},
   "outputs": [
    {
     "data": {
      "text/plain": [
       "0.9554455445544554"
      ]
     },
     "execution_count": 214,
     "metadata": {},
     "output_type": "execute_result"
    }
   ],
   "source": [
    "y_pred = cat_model.predict(X_test)\n",
    "accuracy_score(y_test, y_pred)"
   ]
  },
  {
   "cell_type": "markdown",
   "metadata": {},
   "source": [
    "## Model Tuning"
   ]
  },
  {
   "cell_type": "code",
   "execution_count": 215,
   "metadata": {},
   "outputs": [],
   "source": [
    "catb_params = {\n",
    "    'iterations': [200,500],\n",
    "    'learning_rate': [0.01,0.05, 0.1],\n",
    "    'depth': [3,5,8] }"
   ]
  },
  {
   "cell_type": "code",
   "execution_count": 216,
   "metadata": {},
   "outputs": [
    {
     "name": "stdout",
     "output_type": "stream",
     "text": [
      "Fitting 5 folds for each of 18 candidates, totalling 90 fits\n"
     ]
    },
    {
     "name": "stderr",
     "output_type": "stream",
     "text": [
      "[Parallel(n_jobs=-1)]: Using backend LokyBackend with 8 concurrent workers.\n",
      "[Parallel(n_jobs=-1)]: Done  25 tasks      | elapsed:   14.2s\n",
      "[Parallel(n_jobs=-1)]: Done  90 out of  90 | elapsed:  1.3min finished\n"
     ]
    },
    {
     "name": "stdout",
     "output_type": "stream",
     "text": [
      "0:\tlearn: 0.6365081\ttotal: 3.23ms\tremaining: 644ms\n",
      "1:\tlearn: 0.5848591\ttotal: 9.96ms\tremaining: 987ms\n",
      "2:\tlearn: 0.5345221\ttotal: 15.6ms\tremaining: 1.02s\n",
      "3:\tlearn: 0.4914734\ttotal: 21.2ms\tremaining: 1.04s\n",
      "4:\tlearn: 0.4543201\ttotal: 27.3ms\tremaining: 1.06s\n",
      "5:\tlearn: 0.4230499\ttotal: 33.3ms\tremaining: 1.08s\n",
      "6:\tlearn: 0.3953455\ttotal: 38.7ms\tremaining: 1.07s\n",
      "7:\tlearn: 0.3701968\ttotal: 44.4ms\tremaining: 1.06s\n",
      "8:\tlearn: 0.3495653\ttotal: 49.9ms\tremaining: 1.06s\n",
      "9:\tlearn: 0.3309823\ttotal: 55.4ms\tremaining: 1.05s\n",
      "10:\tlearn: 0.3132876\ttotal: 60.9ms\tremaining: 1.05s\n",
      "11:\tlearn: 0.3011359\ttotal: 63.4ms\tremaining: 993ms\n",
      "12:\tlearn: 0.2888061\ttotal: 68ms\tremaining: 978ms\n",
      "13:\tlearn: 0.2757627\ttotal: 72.3ms\tremaining: 961ms\n",
      "14:\tlearn: 0.2640045\ttotal: 76.3ms\tremaining: 941ms\n",
      "15:\tlearn: 0.2547129\ttotal: 80.5ms\tremaining: 926ms\n",
      "16:\tlearn: 0.2467544\ttotal: 85.1ms\tremaining: 916ms\n",
      "17:\tlearn: 0.2387184\ttotal: 89.7ms\tremaining: 907ms\n",
      "18:\tlearn: 0.2318158\ttotal: 94ms\tremaining: 895ms\n",
      "19:\tlearn: 0.2267839\ttotal: 97ms\tremaining: 873ms\n",
      "20:\tlearn: 0.2208293\ttotal: 101ms\tremaining: 864ms\n",
      "21:\tlearn: 0.2140231\ttotal: 106ms\tremaining: 854ms\n",
      "22:\tlearn: 0.2092436\ttotal: 110ms\tremaining: 846ms\n",
      "23:\tlearn: 0.2044678\ttotal: 114ms\tremaining: 839ms\n",
      "24:\tlearn: 0.1984871\ttotal: 119ms\tremaining: 832ms\n",
      "25:\tlearn: 0.1944311\ttotal: 123ms\tremaining: 825ms\n",
      "26:\tlearn: 0.1921781\ttotal: 127ms\tremaining: 816ms\n",
      "27:\tlearn: 0.1885675\ttotal: 132ms\tremaining: 813ms\n",
      "28:\tlearn: 0.1838895\ttotal: 137ms\tremaining: 805ms\n",
      "29:\tlearn: 0.1803593\ttotal: 141ms\tremaining: 799ms\n",
      "30:\tlearn: 0.1779220\ttotal: 145ms\tremaining: 793ms\n",
      "31:\tlearn: 0.1740138\ttotal: 150ms\tremaining: 786ms\n",
      "32:\tlearn: 0.1706581\ttotal: 154ms\tremaining: 780ms\n",
      "33:\tlearn: 0.1679658\ttotal: 159ms\tremaining: 774ms\n",
      "34:\tlearn: 0.1649214\ttotal: 165ms\tremaining: 776ms\n",
      "35:\tlearn: 0.1631960\ttotal: 170ms\tremaining: 775ms\n",
      "36:\tlearn: 0.1604595\ttotal: 175ms\tremaining: 773ms\n",
      "37:\tlearn: 0.1587446\ttotal: 180ms\tremaining: 767ms\n",
      "38:\tlearn: 0.1568786\ttotal: 185ms\tremaining: 765ms\n",
      "39:\tlearn: 0.1553744\ttotal: 190ms\tremaining: 758ms\n",
      "40:\tlearn: 0.1545525\ttotal: 194ms\tremaining: 751ms\n",
      "41:\tlearn: 0.1534863\ttotal: 198ms\tremaining: 746ms\n",
      "42:\tlearn: 0.1513042\ttotal: 203ms\tremaining: 740ms\n",
      "43:\tlearn: 0.1499311\ttotal: 207ms\tremaining: 734ms\n",
      "44:\tlearn: 0.1474140\ttotal: 212ms\tremaining: 729ms\n",
      "45:\tlearn: 0.1460304\ttotal: 218ms\tremaining: 729ms\n",
      "46:\tlearn: 0.1445258\ttotal: 222ms\tremaining: 722ms\n",
      "47:\tlearn: 0.1426235\ttotal: 226ms\tremaining: 716ms\n",
      "48:\tlearn: 0.1399648\ttotal: 231ms\tremaining: 711ms\n",
      "49:\tlearn: 0.1382007\ttotal: 235ms\tremaining: 705ms\n",
      "50:\tlearn: 0.1368126\ttotal: 239ms\tremaining: 699ms\n",
      "51:\tlearn: 0.1361623\ttotal: 244ms\tremaining: 694ms\n",
      "52:\tlearn: 0.1347423\ttotal: 248ms\tremaining: 688ms\n",
      "53:\tlearn: 0.1327445\ttotal: 252ms\tremaining: 682ms\n",
      "54:\tlearn: 0.1304865\ttotal: 256ms\tremaining: 676ms\n",
      "55:\tlearn: 0.1291091\ttotal: 261ms\tremaining: 671ms\n",
      "56:\tlearn: 0.1276236\ttotal: 265ms\tremaining: 665ms\n",
      "57:\tlearn: 0.1265461\ttotal: 269ms\tremaining: 659ms\n",
      "58:\tlearn: 0.1253208\ttotal: 274ms\tremaining: 654ms\n",
      "59:\tlearn: 0.1246849\ttotal: 278ms\tremaining: 648ms\n",
      "60:\tlearn: 0.1236238\ttotal: 282ms\tremaining: 643ms\n",
      "61:\tlearn: 0.1231843\ttotal: 286ms\tremaining: 637ms\n",
      "62:\tlearn: 0.1231076\ttotal: 289ms\tremaining: 627ms\n",
      "63:\tlearn: 0.1217790\ttotal: 293ms\tremaining: 622ms\n",
      "64:\tlearn: 0.1207563\ttotal: 297ms\tremaining: 617ms\n",
      "65:\tlearn: 0.1206085\ttotal: 299ms\tremaining: 606ms\n",
      "66:\tlearn: 0.1189427\ttotal: 303ms\tremaining: 601ms\n",
      "67:\tlearn: 0.1177141\ttotal: 307ms\tremaining: 596ms\n",
      "68:\tlearn: 0.1167479\ttotal: 311ms\tremaining: 591ms\n",
      "69:\tlearn: 0.1155074\ttotal: 316ms\tremaining: 586ms\n",
      "70:\tlearn: 0.1145687\ttotal: 320ms\tremaining: 581ms\n",
      "71:\tlearn: 0.1139958\ttotal: 324ms\tremaining: 576ms\n",
      "72:\tlearn: 0.1135476\ttotal: 328ms\tremaining: 571ms\n",
      "73:\tlearn: 0.1117989\ttotal: 333ms\tremaining: 566ms\n",
      "74:\tlearn: 0.1102414\ttotal: 337ms\tremaining: 562ms\n",
      "75:\tlearn: 0.1092814\ttotal: 341ms\tremaining: 557ms\n",
      "76:\tlearn: 0.1086742\ttotal: 346ms\tremaining: 553ms\n",
      "77:\tlearn: 0.1072315\ttotal: 351ms\tremaining: 549ms\n",
      "78:\tlearn: 0.1068065\ttotal: 355ms\tremaining: 544ms\n",
      "79:\tlearn: 0.1059370\ttotal: 359ms\tremaining: 539ms\n",
      "80:\tlearn: 0.1050315\ttotal: 364ms\tremaining: 534ms\n",
      "81:\tlearn: 0.1044400\ttotal: 369ms\tremaining: 531ms\n",
      "82:\tlearn: 0.1039441\ttotal: 373ms\tremaining: 526ms\n",
      "83:\tlearn: 0.1030246\ttotal: 378ms\tremaining: 522ms\n",
      "84:\tlearn: 0.1022284\ttotal: 383ms\tremaining: 518ms\n",
      "85:\tlearn: 0.1015550\ttotal: 387ms\tremaining: 513ms\n",
      "86:\tlearn: 0.1010456\ttotal: 391ms\tremaining: 508ms\n",
      "87:\tlearn: 0.1005614\ttotal: 395ms\tremaining: 503ms\n",
      "88:\tlearn: 0.0996691\ttotal: 400ms\tremaining: 499ms\n",
      "89:\tlearn: 0.0989597\ttotal: 404ms\tremaining: 494ms\n",
      "90:\tlearn: 0.0983675\ttotal: 408ms\tremaining: 489ms\n",
      "91:\tlearn: 0.0975929\ttotal: 413ms\tremaining: 485ms\n",
      "92:\tlearn: 0.0962155\ttotal: 417ms\tremaining: 480ms\n",
      "93:\tlearn: 0.0949687\ttotal: 421ms\tremaining: 475ms\n",
      "94:\tlearn: 0.0935943\ttotal: 426ms\tremaining: 471ms\n",
      "95:\tlearn: 0.0931533\ttotal: 430ms\tremaining: 466ms\n",
      "96:\tlearn: 0.0923370\ttotal: 434ms\tremaining: 461ms\n",
      "97:\tlearn: 0.0922955\ttotal: 436ms\tremaining: 453ms\n",
      "98:\tlearn: 0.0915584\ttotal: 440ms\tremaining: 449ms\n",
      "99:\tlearn: 0.0906924\ttotal: 444ms\tremaining: 444ms\n",
      "100:\tlearn: 0.0900713\ttotal: 449ms\tremaining: 440ms\n",
      "101:\tlearn: 0.0895748\ttotal: 453ms\tremaining: 435ms\n",
      "102:\tlearn: 0.0888394\ttotal: 457ms\tremaining: 431ms\n",
      "103:\tlearn: 0.0882253\ttotal: 461ms\tremaining: 426ms\n",
      "104:\tlearn: 0.0870365\ttotal: 466ms\tremaining: 421ms\n",
      "105:\tlearn: 0.0859529\ttotal: 470ms\tremaining: 417ms\n",
      "106:\tlearn: 0.0854393\ttotal: 474ms\tremaining: 412ms\n",
      "107:\tlearn: 0.0851857\ttotal: 478ms\tremaining: 407ms\n",
      "108:\tlearn: 0.0843185\ttotal: 483ms\tremaining: 403ms\n",
      "109:\tlearn: 0.0839772\ttotal: 487ms\tremaining: 398ms\n",
      "110:\tlearn: 0.0830939\ttotal: 491ms\tremaining: 394ms\n",
      "111:\tlearn: 0.0822002\ttotal: 495ms\tremaining: 389ms\n",
      "112:\tlearn: 0.0815573\ttotal: 500ms\tremaining: 385ms\n",
      "113:\tlearn: 0.0804935\ttotal: 504ms\tremaining: 380ms\n",
      "114:\tlearn: 0.0798561\ttotal: 508ms\tremaining: 376ms\n",
      "115:\tlearn: 0.0793927\ttotal: 513ms\tremaining: 371ms\n",
      "116:\tlearn: 0.0784620\ttotal: 518ms\tremaining: 367ms\n",
      "117:\tlearn: 0.0772600\ttotal: 522ms\tremaining: 363ms\n",
      "118:\tlearn: 0.0767485\ttotal: 527ms\tremaining: 359ms\n",
      "119:\tlearn: 0.0765809\ttotal: 531ms\tremaining: 354ms\n",
      "120:\tlearn: 0.0757938\ttotal: 535ms\tremaining: 350ms\n",
      "121:\tlearn: 0.0751124\ttotal: 540ms\tremaining: 345ms\n",
      "122:\tlearn: 0.0748978\ttotal: 544ms\tremaining: 341ms\n",
      "123:\tlearn: 0.0738950\ttotal: 549ms\tremaining: 336ms\n",
      "124:\tlearn: 0.0736419\ttotal: 554ms\tremaining: 332ms\n",
      "125:\tlearn: 0.0729888\ttotal: 559ms\tremaining: 328ms\n",
      "126:\tlearn: 0.0725431\ttotal: 563ms\tremaining: 324ms\n",
      "127:\tlearn: 0.0717229\ttotal: 568ms\tremaining: 319ms\n",
      "128:\tlearn: 0.0714987\ttotal: 572ms\tremaining: 315ms\n",
      "129:\tlearn: 0.0712341\ttotal: 577ms\tremaining: 310ms\n",
      "130:\tlearn: 0.0705493\ttotal: 581ms\tremaining: 306ms\n",
      "131:\tlearn: 0.0700722\ttotal: 586ms\tremaining: 302ms\n",
      "132:\tlearn: 0.0693610\ttotal: 591ms\tremaining: 298ms\n",
      "133:\tlearn: 0.0692130\ttotal: 595ms\tremaining: 293ms\n",
      "134:\tlearn: 0.0685610\ttotal: 601ms\tremaining: 289ms\n",
      "135:\tlearn: 0.0682456\ttotal: 605ms\tremaining: 285ms\n",
      "136:\tlearn: 0.0679150\ttotal: 609ms\tremaining: 280ms\n",
      "137:\tlearn: 0.0672399\ttotal: 614ms\tremaining: 276ms\n",
      "138:\tlearn: 0.0667256\ttotal: 618ms\tremaining: 271ms\n",
      "139:\tlearn: 0.0661787\ttotal: 622ms\tremaining: 267ms\n",
      "140:\tlearn: 0.0658057\ttotal: 627ms\tremaining: 262ms\n",
      "141:\tlearn: 0.0657109\ttotal: 631ms\tremaining: 258ms\n",
      "142:\tlearn: 0.0653067\ttotal: 635ms\tremaining: 253ms\n",
      "143:\tlearn: 0.0652018\ttotal: 640ms\tremaining: 249ms\n",
      "144:\tlearn: 0.0646234\ttotal: 644ms\tremaining: 244ms\n",
      "145:\tlearn: 0.0643859\ttotal: 648ms\tremaining: 240ms\n",
      "146:\tlearn: 0.0638658\ttotal: 653ms\tremaining: 235ms\n",
      "147:\tlearn: 0.0630815\ttotal: 657ms\tremaining: 231ms\n",
      "148:\tlearn: 0.0622919\ttotal: 661ms\tremaining: 226ms\n",
      "149:\tlearn: 0.0617467\ttotal: 665ms\tremaining: 222ms\n",
      "150:\tlearn: 0.0613011\ttotal: 669ms\tremaining: 217ms\n",
      "151:\tlearn: 0.0604994\ttotal: 674ms\tremaining: 213ms\n",
      "152:\tlearn: 0.0597370\ttotal: 679ms\tremaining: 209ms\n",
      "153:\tlearn: 0.0591350\ttotal: 683ms\tremaining: 204ms\n",
      "154:\tlearn: 0.0587656\ttotal: 688ms\tremaining: 200ms\n",
      "155:\tlearn: 0.0583541\ttotal: 692ms\tremaining: 195ms\n",
      "156:\tlearn: 0.0580663\ttotal: 697ms\tremaining: 191ms\n",
      "157:\tlearn: 0.0576708\ttotal: 702ms\tremaining: 187ms\n",
      "158:\tlearn: 0.0572732\ttotal: 706ms\tremaining: 182ms\n",
      "159:\tlearn: 0.0570320\ttotal: 711ms\tremaining: 178ms\n",
      "160:\tlearn: 0.0564956\ttotal: 716ms\tremaining: 173ms\n",
      "161:\tlearn: 0.0558586\ttotal: 720ms\tremaining: 169ms\n",
      "162:\tlearn: 0.0555586\ttotal: 724ms\tremaining: 164ms\n",
      "163:\tlearn: 0.0550777\ttotal: 729ms\tremaining: 160ms\n",
      "164:\tlearn: 0.0544860\ttotal: 733ms\tremaining: 156ms\n",
      "165:\tlearn: 0.0541751\ttotal: 737ms\tremaining: 151ms\n",
      "166:\tlearn: 0.0538221\ttotal: 742ms\tremaining: 147ms\n",
      "167:\tlearn: 0.0536039\ttotal: 746ms\tremaining: 142ms\n",
      "168:\tlearn: 0.0534192\ttotal: 750ms\tremaining: 138ms\n",
      "169:\tlearn: 0.0532613\ttotal: 755ms\tremaining: 133ms\n",
      "170:\tlearn: 0.0530218\ttotal: 759ms\tremaining: 129ms\n",
      "171:\tlearn: 0.0526666\ttotal: 763ms\tremaining: 124ms\n",
      "172:\tlearn: 0.0522188\ttotal: 767ms\tremaining: 120ms\n",
      "173:\tlearn: 0.0519571\ttotal: 772ms\tremaining: 115ms\n",
      "174:\tlearn: 0.0517450\ttotal: 776ms\tremaining: 111ms\n",
      "175:\tlearn: 0.0514027\ttotal: 780ms\tremaining: 106ms\n",
      "176:\tlearn: 0.0510479\ttotal: 784ms\tremaining: 102ms\n",
      "177:\tlearn: 0.0509102\ttotal: 789ms\tremaining: 97.5ms\n",
      "178:\tlearn: 0.0505507\ttotal: 793ms\tremaining: 93ms\n",
      "179:\tlearn: 0.0502739\ttotal: 797ms\tremaining: 88.6ms\n",
      "180:\tlearn: 0.0500502\ttotal: 801ms\tremaining: 84.1ms\n",
      "181:\tlearn: 0.0499506\ttotal: 806ms\tremaining: 79.7ms\n",
      "182:\tlearn: 0.0496254\ttotal: 810ms\tremaining: 75.2ms\n",
      "183:\tlearn: 0.0492705\ttotal: 814ms\tremaining: 70.8ms\n",
      "184:\tlearn: 0.0490492\ttotal: 818ms\tremaining: 66.4ms\n",
      "185:\tlearn: 0.0486710\ttotal: 823ms\tremaining: 61.9ms\n",
      "186:\tlearn: 0.0483151\ttotal: 827ms\tremaining: 57.5ms\n",
      "187:\tlearn: 0.0480065\ttotal: 831ms\tremaining: 53ms\n",
      "188:\tlearn: 0.0479338\ttotal: 835ms\tremaining: 48.6ms\n",
      "189:\tlearn: 0.0475258\ttotal: 839ms\tremaining: 44.2ms\n",
      "190:\tlearn: 0.0472096\ttotal: 844ms\tremaining: 39.8ms\n",
      "191:\tlearn: 0.0468042\ttotal: 848ms\tremaining: 35.3ms\n",
      "192:\tlearn: 0.0464661\ttotal: 852ms\tremaining: 30.9ms\n",
      "193:\tlearn: 0.0462170\ttotal: 856ms\tremaining: 26.5ms\n"
     ]
    },
    {
     "name": "stdout",
     "output_type": "stream",
     "text": [
      "194:\tlearn: 0.0460125\ttotal: 861ms\tremaining: 22.1ms\n",
      "195:\tlearn: 0.0457340\ttotal: 866ms\tremaining: 17.7ms\n",
      "196:\tlearn: 0.0454476\ttotal: 870ms\tremaining: 13.3ms\n",
      "197:\tlearn: 0.0452781\ttotal: 875ms\tremaining: 8.84ms\n",
      "198:\tlearn: 0.0451544\ttotal: 879ms\tremaining: 4.42ms\n",
      "199:\tlearn: 0.0448430\ttotal: 884ms\tremaining: 0us\n"
     ]
    },
    {
     "data": {
      "text/plain": [
       "{'depth': 8, 'iterations': 200, 'learning_rate': 0.05}"
      ]
     },
     "execution_count": 216,
     "metadata": {},
     "output_type": "execute_result"
    }
   ],
   "source": [
    "catb = CatBoostClassifier()\n",
    "catb_cv_model = GridSearchCV(catb, catb_params, cv=5, n_jobs = -1, verbose = 2)\n",
    "catb_cv_model.fit(X_train, y_train)\n",
    "catb_cv_model.best_params_"
   ]
  },
  {
   "cell_type": "code",
   "execution_count": 217,
   "metadata": {},
   "outputs": [
    {
     "data": {
      "text/plain": [
       "{'depth': 8, 'iterations': 200, 'learning_rate': 0.05}"
      ]
     },
     "execution_count": 217,
     "metadata": {},
     "output_type": "execute_result"
    }
   ],
   "source": [
    "catb_cv_model.best_params_"
   ]
  },
  {
   "cell_type": "code",
   "execution_count": 218,
   "metadata": {},
   "outputs": [
    {
     "name": "stdout",
     "output_type": "stream",
     "text": [
      "0:\tlearn: 0.6365081\ttotal: 7.48ms\tremaining: 1.49s\n",
      "1:\tlearn: 0.5848591\ttotal: 12.4ms\tremaining: 1.23s\n",
      "2:\tlearn: 0.5345221\ttotal: 16.5ms\tremaining: 1.09s\n",
      "3:\tlearn: 0.4914734\ttotal: 21.1ms\tremaining: 1.03s\n",
      "4:\tlearn: 0.4543201\ttotal: 25.6ms\tremaining: 997ms\n",
      "5:\tlearn: 0.4230499\ttotal: 30.1ms\tremaining: 974ms\n",
      "6:\tlearn: 0.3953455\ttotal: 34.5ms\tremaining: 952ms\n",
      "7:\tlearn: 0.3701968\ttotal: 38.9ms\tremaining: 933ms\n",
      "8:\tlearn: 0.3495653\ttotal: 43.1ms\tremaining: 915ms\n",
      "9:\tlearn: 0.3309823\ttotal: 47.5ms\tremaining: 902ms\n",
      "10:\tlearn: 0.3132876\ttotal: 52.2ms\tremaining: 897ms\n",
      "11:\tlearn: 0.3011359\ttotal: 54.4ms\tremaining: 852ms\n",
      "12:\tlearn: 0.2888061\ttotal: 59.7ms\tremaining: 859ms\n",
      "13:\tlearn: 0.2757627\ttotal: 64.4ms\tremaining: 856ms\n",
      "14:\tlearn: 0.2640045\ttotal: 68.9ms\tremaining: 849ms\n",
      "15:\tlearn: 0.2547129\ttotal: 74ms\tremaining: 851ms\n",
      "16:\tlearn: 0.2467544\ttotal: 78.5ms\tremaining: 845ms\n",
      "17:\tlearn: 0.2387184\ttotal: 82.9ms\tremaining: 838ms\n",
      "18:\tlearn: 0.2318158\ttotal: 87.3ms\tremaining: 832ms\n",
      "19:\tlearn: 0.2267839\ttotal: 90.7ms\tremaining: 816ms\n",
      "20:\tlearn: 0.2208293\ttotal: 95ms\tremaining: 809ms\n",
      "21:\tlearn: 0.2140231\ttotal: 99.4ms\tremaining: 804ms\n",
      "22:\tlearn: 0.2092436\ttotal: 104ms\tremaining: 799ms\n",
      "23:\tlearn: 0.2044678\ttotal: 109ms\tremaining: 797ms\n",
      "24:\tlearn: 0.1984871\ttotal: 113ms\tremaining: 792ms\n",
      "25:\tlearn: 0.1944311\ttotal: 117ms\tremaining: 786ms\n",
      "26:\tlearn: 0.1921781\ttotal: 122ms\tremaining: 781ms\n",
      "27:\tlearn: 0.1885675\ttotal: 126ms\tremaining: 777ms\n",
      "28:\tlearn: 0.1838895\ttotal: 131ms\tremaining: 772ms\n",
      "29:\tlearn: 0.1803593\ttotal: 135ms\tremaining: 765ms\n",
      "30:\tlearn: 0.1779220\ttotal: 139ms\tremaining: 759ms\n",
      "31:\tlearn: 0.1740138\ttotal: 143ms\tremaining: 753ms\n",
      "32:\tlearn: 0.1706581\ttotal: 148ms\tremaining: 748ms\n",
      "33:\tlearn: 0.1679658\ttotal: 152ms\tremaining: 742ms\n",
      "34:\tlearn: 0.1649214\ttotal: 156ms\tremaining: 736ms\n",
      "35:\tlearn: 0.1631960\ttotal: 160ms\tremaining: 731ms\n",
      "36:\tlearn: 0.1604595\ttotal: 165ms\tremaining: 726ms\n",
      "37:\tlearn: 0.1587446\ttotal: 169ms\tremaining: 720ms\n",
      "38:\tlearn: 0.1568786\ttotal: 173ms\tremaining: 714ms\n",
      "39:\tlearn: 0.1553744\ttotal: 177ms\tremaining: 709ms\n",
      "40:\tlearn: 0.1545525\ttotal: 182ms\tremaining: 706ms\n",
      "41:\tlearn: 0.1534863\ttotal: 186ms\tremaining: 701ms\n",
      "42:\tlearn: 0.1513042\ttotal: 191ms\tremaining: 696ms\n",
      "43:\tlearn: 0.1499311\ttotal: 195ms\tremaining: 691ms\n",
      "44:\tlearn: 0.1474140\ttotal: 200ms\tremaining: 688ms\n",
      "45:\tlearn: 0.1460304\ttotal: 204ms\tremaining: 683ms\n",
      "46:\tlearn: 0.1445258\ttotal: 208ms\tremaining: 679ms\n",
      "47:\tlearn: 0.1426235\ttotal: 213ms\tremaining: 675ms\n",
      "48:\tlearn: 0.1399648\ttotal: 219ms\tremaining: 675ms\n",
      "49:\tlearn: 0.1382007\ttotal: 223ms\tremaining: 670ms\n",
      "50:\tlearn: 0.1368126\ttotal: 228ms\tremaining: 665ms\n",
      "51:\tlearn: 0.1361623\ttotal: 232ms\tremaining: 660ms\n",
      "52:\tlearn: 0.1347423\ttotal: 236ms\tremaining: 655ms\n",
      "53:\tlearn: 0.1327445\ttotal: 240ms\tremaining: 650ms\n",
      "54:\tlearn: 0.1304865\ttotal: 245ms\tremaining: 646ms\n",
      "55:\tlearn: 0.1291091\ttotal: 249ms\tremaining: 641ms\n",
      "56:\tlearn: 0.1276236\ttotal: 254ms\tremaining: 636ms\n",
      "57:\tlearn: 0.1265461\ttotal: 258ms\tremaining: 632ms\n",
      "58:\tlearn: 0.1253208\ttotal: 262ms\tremaining: 627ms\n",
      "59:\tlearn: 0.1246849\ttotal: 267ms\tremaining: 622ms\n",
      "60:\tlearn: 0.1236238\ttotal: 271ms\tremaining: 617ms\n",
      "61:\tlearn: 0.1231843\ttotal: 275ms\tremaining: 612ms\n",
      "62:\tlearn: 0.1231076\ttotal: 277ms\tremaining: 603ms\n",
      "63:\tlearn: 0.1217790\ttotal: 281ms\tremaining: 598ms\n",
      "64:\tlearn: 0.1207563\ttotal: 286ms\tremaining: 593ms\n",
      "65:\tlearn: 0.1206085\ttotal: 287ms\tremaining: 583ms\n",
      "66:\tlearn: 0.1189427\ttotal: 292ms\tremaining: 579ms\n",
      "67:\tlearn: 0.1177141\ttotal: 296ms\tremaining: 575ms\n",
      "68:\tlearn: 0.1167479\ttotal: 300ms\tremaining: 570ms\n",
      "69:\tlearn: 0.1155074\ttotal: 305ms\tremaining: 566ms\n",
      "70:\tlearn: 0.1145687\ttotal: 309ms\tremaining: 561ms\n",
      "71:\tlearn: 0.1139958\ttotal: 313ms\tremaining: 556ms\n",
      "72:\tlearn: 0.1135476\ttotal: 317ms\tremaining: 552ms\n",
      "73:\tlearn: 0.1117989\ttotal: 322ms\tremaining: 548ms\n",
      "74:\tlearn: 0.1102414\ttotal: 326ms\tremaining: 544ms\n",
      "75:\tlearn: 0.1092814\ttotal: 330ms\tremaining: 539ms\n",
      "76:\tlearn: 0.1086742\ttotal: 335ms\tremaining: 535ms\n",
      "77:\tlearn: 0.1072315\ttotal: 339ms\tremaining: 530ms\n",
      "78:\tlearn: 0.1068065\ttotal: 343ms\tremaining: 525ms\n",
      "79:\tlearn: 0.1059370\ttotal: 347ms\tremaining: 521ms\n",
      "80:\tlearn: 0.1050315\ttotal: 352ms\tremaining: 517ms\n",
      "81:\tlearn: 0.1044400\ttotal: 356ms\tremaining: 512ms\n",
      "82:\tlearn: 0.1039441\ttotal: 361ms\tremaining: 508ms\n",
      "83:\tlearn: 0.1030246\ttotal: 365ms\tremaining: 504ms\n",
      "84:\tlearn: 0.1022284\ttotal: 369ms\tremaining: 500ms\n",
      "85:\tlearn: 0.1015550\ttotal: 374ms\tremaining: 495ms\n",
      "86:\tlearn: 0.1010456\ttotal: 378ms\tremaining: 491ms\n",
      "87:\tlearn: 0.1005614\ttotal: 383ms\tremaining: 487ms\n",
      "88:\tlearn: 0.0996691\ttotal: 388ms\tremaining: 484ms\n",
      "89:\tlearn: 0.0989597\ttotal: 392ms\tremaining: 479ms\n",
      "90:\tlearn: 0.0983675\ttotal: 397ms\tremaining: 475ms\n",
      "91:\tlearn: 0.0975929\ttotal: 401ms\tremaining: 471ms\n",
      "92:\tlearn: 0.0962155\ttotal: 405ms\tremaining: 466ms\n",
      "93:\tlearn: 0.0949687\ttotal: 410ms\tremaining: 462ms\n",
      "94:\tlearn: 0.0935943\ttotal: 414ms\tremaining: 458ms\n",
      "95:\tlearn: 0.0931533\ttotal: 419ms\tremaining: 454ms\n",
      "96:\tlearn: 0.0923370\ttotal: 423ms\tremaining: 449ms\n",
      "97:\tlearn: 0.0922955\ttotal: 424ms\tremaining: 442ms\n",
      "98:\tlearn: 0.0915584\ttotal: 429ms\tremaining: 437ms\n",
      "99:\tlearn: 0.0906924\ttotal: 433ms\tremaining: 433ms\n",
      "100:\tlearn: 0.0900713\ttotal: 437ms\tremaining: 429ms\n",
      "101:\tlearn: 0.0895748\ttotal: 442ms\tremaining: 424ms\n",
      "102:\tlearn: 0.0888394\ttotal: 446ms\tremaining: 420ms\n",
      "103:\tlearn: 0.0882253\ttotal: 450ms\tremaining: 416ms\n",
      "104:\tlearn: 0.0870365\ttotal: 455ms\tremaining: 411ms\n",
      "105:\tlearn: 0.0859529\ttotal: 459ms\tremaining: 407ms\n",
      "106:\tlearn: 0.0854393\ttotal: 463ms\tremaining: 402ms\n",
      "107:\tlearn: 0.0851857\ttotal: 467ms\tremaining: 398ms\n",
      "108:\tlearn: 0.0843185\ttotal: 471ms\tremaining: 393ms\n",
      "109:\tlearn: 0.0839772\ttotal: 475ms\tremaining: 389ms\n",
      "110:\tlearn: 0.0830939\ttotal: 480ms\tremaining: 385ms\n",
      "111:\tlearn: 0.0822002\ttotal: 484ms\tremaining: 380ms\n",
      "112:\tlearn: 0.0815573\ttotal: 488ms\tremaining: 376ms\n",
      "113:\tlearn: 0.0804935\ttotal: 492ms\tremaining: 371ms\n",
      "114:\tlearn: 0.0798561\ttotal: 497ms\tremaining: 367ms\n",
      "115:\tlearn: 0.0793927\ttotal: 501ms\tremaining: 363ms\n",
      "116:\tlearn: 0.0784620\ttotal: 505ms\tremaining: 358ms\n",
      "117:\tlearn: 0.0772600\ttotal: 509ms\tremaining: 354ms\n",
      "118:\tlearn: 0.0767485\ttotal: 514ms\tremaining: 350ms\n",
      "119:\tlearn: 0.0765809\ttotal: 518ms\tremaining: 345ms\n",
      "120:\tlearn: 0.0757938\ttotal: 523ms\tremaining: 341ms\n",
      "121:\tlearn: 0.0751124\ttotal: 527ms\tremaining: 337ms\n",
      "122:\tlearn: 0.0748978\ttotal: 532ms\tremaining: 333ms\n",
      "123:\tlearn: 0.0738950\ttotal: 536ms\tremaining: 329ms\n",
      "124:\tlearn: 0.0736419\ttotal: 540ms\tremaining: 324ms\n",
      "125:\tlearn: 0.0729888\ttotal: 545ms\tremaining: 320ms\n",
      "126:\tlearn: 0.0725431\ttotal: 549ms\tremaining: 316ms\n",
      "127:\tlearn: 0.0717229\ttotal: 554ms\tremaining: 312ms\n",
      "128:\tlearn: 0.0714987\ttotal: 559ms\tremaining: 308ms\n",
      "129:\tlearn: 0.0712341\ttotal: 564ms\tremaining: 304ms\n",
      "130:\tlearn: 0.0705493\ttotal: 568ms\tremaining: 299ms\n",
      "131:\tlearn: 0.0700722\ttotal: 573ms\tremaining: 295ms\n",
      "132:\tlearn: 0.0693610\ttotal: 577ms\tremaining: 291ms\n",
      "133:\tlearn: 0.0692130\ttotal: 583ms\tremaining: 287ms\n",
      "134:\tlearn: 0.0685610\ttotal: 587ms\tremaining: 283ms\n",
      "135:\tlearn: 0.0682456\ttotal: 592ms\tremaining: 278ms\n",
      "136:\tlearn: 0.0679150\ttotal: 596ms\tremaining: 274ms\n",
      "137:\tlearn: 0.0672399\ttotal: 603ms\tremaining: 271ms\n",
      "138:\tlearn: 0.0667256\ttotal: 607ms\tremaining: 266ms\n",
      "139:\tlearn: 0.0661787\ttotal: 612ms\tremaining: 262ms\n",
      "140:\tlearn: 0.0658057\ttotal: 616ms\tremaining: 258ms\n",
      "141:\tlearn: 0.0657109\ttotal: 620ms\tremaining: 253ms\n",
      "142:\tlearn: 0.0653067\ttotal: 624ms\tremaining: 249ms\n",
      "143:\tlearn: 0.0652018\ttotal: 629ms\tremaining: 244ms\n",
      "144:\tlearn: 0.0646234\ttotal: 633ms\tremaining: 240ms\n",
      "145:\tlearn: 0.0643859\ttotal: 637ms\tremaining: 236ms\n",
      "146:\tlearn: 0.0638658\ttotal: 641ms\tremaining: 231ms\n",
      "147:\tlearn: 0.0630815\ttotal: 646ms\tremaining: 227ms\n",
      "148:\tlearn: 0.0622919\ttotal: 650ms\tremaining: 222ms\n",
      "149:\tlearn: 0.0617467\ttotal: 654ms\tremaining: 218ms\n",
      "150:\tlearn: 0.0613011\ttotal: 658ms\tremaining: 214ms\n",
      "151:\tlearn: 0.0604994\ttotal: 663ms\tremaining: 209ms\n",
      "152:\tlearn: 0.0597370\ttotal: 667ms\tremaining: 205ms\n",
      "153:\tlearn: 0.0591350\ttotal: 671ms\tremaining: 200ms\n",
      "154:\tlearn: 0.0587656\ttotal: 675ms\tremaining: 196ms\n",
      "155:\tlearn: 0.0583541\ttotal: 680ms\tremaining: 192ms\n",
      "156:\tlearn: 0.0580663\ttotal: 684ms\tremaining: 187ms\n",
      "157:\tlearn: 0.0576708\ttotal: 688ms\tremaining: 183ms\n",
      "158:\tlearn: 0.0572732\ttotal: 692ms\tremaining: 178ms\n",
      "159:\tlearn: 0.0570320\ttotal: 697ms\tremaining: 174ms\n",
      "160:\tlearn: 0.0564956\ttotal: 701ms\tremaining: 170ms\n",
      "161:\tlearn: 0.0558586\ttotal: 706ms\tremaining: 166ms\n",
      "162:\tlearn: 0.0555586\ttotal: 710ms\tremaining: 161ms\n",
      "163:\tlearn: 0.0550777\ttotal: 714ms\tremaining: 157ms\n",
      "164:\tlearn: 0.0544860\ttotal: 719ms\tremaining: 152ms\n",
      "165:\tlearn: 0.0541751\ttotal: 723ms\tremaining: 148ms\n",
      "166:\tlearn: 0.0538221\ttotal: 727ms\tremaining: 144ms\n",
      "167:\tlearn: 0.0536039\ttotal: 732ms\tremaining: 139ms\n",
      "168:\tlearn: 0.0534192\ttotal: 736ms\tremaining: 135ms\n",
      "169:\tlearn: 0.0532613\ttotal: 740ms\tremaining: 131ms\n",
      "170:\tlearn: 0.0530218\ttotal: 744ms\tremaining: 126ms\n",
      "171:\tlearn: 0.0526666\ttotal: 749ms\tremaining: 122ms\n",
      "172:\tlearn: 0.0522188\ttotal: 753ms\tremaining: 118ms\n",
      "173:\tlearn: 0.0519571\ttotal: 757ms\tremaining: 113ms\n",
      "174:\tlearn: 0.0517450\ttotal: 762ms\tremaining: 109ms\n",
      "175:\tlearn: 0.0514027\ttotal: 766ms\tremaining: 105ms\n",
      "176:\tlearn: 0.0510479\ttotal: 771ms\tremaining: 100ms\n",
      "177:\tlearn: 0.0509102\ttotal: 775ms\tremaining: 95.8ms\n",
      "178:\tlearn: 0.0505507\ttotal: 780ms\tremaining: 91.5ms\n",
      "179:\tlearn: 0.0502739\ttotal: 785ms\tremaining: 87.2ms\n",
      "180:\tlearn: 0.0500502\ttotal: 790ms\tremaining: 82.9ms\n",
      "181:\tlearn: 0.0499506\ttotal: 795ms\tremaining: 78.6ms\n",
      "182:\tlearn: 0.0496254\ttotal: 801ms\tremaining: 74.4ms\n",
      "183:\tlearn: 0.0492705\ttotal: 805ms\tremaining: 70ms\n",
      "184:\tlearn: 0.0490492\ttotal: 810ms\tremaining: 65.7ms\n",
      "185:\tlearn: 0.0486710\ttotal: 815ms\tremaining: 61.3ms\n",
      "186:\tlearn: 0.0483151\ttotal: 820ms\tremaining: 57ms\n",
      "187:\tlearn: 0.0480065\ttotal: 824ms\tremaining: 52.6ms\n",
      "188:\tlearn: 0.0479338\ttotal: 829ms\tremaining: 48.2ms\n",
      "189:\tlearn: 0.0475258\ttotal: 833ms\tremaining: 43.8ms\n",
      "190:\tlearn: 0.0472096\ttotal: 837ms\tremaining: 39.4ms\n",
      "191:\tlearn: 0.0468042\ttotal: 841ms\tremaining: 35.1ms\n",
      "192:\tlearn: 0.0464661\ttotal: 846ms\tremaining: 30.7ms\n",
      "193:\tlearn: 0.0462170\ttotal: 850ms\tremaining: 26.3ms\n",
      "194:\tlearn: 0.0460125\ttotal: 854ms\tremaining: 21.9ms\n",
      "195:\tlearn: 0.0457340\ttotal: 858ms\tremaining: 17.5ms\n",
      "196:\tlearn: 0.0454476\ttotal: 863ms\tremaining: 13.1ms\n"
     ]
    },
    {
     "name": "stdout",
     "output_type": "stream",
     "text": [
      "197:\tlearn: 0.0452781\ttotal: 868ms\tremaining: 8.77ms\n",
      "198:\tlearn: 0.0451544\ttotal: 873ms\tremaining: 4.38ms\n",
      "199:\tlearn: 0.0448430\ttotal: 877ms\tremaining: 0us\n"
     ]
    }
   ],
   "source": [
    "catb = CatBoostClassifier(iterations = 200, \n",
    "                          learning_rate = 0.05, \n",
    "                          depth = 8)\n",
    "\n",
    "catb_tuned = catb.fit(X_train, y_train)\n",
    "y_pred = catb_tuned.predict(X_test)"
   ]
  },
  {
   "cell_type": "code",
   "execution_count": 219,
   "metadata": {},
   "outputs": [
    {
     "data": {
      "text/plain": [
       "0.9529702970297029"
      ]
     },
     "execution_count": 219,
     "metadata": {},
     "output_type": "execute_result"
    }
   ],
   "source": [
    "y_pred = catb_tuned.predict(X_test)\n",
    "accuracy_score(y_test, y_pred)"
   ]
  },
  {
   "cell_type": "markdown",
   "metadata": {},
   "source": [
    "# Tüm Modellerin Karşılaştırılması"
   ]
  },
  {
   "cell_type": "code",
   "execution_count": 220,
   "metadata": {},
   "outputs": [],
   "source": [
    "knn = KNeighborsClassifier(17)\n",
    "knn_tuned = knn.fit(X_train, y_train)"
   ]
  },
  {
   "cell_type": "code",
   "execution_count": 221,
   "metadata": {},
   "outputs": [
    {
     "name": "stdout",
     "output_type": "stream",
     "text": [
      "Optimization terminated successfully.\n",
      "         Current function value: 0.261768\n",
      "         Iterations 7\n"
     ]
    },
    {
     "data": {
      "text/html": [
       "<table class=\"simpletable\">\n",
       "<caption>Logit Regression Results</caption>\n",
       "<tr>\n",
       "  <th>Dep. Variable:</th>          <td>bad</td>       <th>  No. Observations:  </th>  <td>  2018</td>  \n",
       "</tr>\n",
       "<tr>\n",
       "  <th>Model:</th>                 <td>Logit</td>      <th>  Df Residuals:      </th>  <td>  2008</td>  \n",
       "</tr>\n",
       "<tr>\n",
       "  <th>Method:</th>                 <td>MLE</td>       <th>  Df Model:          </th>  <td>     9</td>  \n",
       "</tr>\n",
       "<tr>\n",
       "  <th>Date:</th>            <td>Fri, 14 Aug 2020</td> <th>  Pseudo R-squ.:     </th>  <td>0.1227</td>  \n",
       "</tr>\n",
       "<tr>\n",
       "  <th>Time:</th>                <td>09:49:28</td>     <th>  Log-Likelihood:    </th> <td> -528.25</td> \n",
       "</tr>\n",
       "<tr>\n",
       "  <th>converged:</th>             <td>True</td>       <th>  LL-Null:           </th> <td> -602.11</td> \n",
       "</tr>\n",
       "<tr>\n",
       "  <th>Covariance Type:</th>     <td>nonrobust</td>    <th>  LLR p-value:       </th> <td>2.621e-27</td>\n",
       "</tr>\n",
       "</table>\n",
       "<table class=\"simpletable\">\n",
       "<tr>\n",
       "     <td></td>        <th>coef</th>     <th>std err</th>      <th>z</th>      <th>P>|z|</th>  <th>[0.025</th>    <th>0.975]</th>  \n",
       "</tr>\n",
       "<tr>\n",
       "  <th>loan</th>    <td>-2.706e-05</td> <td> 1.04e-05</td> <td>   -2.600</td> <td> 0.009</td> <td>-4.74e-05</td> <td>-6.66e-06</td>\n",
       "</tr>\n",
       "<tr>\n",
       "  <th>mortdue</th> <td>-3.409e-07</td> <td> 5.22e-06</td> <td>   -0.065</td> <td> 0.948</td> <td>-1.06e-05</td> <td>  9.9e-06</td>\n",
       "</tr>\n",
       "<tr>\n",
       "  <th>value</th>   <td>-3.173e-06</td> <td> 4.29e-06</td> <td>   -0.739</td> <td> 0.460</td> <td>-1.16e-05</td> <td> 5.24e-06</td>\n",
       "</tr>\n",
       "<tr>\n",
       "  <th>yoj</th>     <td>   -0.0342</td> <td>    0.013</td> <td>   -2.727</td> <td> 0.006</td> <td>   -0.059</td> <td>   -0.010</td>\n",
       "</tr>\n",
       "<tr>\n",
       "  <th>derog</th>   <td>    0.5800</td> <td>    0.122</td> <td>    4.758</td> <td> 0.000</td> <td>    0.341</td> <td>    0.819</td>\n",
       "</tr>\n",
       "<tr>\n",
       "  <th>delinq</th>  <td>    0.7398</td> <td>    0.086</td> <td>    8.610</td> <td> 0.000</td> <td>    0.571</td> <td>    0.908</td>\n",
       "</tr>\n",
       "<tr>\n",
       "  <th>clage</th>   <td>   -0.0084</td> <td>    0.001</td> <td>   -6.358</td> <td> 0.000</td> <td>   -0.011</td> <td>   -0.006</td>\n",
       "</tr>\n",
       "<tr>\n",
       "  <th>ninq</th>    <td>    0.0266</td> <td>    0.047</td> <td>    0.571</td> <td> 0.568</td> <td>   -0.065</td> <td>    0.118</td>\n",
       "</tr>\n",
       "<tr>\n",
       "  <th>clno</th>    <td>   -0.0505</td> <td>    0.011</td> <td>   -4.635</td> <td> 0.000</td> <td>   -0.072</td> <td>   -0.029</td>\n",
       "</tr>\n",
       "<tr>\n",
       "  <th>debtinc</th> <td>    0.0222</td> <td>    0.007</td> <td>    3.126</td> <td> 0.002</td> <td>    0.008</td> <td>    0.036</td>\n",
       "</tr>\n",
       "</table>"
      ],
      "text/plain": [
       "<class 'statsmodels.iolib.summary.Summary'>\n",
       "\"\"\"\n",
       "                           Logit Regression Results                           \n",
       "==============================================================================\n",
       "Dep. Variable:                    bad   No. Observations:                 2018\n",
       "Model:                          Logit   Df Residuals:                     2008\n",
       "Method:                           MLE   Df Model:                            9\n",
       "Date:                Fri, 14 Aug 2020   Pseudo R-squ.:                  0.1227\n",
       "Time:                        09:49:28   Log-Likelihood:                -528.25\n",
       "converged:                       True   LL-Null:                       -602.11\n",
       "Covariance Type:            nonrobust   LLR p-value:                 2.621e-27\n",
       "==============================================================================\n",
       "                 coef    std err          z      P>|z|      [0.025      0.975]\n",
       "------------------------------------------------------------------------------\n",
       "loan       -2.706e-05   1.04e-05     -2.600      0.009   -4.74e-05   -6.66e-06\n",
       "mortdue    -3.409e-07   5.22e-06     -0.065      0.948   -1.06e-05     9.9e-06\n",
       "value      -3.173e-06   4.29e-06     -0.739      0.460   -1.16e-05    5.24e-06\n",
       "yoj           -0.0342      0.013     -2.727      0.006      -0.059      -0.010\n",
       "derog          0.5800      0.122      4.758      0.000       0.341       0.819\n",
       "delinq         0.7398      0.086      8.610      0.000       0.571       0.908\n",
       "clage         -0.0084      0.001     -6.358      0.000      -0.011      -0.006\n",
       "ninq           0.0266      0.047      0.571      0.568      -0.065       0.118\n",
       "clno          -0.0505      0.011     -4.635      0.000      -0.072      -0.029\n",
       "debtinc        0.0222      0.007      3.126      0.002       0.008       0.036\n",
       "==============================================================================\n",
       "\"\"\""
      ]
     },
     "execution_count": 221,
     "metadata": {},
     "output_type": "execute_result"
    }
   ],
   "source": [
    "loj = sm.Logit(y, X)\n",
    "loj_model= loj.fit()\n",
    "loj_model.summary()"
   ]
  },
  {
   "cell_type": "code",
   "execution_count": 222,
   "metadata": {},
   "outputs": [],
   "source": [
    "svc_tuned = SVC(kernel = \"linear\", C = 5).fit(X_train, y_train)"
   ]
  },
  {
   "cell_type": "code",
   "execution_count": 223,
   "metadata": {},
   "outputs": [
    {
     "data": {
      "text/plain": [
       "MLPClassifier(activation='relu', alpha=0.0001, batch_size='auto', beta_1=0.9,\n",
       "              beta_2=0.999, early_stopping=False, epsilon=1e-08,\n",
       "              hidden_layer_sizes=(100, 100, 100), learning_rate='constant',\n",
       "              learning_rate_init=0.001, max_fun=15000, max_iter=200,\n",
       "              momentum=0.9, n_iter_no_change=10, nesterovs_momentum=True,\n",
       "              power_t=0.5, random_state=None, shuffle=True, solver='adam',\n",
       "              tol=0.0001, validation_fraction=0.1, verbose=False,\n",
       "              warm_start=False)"
      ]
     },
     "execution_count": 223,
     "metadata": {},
     "output_type": "execute_result"
    }
   ],
   "source": [
    "mlpc_tuned.fit(X_train_scaled, y_train)"
   ]
  },
  {
   "cell_type": "code",
   "execution_count": 224,
   "metadata": {},
   "outputs": [],
   "source": [
    "cart = tree.DecisionTreeClassifier(max_depth = 7, min_samples_split = 22)\n",
    "cart_tuned = cart.fit(X_train, y_train)"
   ]
  },
  {
   "cell_type": "code",
   "execution_count": 225,
   "metadata": {},
   "outputs": [
    {
     "ename": "SyntaxError",
     "evalue": "unexpected EOF while parsing (<ipython-input-225-bc60bf54e550>, line 6)",
     "output_type": "error",
     "traceback": [
      "\u001b[1;36m  File \u001b[1;32m\"<ipython-input-225-bc60bf54e550>\"\u001b[1;36m, line \u001b[1;32m6\u001b[0m\n\u001b[1;33m    rf_tuned.fit(X_train, y_train\u001b[0m\n\u001b[1;37m                                 ^\u001b[0m\n\u001b[1;31mSyntaxError\u001b[0m\u001b[1;31m:\u001b[0m unexpected EOF while parsing\n"
     ]
    }
   ],
   "source": [
    "rf_tuned = RandomForestClassifier(max_depth = 10, \n",
    "                                  max_features = 8, \n",
    "                                  min_samples_split = 10,\n",
    "                                  n_estimators = 1000)\n",
    "\n",
    "rf_tuned.fit(X_train, y_train"
   ]
  },
  {
   "cell_type": "code",
   "execution_count": 226,
   "metadata": {},
   "outputs": [],
   "source": [
    "gbm_tuned =  gbm.fit(X_train,y_train)"
   ]
  },
  {
   "cell_type": "code",
   "execution_count": 227,
   "metadata": {},
   "outputs": [
    {
     "name": "stdout",
     "output_type": "stream",
     "text": [
      "0:\tlearn: 0.6365081\ttotal: 6.44ms\tremaining: 1.28s\n",
      "1:\tlearn: 0.5848591\ttotal: 11.6ms\tremaining: 1.15s\n",
      "2:\tlearn: 0.5345221\ttotal: 16.1ms\tremaining: 1.06s\n",
      "3:\tlearn: 0.4914734\ttotal: 20.7ms\tremaining: 1.01s\n",
      "4:\tlearn: 0.4543201\ttotal: 25.1ms\tremaining: 981ms\n",
      "5:\tlearn: 0.4230499\ttotal: 29.8ms\tremaining: 963ms\n",
      "6:\tlearn: 0.3953455\ttotal: 35.1ms\tremaining: 968ms\n",
      "7:\tlearn: 0.3701968\ttotal: 39.9ms\tremaining: 958ms\n",
      "8:\tlearn: 0.3495653\ttotal: 44.8ms\tremaining: 950ms\n",
      "9:\tlearn: 0.3309823\ttotal: 49.6ms\tremaining: 942ms\n",
      "10:\tlearn: 0.3132876\ttotal: 54ms\tremaining: 927ms\n",
      "11:\tlearn: 0.3011359\ttotal: 56ms\tremaining: 877ms\n",
      "12:\tlearn: 0.2888061\ttotal: 60.4ms\tremaining: 868ms\n",
      "13:\tlearn: 0.2757627\ttotal: 65ms\tremaining: 863ms\n",
      "14:\tlearn: 0.2640045\ttotal: 69.4ms\tremaining: 856ms\n",
      "15:\tlearn: 0.2547129\ttotal: 74ms\tremaining: 851ms\n",
      "16:\tlearn: 0.2467544\ttotal: 78.3ms\tremaining: 843ms\n",
      "17:\tlearn: 0.2387184\ttotal: 82.8ms\tremaining: 837ms\n",
      "18:\tlearn: 0.2318158\ttotal: 87.2ms\tremaining: 831ms\n",
      "19:\tlearn: 0.2267839\ttotal: 90.5ms\tremaining: 815ms\n",
      "20:\tlearn: 0.2208293\ttotal: 95ms\tremaining: 810ms\n",
      "21:\tlearn: 0.2140231\ttotal: 99.3ms\tremaining: 803ms\n",
      "22:\tlearn: 0.2092436\ttotal: 104ms\tremaining: 798ms\n",
      "23:\tlearn: 0.2044678\ttotal: 108ms\tremaining: 792ms\n",
      "24:\tlearn: 0.1984871\ttotal: 113ms\tremaining: 788ms\n",
      "25:\tlearn: 0.1944311\ttotal: 117ms\tremaining: 784ms\n",
      "26:\tlearn: 0.1921781\ttotal: 121ms\tremaining: 778ms\n",
      "27:\tlearn: 0.1885675\ttotal: 126ms\tremaining: 774ms\n",
      "28:\tlearn: 0.1838895\ttotal: 130ms\tremaining: 768ms\n",
      "29:\tlearn: 0.1803593\ttotal: 135ms\tremaining: 762ms\n",
      "30:\tlearn: 0.1779220\ttotal: 139ms\tremaining: 759ms\n",
      "31:\tlearn: 0.1740138\ttotal: 144ms\tremaining: 755ms\n",
      "32:\tlearn: 0.1706581\ttotal: 148ms\tremaining: 749ms\n",
      "33:\tlearn: 0.1679658\ttotal: 152ms\tremaining: 744ms\n",
      "34:\tlearn: 0.1649214\ttotal: 157ms\tremaining: 739ms\n",
      "35:\tlearn: 0.1631960\ttotal: 161ms\tremaining: 732ms\n",
      "36:\tlearn: 0.1604595\ttotal: 165ms\tremaining: 727ms\n",
      "37:\tlearn: 0.1587446\ttotal: 169ms\tremaining: 722ms\n",
      "38:\tlearn: 0.1568786\ttotal: 174ms\tremaining: 716ms\n",
      "39:\tlearn: 0.1553744\ttotal: 178ms\tremaining: 711ms\n",
      "40:\tlearn: 0.1545525\ttotal: 184ms\tremaining: 713ms\n",
      "41:\tlearn: 0.1534863\ttotal: 188ms\tremaining: 709ms\n",
      "42:\tlearn: 0.1513042\ttotal: 193ms\tremaining: 706ms\n",
      "43:\tlearn: 0.1499311\ttotal: 198ms\tremaining: 701ms\n",
      "44:\tlearn: 0.1474140\ttotal: 202ms\tremaining: 696ms\n",
      "45:\tlearn: 0.1460304\ttotal: 207ms\tremaining: 693ms\n",
      "46:\tlearn: 0.1445258\ttotal: 212ms\tremaining: 690ms\n",
      "47:\tlearn: 0.1426235\ttotal: 218ms\tremaining: 690ms\n",
      "48:\tlearn: 0.1399648\ttotal: 223ms\tremaining: 686ms\n",
      "49:\tlearn: 0.1382007\ttotal: 227ms\tremaining: 681ms\n",
      "50:\tlearn: 0.1368126\ttotal: 231ms\tremaining: 675ms\n",
      "51:\tlearn: 0.1361623\ttotal: 236ms\tremaining: 671ms\n",
      "52:\tlearn: 0.1347423\ttotal: 240ms\tremaining: 666ms\n",
      "53:\tlearn: 0.1327445\ttotal: 244ms\tremaining: 661ms\n",
      "54:\tlearn: 0.1304865\ttotal: 249ms\tremaining: 655ms\n",
      "55:\tlearn: 0.1291091\ttotal: 253ms\tremaining: 651ms\n",
      "56:\tlearn: 0.1276236\ttotal: 258ms\tremaining: 646ms\n",
      "57:\tlearn: 0.1265461\ttotal: 262ms\tremaining: 641ms\n",
      "58:\tlearn: 0.1253208\ttotal: 266ms\tremaining: 637ms\n",
      "59:\tlearn: 0.1246849\ttotal: 271ms\tremaining: 631ms\n",
      "60:\tlearn: 0.1236238\ttotal: 275ms\tremaining: 626ms\n",
      "61:\tlearn: 0.1231843\ttotal: 279ms\tremaining: 621ms\n",
      "62:\tlearn: 0.1231076\ttotal: 281ms\tremaining: 612ms\n",
      "63:\tlearn: 0.1217790\ttotal: 286ms\tremaining: 607ms\n",
      "64:\tlearn: 0.1207563\ttotal: 290ms\tremaining: 602ms\n",
      "65:\tlearn: 0.1206085\ttotal: 292ms\tremaining: 592ms\n",
      "66:\tlearn: 0.1189427\ttotal: 296ms\tremaining: 587ms\n",
      "67:\tlearn: 0.1177141\ttotal: 300ms\tremaining: 583ms\n",
      "68:\tlearn: 0.1167479\ttotal: 304ms\tremaining: 578ms\n",
      "69:\tlearn: 0.1155074\ttotal: 309ms\tremaining: 573ms\n",
      "70:\tlearn: 0.1145687\ttotal: 313ms\tremaining: 568ms\n",
      "71:\tlearn: 0.1139958\ttotal: 317ms\tremaining: 563ms\n",
      "72:\tlearn: 0.1135476\ttotal: 321ms\tremaining: 559ms\n",
      "73:\tlearn: 0.1117989\ttotal: 325ms\tremaining: 554ms\n",
      "74:\tlearn: 0.1102414\ttotal: 330ms\tremaining: 549ms\n",
      "75:\tlearn: 0.1092814\ttotal: 334ms\tremaining: 545ms\n",
      "76:\tlearn: 0.1086742\ttotal: 338ms\tremaining: 540ms\n",
      "77:\tlearn: 0.1072315\ttotal: 342ms\tremaining: 536ms\n",
      "78:\tlearn: 0.1068065\ttotal: 347ms\tremaining: 531ms\n",
      "79:\tlearn: 0.1059370\ttotal: 351ms\tremaining: 526ms\n",
      "80:\tlearn: 0.1050315\ttotal: 355ms\tremaining: 522ms\n",
      "81:\tlearn: 0.1044400\ttotal: 360ms\tremaining: 518ms\n",
      "82:\tlearn: 0.1039441\ttotal: 365ms\tremaining: 514ms\n",
      "83:\tlearn: 0.1030246\ttotal: 369ms\tremaining: 510ms\n",
      "84:\tlearn: 0.1022284\ttotal: 374ms\tremaining: 505ms\n",
      "85:\tlearn: 0.1015550\ttotal: 378ms\tremaining: 501ms\n",
      "86:\tlearn: 0.1010456\ttotal: 383ms\tremaining: 497ms\n",
      "87:\tlearn: 0.1005614\ttotal: 387ms\tremaining: 493ms\n",
      "88:\tlearn: 0.0996691\ttotal: 391ms\tremaining: 488ms\n",
      "89:\tlearn: 0.0989597\ttotal: 396ms\tremaining: 484ms\n",
      "90:\tlearn: 0.0983675\ttotal: 400ms\tremaining: 479ms\n",
      "91:\tlearn: 0.0975929\ttotal: 405ms\tremaining: 475ms\n",
      "92:\tlearn: 0.0962155\ttotal: 409ms\tremaining: 471ms\n",
      "93:\tlearn: 0.0949687\ttotal: 413ms\tremaining: 466ms\n",
      "94:\tlearn: 0.0935943\ttotal: 418ms\tremaining: 462ms\n",
      "95:\tlearn: 0.0931533\ttotal: 422ms\tremaining: 457ms\n",
      "96:\tlearn: 0.0923370\ttotal: 426ms\tremaining: 452ms\n",
      "97:\tlearn: 0.0922955\ttotal: 427ms\tremaining: 445ms\n",
      "98:\tlearn: 0.0915584\ttotal: 432ms\tremaining: 440ms\n",
      "99:\tlearn: 0.0906924\ttotal: 436ms\tremaining: 436ms\n",
      "100:\tlearn: 0.0900713\ttotal: 440ms\tremaining: 431ms\n",
      "101:\tlearn: 0.0895748\ttotal: 444ms\tremaining: 427ms\n",
      "102:\tlearn: 0.0888394\ttotal: 449ms\tremaining: 423ms\n",
      "103:\tlearn: 0.0882253\ttotal: 453ms\tremaining: 418ms\n",
      "104:\tlearn: 0.0870365\ttotal: 457ms\tremaining: 414ms\n",
      "105:\tlearn: 0.0859529\ttotal: 461ms\tremaining: 409ms\n",
      "106:\tlearn: 0.0854393\ttotal: 466ms\tremaining: 405ms\n",
      "107:\tlearn: 0.0851857\ttotal: 470ms\tremaining: 400ms\n",
      "108:\tlearn: 0.0843185\ttotal: 474ms\tremaining: 396ms\n",
      "109:\tlearn: 0.0839772\ttotal: 478ms\tremaining: 391ms\n",
      "110:\tlearn: 0.0830939\ttotal: 482ms\tremaining: 387ms\n",
      "111:\tlearn: 0.0822002\ttotal: 487ms\tremaining: 382ms\n",
      "112:\tlearn: 0.0815573\ttotal: 491ms\tremaining: 378ms\n",
      "113:\tlearn: 0.0804935\ttotal: 495ms\tremaining: 374ms\n",
      "114:\tlearn: 0.0798561\ttotal: 500ms\tremaining: 369ms\n",
      "115:\tlearn: 0.0793927\ttotal: 504ms\tremaining: 365ms\n",
      "116:\tlearn: 0.0784620\ttotal: 508ms\tremaining: 360ms\n",
      "117:\tlearn: 0.0772600\ttotal: 512ms\tremaining: 356ms\n",
      "118:\tlearn: 0.0767485\ttotal: 516ms\tremaining: 352ms\n",
      "119:\tlearn: 0.0765809\ttotal: 521ms\tremaining: 347ms\n",
      "120:\tlearn: 0.0757938\ttotal: 525ms\tremaining: 343ms\n",
      "121:\tlearn: 0.0751124\ttotal: 530ms\tremaining: 339ms\n",
      "122:\tlearn: 0.0748978\ttotal: 534ms\tremaining: 334ms\n",
      "123:\tlearn: 0.0738950\ttotal: 539ms\tremaining: 330ms\n",
      "124:\tlearn: 0.0736419\ttotal: 543ms\tremaining: 326ms\n",
      "125:\tlearn: 0.0729888\ttotal: 547ms\tremaining: 321ms\n",
      "126:\tlearn: 0.0725431\ttotal: 552ms\tremaining: 317ms\n",
      "127:\tlearn: 0.0717229\ttotal: 557ms\tremaining: 313ms\n",
      "128:\tlearn: 0.0714987\ttotal: 562ms\tremaining: 309ms\n",
      "129:\tlearn: 0.0712341\ttotal: 566ms\tremaining: 305ms\n",
      "130:\tlearn: 0.0705493\ttotal: 571ms\tremaining: 301ms\n",
      "131:\tlearn: 0.0700722\ttotal: 576ms\tremaining: 297ms\n",
      "132:\tlearn: 0.0693610\ttotal: 581ms\tremaining: 293ms\n",
      "133:\tlearn: 0.0692130\ttotal: 586ms\tremaining: 288ms\n",
      "134:\tlearn: 0.0685610\ttotal: 590ms\tremaining: 284ms\n",
      "135:\tlearn: 0.0682456\ttotal: 595ms\tremaining: 280ms\n",
      "136:\tlearn: 0.0679150\ttotal: 600ms\tremaining: 276ms\n",
      "137:\tlearn: 0.0672399\ttotal: 607ms\tremaining: 273ms\n",
      "138:\tlearn: 0.0667256\ttotal: 611ms\tremaining: 268ms\n",
      "139:\tlearn: 0.0661787\ttotal: 615ms\tremaining: 264ms\n",
      "140:\tlearn: 0.0658057\ttotal: 620ms\tremaining: 259ms\n",
      "141:\tlearn: 0.0657109\ttotal: 624ms\tremaining: 255ms\n",
      "142:\tlearn: 0.0653067\ttotal: 628ms\tremaining: 250ms\n",
      "143:\tlearn: 0.0652018\ttotal: 633ms\tremaining: 246ms\n",
      "144:\tlearn: 0.0646234\ttotal: 637ms\tremaining: 242ms\n",
      "145:\tlearn: 0.0643859\ttotal: 641ms\tremaining: 237ms\n",
      "146:\tlearn: 0.0638658\ttotal: 646ms\tremaining: 233ms\n",
      "147:\tlearn: 0.0630815\ttotal: 650ms\tremaining: 228ms\n",
      "148:\tlearn: 0.0622919\ttotal: 654ms\tremaining: 224ms\n",
      "149:\tlearn: 0.0617467\ttotal: 659ms\tremaining: 220ms\n",
      "150:\tlearn: 0.0613011\ttotal: 663ms\tremaining: 215ms\n",
      "151:\tlearn: 0.0604994\ttotal: 667ms\tremaining: 211ms\n",
      "152:\tlearn: 0.0597370\ttotal: 671ms\tremaining: 206ms\n",
      "153:\tlearn: 0.0591350\ttotal: 676ms\tremaining: 202ms\n",
      "154:\tlearn: 0.0587656\ttotal: 680ms\tremaining: 197ms\n",
      "155:\tlearn: 0.0583541\ttotal: 684ms\tremaining: 193ms\n",
      "156:\tlearn: 0.0580663\ttotal: 688ms\tremaining: 189ms\n",
      "157:\tlearn: 0.0576708\ttotal: 693ms\tremaining: 184ms\n",
      "158:\tlearn: 0.0572732\ttotal: 698ms\tremaining: 180ms\n",
      "159:\tlearn: 0.0570320\ttotal: 702ms\tremaining: 176ms\n",
      "160:\tlearn: 0.0564956\ttotal: 707ms\tremaining: 171ms\n",
      "161:\tlearn: 0.0558586\ttotal: 712ms\tremaining: 167ms\n",
      "162:\tlearn: 0.0555586\ttotal: 717ms\tremaining: 163ms\n",
      "163:\tlearn: 0.0550777\ttotal: 723ms\tremaining: 159ms\n",
      "164:\tlearn: 0.0544860\ttotal: 728ms\tremaining: 154ms\n",
      "165:\tlearn: 0.0541751\ttotal: 733ms\tremaining: 150ms\n",
      "166:\tlearn: 0.0538221\ttotal: 737ms\tremaining: 146ms\n",
      "167:\tlearn: 0.0536039\ttotal: 742ms\tremaining: 141ms\n",
      "168:\tlearn: 0.0534192\ttotal: 746ms\tremaining: 137ms\n",
      "169:\tlearn: 0.0532613\ttotal: 751ms\tremaining: 133ms\n",
      "170:\tlearn: 0.0530218\ttotal: 756ms\tremaining: 128ms\n",
      "171:\tlearn: 0.0526666\ttotal: 762ms\tremaining: 124ms\n",
      "172:\tlearn: 0.0522188\ttotal: 768ms\tremaining: 120ms\n",
      "173:\tlearn: 0.0519571\ttotal: 773ms\tremaining: 116ms\n",
      "174:\tlearn: 0.0517450\ttotal: 778ms\tremaining: 111ms\n",
      "175:\tlearn: 0.0514027\ttotal: 783ms\tremaining: 107ms\n",
      "176:\tlearn: 0.0510479\ttotal: 788ms\tremaining: 102ms\n",
      "177:\tlearn: 0.0509102\ttotal: 792ms\tremaining: 97.9ms\n",
      "178:\tlearn: 0.0505507\ttotal: 797ms\tremaining: 93.5ms\n",
      "179:\tlearn: 0.0502739\ttotal: 802ms\tremaining: 89.1ms\n",
      "180:\tlearn: 0.0500502\ttotal: 806ms\tremaining: 84.6ms\n",
      "181:\tlearn: 0.0499506\ttotal: 811ms\tremaining: 80.2ms\n",
      "182:\tlearn: 0.0496254\ttotal: 815ms\tremaining: 75.7ms\n",
      "183:\tlearn: 0.0492705\ttotal: 820ms\tremaining: 71.3ms\n",
      "184:\tlearn: 0.0490492\ttotal: 824ms\tremaining: 66.8ms\n",
      "185:\tlearn: 0.0486710\ttotal: 828ms\tremaining: 62.3ms\n",
      "186:\tlearn: 0.0483151\ttotal: 833ms\tremaining: 57.9ms\n",
      "187:\tlearn: 0.0480065\ttotal: 837ms\tremaining: 53.4ms\n",
      "188:\tlearn: 0.0479338\ttotal: 841ms\tremaining: 49ms\n",
      "189:\tlearn: 0.0475258\ttotal: 845ms\tremaining: 44.5ms\n",
      "190:\tlearn: 0.0472096\ttotal: 850ms\tremaining: 40ms\n",
      "191:\tlearn: 0.0468042\ttotal: 854ms\tremaining: 35.6ms\n",
      "192:\tlearn: 0.0464661\ttotal: 858ms\tremaining: 31.1ms\n",
      "193:\tlearn: 0.0462170\ttotal: 862ms\tremaining: 26.7ms\n",
      "194:\tlearn: 0.0460125\ttotal: 867ms\tremaining: 22.2ms\n"
     ]
    },
    {
     "name": "stdout",
     "output_type": "stream",
     "text": [
      "195:\tlearn: 0.0457340\ttotal: 872ms\tremaining: 17.8ms\n",
      "196:\tlearn: 0.0454476\ttotal: 876ms\tremaining: 13.3ms\n",
      "197:\tlearn: 0.0452781\ttotal: 881ms\tremaining: 8.9ms\n",
      "198:\tlearn: 0.0451544\ttotal: 886ms\tremaining: 4.45ms\n",
      "199:\tlearn: 0.0448430\ttotal: 890ms\tremaining: 0us\n"
     ]
    }
   ],
   "source": [
    "catb = CatBoostClassifier(iterations = 200, \n",
    "                          learning_rate = 0.05, \n",
    "                          depth = 8)\n",
    "\n",
    "catb_tuned = catb.fit(X_train, y_train)\n",
    "y_pred = catb_tuned.predict(X_test)"
   ]
  },
  {
   "cell_type": "code",
   "execution_count": 228,
   "metadata": {},
   "outputs": [],
   "source": [
    "lgbm_tuned = lgbm.fit(X_train,y_train)"
   ]
  },
  {
   "cell_type": "code",
   "execution_count": 229,
   "metadata": {},
   "outputs": [
    {
     "name": "stdout",
     "output_type": "stream",
     "text": [
      "[09:55:22] WARNING: C:\\Users\\Administrator\\workspace\\xgboost-win64_release_1.1.0\\src\\learner.cc:480: \n",
      "Parameters: { min_samples_split } might not be used.\n",
      "\n",
      "  This may not be accurate due to some parameters are only used in language bindings but\n",
      "  passed down to XGBoost core.  Or some parameters are not used but slip through this\n",
      "  verification. Please open an issue if you find above cases.\n",
      "\n",
      "\n"
     ]
    }
   ],
   "source": [
    "xgb_tuned =  xgb.fit(X_train,y_train)"
   ]
  },
  {
   "cell_type": "code",
   "execution_count": null,
   "metadata": {},
   "outputs": [],
   "source": [
    "modeller = [\n",
    "    knn_tuned,\n",
    "    loj_model,\n",
    "    nb_model,\n",
    "    mlpc_tuned,\n",
    "    cart_tuned,\n",
    "    rf_tuned,\n",
    "    gbm_tuned,\n",
    "    catb_tuned,\n",
    "    lgbm_tuned,\n",
    "    xgb_tuned\n",
    "    \n",
    "]\n",
    "\n",
    "\n",
    "for model in modeller:\n",
    "    isimler = model.__class__.__name__\n",
    "    y_pred = model.predict(X_test)\n",
    "    dogruluk = accuracy_score(y_test, y_pred)\n",
    "    print(\"-\"*28)\n",
    "    print(isimler + \":\" )\n",
    "    print(\"Accuracy: {:.4%}\".format(dogruluk))"
   ]
  },
  {
   "cell_type": "code",
   "execution_count": null,
   "metadata": {},
   "outputs": [],
   "source": [
    "sonuc = []\n",
    "\n",
    "sonuclar = pd.DataFrame(columns= [\"Modeller\",\"Accuracy\"])\n",
    "\n",
    "for model in modeller:\n",
    "    isimler = model.__class__.__name__\n",
    "    y_pred = model.predict(X_test)\n",
    "    dogruluk = accuracy_score(y_test, y_pred)    \n",
    "    sonuc = pd.DataFrame([[isimler, dogruluk*100]], columns= [\"Modeller\",\"Accuracy\"])\n",
    "    sonuclar = sonuclar.append(sonuc)\n",
    "    \n",
    "    \n",
    "sns.barplot(x= 'Accuracy', y = 'Modeller', data=sonuclar, color=\"r\")\n",
    "plt.xlabel('Accuracy %')\n",
    "plt.title('Modellerin Doğruluk Oranları');"
   ]
  }
 ],
 "metadata": {
  "kernelspec": {
   "display_name": "Python 3",
   "language": "python",
   "name": "python3"
  },
  "language_info": {
   "codemirror_mode": {
    "name": "ipython",
    "version": 3
   },
   "file_extension": ".py",
   "mimetype": "text/x-python",
   "name": "python",
   "nbconvert_exporter": "python",
   "pygments_lexer": "ipython3",
   "version": "3.7.6"
  }
 },
 "nbformat": 4,
 "nbformat_minor": 4
}
