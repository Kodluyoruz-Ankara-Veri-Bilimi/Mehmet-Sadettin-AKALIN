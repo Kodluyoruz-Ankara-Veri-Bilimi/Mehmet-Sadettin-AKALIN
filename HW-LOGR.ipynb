{
 "cells": [
  {
   "cell_type": "code",
   "execution_count": 174,
   "metadata": {},
   "outputs": [
    {
     "data": {
      "text/plain": [
       "'C:\\\\Users\\\\msaka\\\\OneDrive\\\\Masaüstü\\\\SON 3 LÜ ÖDEV\\\\nisa'"
      ]
     },
     "execution_count": 174,
     "metadata": {},
     "output_type": "execute_result"
    }
   ],
   "source": [
    "import os\n",
    "os.getcwd()"
   ]
  },
  {
   "cell_type": "raw",
   "metadata": {},
   "source": [
    "BAD :       1: borcu ödememe durumu , 0: borcu ödeme durumu\n",
    "LOAN :      talep edilen kredinin miktarı\n",
    "MORTDUE :   Morgage borçları\n",
    "VALUE :     bulunan mal değeri\n",
    "REASON :    kısa süreli borçların uzun süreli ya da süresiz borca dönüştürülmesi.\n",
    "JOB :       meslek\n",
    "YOJ :       meslekte çalışılan yıl\n",
    "DEROG :     uygunsuz davranis raporlarinin sayısı\n",
    "DELINQ :    ödenmemiş kredi limiti sayısı\n",
    "CLAGE :     aylarin icerisindeki en eski kredi limitinin yaş durumu\n",
    "NINQ :      güncel kredi sorgusu\n",
    "CLNO :      kredi limitinin sayısı\n",
    "DEBTINC :   borç-gelir oranı"
   ]
  },
  {
   "cell_type": "code",
   "execution_count": 175,
   "metadata": {},
   "outputs": [],
   "source": [
    "import numpy as np\n",
    "import pandas as pd \n",
    "import statsmodels.api as sm\n",
    "import statsmodels.formula.api as smf\n",
    "import seaborn as sns\n",
    "from sklearn.preprocessing import scale \n",
    "from sklearn.model_selection import train_test_split, GridSearchCV, cross_val_score\n",
    "from sklearn.metrics import confusion_matrix, accuracy_score, classification_report\n",
    "from sklearn.metrics import roc_auc_score,roc_curve\n",
    "import statsmodels.formula.api as smf\n",
    "import matplotlib.pyplot as plt\n",
    "from sklearn.neighbors import KNeighborsClassifier\n",
    "from sklearn.discriminant_analysis import LinearDiscriminantAnalysis\n",
    "from sklearn.linear_model import LogisticRegression\n",
    "from sklearn.svm import SVC\n",
    "from sklearn.naive_bayes import GaussianNB\n",
    "from sklearn import tree\n",
    "from sklearn.ensemble import RandomForestClassifier\n",
    "from sklearn.ensemble import GradientBoostingClassifier\n",
    "from matplotlib import pyplot as plt\n",
    "from sklearn import preprocessing\n",
    "import pylab\n",
    "import scipy.stats as stats\n",
    "from scipy.stats import shapiro\n",
    "import scipy.stats as stats \n",
    "import statsmodels.stats.api as sms\n",
    "import numpy as np \n",
    "from scipy.stats import levene\n",
    "from scipy.stats import f_oneway\n",
    "from scipy.stats import pearsonr\n",
    "import statsmodels.formula.api as smf\n",
    "\n",
    "from warnings import filterwarnings\n",
    "filterwarnings('ignore')"
   ]
  },
  {
   "cell_type": "code",
   "execution_count": 176,
   "metadata": {},
   "outputs": [],
   "source": [
    "class Information():\n",
    "    \n",
    "    def __init__(self,data):\n",
    "        data = pd.read_csv(\"hmelq.csv\")\n",
    "        print(data.head())\n",
    "        print(data.tail())\n",
    "        \n",
    "    def describe(self):\n",
    "        print(data.describe().T)\n",
    "       \n",
    "    def info():\n",
    "        print(data.info())\n",
    "        print(data.len())\n",
    "   \n",
    "    def columns(self):\n",
    "        print(data.columns)\n",
    "        \n",
    "    def num_data(self):\n",
    "        print(self.data.select_dtypes(include=['float64','int64']))        \n",
    "        \n",
    "    def columnTypes():\n",
    "        print(data.dtypes())\n",
    "             \n",
    "    def shape(self):\n",
    "        print(data.shape)        \n",
    "        \n",
    "    def nullValues(self):\n",
    "        print(self.data.isnull().values.any())\n",
    "        print(self.data.isnull().sum())\n",
    "        \n",
    "    def count(self):\n",
    "        print(self.data.count())\n",
    "        \n",
    "    \n",
    "    def cat_data(self):\n",
    "        print(self.data.select_dtypes(include=[\"object\"]))"
   ]
  },
  {
   "cell_type": "code",
   "execution_count": 177,
   "metadata": {},
   "outputs": [],
   "source": [
    "data = pd.read_csv(\"hmelq.csv\")"
   ]
  },
  {
   "cell_type": "code",
   "execution_count": 178,
   "metadata": {},
   "outputs": [
    {
     "name": "stdout",
     "output_type": "stream",
     "text": [
      "   bad   loan   mortdue     value   reason  job   yoj  derog  delinq   clage  \\\n",
      "0    0  81200   18834.0  108355.0  HomeImp  NaN  28.0    0.0     0.0  139.14   \n",
      "1    0  12600  103960.0  127384.0  DebtCon  NaN   2.0    0.0     0.0  129.02   \n",
      "2    0  18000   46865.0   61266.0  DebtCon  NaN   5.0    0.0     0.0  102.59   \n",
      "3    0  10300   57676.0   71027.0  DebtCon  NaN  19.0    0.0     0.0  157.52   \n",
      "4    0   9400   56508.0   78358.0  DebtCon  NaN  17.0    0.0     0.0  141.93   \n",
      "\n",
      "   ninq  clno  debtinc  \n",
      "0   0.0  14.0   34.042  \n",
      "1   0.0  25.0   34.479  \n",
      "2   2.0   9.0   26.354  \n",
      "3   1.0  11.0   33.992  \n",
      "4   0.0  11.0   32.327  \n",
      "      bad   loan   mortdue    value   reason   job  yoj  derog  delinq  \\\n",
      "3571    1   8400   31800.0  72000.0  DebtCon  Self  NaN    0.0     2.0   \n",
      "3572    1  21600  154991.0      NaN  DebtCon  Self  NaN    2.0     4.0   \n",
      "3573    1  24000   35000.0      NaN  DebtCon  Self  3.0    1.0     0.0   \n",
      "3574    1  10000       NaN  25010.0  HomeImp  Self  5.0    0.0     3.0   \n",
      "3575    1   5900       NaN  28000.0  DebtCon  Self  1.0    2.0     1.0   \n",
      "\n",
      "       clage  ninq  clno  debtinc  \n",
      "3571  187.27   1.0  21.0      NaN  \n",
      "3572  165.60   0.0  43.0   38.015  \n",
      "3573  177.50   0.0  16.0      NaN  \n",
      "3574  326.13   4.0  17.0      NaN  \n",
      "3575   36.77   1.0   8.0      NaN  \n"
     ]
    },
    {
     "data": {
      "text/plain": [
       "<__main__.Information at 0x29054270408>"
      ]
     },
     "execution_count": 178,
     "metadata": {},
     "output_type": "execute_result"
    }
   ],
   "source": [
    "Information(data)"
   ]
  },
  {
   "cell_type": "code",
   "execution_count": 179,
   "metadata": {},
   "outputs": [
    {
     "data": {
      "text/html": [
       "<div>\n",
       "<style scoped>\n",
       "    .dataframe tbody tr th:only-of-type {\n",
       "        vertical-align: middle;\n",
       "    }\n",
       "\n",
       "    .dataframe tbody tr th {\n",
       "        vertical-align: top;\n",
       "    }\n",
       "\n",
       "    .dataframe thead th {\n",
       "        text-align: right;\n",
       "    }\n",
       "</style>\n",
       "<table border=\"1\" class=\"dataframe\">\n",
       "  <thead>\n",
       "    <tr style=\"text-align: right;\">\n",
       "      <th></th>\n",
       "      <th>count</th>\n",
       "      <th>mean</th>\n",
       "      <th>std</th>\n",
       "      <th>min</th>\n",
       "      <th>25%</th>\n",
       "      <th>50%</th>\n",
       "      <th>75%</th>\n",
       "      <th>max</th>\n",
       "    </tr>\n",
       "  </thead>\n",
       "  <tbody>\n",
       "    <tr>\n",
       "      <th>bad</th>\n",
       "      <td>3576.0</td>\n",
       "      <td>0.199385</td>\n",
       "      <td>0.399594</td>\n",
       "      <td>0.00</td>\n",
       "      <td>0.00</td>\n",
       "      <td>0.000</td>\n",
       "      <td>0.00</td>\n",
       "      <td>1.000</td>\n",
       "    </tr>\n",
       "    <tr>\n",
       "      <th>loan</th>\n",
       "      <td>3576.0</td>\n",
       "      <td>18529.697987</td>\n",
       "      <td>11262.834060</td>\n",
       "      <td>1100.00</td>\n",
       "      <td>11000.00</td>\n",
       "      <td>16200.000</td>\n",
       "      <td>23100.00</td>\n",
       "      <td>89900.000</td>\n",
       "    </tr>\n",
       "    <tr>\n",
       "      <th>mortdue</th>\n",
       "      <td>3262.0</td>\n",
       "      <td>74013.907992</td>\n",
       "      <td>44016.833772</td>\n",
       "      <td>2619.00</td>\n",
       "      <td>46700.25</td>\n",
       "      <td>65858.000</td>\n",
       "      <td>91717.00</td>\n",
       "      <td>399550.000</td>\n",
       "    </tr>\n",
       "    <tr>\n",
       "      <th>value</th>\n",
       "      <td>3512.0</td>\n",
       "      <td>101076.922759</td>\n",
       "      <td>54865.275351</td>\n",
       "      <td>8800.00</td>\n",
       "      <td>65753.00</td>\n",
       "      <td>89183.000</td>\n",
       "      <td>118928.25</td>\n",
       "      <td>850000.000</td>\n",
       "    </tr>\n",
       "    <tr>\n",
       "      <th>yoj</th>\n",
       "      <td>3264.0</td>\n",
       "      <td>8.832644</td>\n",
       "      <td>7.568046</td>\n",
       "      <td>0.00</td>\n",
       "      <td>3.00</td>\n",
       "      <td>7.000</td>\n",
       "      <td>13.00</td>\n",
       "      <td>41.000</td>\n",
       "    </tr>\n",
       "    <tr>\n",
       "      <th>derog</th>\n",
       "      <td>3149.0</td>\n",
       "      <td>0.261670</td>\n",
       "      <td>0.865178</td>\n",
       "      <td>0.00</td>\n",
       "      <td>0.00</td>\n",
       "      <td>0.000</td>\n",
       "      <td>0.00</td>\n",
       "      <td>10.000</td>\n",
       "    </tr>\n",
       "    <tr>\n",
       "      <th>delinq</th>\n",
       "      <td>3225.0</td>\n",
       "      <td>0.432558</td>\n",
       "      <td>1.099230</td>\n",
       "      <td>0.00</td>\n",
       "      <td>0.00</td>\n",
       "      <td>0.000</td>\n",
       "      <td>0.00</td>\n",
       "      <td>15.000</td>\n",
       "    </tr>\n",
       "    <tr>\n",
       "      <th>clage</th>\n",
       "      <td>3397.0</td>\n",
       "      <td>179.832529</td>\n",
       "      <td>87.066198</td>\n",
       "      <td>0.49</td>\n",
       "      <td>115.60</td>\n",
       "      <td>173.640</td>\n",
       "      <td>230.71</td>\n",
       "      <td>1168.230</td>\n",
       "    </tr>\n",
       "    <tr>\n",
       "      <th>ninq</th>\n",
       "      <td>3273.0</td>\n",
       "      <td>1.186373</td>\n",
       "      <td>1.728723</td>\n",
       "      <td>0.00</td>\n",
       "      <td>0.00</td>\n",
       "      <td>1.000</td>\n",
       "      <td>2.00</td>\n",
       "      <td>17.000</td>\n",
       "    </tr>\n",
       "    <tr>\n",
       "      <th>clno</th>\n",
       "      <td>3443.0</td>\n",
       "      <td>21.507116</td>\n",
       "      <td>10.167490</td>\n",
       "      <td>0.00</td>\n",
       "      <td>15.00</td>\n",
       "      <td>20.000</td>\n",
       "      <td>26.00</td>\n",
       "      <td>71.000</td>\n",
       "    </tr>\n",
       "    <tr>\n",
       "      <th>debtinc</th>\n",
       "      <td>2809.0</td>\n",
       "      <td>33.831737</td>\n",
       "      <td>9.061837</td>\n",
       "      <td>0.72</td>\n",
       "      <td>29.14</td>\n",
       "      <td>34.747</td>\n",
       "      <td>38.94</td>\n",
       "      <td>203.312</td>\n",
       "    </tr>\n",
       "  </tbody>\n",
       "</table>\n",
       "</div>"
      ],
      "text/plain": [
       "          count           mean           std      min       25%        50%  \\\n",
       "bad      3576.0       0.199385      0.399594     0.00      0.00      0.000   \n",
       "loan     3576.0   18529.697987  11262.834060  1100.00  11000.00  16200.000   \n",
       "mortdue  3262.0   74013.907992  44016.833772  2619.00  46700.25  65858.000   \n",
       "value    3512.0  101076.922759  54865.275351  8800.00  65753.00  89183.000   \n",
       "yoj      3264.0       8.832644      7.568046     0.00      3.00      7.000   \n",
       "derog    3149.0       0.261670      0.865178     0.00      0.00      0.000   \n",
       "delinq   3225.0       0.432558      1.099230     0.00      0.00      0.000   \n",
       "clage    3397.0     179.832529     87.066198     0.49    115.60    173.640   \n",
       "ninq     3273.0       1.186373      1.728723     0.00      0.00      1.000   \n",
       "clno     3443.0      21.507116     10.167490     0.00     15.00     20.000   \n",
       "debtinc  2809.0      33.831737      9.061837     0.72     29.14     34.747   \n",
       "\n",
       "               75%         max  \n",
       "bad           0.00       1.000  \n",
       "loan      23100.00   89900.000  \n",
       "mortdue   91717.00  399550.000  \n",
       "value    118928.25  850000.000  \n",
       "yoj          13.00      41.000  \n",
       "derog         0.00      10.000  \n",
       "delinq        0.00      15.000  \n",
       "clage       230.71    1168.230  \n",
       "ninq          2.00      17.000  \n",
       "clno         26.00      71.000  \n",
       "debtinc      38.94     203.312  "
      ]
     },
     "execution_count": 179,
     "metadata": {},
     "output_type": "execute_result"
    }
   ],
   "source": [
    "data.describe().T  #Verinin istatiksel değerlerine bakıyoruz."
   ]
  },
  {
   "cell_type": "code",
   "execution_count": 180,
   "metadata": {},
   "outputs": [
    {
     "data": {
      "text/plain": [
       "bad          0\n",
       "loan         0\n",
       "mortdue    314\n",
       "value       64\n",
       "reason     147\n",
       "job        167\n",
       "yoj        312\n",
       "derog      427\n",
       "delinq     351\n",
       "clage      179\n",
       "ninq       303\n",
       "clno       133\n",
       "debtinc    767\n",
       "dtype: int64"
      ]
     },
     "execution_count": 180,
     "metadata": {},
     "output_type": "execute_result"
    }
   ],
   "source": [
    "data.isnull().sum() #verideki nan değerlerinin sayısını gördük."
   ]
  },
  {
   "cell_type": "code",
   "execution_count": 181,
   "metadata": {},
   "outputs": [],
   "source": [
    "data[\"reason\"].fillna(value = \"DebtCon\",inplace = True) #reasondaki nan değerler debtcon olarak değiştirdim.\n",
    "data[\"job\"].fillna(value = \"Other\",inplace = True)\n",
    "\n",
    "data[\"derog\"].fillna(value=0,inplace=True)\n",
    "data[\"delinq\"].fillna(value=0,inplace=True)\n",
    "\n",
    "data.fillna(value=data.mean(),inplace=True) #Her sınıfın ortalamasını kullanarak değiştirdim."
   ]
  },
  {
   "cell_type": "code",
   "execution_count": 182,
   "metadata": {},
   "outputs": [
    {
     "data": {
      "text/plain": [
       "bad        0\n",
       "loan       0\n",
       "mortdue    0\n",
       "value      0\n",
       "reason     0\n",
       "job        0\n",
       "yoj        0\n",
       "derog      0\n",
       "delinq     0\n",
       "clage      0\n",
       "ninq       0\n",
       "clno       0\n",
       "debtinc    0\n",
       "dtype: int64"
      ]
     },
     "execution_count": 182,
     "metadata": {},
     "output_type": "execute_result"
    }
   ],
   "source": [
    "data.isnull().sum() #Üstteki değerleri eşitledik ve nan değerlere yeni değer atadım. Artık boş değerim yok."
   ]
  },
  {
   "cell_type": "code",
   "execution_count": 183,
   "metadata": {},
   "outputs": [],
   "source": [
    "description= data.describe(include='all')"
   ]
  },
  {
   "cell_type": "code",
   "execution_count": 184,
   "metadata": {},
   "outputs": [
    {
     "name": "stdout",
     "output_type": "stream",
     "text": [
      "bad              0\n",
      "loan          1100\n",
      "mortdue       2619\n",
      "value         8800\n",
      "reason     DebtCon\n",
      "job            Mgr\n",
      "yoj              0\n",
      "derog            0\n",
      "delinq           0\n",
      "clage         0.49\n",
      "ninq             0\n",
      "clno             0\n",
      "debtinc       0.72\n",
      "dtype: object\n"
     ]
    }
   ],
   "source": [
    "print(data.min()) #verideki değerlerin min halini bulduk."
   ]
  },
  {
   "cell_type": "code",
   "execution_count": 185,
   "metadata": {},
   "outputs": [
    {
     "name": "stdout",
     "output_type": "stream",
     "text": [
      "bad            0.399594\n",
      "loan       11262.834060\n",
      "mortdue    42039.367757\n",
      "value      54371.955751\n",
      "yoj            7.230266\n",
      "derog          0.816290\n",
      "delinq         1.051780\n",
      "clage         84.858509\n",
      "ninq           1.653842\n",
      "clno           9.976568\n",
      "debtinc        8.031132\n",
      "dtype: float64\n"
     ]
    }
   ],
   "source": [
    "print(data.std()) #verilerin standart sapmasını bulduk."
   ]
  },
  {
   "cell_type": "code",
   "execution_count": 186,
   "metadata": {},
   "outputs": [],
   "source": [
    "class Visualization():\n",
    "    def __init__(self,data):\n",
    "        self.data = data\n",
    "        \n",
    "    def barplot(self,x,y,z = None):\n",
    "        bar = sns.barplot(x = x, y = y, hue = z, data = self.data);\n",
    "        return bar\n",
    "    \n",
    "    def catplot(self, x, y, z = None):\n",
    "        cat = sns.catplot(x = x, y = y, hue = z, data = self.data);\n",
    "        return cat\n",
    "    \n",
    "    def histogram(self,x, y = None):\n",
    "        hist = sns.FacetGrid(self.data, hue = y, height = 5, xlim = (0, 10000)).map(sns.kdeplot, x, shade= True).add_legend();\n",
    "        return hist\n",
    "    \n",
    "    def boxplot(self,x, y = None, z = None):\n",
    "        box = sns.boxplot(x = x, y = y, hue = z, data=self.data);\n",
    "        return box\n",
    "    \n",
    "    def jointplot(self,x,y):\n",
    "        joint = sns.jointplot(x = x, y = y ,data = self.data, kind = \"reg\");\n",
    "        return joint\n",
    "    \n",
    "    def scatter(self, x, y, z = None, s = None):\n",
    "        sca = sns.scatterplot(x = x, y = y, hue=z, size = s, data = self.data);\n",
    "        return sca\n",
    "    \n",
    "    def lmplot(self, x, y, z = None, c = None, r = None):\n",
    "        lm = sns.lmplot(x = x, y = y, hue = z, col = c, row = r, data = self.data);\n",
    "        return lm\n",
    "    \n",
    "    def pairplot(self, x = None):\n",
    "        pair = sns.pairplot(self.data, kind = \"reg\", hue = x);\n",
    "        return pair\n",
    "    \n",
    "    def heatmap(self):\n",
    "        heat = sns.heatmap(self.data, annot = True, fmt = \"d\");\n",
    "        return heat \n",
    "    \n",
    "    def lineplot(self, x, y, z = None, s = None):\n",
    "        lin = sns.lineplot(x = x, y = y, hue = z, style = s, markers = True,  dashes = False, data = self.data);\n",
    "        return lin\n",
    "    \n",
    "    def countplot(self, column):\n",
    "        count = sns.countplot(self.data.iloc[:,column], data = self.data, palette = \"Set3\");\n",
    "        return count\n",
    "    \n",
    "    def cross_tab(self,x,y):\n",
    "        cross = pd.crosstab(x, y)\n",
    "        return cross\n",
    "\n",
    "    def PieChart(self):\n",
    "        pie = plt.pie(self.data, labels = self.data.index, counterclock = False, shadow = True)\n",
    "        return pie\n",
    "    \n",
    "    def violin(self, x = None, y = None, z = None):\n",
    "        vio = sns.catplot(x = x, y = y, hue = z, kind = \"violin\", data = self.data);\n",
    "        return vio"
   ]
  },
  {
   "cell_type": "markdown",
   "metadata": {},
   "source": [
    "# Visualization"
   ]
  },
  {
   "cell_type": "code",
   "execution_count": 187,
   "metadata": {},
   "outputs": [],
   "source": [
    "vis_data = Visualization(data)"
   ]
  },
  {
   "cell_type": "code",
   "execution_count": 188,
   "metadata": {},
   "outputs": [
    {
     "data": {
      "image/png": "[encoded data removed]",
      "text/plain": [
       "<Figure size 720x576 with 1 Axes>"
      ]
     },
     "metadata": {
      "needs_background": "light"
     },
     "output_type": "display_data"
    }
   ],
   "source": [
    "plt.figure(figsize=(10,8))\n",
    "boxplot_df = data[[\"value\", \"mortdue\" , \"loan\",\"debtinc\",\"yoj\",\"ninq\",\"derog\",\"clage\",\"clno\",\"clage\"]]\n",
    "boxplot_df.boxplot()\n",
    "plt.show()"
   ]
  },
  {
   "cell_type": "code",
   "execution_count": 189,
   "metadata": {},
   "outputs": [
    {
     "data": {
      "image/png": "[encoded data removed]",
      "text/plain": [
       "<Figure size 1080x540 with 9 Axes>"
      ]
     },
     "metadata": {
      "needs_background": "light"
     },
     "output_type": "display_data"
    }
   ],
   "source": [
    "data_hist=data[[\"loan\",\"clno\",'mortdue', \"derog\",\"delinq\",\"clage\",\"value\", \"yoj\", \"debtinc\"]]\n",
    "data_hist.hist(bins=10,figsize=(15,7.5))\n",
    "plt.show()"
   ]
  },
  {
   "cell_type": "code",
   "execution_count": 190,
   "metadata": {},
   "outputs": [
    {
     "data": {
      "text/plain": [
       "<seaborn.axisgrid.JointGrid at 0x2905349e508>"
      ]
     },
     "execution_count": 190,
     "metadata": {},
     "output_type": "execute_result"
    },
    {
     "data": {
      "image/png": "[encoded data removed]",
      "text/plain": [
       "<Figure size 432x432 with 3 Axes>"
      ]
     },
     "metadata": {
      "needs_background": "light"
     },
     "output_type": "display_data"
    }
   ],
   "source": [
    "sns.jointplot(x=data['value'],y=data['mortdue'],kind='reg')"
   ]
  },
  {
   "cell_type": "code",
   "execution_count": 191,
   "metadata": {},
   "outputs": [
    {
     "data": {
      "text/plain": [
       "<seaborn.axisgrid.JointGrid at 0x29051b389c8>"
      ]
     },
     "execution_count": 191,
     "metadata": {},
     "output_type": "execute_result"
    },
    {
     "data": {
      "image/png": "[encoded data removed]",
      "text/plain": [
       "<Figure size 432x432 with 3 Axes>"
      ]
     },
     "metadata": {
      "needs_background": "light"
     },
     "output_type": "display_data"
    }
   ],
   "source": [
    "sns.jointplot(x=data['loan'],y=data['debtinc'],kind='reg')"
   ]
  },
  {
   "cell_type": "code",
   "execution_count": 192,
   "metadata": {},
   "outputs": [
    {
     "data": {
      "text/html": [
       "<div>\n",
       "<style scoped>\n",
       "    .dataframe tbody tr th:only-of-type {\n",
       "        vertical-align: middle;\n",
       "    }\n",
       "\n",
       "    .dataframe tbody tr th {\n",
       "        vertical-align: top;\n",
       "    }\n",
       "\n",
       "    .dataframe thead th {\n",
       "        text-align: right;\n",
       "    }\n",
       "</style>\n",
       "<table border=\"1\" class=\"dataframe\">\n",
       "  <thead>\n",
       "    <tr style=\"text-align: right;\">\n",
       "      <th>col_0</th>\n",
       "      <th>count</th>\n",
       "      <th>frequency</th>\n",
       "    </tr>\n",
       "    <tr>\n",
       "      <th>bad</th>\n",
       "      <th></th>\n",
       "      <th></th>\n",
       "    </tr>\n",
       "  </thead>\n",
       "  <tbody>\n",
       "    <tr>\n",
       "      <th>0</th>\n",
       "      <td>2863</td>\n",
       "      <td>0.800615</td>\n",
       "    </tr>\n",
       "    <tr>\n",
       "      <th>1</th>\n",
       "      <td>713</td>\n",
       "      <td>0.199385</td>\n",
       "    </tr>\n",
       "  </tbody>\n",
       "</table>\n",
       "</div>"
      ],
      "text/plain": [
       "col_0  count  frequency\n",
       "bad                    \n",
       "0       2863   0.800615\n",
       "1        713   0.199385"
      ]
     },
     "execution_count": 192,
     "metadata": {},
     "output_type": "execute_result"
    }
   ],
   "source": [
    "y = data.bad    #değişkenlerin değerlerini saydırdık.\n",
    "y = y.astype(object) \n",
    "count = pd.crosstab(index = y, columns=\"count\")\n",
    "percentage = pd.crosstab(index = y, columns=\"frequency\")/pd.crosstab(index = y, columns=\"frequency\").sum()\n",
    "pd.concat([count, percentage], axis=1)"
   ]
  },
  {
   "cell_type": "code",
   "execution_count": 193,
   "metadata": {},
   "outputs": [],
   "source": [
    "import pandas as pd\n",
    "from pandas import Series, DataFrame\n",
    "data=pd.read_csv(\"bankdata.csv\")\n",
    "data=data.copy()\n",
    "data=data.dropna()"
   ]
  },
  {
   "cell_type": "code",
   "execution_count": 194,
   "metadata": {},
   "outputs": [
    {
     "data": {
      "text/html": [
       "<style  type=\"text/css\" >\n",
       "    #T_c1c46bd0_d7ec_11ea_8403_84ef18dd7d87row0_col0 {\n",
       "            background-color:  #ffff66;\n",
       "            color:  #000000;\n",
       "        }    #T_c1c46bd0_d7ec_11ea_8403_84ef18dd7d87row0_col1 {\n",
       "            background-color:  #008066;\n",
       "            color:  #f1f1f1;\n",
       "        }    #T_c1c46bd0_d7ec_11ea_8403_84ef18dd7d87row0_col2 {\n",
       "            background-color:  #ffff66;\n",
       "            color:  #000000;\n",
       "        }    #T_c1c46bd0_d7ec_11ea_8403_84ef18dd7d87row0_col3 {\n",
       "            background-color:  #008066;\n",
       "            color:  #f1f1f1;\n",
       "        }    #T_c1c46bd0_d7ec_11ea_8403_84ef18dd7d87row0_col4 {\n",
       "            background-color:  #ffff66;\n",
       "            color:  #000000;\n",
       "        }    #T_c1c46bd0_d7ec_11ea_8403_84ef18dd7d87row0_col5 {\n",
       "            background-color:  #ffff66;\n",
       "            color:  #000000;\n",
       "        }    #T_c1c46bd0_d7ec_11ea_8403_84ef18dd7d87row1_col0 {\n",
       "            background-color:  #008066;\n",
       "            color:  #f1f1f1;\n",
       "        }    #T_c1c46bd0_d7ec_11ea_8403_84ef18dd7d87row1_col1 {\n",
       "            background-color:  #ffff66;\n",
       "            color:  #000000;\n",
       "        }    #T_c1c46bd0_d7ec_11ea_8403_84ef18dd7d87row1_col2 {\n",
       "            background-color:  #008066;\n",
       "            color:  #f1f1f1;\n",
       "        }    #T_c1c46bd0_d7ec_11ea_8403_84ef18dd7d87row1_col3 {\n",
       "            background-color:  #ffff66;\n",
       "            color:  #000000;\n",
       "        }    #T_c1c46bd0_d7ec_11ea_8403_84ef18dd7d87row1_col4 {\n",
       "            background-color:  #008066;\n",
       "            color:  #f1f1f1;\n",
       "        }    #T_c1c46bd0_d7ec_11ea_8403_84ef18dd7d87row1_col5 {\n",
       "            background-color:  #008066;\n",
       "            color:  #f1f1f1;\n",
       "        }</style><table id=\"T_c1c46bd0_d7ec_11ea_8403_84ef18dd7d87\" ><thead>    <tr>        <th class=\"index_name level0\" >job</th>        <th class=\"col_heading level0 col0\" >Mgr</th>        <th class=\"col_heading level0 col1\" >Office</th>        <th class=\"col_heading level0 col2\" >Other</th>        <th class=\"col_heading level0 col3\" >ProfEx</th>        <th class=\"col_heading level0 col4\" >Sales</th>        <th class=\"col_heading level0 col5\" >Self</th>    </tr>    <tr>        <th class=\"index_name level0\" >bad</th>        <th class=\"blank\" ></th>        <th class=\"blank\" ></th>        <th class=\"blank\" ></th>        <th class=\"blank\" ></th>        <th class=\"blank\" ></th>        <th class=\"blank\" ></th>    </tr></thead><tbody>\n",
       "                <tr>\n",
       "                        <th id=\"T_c1c46bd0_d7ec_11ea_8403_84ef18dd7d87level0_row0\" class=\"row_heading level0 row0\" >0</th>\n",
       "                        <td id=\"T_c1c46bd0_d7ec_11ea_8403_84ef18dd7d87row0_col0\" class=\"data row0 col0\" >0.131522</td>\n",
       "                        <td id=\"T_c1c46bd0_d7ec_11ea_8403_84ef18dd7d87row0_col1\" class=\"data row0 col1\" >0.177174</td>\n",
       "                        <td id=\"T_c1c46bd0_d7ec_11ea_8403_84ef18dd7d87row0_col2\" class=\"data row0 col2\" >0.377174</td>\n",
       "                        <td id=\"T_c1c46bd0_d7ec_11ea_8403_84ef18dd7d87row0_col3\" class=\"data row0 col3\" >0.273913</td>\n",
       "                        <td id=\"T_c1c46bd0_d7ec_11ea_8403_84ef18dd7d87row0_col4\" class=\"data row0 col4\" >0.012500</td>\n",
       "                        <td id=\"T_c1c46bd0_d7ec_11ea_8403_84ef18dd7d87row0_col5\" class=\"data row0 col5\" >0.027717</td>\n",
       "            </tr>\n",
       "            <tr>\n",
       "                        <th id=\"T_c1c46bd0_d7ec_11ea_8403_84ef18dd7d87level0_row1\" class=\"row_heading level0 row1\" >1</th>\n",
       "                        <td id=\"T_c1c46bd0_d7ec_11ea_8403_84ef18dd7d87row1_col0\" class=\"data row1 col0\" >0.151685</td>\n",
       "                        <td id=\"T_c1c46bd0_d7ec_11ea_8403_84ef18dd7d87row1_col1\" class=\"data row1 col1\" >0.123596</td>\n",
       "                        <td id=\"T_c1c46bd0_d7ec_11ea_8403_84ef18dd7d87row1_col2\" class=\"data row1 col2\" >0.449438</td>\n",
       "                        <td id=\"T_c1c46bd0_d7ec_11ea_8403_84ef18dd7d87row1_col3\" class=\"data row1 col3\" >0.196629</td>\n",
       "                        <td id=\"T_c1c46bd0_d7ec_11ea_8403_84ef18dd7d87row1_col4\" class=\"data row1 col4\" >0.039326</td>\n",
       "                        <td id=\"T_c1c46bd0_d7ec_11ea_8403_84ef18dd7d87row1_col5\" class=\"data row1 col5\" >0.039326</td>\n",
       "            </tr>\n",
       "    </tbody></table>"
      ],
      "text/plain": [
       "<pandas.io.formats.style.Styler at 0x29051c84088>"
      ]
     },
     "execution_count": 194,
     "metadata": {},
     "output_type": "execute_result"
    }
   ],
   "source": [
    "pd.crosstab(data[\"bad\"], data[\"job\"],normalize='index').style.background_gradient(cmap=\"summer_r\")"
   ]
  },
  {
   "cell_type": "markdown",
   "metadata": {},
   "source": [
    "Burada kredi ödeyip ödememe durumunu mesleklere göre gösteren bir çapraz tablo çizildi.İncelediğimizde Other meslek grubunun %44 oranla en fazla borcunu ödemeyen meslek grubu olduğunu görüyoruz. \n"
   ]
  },
  {
   "cell_type": "code",
   "execution_count": 195,
   "metadata": {},
   "outputs": [
    {
     "data": {
      "text/html": [
       "<style  type=\"text/css\" >\n",
       "    #T_c1d5afe2_d7ec_11ea_b039_84ef18dd7d87row0_col0 {\n",
       "            background-color:  #008066;\n",
       "            color:  #f1f1f1;\n",
       "        }    #T_c1d5afe2_d7ec_11ea_b039_84ef18dd7d87row0_col1 {\n",
       "            background-color:  #008066;\n",
       "            color:  #f1f1f1;\n",
       "        }    #T_c1d5afe2_d7ec_11ea_b039_84ef18dd7d87row0_col2 {\n",
       "            background-color:  #008066;\n",
       "            color:  #f1f1f1;\n",
       "        }    #T_c1d5afe2_d7ec_11ea_b039_84ef18dd7d87row0_col3 {\n",
       "            background-color:  #008066;\n",
       "            color:  #f1f1f1;\n",
       "        }    #T_c1d5afe2_d7ec_11ea_b039_84ef18dd7d87row0_col4 {\n",
       "            background-color:  #008066;\n",
       "            color:  #f1f1f1;\n",
       "        }    #T_c1d5afe2_d7ec_11ea_b039_84ef18dd7d87row0_col5 {\n",
       "            background-color:  #008066;\n",
       "            color:  #f1f1f1;\n",
       "        }    #T_c1d5afe2_d7ec_11ea_b039_84ef18dd7d87row1_col0 {\n",
       "            background-color:  #ffff66;\n",
       "            color:  #000000;\n",
       "        }    #T_c1d5afe2_d7ec_11ea_b039_84ef18dd7d87row1_col1 {\n",
       "            background-color:  #ffff66;\n",
       "            color:  #000000;\n",
       "        }    #T_c1d5afe2_d7ec_11ea_b039_84ef18dd7d87row1_col2 {\n",
       "            background-color:  #ffff66;\n",
       "            color:  #000000;\n",
       "        }    #T_c1d5afe2_d7ec_11ea_b039_84ef18dd7d87row1_col3 {\n",
       "            background-color:  #ffff66;\n",
       "            color:  #000000;\n",
       "        }    #T_c1d5afe2_d7ec_11ea_b039_84ef18dd7d87row1_col4 {\n",
       "            background-color:  #ffff66;\n",
       "            color:  #000000;\n",
       "        }    #T_c1d5afe2_d7ec_11ea_b039_84ef18dd7d87row1_col5 {\n",
       "            background-color:  #ffff66;\n",
       "            color:  #000000;\n",
       "        }</style><table id=\"T_c1d5afe2_d7ec_11ea_b039_84ef18dd7d87\" ><thead>    <tr>        <th class=\"index_name level0\" >job</th>        <th class=\"col_heading level0 col0\" >Mgr</th>        <th class=\"col_heading level0 col1\" >Office</th>        <th class=\"col_heading level0 col2\" >Other</th>        <th class=\"col_heading level0 col3\" >ProfEx</th>        <th class=\"col_heading level0 col4\" >Sales</th>        <th class=\"col_heading level0 col5\" >Self</th>    </tr>    <tr>        <th class=\"index_name level0\" >bad</th>        <th class=\"blank\" ></th>        <th class=\"blank\" ></th>        <th class=\"blank\" ></th>        <th class=\"blank\" ></th>        <th class=\"blank\" ></th>        <th class=\"blank\" ></th>    </tr></thead><tbody>\n",
       "                <tr>\n",
       "                        <th id=\"T_c1d5afe2_d7ec_11ea_b039_84ef18dd7d87level0_row0\" class=\"row_heading level0 row0\" >0</th>\n",
       "                        <td id=\"T_c1d5afe2_d7ec_11ea_b039_84ef18dd7d87row0_col0\" class=\"data row0 col0\" >0.899628</td>\n",
       "                        <td id=\"T_c1d5afe2_d7ec_11ea_b039_84ef18dd7d87row0_col1\" class=\"data row0 col1\" >0.936782</td>\n",
       "                        <td id=\"T_c1d5afe2_d7ec_11ea_b039_84ef18dd7d87row0_col2\" class=\"data row0 col2\" >0.896641</td>\n",
       "                        <td id=\"T_c1d5afe2_d7ec_11ea_b039_84ef18dd7d87row0_col3\" class=\"data row0 col3\" >0.935065</td>\n",
       "                        <td id=\"T_c1d5afe2_d7ec_11ea_b039_84ef18dd7d87row0_col4\" class=\"data row0 col4\" >0.766667</td>\n",
       "                        <td id=\"T_c1d5afe2_d7ec_11ea_b039_84ef18dd7d87row0_col5\" class=\"data row0 col5\" >0.879310</td>\n",
       "            </tr>\n",
       "            <tr>\n",
       "                        <th id=\"T_c1d5afe2_d7ec_11ea_b039_84ef18dd7d87level0_row1\" class=\"row_heading level0 row1\" >1</th>\n",
       "                        <td id=\"T_c1d5afe2_d7ec_11ea_b039_84ef18dd7d87row1_col0\" class=\"data row1 col0\" >0.100372</td>\n",
       "                        <td id=\"T_c1d5afe2_d7ec_11ea_b039_84ef18dd7d87row1_col1\" class=\"data row1 col1\" >0.063218</td>\n",
       "                        <td id=\"T_c1d5afe2_d7ec_11ea_b039_84ef18dd7d87row1_col2\" class=\"data row1 col2\" >0.103359</td>\n",
       "                        <td id=\"T_c1d5afe2_d7ec_11ea_b039_84ef18dd7d87row1_col3\" class=\"data row1 col3\" >0.064935</td>\n",
       "                        <td id=\"T_c1d5afe2_d7ec_11ea_b039_84ef18dd7d87row1_col4\" class=\"data row1 col4\" >0.233333</td>\n",
       "                        <td id=\"T_c1d5afe2_d7ec_11ea_b039_84ef18dd7d87row1_col5\" class=\"data row1 col5\" >0.120690</td>\n",
       "            </tr>\n",
       "    </tbody></table>"
      ],
      "text/plain": [
       "<pandas.io.formats.style.Styler at 0x2904f62e708>"
      ]
     },
     "execution_count": 195,
     "metadata": {},
     "output_type": "execute_result"
    }
   ],
   "source": [
    "pd.crosstab(data[\"bad\"], data[\"job\"],normalize='columns').style.background_gradient(cmap=\"summer_r\")"
   ]
  },
  {
   "cell_type": "markdown",
   "metadata": {},
   "source": [
    "Bu tablo incelendiğinde, mesela sales meslek grubunda kredi borcu ödeme oranı %76 iken, Office ve ProfEx grubunda %93, Self grubunda %87’dir.\n"
   ]
  },
  {
   "cell_type": "code",
   "execution_count": 196,
   "metadata": {},
   "outputs": [
    {
     "data": {
      "image/png": "[encoded data removed]",
      "text/plain": [
       "<Figure size 432x288 with 1 Axes>"
      ]
     },
     "metadata": {
      "needs_background": "light"
     },
     "output_type": "display_data"
    }
   ],
   "source": [
    "import scipy.stats as stats\n",
    "import pylab\n",
    "measurements = np.random.normal(loc = 20, scale = 5, size=100)   \n",
    "stats.probplot(data[\"loan\"], dist=\"norm\", plot=pylab)\n",
    "pylab.show()"
   ]
  },
  {
   "cell_type": "markdown",
   "metadata": {},
   "source": [
    "Bu qq plot bize loan değişkeninin sağa çarpık olduğunu gösterir.Ortalama altında kalan verilerin frekansları gittikçe artacaktır.\n"
   ]
  },
  {
   "cell_type": "code",
   "execution_count": 197,
   "metadata": {},
   "outputs": [
    {
     "data": {
      "image/png": "[encoded data removed]",
      "text/plain": [
       "<Figure size 432x288 with 1 Axes>"
      ]
     },
     "metadata": {
      "needs_background": "light"
     },
     "output_type": "display_data"
    }
   ],
   "source": [
    "import numpy as np \n",
    "import pylab \n",
    "import scipy.stats as stats\n",
    "\n",
    "measurements = np.random.normal(loc = 20, scale = 5, size=100)   \n",
    "stats.probplot(data[\"value\"], dist=\"norm\", plot=pylab)\n",
    "pylab.show()"
   ]
  },
  {
   "cell_type": "markdown",
   "metadata": {},
   "source": [
    "Burada verilerin daha düşük olduğunu ve sağa çarpık olduğunu gözlemleriz.Ayrıca bazı uç değerler gözlemleriz.\n"
   ]
  },
  {
   "cell_type": "code",
   "execution_count": 198,
   "metadata": {},
   "outputs": [
    {
     "data": {
      "image/png": "[encoded data removed]",
      "text/plain": [
       "<Figure size 432x288 with 1 Axes>"
      ]
     },
     "metadata": {
      "needs_background": "light"
     },
     "output_type": "display_data"
    }
   ],
   "source": [
    "measurements = np.random.normal(loc = 20, scale = 5, size=100)   \n",
    "stats.probplot(data[\"clno\"], dist=\"norm\", plot=pylab)\n",
    "pylab.show()"
   ]
  },
  {
   "cell_type": "markdown",
   "metadata": {},
   "source": [
    "Clno,bizlere kredi limit sayısını gösterir.Veriler arasında simetrik olmaya en yakın veri budur.\n"
   ]
  },
  {
   "cell_type": "code",
   "execution_count": 199,
   "metadata": {},
   "outputs": [
    {
     "data": {
      "image/png": "[encoded data removed]",
      "text/plain": [
       "<Figure size 432x288 with 1 Axes>"
      ]
     },
     "metadata": {
      "needs_background": "light"
     },
     "output_type": "display_data"
    }
   ],
   "source": [
    "measurements = np.random.normal(loc = 20, scale = 5, size=100)   \n",
    "stats.probplot(data[\"yoj\"], dist=\"norm\", plot=pylab)\n",
    "pylab.show()"
   ]
  },
  {
   "cell_type": "markdown",
   "metadata": {},
   "source": [
    "Bu değişken diğerlerine göre simetrik olmaya yakındır.Meslekte çalıuşılan yıl sayısı en fazla 0-20 bandındadır. \n"
   ]
  },
  {
   "cell_type": "code",
   "execution_count": 200,
   "metadata": {},
   "outputs": [
    {
     "data": {
      "image/png": "[encoded data removed]",
      "text/plain": [
       "<Figure size 432x288 with 1 Axes>"
      ]
     },
     "metadata": {
      "needs_background": "light"
     },
     "output_type": "display_data"
    }
   ],
   "source": [
    "measurements = np.random.normal(loc = 20, scale = 5, size=100)   \n",
    "stats.probplot(data[\"ninq\"], dist=\"norm\", plot=pylab)\n",
    "pylab.show()"
   ]
  },
  {
   "cell_type": "code",
   "execution_count": 201,
   "metadata": {},
   "outputs": [
    {
     "data": {
      "image/png": "[encoded data removed]",
      "text/plain": [
       "<Figure size 432x288 with 1 Axes>"
      ]
     },
     "metadata": {
      "needs_background": "light"
     },
     "output_type": "display_data"
    }
   ],
   "source": [
    "measurements = np.random.normal(loc = 20, scale = 5, size=100)   \n",
    "stats.probplot(data[\"clage\"], dist=\"norm\", plot=pylab)\n",
    "pylab.show()"
   ]
  },
  {
   "cell_type": "markdown",
   "metadata": {},
   "source": [
    "En eski kredi limiti yaşını gösteriyor.Genelde 200 bandındadır.Ama az da olsa aykırı gözlemler bulunmaktadır.(1200)\n"
   ]
  },
  {
   "cell_type": "code",
   "execution_count": 202,
   "metadata": {},
   "outputs": [],
   "source": [
    "vis_data=Visualization(data)"
   ]
  },
  {
   "cell_type": "code",
   "execution_count": 203,
   "metadata": {},
   "outputs": [
    {
     "data": {
      "text/plain": [
       "<matplotlib.axes._subplots.AxesSubplot at 0x29054301dc8>"
      ]
     },
     "execution_count": 203,
     "metadata": {},
     "output_type": "execute_result"
    },
    {
     "data": {
      "image/png": "[encoded data removed]",
      "text/plain": [
       "<Figure size 432x288 with 1 Axes>"
      ]
     },
     "metadata": {
      "needs_background": "light"
     },
     "output_type": "display_data"
    }
   ],
   "source": [
    "vis_data.barplot(x = \"reason\", y = data.reason.index)"
   ]
  },
  {
   "cell_type": "markdown",
   "metadata": {},
   "source": [
    "**Kredinin kullanım amacını kullanan kişi sayısına göre gözlemledik.Reason değişkeni verideki kategorik değişkenlerden biridir ve çekilen kredinin Debtcon yani borçların birleşimi(diğer borçların kapatılması) veya HomeImp yani evdeki diğer harcamalar için kredi çekilmesini belirtir.\n",
    "\n",
    "\n",
    "**Toplamda 3576 müşteriden yaklaşık olarak 1700 kişi krediyi HomeImp amacıyla, 1600 kişi de DebtCon amacıyla kredi çekmiştir.\n"
   ]
  },
  {
   "cell_type": "code",
   "execution_count": 204,
   "metadata": {},
   "outputs": [
    {
     "data": {
      "text/plain": [
       "<matplotlib.axes._subplots.AxesSubplot at 0x290516b7c48>"
      ]
     },
     "execution_count": 204,
     "metadata": {},
     "output_type": "execute_result"
    },
    {
     "data": {
      "image/png": "[encoded data removed]",
      "text/plain": [
       "<Figure size 432x288 with 1 Axes>"
      ]
     },
     "metadata": {
      "needs_background": "light"
     },
     "output_type": "display_data"
    }
   ],
   "source": [
    "import seaborn as sns\n",
    "sns.boxplot(x=\"bad\", y=\"loan\",data=data)"
   ]
  },
  {
   "cell_type": "code",
   "execution_count": 205,
   "metadata": {},
   "outputs": [
    {
     "data": {
      "text/plain": [
       "<matplotlib.axes._subplots.AxesSubplot at 0x290512bc288>"
      ]
     },
     "execution_count": 205,
     "metadata": {},
     "output_type": "execute_result"
    },
    {
     "data": {
      "image/png": "[encoded data removed]",
      "text/plain": [
       "<Figure size 432x288 with 1 Axes>"
      ]
     },
     "metadata": {
      "needs_background": "light"
     },
     "output_type": "display_data"
    }
   ],
   "source": [
    "vis_data.boxplot(x = \"job\", y = \"loan\")"
   ]
  },
  {
   "cell_type": "code",
   "execution_count": 206,
   "metadata": {},
   "outputs": [
    {
     "data": {
      "text/plain": [
       "<matplotlib.axes._subplots.AxesSubplot at 0x29051383bc8>"
      ]
     },
     "execution_count": 206,
     "metadata": {},
     "output_type": "execute_result"
    },
    {
     "data": {
      "image/png": "[encoded data removed]",
      "text/plain": [
       "<Figure size 432x288 with 1 Axes>"
      ]
     },
     "metadata": {
      "needs_background": "light"
     },
     "output_type": "display_data"
    }
   ],
   "source": [
    "vis_data.scatter(x = \"value\", y = \"loan\")  "
   ]
  },
  {
   "cell_type": "code",
   "execution_count": 207,
   "metadata": {},
   "outputs": [
    {
     "data": {
      "text/plain": [
       "<matplotlib.axes._subplots.AxesSubplot at 0x29051406c08>"
      ]
     },
     "execution_count": 207,
     "metadata": {},
     "output_type": "execute_result"
    },
    {
     "data": {
      "image/png": "[encoded data removed]",
      "text/plain": [
       "<Figure size 432x288 with 1 Axes>"
      ]
     },
     "metadata": {
      "needs_background": "light"
     },
     "output_type": "display_data"
    }
   ],
   "source": [
    "vis_data.scatter(x = \"value\", y = \"loan\", z = \"bad\")  "
   ]
  },
  {
   "cell_type": "code",
   "execution_count": 208,
   "metadata": {},
   "outputs": [
    {
     "data": {
      "text/plain": [
       "<matplotlib.axes._subplots.AxesSubplot at 0x29051757408>"
      ]
     },
     "execution_count": 208,
     "metadata": {},
     "output_type": "execute_result"
    },
    {
     "data": {
      "image/png": "[encoded data removed]",
      "text/plain": [
       "<Figure size 432x288 with 1 Axes>"
      ]
     },
     "metadata": {
      "needs_background": "light"
     },
     "output_type": "display_data"
    }
   ],
   "source": [
    "vis_data.scatter(x = \"mortdue\", y = \"loan\", z = \"bad\")  "
   ]
  },
  {
   "cell_type": "code",
   "execution_count": 209,
   "metadata": {},
   "outputs": [
    {
     "data": {
      "text/html": [
       "<div>\n",
       "<style scoped>\n",
       "    .dataframe tbody tr th:only-of-type {\n",
       "        vertical-align: middle;\n",
       "    }\n",
       "\n",
       "    .dataframe tbody tr th {\n",
       "        vertical-align: top;\n",
       "    }\n",
       "\n",
       "    .dataframe thead th {\n",
       "        text-align: right;\n",
       "    }\n",
       "</style>\n",
       "<table border=\"1\" class=\"dataframe\">\n",
       "  <thead>\n",
       "    <tr style=\"text-align: right;\">\n",
       "      <th></th>\n",
       "      <th>bad</th>\n",
       "      <th>loan</th>\n",
       "      <th>mortdue</th>\n",
       "      <th>value</th>\n",
       "      <th>yoj</th>\n",
       "      <th>derog</th>\n",
       "      <th>delinq</th>\n",
       "      <th>clage</th>\n",
       "      <th>ninq</th>\n",
       "      <th>clno</th>\n",
       "      <th>debtinc</th>\n",
       "    </tr>\n",
       "  </thead>\n",
       "  <tbody>\n",
       "    <tr>\n",
       "      <th>bad</th>\n",
       "      <td>1.000000</td>\n",
       "      <td>-0.026184</td>\n",
       "      <td>-0.025103</td>\n",
       "      <td>-0.031318</td>\n",
       "      <td>-0.050937</td>\n",
       "      <td>0.235700</td>\n",
       "      <td>0.281008</td>\n",
       "      <td>-0.090830</td>\n",
       "      <td>0.109951</td>\n",
       "      <td>-0.012602</td>\n",
       "      <td>0.251064</td>\n",
       "    </tr>\n",
       "    <tr>\n",
       "      <th>loan</th>\n",
       "      <td>-0.026184</td>\n",
       "      <td>1.000000</td>\n",
       "      <td>0.282651</td>\n",
       "      <td>0.379027</td>\n",
       "      <td>0.098801</td>\n",
       "      <td>-0.024812</td>\n",
       "      <td>-0.045501</td>\n",
       "      <td>0.064738</td>\n",
       "      <td>0.054942</td>\n",
       "      <td>0.097961</td>\n",
       "      <td>0.157596</td>\n",
       "    </tr>\n",
       "    <tr>\n",
       "      <th>mortdue</th>\n",
       "      <td>-0.025103</td>\n",
       "      <td>0.282651</td>\n",
       "      <td>1.000000</td>\n",
       "      <td>0.867368</td>\n",
       "      <td>-0.092880</td>\n",
       "      <td>-0.049734</td>\n",
       "      <td>-0.041545</td>\n",
       "      <td>0.132383</td>\n",
       "      <td>0.020796</td>\n",
       "      <td>0.343742</td>\n",
       "      <td>0.194930</td>\n",
       "    </tr>\n",
       "    <tr>\n",
       "      <th>value</th>\n",
       "      <td>-0.031318</td>\n",
       "      <td>0.379027</td>\n",
       "      <td>0.867368</td>\n",
       "      <td>1.000000</td>\n",
       "      <td>-0.003837</td>\n",
       "      <td>-0.055510</td>\n",
       "      <td>-0.066153</td>\n",
       "      <td>0.194847</td>\n",
       "      <td>-0.021380</td>\n",
       "      <td>0.234563</td>\n",
       "      <td>0.138076</td>\n",
       "    </tr>\n",
       "    <tr>\n",
       "      <th>yoj</th>\n",
       "      <td>-0.050937</td>\n",
       "      <td>0.098801</td>\n",
       "      <td>-0.092880</td>\n",
       "      <td>-0.003837</td>\n",
       "      <td>1.000000</td>\n",
       "      <td>-0.054276</td>\n",
       "      <td>0.043922</td>\n",
       "      <td>0.222843</td>\n",
       "      <td>-0.049494</td>\n",
       "      <td>0.001370</td>\n",
       "      <td>-0.047849</td>\n",
       "    </tr>\n",
       "    <tr>\n",
       "      <th>derog</th>\n",
       "      <td>0.235700</td>\n",
       "      <td>-0.024812</td>\n",
       "      <td>-0.049734</td>\n",
       "      <td>-0.055510</td>\n",
       "      <td>-0.054276</td>\n",
       "      <td>1.000000</td>\n",
       "      <td>0.167600</td>\n",
       "      <td>-0.059206</td>\n",
       "      <td>0.153468</td>\n",
       "      <td>0.059943</td>\n",
       "      <td>0.063426</td>\n",
       "    </tr>\n",
       "    <tr>\n",
       "      <th>delinq</th>\n",
       "      <td>0.281008</td>\n",
       "      <td>-0.045501</td>\n",
       "      <td>-0.041545</td>\n",
       "      <td>-0.066153</td>\n",
       "      <td>0.043922</td>\n",
       "      <td>0.167600</td>\n",
       "      <td>1.000000</td>\n",
       "      <td>0.039487</td>\n",
       "      <td>0.013890</td>\n",
       "      <td>0.099542</td>\n",
       "      <td>0.066169</td>\n",
       "    </tr>\n",
       "    <tr>\n",
       "      <th>clage</th>\n",
       "      <td>-0.090830</td>\n",
       "      <td>0.064738</td>\n",
       "      <td>0.132383</td>\n",
       "      <td>0.194847</td>\n",
       "      <td>0.222843</td>\n",
       "      <td>-0.059206</td>\n",
       "      <td>0.039487</td>\n",
       "      <td>1.000000</td>\n",
       "      <td>-0.083368</td>\n",
       "      <td>0.184581</td>\n",
       "      <td>-0.046713</td>\n",
       "    </tr>\n",
       "    <tr>\n",
       "      <th>ninq</th>\n",
       "      <td>0.109951</td>\n",
       "      <td>0.054942</td>\n",
       "      <td>0.020796</td>\n",
       "      <td>-0.021380</td>\n",
       "      <td>-0.049494</td>\n",
       "      <td>0.153468</td>\n",
       "      <td>0.013890</td>\n",
       "      <td>-0.083368</td>\n",
       "      <td>1.000000</td>\n",
       "      <td>0.081600</td>\n",
       "      <td>0.152820</td>\n",
       "    </tr>\n",
       "    <tr>\n",
       "      <th>clno</th>\n",
       "      <td>-0.012602</td>\n",
       "      <td>0.097961</td>\n",
       "      <td>0.343742</td>\n",
       "      <td>0.234563</td>\n",
       "      <td>0.001370</td>\n",
       "      <td>0.059943</td>\n",
       "      <td>0.099542</td>\n",
       "      <td>0.184581</td>\n",
       "      <td>0.081600</td>\n",
       "      <td>1.000000</td>\n",
       "      <td>0.155147</td>\n",
       "    </tr>\n",
       "    <tr>\n",
       "      <th>debtinc</th>\n",
       "      <td>0.251064</td>\n",
       "      <td>0.157596</td>\n",
       "      <td>0.194930</td>\n",
       "      <td>0.138076</td>\n",
       "      <td>-0.047849</td>\n",
       "      <td>0.063426</td>\n",
       "      <td>0.066169</td>\n",
       "      <td>-0.046713</td>\n",
       "      <td>0.152820</td>\n",
       "      <td>0.155147</td>\n",
       "      <td>1.000000</td>\n",
       "    </tr>\n",
       "  </tbody>\n",
       "</table>\n",
       "</div>"
      ],
      "text/plain": [
       "              bad      loan   mortdue     value       yoj     derog    delinq  \\\n",
       "bad      1.000000 -0.026184 -0.025103 -0.031318 -0.050937  0.235700  0.281008   \n",
       "loan    -0.026184  1.000000  0.282651  0.379027  0.098801 -0.024812 -0.045501   \n",
       "mortdue -0.025103  0.282651  1.000000  0.867368 -0.092880 -0.049734 -0.041545   \n",
       "value   -0.031318  0.379027  0.867368  1.000000 -0.003837 -0.055510 -0.066153   \n",
       "yoj     -0.050937  0.098801 -0.092880 -0.003837  1.000000 -0.054276  0.043922   \n",
       "derog    0.235700 -0.024812 -0.049734 -0.055510 -0.054276  1.000000  0.167600   \n",
       "delinq   0.281008 -0.045501 -0.041545 -0.066153  0.043922  0.167600  1.000000   \n",
       "clage   -0.090830  0.064738  0.132383  0.194847  0.222843 -0.059206  0.039487   \n",
       "ninq     0.109951  0.054942  0.020796 -0.021380 -0.049494  0.153468  0.013890   \n",
       "clno    -0.012602  0.097961  0.343742  0.234563  0.001370  0.059943  0.099542   \n",
       "debtinc  0.251064  0.157596  0.194930  0.138076 -0.047849  0.063426  0.066169   \n",
       "\n",
       "            clage      ninq      clno   debtinc  \n",
       "bad     -0.090830  0.109951 -0.012602  0.251064  \n",
       "loan     0.064738  0.054942  0.097961  0.157596  \n",
       "mortdue  0.132383  0.020796  0.343742  0.194930  \n",
       "value    0.194847 -0.021380  0.234563  0.138076  \n",
       "yoj      0.222843 -0.049494  0.001370 -0.047849  \n",
       "derog   -0.059206  0.153468  0.059943  0.063426  \n",
       "delinq   0.039487  0.013890  0.099542  0.066169  \n",
       "clage    1.000000 -0.083368  0.184581 -0.046713  \n",
       "ninq    -0.083368  1.000000  0.081600  0.152820  \n",
       "clno     0.184581  0.081600  1.000000  0.155147  \n",
       "debtinc -0.046713  0.152820  0.155147  1.000000  "
      ]
     },
     "execution_count": 209,
     "metadata": {},
     "output_type": "execute_result"
    }
   ],
   "source": [
    "data.corr()"
   ]
  },
  {
   "cell_type": "markdown",
   "metadata": {},
   "source": [
    "**Burada verideki değişkenler arasındaki korelasyonu yani ilişkileri görüyoruz.\n",
    "\n",
    "**Loan ve value arasında yüzde 38’lik bir ilişki vardır.Bu diğer değişken ilişkilerine göre fazladır.\n",
    "\n",
    "**Value ve mortdue arasında yüzde 87’lik güçlü bir ilişki vardır.Value güncel mal varlığım ve mortdue morgage borçlarımı ifade ederse,mal varlığının morgage borcu yani ev kredisiyle oluşturulduğu yorumu yapılabilir.\n"
   ]
  },
  {
   "cell_type": "code",
   "execution_count": 210,
   "metadata": {},
   "outputs": [
    {
     "data": {
      "image/png": "[encoded data removed]",
      "text/plain": [
       "<Figure size 720x576 with 2 Axes>"
      ]
     },
     "metadata": {
      "needs_background": "light"
     },
     "output_type": "display_data"
    }
   ],
   "source": [
    "import matplotlib.pyplot as plt\n",
    "import seaborn as sns\n",
    "corr = data.corr()\n",
    "fig, ax = plt.subplots(figsize=(10,8))\n",
    "colormap = sns.diverging_palette(220, 10, as_cmap=True)\n",
    "sns.heatmap(corr, cmap=colormap, annot=True, fmt=\".2f\")\n",
    "plt.xticks(range(len(corr.columns)), corr.columns);\n",
    "plt.yticks(range(len(corr.columns)), corr.columns)\n",
    "plt.show()"
   ]
  },
  {
   "cell_type": "code",
   "execution_count": 211,
   "metadata": {},
   "outputs": [],
   "source": [
    "class PreProcessing:\n",
    "    \n",
    "    def __init__(self, data):\n",
    "        self.data = data\n",
    "    def Delete_col(self, inplace):\n",
    "        del_col = self.data.dropna(axis=1, inplace=inplace)\n",
    "        return del_col \n",
    "    def calc_vif(self):\n",
    "        vif[\"variables\"] = self.data.columns\n",
    "        vif[\"VIF\"] = [variance_inflation_factor(self.data.values, i) for i in range(self.data.shape[1])]\n",
    "        return(vif)\n",
    "    def Dummy(self):\n",
    "        dummy_data = pd.get_dummies(self.data)\n",
    "        return dummy_data\n",
    "    def DropColumn(self, column):\n",
    "        drop =  self.data.drop(column, inplace=True, axis=1)\n",
    "        return drop\n",
    "    def Label_Encoder(self, column):\n",
    "        label_encoder = preprocessing.LabelEncoder()\n",
    "        LE = label_encoder.fit_transform(self.data[column])\n",
    "        return LE\n",
    "    "
   ]
  },
  {
   "cell_type": "code",
   "execution_count": 212,
   "metadata": {},
   "outputs": [],
   "source": [
    "class statistic():\n",
    "    def __init__(self, data):\n",
    "        self.data=data  \n",
    "    def shapiro(self):\n",
    "        for col in self.data.columns[1:]:\n",
    "            if self.data[col].dtypes != object :\n",
    "                stat, p = shapiro(self.data[col]) \n",
    "    def Delete_col(self, inplace):\n",
    "        del_col = self.data.dropna(axis=1, inplace=inplace)\n",
    "        return del_col\n",
    "    \n",
    "    def Delete_row(self, inplace):\n",
    "        del_row = self.data.dropna(axis=0, inplace=inplace)\n",
    "        return del_row\n",
    "    def levene(self, col_1, col_2):\n",
    "        stats.levene(self.data[col_1],self.data[col_2])\n",
    "        print('Statistics=%.3f, p=%.3f' % (stat,p))             \n",
    "    def ttest_one(self,column,popmean):\n",
    "        stat, p = self.stats.ttest_one(self.data[column], popmean = popmean)\n",
    "        print(\"Statistics:%3.3f, p=%.3f \" % (stat,p))      \n",
    "    def ttest_two(self, col_1, col_2):\n",
    "        columns = pd.concat([self.data[col_1],self.data[col_2]], axis=1)\n",
    "        stat, p=stats.ttest_ind(columns[col_1],columns[col_1], equal_var = False )\n",
    "        print(\"Statistics:%3.3f, p=%.3f \" % (stat,p))\n",
    "        "
   ]
  },
  {
   "cell_type": "markdown",
   "metadata": {},
   "source": [
    "# İstatistiksel Testler"
   ]
  },
  {
   "cell_type": "code",
   "execution_count": 213,
   "metadata": {},
   "outputs": [],
   "source": [
    "import pylab\n",
    "import scipy.stats as stats\n",
    "import statsmodels.api as sm\n",
    "import pandas as pd\n",
    "import numpy as np\n",
    "import matplotlib.pylab as plt\n",
    "import seaborn as sns\n",
    "\n",
    "data = pd.read_csv(\"bankdata.csv\")"
   ]
  },
  {
   "cell_type": "code",
   "execution_count": 214,
   "metadata": {},
   "outputs": [
    {
     "data": {
      "text/plain": [
       "<matplotlib.axes._subplots.AxesSubplot at 0x2904fc08d08>"
      ]
     },
     "execution_count": 214,
     "metadata": {},
     "output_type": "execute_result"
    },
    {
     "data": {
      "image/png": "[encoded data removed]",
      "text/plain": [
       "<Figure size 432x288 with 1 Axes>"
      ]
     },
     "metadata": {
      "needs_background": "light"
     },
     "output_type": "display_data"
    }
   ],
   "source": [
    "import seaborn as sns\n",
    "sns.boxplot(x=\"bad\", y=\"loan\",data=data)"
   ]
  },
  {
   "cell_type": "code",
   "execution_count": 215,
   "metadata": {},
   "outputs": [
    {
     "name": "stdout",
     "output_type": "stream",
     "text": [
      "Statistics:0.849, p=0.000 \n",
      "örneklem normal dağılımdan gelmemektedir. (reject H0)\n"
     ]
    }
   ],
   "source": [
    "stat, p = stats.shapiro(data[\"loan\"])\n",
    "\n",
    "print(\"Statistics:%3.3f, p=%.3f \" % (stat,p))\n",
    "\n",
    "alpha = 0.05 \n",
    "if p>alpha:\n",
    "  print(\"örneklem normal dağılımdan gelmektedir. (Fail to Reject H0)\")\n",
    "else:\n",
    "  print(\"örneklem normal dağılımdan gelmemektedir. (reject H0)\")"
   ]
  },
  {
   "cell_type": "code",
   "execution_count": 216,
   "metadata": {},
   "outputs": [
    {
     "name": "stdout",
     "output_type": "stream",
     "text": [
      "Statistics:0.849, p=0.000 \n",
      "İki değişkenin varyansı birbirine eşit değildir. (reject H0)\n"
     ]
    }
   ],
   "source": [
    "stats.levene(data[\"loan\"], data[\"bad\"])  #Varyansların eşit olup olmadığını anlamak için.\n",
    "\n",
    "print(\"Statistics:%3.3f, p=%.3f \" % (stat,p))\n",
    "\n",
    "alpha = 0.05 \n",
    "if p>alpha:\n",
    "  print(\"İki değişkenin varyansı birbirine eşittir.(Fail to Reject H0)\")\n",
    "else:\n",
    "  print(\"İki değişkenin varyansı birbirine eşit değildir. (reject H0)\")"
   ]
  },
  {
   "cell_type": "code",
   "execution_count": 333,
   "metadata": {},
   "outputs": [
    {
     "data": {
      "text/plain": [
       "Ttest_indResult(statistic=79.30252724355316, pvalue=0.0)"
      ]
     },
     "execution_count": 333,
     "metadata": {},
     "output_type": "execute_result"
    }
   ],
   "source": [
    "stats.ttest_ind(data['loan'],data['bad'],equal_var=True) \n",
    "\n",
    "#H0 : İki değişkenin ortalamaları arasında anlamlı bir fark vardır.(Fail to reject)\n",
    "#H1 : İki değişkenin ortalamaları arasında anlamlı bir fark yoktur.(Reject)"
   ]
  },
  {
   "cell_type": "markdown",
   "metadata": {},
   "source": [
    "*** Stat değeri > p-value -- H0 hipotezi reddedilir. (Reject)\n",
    "\n",
    "*** Stat değeri < p-value -- H0 hipotezi kabul edilir.(Do not reject)"
   ]
  },
  {
   "cell_type": "code",
   "execution_count": 218,
   "metadata": {},
   "outputs": [
    {
     "data": {
      "text/plain": [
       "<matplotlib.axes._subplots.AxesSubplot at 0x29050ff04c8>"
      ]
     },
     "execution_count": 218,
     "metadata": {},
     "output_type": "execute_result"
    },
    {
     "data": {
      "image/png": "[encoded data removed]",
      "text/plain": [
       "<Figure size 432x288 with 1 Axes>"
      ]
     },
     "metadata": {
      "needs_background": "light"
     },
     "output_type": "display_data"
    }
   ],
   "source": [
    "import seaborn as sns\n",
    "sns.boxplot(x=\"bad\", y=\"value\",data=data)"
   ]
  },
  {
   "cell_type": "code",
   "execution_count": 219,
   "metadata": {},
   "outputs": [
    {
     "name": "stdout",
     "output_type": "stream",
     "text": [
      "Statistics:nan, p=1.000 \n",
      "örneklem normal dağılımdan gelmektedir. (Fail to Reject H0)\n"
     ]
    }
   ],
   "source": [
    "stat, p = stats.shapiro(data[\"value\"])\n",
    "\n",
    "print(\"Statistics:%3.3f, p=%.3f \" % (stat,p))\n",
    "\n",
    "alpha = 0.05 \n",
    "if p>alpha:\n",
    "  print(\"örneklem normal dağılımdan gelmektedir. (Fail to Reject H0)\")\n",
    "else:\n",
    "  print(\"örneklem normal dağılımdan gelmemektedir. (reject H0)\")"
   ]
  },
  {
   "cell_type": "code",
   "execution_count": 220,
   "metadata": {},
   "outputs": [
    {
     "name": "stdout",
     "output_type": "stream",
     "text": [
      "Statistics:nan, p=1.000 \n",
      "İki değişkenin varyansı birbirine eşittir.(Fail to Reject H0)\n"
     ]
    }
   ],
   "source": [
    "stats.levene(data[\"value\"], data[\"bad\"])  #Varyansların eşit olup olmadığını anlamak için.\n",
    "\n",
    "print(\"Statistics:%3.3f, p=%.3f \" % (stat,p))\n",
    "\n",
    "alpha = 0.05 \n",
    "if p>alpha:\n",
    "  print(\"İki değişkenin varyansı birbirine eşittir.(Fail to Reject H0)\")\n",
    "else:\n",
    "  print(\"İki değişkenin varyansı birbirine eşit değildir. (reject H0)\")"
   ]
  },
  {
   "cell_type": "code",
   "execution_count": 221,
   "metadata": {},
   "outputs": [
    {
     "data": {
      "text/plain": [
       "Ttest_indResult(statistic=nan, pvalue=nan)"
      ]
     },
     "execution_count": 221,
     "metadata": {},
     "output_type": "execute_result"
    }
   ],
   "source": [
    "stats.ttest_ind(data['value'],data['bad'],equal_var=True)"
   ]
  },
  {
   "cell_type": "code",
   "execution_count": 222,
   "metadata": {},
   "outputs": [
    {
     "data": {
      "text/plain": [
       "<matplotlib.axes._subplots.AxesSubplot at 0x290543b1648>"
      ]
     },
     "execution_count": 222,
     "metadata": {},
     "output_type": "execute_result"
    },
    {
     "data": {
      "image/png": "[encoded data removed]",
      "text/plain": [
       "<Figure size 432x288 with 1 Axes>"
      ]
     },
     "metadata": {
      "needs_background": "light"
     },
     "output_type": "display_data"
    }
   ],
   "source": [
    "import seaborn as sns\n",
    "sns.boxplot(x=\"bad\", y=\"mortdue\",data=data)"
   ]
  },
  {
   "cell_type": "code",
   "execution_count": 223,
   "metadata": {},
   "outputs": [
    {
     "name": "stdout",
     "output_type": "stream",
     "text": [
      "Statistics:nan, p=1.000 \n",
      "örneklem normal dağılımdan gelmektedir. (Fail to Reject H0)\n"
     ]
    }
   ],
   "source": [
    "stat, p = stats.shapiro(data[\"mortdue\"])\n",
    "\n",
    "print(\"Statistics:%3.3f, p=%.3f \" % (stat,p))\n",
    "\n",
    "alpha = 0.05 \n",
    "if p>alpha:\n",
    "  print(\"örneklem normal dağılımdan gelmektedir. (Fail to Reject H0)\")\n",
    "else:\n",
    "  print(\"örneklem normal dağılımdan gelmemektedir. (reject H0)\")"
   ]
  },
  {
   "cell_type": "code",
   "execution_count": 224,
   "metadata": {},
   "outputs": [
    {
     "name": "stdout",
     "output_type": "stream",
     "text": [
      "Statistics:nan, p=1.000 \n",
      "İki değişkenin varyansı birbirine eşittir.(Fail to Reject H0)\n"
     ]
    }
   ],
   "source": [
    "stats.levene(data[\"mortdue\"], data[\"bad\"])  #Varyansların eşit olup olmadığını anlamak için.\n",
    "\n",
    "print(\"Statistics:%3.3f, p=%.3f \" % (stat,p))\n",
    "\n",
    "alpha = 0.05 \n",
    "if p>alpha:\n",
    "  print(\"İki değişkenin varyansı birbirine eşittir.(Fail to Reject H0)\")\n",
    "else:\n",
    "  print(\"İki değişkenin varyansı birbirine eşit değildir. (reject H0)\")"
   ]
  },
  {
   "cell_type": "code",
   "execution_count": 225,
   "metadata": {},
   "outputs": [
    {
     "data": {
      "text/plain": [
       "Ttest_indResult(statistic=nan, pvalue=nan)"
      ]
     },
     "execution_count": 225,
     "metadata": {},
     "output_type": "execute_result"
    }
   ],
   "source": [
    "stats.ttest_ind(data['mortdue'],data['bad'],equal_var=True)"
   ]
  },
  {
   "cell_type": "code",
   "execution_count": 226,
   "metadata": {},
   "outputs": [
    {
     "name": "stdout",
     "output_type": "stream",
     "text": [
      "Statistics:nan, p=1.000 \n",
      "İki değişkenin varyansı birbirine eşittir.(Fail to Reject H0)\n"
     ]
    }
   ],
   "source": [
    "stats.levene(data[\"mortdue\"], data[\"value\"])  #Varyansların eşit olup olmadığını anlamak için.\n",
    "\n",
    "print(\"Statistics:%3.3f, p=%.3f \" % (stat,p))\n",
    "\n",
    "alpha = 0.05 \n",
    "if p>alpha:\n",
    "  print(\"İki değişkenin varyansı birbirine eşittir.(Fail to Reject H0)\")\n",
    "else:\n",
    "  print(\"İki değişkenin varyansı birbirine eşit değildir. (reject H0)\")"
   ]
  },
  {
   "cell_type": "code",
   "execution_count": 227,
   "metadata": {},
   "outputs": [
    {
     "data": {
      "text/plain": [
       "Ttest_indResult(statistic=nan, pvalue=nan)"
      ]
     },
     "execution_count": 227,
     "metadata": {},
     "output_type": "execute_result"
    }
   ],
   "source": [
    "stats.ttest_ind(data['mortdue'],data['value'],equal_var=True)"
   ]
  },
  {
   "cell_type": "markdown",
   "metadata": {},
   "source": [
    "*** Stat değeri > p-value -- H0 hipotezi reddedilir. (Reject)\n",
    "\n",
    "*** Stat değeri < p-value -- H0 hipotezi kabul edilir.(Do not reject)"
   ]
  },
  {
   "cell_type": "markdown",
   "metadata": {},
   "source": [
    "# Dummy"
   ]
  },
  {
   "cell_type": "code",
   "execution_count": 228,
   "metadata": {},
   "outputs": [],
   "source": [
    "data = pd.read_csv(\"hmelq.csv\")\n",
    "data = data.dropna()"
   ]
  },
  {
   "cell_type": "code",
   "execution_count": 229,
   "metadata": {},
   "outputs": [
    {
     "data": {
      "text/plain": [
       "{'job', 'reason'}"
      ]
     },
     "execution_count": 229,
     "metadata": {},
     "output_type": "execute_result"
    }
   ],
   "source": [
    "col=data.columns\n",
    "\n",
    "num_cols=data._get_numeric_data().columns\n",
    "cat=set(col)-set(num_cols)\n",
    "cat"
   ]
  },
  {
   "cell_type": "code",
   "execution_count": 230,
   "metadata": {},
   "outputs": [
    {
     "data": {
      "text/html": [
       "<div>\n",
       "<style scoped>\n",
       "    .dataframe tbody tr th:only-of-type {\n",
       "        vertical-align: middle;\n",
       "    }\n",
       "\n",
       "    .dataframe tbody tr th {\n",
       "        vertical-align: top;\n",
       "    }\n",
       "\n",
       "    .dataframe thead th {\n",
       "        text-align: right;\n",
       "    }\n",
       "</style>\n",
       "<table border=\"1\" class=\"dataframe\">\n",
       "  <thead>\n",
       "    <tr style=\"text-align: right;\">\n",
       "      <th></th>\n",
       "      <th>reason</th>\n",
       "      <th>job</th>\n",
       "    </tr>\n",
       "  </thead>\n",
       "  <tbody>\n",
       "    <tr>\n",
       "      <th>153</th>\n",
       "      <td>DebtCon</td>\n",
       "      <td>Mgr</td>\n",
       "    </tr>\n",
       "    <tr>\n",
       "      <th>154</th>\n",
       "      <td>DebtCon</td>\n",
       "      <td>Mgr</td>\n",
       "    </tr>\n",
       "    <tr>\n",
       "      <th>155</th>\n",
       "      <td>DebtCon</td>\n",
       "      <td>Mgr</td>\n",
       "    </tr>\n",
       "    <tr>\n",
       "      <th>156</th>\n",
       "      <td>HomeImp</td>\n",
       "      <td>Mgr</td>\n",
       "    </tr>\n",
       "    <tr>\n",
       "      <th>157</th>\n",
       "      <td>DebtCon</td>\n",
       "      <td>Mgr</td>\n",
       "    </tr>\n",
       "    <tr>\n",
       "      <th>...</th>\n",
       "      <td>...</td>\n",
       "      <td>...</td>\n",
       "    </tr>\n",
       "    <tr>\n",
       "      <th>3544</th>\n",
       "      <td>HomeImp</td>\n",
       "      <td>Self</td>\n",
       "    </tr>\n",
       "    <tr>\n",
       "      <th>3546</th>\n",
       "      <td>HomeImp</td>\n",
       "      <td>Self</td>\n",
       "    </tr>\n",
       "    <tr>\n",
       "      <th>3547</th>\n",
       "      <td>DebtCon</td>\n",
       "      <td>Self</td>\n",
       "    </tr>\n",
       "    <tr>\n",
       "      <th>3548</th>\n",
       "      <td>HomeImp</td>\n",
       "      <td>Self</td>\n",
       "    </tr>\n",
       "    <tr>\n",
       "      <th>3549</th>\n",
       "      <td>HomeImp</td>\n",
       "      <td>Self</td>\n",
       "    </tr>\n",
       "  </tbody>\n",
       "</table>\n",
       "<p>2018 rows × 2 columns</p>\n",
       "</div>"
      ],
      "text/plain": [
       "       reason   job\n",
       "153   DebtCon   Mgr\n",
       "154   DebtCon   Mgr\n",
       "155   DebtCon   Mgr\n",
       "156   HomeImp   Mgr\n",
       "157   DebtCon   Mgr\n",
       "...       ...   ...\n",
       "3544  HomeImp  Self\n",
       "3546  HomeImp  Self\n",
       "3547  DebtCon  Self\n",
       "3548  HomeImp  Self\n",
       "3549  HomeImp  Self\n",
       "\n",
       "[2018 rows x 2 columns]"
      ]
     },
     "execution_count": 230,
     "metadata": {},
     "output_type": "execute_result"
    }
   ],
   "source": [
    "cat = data.select_dtypes(include='object')\n",
    "cat "
   ]
  },
  {
   "cell_type": "code",
   "execution_count": 231,
   "metadata": {},
   "outputs": [
    {
     "data": {
      "text/plain": [
       "0    1840\n",
       "1     178\n",
       "Name: bad, dtype: int64"
      ]
     },
     "execution_count": 231,
     "metadata": {},
     "output_type": "execute_result"
    }
   ],
   "source": [
    "data[\"bad\"].value_counts() "
   ]
  },
  {
   "cell_type": "markdown",
   "metadata": {},
   "source": [
    "1840 kişi borcunu ödüyor. 178 kişi borcunu ödemiyor."
   ]
  },
  {
   "cell_type": "code",
   "execution_count": 232,
   "metadata": {},
   "outputs": [
    {
     "data": {
      "image/png": "[encoded data removed]",
      "text/plain": [
       "<Figure size 432x288 with 1 Axes>"
      ]
     },
     "metadata": {
      "needs_background": "light"
     },
     "output_type": "display_data"
    }
   ],
   "source": [
    "data[\"bad\"].value_counts(). plot.barh(); "
   ]
  },
  {
   "cell_type": "code",
   "execution_count": 233,
   "metadata": {},
   "outputs": [
    {
     "data": {
      "text/plain": [
       "<matplotlib.axes._subplots.AxesSubplot at 0x290545cd1c8>"
      ]
     },
     "execution_count": 233,
     "metadata": {},
     "output_type": "execute_result"
    },
    {
     "data": {
      "image/png": "[encoded data removed]",
      "text/plain": [
       "<Figure size 432x288 with 1 Axes>"
      ]
     },
     "metadata": {
      "needs_background": "light"
     },
     "output_type": "display_data"
    }
   ],
   "source": [
    "data[\"bad\"].value_counts(). hist()"
   ]
  },
  {
   "cell_type": "markdown",
   "metadata": {},
   "source": [
    "# Logistic Regression"
   ]
  },
  {
   "cell_type": "markdown",
   "metadata": {},
   "source": [
    "## STATS MODEL"
   ]
  },
  {
   "cell_type": "code",
   "execution_count": 234,
   "metadata": {},
   "outputs": [],
   "source": [
    "dummy_data = pd.get_dummies(data[[\"job\",\"reason\"]])"
   ]
  },
  {
   "cell_type": "code",
   "execution_count": 235,
   "metadata": {},
   "outputs": [],
   "source": [
    "y = data[\"bad\"]\n",
    "X_=data.drop([\"job\",\"reason\",\"bad\"],axis=1)\n",
    "X=pd.concat([X_,dummy_data[[\"job_Mgr\",\"job_Office\",\"job_Other\",\"job_ProfEx\",\"job_Sales\",\"reason_DebtCon\"]]],axis=1)\n"
   ]
  },
  {
   "cell_type": "code",
   "execution_count": 236,
   "metadata": {},
   "outputs": [],
   "source": [
    "import statsmodels.api as sm\n",
    "from sklearn.linear_model import LogisticRegression"
   ]
  },
  {
   "cell_type": "code",
   "execution_count": 237,
   "metadata": {},
   "outputs": [
    {
     "name": "stdout",
     "output_type": "stream",
     "text": [
      "Optimization terminated successfully.\n",
      "         Current function value: 0.238483\n",
      "         Iterations 7\n"
     ]
    },
    {
     "data": {
      "text/html": [
       "<table class=\"simpletable\">\n",
       "<caption>Logit Regression Results</caption>\n",
       "<tr>\n",
       "  <th>Dep. Variable:</th>          <td>bad</td>       <th>  No. Observations:  </th>  <td>  2018</td>  \n",
       "</tr>\n",
       "<tr>\n",
       "  <th>Model:</th>                 <td>Logit</td>      <th>  Df Residuals:      </th>  <td>  2002</td>  \n",
       "</tr>\n",
       "<tr>\n",
       "  <th>Method:</th>                 <td>MLE</td>       <th>  Df Model:          </th>  <td>    15</td>  \n",
       "</tr>\n",
       "<tr>\n",
       "  <th>Date:</th>            <td>Thu, 06 Aug 2020</td> <th>  Pseudo R-squ.:     </th>  <td>0.2007</td>  \n",
       "</tr>\n",
       "<tr>\n",
       "  <th>Time:</th>                <td>16:57:34</td>     <th>  Log-Likelihood:    </th> <td> -481.26</td> \n",
       "</tr>\n",
       "<tr>\n",
       "  <th>converged:</th>             <td>True</td>       <th>  LL-Null:           </th> <td> -602.11</td> \n",
       "</tr>\n",
       "<tr>\n",
       "  <th>Covariance Type:</th>     <td>nonrobust</td>    <th>  LLR p-value:       </th> <td>6.349e-43</td>\n",
       "</tr>\n",
       "</table>\n",
       "<table class=\"simpletable\">\n",
       "<tr>\n",
       "         <td></td>           <th>coef</th>     <th>std err</th>      <th>z</th>      <th>P>|z|</th>  <th>[0.025</th>    <th>0.975]</th>  \n",
       "</tr>\n",
       "<tr>\n",
       "  <th>loan</th>           <td>-2.625e-05</td> <td> 1.07e-05</td> <td>   -2.453</td> <td> 0.014</td> <td>-4.72e-05</td> <td>-5.27e-06</td>\n",
       "</tr>\n",
       "<tr>\n",
       "  <th>mortdue</th>        <td>-4.837e-06</td> <td> 4.98e-06</td> <td>   -0.972</td> <td> 0.331</td> <td>-1.46e-05</td> <td> 4.91e-06</td>\n",
       "</tr>\n",
       "<tr>\n",
       "  <th>value</th>          <td> 1.216e-07</td> <td> 4.35e-06</td> <td>    0.028</td> <td> 0.978</td> <td>-8.41e-06</td> <td> 8.66e-06</td>\n",
       "</tr>\n",
       "<tr>\n",
       "  <th>yoj</th>            <td>   -0.0145</td> <td>    0.013</td> <td>   -1.114</td> <td> 0.265</td> <td>   -0.040</td> <td>    0.011</td>\n",
       "</tr>\n",
       "<tr>\n",
       "  <th>derog</th>          <td>    0.5742</td> <td>    0.131</td> <td>    4.388</td> <td> 0.000</td> <td>    0.318</td> <td>    0.831</td>\n",
       "</tr>\n",
       "<tr>\n",
       "  <th>delinq</th>         <td>    0.7806</td> <td>    0.091</td> <td>    8.595</td> <td> 0.000</td> <td>    0.603</td> <td>    0.959</td>\n",
       "</tr>\n",
       "<tr>\n",
       "  <th>clage</th>          <td>   -0.0066</td> <td>    0.001</td> <td>   -4.898</td> <td> 0.000</td> <td>   -0.009</td> <td>   -0.004</td>\n",
       "</tr>\n",
       "<tr>\n",
       "  <th>ninq</th>           <td>    0.0919</td> <td>    0.048</td> <td>    1.916</td> <td> 0.055</td> <td>   -0.002</td> <td>    0.186</td>\n",
       "</tr>\n",
       "<tr>\n",
       "  <th>clno</th>           <td>   -0.0369</td> <td>    0.011</td> <td>   -3.488</td> <td> 0.000</td> <td>   -0.058</td> <td>   -0.016</td>\n",
       "</tr>\n",
       "<tr>\n",
       "  <th>debtinc</th>        <td>    0.0704</td> <td>    0.010</td> <td>    6.833</td> <td> 0.000</td> <td>    0.050</td> <td>    0.091</td>\n",
       "</tr>\n",
       "<tr>\n",
       "  <th>job_Mgr</th>        <td>   -2.4682</td> <td>    0.364</td> <td>   -6.774</td> <td> 0.000</td> <td>   -3.182</td> <td>   -1.754</td>\n",
       "</tr>\n",
       "<tr>\n",
       "  <th>job_Office</th>     <td>   -3.0527</td> <td>    0.381</td> <td>   -8.013</td> <td> 0.000</td> <td>   -3.799</td> <td>   -2.306</td>\n",
       "</tr>\n",
       "<tr>\n",
       "  <th>job_Other</th>      <td>   -2.6848</td> <td>    0.317</td> <td>   -8.457</td> <td> 0.000</td> <td>   -3.307</td> <td>   -2.063</td>\n",
       "</tr>\n",
       "<tr>\n",
       "  <th>job_ProfEx</th>     <td>   -2.5181</td> <td>    0.336</td> <td>   -7.494</td> <td> 0.000</td> <td>   -3.177</td> <td>   -1.860</td>\n",
       "</tr>\n",
       "<tr>\n",
       "  <th>job_Sales</th>      <td>   -1.3558</td> <td>    0.620</td> <td>   -2.187</td> <td> 0.029</td> <td>   -2.571</td> <td>   -0.141</td>\n",
       "</tr>\n",
       "<tr>\n",
       "  <th>reason_DebtCon</th> <td>   -0.0854</td> <td>    0.193</td> <td>   -0.443</td> <td> 0.658</td> <td>   -0.463</td> <td>    0.292</td>\n",
       "</tr>\n",
       "</table>"
      ],
      "text/plain": [
       "<class 'statsmodels.iolib.summary.Summary'>\n",
       "\"\"\"\n",
       "                           Logit Regression Results                           \n",
       "==============================================================================\n",
       "Dep. Variable:                    bad   No. Observations:                 2018\n",
       "Model:                          Logit   Df Residuals:                     2002\n",
       "Method:                           MLE   Df Model:                           15\n",
       "Date:                Thu, 06 Aug 2020   Pseudo R-squ.:                  0.2007\n",
       "Time:                        16:57:34   Log-Likelihood:                -481.26\n",
       "converged:                       True   LL-Null:                       -602.11\n",
       "Covariance Type:            nonrobust   LLR p-value:                 6.349e-43\n",
       "==================================================================================\n",
       "                     coef    std err          z      P>|z|      [0.025      0.975]\n",
       "----------------------------------------------------------------------------------\n",
       "loan           -2.625e-05   1.07e-05     -2.453      0.014   -4.72e-05   -5.27e-06\n",
       "mortdue        -4.837e-06   4.98e-06     -0.972      0.331   -1.46e-05    4.91e-06\n",
       "value           1.216e-07   4.35e-06      0.028      0.978   -8.41e-06    8.66e-06\n",
       "yoj               -0.0145      0.013     -1.114      0.265      -0.040       0.011\n",
       "derog              0.5742      0.131      4.388      0.000       0.318       0.831\n",
       "delinq             0.7806      0.091      8.595      0.000       0.603       0.959\n",
       "clage             -0.0066      0.001     -4.898      0.000      -0.009      -0.004\n",
       "ninq               0.0919      0.048      1.916      0.055      -0.002       0.186\n",
       "clno              -0.0369      0.011     -3.488      0.000      -0.058      -0.016\n",
       "debtinc            0.0704      0.010      6.833      0.000       0.050       0.091\n",
       "job_Mgr           -2.4682      0.364     -6.774      0.000      -3.182      -1.754\n",
       "job_Office        -3.0527      0.381     -8.013      0.000      -3.799      -2.306\n",
       "job_Other         -2.6848      0.317     -8.457      0.000      -3.307      -2.063\n",
       "job_ProfEx        -2.5181      0.336     -7.494      0.000      -3.177      -1.860\n",
       "job_Sales         -1.3558      0.620     -2.187      0.029      -2.571      -0.141\n",
       "reason_DebtCon    -0.0854      0.193     -0.443      0.658      -0.463       0.292\n",
       "==================================================================================\n",
       "\"\"\""
      ]
     },
     "execution_count": 237,
     "metadata": {},
     "output_type": "execute_result"
    }
   ],
   "source": [
    "loj = sm.Logit(y, X)\n",
    "loj_model= loj.fit()\n",
    "loj_model.summary()"
   ]
  },
  {
   "cell_type": "markdown",
   "metadata": {},
   "source": [
    "# SKICIT-LEARN"
   ]
  },
  {
   "cell_type": "code",
   "execution_count": 238,
   "metadata": {},
   "outputs": [],
   "source": [
    "from sklearn.linear_model import LogisticRegression"
   ]
  },
  {
   "cell_type": "code",
   "execution_count": 239,
   "metadata": {},
   "outputs": [
    {
     "data": {
      "text/plain": [
       "LogisticRegression(C=1.0, class_weight=None, dual=False, fit_intercept=True,\n",
       "                   intercept_scaling=1, l1_ratio=None, max_iter=100,\n",
       "                   multi_class='auto', n_jobs=None, penalty='l2',\n",
       "                   random_state=None, solver='liblinear', tol=0.0001, verbose=0,\n",
       "                   warm_start=False)"
      ]
     },
     "execution_count": 239,
     "metadata": {},
     "output_type": "execute_result"
    }
   ],
   "source": [
    "loj = LogisticRegression(solver = \"liblinear\")\n",
    "loj_model = loj.fit(X,y)\n",
    "loj_model"
   ]
  },
  {
   "cell_type": "code",
   "execution_count": 240,
   "metadata": {},
   "outputs": [
    {
     "data": {
      "text/plain": [
       "array([-0.00285605])"
      ]
     },
     "execution_count": 240,
     "metadata": {},
     "output_type": "execute_result"
    }
   ],
   "source": [
    "loj_model.intercept_"
   ]
  },
  {
   "cell_type": "code",
   "execution_count": 241,
   "metadata": {},
   "outputs": [
    {
     "data": {
      "text/plain": [
       "array([[-3.49691167e-05, -7.16713527e-06, -1.60427118e-06,\n",
       "        -1.94055835e-02,  7.26357556e-03,  1.30146133e-02,\n",
       "        -8.70461218e-03,  4.57096761e-03, -1.86652104e-02,\n",
       "         2.88082095e-02, -1.82954173e-05, -1.46433929e-03,\n",
       "        -1.56801540e-03, -7.14584809e-04,  4.09978914e-04,\n",
       "        -1.89872893e-03]])"
      ]
     },
     "execution_count": 241,
     "metadata": {},
     "output_type": "execute_result"
    }
   ],
   "source": [
    "loj_model.coef_         "
   ]
  },
  {
   "cell_type": "markdown",
   "metadata": {},
   "source": [
    "### Model Tuning"
   ]
  },
  {
   "cell_type": "code",
   "execution_count": 242,
   "metadata": {},
   "outputs": [],
   "source": [
    "y_pred = loj_model.predict(X)"
   ]
  },
  {
   "cell_type": "code",
   "execution_count": 243,
   "metadata": {},
   "outputs": [
    {
     "data": {
      "text/plain": [
       "array([[1835,    5],\n",
       "       [ 177,    1]], dtype=int64)"
      ]
     },
     "execution_count": 243,
     "metadata": {},
     "output_type": "execute_result"
    }
   ],
   "source": [
    "confusion_matrix(y, y_pred)"
   ]
  },
  {
   "cell_type": "code",
   "execution_count": 244,
   "metadata": {},
   "outputs": [
    {
     "data": {
      "text/plain": [
       "0.9098116947472745"
      ]
     },
     "execution_count": 244,
     "metadata": {},
     "output_type": "execute_result"
    }
   ],
   "source": [
    "accuracy_score(y, y_pred) "
   ]
  },
  {
   "cell_type": "code",
   "execution_count": 245,
   "metadata": {},
   "outputs": [
    {
     "name": "stdout",
     "output_type": "stream",
     "text": [
      "              precision    recall  f1-score   support\n",
      "\n",
      "           0       0.91      1.00      0.95      1840\n",
      "           1       0.17      0.01      0.01       178\n",
      "\n",
      "    accuracy                           0.91      2018\n",
      "   macro avg       0.54      0.50      0.48      2018\n",
      "weighted avg       0.85      0.91      0.87      2018\n",
      "\n"
     ]
    }
   ],
   "source": [
    "print(classification_report(y, y_pred))"
   ]
  },
  {
   "cell_type": "code",
   "execution_count": 246,
   "metadata": {},
   "outputs": [
    {
     "data": {
      "text/plain": [
       "array([0, 0, 0, 0, 0, 0, 0, 0, 0, 0], dtype=int64)"
      ]
     },
     "execution_count": 246,
     "metadata": {},
     "output_type": "execute_result"
    }
   ],
   "source": [
    "loj_model.predict(X)[0:10]    "
   ]
  },
  {
   "cell_type": "code",
   "execution_count": 247,
   "metadata": {},
   "outputs": [
    {
     "data": {
      "text/plain": [
       "array([[0.93928795, 0.06071205],\n",
       "       [0.81289141, 0.18710859],\n",
       "       [0.98769846, 0.01230154],\n",
       "       [0.83440307, 0.16559693],\n",
       "       [0.82255489, 0.17744511],\n",
       "       [0.98390262, 0.01609738],\n",
       "       [0.85364356, 0.14635644],\n",
       "       [0.96562477, 0.03437523],\n",
       "       [0.74981367, 0.25018633],\n",
       "       [0.96062034, 0.03937966]])"
      ]
     },
     "execution_count": 247,
     "metadata": {},
     "output_type": "execute_result"
    }
   ],
   "source": [
    "loj_model.predict_proba(X)[0:10][:, 0:2]  "
   ]
  },
  {
   "cell_type": "code",
   "execution_count": 248,
   "metadata": {
    "scrolled": true
   },
   "outputs": [
    {
     "data": {
      "text/plain": [
       "153    0\n",
       "154    0\n",
       "155    0\n",
       "156    0\n",
       "157    0\n",
       "158    0\n",
       "159    0\n",
       "160    0\n",
       "161    0\n",
       "162    0\n",
       "Name: bad, dtype: int64"
      ]
     },
     "execution_count": 248,
     "metadata": {},
     "output_type": "execute_result"
    }
   ],
   "source": [
    "#Gerçek y\n",
    "y[0:10]  "
   ]
  },
  {
   "cell_type": "code",
   "execution_count": 249,
   "metadata": {},
   "outputs": [],
   "source": [
    "y_probs = loj_model.predict_proba(X)"
   ]
  },
  {
   "cell_type": "code",
   "execution_count": 250,
   "metadata": {},
   "outputs": [],
   "source": [
    "y_probs = y_probs[:,1]"
   ]
  },
  {
   "cell_type": "code",
   "execution_count": 251,
   "metadata": {},
   "outputs": [
    {
     "data": {
      "text/plain": [
       "array([0.06071205, 0.18710859, 0.01230154, 0.16559693, 0.17744511,\n",
       "       0.01609738, 0.14635644, 0.03437523, 0.25018633, 0.03937966])"
      ]
     },
     "execution_count": 251,
     "metadata": {},
     "output_type": "execute_result"
    }
   ],
   "source": [
    "y_probs[0:10]   "
   ]
  },
  {
   "cell_type": "code",
   "execution_count": 319,
   "metadata": {},
   "outputs": [],
   "source": [
    "y_pred = [1 if i > 0.25 else 0 for i in y_probs]  "
   ]
  },
  {
   "cell_type": "code",
   "execution_count": 320,
   "metadata": {},
   "outputs": [
    {
     "data": {
      "text/plain": [
       "[0, 0, 0, 0, 0, 0, 0, 0, 1, 0]"
      ]
     },
     "execution_count": 320,
     "metadata": {},
     "output_type": "execute_result"
    }
   ],
   "source": [
    "y_pred[0:10]"
   ]
  },
  {
   "cell_type": "code",
   "execution_count": 321,
   "metadata": {},
   "outputs": [
    {
     "data": {
      "text/plain": [
       "array([[1744,   96],\n",
       "       [ 131,   47]], dtype=int64)"
      ]
     },
     "execution_count": 321,
     "metadata": {},
     "output_type": "execute_result"
    }
   ],
   "source": [
    "confusion_matrix(y, y_pred)"
   ]
  },
  {
   "cell_type": "code",
   "execution_count": 322,
   "metadata": {},
   "outputs": [
    {
     "data": {
      "text/plain": [
       "0.8875123885034688"
      ]
     },
     "execution_count": 322,
     "metadata": {},
     "output_type": "execute_result"
    }
   ],
   "source": [
    "accuracy_score(y, y_pred)"
   ]
  },
  {
   "cell_type": "code",
   "execution_count": 323,
   "metadata": {},
   "outputs": [
    {
     "name": "stdout",
     "output_type": "stream",
     "text": [
      "              precision    recall  f1-score   support\n",
      "\n",
      "           0       0.93      0.95      0.94      1840\n",
      "           1       0.33      0.26      0.29       178\n",
      "\n",
      "    accuracy                           0.89      2018\n",
      "   macro avg       0.63      0.61      0.62      2018\n",
      "weighted avg       0.88      0.89      0.88      2018\n",
      "\n"
     ]
    }
   ],
   "source": [
    "print(classification_report(y, y_pred))"
   ]
  },
  {
   "cell_type": "code",
   "execution_count": 324,
   "metadata": {},
   "outputs": [
    {
     "data": {
      "text/plain": [
       "array([0.05964642, 0.18818104, 0.03606943, 0.18185406, 0.13272884])"
      ]
     },
     "execution_count": 324,
     "metadata": {},
     "output_type": "execute_result"
    }
   ],
   "source": [
    "loj_model.predict_proba(X)[:,1][0:5]"
   ]
  },
  {
   "cell_type": "code",
   "execution_count": 325,
   "metadata": {},
   "outputs": [
    {
     "data": {
      "image/png": "[encoded data removed]",
      "text/plain": [
       "<Figure size 432x288 with 1 Axes>"
      ]
     },
     "metadata": {
      "needs_background": "light"
     },
     "output_type": "display_data"
    }
   ],
   "source": [
    "logit_roc_auc = roc_auc_score(y, loj_model.predict(X))\n",
    "\n",
    "fpr, tpr, thresholds = roc_curve(y, loj_model.predict_proba(X)[:,1])  #Tahmin ettiğim ve gerçek x ler ile ROC Curve çizdirdik.\n",
    "\n",
    "plt.figure()\n",
    "plt.plot(fpr, tpr, label='AUC (area = %0.2f)' % logit_roc_auc)\n",
    "plt.plot([0, 1], [0, 1],'r--')\n",
    "plt.xlim([0.0, 1.0])\n",
    "plt.ylim([0.0, 1.05])\n",
    "plt.xlabel('False Positive Oranı')\n",
    "plt.ylabel('True Positive Oranı')\n",
    "plt.title('ROC')\n",
    "plt.show()"
   ]
  },
  {
   "cell_type": "code",
   "execution_count": 326,
   "metadata": {},
   "outputs": [
    {
     "data": {
      "text/plain": [
       "0.4986413043478261"
      ]
     },
     "execution_count": 326,
     "metadata": {},
     "output_type": "execute_result"
    }
   ],
   "source": [
    "logit_roc_auc   "
   ]
  },
  {
   "cell_type": "code",
   "execution_count": 327,
   "metadata": {},
   "outputs": [],
   "source": [
    "X_train, X_test, y_train, y_test = train_test_split(X,y, test_size=0.20, random_state=42)"
   ]
  },
  {
   "cell_type": "code",
   "execution_count": 328,
   "metadata": {},
   "outputs": [
    {
     "data": {
      "text/plain": [
       "LogisticRegression(C=1.0, class_weight=None, dual=False, fit_intercept=True,\n",
       "                   intercept_scaling=1, l1_ratio=None, max_iter=100,\n",
       "                   multi_class='auto', n_jobs=None, penalty='l2',\n",
       "                   random_state=None, solver='liblinear', tol=0.0001, verbose=0,\n",
       "                   warm_start=False)"
      ]
     },
     "execution_count": 328,
     "metadata": {},
     "output_type": "execute_result"
    }
   ],
   "source": [
    "loc = LogisticRegression(solver = \"liblinear\")\n",
    "loj_model = loj.fit(X_train,y_train)\n",
    "loj_model"
   ]
  },
  {
   "cell_type": "code",
   "execution_count": 329,
   "metadata": {},
   "outputs": [
    {
     "data": {
      "text/plain": [
       "0.9133663366336634"
      ]
     },
     "execution_count": 329,
     "metadata": {},
     "output_type": "execute_result"
    }
   ],
   "source": [
    "accuracy_score(y_test, loj_model.predict(X_test))"
   ]
  },
  {
   "cell_type": "code",
   "execution_count": 330,
   "metadata": {},
   "outputs": [],
   "source": [
    "y_pred = loj_model.predict(X_test)"
   ]
  },
  {
   "cell_type": "code",
   "execution_count": 331,
   "metadata": {},
   "outputs": [
    {
     "name": "stdout",
     "output_type": "stream",
     "text": [
      "              precision    recall  f1-score   support\n",
      "\n",
      "           0       0.91      1.00      0.95       369\n",
      "           1       0.00      0.00      0.00        35\n",
      "\n",
      "    accuracy                           0.91       404\n",
      "   macro avg       0.46      0.50      0.48       404\n",
      "weighted avg       0.83      0.91      0.87       404\n",
      "\n"
     ]
    }
   ],
   "source": [
    "print(classification_report(y_test, y_pred))"
   ]
  },
  {
   "cell_type": "code",
   "execution_count": 332,
   "metadata": {},
   "outputs": [
    {
     "data": {
      "text/plain": [
       "0.9158536585365855"
      ]
     },
     "execution_count": 332,
     "metadata": {},
     "output_type": "execute_result"
    }
   ],
   "source": [
    "cross_val_score(loj_model, X_test, y_test, cv = 10).mean()"
   ]
  },
  {
   "cell_type": "code",
   "execution_count": null,
   "metadata": {},
   "outputs": [],
   "source": []
  },
  {
   "cell_type": "code",
   "execution_count": null,
   "metadata": {},
   "outputs": [],
   "source": []
  },
  {
   "cell_type": "code",
   "execution_count": null,
   "metadata": {},
   "outputs": [],
   "source": []
  },
  {
   "cell_type": "code",
   "execution_count": null,
   "metadata": {},
   "outputs": [],
   "source": []
  },
  {
   "cell_type": "code",
   "execution_count": null,
   "metadata": {},
   "outputs": [],
   "source": []
  }
 ],
 "metadata": {
  "kernelspec": {
   "display_name": "Python 3",
   "language": "python",
   "name": "python3"
  },
  "language_info": {
   "codemirror_mode": {
    "name": "ipython",
    "version": 3
   },
   "file_extension": ".py",
   "mimetype": "text/x-python",
   "name": "python",
   "nbconvert_exporter": "python",
   "pygments_lexer": "ipython3",
   "version": "3.7.6"
  }
 },
 "nbformat": 4,
 "nbformat_minor": 4
}
