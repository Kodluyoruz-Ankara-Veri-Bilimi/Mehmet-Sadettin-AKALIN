{
 "cells": [
  {
   "cell_type": "code",
   "execution_count": 1,
   "metadata": {},
   "outputs": [],
   "source": [
    "import statsmodels.stats.api as sms \n",
    "import os \n",
    "import pandas as pd \n",
    "import seaborn as sns\n",
    "from sklearn import datasets \n",
    "import matplotlib.pyplot as plt \n",
    "import numpy as np"
   ]
  },
  {
   "cell_type": "code",
   "execution_count": 12,
   "metadata": {},
   "outputs": [],
   "source": [
    "class Info(): \n",
    "    def __init__(self,df):\n",
    "        self.df = df\n",
    "        df = pd.read_excel(\"HW_Data_Set.xlsx\")\n",
    "        print(df.head())\n",
    "        print(df.tail())\n",
    "        print(df.describe())\n",
    "        print(df.tail())\n",
    "        print(df.dtypes)\n",
    "        print(df.columns)  \n",
    "        print(df.axes)\n",
    "        print(df.shape)\n",
    "        print(df.info())\n",
    "        print (df.describe())\n",
    "        print (df.describe().T)"
   ]
  },
  {
   "cell_type": "code",
   "execution_count": 13,
   "metadata": {},
   "outputs": [
    {
     "name": "stdout",
     "output_type": "stream",
     "text": [
      "   ind_5  ind_6  ind_8      ind_9     ind_10     ind_12     ind_13  ind_14  \\\n",
      "0     19     17  100.0  85.714286  14.285714  72.363515  60.808814   23.80   \n",
      "1     24     19  100.0  78.571429  21.428571  74.275883  64.366798   11.45   \n",
      "2     30     24  100.0  71.428571  28.571429  75.140402  65.915803    8.75   \n",
      "3     37     30  100.0  64.285714  35.714286  76.677846  68.584234    7.80   \n",
      "4     41     37  100.0  57.142857  42.857143  81.603007  76.455495   14.90   \n",
      "\n",
      "   ind_15  ind_16  ...  ind_416  ind_418  ind_420  ind_422  ind_424   ind_426  \\\n",
      "0   17.62   11.73  ...    -49.6      -54     -152     -353      1.0  0.498547   \n",
      "1   18.16   12.22  ...    -55.6      -60     -158     -359      1.0  0.537088   \n",
      "2   17.86   12.28  ...    -58.4      -60     -160     -362      1.0  0.615169   \n",
      "3   14.76   12.61  ...    -61.8      -65     -166     -367      1.0  0.661517   \n",
      "4   11.92   14.25  ...    -79.8      -86     -186     -388      1.0  0.747204   \n",
      "\n",
      "    ind_428  20_target  50_target  90_target  \n",
      "0  0.701906  15.135802  35.625252  36.997753  \n",
      "1  0.690833  15.143348  35.643013  37.016198  \n",
      "2  0.693040  15.146870  35.651301 -37.024805  \n",
      "3  0.673418  15.153283   0.000000 -37.040483  \n",
      "4  0.700522 -15.179065 -35.727079 -37.103503  \n",
      "\n",
      "[5 rows x 136 columns]\n",
      "      ind_5  ind_6       ind_8      ind_9     ind_10     ind_12     ind_13  \\\n",
      "6162     27     31   57.142857  28.571429  28.571429  60.010531  32.362582   \n",
      "6163     22     27   50.000000  21.428571  28.571429  60.209998  32.914628   \n",
      "6164     19     22   42.857143  14.285714  28.571429  64.329611  43.550592   \n",
      "6165     19     19  100.000000   7.142857  92.857143  69.027764  54.130755   \n",
      "6166     19     19   92.857143   0.000000  92.857143  65.157180  45.524973   \n",
      "\n",
      "      ind_14  ind_15  ind_16  ...  ind_416  ind_418  ind_420  ind_422  \\\n",
      "6162    9.70    9.38   13.66  ...    -28.2      -40      -11     -270   \n",
      "6163    7.65    8.84   11.79  ...    -28.6      -41      -12     -271   \n",
      "6164    8.95    9.06   10.30  ...    -37.2      -49      -21     -280   \n",
      "6165   13.55   10.36   10.55  ...    -48.9      -61      -33     -292   \n",
      "6166   11.45   10.16    9.68  ...    -44.0      -56      -28     -288   \n",
      "\n",
      "       ind_424   ind_426   ind_428  20_target  50_target  90_target  \n",
      "6162  0.270270  0.840000  0.600846  14.673247 -34.536532 -35.867088  \n",
      "6163  0.000000  0.737470  0.527673  14.673750 -34.537716 -35.868318  \n",
      "6164  0.769231  0.632107  0.551759 -14.684566 -34.563173 -35.894755  \n",
      "6165  1.000000  0.733010  0.591584 -14.699280 -34.597806 -35.930723  \n",
      "6166  1.000000  0.687500  0.593936 -14.693117 -34.583301 -35.915659  \n",
      "\n",
      "[5 rows x 136 columns]\n",
      "             ind_5        ind_6        ind_8        ind_9       ind_10  \\\n",
      "count  6167.000000  6167.000000  6167.000000  6167.000000  6167.000000   \n",
      "mean     -0.803146    -0.803470    48.388890    48.289282     0.099609   \n",
      "std      23.624403    23.624144    36.388526    36.478009    60.414625   \n",
      "min    -131.000000  -131.000000     0.000000     0.000000  -100.000000   \n",
      "25%     -14.000000   -14.000000    14.285714    14.285714   -50.000000   \n",
      "50%       0.000000     0.000000    50.000000    50.000000     0.000000   \n",
      "75%      13.000000    13.000000    85.714286    85.714286    57.142857   \n",
      "max      76.000000    76.000000   100.000000   100.000000   100.000000   \n",
      "\n",
      "            ind_12       ind_13       ind_14       ind_15       ind_16  ...  \\\n",
      "count  6167.000000  6167.000000  6167.000000  6167.000000  6167.000000  ...   \n",
      "mean     49.488867   -18.497518    11.771485    11.773550    11.773392  ...   \n",
      "std      12.198722    68.281120     6.803997     5.786089     4.970499  ...   \n",
      "min      12.134540  -625.093855     1.050000     1.660000     2.580000  ...   \n",
      "25%      40.868503   -45.687212     6.850000     7.260000     7.635000  ...   \n",
      "50%      49.549766    -2.817298    10.550000    11.040000    11.270000  ...   \n",
      "75%      58.504375    28.072613    14.950000    15.040000    14.960000  ...   \n",
      "max      84.821848    81.105847    82.900000    54.240000    37.050000  ...   \n",
      "\n",
      "           ind_412      ind_414      ind_416      ind_418      ind_424  \\\n",
      "count  6167.000000  6167.000000  6167.000000  6167.000000  6167.000000   \n",
      "mean      0.000224    28.529204    -8.554792   -28.166694     0.490297   \n",
      "std       0.005660    26.316896    16.100087    23.271524     0.425376   \n",
      "min      -0.023790     0.000000  -103.800000  -188.000000     0.000000   \n",
      "25%      -0.003230    10.700000   -11.700000   -39.000000     0.000000   \n",
      "50%      -0.000053    21.300000     0.000000   -22.000000     0.473684   \n",
      "75%       0.003414    38.400000     0.000000   -11.000000     1.000000   \n",
      "max       0.023340   281.800000     0.000000     0.000000     1.000000   \n",
      "\n",
      "           ind_426      ind_428    20_target    50_target    90_target  \n",
      "count  6167.000000  6167.000000  6167.000000  6167.000000  6167.000000  \n",
      "mean      0.498188     0.490174    -0.057102    -2.906358    -3.315072  \n",
      "std       0.228547     0.150483    14.834497    34.559778    36.841541  \n",
      "min       0.000000     0.083530   -15.780588   -37.142889   -38.573858  \n",
      "25%       0.323783     0.379894   -15.350354   -36.208094   -37.695273  \n",
      "50%       0.495192     0.487078     0.000000   -34.267756   -35.788391  \n",
      "75%       0.675730     0.601508    15.385945    35.879524    37.521892  \n",
      "max       1.000000     0.868534    15.768767    37.038694    38.465649  \n",
      "\n",
      "[8 rows x 133 columns]\n",
      "      ind_5  ind_6       ind_8      ind_9     ind_10     ind_12     ind_13  \\\n",
      "6162     27     31   57.142857  28.571429  28.571429  60.010531  32.362582   \n",
      "6163     22     27   50.000000  21.428571  28.571429  60.209998  32.914628   \n",
      "6164     19     22   42.857143  14.285714  28.571429  64.329611  43.550592   \n",
      "6165     19     19  100.000000   7.142857  92.857143  69.027764  54.130755   \n",
      "6166     19     19   92.857143   0.000000  92.857143  65.157180  45.524973   \n",
      "\n",
      "      ind_14  ind_15  ind_16  ...  ind_416  ind_418  ind_420  ind_422  \\\n",
      "6162    9.70    9.38   13.66  ...    -28.2      -40      -11     -270   \n",
      "6163    7.65    8.84   11.79  ...    -28.6      -41      -12     -271   \n",
      "6164    8.95    9.06   10.30  ...    -37.2      -49      -21     -280   \n",
      "6165   13.55   10.36   10.55  ...    -48.9      -61      -33     -292   \n",
      "6166   11.45   10.16    9.68  ...    -44.0      -56      -28     -288   \n",
      "\n",
      "       ind_424   ind_426   ind_428  20_target  50_target  90_target  \n",
      "6162  0.270270  0.840000  0.600846  14.673247 -34.536532 -35.867088  \n",
      "6163  0.000000  0.737470  0.527673  14.673750 -34.537716 -35.868318  \n",
      "6164  0.769231  0.632107  0.551759 -14.684566 -34.563173 -35.894755  \n",
      "6165  1.000000  0.733010  0.591584 -14.699280 -34.597806 -35.930723  \n",
      "6166  1.000000  0.687500  0.593936 -14.693117 -34.583301 -35.915659  \n",
      "\n",
      "[5 rows x 136 columns]\n",
      "ind_5          int64\n",
      "ind_6          int64\n",
      "ind_8        float64\n",
      "ind_9        float64\n",
      "ind_10       float64\n",
      "              ...   \n",
      "ind_426      float64\n",
      "ind_428      float64\n",
      "20_target    float64\n",
      "50_target    float64\n",
      "90_target    float64\n",
      "Length: 136, dtype: object\n",
      "Index(['ind_5', 'ind_6', 'ind_8', 'ind_9', 'ind_10', 'ind_12', 'ind_13',\n",
      "       'ind_14', 'ind_15', 'ind_16',\n",
      "       ...\n",
      "       'ind_416', 'ind_418', 'ind_420', 'ind_422', 'ind_424', 'ind_426',\n",
      "       'ind_428', '20_target', '50_target', '90_target'],\n",
      "      dtype='object', length=136)\n",
      "[RangeIndex(start=0, stop=6167, step=1), Index(['ind_5', 'ind_6', 'ind_8', 'ind_9', 'ind_10', 'ind_12', 'ind_13',\n",
      "       'ind_14', 'ind_15', 'ind_16',\n",
      "       ...\n",
      "       'ind_416', 'ind_418', 'ind_420', 'ind_422', 'ind_424', 'ind_426',\n",
      "       'ind_428', '20_target', '50_target', '90_target'],\n",
      "      dtype='object', length=136)]\n",
      "(6167, 136)\n",
      "<class 'pandas.core.frame.DataFrame'>\n",
      "RangeIndex: 6167 entries, 0 to 6166\n",
      "Columns: 136 entries, ind_5 to 90_target\n",
      "dtypes: float64(88), int64(45), object(3)\n",
      "memory usage: 6.4+ MB\n",
      "None\n",
      "             ind_5        ind_6        ind_8        ind_9       ind_10  \\\n",
      "count  6167.000000  6167.000000  6167.000000  6167.000000  6167.000000   \n",
      "mean     -0.803146    -0.803470    48.388890    48.289282     0.099609   \n",
      "std      23.624403    23.624144    36.388526    36.478009    60.414625   \n",
      "min    -131.000000  -131.000000     0.000000     0.000000  -100.000000   \n",
      "25%     -14.000000   -14.000000    14.285714    14.285714   -50.000000   \n",
      "50%       0.000000     0.000000    50.000000    50.000000     0.000000   \n",
      "75%      13.000000    13.000000    85.714286    85.714286    57.142857   \n",
      "max      76.000000    76.000000   100.000000   100.000000   100.000000   \n",
      "\n",
      "            ind_12       ind_13       ind_14       ind_15       ind_16  ...  \\\n",
      "count  6167.000000  6167.000000  6167.000000  6167.000000  6167.000000  ...   \n",
      "mean     49.488867   -18.497518    11.771485    11.773550    11.773392  ...   \n",
      "std      12.198722    68.281120     6.803997     5.786089     4.970499  ...   \n",
      "min      12.134540  -625.093855     1.050000     1.660000     2.580000  ...   \n",
      "25%      40.868503   -45.687212     6.850000     7.260000     7.635000  ...   \n",
      "50%      49.549766    -2.817298    10.550000    11.040000    11.270000  ...   \n",
      "75%      58.504375    28.072613    14.950000    15.040000    14.960000  ...   \n",
      "max      84.821848    81.105847    82.900000    54.240000    37.050000  ...   \n",
      "\n",
      "           ind_412      ind_414      ind_416      ind_418      ind_424  \\\n",
      "count  6167.000000  6167.000000  6167.000000  6167.000000  6167.000000   \n",
      "mean      0.000224    28.529204    -8.554792   -28.166694     0.490297   \n",
      "std       0.005660    26.316896    16.100087    23.271524     0.425376   \n",
      "min      -0.023790     0.000000  -103.800000  -188.000000     0.000000   \n",
      "25%      -0.003230    10.700000   -11.700000   -39.000000     0.000000   \n",
      "50%      -0.000053    21.300000     0.000000   -22.000000     0.473684   \n",
      "75%       0.003414    38.400000     0.000000   -11.000000     1.000000   \n",
      "max       0.023340   281.800000     0.000000     0.000000     1.000000   \n",
      "\n",
      "           ind_426      ind_428    20_target    50_target    90_target  \n",
      "count  6167.000000  6167.000000  6167.000000  6167.000000  6167.000000  \n",
      "mean      0.498188     0.490174    -0.057102    -2.906358    -3.315072  \n",
      "std       0.228547     0.150483    14.834497    34.559778    36.841541  \n",
      "min       0.000000     0.083530   -15.780588   -37.142889   -38.573858  \n",
      "25%       0.323783     0.379894   -15.350354   -36.208094   -37.695273  \n",
      "50%       0.495192     0.487078     0.000000   -34.267756   -35.788391  \n",
      "75%       0.675730     0.601508    15.385945    35.879524    37.521892  \n",
      "max       1.000000     0.868534    15.768767    37.038694    38.465649  \n",
      "\n",
      "[8 rows x 133 columns]\n"
     ]
    },
    {
     "name": "stdout",
     "output_type": "stream",
     "text": [
      "            count       mean        std         min        25%        50%  \\\n",
      "ind_5      6167.0  -0.803146  23.624403 -131.000000 -14.000000   0.000000   \n",
      "ind_6      6167.0  -0.803470  23.624144 -131.000000 -14.000000   0.000000   \n",
      "ind_8      6167.0  48.388890  36.388526    0.000000  14.285714  50.000000   \n",
      "ind_9      6167.0  48.289282  36.478009    0.000000  14.285714  50.000000   \n",
      "ind_10     6167.0   0.099609  60.414625 -100.000000 -50.000000   0.000000   \n",
      "...           ...        ...        ...         ...        ...        ...   \n",
      "ind_426    6167.0   0.498188   0.228547    0.000000   0.323783   0.495192   \n",
      "ind_428    6167.0   0.490174   0.150483    0.083530   0.379894   0.487078   \n",
      "20_target  6167.0  -0.057102  14.834497  -15.780588 -15.350354   0.000000   \n",
      "50_target  6167.0  -2.906358  34.559778  -37.142889 -36.208094 -34.267756   \n",
      "90_target  6167.0  -3.315072  36.841541  -38.573858 -37.695273 -35.788391   \n",
      "\n",
      "                 75%         max  \n",
      "ind_5      13.000000   76.000000  \n",
      "ind_6      13.000000   76.000000  \n",
      "ind_8      85.714286  100.000000  \n",
      "ind_9      85.714286  100.000000  \n",
      "ind_10     57.142857  100.000000  \n",
      "...              ...         ...  \n",
      "ind_426     0.675730    1.000000  \n",
      "ind_428     0.601508    0.868534  \n",
      "20_target  15.385945   15.768767  \n",
      "50_target  35.879524   37.038694  \n",
      "90_target  37.521892   38.465649  \n",
      "\n",
      "[133 rows x 8 columns]\n"
     ]
    },
    {
     "data": {
      "text/plain": [
       "<__main__.Info at 0x1ef23a4b508>"
      ]
     },
     "execution_count": 13,
     "metadata": {},
     "output_type": "execute_result"
    }
   ],
   "source": [
    "Info(\"df\")"
   ]
  },
  {
   "cell_type": "code",
   "execution_count": 188,
   "metadata": {},
   "outputs": [
    {
     "data": {
      "text/html": [
       "<div>\n",
       "<style scoped>\n",
       "    .dataframe tbody tr th:only-of-type {\n",
       "        vertical-align: middle;\n",
       "    }\n",
       "\n",
       "    .dataframe tbody tr th {\n",
       "        vertical-align: top;\n",
       "    }\n",
       "\n",
       "    .dataframe thead th {\n",
       "        text-align: right;\n",
       "    }\n",
       "</style>\n",
       "<table border=\"1\" class=\"dataframe\">\n",
       "  <thead>\n",
       "    <tr style=\"text-align: right;\">\n",
       "      <th></th>\n",
       "      <th>20_target</th>\n",
       "      <th>50_target</th>\n",
       "      <th>90_target</th>\n",
       "    </tr>\n",
       "  </thead>\n",
       "  <tbody>\n",
       "    <tr>\n",
       "      <th>0</th>\n",
       "      <td>15.135802</td>\n",
       "      <td>35.625252</td>\n",
       "      <td>36.997753</td>\n",
       "    </tr>\n",
       "    <tr>\n",
       "      <th>1</th>\n",
       "      <td>15.143348</td>\n",
       "      <td>35.643013</td>\n",
       "      <td>37.016198</td>\n",
       "    </tr>\n",
       "    <tr>\n",
       "      <th>2</th>\n",
       "      <td>15.146870</td>\n",
       "      <td>35.651301</td>\n",
       "      <td>-37.024805</td>\n",
       "    </tr>\n",
       "    <tr>\n",
       "      <th>3</th>\n",
       "      <td>15.153283</td>\n",
       "      <td>0.000000</td>\n",
       "      <td>-37.040483</td>\n",
       "    </tr>\n",
       "    <tr>\n",
       "      <th>4</th>\n",
       "      <td>-15.179065</td>\n",
       "      <td>-35.727079</td>\n",
       "      <td>-37.103503</td>\n",
       "    </tr>\n",
       "    <tr>\n",
       "      <th>...</th>\n",
       "      <td>...</td>\n",
       "      <td>...</td>\n",
       "      <td>...</td>\n",
       "    </tr>\n",
       "    <tr>\n",
       "      <th>6162</th>\n",
       "      <td>14.673247</td>\n",
       "      <td>-34.536532</td>\n",
       "      <td>-35.867088</td>\n",
       "    </tr>\n",
       "    <tr>\n",
       "      <th>6163</th>\n",
       "      <td>14.673750</td>\n",
       "      <td>-34.537716</td>\n",
       "      <td>-35.868318</td>\n",
       "    </tr>\n",
       "    <tr>\n",
       "      <th>6164</th>\n",
       "      <td>-14.684566</td>\n",
       "      <td>-34.563173</td>\n",
       "      <td>-35.894755</td>\n",
       "    </tr>\n",
       "    <tr>\n",
       "      <th>6165</th>\n",
       "      <td>-14.699280</td>\n",
       "      <td>-34.597806</td>\n",
       "      <td>-35.930723</td>\n",
       "    </tr>\n",
       "    <tr>\n",
       "      <th>6166</th>\n",
       "      <td>-14.693117</td>\n",
       "      <td>-34.583301</td>\n",
       "      <td>-35.915659</td>\n",
       "    </tr>\n",
       "  </tbody>\n",
       "</table>\n",
       "<p>6167 rows × 3 columns</p>\n",
       "</div>"
      ],
      "text/plain": [
       "      20_target  50_target  90_target\n",
       "0     15.135802  35.625252  36.997753\n",
       "1     15.143348  35.643013  37.016198\n",
       "2     15.146870  35.651301 -37.024805\n",
       "3     15.153283   0.000000 -37.040483\n",
       "4    -15.179065 -35.727079 -37.103503\n",
       "...         ...        ...        ...\n",
       "6162  14.673247 -34.536532 -35.867088\n",
       "6163  14.673750 -34.537716 -35.868318\n",
       "6164 -14.684566 -34.563173 -35.894755\n",
       "6165 -14.699280 -34.597806 -35.930723\n",
       "6166 -14.693117 -34.583301 -35.915659\n",
       "\n",
       "[6167 rows x 3 columns]"
      ]
     },
     "execution_count": 188,
     "metadata": {},
     "output_type": "execute_result"
    }
   ],
   "source": [
    "df = pd.read_excel(\"HW_Data_Set.xlsx\")\n",
    "df[['20_target','50_target','90_target']]"
   ]
  },
  {
   "cell_type": "code",
   "execution_count": 10,
   "metadata": {},
   "outputs": [
    {
     "name": "stdout",
     "output_type": "stream",
     "text": [
      "<class 'pandas.core.frame.DataFrame'>\n",
      "RangeIndex: 6167 entries, 0 to 6166\n",
      "Columns: 136 entries, ind_5 to 90_target\n",
      "dtypes: float64(88), int64(45), object(3)\n",
      "memory usage: 6.4+ MB\n"
     ]
    }
   ],
   "source": [
    "df = pd.read_excel(\"HW_Data_Set.xlsx\")\n",
    "df.info()"
   ]
  },
  {
   "cell_type": "code",
   "execution_count": 189,
   "metadata": {},
   "outputs": [
    {
     "data": {
      "text/plain": [
       "False"
      ]
     },
     "execution_count": 189,
     "metadata": {},
     "output_type": "execute_result"
    }
   ],
   "source": [
    "df.isnull().values.any()  #False olduğuna göre hiçbir eksik gözlem yok"
   ]
  },
  {
   "cell_type": "code",
   "execution_count": 15,
   "metadata": {},
   "outputs": [
    {
     "data": {
      "text/html": [
       "<div>\n",
       "<style scoped>\n",
       "    .dataframe tbody tr th:only-of-type {\n",
       "        vertical-align: middle;\n",
       "    }\n",
       "\n",
       "    .dataframe tbody tr th {\n",
       "        vertical-align: top;\n",
       "    }\n",
       "\n",
       "    .dataframe thead th {\n",
       "        text-align: right;\n",
       "    }\n",
       "</style>\n",
       "<table border=\"1\" class=\"dataframe\">\n",
       "  <thead>\n",
       "    <tr style=\"text-align: right;\">\n",
       "      <th></th>\n",
       "      <th>ind_5</th>\n",
       "      <th>ind_6</th>\n",
       "      <th>ind_8</th>\n",
       "      <th>ind_9</th>\n",
       "      <th>ind_10</th>\n",
       "      <th>ind_12</th>\n",
       "      <th>ind_13</th>\n",
       "      <th>ind_14</th>\n",
       "      <th>ind_15</th>\n",
       "      <th>ind_16</th>\n",
       "      <th>...</th>\n",
       "      <th>ind_412</th>\n",
       "      <th>ind_414</th>\n",
       "      <th>ind_416</th>\n",
       "      <th>ind_418</th>\n",
       "      <th>ind_424</th>\n",
       "      <th>ind_426</th>\n",
       "      <th>ind_428</th>\n",
       "      <th>20_target</th>\n",
       "      <th>50_target</th>\n",
       "      <th>90_target</th>\n",
       "    </tr>\n",
       "  </thead>\n",
       "  <tbody>\n",
       "    <tr>\n",
       "      <th>ind_5</th>\n",
       "      <td>1.000000</td>\n",
       "      <td>0.989945</td>\n",
       "      <td>0.543246</td>\n",
       "      <td>-0.533328</td>\n",
       "      <td>0.649225</td>\n",
       "      <td>0.822255</td>\n",
       "      <td>0.768234</td>\n",
       "      <td>-0.014502</td>\n",
       "      <td>-0.026336</td>\n",
       "      <td>-0.041130</td>\n",
       "      <td>...</td>\n",
       "      <td>0.620106</td>\n",
       "      <td>-0.694619</td>\n",
       "      <td>-0.304134</td>\n",
       "      <td>-0.620099</td>\n",
       "      <td>0.076169</td>\n",
       "      <td>0.626439</td>\n",
       "      <td>0.817302</td>\n",
       "      <td>0.060969</td>\n",
       "      <td>0.068989</td>\n",
       "      <td>0.060428</td>\n",
       "    </tr>\n",
       "    <tr>\n",
       "      <th>ind_6</th>\n",
       "      <td>0.989945</td>\n",
       "      <td>1.000000</td>\n",
       "      <td>0.514222</td>\n",
       "      <td>-0.495572</td>\n",
       "      <td>0.608947</td>\n",
       "      <td>0.768551</td>\n",
       "      <td>0.713870</td>\n",
       "      <td>-0.006066</td>\n",
       "      <td>-0.019393</td>\n",
       "      <td>-0.035795</td>\n",
       "      <td>...</td>\n",
       "      <td>0.634679</td>\n",
       "      <td>-0.646983</td>\n",
       "      <td>-0.279922</td>\n",
       "      <td>-0.569657</td>\n",
       "      <td>0.021220</td>\n",
       "      <td>0.567359</td>\n",
       "      <td>0.810371</td>\n",
       "      <td>0.062101</td>\n",
       "      <td>0.069652</td>\n",
       "      <td>0.061560</td>\n",
       "    </tr>\n",
       "    <tr>\n",
       "      <th>ind_8</th>\n",
       "      <td>0.543246</td>\n",
       "      <td>0.514222</td>\n",
       "      <td>1.000000</td>\n",
       "      <td>-0.374857</td>\n",
       "      <td>0.828650</td>\n",
       "      <td>0.583623</td>\n",
       "      <td>0.482220</td>\n",
       "      <td>0.162635</td>\n",
       "      <td>0.139612</td>\n",
       "      <td>0.038862</td>\n",
       "      <td>...</td>\n",
       "      <td>0.275687</td>\n",
       "      <td>-0.489596</td>\n",
       "      <td>-0.277258</td>\n",
       "      <td>-0.432579</td>\n",
       "      <td>0.144795</td>\n",
       "      <td>0.593799</td>\n",
       "      <td>0.445427</td>\n",
       "      <td>-0.004126</td>\n",
       "      <td>0.006984</td>\n",
       "      <td>-0.006650</td>\n",
       "    </tr>\n",
       "    <tr>\n",
       "      <th>ind_9</th>\n",
       "      <td>-0.533328</td>\n",
       "      <td>-0.495572</td>\n",
       "      <td>-0.374857</td>\n",
       "      <td>1.000000</td>\n",
       "      <td>-0.829576</td>\n",
       "      <td>-0.609288</td>\n",
       "      <td>-0.568581</td>\n",
       "      <td>0.238938</td>\n",
       "      <td>0.240048</td>\n",
       "      <td>0.152133</td>\n",
       "      <td>...</td>\n",
       "      <td>-0.276882</td>\n",
       "      <td>0.436275</td>\n",
       "      <td>0.349318</td>\n",
       "      <td>0.505772</td>\n",
       "      <td>-0.173139</td>\n",
       "      <td>-0.631961</td>\n",
       "      <td>-0.450719</td>\n",
       "      <td>-0.031316</td>\n",
       "      <td>-0.004053</td>\n",
       "      <td>0.012093</td>\n",
       "    </tr>\n",
       "    <tr>\n",
       "      <th>ind_10</th>\n",
       "      <td>0.649225</td>\n",
       "      <td>0.608947</td>\n",
       "      <td>0.828650</td>\n",
       "      <td>-0.829576</td>\n",
       "      <td>1.000000</td>\n",
       "      <td>0.719409</td>\n",
       "      <td>0.633753</td>\n",
       "      <td>-0.046312</td>\n",
       "      <td>-0.060849</td>\n",
       "      <td>-0.068450</td>\n",
       "      <td>...</td>\n",
       "      <td>0.333229</td>\n",
       "      <td>-0.558311</td>\n",
       "      <td>-0.377913</td>\n",
       "      <td>-0.565931</td>\n",
       "      <td>0.191752</td>\n",
       "      <td>0.739227</td>\n",
       "      <td>0.540428</td>\n",
       "      <td>0.016423</td>\n",
       "      <td>0.006654</td>\n",
       "      <td>-0.011307</td>\n",
       "    </tr>\n",
       "    <tr>\n",
       "      <th>...</th>\n",
       "      <td>...</td>\n",
       "      <td>...</td>\n",
       "      <td>...</td>\n",
       "      <td>...</td>\n",
       "      <td>...</td>\n",
       "      <td>...</td>\n",
       "      <td>...</td>\n",
       "      <td>...</td>\n",
       "      <td>...</td>\n",
       "      <td>...</td>\n",
       "      <td>...</td>\n",
       "      <td>...</td>\n",
       "      <td>...</td>\n",
       "      <td>...</td>\n",
       "      <td>...</td>\n",
       "      <td>...</td>\n",
       "      <td>...</td>\n",
       "      <td>...</td>\n",
       "      <td>...</td>\n",
       "      <td>...</td>\n",
       "      <td>...</td>\n",
       "    </tr>\n",
       "    <tr>\n",
       "      <th>ind_426</th>\n",
       "      <td>0.626439</td>\n",
       "      <td>0.567359</td>\n",
       "      <td>0.593799</td>\n",
       "      <td>-0.631961</td>\n",
       "      <td>0.739227</td>\n",
       "      <td>0.776076</td>\n",
       "      <td>0.700736</td>\n",
       "      <td>-0.066201</td>\n",
       "      <td>-0.066437</td>\n",
       "      <td>-0.051049</td>\n",
       "      <td>...</td>\n",
       "      <td>0.293592</td>\n",
       "      <td>-0.571432</td>\n",
       "      <td>-0.356302</td>\n",
       "      <td>-0.594243</td>\n",
       "      <td>0.341017</td>\n",
       "      <td>1.000000</td>\n",
       "      <td>0.584754</td>\n",
       "      <td>0.019599</td>\n",
       "      <td>0.009063</td>\n",
       "      <td>-0.002519</td>\n",
       "    </tr>\n",
       "    <tr>\n",
       "      <th>ind_428</th>\n",
       "      <td>0.817302</td>\n",
       "      <td>0.810371</td>\n",
       "      <td>0.445427</td>\n",
       "      <td>-0.450719</td>\n",
       "      <td>0.540428</td>\n",
       "      <td>0.807595</td>\n",
       "      <td>0.727899</td>\n",
       "      <td>0.021970</td>\n",
       "      <td>0.016318</td>\n",
       "      <td>0.010361</td>\n",
       "      <td>...</td>\n",
       "      <td>0.574646</td>\n",
       "      <td>-0.499656</td>\n",
       "      <td>-0.260048</td>\n",
       "      <td>-0.487564</td>\n",
       "      <td>0.188853</td>\n",
       "      <td>0.584754</td>\n",
       "      <td>1.000000</td>\n",
       "      <td>0.047041</td>\n",
       "      <td>0.052418</td>\n",
       "      <td>0.043563</td>\n",
       "    </tr>\n",
       "    <tr>\n",
       "      <th>20_target</th>\n",
       "      <td>0.060969</td>\n",
       "      <td>0.062101</td>\n",
       "      <td>-0.004126</td>\n",
       "      <td>-0.031316</td>\n",
       "      <td>0.016423</td>\n",
       "      <td>0.042550</td>\n",
       "      <td>0.041289</td>\n",
       "      <td>0.015320</td>\n",
       "      <td>0.012012</td>\n",
       "      <td>0.026881</td>\n",
       "      <td>...</td>\n",
       "      <td>0.066637</td>\n",
       "      <td>-0.029005</td>\n",
       "      <td>-0.009829</td>\n",
       "      <td>-0.045656</td>\n",
       "      <td>-0.008799</td>\n",
       "      <td>0.019599</td>\n",
       "      <td>0.047041</td>\n",
       "      <td>1.000000</td>\n",
       "      <td>0.384076</td>\n",
       "      <td>0.355950</td>\n",
       "    </tr>\n",
       "    <tr>\n",
       "      <th>50_target</th>\n",
       "      <td>0.068989</td>\n",
       "      <td>0.069652</td>\n",
       "      <td>0.006984</td>\n",
       "      <td>-0.004053</td>\n",
       "      <td>0.006654</td>\n",
       "      <td>0.055045</td>\n",
       "      <td>0.048302</td>\n",
       "      <td>0.072728</td>\n",
       "      <td>0.084561</td>\n",
       "      <td>0.101774</td>\n",
       "      <td>...</td>\n",
       "      <td>0.127234</td>\n",
       "      <td>0.008239</td>\n",
       "      <td>0.047728</td>\n",
       "      <td>-0.101488</td>\n",
       "      <td>-0.003372</td>\n",
       "      <td>0.009063</td>\n",
       "      <td>0.052418</td>\n",
       "      <td>0.384076</td>\n",
       "      <td>1.000000</td>\n",
       "      <td>0.940916</td>\n",
       "    </tr>\n",
       "    <tr>\n",
       "      <th>90_target</th>\n",
       "      <td>0.060428</td>\n",
       "      <td>0.061560</td>\n",
       "      <td>-0.006650</td>\n",
       "      <td>0.012093</td>\n",
       "      <td>-0.011307</td>\n",
       "      <td>0.043786</td>\n",
       "      <td>0.043491</td>\n",
       "      <td>0.077710</td>\n",
       "      <td>0.088271</td>\n",
       "      <td>0.108077</td>\n",
       "      <td>...</td>\n",
       "      <td>0.124265</td>\n",
       "      <td>0.018379</td>\n",
       "      <td>0.049615</td>\n",
       "      <td>-0.096903</td>\n",
       "      <td>-0.007689</td>\n",
       "      <td>-0.002519</td>\n",
       "      <td>0.043563</td>\n",
       "      <td>0.355950</td>\n",
       "      <td>0.940916</td>\n",
       "      <td>1.000000</td>\n",
       "    </tr>\n",
       "  </tbody>\n",
       "</table>\n",
       "<p>133 rows × 133 columns</p>\n",
       "</div>"
      ],
      "text/plain": [
       "              ind_5     ind_6     ind_8     ind_9    ind_10    ind_12  \\\n",
       "ind_5      1.000000  0.989945  0.543246 -0.533328  0.649225  0.822255   \n",
       "ind_6      0.989945  1.000000  0.514222 -0.495572  0.608947  0.768551   \n",
       "ind_8      0.543246  0.514222  1.000000 -0.374857  0.828650  0.583623   \n",
       "ind_9     -0.533328 -0.495572 -0.374857  1.000000 -0.829576 -0.609288   \n",
       "ind_10     0.649225  0.608947  0.828650 -0.829576  1.000000  0.719409   \n",
       "...             ...       ...       ...       ...       ...       ...   \n",
       "ind_426    0.626439  0.567359  0.593799 -0.631961  0.739227  0.776076   \n",
       "ind_428    0.817302  0.810371  0.445427 -0.450719  0.540428  0.807595   \n",
       "20_target  0.060969  0.062101 -0.004126 -0.031316  0.016423  0.042550   \n",
       "50_target  0.068989  0.069652  0.006984 -0.004053  0.006654  0.055045   \n",
       "90_target  0.060428  0.061560 -0.006650  0.012093 -0.011307  0.043786   \n",
       "\n",
       "             ind_13    ind_14    ind_15    ind_16  ...   ind_412   ind_414  \\\n",
       "ind_5      0.768234 -0.014502 -0.026336 -0.041130  ...  0.620106 -0.694619   \n",
       "ind_6      0.713870 -0.006066 -0.019393 -0.035795  ...  0.634679 -0.646983   \n",
       "ind_8      0.482220  0.162635  0.139612  0.038862  ...  0.275687 -0.489596   \n",
       "ind_9     -0.568581  0.238938  0.240048  0.152133  ... -0.276882  0.436275   \n",
       "ind_10     0.633753 -0.046312 -0.060849 -0.068450  ...  0.333229 -0.558311   \n",
       "...             ...       ...       ...       ...  ...       ...       ...   \n",
       "ind_426    0.700736 -0.066201 -0.066437 -0.051049  ...  0.293592 -0.571432   \n",
       "ind_428    0.727899  0.021970  0.016318  0.010361  ...  0.574646 -0.499656   \n",
       "20_target  0.041289  0.015320  0.012012  0.026881  ...  0.066637 -0.029005   \n",
       "50_target  0.048302  0.072728  0.084561  0.101774  ...  0.127234  0.008239   \n",
       "90_target  0.043491  0.077710  0.088271  0.108077  ...  0.124265  0.018379   \n",
       "\n",
       "            ind_416   ind_418   ind_424   ind_426   ind_428  20_target  \\\n",
       "ind_5     -0.304134 -0.620099  0.076169  0.626439  0.817302   0.060969   \n",
       "ind_6     -0.279922 -0.569657  0.021220  0.567359  0.810371   0.062101   \n",
       "ind_8     -0.277258 -0.432579  0.144795  0.593799  0.445427  -0.004126   \n",
       "ind_9      0.349318  0.505772 -0.173139 -0.631961 -0.450719  -0.031316   \n",
       "ind_10    -0.377913 -0.565931  0.191752  0.739227  0.540428   0.016423   \n",
       "...             ...       ...       ...       ...       ...        ...   \n",
       "ind_426   -0.356302 -0.594243  0.341017  1.000000  0.584754   0.019599   \n",
       "ind_428   -0.260048 -0.487564  0.188853  0.584754  1.000000   0.047041   \n",
       "20_target -0.009829 -0.045656 -0.008799  0.019599  0.047041   1.000000   \n",
       "50_target  0.047728 -0.101488 -0.003372  0.009063  0.052418   0.384076   \n",
       "90_target  0.049615 -0.096903 -0.007689 -0.002519  0.043563   0.355950   \n",
       "\n",
       "           50_target  90_target  \n",
       "ind_5       0.068989   0.060428  \n",
       "ind_6       0.069652   0.061560  \n",
       "ind_8       0.006984  -0.006650  \n",
       "ind_9      -0.004053   0.012093  \n",
       "ind_10      0.006654  -0.011307  \n",
       "...              ...        ...  \n",
       "ind_426     0.009063  -0.002519  \n",
       "ind_428     0.052418   0.043563  \n",
       "20_target   0.384076   0.355950  \n",
       "50_target   1.000000   0.940916  \n",
       "90_target   0.940916   1.000000  \n",
       "\n",
       "[133 rows x 133 columns]"
      ]
     },
     "execution_count": 15,
     "metadata": {},
     "output_type": "execute_result"
    }
   ],
   "source": [
    "df.corr()"
   ]
  },
  {
   "cell_type": "markdown",
   "metadata": {},
   "source": [
    "20_target & 50_target = 0.384076\n",
    "\n",
    "20_target & 90_target = 0.355950\n",
    "\n",
    "50_target & 90_target = 0.940916  ---> BU İKİ SINIF ARASINDA YÜKSEK DERECEDE İLİŞKİ BULUNUYOR"
   ]
  },
  {
   "cell_type": "code",
   "execution_count": 16,
   "metadata": {},
   "outputs": [],
   "source": [
    "import numpy as np \n",
    "import pylab \n",
    "import scipy.stats as stats"
   ]
  },
  {
   "cell_type": "markdown",
   "metadata": {},
   "source": [
    "Visualization"
   ]
  },
  {
   "cell_type": "code",
   "execution_count": 17,
   "metadata": {},
   "outputs": [],
   "source": [
    "class Visualization:\n",
    "    import seaborn as sns\n",
    "    import matplotlib.pyplot as plt\n",
    "    import pandas as pd\n",
    "    def _init_(self, df):\n",
    "        self.dataframe = df\n",
    "    \n",
    "        \n",
    "    def scatterplot(self, df1, df2, xlabel=None, ylabel=None):\n",
    "        plt.figure(figsize=(10,6))\n",
    "        plt.scatter(df1, df2)\n",
    "        plt.xlabel(xlabel)\n",
    "        plt.ylabel(ylabel)\n",
    "        plt.show()\n",
    "\n",
    "    def histogram(self, df):\n",
    "        sns.distplot(df)\n",
    "        plt.show()"
   ]
  },
  {
   "cell_type": "code",
   "execution_count": 30,
   "metadata": {},
   "outputs": [],
   "source": [
    "df = pd.read_excel(\"HW_Data_Set.xlsx\")"
   ]
  },
  {
   "cell_type": "code",
   "execution_count": 31,
   "metadata": {},
   "outputs": [
    {
     "data": {
      "image/png": "[encoded data removed]",
      "text/plain": [
       "<Figure size 1728x1152 with 132 Axes>"
      ]
     },
     "metadata": {
      "needs_background": "light"
     },
     "output_type": "display_data"
    }
   ],
   "source": [
    "df = df.drop([\"50_target\"], axis=1)\n",
    "df.hist(figsize=(24,16), bins=40, xlabelsize=6, ylabelsize=6)\n",
    "plt.show()"
   ]
  },
  {
   "cell_type": "code",
   "execution_count": 20,
   "metadata": {},
   "outputs": [
    {
     "data": {
      "image/png": "[encoded data removed]",
      "text/plain": [
       "<Figure size 1440x432 with 1 Axes>"
      ]
     },
     "metadata": {
      "needs_background": "light"
     },
     "output_type": "display_data"
    }
   ],
   "source": [
    "plt.figure(figsize=(20,6))\n",
    "df.boxplot()\n",
    "plt.show()"
   ]
  },
  {
   "cell_type": "code",
   "execution_count": 25,
   "metadata": {},
   "outputs": [
    {
     "data": {
      "image/png": "[encoded data removed]",
      "text/plain": [
       "<Figure size 720x576 with 1 Axes>"
      ]
     },
     "metadata": {
      "needs_background": "light"
     },
     "output_type": "display_data"
    }
   ],
   "source": [
    "df = pd.read_excel(\"HW_Data_Set.xlsx\")\n",
    "plt.figure(figsize=(10,8))\n",
    "boxplot_df = df[[\"50_target\", \"90_target\", \"20_target\"]]\n",
    "boxplot_df.boxplot()\n",
    "plt.show()"
   ]
  },
  {
   "cell_type": "markdown",
   "metadata": {},
   "source": [
    "# ..."
   ]
  },
  {
   "cell_type": "code",
   "execution_count": null,
   "metadata": {},
   "outputs": [],
   "source": []
  },
  {
   "cell_type": "code",
   "execution_count": null,
   "metadata": {},
   "outputs": [],
   "source": []
  },
  {
   "cell_type": "markdown",
   "metadata": {},
   "source": [
    "# İSTATİSTİK TESTLERİ"
   ]
  },
  {
   "cell_type": "code",
   "execution_count": 35,
   "metadata": {},
   "outputs": [],
   "source": [
    "import statsmodels.api as sm\n",
    "import matplotlib.pylab as plt\n",
    "import numpy as np\n",
    "import scipy.stats as stats\n",
    "import pylab "
   ]
  },
  {
   "cell_type": "markdown",
   "metadata": {},
   "source": [
    "Normallik Testi (Shapiro), Levene Testi, T-testi"
   ]
  },
  {
   "cell_type": "code",
   "execution_count": 106,
   "metadata": {},
   "outputs": [
    {
     "data": {
      "text/html": [
       "<div>\n",
       "<style scoped>\n",
       "    .dataframe tbody tr th:only-of-type {\n",
       "        vertical-align: middle;\n",
       "    }\n",
       "\n",
       "    .dataframe tbody tr th {\n",
       "        vertical-align: top;\n",
       "    }\n",
       "\n",
       "    .dataframe thead th {\n",
       "        text-align: right;\n",
       "    }\n",
       "</style>\n",
       "<table border=\"1\" class=\"dataframe\">\n",
       "  <thead>\n",
       "    <tr style=\"text-align: right;\">\n",
       "      <th></th>\n",
       "      <th>ind_5</th>\n",
       "      <th>ind_6</th>\n",
       "      <th>ind_8</th>\n",
       "      <th>ind_9</th>\n",
       "      <th>ind_10</th>\n",
       "      <th>ind_12</th>\n",
       "      <th>ind_13</th>\n",
       "      <th>ind_14</th>\n",
       "      <th>ind_15</th>\n",
       "      <th>ind_16</th>\n",
       "      <th>...</th>\n",
       "      <th>ind_416</th>\n",
       "      <th>ind_418</th>\n",
       "      <th>ind_420</th>\n",
       "      <th>ind_422</th>\n",
       "      <th>ind_424</th>\n",
       "      <th>ind_426</th>\n",
       "      <th>ind_428</th>\n",
       "      <th>20_target</th>\n",
       "      <th>50_target</th>\n",
       "      <th>90_target</th>\n",
       "    </tr>\n",
       "  </thead>\n",
       "  <tbody>\n",
       "    <tr>\n",
       "      <th>0</th>\n",
       "      <td>19</td>\n",
       "      <td>17</td>\n",
       "      <td>100.000000</td>\n",
       "      <td>85.714286</td>\n",
       "      <td>14.285714</td>\n",
       "      <td>72.363515</td>\n",
       "      <td>60.808814</td>\n",
       "      <td>23.80</td>\n",
       "      <td>17.62</td>\n",
       "      <td>11.73</td>\n",
       "      <td>...</td>\n",
       "      <td>-49.6</td>\n",
       "      <td>-54</td>\n",
       "      <td>-152</td>\n",
       "      <td>-353</td>\n",
       "      <td>1.000000</td>\n",
       "      <td>0.498547</td>\n",
       "      <td>0.701906</td>\n",
       "      <td>15.135802</td>\n",
       "      <td>35.625252</td>\n",
       "      <td>36.997753</td>\n",
       "    </tr>\n",
       "    <tr>\n",
       "      <th>1</th>\n",
       "      <td>24</td>\n",
       "      <td>19</td>\n",
       "      <td>100.000000</td>\n",
       "      <td>78.571429</td>\n",
       "      <td>21.428571</td>\n",
       "      <td>74.275883</td>\n",
       "      <td>64.366798</td>\n",
       "      <td>11.45</td>\n",
       "      <td>18.16</td>\n",
       "      <td>12.22</td>\n",
       "      <td>...</td>\n",
       "      <td>-55.6</td>\n",
       "      <td>-60</td>\n",
       "      <td>-158</td>\n",
       "      <td>-359</td>\n",
       "      <td>1.000000</td>\n",
       "      <td>0.537088</td>\n",
       "      <td>0.690833</td>\n",
       "      <td>15.143348</td>\n",
       "      <td>35.643013</td>\n",
       "      <td>37.016198</td>\n",
       "    </tr>\n",
       "    <tr>\n",
       "      <th>2</th>\n",
       "      <td>30</td>\n",
       "      <td>24</td>\n",
       "      <td>100.000000</td>\n",
       "      <td>71.428571</td>\n",
       "      <td>28.571429</td>\n",
       "      <td>75.140402</td>\n",
       "      <td>65.915803</td>\n",
       "      <td>8.75</td>\n",
       "      <td>17.86</td>\n",
       "      <td>12.28</td>\n",
       "      <td>...</td>\n",
       "      <td>-58.4</td>\n",
       "      <td>-60</td>\n",
       "      <td>-160</td>\n",
       "      <td>-362</td>\n",
       "      <td>1.000000</td>\n",
       "      <td>0.615169</td>\n",
       "      <td>0.693040</td>\n",
       "      <td>15.146870</td>\n",
       "      <td>35.651301</td>\n",
       "      <td>-37.024805</td>\n",
       "    </tr>\n",
       "    <tr>\n",
       "      <th>3</th>\n",
       "      <td>37</td>\n",
       "      <td>30</td>\n",
       "      <td>100.000000</td>\n",
       "      <td>64.285714</td>\n",
       "      <td>35.714286</td>\n",
       "      <td>76.677846</td>\n",
       "      <td>68.584234</td>\n",
       "      <td>7.80</td>\n",
       "      <td>14.76</td>\n",
       "      <td>12.61</td>\n",
       "      <td>...</td>\n",
       "      <td>-61.8</td>\n",
       "      <td>-65</td>\n",
       "      <td>-166</td>\n",
       "      <td>-367</td>\n",
       "      <td>1.000000</td>\n",
       "      <td>0.661517</td>\n",
       "      <td>0.673418</td>\n",
       "      <td>15.153283</td>\n",
       "      <td>0.000000</td>\n",
       "      <td>-37.040483</td>\n",
       "    </tr>\n",
       "    <tr>\n",
       "      <th>4</th>\n",
       "      <td>41</td>\n",
       "      <td>37</td>\n",
       "      <td>100.000000</td>\n",
       "      <td>57.142857</td>\n",
       "      <td>42.857143</td>\n",
       "      <td>81.603007</td>\n",
       "      <td>76.455495</td>\n",
       "      <td>14.90</td>\n",
       "      <td>11.92</td>\n",
       "      <td>14.25</td>\n",
       "      <td>...</td>\n",
       "      <td>-79.8</td>\n",
       "      <td>-86</td>\n",
       "      <td>-186</td>\n",
       "      <td>-388</td>\n",
       "      <td>1.000000</td>\n",
       "      <td>0.747204</td>\n",
       "      <td>0.700522</td>\n",
       "      <td>-15.179065</td>\n",
       "      <td>-35.727079</td>\n",
       "      <td>-37.103503</td>\n",
       "    </tr>\n",
       "    <tr>\n",
       "      <th>...</th>\n",
       "      <td>...</td>\n",
       "      <td>...</td>\n",
       "      <td>...</td>\n",
       "      <td>...</td>\n",
       "      <td>...</td>\n",
       "      <td>...</td>\n",
       "      <td>...</td>\n",
       "      <td>...</td>\n",
       "      <td>...</td>\n",
       "      <td>...</td>\n",
       "      <td>...</td>\n",
       "      <td>...</td>\n",
       "      <td>...</td>\n",
       "      <td>...</td>\n",
       "      <td>...</td>\n",
       "      <td>...</td>\n",
       "      <td>...</td>\n",
       "      <td>...</td>\n",
       "      <td>...</td>\n",
       "      <td>...</td>\n",
       "      <td>...</td>\n",
       "    </tr>\n",
       "    <tr>\n",
       "      <th>6162</th>\n",
       "      <td>27</td>\n",
       "      <td>31</td>\n",
       "      <td>57.142857</td>\n",
       "      <td>28.571429</td>\n",
       "      <td>28.571429</td>\n",
       "      <td>60.010531</td>\n",
       "      <td>32.362582</td>\n",
       "      <td>9.70</td>\n",
       "      <td>9.38</td>\n",
       "      <td>13.66</td>\n",
       "      <td>...</td>\n",
       "      <td>-28.2</td>\n",
       "      <td>-40</td>\n",
       "      <td>-11</td>\n",
       "      <td>-270</td>\n",
       "      <td>0.270270</td>\n",
       "      <td>0.840000</td>\n",
       "      <td>0.600846</td>\n",
       "      <td>14.673247</td>\n",
       "      <td>-34.536532</td>\n",
       "      <td>-35.867088</td>\n",
       "    </tr>\n",
       "    <tr>\n",
       "      <th>6163</th>\n",
       "      <td>22</td>\n",
       "      <td>27</td>\n",
       "      <td>50.000000</td>\n",
       "      <td>21.428571</td>\n",
       "      <td>28.571429</td>\n",
       "      <td>60.209998</td>\n",
       "      <td>32.914628</td>\n",
       "      <td>7.65</td>\n",
       "      <td>8.84</td>\n",
       "      <td>11.79</td>\n",
       "      <td>...</td>\n",
       "      <td>-28.6</td>\n",
       "      <td>-41</td>\n",
       "      <td>-12</td>\n",
       "      <td>-271</td>\n",
       "      <td>0.000000</td>\n",
       "      <td>0.737470</td>\n",
       "      <td>0.527673</td>\n",
       "      <td>14.673750</td>\n",
       "      <td>-34.537716</td>\n",
       "      <td>-35.868318</td>\n",
       "    </tr>\n",
       "    <tr>\n",
       "      <th>6164</th>\n",
       "      <td>19</td>\n",
       "      <td>22</td>\n",
       "      <td>42.857143</td>\n",
       "      <td>14.285714</td>\n",
       "      <td>28.571429</td>\n",
       "      <td>64.329611</td>\n",
       "      <td>43.550592</td>\n",
       "      <td>8.95</td>\n",
       "      <td>9.06</td>\n",
       "      <td>10.30</td>\n",
       "      <td>...</td>\n",
       "      <td>-37.2</td>\n",
       "      <td>-49</td>\n",
       "      <td>-21</td>\n",
       "      <td>-280</td>\n",
       "      <td>0.769231</td>\n",
       "      <td>0.632107</td>\n",
       "      <td>0.551759</td>\n",
       "      <td>-14.684566</td>\n",
       "      <td>-34.563173</td>\n",
       "      <td>-35.894755</td>\n",
       "    </tr>\n",
       "    <tr>\n",
       "      <th>6165</th>\n",
       "      <td>19</td>\n",
       "      <td>19</td>\n",
       "      <td>100.000000</td>\n",
       "      <td>7.142857</td>\n",
       "      <td>92.857143</td>\n",
       "      <td>69.027764</td>\n",
       "      <td>54.130755</td>\n",
       "      <td>13.55</td>\n",
       "      <td>10.36</td>\n",
       "      <td>10.55</td>\n",
       "      <td>...</td>\n",
       "      <td>-48.9</td>\n",
       "      <td>-61</td>\n",
       "      <td>-33</td>\n",
       "      <td>-292</td>\n",
       "      <td>1.000000</td>\n",
       "      <td>0.733010</td>\n",
       "      <td>0.591584</td>\n",
       "      <td>-14.699280</td>\n",
       "      <td>-34.597806</td>\n",
       "      <td>-35.930723</td>\n",
       "    </tr>\n",
       "    <tr>\n",
       "      <th>6166</th>\n",
       "      <td>19</td>\n",
       "      <td>19</td>\n",
       "      <td>92.857143</td>\n",
       "      <td>0.000000</td>\n",
       "      <td>92.857143</td>\n",
       "      <td>65.157180</td>\n",
       "      <td>45.524973</td>\n",
       "      <td>11.45</td>\n",
       "      <td>10.16</td>\n",
       "      <td>9.68</td>\n",
       "      <td>...</td>\n",
       "      <td>-44.0</td>\n",
       "      <td>-56</td>\n",
       "      <td>-28</td>\n",
       "      <td>-288</td>\n",
       "      <td>1.000000</td>\n",
       "      <td>0.687500</td>\n",
       "      <td>0.593936</td>\n",
       "      <td>-14.693117</td>\n",
       "      <td>-34.583301</td>\n",
       "      <td>-35.915659</td>\n",
       "    </tr>\n",
       "  </tbody>\n",
       "</table>\n",
       "<p>6167 rows × 136 columns</p>\n",
       "</div>"
      ],
      "text/plain": [
       "      ind_5  ind_6       ind_8      ind_9     ind_10     ind_12     ind_13  \\\n",
       "0        19     17  100.000000  85.714286  14.285714  72.363515  60.808814   \n",
       "1        24     19  100.000000  78.571429  21.428571  74.275883  64.366798   \n",
       "2        30     24  100.000000  71.428571  28.571429  75.140402  65.915803   \n",
       "3        37     30  100.000000  64.285714  35.714286  76.677846  68.584234   \n",
       "4        41     37  100.000000  57.142857  42.857143  81.603007  76.455495   \n",
       "...     ...    ...         ...        ...        ...        ...        ...   \n",
       "6162     27     31   57.142857  28.571429  28.571429  60.010531  32.362582   \n",
       "6163     22     27   50.000000  21.428571  28.571429  60.209998  32.914628   \n",
       "6164     19     22   42.857143  14.285714  28.571429  64.329611  43.550592   \n",
       "6165     19     19  100.000000   7.142857  92.857143  69.027764  54.130755   \n",
       "6166     19     19   92.857143   0.000000  92.857143  65.157180  45.524973   \n",
       "\n",
       "      ind_14  ind_15  ind_16  ...  ind_416  ind_418  ind_420  ind_422  \\\n",
       "0      23.80   17.62   11.73  ...    -49.6      -54     -152     -353   \n",
       "1      11.45   18.16   12.22  ...    -55.6      -60     -158     -359   \n",
       "2       8.75   17.86   12.28  ...    -58.4      -60     -160     -362   \n",
       "3       7.80   14.76   12.61  ...    -61.8      -65     -166     -367   \n",
       "4      14.90   11.92   14.25  ...    -79.8      -86     -186     -388   \n",
       "...      ...     ...     ...  ...      ...      ...      ...      ...   \n",
       "6162    9.70    9.38   13.66  ...    -28.2      -40      -11     -270   \n",
       "6163    7.65    8.84   11.79  ...    -28.6      -41      -12     -271   \n",
       "6164    8.95    9.06   10.30  ...    -37.2      -49      -21     -280   \n",
       "6165   13.55   10.36   10.55  ...    -48.9      -61      -33     -292   \n",
       "6166   11.45   10.16    9.68  ...    -44.0      -56      -28     -288   \n",
       "\n",
       "       ind_424   ind_426   ind_428  20_target  50_target  90_target  \n",
       "0     1.000000  0.498547  0.701906  15.135802  35.625252  36.997753  \n",
       "1     1.000000  0.537088  0.690833  15.143348  35.643013  37.016198  \n",
       "2     1.000000  0.615169  0.693040  15.146870  35.651301 -37.024805  \n",
       "3     1.000000  0.661517  0.673418  15.153283   0.000000 -37.040483  \n",
       "4     1.000000  0.747204  0.700522 -15.179065 -35.727079 -37.103503  \n",
       "...        ...       ...       ...        ...        ...        ...  \n",
       "6162  0.270270  0.840000  0.600846  14.673247 -34.536532 -35.867088  \n",
       "6163  0.000000  0.737470  0.527673  14.673750 -34.537716 -35.868318  \n",
       "6164  0.769231  0.632107  0.551759 -14.684566 -34.563173 -35.894755  \n",
       "6165  1.000000  0.733010  0.591584 -14.699280 -34.597806 -35.930723  \n",
       "6166  1.000000  0.687500  0.593936 -14.693117 -34.583301 -35.915659  \n",
       "\n",
       "[6167 rows x 136 columns]"
      ]
     },
     "execution_count": 106,
     "metadata": {},
     "output_type": "execute_result"
    }
   ],
   "source": [
    "df = pd.read_excel(\"HW_Data_Set.xlsx\")\n",
    "df.dropna()"
   ]
  },
  {
   "cell_type": "code",
   "execution_count": 107,
   "metadata": {},
   "outputs": [
    {
     "name": "stderr",
     "output_type": "stream",
     "text": [
      "C:\\Users\\msaka\\Anaconda3\\lib\\site-packages\\scipy\\stats\\morestats.py:1676: UserWarning: p-value may not be accurate for N > 5000.\n",
      "  warnings.warn(\"p-value may not be accurate for N > 5000.\")\n"
     ]
    },
    {
     "data": {
      "text/plain": [
       "(0.6917874813079834, 0.0)"
      ]
     },
     "execution_count": 107,
     "metadata": {},
     "output_type": "execute_result"
    }
   ],
   "source": [
    "stats.shapiro(df[\"50_target\"])"
   ]
  },
  {
   "cell_type": "code",
   "execution_count": 108,
   "metadata": {},
   "outputs": [
    {
     "data": {
      "text/plain": [
       "(0.6609690189361572, 0.0)"
      ]
     },
     "execution_count": 108,
     "metadata": {},
     "output_type": "execute_result"
    }
   ],
   "source": [
    "stats.shapiro(df[\"90_target\"])"
   ]
  },
  {
   "cell_type": "code",
   "execution_count": 110,
   "metadata": {},
   "outputs": [
    {
     "name": "stdout",
     "output_type": "stream",
     "text": [
      "Statistics:0.692, p=0.000 \n",
      "Orneklem Normal (Gaussian) Dagilimdan gelmemektedir (reject H0)\n"
     ]
    }
   ],
   "source": [
    "stat, p = stats.shapiro(df[\"50_target\"])\n",
    "\n",
    "print(\"Statistics:%3.3f, p=%.3f \" % (stat,p))\n",
    "\n",
    "alpha = 0.05 \n",
    "if p>alpha:\n",
    "  print(\"Orneklem Normal (Gaussian) Dagilimdan gelmektedir (Fail to Reject H0)\")\n",
    "else:\n",
    "  print(\"Orneklem Normal (Gaussian) Dagilimdan gelmemektedir (reject H0)\")"
   ]
  },
  {
   "cell_type": "code",
   "execution_count": 111,
   "metadata": {},
   "outputs": [
    {
     "name": "stdout",
     "output_type": "stream",
     "text": [
      "Statistics:0.661, p=0.000 \n",
      "Orneklem Normal (Gaussian) Dagilimdan gelmemektedir (reject H0)\n"
     ]
    }
   ],
   "source": [
    "stat, p = stats.shapiro(df[\"90_target\"])\n",
    "\n",
    "print(\"Statistics:%3.3f, p=%.3f \" % (stat,p))\n",
    "\n",
    "alpha = 0.05 \n",
    "if p>alpha:\n",
    "  print(\"Orneklem Normal (Gaussian) Dagilimdan gelmektedir (Fail to Reject H0)\")\n",
    "else:\n",
    "  print(\"Orneklem Normal (Gaussian) Dagilimdan gelmemektedir (reject H0)\")"
   ]
  },
  {
   "cell_type": "markdown",
   "metadata": {},
   "source": [
    " Değişkenlerin normal dağılıma sahip olup olmadığını anlamak için Shapito test yapıldı ve normal dağılıma sahip olmadıkları gözlemlendi."
   ]
  },
  {
   "cell_type": "code",
   "execution_count": 112,
   "metadata": {},
   "outputs": [
    {
     "name": "stdout",
     "output_type": "stream",
     "text": [
      "Statistics:0.661, p=0.000 \n",
      "İki değişkenin varyansı birbirine eşit değildir. (reject H0)\n"
     ]
    }
   ],
   "source": [
    "stats.levene(df[\"90_target\"], df[\"50_target\"])  #Varyansların eşit olup olmadığını anlamak için.\n",
    "\n",
    "print(\"Statistics:%3.3f, p=%.3f \" % (stat,p))\n",
    "\n",
    "alpha = 0.05 \n",
    "if p>alpha:\n",
    "  print(\"İki değişkenin varyansı birbirine eşittir.(Fail to Reject H0)\")\n",
    "else:\n",
    "  print(\"İki değişkenin varyansı birbirine eşit değildir. (reject H0)\")\n"
   ]
  },
  {
   "cell_type": "code",
   "execution_count": 113,
   "metadata": {},
   "outputs": [],
   "source": [
    "# Varyansların eşit olup olmadığına bakmak için LEVENE TEST yaparız.Burada eşit olmadığını gözlemledik."
   ]
  },
  {
   "cell_type": "code",
   "execution_count": 114,
   "metadata": {},
   "outputs": [],
   "source": [
    "import scipy.stats as stats"
   ]
  },
  {
   "cell_type": "code",
   "execution_count": 115,
   "metadata": {},
   "outputs": [
    {
     "data": {
      "text/plain": [
       "Ttest_indResult(statistic=-0.6353948302621644, pvalue=0.5251827285261892)"
      ]
     },
     "execution_count": 115,
     "metadata": {},
     "output_type": "execute_result"
    }
   ],
   "source": [
    "#Ortalamalar arasında anlamlı bir fark olup olmadığına baktık.\n",
    "stats.ttest_ind(df['90_target'],df['50_target'],equal_var=True) \n",
    "\n",
    "#H0 : İki değişkenin ortalamaları arasında anlamlı bir fark vardır.(Fail to reject)\n",
    "#H1 : İki değişkenin ortalamaları arasında anlamlı bir fark yoktur.(Reject)"
   ]
  },
  {
   "cell_type": "markdown",
   "metadata": {},
   "source": [
    "### Stat değeri > p-value -- H0 hipotezi reddedilir. (Reject)\n",
    "    Stat değeri < p-value -- H0 hipotezi kabul edilir.(Do not reject)\n",
    "    \n",
    "    0.63> 0.52 - H0 hipotezi reddedilir. İki değişkenin ortalamaları arasında anlamlı bir fark yoktur."
   ]
  },
  {
   "cell_type": "code",
   "execution_count": null,
   "metadata": {},
   "outputs": [],
   "source": []
  },
  {
   "cell_type": "code",
   "execution_count": null,
   "metadata": {},
   "outputs": [],
   "source": []
  },
  {
   "cell_type": "markdown",
   "metadata": {},
   "source": [
    "# REGRESYON ANALİZİ"
   ]
  },
  {
   "cell_type": "code",
   "execution_count": 193,
   "metadata": {},
   "outputs": [],
   "source": [
    "import numpy as np\n",
    "import scipy.stats as stats\n",
    "from matplotlib.pyplot import plot\n",
    "import pandas as pd\n",
    "import pylab\n",
    "import statsmodels.api as sm \n",
    "import seaborn as sns"
   ]
  },
  {
   "cell_type": "code",
   "execution_count": 194,
   "metadata": {},
   "outputs": [
    {
     "data": {
      "text/html": [
       "<div>\n",
       "<style scoped>\n",
       "    .dataframe tbody tr th:only-of-type {\n",
       "        vertical-align: middle;\n",
       "    }\n",
       "\n",
       "    .dataframe tbody tr th {\n",
       "        vertical-align: top;\n",
       "    }\n",
       "\n",
       "    .dataframe thead th {\n",
       "        text-align: right;\n",
       "    }\n",
       "</style>\n",
       "<table border=\"1\" class=\"dataframe\">\n",
       "  <thead>\n",
       "    <tr style=\"text-align: right;\">\n",
       "      <th></th>\n",
       "      <th>20_target</th>\n",
       "      <th>50_target</th>\n",
       "      <th>90_target</th>\n",
       "    </tr>\n",
       "  </thead>\n",
       "  <tbody>\n",
       "    <tr>\n",
       "      <th>0</th>\n",
       "      <td>15.135802</td>\n",
       "      <td>35.625252</td>\n",
       "      <td>36.997753</td>\n",
       "    </tr>\n",
       "    <tr>\n",
       "      <th>1</th>\n",
       "      <td>15.143348</td>\n",
       "      <td>35.643013</td>\n",
       "      <td>37.016198</td>\n",
       "    </tr>\n",
       "    <tr>\n",
       "      <th>2</th>\n",
       "      <td>15.146870</td>\n",
       "      <td>35.651301</td>\n",
       "      <td>-37.024805</td>\n",
       "    </tr>\n",
       "    <tr>\n",
       "      <th>3</th>\n",
       "      <td>15.153283</td>\n",
       "      <td>0.000000</td>\n",
       "      <td>-37.040483</td>\n",
       "    </tr>\n",
       "    <tr>\n",
       "      <th>4</th>\n",
       "      <td>-15.179065</td>\n",
       "      <td>-35.727079</td>\n",
       "      <td>-37.103503</td>\n",
       "    </tr>\n",
       "  </tbody>\n",
       "</table>\n",
       "</div>"
      ],
      "text/plain": [
       "   20_target  50_target  90_target\n",
       "0  15.135802  35.625252  36.997753\n",
       "1  15.143348  35.643013  37.016198\n",
       "2  15.146870  35.651301 -37.024805\n",
       "3  15.153283   0.000000 -37.040483\n",
       "4 -15.179065 -35.727079 -37.103503"
      ]
     },
     "execution_count": 194,
     "metadata": {},
     "output_type": "execute_result"
    }
   ],
   "source": [
    "ad = pd.read_excel(\"HW_Data_Set.xlsx\" , usecols=[133,134,135,136])\n",
    "df = ad.copy()\n",
    "df.head()"
   ]
  },
  {
   "cell_type": "code",
   "execution_count": 195,
   "metadata": {},
   "outputs": [
    {
     "data": {
      "text/html": [
       "<div>\n",
       "<style scoped>\n",
       "    .dataframe tbody tr th:only-of-type {\n",
       "        vertical-align: middle;\n",
       "    }\n",
       "\n",
       "    .dataframe tbody tr th {\n",
       "        vertical-align: top;\n",
       "    }\n",
       "\n",
       "    .dataframe thead th {\n",
       "        text-align: right;\n",
       "    }\n",
       "</style>\n",
       "<table border=\"1\" class=\"dataframe\">\n",
       "  <thead>\n",
       "    <tr style=\"text-align: right;\">\n",
       "      <th></th>\n",
       "      <th>20_target</th>\n",
       "      <th>50_target</th>\n",
       "      <th>90_target</th>\n",
       "    </tr>\n",
       "  </thead>\n",
       "  <tbody>\n",
       "    <tr>\n",
       "      <th>0</th>\n",
       "      <td>15.135802</td>\n",
       "      <td>35.625252</td>\n",
       "      <td>36.997753</td>\n",
       "    </tr>\n",
       "    <tr>\n",
       "      <th>1</th>\n",
       "      <td>15.143348</td>\n",
       "      <td>35.643013</td>\n",
       "      <td>37.016198</td>\n",
       "    </tr>\n",
       "    <tr>\n",
       "      <th>2</th>\n",
       "      <td>15.146870</td>\n",
       "      <td>35.651301</td>\n",
       "      <td>-37.024805</td>\n",
       "    </tr>\n",
       "    <tr>\n",
       "      <th>3</th>\n",
       "      <td>15.153283</td>\n",
       "      <td>0.000000</td>\n",
       "      <td>-37.040483</td>\n",
       "    </tr>\n",
       "    <tr>\n",
       "      <th>4</th>\n",
       "      <td>-15.179065</td>\n",
       "      <td>-35.727079</td>\n",
       "      <td>-37.103503</td>\n",
       "    </tr>\n",
       "  </tbody>\n",
       "</table>\n",
       "</div>"
      ],
      "text/plain": [
       "   20_target  50_target  90_target\n",
       "0  15.135802  35.625252  36.997753\n",
       "1  15.143348  35.643013  37.016198\n",
       "2  15.146870  35.651301 -37.024805\n",
       "3  15.153283   0.000000 -37.040483\n",
       "4 -15.179065 -35.727079 -37.103503"
      ]
     },
     "execution_count": 195,
     "metadata": {},
     "output_type": "execute_result"
    }
   ],
   "source": [
    "ad = pd.read_excel(\"HW_Data_Set.xlsx\" , usecols=[133,134,135,136])\n",
    "df.dropna()\n",
    "df = ad.copy()\n",
    "df.head()"
   ]
  },
  {
   "cell_type": "code",
   "execution_count": null,
   "metadata": {},
   "outputs": [],
   "source": []
  },
  {
   "cell_type": "code",
   "execution_count": 196,
   "metadata": {},
   "outputs": [
    {
     "name": "stdout",
     "output_type": "stream",
     "text": [
      "<class 'pandas.core.frame.DataFrame'>\n",
      "RangeIndex: 6167 entries, 0 to 6166\n",
      "Data columns (total 3 columns):\n",
      " #   Column     Non-Null Count  Dtype  \n",
      "---  ------     --------------  -----  \n",
      " 0   20_target  6167 non-null   float64\n",
      " 1   50_target  6167 non-null   float64\n",
      " 2   90_target  6167 non-null   float64\n",
      "dtypes: float64(3)\n",
      "memory usage: 144.7 KB\n"
     ]
    },
    {
     "data": {
      "text/html": [
       "<div>\n",
       "<style scoped>\n",
       "    .dataframe tbody tr th:only-of-type {\n",
       "        vertical-align: middle;\n",
       "    }\n",
       "\n",
       "    .dataframe tbody tr th {\n",
       "        vertical-align: top;\n",
       "    }\n",
       "\n",
       "    .dataframe thead th {\n",
       "        text-align: right;\n",
       "    }\n",
       "</style>\n",
       "<table border=\"1\" class=\"dataframe\">\n",
       "  <thead>\n",
       "    <tr style=\"text-align: right;\">\n",
       "      <th></th>\n",
       "      <th>count</th>\n",
       "      <th>mean</th>\n",
       "      <th>std</th>\n",
       "      <th>min</th>\n",
       "      <th>25%</th>\n",
       "      <th>50%</th>\n",
       "      <th>75%</th>\n",
       "      <th>max</th>\n",
       "    </tr>\n",
       "  </thead>\n",
       "  <tbody>\n",
       "    <tr>\n",
       "      <th>20_target</th>\n",
       "      <td>6167.0</td>\n",
       "      <td>-0.057102</td>\n",
       "      <td>14.834497</td>\n",
       "      <td>-15.780588</td>\n",
       "      <td>-15.350354</td>\n",
       "      <td>0.000000</td>\n",
       "      <td>15.385945</td>\n",
       "      <td>15.768767</td>\n",
       "    </tr>\n",
       "    <tr>\n",
       "      <th>50_target</th>\n",
       "      <td>6167.0</td>\n",
       "      <td>-2.906358</td>\n",
       "      <td>34.559778</td>\n",
       "      <td>-37.142889</td>\n",
       "      <td>-36.208094</td>\n",
       "      <td>-34.267756</td>\n",
       "      <td>35.879524</td>\n",
       "      <td>37.038694</td>\n",
       "    </tr>\n",
       "    <tr>\n",
       "      <th>90_target</th>\n",
       "      <td>6167.0</td>\n",
       "      <td>-3.315072</td>\n",
       "      <td>36.841541</td>\n",
       "      <td>-38.573858</td>\n",
       "      <td>-37.695273</td>\n",
       "      <td>-35.788391</td>\n",
       "      <td>37.521892</td>\n",
       "      <td>38.465649</td>\n",
       "    </tr>\n",
       "  </tbody>\n",
       "</table>\n",
       "</div>"
      ],
      "text/plain": [
       "            count      mean        std        min        25%        50%  \\\n",
       "20_target  6167.0 -0.057102  14.834497 -15.780588 -15.350354   0.000000   \n",
       "50_target  6167.0 -2.906358  34.559778 -37.142889 -36.208094 -34.267756   \n",
       "90_target  6167.0 -3.315072  36.841541 -38.573858 -37.695273 -35.788391   \n",
       "\n",
       "                 75%        max  \n",
       "20_target  15.385945  15.768767  \n",
       "50_target  35.879524  37.038694  \n",
       "90_target  37.521892  38.465649  "
      ]
     },
     "execution_count": 196,
     "metadata": {},
     "output_type": "execute_result"
    }
   ],
   "source": [
    "df.info()\n",
    "df.describe().T"
   ]
  },
  {
   "cell_type": "code",
   "execution_count": 197,
   "metadata": {},
   "outputs": [
    {
     "data": {
      "text/plain": [
       "(6167, 3)"
      ]
     },
     "execution_count": 197,
     "metadata": {},
     "output_type": "execute_result"
    }
   ],
   "source": [
    "training = df.copy()    #datamızın shapeini gösterir.Toplam 6167 veri ve 135 columns.\n",
    "training.shape"
   ]
  },
  {
   "cell_type": "code",
   "execution_count": 198,
   "metadata": {},
   "outputs": [
    {
     "data": {
      "text/plain": [
       "False"
      ]
     },
     "execution_count": 198,
     "metadata": {},
     "output_type": "execute_result"
    }
   ],
   "source": [
    "df.isnull().values.any()"
   ]
  },
  {
   "cell_type": "code",
   "execution_count": 199,
   "metadata": {},
   "outputs": [
    {
     "data": {
      "text/html": [
       "<div>\n",
       "<style scoped>\n",
       "    .dataframe tbody tr th:only-of-type {\n",
       "        vertical-align: middle;\n",
       "    }\n",
       "\n",
       "    .dataframe tbody tr th {\n",
       "        vertical-align: top;\n",
       "    }\n",
       "\n",
       "    .dataframe thead th {\n",
       "        text-align: right;\n",
       "    }\n",
       "</style>\n",
       "<table border=\"1\" class=\"dataframe\">\n",
       "  <thead>\n",
       "    <tr style=\"text-align: right;\">\n",
       "      <th></th>\n",
       "      <th>20_target</th>\n",
       "      <th>50_target</th>\n",
       "      <th>90_target</th>\n",
       "    </tr>\n",
       "  </thead>\n",
       "  <tbody>\n",
       "    <tr>\n",
       "      <th>20_target</th>\n",
       "      <td>1.000000</td>\n",
       "      <td>0.384076</td>\n",
       "      <td>0.355950</td>\n",
       "    </tr>\n",
       "    <tr>\n",
       "      <th>50_target</th>\n",
       "      <td>0.384076</td>\n",
       "      <td>1.000000</td>\n",
       "      <td>0.940916</td>\n",
       "    </tr>\n",
       "    <tr>\n",
       "      <th>90_target</th>\n",
       "      <td>0.355950</td>\n",
       "      <td>0.940916</td>\n",
       "      <td>1.000000</td>\n",
       "    </tr>\n",
       "  </tbody>\n",
       "</table>\n",
       "</div>"
      ],
      "text/plain": [
       "           20_target  50_target  90_target\n",
       "20_target   1.000000   0.384076   0.355950\n",
       "50_target   0.384076   1.000000   0.940916\n",
       "90_target   0.355950   0.940916   1.000000"
      ]
     },
     "execution_count": 199,
     "metadata": {},
     "output_type": "execute_result"
    }
   ],
   "source": [
    "df.corr()"
   ]
  },
  {
   "cell_type": "code",
   "execution_count": 200,
   "metadata": {},
   "outputs": [
    {
     "data": {
      "text/html": [
       "<div>\n",
       "<style scoped>\n",
       "    .dataframe tbody tr th:only-of-type {\n",
       "        vertical-align: middle;\n",
       "    }\n",
       "\n",
       "    .dataframe tbody tr th {\n",
       "        vertical-align: top;\n",
       "    }\n",
       "\n",
       "    .dataframe thead th {\n",
       "        text-align: right;\n",
       "    }\n",
       "</style>\n",
       "<table border=\"1\" class=\"dataframe\">\n",
       "  <thead>\n",
       "    <tr style=\"text-align: right;\">\n",
       "      <th></th>\n",
       "      <th>ind_5</th>\n",
       "      <th>ind_6</th>\n",
       "      <th>ind_8</th>\n",
       "      <th>ind_9</th>\n",
       "      <th>ind_10</th>\n",
       "      <th>ind_12</th>\n",
       "      <th>ind_13</th>\n",
       "      <th>ind_14</th>\n",
       "      <th>ind_15</th>\n",
       "      <th>ind_16</th>\n",
       "      <th>...</th>\n",
       "      <th>ind_416</th>\n",
       "      <th>ind_418</th>\n",
       "      <th>ind_420</th>\n",
       "      <th>ind_422</th>\n",
       "      <th>ind_424</th>\n",
       "      <th>ind_426</th>\n",
       "      <th>ind_428</th>\n",
       "      <th>20_target</th>\n",
       "      <th>50_target</th>\n",
       "      <th>90_target</th>\n",
       "    </tr>\n",
       "  </thead>\n",
       "  <tbody>\n",
       "    <tr>\n",
       "      <th>0</th>\n",
       "      <td>19</td>\n",
       "      <td>17</td>\n",
       "      <td>100.000000</td>\n",
       "      <td>85.714286</td>\n",
       "      <td>14.285714</td>\n",
       "      <td>72.363515</td>\n",
       "      <td>60.808814</td>\n",
       "      <td>23.80</td>\n",
       "      <td>17.62</td>\n",
       "      <td>11.73</td>\n",
       "      <td>...</td>\n",
       "      <td>-49.6</td>\n",
       "      <td>-54</td>\n",
       "      <td>-152</td>\n",
       "      <td>-353</td>\n",
       "      <td>1.000000</td>\n",
       "      <td>0.498547</td>\n",
       "      <td>0.701906</td>\n",
       "      <td>15.135802</td>\n",
       "      <td>35.625252</td>\n",
       "      <td>36.997753</td>\n",
       "    </tr>\n",
       "    <tr>\n",
       "      <th>1</th>\n",
       "      <td>24</td>\n",
       "      <td>19</td>\n",
       "      <td>100.000000</td>\n",
       "      <td>78.571429</td>\n",
       "      <td>21.428571</td>\n",
       "      <td>74.275883</td>\n",
       "      <td>64.366798</td>\n",
       "      <td>11.45</td>\n",
       "      <td>18.16</td>\n",
       "      <td>12.22</td>\n",
       "      <td>...</td>\n",
       "      <td>-55.6</td>\n",
       "      <td>-60</td>\n",
       "      <td>-158</td>\n",
       "      <td>-359</td>\n",
       "      <td>1.000000</td>\n",
       "      <td>0.537088</td>\n",
       "      <td>0.690833</td>\n",
       "      <td>15.143348</td>\n",
       "      <td>35.643013</td>\n",
       "      <td>37.016198</td>\n",
       "    </tr>\n",
       "    <tr>\n",
       "      <th>2</th>\n",
       "      <td>30</td>\n",
       "      <td>24</td>\n",
       "      <td>100.000000</td>\n",
       "      <td>71.428571</td>\n",
       "      <td>28.571429</td>\n",
       "      <td>75.140402</td>\n",
       "      <td>65.915803</td>\n",
       "      <td>8.75</td>\n",
       "      <td>17.86</td>\n",
       "      <td>12.28</td>\n",
       "      <td>...</td>\n",
       "      <td>-58.4</td>\n",
       "      <td>-60</td>\n",
       "      <td>-160</td>\n",
       "      <td>-362</td>\n",
       "      <td>1.000000</td>\n",
       "      <td>0.615169</td>\n",
       "      <td>0.693040</td>\n",
       "      <td>15.146870</td>\n",
       "      <td>35.651301</td>\n",
       "      <td>-37.024805</td>\n",
       "    </tr>\n",
       "    <tr>\n",
       "      <th>3</th>\n",
       "      <td>37</td>\n",
       "      <td>30</td>\n",
       "      <td>100.000000</td>\n",
       "      <td>64.285714</td>\n",
       "      <td>35.714286</td>\n",
       "      <td>76.677846</td>\n",
       "      <td>68.584234</td>\n",
       "      <td>7.80</td>\n",
       "      <td>14.76</td>\n",
       "      <td>12.61</td>\n",
       "      <td>...</td>\n",
       "      <td>-61.8</td>\n",
       "      <td>-65</td>\n",
       "      <td>-166</td>\n",
       "      <td>-367</td>\n",
       "      <td>1.000000</td>\n",
       "      <td>0.661517</td>\n",
       "      <td>0.673418</td>\n",
       "      <td>15.153283</td>\n",
       "      <td>0.000000</td>\n",
       "      <td>-37.040483</td>\n",
       "    </tr>\n",
       "    <tr>\n",
       "      <th>4</th>\n",
       "      <td>41</td>\n",
       "      <td>37</td>\n",
       "      <td>100.000000</td>\n",
       "      <td>57.142857</td>\n",
       "      <td>42.857143</td>\n",
       "      <td>81.603007</td>\n",
       "      <td>76.455495</td>\n",
       "      <td>14.90</td>\n",
       "      <td>11.92</td>\n",
       "      <td>14.25</td>\n",
       "      <td>...</td>\n",
       "      <td>-79.8</td>\n",
       "      <td>-86</td>\n",
       "      <td>-186</td>\n",
       "      <td>-388</td>\n",
       "      <td>1.000000</td>\n",
       "      <td>0.747204</td>\n",
       "      <td>0.700522</td>\n",
       "      <td>-15.179065</td>\n",
       "      <td>-35.727079</td>\n",
       "      <td>-37.103503</td>\n",
       "    </tr>\n",
       "    <tr>\n",
       "      <th>...</th>\n",
       "      <td>...</td>\n",
       "      <td>...</td>\n",
       "      <td>...</td>\n",
       "      <td>...</td>\n",
       "      <td>...</td>\n",
       "      <td>...</td>\n",
       "      <td>...</td>\n",
       "      <td>...</td>\n",
       "      <td>...</td>\n",
       "      <td>...</td>\n",
       "      <td>...</td>\n",
       "      <td>...</td>\n",
       "      <td>...</td>\n",
       "      <td>...</td>\n",
       "      <td>...</td>\n",
       "      <td>...</td>\n",
       "      <td>...</td>\n",
       "      <td>...</td>\n",
       "      <td>...</td>\n",
       "      <td>...</td>\n",
       "      <td>...</td>\n",
       "    </tr>\n",
       "    <tr>\n",
       "      <th>6162</th>\n",
       "      <td>27</td>\n",
       "      <td>31</td>\n",
       "      <td>57.142857</td>\n",
       "      <td>28.571429</td>\n",
       "      <td>28.571429</td>\n",
       "      <td>60.010531</td>\n",
       "      <td>32.362582</td>\n",
       "      <td>9.70</td>\n",
       "      <td>9.38</td>\n",
       "      <td>13.66</td>\n",
       "      <td>...</td>\n",
       "      <td>-28.2</td>\n",
       "      <td>-40</td>\n",
       "      <td>-11</td>\n",
       "      <td>-270</td>\n",
       "      <td>0.270270</td>\n",
       "      <td>0.840000</td>\n",
       "      <td>0.600846</td>\n",
       "      <td>14.673247</td>\n",
       "      <td>-34.536532</td>\n",
       "      <td>-35.867088</td>\n",
       "    </tr>\n",
       "    <tr>\n",
       "      <th>6163</th>\n",
       "      <td>22</td>\n",
       "      <td>27</td>\n",
       "      <td>50.000000</td>\n",
       "      <td>21.428571</td>\n",
       "      <td>28.571429</td>\n",
       "      <td>60.209998</td>\n",
       "      <td>32.914628</td>\n",
       "      <td>7.65</td>\n",
       "      <td>8.84</td>\n",
       "      <td>11.79</td>\n",
       "      <td>...</td>\n",
       "      <td>-28.6</td>\n",
       "      <td>-41</td>\n",
       "      <td>-12</td>\n",
       "      <td>-271</td>\n",
       "      <td>0.000000</td>\n",
       "      <td>0.737470</td>\n",
       "      <td>0.527673</td>\n",
       "      <td>14.673750</td>\n",
       "      <td>-34.537716</td>\n",
       "      <td>-35.868318</td>\n",
       "    </tr>\n",
       "    <tr>\n",
       "      <th>6164</th>\n",
       "      <td>19</td>\n",
       "      <td>22</td>\n",
       "      <td>42.857143</td>\n",
       "      <td>14.285714</td>\n",
       "      <td>28.571429</td>\n",
       "      <td>64.329611</td>\n",
       "      <td>43.550592</td>\n",
       "      <td>8.95</td>\n",
       "      <td>9.06</td>\n",
       "      <td>10.30</td>\n",
       "      <td>...</td>\n",
       "      <td>-37.2</td>\n",
       "      <td>-49</td>\n",
       "      <td>-21</td>\n",
       "      <td>-280</td>\n",
       "      <td>0.769231</td>\n",
       "      <td>0.632107</td>\n",
       "      <td>0.551759</td>\n",
       "      <td>-14.684566</td>\n",
       "      <td>-34.563173</td>\n",
       "      <td>-35.894755</td>\n",
       "    </tr>\n",
       "    <tr>\n",
       "      <th>6165</th>\n",
       "      <td>19</td>\n",
       "      <td>19</td>\n",
       "      <td>100.000000</td>\n",
       "      <td>7.142857</td>\n",
       "      <td>92.857143</td>\n",
       "      <td>69.027764</td>\n",
       "      <td>54.130755</td>\n",
       "      <td>13.55</td>\n",
       "      <td>10.36</td>\n",
       "      <td>10.55</td>\n",
       "      <td>...</td>\n",
       "      <td>-48.9</td>\n",
       "      <td>-61</td>\n",
       "      <td>-33</td>\n",
       "      <td>-292</td>\n",
       "      <td>1.000000</td>\n",
       "      <td>0.733010</td>\n",
       "      <td>0.591584</td>\n",
       "      <td>-14.699280</td>\n",
       "      <td>-34.597806</td>\n",
       "      <td>-35.930723</td>\n",
       "    </tr>\n",
       "    <tr>\n",
       "      <th>6166</th>\n",
       "      <td>19</td>\n",
       "      <td>19</td>\n",
       "      <td>92.857143</td>\n",
       "      <td>0.000000</td>\n",
       "      <td>92.857143</td>\n",
       "      <td>65.157180</td>\n",
       "      <td>45.524973</td>\n",
       "      <td>11.45</td>\n",
       "      <td>10.16</td>\n",
       "      <td>9.68</td>\n",
       "      <td>...</td>\n",
       "      <td>-44.0</td>\n",
       "      <td>-56</td>\n",
       "      <td>-28</td>\n",
       "      <td>-288</td>\n",
       "      <td>1.000000</td>\n",
       "      <td>0.687500</td>\n",
       "      <td>0.593936</td>\n",
       "      <td>-14.693117</td>\n",
       "      <td>-34.583301</td>\n",
       "      <td>-35.915659</td>\n",
       "    </tr>\n",
       "  </tbody>\n",
       "</table>\n",
       "<p>6167 rows × 136 columns</p>\n",
       "</div>"
      ],
      "text/plain": [
       "      ind_5  ind_6       ind_8      ind_9     ind_10     ind_12     ind_13  \\\n",
       "0        19     17  100.000000  85.714286  14.285714  72.363515  60.808814   \n",
       "1        24     19  100.000000  78.571429  21.428571  74.275883  64.366798   \n",
       "2        30     24  100.000000  71.428571  28.571429  75.140402  65.915803   \n",
       "3        37     30  100.000000  64.285714  35.714286  76.677846  68.584234   \n",
       "4        41     37  100.000000  57.142857  42.857143  81.603007  76.455495   \n",
       "...     ...    ...         ...        ...        ...        ...        ...   \n",
       "6162     27     31   57.142857  28.571429  28.571429  60.010531  32.362582   \n",
       "6163     22     27   50.000000  21.428571  28.571429  60.209998  32.914628   \n",
       "6164     19     22   42.857143  14.285714  28.571429  64.329611  43.550592   \n",
       "6165     19     19  100.000000   7.142857  92.857143  69.027764  54.130755   \n",
       "6166     19     19   92.857143   0.000000  92.857143  65.157180  45.524973   \n",
       "\n",
       "      ind_14  ind_15  ind_16  ...  ind_416  ind_418  ind_420  ind_422  \\\n",
       "0      23.80   17.62   11.73  ...    -49.6      -54     -152     -353   \n",
       "1      11.45   18.16   12.22  ...    -55.6      -60     -158     -359   \n",
       "2       8.75   17.86   12.28  ...    -58.4      -60     -160     -362   \n",
       "3       7.80   14.76   12.61  ...    -61.8      -65     -166     -367   \n",
       "4      14.90   11.92   14.25  ...    -79.8      -86     -186     -388   \n",
       "...      ...     ...     ...  ...      ...      ...      ...      ...   \n",
       "6162    9.70    9.38   13.66  ...    -28.2      -40      -11     -270   \n",
       "6163    7.65    8.84   11.79  ...    -28.6      -41      -12     -271   \n",
       "6164    8.95    9.06   10.30  ...    -37.2      -49      -21     -280   \n",
       "6165   13.55   10.36   10.55  ...    -48.9      -61      -33     -292   \n",
       "6166   11.45   10.16    9.68  ...    -44.0      -56      -28     -288   \n",
       "\n",
       "       ind_424   ind_426   ind_428  20_target  50_target  90_target  \n",
       "0     1.000000  0.498547  0.701906  15.135802  35.625252  36.997753  \n",
       "1     1.000000  0.537088  0.690833  15.143348  35.643013  37.016198  \n",
       "2     1.000000  0.615169  0.693040  15.146870  35.651301 -37.024805  \n",
       "3     1.000000  0.661517  0.673418  15.153283   0.000000 -37.040483  \n",
       "4     1.000000  0.747204  0.700522 -15.179065 -35.727079 -37.103503  \n",
       "...        ...       ...       ...        ...        ...        ...  \n",
       "6162  0.270270  0.840000  0.600846  14.673247 -34.536532 -35.867088  \n",
       "6163  0.000000  0.737470  0.527673  14.673750 -34.537716 -35.868318  \n",
       "6164  0.769231  0.632107  0.551759 -14.684566 -34.563173 -35.894755  \n",
       "6165  1.000000  0.733010  0.591584 -14.699280 -34.597806 -35.930723  \n",
       "6166  1.000000  0.687500  0.593936 -14.693117 -34.583301 -35.915659  \n",
       "\n",
       "[6167 rows x 136 columns]"
      ]
     },
     "execution_count": 200,
     "metadata": {},
     "output_type": "execute_result"
    }
   ],
   "source": [
    "df = pd.read_excel(\"HW_Data_Set.xlsx\")\n",
    "df.dropna()"
   ]
  },
  {
   "cell_type": "code",
   "execution_count": null,
   "metadata": {},
   "outputs": [],
   "source": [
    "sns.pairplot(df,kind=\"reg\") \n",
    "sns.pairplot (df,kind = \"scatter\")\n",
    "sns.jointplot(x = \"50_target\",y = \"90_target\",df = df , kind=\"reg\")"
   ]
  },
  {
   "cell_type": "code",
   "execution_count": 290,
   "metadata": {},
   "outputs": [
    {
     "data": {
      "text/plain": [
       "<seaborn.axisgrid.JointGrid at 0x1ef66b6aa08>"
      ]
     },
     "execution_count": 290,
     "metadata": {},
     "output_type": "execute_result"
    },
    {
     "data": {
      "image/png": "[encoded data removed]",
      "text/plain": [
       "<Figure size 432x432 with 3 Axes>"
      ]
     },
     "metadata": {
      "needs_background": "light"
     },
     "output_type": "display_data"
    }
   ],
   "source": [
    "sns.jointplot(x = \"50_target\", y = \"90_target\", data = df, kind = \"reg\")"
   ]
  },
  {
   "cell_type": "code",
   "execution_count": 124,
   "metadata": {},
   "outputs": [],
   "source": [
    "import scipy.stats as stats\n",
    "import pylab"
   ]
  },
  {
   "cell_type": "code",
   "execution_count": 125,
   "metadata": {},
   "outputs": [
    {
     "data": {
      "image/png": "[encoded data removed]",
      "text/plain": [
       "<Figure size 432x288 with 1 Axes>"
      ]
     },
     "metadata": {
      "needs_background": "light"
     },
     "output_type": "display_data"
    }
   ],
   "source": [
    "stats.probplot(df[\"90_target\"],dist = \"norm\",plot = pylab)\n",
    "pylab.show()"
   ]
  },
  {
   "cell_type": "code",
   "execution_count": 191,
   "metadata": {},
   "outputs": [
    {
     "data": {
      "text/plain": [
       "0    35.625252\n",
       "1    35.643013\n",
       "2    35.651301\n",
       "3     0.000000\n",
       "4   -35.727079\n",
       "Name: 50_target, dtype: float64"
      ]
     },
     "execution_count": 191,
     "metadata": {},
     "output_type": "execute_result"
    }
   ],
   "source": [
    "\n",
    "import statsmodels.api as sm\n",
    "X = df[[\"90_target\"]]\n",
    "X[0:5]\n",
    "X=sm.add_constant(X) # sabit bir değer atıyor , b0 olarak\n",
    "X[0:5]\n",
    "\n",
    "y = df[\"50_target\"]\n",
    "y[0:5]"
   ]
  },
  {
   "cell_type": "code",
   "execution_count": 127,
   "metadata": {},
   "outputs": [
    {
     "data": {
      "text/plain": [
       "0    15.135802\n",
       "1    15.143348\n",
       "2    15.146870\n",
       "3    15.153283\n",
       "4   -15.179065\n",
       "Name: 20_target, dtype: float64"
      ]
     },
     "execution_count": 127,
     "metadata": {},
     "output_type": "execute_result"
    }
   ],
   "source": [
    "import statsmodels.api as sm\n",
    "X = df[[\"90_target\"]]\n",
    "X[0:5]\n",
    "X=sm.add_constant(X) # sabit bir değer atıyor , b0 olarak\n",
    "X[0:5]\n",
    "\n",
    "y = df[\"20_target\"]\n",
    "y[0:5]"
   ]
  },
  {
   "cell_type": "code",
   "execution_count": 128,
   "metadata": {},
   "outputs": [
    {
     "data": {
      "text/html": [
       "<table class=\"simpletable\">\n",
       "<caption>OLS Regression Results</caption>\n",
       "<tr>\n",
       "  <th>Dep. Variable:</th>        <td>20_target</td>    <th>  R-squared:         </th> <td>   0.127</td> \n",
       "</tr>\n",
       "<tr>\n",
       "  <th>Model:</th>                   <td>OLS</td>       <th>  Adj. R-squared:    </th> <td>   0.127</td> \n",
       "</tr>\n",
       "<tr>\n",
       "  <th>Method:</th>             <td>Least Squares</td>  <th>  F-statistic:       </th> <td>   894.4</td> \n",
       "</tr>\n",
       "<tr>\n",
       "  <th>Date:</th>             <td>Thu, 23 Jul 2020</td> <th>  Prob (F-statistic):</th> <td>1.23e-183</td>\n",
       "</tr>\n",
       "<tr>\n",
       "  <th>Time:</th>                 <td>15:59:01</td>     <th>  Log-Likelihood:    </th> <td> -24964.</td> \n",
       "</tr>\n",
       "<tr>\n",
       "  <th>No. Observations:</th>      <td>  6167</td>      <th>  AIC:               </th> <td>4.993e+04</td>\n",
       "</tr>\n",
       "<tr>\n",
       "  <th>Df Residuals:</th>          <td>  6165</td>      <th>  BIC:               </th> <td>4.995e+04</td>\n",
       "</tr>\n",
       "<tr>\n",
       "  <th>Df Model:</th>              <td>     1</td>      <th>                     </th>     <td> </td>    \n",
       "</tr>\n",
       "<tr>\n",
       "  <th>Covariance Type:</th>      <td>nonrobust</td>    <th>                     </th>     <td> </td>    \n",
       "</tr>\n",
       "</table>\n",
       "<table class=\"simpletable\">\n",
       "<tr>\n",
       "      <td></td>         <th>coef</th>     <th>std err</th>      <th>t</th>      <th>P>|t|</th>  <th>[0.025</th>    <th>0.975]</th>  \n",
       "</tr>\n",
       "<tr>\n",
       "  <th>const</th>     <td>    0.4180</td> <td>    0.177</td> <td>    2.358</td> <td> 0.018</td> <td>    0.071</td> <td>    0.766</td>\n",
       "</tr>\n",
       "<tr>\n",
       "  <th>90_target</th> <td>    0.1433</td> <td>    0.005</td> <td>   29.907</td> <td> 0.000</td> <td>    0.134</td> <td>    0.153</td>\n",
       "</tr>\n",
       "</table>\n",
       "<table class=\"simpletable\">\n",
       "<tr>\n",
       "  <th>Omnibus:</th>       <td>71107.274</td> <th>  Durbin-Watson:     </th> <td>   0.840</td> \n",
       "</tr>\n",
       "<tr>\n",
       "  <th>Prob(Omnibus):</th>  <td> 0.000</td>   <th>  Jarque-Bera (JB):  </th> <td> 491.005</td> \n",
       "</tr>\n",
       "<tr>\n",
       "  <th>Skew:</th>           <td> 0.010</td>   <th>  Prob(JB):          </th> <td>2.40e-107</td>\n",
       "</tr>\n",
       "<tr>\n",
       "  <th>Kurtosis:</th>       <td> 1.618</td>   <th>  Cond. No.          </th> <td>    37.1</td> \n",
       "</tr>\n",
       "</table><br/><br/>Warnings:<br/>[1] Standard Errors assume that the covariance matrix of the errors is correctly specified."
      ],
      "text/plain": [
       "<class 'statsmodels.iolib.summary.Summary'>\n",
       "\"\"\"\n",
       "                            OLS Regression Results                            \n",
       "==============================================================================\n",
       "Dep. Variable:              20_target   R-squared:                       0.127\n",
       "Model:                            OLS   Adj. R-squared:                  0.127\n",
       "Method:                 Least Squares   F-statistic:                     894.4\n",
       "Date:                Thu, 23 Jul 2020   Prob (F-statistic):          1.23e-183\n",
       "Time:                        15:59:01   Log-Likelihood:                -24964.\n",
       "No. Observations:                6167   AIC:                         4.993e+04\n",
       "Df Residuals:                    6165   BIC:                         4.995e+04\n",
       "Df Model:                           1                                         \n",
       "Covariance Type:            nonrobust                                         \n",
       "==============================================================================\n",
       "                 coef    std err          t      P>|t|      [0.025      0.975]\n",
       "------------------------------------------------------------------------------\n",
       "const          0.4180      0.177      2.358      0.018       0.071       0.766\n",
       "90_target      0.1433      0.005     29.907      0.000       0.134       0.153\n",
       "==============================================================================\n",
       "Omnibus:                    71107.274   Durbin-Watson:                   0.840\n",
       "Prob(Omnibus):                  0.000   Jarque-Bera (JB):              491.005\n",
       "Skew:                           0.010   Prob(JB):                    2.40e-107\n",
       "Kurtosis:                       1.618   Cond. No.                         37.1\n",
       "==============================================================================\n",
       "\n",
       "Warnings:\n",
       "[1] Standard Errors assume that the covariance matrix of the errors is correctly specified.\n",
       "\"\"\""
      ]
     },
     "execution_count": 128,
     "metadata": {},
     "output_type": "execute_result"
    }
   ],
   "source": [
    "lm= sm.OLS(y,X) # burada normalite varsayımına gerek duymuyoruz.\n",
    "model = lm.fit()\n",
    "model.summary()"
   ]
  },
  {
   "cell_type": "code",
   "execution_count": 129,
   "metadata": {},
   "outputs": [
    {
     "data": {
      "text/html": [
       "<table class=\"simpletable\">\n",
       "<caption>OLS Regression Results</caption>\n",
       "<tr>\n",
       "  <th>Dep. Variable:</th>        <td>20_target</td>    <th>  R-squared:         </th> <td>   0.127</td> \n",
       "</tr>\n",
       "<tr>\n",
       "  <th>Model:</th>                   <td>OLS</td>       <th>  Adj. R-squared:    </th> <td>   0.127</td> \n",
       "</tr>\n",
       "<tr>\n",
       "  <th>Method:</th>             <td>Least Squares</td>  <th>  F-statistic:       </th> <td>   894.4</td> \n",
       "</tr>\n",
       "<tr>\n",
       "  <th>Date:</th>             <td>Thu, 23 Jul 2020</td> <th>  Prob (F-statistic):</th> <td>1.23e-183</td>\n",
       "</tr>\n",
       "<tr>\n",
       "  <th>Time:</th>                 <td>15:59:02</td>     <th>  Log-Likelihood:    </th> <td> -24964.</td> \n",
       "</tr>\n",
       "<tr>\n",
       "  <th>No. Observations:</th>      <td>  6167</td>      <th>  AIC:               </th> <td>4.993e+04</td>\n",
       "</tr>\n",
       "<tr>\n",
       "  <th>Df Residuals:</th>          <td>  6165</td>      <th>  BIC:               </th> <td>4.995e+04</td>\n",
       "</tr>\n",
       "<tr>\n",
       "  <th>Df Model:</th>              <td>     1</td>      <th>                     </th>     <td> </td>    \n",
       "</tr>\n",
       "<tr>\n",
       "  <th>Covariance Type:</th>      <td>nonrobust</td>    <th>                     </th>     <td> </td>    \n",
       "</tr>\n",
       "</table>\n",
       "<table class=\"simpletable\">\n",
       "<tr>\n",
       "      <td></td>         <th>coef</th>     <th>std err</th>      <th>t</th>      <th>P>|t|</th>  <th>[0.025</th>    <th>0.975]</th>  \n",
       "</tr>\n",
       "<tr>\n",
       "  <th>const</th>     <td>    0.4180</td> <td>    0.177</td> <td>    2.358</td> <td> 0.018</td> <td>    0.071</td> <td>    0.766</td>\n",
       "</tr>\n",
       "<tr>\n",
       "  <th>90_target</th> <td>    0.1433</td> <td>    0.005</td> <td>   29.907</td> <td> 0.000</td> <td>    0.134</td> <td>    0.153</td>\n",
       "</tr>\n",
       "</table>\n",
       "<table class=\"simpletable\">\n",
       "<tr>\n",
       "  <th>Omnibus:</th>       <td>71107.274</td> <th>  Durbin-Watson:     </th> <td>   0.840</td> \n",
       "</tr>\n",
       "<tr>\n",
       "  <th>Prob(Omnibus):</th>  <td> 0.000</td>   <th>  Jarque-Bera (JB):  </th> <td> 491.005</td> \n",
       "</tr>\n",
       "<tr>\n",
       "  <th>Skew:</th>           <td> 0.010</td>   <th>  Prob(JB):          </th> <td>2.40e-107</td>\n",
       "</tr>\n",
       "<tr>\n",
       "  <th>Kurtosis:</th>       <td> 1.618</td>   <th>  Cond. No.          </th> <td>    37.1</td> \n",
       "</tr>\n",
       "</table><br/><br/>Warnings:<br/>[1] Standard Errors assume that the covariance matrix of the errors is correctly specified."
      ],
      "text/plain": [
       "<class 'statsmodels.iolib.summary.Summary'>\n",
       "\"\"\"\n",
       "                            OLS Regression Results                            \n",
       "==============================================================================\n",
       "Dep. Variable:              20_target   R-squared:                       0.127\n",
       "Model:                            OLS   Adj. R-squared:                  0.127\n",
       "Method:                 Least Squares   F-statistic:                     894.4\n",
       "Date:                Thu, 23 Jul 2020   Prob (F-statistic):          1.23e-183\n",
       "Time:                        15:59:02   Log-Likelihood:                -24964.\n",
       "No. Observations:                6167   AIC:                         4.993e+04\n",
       "Df Residuals:                    6165   BIC:                         4.995e+04\n",
       "Df Model:                           1                                         \n",
       "Covariance Type:            nonrobust                                         \n",
       "==============================================================================\n",
       "                 coef    std err          t      P>|t|      [0.025      0.975]\n",
       "------------------------------------------------------------------------------\n",
       "const          0.4180      0.177      2.358      0.018       0.071       0.766\n",
       "90_target      0.1433      0.005     29.907      0.000       0.134       0.153\n",
       "==============================================================================\n",
       "Omnibus:                    71107.274   Durbin-Watson:                   0.840\n",
       "Prob(Omnibus):                  0.000   Jarque-Bera (JB):              491.005\n",
       "Skew:                           0.010   Prob(JB):                    2.40e-107\n",
       "Kurtosis:                       1.618   Cond. No.                         37.1\n",
       "==============================================================================\n",
       "\n",
       "Warnings:\n",
       "[1] Standard Errors assume that the covariance matrix of the errors is correctly specified.\n",
       "\"\"\""
      ]
     },
     "execution_count": 129,
     "metadata": {},
     "output_type": "execute_result"
    }
   ],
   "source": [
    "lm= sm.OLS(y,X) # burada normalite varsayımına gerek duymuyoruz.\n",
    "model = lm.fit()\n",
    "model.summary()\n"
   ]
  },
  {
   "cell_type": "markdown",
   "metadata": {},
   "source": [
    " "
   ]
  },
  {
   "cell_type": "markdown",
   "metadata": {},
   "source": [
    " y (50_target) = B0(0.0197 )+ 0.8826(90_target)"
   ]
  },
  {
   "cell_type": "markdown",
   "metadata": {},
   "source": [
    "%88 oranında kurduğum regresyon modeli içerdeki dataların varyasyonlarını açıklamakta yeterlidir.. F-statistic değeri yüksektir. B1 değeri 0 dan farklı ve anlamlıdır.90_target değeri anlamlıdır."
   ]
  },
  {
   "cell_type": "code",
   "execution_count": 159,
   "metadata": {},
   "outputs": [],
   "source": [
    "lm= sm.OLS(y,X) \n",
    "model = lm.fit()"
   ]
  },
  {
   "cell_type": "code",
   "execution_count": 160,
   "metadata": {},
   "outputs": [
    {
     "data": {
      "text/plain": [
       "<statsmodels.stats.outliers_influence.OLSInfluence at 0x1ef55684888>"
      ]
     },
     "execution_count": 160,
     "metadata": {},
     "output_type": "execute_result"
    }
   ],
   "source": [
    "influence = model.get_influence()\n",
    "influence"
   ]
  },
  {
   "cell_type": "code",
   "execution_count": 293,
   "metadata": {},
   "outputs": [],
   "source": [
    "resid_student= influence.resid_studentized_external"
   ]
  },
  {
   "cell_type": "code",
   "execution_count": 294,
   "metadata": {},
   "outputs": [],
   "source": [
    "import seaborn as sns"
   ]
  },
  {
   "cell_type": "code",
   "execution_count": 298,
   "metadata": {},
   "outputs": [
    {
     "name": "stdout",
     "output_type": "stream",
     "text": [
      "Leverage vs Studentized Residuals\n"
     ]
    },
    {
     "ename": "AttributeError",
     "evalue": "'LinearRegression' object has no attribute 'resid_pearson'",
     "output_type": "error",
     "traceback": [
      "\u001b[1;31m---------------------------------------------------------------------------\u001b[0m",
      "\u001b[1;31mAttributeError\u001b[0m                            Traceback (most recent call last)",
      "\u001b[1;32m<ipython-input-298-ca543d149eb7>\u001b[0m in \u001b[0;36m<module>\u001b[1;34m\u001b[0m\n\u001b[0;32m      3\u001b[0m \u001b[0mleverage\u001b[0m \u001b[1;33m=\u001b[0m \u001b[0minfluence\u001b[0m\u001b[1;33m.\u001b[0m\u001b[0mhat_matrix_diag\u001b[0m\u001b[1;33m\u001b[0m\u001b[1;33m\u001b[0m\u001b[0m\n\u001b[0;32m      4\u001b[0m \u001b[0mprint\u001b[0m \u001b[1;33m(\u001b[0m\u001b[1;34m'Leverage vs Studentized Residuals'\u001b[0m\u001b[1;33m)\u001b[0m\u001b[1;33m\u001b[0m\u001b[1;33m\u001b[0m\u001b[0m\n\u001b[1;32m----> 5\u001b[1;33m \u001b[0msns\u001b[0m\u001b[1;33m.\u001b[0m\u001b[0mregplot\u001b[0m \u001b[1;33m(\u001b[0m\u001b[0mleverage\u001b[0m\u001b[1;33m,\u001b[0m \u001b[0mmodel\u001b[0m\u001b[1;33m.\u001b[0m\u001b[0mresid_pearson\u001b[0m\u001b[1;33m,\u001b[0m \u001b[0mfit_reg\u001b[0m\u001b[1;33m=\u001b[0m \u001b[1;32mFalse\u001b[0m\u001b[1;33m)\u001b[0m\u001b[1;33m\u001b[0m\u001b[1;33m\u001b[0m\u001b[0m\n\u001b[0m",
      "\u001b[1;31mAttributeError\u001b[0m: 'LinearRegression' object has no attribute 'resid_pearson'"
     ]
    }
   ],
   "source": [
    "(cooks, p) = influence.cooks_distance \n",
    "(dffits, p) = influence.dffits\n",
    "leverage = influence.hat_matrix_diag\n",
    "print ('Leverage vs Studentized Residuals') \n",
    "sns.regplot (leverage, model.resid_pearson, fit_reg= False)"
   ]
  },
  {
   "cell_type": "code",
   "execution_count": null,
   "metadata": {},
   "outputs": [],
   "source": [
    "(cooks, p) = influence.cooks_distance \n",
    "(dffits, p) = influence.datafits\n",
    "leverage = influence.hat_matrix_diag\n",
    "print ('Leverage vs Studentized Residuals') \n",
    "sns.regplot (leverage, model.resid_pearson, fit_reg= False)"
   ]
  },
  {
   "cell_type": "code",
   "execution_count": 164,
   "metadata": {},
   "outputs": [],
   "source": [
    "import numpy as np\n",
    "import pandas as pd\n",
    "import seaborn as sns"
   ]
  },
  {
   "cell_type": "code",
   "execution_count": 165,
   "metadata": {},
   "outputs": [
    {
     "data": {
      "text/plain": [
       "<matplotlib.axes._subplots.AxesSubplot at 0x1ef558db108>"
      ]
     },
     "execution_count": 165,
     "metadata": {},
     "output_type": "execute_result"
    },
    {
     "data": {
      "image/png": "[encoded data removed]",
      "text/plain": [
       "<Figure size 432x288 with 1 Axes>"
      ]
     },
     "metadata": {
      "needs_background": "light"
     },
     "output_type": "display_data"
    }
   ],
   "source": [
    "### Residual yani artık değerler için normalite testlerinin yapılması.\n",
    "#Model residuallarından tahmin ettiklerimizi getirmesini istedik.\n",
    "advres = pd.concat([ad, pd.Series (model.resid, name= 'resid'), pd.Series (model.predict() , name= \"predict\")] ,axis=1)\n",
    "sns.kdeplot (np.array (advres.resid), bw=10)\n"
   ]
  },
  {
   "cell_type": "code",
   "execution_count": 166,
   "metadata": {},
   "outputs": [
    {
     "data": {
      "text/plain": [
       "<matplotlib.axes._subplots.AxesSubplot at 0x1ef558fcec8>"
      ]
     },
     "execution_count": 166,
     "metadata": {},
     "output_type": "execute_result"
    },
    {
     "data": {
      "image/png": "[encoded data removed]",
      "text/plain": [
       "<Figure size 432x288 with 1 Axes>"
      ]
     },
     "metadata": {
      "needs_background": "light"
     },
     "output_type": "display_data"
    }
   ],
   "source": [
    "sns.distplot(np.array (advres.resid), hist=False)  "
   ]
  },
  {
   "cell_type": "code",
   "execution_count": 151,
   "metadata": {},
   "outputs": [],
   "source": [
    "#Residual değerlerim -80 ve 60 arasında dağılıyor. -80 ve 0 arasında değerler çok aşağıda burada aşırı hatalar görüyoruz.Modelim buraları tahmin etmede sorunlar yaşıyor ve çok iyi çalışmıyor sonucuna varabiliriz."
   ]
  },
  {
   "cell_type": "code",
   "execution_count": 167,
   "metadata": {},
   "outputs": [
    {
     "data": {
      "image/png": "[encoded data removed]",
      "text/plain": [
       "<Figure size 432x288 with 1 Axes>"
      ]
     },
     "metadata": {
      "needs_background": "light"
     },
     "output_type": "display_data"
    }
   ],
   "source": [
    "import pylab     #Normal dağılımdan gelip gelmediğine bakacağız.\n",
    "stats.probplot(advres.resid, dist=\"norm\" , plot= pylab)\n",
    "pylab.show()"
   ]
  },
  {
   "cell_type": "code",
   "execution_count": 153,
   "metadata": {},
   "outputs": [],
   "source": [
    "#Burada modeldeki error değerlerin olması gerektiği gibi standart dağılıma sahip olmadığını görüyoruz ve çok fazla aykırı gözlem olduğunu saptıyoruz."
   ]
  },
  {
   "cell_type": "code",
   "execution_count": 168,
   "metadata": {},
   "outputs": [
    {
     "data": {
      "text/plain": [
       "DescribeResult(nobs=6167, minmax=(-70.47024059741415, 70.20586514574872), mean=0.019501826999345537, variance=136.96787927596597, skewness=0.21482921890951762, kurtosis=18.005749262159366)"
      ]
     },
     "execution_count": 168,
     "metadata": {},
     "output_type": "execute_result"
    }
   ],
   "source": [
    "stats.describe(advres.resid)"
   ]
  },
  {
   "cell_type": "code",
   "execution_count": 169,
   "metadata": {},
   "outputs": [
    {
     "name": "stdout",
     "output_type": "stream",
     "text": [
      "Errorlar normal dağılımdan gelmemektedir.(Reject H0)\n"
     ]
    },
    {
     "name": "stderr",
     "output_type": "stream",
     "text": [
      "C:\\Users\\msaka\\Anaconda3\\lib\\site-packages\\scipy\\stats\\morestats.py:1676: UserWarning: p-value may not be accurate for N > 5000.\n",
      "  warnings.warn(\"p-value may not be accurate for N > 5000.\")\n"
     ]
    }
   ],
   "source": [
    "#Hatalarımın normal dağılımdan gelip gelmediğini üstteki grafiklerden anlamaya çalıştık ama Shapiro Test ile kanıtlayacağız.\n",
    "\n",
    "from scipy.stats import shapiro\n",
    "stat, p= shapiro(advres.resid)\n",
    "alpha =0.05\n",
    "if p > alpha:\n",
    "    print ('Errorlar normal dağılımdan gelmektedir.(Fail to reject H0)')\n",
    "else:\n",
    "    print ('Errorlar normal dağılımdan gelmemektedir.(Reject H0)')\n"
   ]
  },
  {
   "cell_type": "code",
   "execution_count": 170,
   "metadata": {},
   "outputs": [],
   "source": [
    "## Modelde hatalar normal dağılımdan gelmemektedir,modelin açıklayıcılığı düşüktür."
   ]
  },
  {
   "cell_type": "code",
   "execution_count": 171,
   "metadata": {},
   "outputs": [
    {
     "data": {
      "text/plain": [
       "<matplotlib.collections.PathCollection at 0x1ef55c3f988>"
      ]
     },
     "execution_count": 171,
     "metadata": {},
     "output_type": "execute_result"
    },
    {
     "data": {
      "image/png": "[encoded data removed]",
      "text/plain": [
       "<Figure size 432x288 with 1 Axes>"
      ]
     },
     "metadata": {
      "needs_background": "light"
     },
     "output_type": "display_data"
    }
   ],
   "source": [
    "resid = model.resid  #prediction yaptıktan sonra errorlar nasıl dağılıyor,bunu gösterir.Küçük gözlemlerimde daha aşırı değerlere rastlıyorum.\n",
    "plt.scatter(model.predict() , resid )"
   ]
  },
  {
   "cell_type": "code",
   "execution_count": 172,
   "metadata": {},
   "outputs": [
    {
     "data": {
      "text/plain": [
       "Text(0.5, 0, '90_target')"
      ]
     },
     "execution_count": 172,
     "metadata": {},
     "output_type": "execute_result"
    },
    {
     "data": {
      "image/png": "[encoded data removed]",
      "text/plain": [
       "<Figure size 432x288 with 1 Axes>"
      ]
     },
     "metadata": {
      "needs_background": "light"
     },
     "output_type": "display_data"
    }
   ],
   "source": [
    "g = sns.regplot(df[\"50_target\"] , df[\"90_target\"] , ci=None , scatter_kws ={\"color\" : \"r\", \"s\":9})\n",
    "g.set_title(\"model denklemi 50_target = 0.019660 + 90_target*0.88 \")\n",
    "g.set_ylabel(\"50_target\")\n",
    "g.set_xlabel(\"90_target\")"
   ]
  },
  {
   "cell_type": "code",
   "execution_count": 173,
   "metadata": {},
   "outputs": [],
   "source": [
    "from sklearn.linear_model import LinearRegression"
   ]
  },
  {
   "cell_type": "code",
   "execution_count": 174,
   "metadata": {},
   "outputs": [],
   "source": [
    "X = df[[\"90_target\"]]\n",
    "y = df[[\"50_target\"]]\n",
    "reg = LinearRegression()"
   ]
  },
  {
   "cell_type": "code",
   "execution_count": 175,
   "metadata": {},
   "outputs": [
    {
     "data": {
      "text/plain": [
       "LinearRegression(copy_X=True, fit_intercept=True, n_jobs=None, normalize=False)"
      ]
     },
     "execution_count": 175,
     "metadata": {},
     "output_type": "execute_result"
    }
   ],
   "source": [
    "model = reg.fit(X,y)\n",
    "model"
   ]
  },
  {
   "cell_type": "code",
   "execution_count": 176,
   "metadata": {},
   "outputs": [
    {
     "data": {
      "text/plain": [
       "array([0.01965975])"
      ]
     },
     "execution_count": 176,
     "metadata": {},
     "output_type": "execute_result"
    }
   ],
   "source": [
    "model.intercept_"
   ]
  },
  {
   "cell_type": "code",
   "execution_count": 177,
   "metadata": {},
   "outputs": [
    {
     "data": {
      "text/plain": [
       "array([[0.88264078]])"
      ]
     },
     "execution_count": 177,
     "metadata": {},
     "output_type": "execute_result"
    }
   ],
   "source": [
    "model.coef_"
   ]
  },
  {
   "cell_type": "code",
   "execution_count": 178,
   "metadata": {},
   "outputs": [
    {
     "data": {
      "text/plain": [
       "0.8853228631145045"
      ]
     },
     "execution_count": 178,
     "metadata": {},
     "output_type": "execute_result"
    }
   ],
   "source": [
    "model.score(X,y)"
   ]
  },
  {
   "cell_type": "code",
   "execution_count": 179,
   "metadata": {},
   "outputs": [
    {
     "data": {
      "text/plain": [
       "array([[-32.73076145],\n",
       "       [-32.73917284]])"
      ]
     },
     "execution_count": 179,
     "metadata": {},
     "output_type": "execute_result"
    }
   ],
   "source": [
    "model.predict(X)[134:136]"
   ]
  },
  {
   "cell_type": "code",
   "execution_count": 180,
   "metadata": {},
   "outputs": [],
   "source": [
    "yeni_veri = [[133],[134],[135]]\n"
   ]
  },
  {
   "cell_type": "code",
   "execution_count": 181,
   "metadata": {},
   "outputs": [
    {
     "data": {
      "text/plain": [
       "array([[117.41088316],\n",
       "       [118.29352394],\n",
       "       [119.17616472]])"
      ]
     },
     "execution_count": 181,
     "metadata": {},
     "output_type": "execute_result"
    }
   ],
   "source": [
    "model.predict(yeni_veri)"
   ]
  },
  {
   "cell_type": "code",
   "execution_count": null,
   "metadata": {},
   "outputs": [],
   "source": []
  },
  {
   "cell_type": "code",
   "execution_count": null,
   "metadata": {},
   "outputs": [],
   "source": []
  },
  {
   "cell_type": "markdown",
   "metadata": {},
   "source": [
    "# TAHMİN İÇİN YENİ DENEME MODELİ"
   ]
  },
  {
   "cell_type": "code",
   "execution_count": 202,
   "metadata": {},
   "outputs": [],
   "source": [
    "import statsmodels.api as sm"
   ]
  },
  {
   "cell_type": "code",
   "execution_count": 203,
   "metadata": {},
   "outputs": [
    {
     "data": {
      "text/html": [
       "<div>\n",
       "<style scoped>\n",
       "    .dataframe tbody tr th:only-of-type {\n",
       "        vertical-align: middle;\n",
       "    }\n",
       "\n",
       "    .dataframe tbody tr th {\n",
       "        vertical-align: top;\n",
       "    }\n",
       "\n",
       "    .dataframe thead th {\n",
       "        text-align: right;\n",
       "    }\n",
       "</style>\n",
       "<table border=\"1\" class=\"dataframe\">\n",
       "  <thead>\n",
       "    <tr style=\"text-align: right;\">\n",
       "      <th></th>\n",
       "      <th>50_target</th>\n",
       "    </tr>\n",
       "  </thead>\n",
       "  <tbody>\n",
       "    <tr>\n",
       "      <th>0</th>\n",
       "      <td>35.625252</td>\n",
       "    </tr>\n",
       "    <tr>\n",
       "      <th>1</th>\n",
       "      <td>35.643013</td>\n",
       "    </tr>\n",
       "    <tr>\n",
       "      <th>2</th>\n",
       "      <td>35.651301</td>\n",
       "    </tr>\n",
       "    <tr>\n",
       "      <th>3</th>\n",
       "      <td>0.000000</td>\n",
       "    </tr>\n",
       "    <tr>\n",
       "      <th>4</th>\n",
       "      <td>-35.727079</td>\n",
       "    </tr>\n",
       "  </tbody>\n",
       "</table>\n",
       "</div>"
      ],
      "text/plain": [
       "   50_target\n",
       "0  35.625252\n",
       "1  35.643013\n",
       "2  35.651301\n",
       "3   0.000000\n",
       "4 -35.727079"
      ]
     },
     "execution_count": 203,
     "metadata": {},
     "output_type": "execute_result"
    }
   ],
   "source": [
    "X = df[[\"50_target\"]]\n",
    "X[0:5]"
   ]
  },
  {
   "cell_type": "code",
   "execution_count": 204,
   "metadata": {},
   "outputs": [],
   "source": [
    "X = sm.add_constant(X)"
   ]
  },
  {
   "cell_type": "code",
   "execution_count": 205,
   "metadata": {},
   "outputs": [
    {
     "data": {
      "text/html": [
       "<div>\n",
       "<style scoped>\n",
       "    .dataframe tbody tr th:only-of-type {\n",
       "        vertical-align: middle;\n",
       "    }\n",
       "\n",
       "    .dataframe tbody tr th {\n",
       "        vertical-align: top;\n",
       "    }\n",
       "\n",
       "    .dataframe thead th {\n",
       "        text-align: right;\n",
       "    }\n",
       "</style>\n",
       "<table border=\"1\" class=\"dataframe\">\n",
       "  <thead>\n",
       "    <tr style=\"text-align: right;\">\n",
       "      <th></th>\n",
       "      <th>const</th>\n",
       "      <th>50_target</th>\n",
       "    </tr>\n",
       "  </thead>\n",
       "  <tbody>\n",
       "    <tr>\n",
       "      <th>0</th>\n",
       "      <td>1.0</td>\n",
       "      <td>35.625252</td>\n",
       "    </tr>\n",
       "    <tr>\n",
       "      <th>1</th>\n",
       "      <td>1.0</td>\n",
       "      <td>35.643013</td>\n",
       "    </tr>\n",
       "    <tr>\n",
       "      <th>2</th>\n",
       "      <td>1.0</td>\n",
       "      <td>35.651301</td>\n",
       "    </tr>\n",
       "    <tr>\n",
       "      <th>3</th>\n",
       "      <td>1.0</td>\n",
       "      <td>0.000000</td>\n",
       "    </tr>\n",
       "    <tr>\n",
       "      <th>4</th>\n",
       "      <td>1.0</td>\n",
       "      <td>-35.727079</td>\n",
       "    </tr>\n",
       "  </tbody>\n",
       "</table>\n",
       "</div>"
      ],
      "text/plain": [
       "   const  50_target\n",
       "0    1.0  35.625252\n",
       "1    1.0  35.643013\n",
       "2    1.0  35.651301\n",
       "3    1.0   0.000000\n",
       "4    1.0 -35.727079"
      ]
     },
     "execution_count": 205,
     "metadata": {},
     "output_type": "execute_result"
    }
   ],
   "source": [
    "X[0:5]"
   ]
  },
  {
   "cell_type": "code",
   "execution_count": 207,
   "metadata": {},
   "outputs": [],
   "source": [
    "y = df[\"90_target\"]"
   ]
  },
  {
   "cell_type": "code",
   "execution_count": 208,
   "metadata": {},
   "outputs": [
    {
     "data": {
      "text/plain": [
       "0    36.997753\n",
       "1    37.016198\n",
       "2   -37.024805\n",
       "3   -37.040483\n",
       "4   -37.103503\n",
       "Name: 90_target, dtype: float64"
      ]
     },
     "execution_count": 208,
     "metadata": {},
     "output_type": "execute_result"
    }
   ],
   "source": [
    "y[0:5]"
   ]
  },
  {
   "cell_type": "code",
   "execution_count": 209,
   "metadata": {},
   "outputs": [],
   "source": [
    "lm = sm.OLS(y,X)"
   ]
  },
  {
   "cell_type": "code",
   "execution_count": 210,
   "metadata": {},
   "outputs": [],
   "source": [
    "model = lm.fit()"
   ]
  },
  {
   "cell_type": "code",
   "execution_count": 211,
   "metadata": {},
   "outputs": [
    {
     "data": {
      "text/html": [
       "<table class=\"simpletable\">\n",
       "<caption>OLS Regression Results</caption>\n",
       "<tr>\n",
       "  <th>Dep. Variable:</th>        <td>90_target</td>    <th>  R-squared:         </th> <td>   0.885</td> \n",
       "</tr>\n",
       "<tr>\n",
       "  <th>Model:</th>                   <td>OLS</td>       <th>  Adj. R-squared:    </th> <td>   0.885</td> \n",
       "</tr>\n",
       "<tr>\n",
       "  <th>Method:</th>             <td>Least Squares</td>  <th>  F-statistic:       </th> <td>4.759e+04</td>\n",
       "</tr>\n",
       "<tr>\n",
       "  <th>Date:</th>             <td>Thu, 23 Jul 2020</td> <th>  Prob (F-statistic):</th>  <td>  0.00</td>  \n",
       "</tr>\n",
       "<tr>\n",
       "  <th>Time:</th>                 <td>16:35:27</td>     <th>  Log-Likelihood:    </th> <td> -24314.</td> \n",
       "</tr>\n",
       "<tr>\n",
       "  <th>No. Observations:</th>      <td>  6167</td>      <th>  AIC:               </th> <td>4.863e+04</td>\n",
       "</tr>\n",
       "<tr>\n",
       "  <th>Df Residuals:</th>          <td>  6165</td>      <th>  BIC:               </th> <td>4.865e+04</td>\n",
       "</tr>\n",
       "<tr>\n",
       "  <th>Df Model:</th>              <td>     1</td>      <th>                     </th>     <td> </td>    \n",
       "</tr>\n",
       "<tr>\n",
       "  <th>Covariance Type:</th>      <td>nonrobust</td>    <th>                     </th>     <td> </td>    \n",
       "</tr>\n",
       "</table>\n",
       "<table class=\"simpletable\">\n",
       "<tr>\n",
       "      <td></td>         <th>coef</th>     <th>std err</th>      <th>t</th>      <th>P>|t|</th>  <th>[0.025</th>    <th>0.975]</th>  \n",
       "</tr>\n",
       "<tr>\n",
       "  <th>const</th>     <td>   -0.3999</td> <td>    0.159</td> <td>   -2.508</td> <td> 0.012</td> <td>   -0.712</td> <td>   -0.087</td>\n",
       "</tr>\n",
       "<tr>\n",
       "  <th>50_target</th> <td>    1.0030</td> <td>    0.005</td> <td>  218.162</td> <td> 0.000</td> <td>    0.994</td> <td>    1.012</td>\n",
       "</tr>\n",
       "</table>\n",
       "<table class=\"simpletable\">\n",
       "<tr>\n",
       "  <th>Omnibus:</th>       <td>1502.927</td> <th>  Durbin-Watson:     </th> <td>   1.109</td> \n",
       "</tr>\n",
       "<tr>\n",
       "  <th>Prob(Omnibus):</th>  <td> 0.000</td>  <th>  Jarque-Bera (JB):  </th> <td>91025.196</td>\n",
       "</tr>\n",
       "<tr>\n",
       "  <th>Skew:</th>           <td>-0.163</td>  <th>  Prob(JB):          </th> <td>    0.00</td> \n",
       "</tr>\n",
       "<tr>\n",
       "  <th>Kurtosis:</th>       <td>21.818</td>  <th>  Cond. No.          </th> <td>    34.8</td> \n",
       "</tr>\n",
       "</table><br/><br/>Warnings:<br/>[1] Standard Errors assume that the covariance matrix of the errors is correctly specified."
      ],
      "text/plain": [
       "<class 'statsmodels.iolib.summary.Summary'>\n",
       "\"\"\"\n",
       "                            OLS Regression Results                            \n",
       "==============================================================================\n",
       "Dep. Variable:              90_target   R-squared:                       0.885\n",
       "Model:                            OLS   Adj. R-squared:                  0.885\n",
       "Method:                 Least Squares   F-statistic:                 4.759e+04\n",
       "Date:                Thu, 23 Jul 2020   Prob (F-statistic):               0.00\n",
       "Time:                        16:35:27   Log-Likelihood:                -24314.\n",
       "No. Observations:                6167   AIC:                         4.863e+04\n",
       "Df Residuals:                    6165   BIC:                         4.865e+04\n",
       "Df Model:                           1                                         \n",
       "Covariance Type:            nonrobust                                         \n",
       "==============================================================================\n",
       "                 coef    std err          t      P>|t|      [0.025      0.975]\n",
       "------------------------------------------------------------------------------\n",
       "const         -0.3999      0.159     -2.508      0.012      -0.712      -0.087\n",
       "50_target      1.0030      0.005    218.162      0.000       0.994       1.012\n",
       "==============================================================================\n",
       "Omnibus:                     1502.927   Durbin-Watson:                   1.109\n",
       "Prob(Omnibus):                  0.000   Jarque-Bera (JB):            91025.196\n",
       "Skew:                          -0.163   Prob(JB):                         0.00\n",
       "Kurtosis:                      21.818   Cond. No.                         34.8\n",
       "==============================================================================\n",
       "\n",
       "Warnings:\n",
       "[1] Standard Errors assume that the covariance matrix of the errors is correctly specified.\n",
       "\"\"\""
      ]
     },
     "execution_count": 211,
     "metadata": {},
     "output_type": "execute_result"
    }
   ],
   "source": [
    "model.summary()"
   ]
  },
  {
   "cell_type": "code",
   "execution_count": 213,
   "metadata": {},
   "outputs": [
    {
     "data": {
      "text/plain": [
       "const       -0.399883\n",
       "50_target    1.003039\n",
       "dtype: float64"
      ]
     },
     "execution_count": 213,
     "metadata": {},
     "output_type": "execute_result"
    }
   ],
   "source": [
    "model.params"
   ]
  },
  {
   "cell_type": "code",
   "execution_count": 214,
   "metadata": {},
   "outputs": [
    {
     "data": {
      "text/html": [
       "<table class=\"simpletable\">\n",
       "<tr>\n",
       "      <td></td>         <th>coef</th>     <th>std err</th>      <th>t</th>      <th>P>|t|</th>  <th>[0.025</th>    <th>0.975]</th>  \n",
       "</tr>\n",
       "<tr>\n",
       "  <th>const</th>     <td>   -0.3999</td> <td>    0.159</td> <td>   -2.508</td> <td> 0.012</td> <td>   -0.712</td> <td>   -0.087</td>\n",
       "</tr>\n",
       "<tr>\n",
       "  <th>50_target</th> <td>    1.0030</td> <td>    0.005</td> <td>  218.162</td> <td> 0.000</td> <td>    0.994</td> <td>    1.012</td>\n",
       "</tr>\n",
       "</table>"
      ],
      "text/plain": [
       "<class 'statsmodels.iolib.table.SimpleTable'>"
      ]
     },
     "execution_count": 214,
     "metadata": {},
     "output_type": "execute_result"
    }
   ],
   "source": [
    "model.summary().tables[1]"
   ]
  },
  {
   "cell_type": "code",
   "execution_count": 215,
   "metadata": {},
   "outputs": [
    {
     "data": {
      "text/html": [
       "<div>\n",
       "<style scoped>\n",
       "    .dataframe tbody tr th:only-of-type {\n",
       "        vertical-align: middle;\n",
       "    }\n",
       "\n",
       "    .dataframe tbody tr th {\n",
       "        vertical-align: top;\n",
       "    }\n",
       "\n",
       "    .dataframe thead th {\n",
       "        text-align: right;\n",
       "    }\n",
       "</style>\n",
       "<table border=\"1\" class=\"dataframe\">\n",
       "  <thead>\n",
       "    <tr style=\"text-align: right;\">\n",
       "      <th></th>\n",
       "      <th>0</th>\n",
       "      <th>1</th>\n",
       "    </tr>\n",
       "  </thead>\n",
       "  <tbody>\n",
       "    <tr>\n",
       "      <th>const</th>\n",
       "      <td>-0.712446</td>\n",
       "      <td>-0.087319</td>\n",
       "    </tr>\n",
       "    <tr>\n",
       "      <th>50_target</th>\n",
       "      <td>0.994026</td>\n",
       "      <td>1.012052</td>\n",
       "    </tr>\n",
       "  </tbody>\n",
       "</table>\n",
       "</div>"
      ],
      "text/plain": [
       "                  0         1\n",
       "const     -0.712446 -0.087319\n",
       "50_target  0.994026  1.012052"
      ]
     },
     "execution_count": 215,
     "metadata": {},
     "output_type": "execute_result"
    }
   ],
   "source": [
    "model.conf_int()"
   ]
  },
  {
   "cell_type": "code",
   "execution_count": 216,
   "metadata": {},
   "outputs": [
    {
     "data": {
      "text/plain": [
       "0.0"
      ]
     },
     "execution_count": 216,
     "metadata": {},
     "output_type": "execute_result"
    }
   ],
   "source": [
    "model.f_pvalue"
   ]
  },
  {
   "cell_type": "code",
   "execution_count": 217,
   "metadata": {},
   "outputs": [
    {
     "name": "stdout",
     "output_type": "stream",
     "text": [
      "f_pvalue:  0.0000\n"
     ]
    }
   ],
   "source": [
    "print(\"f_pvalue: \", \"%.4f\" % model.f_pvalue)"
   ]
  },
  {
   "cell_type": "code",
   "execution_count": 218,
   "metadata": {},
   "outputs": [
    {
     "name": "stdout",
     "output_type": "stream",
     "text": [
      "fvalue:  47594.63\n"
     ]
    }
   ],
   "source": [
    "print(\"fvalue: \", \"%.2f\" % model.fvalue)"
   ]
  },
  {
   "cell_type": "code",
   "execution_count": 219,
   "metadata": {},
   "outputs": [
    {
     "name": "stdout",
     "output_type": "stream",
     "text": [
      "tvalue:  -2.51\n"
     ]
    }
   ],
   "source": [
    "print(\"tvalue: \", \"%.2f\" % model.tvalues[0:1])"
   ]
  },
  {
   "cell_type": "code",
   "execution_count": 220,
   "metadata": {},
   "outputs": [
    {
     "data": {
      "text/plain": [
       "0.8853042617946528"
      ]
     },
     "execution_count": 220,
     "metadata": {},
     "output_type": "execute_result"
    }
   ],
   "source": [
    "model.rsquared_adj"
   ]
  },
  {
   "cell_type": "code",
   "execution_count": 221,
   "metadata": {},
   "outputs": [
    {
     "data": {
      "text/plain": [
       "0    35.333624\n",
       "1    35.351439\n",
       "2    35.359752\n",
       "3    -0.399883\n",
       "4   -36.235526\n",
       "dtype: float64"
      ]
     },
     "execution_count": 221,
     "metadata": {},
     "output_type": "execute_result"
    }
   ],
   "source": [
    "model.fittedvalues[0:5]"
   ]
  },
  {
   "cell_type": "code",
   "execution_count": 222,
   "metadata": {},
   "outputs": [
    {
     "data": {
      "text/plain": [
       "0    36.997753\n",
       "1    37.016198\n",
       "2   -37.024805\n",
       "3   -37.040483\n",
       "4   -37.103503\n",
       "Name: 90_target, dtype: float64"
      ]
     },
     "execution_count": 222,
     "metadata": {},
     "output_type": "execute_result"
    }
   ],
   "source": [
    "y[0:5]"
   ]
  },
  {
   "cell_type": "code",
   "execution_count": 235,
   "metadata": {},
   "outputs": [
    {
     "name": "stdout",
     "output_type": "stream",
     "text": [
      "90_target = -0.399883 + 50_target*1.003039\n"
     ]
    }
   ],
   "source": [
    "print(\"90_target = \" +  str(\"%.6f\" % model.params[0]) + \" + 50_target\" + \"*\" + str(\"%.6f\" % model.params[1]))"
   ]
  },
  {
   "cell_type": "code",
   "execution_count": 236,
   "metadata": {},
   "outputs": [
    {
     "data": {
      "image/png": "[encoded data removed]",
      "text/plain": [
       "<Figure size 432x288 with 1 Axes>"
      ]
     },
     "metadata": {
      "needs_background": "light"
     },
     "output_type": "display_data"
    }
   ],
   "source": [
    "g = sns.regplot(df[\"50_target\"], df[\"90_target\"], ci=None, scatter_kws={'color':'r', 's':9})\n",
    "g.set_title(\"Model Denklemi: 90_target = -0.399883 + 50_target*1.003039\")\n",
    "g.set_ylabel(\"90_target sütunu\")\n",
    "g.set_xlabel(\"50_target sütunu\")\n",
    "import matplotlib.pyplot as plt\n",
    "plt.xlim(-10,90)\n",
    "plt.ylim(bottom=0);"
   ]
  },
  {
   "cell_type": "code",
   "execution_count": 303,
   "metadata": {},
   "outputs": [
    {
     "data": {
      "text/plain": [
       "<matplotlib.axes._subplots.AxesSubplot at 0x1ef5984bec8>"
      ]
     },
     "execution_count": 303,
     "metadata": {},
     "output_type": "execute_result"
    },
    {
     "data": {
      "image/png": "[encoded data removed]",
      "text/plain": [
       "<Figure size 432x288 with 1 Axes>"
      ]
     },
     "metadata": {
      "needs_background": "light"
     },
     "output_type": "display_data"
    }
   ],
   "source": [
    "sns.regplot(df[\"50_target\"], df[\"90_target\"], ci = None , scatter_kws={'color' :'r','s' : 9} )"
   ]
  },
  {
   "cell_type": "code",
   "execution_count": 237,
   "metadata": {},
   "outputs": [],
   "source": [
    "from sklearn.linear_model import LinearRegression"
   ]
  },
  {
   "cell_type": "code",
   "execution_count": 238,
   "metadata": {},
   "outputs": [
    {
     "data": {
      "text/plain": [
       "array([1.00303871])"
      ]
     },
     "execution_count": 238,
     "metadata": {},
     "output_type": "execute_result"
    }
   ],
   "source": [
    "X = df[[\"50_target\"]]\n",
    "y = df[\"90_target\"]\n",
    "reg = LinearRegression()\n",
    "model = reg.fit(X, y)\n",
    "model.intercept_\n",
    "model.coef_"
   ]
  },
  {
   "cell_type": "code",
   "execution_count": 239,
   "metadata": {},
   "outputs": [
    {
     "data": {
      "text/plain": [
       "0.8853228631145045"
      ]
     },
     "execution_count": 239,
     "metadata": {},
     "output_type": "execute_result"
    }
   ],
   "source": [
    "model.score(X,y)"
   ]
  },
  {
   "cell_type": "code",
   "execution_count": 240,
   "metadata": {},
   "outputs": [
    {
     "data": {
      "text/plain": [
       "array([ 35.33362433,  35.35143882,  35.35975225,  -0.3998825 ,\n",
       "       -36.23552578, -36.23047834, -36.22899379, -36.22097727,\n",
       "       -36.20227205, -36.20791331])"
      ]
     },
     "execution_count": 240,
     "metadata": {},
     "output_type": "execute_result"
    }
   ],
   "source": [
    "model.predict(X)[0:10]"
   ]
  },
  {
   "cell_type": "code",
   "execution_count": 241,
   "metadata": {},
   "outputs": [
    {
     "data": {
      "text/plain": [
       "49.752067"
      ]
     },
     "execution_count": 241,
     "metadata": {},
     "output_type": "execute_result"
    }
   ],
   "source": [
    "-0.399883 + 50*1.003039"
   ]
  },
  {
   "cell_type": "code",
   "execution_count": 242,
   "metadata": {},
   "outputs": [],
   "source": [
    "X = df[[\"50_target\"]]\n",
    "y = df[\"90_target\"]\n",
    "reg = LinearRegression()\n",
    "model = reg.fit(X, y)"
   ]
  },
  {
   "cell_type": "code",
   "execution_count": 243,
   "metadata": {},
   "outputs": [
    {
     "data": {
      "text/plain": [
       "array([49.75205279])"
      ]
     },
     "execution_count": 243,
     "metadata": {},
     "output_type": "execute_result"
    }
   ],
   "source": [
    "model.predict([[50]])"
   ]
  },
  {
   "cell_type": "code",
   "execution_count": 244,
   "metadata": {},
   "outputs": [],
   "source": [
    "yeni_veri = [[5],[90],[200]]"
   ]
  },
  {
   "cell_type": "code",
   "execution_count": 245,
   "metadata": {},
   "outputs": [
    {
     "data": {
      "text/plain": [
       "array([  4.61531103,  89.87360102, 200.20785865])"
      ]
     },
     "execution_count": 245,
     "metadata": {},
     "output_type": "execute_result"
    }
   ],
   "source": [
    "model.predict(yeni_veri)"
   ]
  },
  {
   "cell_type": "markdown",
   "metadata": {},
   "source": [
    "# HATA VE HATA KARELER"
   ]
  },
  {
   "cell_type": "code",
   "execution_count": 247,
   "metadata": {},
   "outputs": [],
   "source": [
    "from sklearn.metrics import mean_squared_error, r2_score"
   ]
  },
  {
   "cell_type": "code",
   "execution_count": 249,
   "metadata": {},
   "outputs": [],
   "source": [
    "import statsmodels.api as sm"
   ]
  },
  {
   "cell_type": "code",
   "execution_count": 251,
   "metadata": {},
   "outputs": [],
   "source": [
    "X = df[[\"50_target\"]]\n",
    "X = sm.add_constant(X)"
   ]
  },
  {
   "cell_type": "code",
   "execution_count": 252,
   "metadata": {},
   "outputs": [],
   "source": [
    "y = df[\"90_target\"]"
   ]
  },
  {
   "cell_type": "code",
   "execution_count": 253,
   "metadata": {},
   "outputs": [
    {
     "data": {
      "text/html": [
       "<table class=\"simpletable\">\n",
       "<caption>OLS Regression Results</caption>\n",
       "<tr>\n",
       "  <th>Dep. Variable:</th>        <td>90_target</td>    <th>  R-squared:         </th> <td>   0.885</td> \n",
       "</tr>\n",
       "<tr>\n",
       "  <th>Model:</th>                   <td>OLS</td>       <th>  Adj. R-squared:    </th> <td>   0.885</td> \n",
       "</tr>\n",
       "<tr>\n",
       "  <th>Method:</th>             <td>Least Squares</td>  <th>  F-statistic:       </th> <td>4.759e+04</td>\n",
       "</tr>\n",
       "<tr>\n",
       "  <th>Date:</th>             <td>Thu, 23 Jul 2020</td> <th>  Prob (F-statistic):</th>  <td>  0.00</td>  \n",
       "</tr>\n",
       "<tr>\n",
       "  <th>Time:</th>                 <td>17:17:44</td>     <th>  Log-Likelihood:    </th> <td> -24314.</td> \n",
       "</tr>\n",
       "<tr>\n",
       "  <th>No. Observations:</th>      <td>  6167</td>      <th>  AIC:               </th> <td>4.863e+04</td>\n",
       "</tr>\n",
       "<tr>\n",
       "  <th>Df Residuals:</th>          <td>  6165</td>      <th>  BIC:               </th> <td>4.865e+04</td>\n",
       "</tr>\n",
       "<tr>\n",
       "  <th>Df Model:</th>              <td>     1</td>      <th>                     </th>     <td> </td>    \n",
       "</tr>\n",
       "<tr>\n",
       "  <th>Covariance Type:</th>      <td>nonrobust</td>    <th>                     </th>     <td> </td>    \n",
       "</tr>\n",
       "</table>\n",
       "<table class=\"simpletable\">\n",
       "<tr>\n",
       "      <td></td>         <th>coef</th>     <th>std err</th>      <th>t</th>      <th>P>|t|</th>  <th>[0.025</th>    <th>0.975]</th>  \n",
       "</tr>\n",
       "<tr>\n",
       "  <th>const</th>     <td>   -0.3999</td> <td>    0.159</td> <td>   -2.508</td> <td> 0.012</td> <td>   -0.712</td> <td>   -0.087</td>\n",
       "</tr>\n",
       "<tr>\n",
       "  <th>50_target</th> <td>    1.0030</td> <td>    0.005</td> <td>  218.162</td> <td> 0.000</td> <td>    0.994</td> <td>    1.012</td>\n",
       "</tr>\n",
       "</table>\n",
       "<table class=\"simpletable\">\n",
       "<tr>\n",
       "  <th>Omnibus:</th>       <td>1502.927</td> <th>  Durbin-Watson:     </th> <td>   1.109</td> \n",
       "</tr>\n",
       "<tr>\n",
       "  <th>Prob(Omnibus):</th>  <td> 0.000</td>  <th>  Jarque-Bera (JB):  </th> <td>91025.196</td>\n",
       "</tr>\n",
       "<tr>\n",
       "  <th>Skew:</th>           <td>-0.163</td>  <th>  Prob(JB):          </th> <td>    0.00</td> \n",
       "</tr>\n",
       "<tr>\n",
       "  <th>Kurtosis:</th>       <td>21.818</td>  <th>  Cond. No.          </th> <td>    34.8</td> \n",
       "</tr>\n",
       "</table><br/><br/>Warnings:<br/>[1] Standard Errors assume that the covariance matrix of the errors is correctly specified."
      ],
      "text/plain": [
       "<class 'statsmodels.iolib.summary.Summary'>\n",
       "\"\"\"\n",
       "                            OLS Regression Results                            \n",
       "==============================================================================\n",
       "Dep. Variable:              90_target   R-squared:                       0.885\n",
       "Model:                            OLS   Adj. R-squared:                  0.885\n",
       "Method:                 Least Squares   F-statistic:                 4.759e+04\n",
       "Date:                Thu, 23 Jul 2020   Prob (F-statistic):               0.00\n",
       "Time:                        17:17:44   Log-Likelihood:                -24314.\n",
       "No. Observations:                6167   AIC:                         4.863e+04\n",
       "Df Residuals:                    6165   BIC:                         4.865e+04\n",
       "Df Model:                           1                                         \n",
       "Covariance Type:            nonrobust                                         \n",
       "==============================================================================\n",
       "                 coef    std err          t      P>|t|      [0.025      0.975]\n",
       "------------------------------------------------------------------------------\n",
       "const         -0.3999      0.159     -2.508      0.012      -0.712      -0.087\n",
       "50_target      1.0030      0.005    218.162      0.000       0.994       1.012\n",
       "==============================================================================\n",
       "Omnibus:                     1502.927   Durbin-Watson:                   1.109\n",
       "Prob(Omnibus):                  0.000   Jarque-Bera (JB):            91025.196\n",
       "Skew:                          -0.163   Prob(JB):                         0.00\n",
       "Kurtosis:                      21.818   Cond. No.                         34.8\n",
       "==============================================================================\n",
       "\n",
       "Warnings:\n",
       "[1] Standard Errors assume that the covariance matrix of the errors is correctly specified.\n",
       "\"\"\""
      ]
     },
     "execution_count": 253,
     "metadata": {},
     "output_type": "execute_result"
    }
   ],
   "source": [
    "lm = sm.OLS(y,X)\n",
    "model = lm.fit()\n",
    "model.summary()"
   ]
  },
  {
   "cell_type": "code",
   "execution_count": 254,
   "metadata": {},
   "outputs": [],
   "source": [
    "mse = mean_squared_error(y, model.fittedvalues)"
   ]
  },
  {
   "cell_type": "code",
   "execution_count": 255,
   "metadata": {},
   "outputs": [
    {
     "data": {
      "text/plain": [
       "155.62594373262576"
      ]
     },
     "execution_count": 255,
     "metadata": {},
     "output_type": "execute_result"
    }
   ],
   "source": [
    "mse"
   ]
  },
  {
   "cell_type": "code",
   "execution_count": 256,
   "metadata": {},
   "outputs": [],
   "source": [
    "import numpy as np\n",
    "rmse = np.sqrt(mse)"
   ]
  },
  {
   "cell_type": "code",
   "execution_count": 257,
   "metadata": {},
   "outputs": [
    {
     "data": {
      "text/plain": [
       "12.4750127748482"
      ]
     },
     "execution_count": 257,
     "metadata": {},
     "output_type": "execute_result"
    }
   ],
   "source": [
    "rmse"
   ]
  },
  {
   "cell_type": "code",
   "execution_count": 267,
   "metadata": {},
   "outputs": [],
   "source": [
    "X = df[[\"50_target\"]]\n",
    "y = df[\"90_target\"]\n",
    "reg = LinearRegression()\n",
    "model = reg.fit(X, y)"
   ]
  },
  {
   "cell_type": "code",
   "execution_count": 269,
   "metadata": {},
   "outputs": [
    {
     "data": {
      "text/plain": [
       "array([ 35.33362433,  35.35143882,  35.35975225,  -0.3998825 ,\n",
       "       -36.23552578, -36.23047834, -36.22899379, -36.22097727,\n",
       "       -36.20227205, -36.20791331])"
      ]
     },
     "execution_count": 269,
     "metadata": {},
     "output_type": "execute_result"
    }
   ],
   "source": [
    "reg.predict(X)[0:10]"
   ]
  },
  {
   "cell_type": "code",
   "execution_count": 270,
   "metadata": {},
   "outputs": [
    {
     "data": {
      "text/plain": [
       "0    36.997753\n",
       "1    37.016198\n",
       "2   -37.024805\n",
       "3   -37.040483\n",
       "4   -37.103503\n",
       "5   -37.098277\n",
       "6   -37.096740\n",
       "7   -37.088440\n",
       "8   -37.069073\n",
       "9   -37.074913\n",
       "Name: 90_target, dtype: float64"
      ]
     },
     "execution_count": 270,
     "metadata": {},
     "output_type": "execute_result"
    }
   ],
   "source": [
    "y[0:10]"
   ]
  },
  {
   "cell_type": "code",
   "execution_count": 271,
   "metadata": {},
   "outputs": [],
   "source": [
    "import pandas as pd "
   ]
  },
  {
   "cell_type": "code",
   "execution_count": 272,
   "metadata": {},
   "outputs": [],
   "source": [
    "k_t = pd.DataFrame({\"gercek_y\": y[0:10],\n",
    "                   \"tahmin_y\": reg.predict(X)[0:10]})"
   ]
  },
  {
   "cell_type": "code",
   "execution_count": 273,
   "metadata": {},
   "outputs": [
    {
     "data": {
      "text/html": [
       "<div>\n",
       "<style scoped>\n",
       "    .dataframe tbody tr th:only-of-type {\n",
       "        vertical-align: middle;\n",
       "    }\n",
       "\n",
       "    .dataframe tbody tr th {\n",
       "        vertical-align: top;\n",
       "    }\n",
       "\n",
       "    .dataframe thead th {\n",
       "        text-align: right;\n",
       "    }\n",
       "</style>\n",
       "<table border=\"1\" class=\"dataframe\">\n",
       "  <thead>\n",
       "    <tr style=\"text-align: right;\">\n",
       "      <th></th>\n",
       "      <th>gercek_y</th>\n",
       "      <th>tahmin_y</th>\n",
       "    </tr>\n",
       "  </thead>\n",
       "  <tbody>\n",
       "    <tr>\n",
       "      <th>0</th>\n",
       "      <td>36.997753</td>\n",
       "      <td>35.333624</td>\n",
       "    </tr>\n",
       "    <tr>\n",
       "      <th>1</th>\n",
       "      <td>37.016198</td>\n",
       "      <td>35.351439</td>\n",
       "    </tr>\n",
       "    <tr>\n",
       "      <th>2</th>\n",
       "      <td>-37.024805</td>\n",
       "      <td>35.359752</td>\n",
       "    </tr>\n",
       "    <tr>\n",
       "      <th>3</th>\n",
       "      <td>-37.040483</td>\n",
       "      <td>-0.399883</td>\n",
       "    </tr>\n",
       "    <tr>\n",
       "      <th>4</th>\n",
       "      <td>-37.103503</td>\n",
       "      <td>-36.235526</td>\n",
       "    </tr>\n",
       "    <tr>\n",
       "      <th>5</th>\n",
       "      <td>-37.098277</td>\n",
       "      <td>-36.230478</td>\n",
       "    </tr>\n",
       "    <tr>\n",
       "      <th>6</th>\n",
       "      <td>-37.096740</td>\n",
       "      <td>-36.228994</td>\n",
       "    </tr>\n",
       "    <tr>\n",
       "      <th>7</th>\n",
       "      <td>-37.088440</td>\n",
       "      <td>-36.220977</td>\n",
       "    </tr>\n",
       "    <tr>\n",
       "      <th>8</th>\n",
       "      <td>-37.069073</td>\n",
       "      <td>-36.202272</td>\n",
       "    </tr>\n",
       "    <tr>\n",
       "      <th>9</th>\n",
       "      <td>-37.074913</td>\n",
       "      <td>-36.207913</td>\n",
       "    </tr>\n",
       "  </tbody>\n",
       "</table>\n",
       "</div>"
      ],
      "text/plain": [
       "    gercek_y   tahmin_y\n",
       "0  36.997753  35.333624\n",
       "1  37.016198  35.351439\n",
       "2 -37.024805  35.359752\n",
       "3 -37.040483  -0.399883\n",
       "4 -37.103503 -36.235526\n",
       "5 -37.098277 -36.230478\n",
       "6 -37.096740 -36.228994\n",
       "7 -37.088440 -36.220977\n",
       "8 -37.069073 -36.202272\n",
       "9 -37.074913 -36.207913"
      ]
     },
     "execution_count": 273,
     "metadata": {},
     "output_type": "execute_result"
    }
   ],
   "source": [
    "k_t"
   ]
  },
  {
   "cell_type": "code",
   "execution_count": 274,
   "metadata": {},
   "outputs": [],
   "source": [
    "k_t[\"hata\"] = k_t[\"gercek_y\"] - k_t[\"tahmin_y\"]"
   ]
  },
  {
   "cell_type": "code",
   "execution_count": 275,
   "metadata": {},
   "outputs": [
    {
     "data": {
      "text/html": [
       "<div>\n",
       "<style scoped>\n",
       "    .dataframe tbody tr th:only-of-type {\n",
       "        vertical-align: middle;\n",
       "    }\n",
       "\n",
       "    .dataframe tbody tr th {\n",
       "        vertical-align: top;\n",
       "    }\n",
       "\n",
       "    .dataframe thead th {\n",
       "        text-align: right;\n",
       "    }\n",
       "</style>\n",
       "<table border=\"1\" class=\"dataframe\">\n",
       "  <thead>\n",
       "    <tr style=\"text-align: right;\">\n",
       "      <th></th>\n",
       "      <th>gercek_y</th>\n",
       "      <th>tahmin_y</th>\n",
       "      <th>hata</th>\n",
       "    </tr>\n",
       "  </thead>\n",
       "  <tbody>\n",
       "    <tr>\n",
       "      <th>0</th>\n",
       "      <td>36.997753</td>\n",
       "      <td>35.333624</td>\n",
       "      <td>1.664128</td>\n",
       "    </tr>\n",
       "    <tr>\n",
       "      <th>1</th>\n",
       "      <td>37.016198</td>\n",
       "      <td>35.351439</td>\n",
       "      <td>1.664759</td>\n",
       "    </tr>\n",
       "    <tr>\n",
       "      <th>2</th>\n",
       "      <td>-37.024805</td>\n",
       "      <td>35.359752</td>\n",
       "      <td>-72.384557</td>\n",
       "    </tr>\n",
       "    <tr>\n",
       "      <th>3</th>\n",
       "      <td>-37.040483</td>\n",
       "      <td>-0.399883</td>\n",
       "      <td>-36.640601</td>\n",
       "    </tr>\n",
       "    <tr>\n",
       "      <th>4</th>\n",
       "      <td>-37.103503</td>\n",
       "      <td>-36.235526</td>\n",
       "      <td>-0.867977</td>\n",
       "    </tr>\n",
       "    <tr>\n",
       "      <th>5</th>\n",
       "      <td>-37.098277</td>\n",
       "      <td>-36.230478</td>\n",
       "      <td>-0.867798</td>\n",
       "    </tr>\n",
       "    <tr>\n",
       "      <th>6</th>\n",
       "      <td>-37.096740</td>\n",
       "      <td>-36.228994</td>\n",
       "      <td>-0.867746</td>\n",
       "    </tr>\n",
       "    <tr>\n",
       "      <th>7</th>\n",
       "      <td>-37.088440</td>\n",
       "      <td>-36.220977</td>\n",
       "      <td>-0.867462</td>\n",
       "    </tr>\n",
       "    <tr>\n",
       "      <th>8</th>\n",
       "      <td>-37.069073</td>\n",
       "      <td>-36.202272</td>\n",
       "      <td>-0.866800</td>\n",
       "    </tr>\n",
       "    <tr>\n",
       "      <th>9</th>\n",
       "      <td>-37.074913</td>\n",
       "      <td>-36.207913</td>\n",
       "      <td>-0.867000</td>\n",
       "    </tr>\n",
       "  </tbody>\n",
       "</table>\n",
       "</div>"
      ],
      "text/plain": [
       "    gercek_y   tahmin_y       hata\n",
       "0  36.997753  35.333624   1.664128\n",
       "1  37.016198  35.351439   1.664759\n",
       "2 -37.024805  35.359752 -72.384557\n",
       "3 -37.040483  -0.399883 -36.640601\n",
       "4 -37.103503 -36.235526  -0.867977\n",
       "5 -37.098277 -36.230478  -0.867798\n",
       "6 -37.096740 -36.228994  -0.867746\n",
       "7 -37.088440 -36.220977  -0.867462\n",
       "8 -37.069073 -36.202272  -0.866800\n",
       "9 -37.074913 -36.207913  -0.867000"
      ]
     },
     "execution_count": 275,
     "metadata": {},
     "output_type": "execute_result"
    }
   ],
   "source": [
    "k_t"
   ]
  },
  {
   "cell_type": "code",
   "execution_count": 276,
   "metadata": {},
   "outputs": [],
   "source": [
    "k_t[\"hata_kare\"] = k_t[\"hata\"]**2"
   ]
  },
  {
   "cell_type": "code",
   "execution_count": 277,
   "metadata": {},
   "outputs": [
    {
     "data": {
      "text/html": [
       "<div>\n",
       "<style scoped>\n",
       "    .dataframe tbody tr th:only-of-type {\n",
       "        vertical-align: middle;\n",
       "    }\n",
       "\n",
       "    .dataframe tbody tr th {\n",
       "        vertical-align: top;\n",
       "    }\n",
       "\n",
       "    .dataframe thead th {\n",
       "        text-align: right;\n",
       "    }\n",
       "</style>\n",
       "<table border=\"1\" class=\"dataframe\">\n",
       "  <thead>\n",
       "    <tr style=\"text-align: right;\">\n",
       "      <th></th>\n",
       "      <th>gercek_y</th>\n",
       "      <th>tahmin_y</th>\n",
       "      <th>hata</th>\n",
       "      <th>hata_kare</th>\n",
       "    </tr>\n",
       "  </thead>\n",
       "  <tbody>\n",
       "    <tr>\n",
       "      <th>0</th>\n",
       "      <td>36.997753</td>\n",
       "      <td>35.333624</td>\n",
       "      <td>1.664128</td>\n",
       "      <td>2.769323</td>\n",
       "    </tr>\n",
       "    <tr>\n",
       "      <th>1</th>\n",
       "      <td>37.016198</td>\n",
       "      <td>35.351439</td>\n",
       "      <td>1.664759</td>\n",
       "      <td>2.771422</td>\n",
       "    </tr>\n",
       "    <tr>\n",
       "      <th>2</th>\n",
       "      <td>-37.024805</td>\n",
       "      <td>35.359752</td>\n",
       "      <td>-72.384557</td>\n",
       "      <td>5239.524139</td>\n",
       "    </tr>\n",
       "    <tr>\n",
       "      <th>3</th>\n",
       "      <td>-37.040483</td>\n",
       "      <td>-0.399883</td>\n",
       "      <td>-36.640601</td>\n",
       "      <td>1342.533614</td>\n",
       "    </tr>\n",
       "    <tr>\n",
       "      <th>4</th>\n",
       "      <td>-37.103503</td>\n",
       "      <td>-36.235526</td>\n",
       "      <td>-0.867977</td>\n",
       "      <td>0.753384</td>\n",
       "    </tr>\n",
       "    <tr>\n",
       "      <th>5</th>\n",
       "      <td>-37.098277</td>\n",
       "      <td>-36.230478</td>\n",
       "      <td>-0.867798</td>\n",
       "      <td>0.753074</td>\n",
       "    </tr>\n",
       "    <tr>\n",
       "      <th>6</th>\n",
       "      <td>-37.096740</td>\n",
       "      <td>-36.228994</td>\n",
       "      <td>-0.867746</td>\n",
       "      <td>0.752983</td>\n",
       "    </tr>\n",
       "    <tr>\n",
       "      <th>7</th>\n",
       "      <td>-37.088440</td>\n",
       "      <td>-36.220977</td>\n",
       "      <td>-0.867462</td>\n",
       "      <td>0.752491</td>\n",
       "    </tr>\n",
       "    <tr>\n",
       "      <th>8</th>\n",
       "      <td>-37.069073</td>\n",
       "      <td>-36.202272</td>\n",
       "      <td>-0.866800</td>\n",
       "      <td>0.751343</td>\n",
       "    </tr>\n",
       "    <tr>\n",
       "      <th>9</th>\n",
       "      <td>-37.074913</td>\n",
       "      <td>-36.207913</td>\n",
       "      <td>-0.867000</td>\n",
       "      <td>0.751689</td>\n",
       "    </tr>\n",
       "  </tbody>\n",
       "</table>\n",
       "</div>"
      ],
      "text/plain": [
       "    gercek_y   tahmin_y       hata    hata_kare\n",
       "0  36.997753  35.333624   1.664128     2.769323\n",
       "1  37.016198  35.351439   1.664759     2.771422\n",
       "2 -37.024805  35.359752 -72.384557  5239.524139\n",
       "3 -37.040483  -0.399883 -36.640601  1342.533614\n",
       "4 -37.103503 -36.235526  -0.867977     0.753384\n",
       "5 -37.098277 -36.230478  -0.867798     0.753074\n",
       "6 -37.096740 -36.228994  -0.867746     0.752983\n",
       "7 -37.088440 -36.220977  -0.867462     0.752491\n",
       "8 -37.069073 -36.202272  -0.866800     0.751343\n",
       "9 -37.074913 -36.207913  -0.867000     0.751689"
      ]
     },
     "execution_count": 277,
     "metadata": {},
     "output_type": "execute_result"
    }
   ],
   "source": [
    "k_t"
   ]
  },
  {
   "cell_type": "code",
   "execution_count": 278,
   "metadata": {},
   "outputs": [
    {
     "data": {
      "text/plain": [
       "6592.113462128986"
      ]
     },
     "execution_count": 278,
     "metadata": {},
     "output_type": "execute_result"
    }
   ],
   "source": [
    "np.sum(k_t[\"hata_kare\"])"
   ]
  },
  {
   "cell_type": "code",
   "execution_count": 279,
   "metadata": {},
   "outputs": [
    {
     "data": {
      "text/plain": [
       "659.2113462128985"
      ]
     },
     "execution_count": 279,
     "metadata": {},
     "output_type": "execute_result"
    }
   ],
   "source": [
    "np.mean(k_t[\"hata_kare\"])"
   ]
  },
  {
   "cell_type": "code",
   "execution_count": 280,
   "metadata": {},
   "outputs": [
    {
     "data": {
      "text/plain": [
       "25.675111415783547"
      ]
     },
     "execution_count": 280,
     "metadata": {},
     "output_type": "execute_result"
    }
   ],
   "source": [
    "np.sqrt(np.mean(k_t[\"hata_kare\"]))"
   ]
  },
  {
   "cell_type": "code",
   "execution_count": null,
   "metadata": {},
   "outputs": [],
   "source": [
    "model.resid[0:10]"
   ]
  },
  {
   "cell_type": "code",
   "execution_count": null,
   "metadata": {},
   "outputs": [],
   "source": [
    "import matplotlib.pyplot as plt\n",
    "plt.plot(model.resid)"
   ]
  },
  {
   "cell_type": "code",
   "execution_count": null,
   "metadata": {},
   "outputs": [],
   "source": []
  }
 ],
 "metadata": {
  "kernelspec": {
   "display_name": "Python 3",
   "language": "python",
   "name": "python3"
  },
  "language_info": {
   "codemirror_mode": {
    "name": "ipython",
    "version": 3
   },
   "file_extension": ".py",
   "mimetype": "text/x-python",
   "name": "python",
   "nbconvert_exporter": "python",
   "pygments_lexer": "ipython3",
   "version": "3.7.6"
  }
 },
 "nbformat": 4,
 "nbformat_minor": 4
}
